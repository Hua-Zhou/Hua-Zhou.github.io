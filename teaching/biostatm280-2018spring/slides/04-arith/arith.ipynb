{
 "cells": [
  {
   "cell_type": "markdown",
   "metadata": {},
   "source": [
    "# Computer arithmetics"
   ]
  },
  {
   "cell_type": "markdown",
   "metadata": {},
   "source": [
    "## Units of computer storage\n",
    "\n",
    "* `bit` = `binary` + `digit` (coined by statistician [John Tukey](https://en.wikipedia.org/wiki/Bit#History)).  \n",
    "* `byte` = 8 bits.  \n",
    "* KB = kilobyte = $10^3$ bytes.  \n",
    "* MB = megabytes = $10^6$ bytes.  \n",
    "* GB = gigabytes = $10^9$ bytes. Typical RAM size.  \n",
    "* TB = terabytes = $10^{12}$ bytes. Typical hard drive size. Size of NYSE each trading session.    \n",
    "* PB = petabytes = $10^{15}$ bytes.  \n",
    "* EB = exabytes = $10^{18}$ bytes. Size of all healthcare data in 2011 is ~150 EB.    \n",
    "* ZB = zetabytes = $10^{21}$ bytes. \n",
    "\n",
    "Julia function `Base.summarysize` shows the amount of memory (in bytes) used by an object."
   ]
  },
  {
   "cell_type": "code",
   "execution_count": 1,
   "metadata": {},
   "outputs": [
    {
     "data": {
      "text/plain": [
       "80000"
      ]
     },
     "execution_count": 1,
     "metadata": {},
     "output_type": "execute_result"
    }
   ],
   "source": [
    "x = rand(100, 100)\n",
    "Base.summarysize(x)"
   ]
  },
  {
   "cell_type": "markdown",
   "metadata": {},
   "source": [
    "`whos()` function prints all variables in workspace and their sizes."
   ]
  },
  {
   "cell_type": "code",
   "execution_count": 2,
   "metadata": {},
   "outputs": [
    {
     "name": "stdout",
     "output_type": "stream",
     "text": [
      "                          Base               Module\n",
      "                        Compat  19628 KB     Module\n",
      "                          Core               Module\n",
      "                        IJulia  19702 KB     Module\n",
      "                          JSON  19539 KB     Module\n",
      "                          Main               Module\n",
      "                       MbedTLS  19564 KB     Module\n",
      "                     Nullables   1120 bytes  Module\n",
      "                           ZMQ  19510 KB     Module\n",
      "                             x     78 KB     100×100 Array{Float64,2}\n"
     ]
    }
   ],
   "source": [
    "whos()"
   ]
  },
  {
   "cell_type": "markdown",
   "metadata": {},
   "source": [
    "## Storage of Characters\n",
    "\n",
    "* Plain text files are stored in the form of characters: `.jl`, `.r`, `.c`, `.cpp`, `.ipynb`, `.html`, `.tex`, ...  \n",
    "* ASCII (American Code for Information Interchange): 7 bits, only $2^7=128$ characters.  "
   ]
  },
  {
   "cell_type": "code",
   "execution_count": 3,
   "metadata": {},
   "outputs": [
    {
     "data": {
      "text/plain": [
       "128×2 Array{Any,2}:\n",
       "   0  '\\0'  \n",
       "   1  '\\x01'\n",
       "   2  '\\x02'\n",
       "   3  '\\x03'\n",
       "   4  '\\x04'\n",
       "   5  '\\x05'\n",
       "   6  '\\x06'\n",
       "   7  '\\a'  \n",
       "   8  '\\b'  \n",
       "   9  '\\t'  \n",
       "  10  '\\n'  \n",
       "  11  '\\v'  \n",
       "  12  '\\f'  \n",
       "   ⋮        \n",
       " 116  't'   \n",
       " 117  'u'   \n",
       " 118  'v'   \n",
       " 119  'w'   \n",
       " 120  'x'   \n",
       " 121  'y'   \n",
       " 122  'z'   \n",
       " 123  '{'   \n",
       " 124  '|'   \n",
       " 125  '}'   \n",
       " 126  '~'   \n",
       " 127  '\\x7f'"
      ]
     },
     "execution_count": 3,
     "metadata": {},
     "output_type": "execute_result"
    }
   ],
   "source": [
    "# integers 0, 1, ..., 127 and corresponding ascii character\n",
    "# show(STDOUT, \"text/plain\", [0:127 Char.(0:127)]) \n",
    "[0:127 Char.(0:127)] "
   ]
  },
  {
   "cell_type": "markdown",
   "metadata": {},
   "source": [
    "* Extended ASCII: 8 bits, $2^8=256$ characters.  "
   ]
  },
  {
   "cell_type": "code",
   "execution_count": 4,
   "metadata": {},
   "outputs": [
    {
     "data": {
      "text/plain": [
       "128×2 Array{Any,2}:\n",
       " 128  '\\u80'\n",
       " 129  '\\u81'\n",
       " 130  '\\u82'\n",
       " 131  '\\u83'\n",
       " 132  '\\u84'\n",
       " 133  '\\u85'\n",
       " 134  '\\u86'\n",
       " 135  '\\u87'\n",
       " 136  '\\u88'\n",
       " 137  '\\u89'\n",
       " 138  '\\u8a'\n",
       " 139  '\\u8b'\n",
       " 140  '\\u8c'\n",
       "   ⋮        \n",
       " 244  'ô'   \n",
       " 245  'õ'   \n",
       " 246  'ö'   \n",
       " 247  '÷'   \n",
       " 248  'ø'   \n",
       " 249  'ù'   \n",
       " 250  'ú'   \n",
       " 251  'û'   \n",
       " 252  'ü'   \n",
       " 253  'ý'   \n",
       " 254  'þ'   \n",
       " 255  'ÿ'   "
      ]
     },
     "execution_count": 4,
     "metadata": {},
     "output_type": "execute_result"
    }
   ],
   "source": [
    "# integers 128, 129, ..., 255 and corresponding extended ascii character\n",
    "# show(STDOUT, \"text/plain\", [128:255 Char.(128:255)])\n",
    "[128:255 Char.(128:255)]"
   ]
  },
  {
   "cell_type": "markdown",
   "metadata": {},
   "source": [
    "* Unicode: UTF-8, UTF-16 and UTF-32 support many more characters including foreign characters; last 7 digits conform to ASCII. \n",
    "\n",
    "* [UTF-8](https://en.wikipedia.org/wiki/UTF-8) is the current dominant character encoding on internet.  \n",
    "\n",
    "<img src=\"https://upload.wikimedia.org/wikipedia/commons/c/c4/Utf8webgrowth.svg\" width=\"500\" align=\"center\"/>\n",
    "\n",
    "* Julia supports the full range of UTF-8 characters. You can type many Unicode math symbols by typing the backslashed LaTeX symbol name followed by tab. "
   ]
  },
  {
   "cell_type": "code",
   "execution_count": 5,
   "metadata": {},
   "outputs": [
    {
     "data": {
      "text/plain": [
       "0.0"
      ]
     },
     "execution_count": 5,
     "metadata": {},
     "output_type": "execute_result"
    }
   ],
   "source": [
    "# \\beta-<tab>\n",
    "β = 0.0\n",
    "# \\beta-<tab>-\\hat-<tab>\n",
    "β̂ = 0.0"
   ]
  },
  {
   "cell_type": "markdown",
   "metadata": {},
   "source": [
    "## Fixed-point number system\n",
    "\n",
    "* Fixed-point number system is a computer model for integers $\\mathbb{Z}$. \n",
    "\n",
    "* The number of bits and method of representing negative numbers vary from system to system. \n",
    "    - The `integer` type in R has $M=32$ or 64 bits. \n",
    "    - Matlab has `(u)int8`, `(u)int16`, `(u)int32`, `(u)int64`.  \n",
    "    - Julia has even more integer types. Using Tom Breloff's `Plots.jl` and `PlotRecipes.jl` packages, we can [visualize the type tree](http://www.breloff.com/Graphs/) under `Integer`\n",
    "    - Storage for a `Signed` or `Unsigned` integer can be $M = 8, 16, 32, 64$ or 128 bits."
   ]
  },
  {
   "cell_type": "code",
   "execution_count": 6,
   "metadata": {},
   "outputs": [
    {
     "name": "stderr",
     "output_type": "stream",
     "text": [
      "\u001b[1m\u001b[33mWARNING: \u001b[39m\u001b[22m\u001b[33mInstall LightGraphs for the best layout calculations.\u001b[39m\n"
     ]
    },
    {
     "data": {
      "image/svg+xml": [
       "<?xml version=\"1.0\" encoding=\"utf-8\"?>\n",
       "<svg xmlns=\"http://www.w3.org/2000/svg\" xmlns:xlink=\"http://www.w3.org/1999/xlink\" width=\"800\" height=\"500\" viewBox=\"0 0 800 500\">\n",
       "<defs>\n",
       "  <clipPath id=\"clip7800\">\n",
       "    <rect x=\"0\" y=\"0\" width=\"800\" height=\"500\"/>\n",
       "  </clipPath>\n",
       "</defs>\n",
       "<polygon clip-path=\"url(#clip7800)\" points=\"\n",
       "0,500 800,500 800,0 0,0 \n",
       "  \" fill=\"#ffffff\" fill-opacity=\"1\"/>\n",
       "<defs>\n",
       "  <clipPath id=\"clip7801\">\n",
       "    <rect x=\"160\" y=\"0\" width=\"561\" height=\"500\"/>\n",
       "  </clipPath>\n",
       "</defs>\n",
       "<polygon clip-path=\"url(#clip7800)\" points=\"\n",
       "15.748,484.252 780.315,484.252 780.315,11.811 15.748,11.811 \n",
       "  \" fill=\"#ffffff\" fill-opacity=\"1\"/>\n",
       "<defs>\n",
       "  <clipPath id=\"clip7802\">\n",
       "    <rect x=\"15\" y=\"11\" width=\"766\" height=\"473\"/>\n",
       "  </clipPath>\n",
       "</defs>\n",
       "<polyline clip-path=\"url(#clip7800)\" style=\"stroke:#000000; stroke-width:1; stroke-opacity:1; fill:none\" points=\"\n",
       "  15.748,484.252 780.315,484.252 \n",
       "  \"/>\n",
       "<polyline clip-path=\"url(#clip7800)\" style=\"stroke:#000000; stroke-width:1; stroke-opacity:1; fill:none\" points=\"\n",
       "  15.748,484.252 15.748,11.811 \n",
       "  \"/>\n",
       "<polyline clip-path=\"url(#clip7802)\" style=\"stroke:#d968a2; stroke-width:1; stroke-opacity:0.5; fill:none\" points=\"\n",
       "  476.26,79.3026 476.057,81.3573 475.465,83.3139 474.515,85.1795 473.234,86.9616 471.651,88.6673 469.796,90.3039 467.696,91.8787 465.38,93.399 462.878,94.872 \n",
       "  460.218,96.305 457.429,97.7053 454.539,99.0802 451.577,100.437 448.573,101.783 445.553,103.125 442.548,104.471 439.587,105.827 436.697,107.202 433.907,108.602 \n",
       "  431.247,110.035 428.745,111.508 426.43,113.029 424.33,114.604 422.475,116.24 420.892,117.946 419.611,119.728 418.661,121.594 418.069,123.55 417.866,125.605 \n",
       "  \n",
       "  \"/>\n",
       "<polyline clip-path=\"url(#clip7802)\" style=\"stroke:#d968a2; stroke-width:1; stroke-opacity:0.5; fill:none\" points=\"\n",
       "  417.866,125.605 417.721,127.736 417.302,129.85 416.628,131.946 415.72,134.027 414.598,136.094 413.282,138.148 411.794,140.191 410.152,142.223 408.378,144.247 \n",
       "  406.492,146.263 404.514,148.273 402.465,150.279 400.366,152.281 398.235,154.281 396.095,156.28 393.964,158.28 391.864,160.282 389.815,162.288 387.838,164.298 \n",
       "  385.952,166.314 384.178,168.338 382.536,170.37 381.047,172.413 379.732,174.467 378.61,176.534 377.702,178.615 377.028,180.711 376.608,182.825 376.464,184.956 \n",
       "  \n",
       "  \"/>\n",
       "<polyline clip-path=\"url(#clip7802)\" style=\"stroke:#d968a2; stroke-width:1; stroke-opacity:0.5; fill:none\" points=\"\n",
       "  376.464,184.956 376.525,187.54 376.704,190.17 376.99,192.842 377.376,195.553 377.853,198.299 378.412,201.078 379.045,203.885 379.742,206.718 380.496,209.573 \n",
       "  381.297,212.446 382.138,215.335 383.009,218.236 383.901,221.145 384.806,224.059 385.716,226.975 386.621,229.889 387.514,232.798 388.385,235.698 389.225,238.587 \n",
       "  390.027,241.461 390.78,244.315 391.478,247.148 392.111,249.956 392.67,252.734 393.147,255.481 393.533,258.192 393.819,260.864 393.997,263.493 394.058,266.077 \n",
       "  \n",
       "  \"/>\n",
       "<polyline clip-path=\"url(#clip7802)\" style=\"stroke:#d968a2; stroke-width:1; stroke-opacity:0.5; fill:none\" points=\"\n",
       "  394.058,266.077 394.175,268.384 394.515,270.702 395.062,273.031 395.798,275.369 396.708,277.716 397.775,280.071 398.982,282.434 400.313,284.802 401.751,287.176 \n",
       "  403.28,289.555 404.883,291.937 406.545,294.322 408.247,296.71 409.974,299.099 411.71,301.488 413.437,303.876 415.14,306.264 416.801,308.649 418.405,311.032 \n",
       "  419.934,313.41 421.372,315.784 422.703,318.153 423.91,320.515 424.977,322.87 425.886,325.217 426.623,327.555 427.169,329.884 427.509,332.202 427.626,334.509 \n",
       "  \n",
       "  \"/>\n",
       "<polyline clip-path=\"url(#clip7802)\" style=\"stroke:#d968a2; stroke-width:1; stroke-opacity:0.5; fill:none\" points=\"\n",
       "  394.058,266.077 393.898,268.25 393.432,270.39 392.683,272.501 391.673,274.585 390.426,276.644 388.963,278.681 387.308,280.697 385.484,282.696 383.512,284.68 \n",
       "  381.415,286.651 379.217,288.611 376.939,290.563 374.605,292.51 372.237,294.452 369.857,296.394 367.489,298.336 365.154,300.283 362.877,302.235 360.678,304.195 \n",
       "  358.582,306.166 356.61,308.15 354.785,310.149 353.13,312.166 351.668,314.202 350.42,316.261 349.411,318.345 348.661,320.456 348.195,322.597 348.035,324.769 \n",
       "  \n",
       "  \"/>\n",
       "<polyline clip-path=\"url(#clip7802)\" style=\"stroke:#d968a2; stroke-width:1; stroke-opacity:0.5; fill:none\" points=\"\n",
       "  394.058,266.077 393.475,268.393 391.781,270.555 389.058,272.575 385.388,274.463 380.853,276.232 375.537,277.892 369.521,279.456 362.887,280.934 355.719,282.337 \n",
       "  348.097,283.679 340.106,284.969 331.826,286.219 323.34,287.44 314.731,288.645 306.081,289.843 297.471,291.048 288.986,292.269 280.706,293.519 272.714,294.809 \n",
       "  265.093,296.151 257.924,297.554 251.291,299.032 245.275,300.596 239.958,302.256 235.424,304.025 231.754,305.913 229.031,307.933 227.336,310.095 226.753,312.411 \n",
       "  \n",
       "  \"/>\n",
       "<polyline clip-path=\"url(#clip7802)\" style=\"stroke:#d968a2; stroke-width:1; stroke-opacity:0.5; fill:none\" points=\"\n",
       "  226.753,312.411 226.882,315.815 227.258,319.261 227.861,322.745 228.674,326.265 229.678,329.817 230.855,333.399 232.188,337.006 233.657,340.637 235.245,344.287 \n",
       "  236.933,347.955 238.703,351.636 240.537,355.328 242.417,359.028 244.324,362.733 246.24,366.438 248.146,370.143 250.026,373.843 251.86,377.535 253.63,381.216 \n",
       "  255.318,384.884 256.906,388.534 258.375,392.165 259.708,395.772 260.885,399.354 261.889,402.906 262.702,406.426 263.306,409.91 263.681,413.356 263.81,416.76 \n",
       "  \n",
       "  \"/>\n",
       "<polyline clip-path=\"url(#clip7802)\" style=\"stroke:#d968a2; stroke-width:1; stroke-opacity:0.5; fill:none\" points=\"\n",
       "  226.753,312.411 226.398,315.782 225.368,318.957 223.711,321.949 221.478,324.774 218.72,327.445 215.485,329.978 211.825,332.387 207.79,334.686 203.429,336.89 \n",
       "  198.792,339.015 193.931,341.073 188.893,343.081 183.731,345.051 178.494,347.001 173.231,348.942 167.994,350.891 162.832,352.862 157.794,354.87 152.933,356.928 \n",
       "  148.296,359.053 143.935,361.257 139.9,363.556 136.24,365.965 133.005,368.498 130.247,371.169 128.014,373.994 126.357,376.986 125.327,380.161 124.972,383.532 \n",
       "  \n",
       "  \"/>\n",
       "<polyline clip-path=\"url(#clip7802)\" style=\"stroke:#d968a2; stroke-width:1; stroke-opacity:0.5; fill:none\" points=\"\n",
       "  226.753,312.411 226.485,315.231 225.706,317.935 224.455,320.531 222.768,323.027 220.684,325.433 218.24,327.756 215.475,330.005 212.426,332.19 209.131,334.318 \n",
       "  205.628,336.399 201.955,338.441 198.149,340.452 194.249,342.442 190.292,344.419 186.316,346.392 182.359,348.369 178.459,350.359 174.654,352.37 170.98,354.412 \n",
       "  167.478,356.493 164.183,358.621 161.134,360.806 158.369,363.055 155.925,365.378 153.841,367.784 152.154,370.28 150.902,372.876 150.124,375.58 149.856,378.4 \n",
       "  \n",
       "  \"/>\n",
       "<polyline clip-path=\"url(#clip7802)\" style=\"stroke:#d968a2; stroke-width:1; stroke-opacity:0.5; fill:none\" points=\"\n",
       "  226.753,312.411 226.597,315.371 226.142,318.342 225.411,321.322 224.426,324.311 223.209,327.308 221.782,330.312 220.167,333.322 218.387,336.339 216.463,339.36 \n",
       "  214.417,342.385 212.272,345.414 210.05,348.445 207.772,351.479 205.461,354.513 203.14,357.548 200.829,360.582 198.551,363.616 196.329,366.647 194.184,369.676 \n",
       "  192.138,372.701 190.214,375.722 188.434,378.739 186.819,381.749 185.392,384.753 184.175,387.75 183.19,390.739 182.459,393.719 182.004,396.69 181.848,399.651 \n",
       "  \n",
       "  \"/>\n",
       "<polyline clip-path=\"url(#clip7802)\" style=\"stroke:#d968a2; stroke-width:1; stroke-opacity:0.5; fill:none\" points=\"\n",
       "  226.753,312.411 226.742,315.488 226.709,318.63 226.656,321.832 226.584,325.089 226.496,328.397 226.392,331.75 226.275,335.145 226.146,338.575 226.006,342.037 \n",
       "  225.857,345.525 225.702,349.034 225.54,352.561 225.375,356.099 225.207,359.645 225.038,363.193 224.871,366.739 224.705,370.277 224.544,373.803 224.388,377.313 \n",
       "  224.24,380.801 224.1,384.263 223.971,387.693 223.853,391.087 223.75,394.441 223.661,397.749 223.59,401.006 223.537,404.208 223.504,407.35 223.492,410.427 \n",
       "  \n",
       "  \"/>\n",
       "<polyline clip-path=\"url(#clip7802)\" style=\"stroke:#d968a2; stroke-width:1; stroke-opacity:0.5; fill:none\" points=\"\n",
       "  394.058,266.077 394.657,268.851 396.397,271.44 399.192,273.858 402.96,276.119 407.615,278.237 413.073,280.226 419.249,282.098 426.059,283.868 433.419,285.549 \n",
       "  441.243,287.155 449.447,288.7 457.948,290.197 466.659,291.66 475.497,293.102 484.378,294.538 493.216,295.98 501.928,297.443 510.428,298.94 518.633,300.485 \n",
       "  526.457,302.091 533.816,303.772 540.626,305.542 546.802,307.414 552.26,309.403 556.915,311.521 560.683,313.782 563.479,316.201 565.218,318.79 565.817,321.563 \n",
       "  \n",
       "  \"/>\n",
       "<polyline clip-path=\"url(#clip7802)\" style=\"stroke:#d968a2; stroke-width:1; stroke-opacity:0.5; fill:none\" points=\"\n",
       "  565.817,321.563 566.184,324.905 567.25,328.024 568.964,330.938 571.273,333.663 574.126,336.216 577.471,338.611 581.257,340.868 585.431,343 589.942,345.026 \n",
       "  594.737,346.962 599.766,348.823 604.976,350.627 610.315,352.39 615.733,354.128 621.176,355.858 626.593,357.596 631.932,359.358 637.142,361.162 642.171,363.023 \n",
       "  646.966,364.959 651.477,366.985 655.651,369.118 659.437,371.374 662.782,373.77 665.635,376.322 667.944,379.047 669.658,381.961 670.724,385.081 671.091,388.422 \n",
       "  \n",
       "  \"/>\n",
       "<polyline clip-path=\"url(#clip7802)\" style=\"stroke:#d968a2; stroke-width:1; stroke-opacity:0.5; fill:none\" points=\"\n",
       "  565.817,321.563 565.981,324.441 566.457,327.321 567.223,330.203 568.255,333.085 569.53,335.969 571.025,338.853 572.717,341.739 574.582,344.625 576.598,347.512 \n",
       "  578.741,350.399 580.989,353.287 583.317,356.176 585.703,359.064 588.124,361.953 590.556,364.842 592.977,367.731 595.363,370.62 597.692,373.508 599.939,376.396 \n",
       "  602.082,379.283 604.098,382.17 605.963,385.057 607.655,387.942 609.15,390.827 610.425,393.71 611.457,396.593 612.223,399.474 612.699,402.354 612.863,405.233 \n",
       "  \n",
       "  \"/>\n",
       "<polyline clip-path=\"url(#clip7802)\" style=\"stroke:#d968a2; stroke-width:1; stroke-opacity:0.5; fill:none\" points=\"\n",
       "  565.817,321.563 565.685,324.39 565.302,327.238 564.685,330.106 563.854,332.991 562.828,335.894 561.625,338.811 560.263,341.741 558.761,344.683 557.139,347.635 \n",
       "  555.414,350.596 553.605,353.563 551.73,356.536 549.81,359.514 547.861,362.493 545.903,365.473 543.954,368.453 542.033,371.43 540.159,374.403 538.35,377.371 \n",
       "  536.625,380.331 535.002,383.284 533.501,386.226 532.139,389.156 530.936,392.073 529.909,394.975 529.079,397.86 528.462,400.728 528.079,403.576 527.947,406.403 \n",
       "  \n",
       "  \"/>\n",
       "<polyline clip-path=\"url(#clip7802)\" style=\"stroke:#d968a2; stroke-width:1; stroke-opacity:0.5; fill:none\" points=\"\n",
       "  565.817,321.563 565.855,323.792 565.965,326.064 566.141,328.376 566.379,330.725 566.673,333.108 567.018,335.521 567.408,337.962 567.838,340.426 568.303,342.911 \n",
       "  568.797,345.414 569.316,347.931 569.852,350.46 570.403,352.996 570.961,355.537 571.522,358.08 572.08,360.621 572.63,363.158 573.167,365.686 573.685,368.204 \n",
       "  574.18,370.706 574.645,373.192 575.075,375.656 575.465,378.096 575.81,380.509 576.104,382.892 576.342,385.241 576.518,387.554 576.628,389.826 576.666,392.055 \n",
       "  \n",
       "  \"/>\n",
       "<polyline clip-path=\"url(#clip7802)\" style=\"stroke:#d968a2; stroke-width:1; stroke-opacity:0.5; fill:none\" points=\"\n",
       "  565.817,321.563 566.101,324.382 566.927,327.059 568.254,329.603 570.043,332.026 572.253,334.337 574.844,336.548 577.776,338.669 581.009,340.711 584.503,342.683 \n",
       "  588.218,344.598 592.113,346.465 596.148,348.295 600.284,350.098 604.48,351.886 608.696,353.668 612.892,355.456 617.028,357.259 621.063,359.089 624.958,360.956 \n",
       "  628.673,362.871 632.166,364.843 635.399,366.885 638.332,369.006 640.923,371.217 643.133,373.528 644.921,375.951 646.249,378.495 647.075,381.172 647.359,383.991 \n",
       "  \n",
       "  \"/>\n",
       "<polygon clip-path=\"url(#clip7800)\" points=\"\n",
       "476.26,82.5505 483.011,80.9265 483.011,77.6787 476.26,76.0547 469.51,77.6787 469.51,80.9265 476.26,82.5505 \n",
       "  \" fill=\"#000000\" fill-opacity=\"0.5\"/>\n",
       "<polygon clip-path=\"url(#clip7800)\" points=\"\n",
       "476.26,82.294 482.478,80.7983 482.478,77.8069 476.26,76.3111 470.042,77.8069 470.042,80.7983 476.26,82.294 \n",
       "  \" fill=\"#009af9\" fill-opacity=\"1\"/>\n",
       "<polygon clip-path=\"url(#clip7800)\" points=\"\n",
       "417.866,128.725 430.834,127.165 430.834,124.045 417.866,122.485 404.898,124.045 404.898,127.165 417.866,128.725 \n",
       "  \" fill=\"#000000\" fill-opacity=\"0.5\"/>\n",
       "<polygon clip-path=\"url(#clip7800)\" points=\"\n",
       "417.866,128.596 430.301,127.101 430.301,124.109 417.866,122.613 405.43,124.109 405.43,127.101 417.866,128.596 \n",
       "  \" fill=\"#009af9\" fill-opacity=\"1\"/>\n",
       "<polygon clip-path=\"url(#clip7800)\" points=\"\n",
       "376.464,188.14 385.287,186.548 385.287,183.364 376.464,181.772 367.641,183.364 367.641,186.548 376.464,188.14 \n",
       "  \" fill=\"#000000\" fill-opacity=\"0.5\"/>\n",
       "<polygon clip-path=\"url(#clip7800)\" points=\"\n",
       "376.464,187.948 384.754,186.452 384.754,183.46 376.464,181.965 368.174,183.46 368.174,186.452 376.464,187.948 \n",
       "  \" fill=\"#009af9\" fill-opacity=\"1\"/>\n",
       "<polygon clip-path=\"url(#clip7800)\" points=\"\n",
       "394.058,269.179 409.099,267.628 409.099,264.527 394.058,262.976 379.018,264.527 379.018,267.628 394.058,269.179 \n",
       "  \" fill=\"#000000\" fill-opacity=\"0.5\"/>\n",
       "<polygon clip-path=\"url(#clip7800)\" points=\"\n",
       "394.058,269.069 408.566,267.573 408.566,264.582 394.058,263.086 379.551,264.582 379.551,267.573 394.058,269.069 \n",
       "  \" fill=\"#009af9\" fill-opacity=\"1\"/>\n",
       "<polygon clip-path=\"url(#clip7800)\" points=\"\n",
       "427.626,337.629 440.594,336.069 440.594,332.949 427.626,331.389 414.658,332.949 414.658,336.069 427.626,337.629 \n",
       "  \" fill=\"#000000\" fill-opacity=\"0.5\"/>\n",
       "<polygon clip-path=\"url(#clip7800)\" points=\"\n",
       "427.626,337.5 440.061,336.005 440.061,333.013 427.626,331.517 415.191,333.013 415.191,336.005 427.626,337.5 \n",
       "  \" fill=\"#009af9\" fill-opacity=\"1\"/>\n",
       "<polygon clip-path=\"url(#clip7800)\" points=\"\n",
       "348.035,327.952 356.858,326.36 356.858,323.177 348.035,321.585 339.212,323.177 339.212,326.36 348.035,327.952 \n",
       "  \" fill=\"#000000\" fill-opacity=\"0.5\"/>\n",
       "<polygon clip-path=\"url(#clip7800)\" points=\"\n",
       "348.035,327.76 356.325,326.264 356.325,323.273 348.035,321.777 339.745,323.273 339.745,326.264 348.035,327.76 \n",
       "  \" fill=\"#009af9\" fill-opacity=\"1\"/>\n",
       "<polygon clip-path=\"url(#clip7800)\" points=\"\n",
       "226.753,315.53 239.721,313.97 239.721,310.851 226.753,309.291 213.785,310.851 213.785,313.97 226.753,315.53 \n",
       "  \" fill=\"#000000\" fill-opacity=\"0.5\"/>\n",
       "<polygon clip-path=\"url(#clip7800)\" points=\"\n",
       "226.753,315.402 239.188,313.906 239.188,310.915 226.753,309.419 214.318,310.915 214.318,313.906 226.753,315.402 \n",
       "  \" fill=\"#009af9\" fill-opacity=\"1\"/>\n",
       "<polygon clip-path=\"url(#clip7800)\" points=\"\n",
       "263.81,419.88 276.778,418.32 276.778,415.201 263.81,413.641 250.842,415.201 250.842,418.32 263.81,419.88 \n",
       "  \" fill=\"#000000\" fill-opacity=\"0.5\"/>\n",
       "<polygon clip-path=\"url(#clip7800)\" points=\"\n",
       "263.81,419.752 276.245,418.256 276.245,415.265 263.81,413.769 251.375,415.265 251.375,418.256 263.81,419.752 \n",
       "  \" fill=\"#009af9\" fill-opacity=\"1\"/>\n",
       "<polygon clip-path=\"url(#clip7800)\" points=\"\n",
       "124.972,386.678 135.868,385.105 135.868,381.96 124.972,380.387 114.076,381.96 114.076,385.105 124.972,386.678 \n",
       "  \" fill=\"#000000\" fill-opacity=\"0.5\"/>\n",
       "<polygon clip-path=\"url(#clip7800)\" points=\"\n",
       "124.972,386.524 135.335,385.028 135.335,382.037 124.972,380.541 114.609,382.037 114.609,385.028 124.972,386.524 \n",
       "  \" fill=\"#009af9\" fill-opacity=\"1\"/>\n",
       "<polygon clip-path=\"url(#clip7800)\" points=\"\n",
       "149.856,381.546 160.751,379.973 160.751,376.828 149.856,375.255 138.96,376.828 138.96,379.973 149.856,381.546 \n",
       "  \" fill=\"#000000\" fill-opacity=\"0.5\"/>\n",
       "<polygon clip-path=\"url(#clip7800)\" points=\"\n",
       "149.856,381.392 160.218,379.896 160.218,376.905 149.856,375.409 139.493,376.905 139.493,379.896 149.856,381.392 \n",
       "  \" fill=\"#009af9\" fill-opacity=\"1\"/>\n",
       "<polygon clip-path=\"url(#clip7800)\" points=\"\n",
       "181.848,402.796 192.743,401.223 192.743,398.078 181.848,396.505 170.952,398.078 170.952,401.223 181.848,402.796 \n",
       "  \" fill=\"#000000\" fill-opacity=\"0.5\"/>\n",
       "<polygon clip-path=\"url(#clip7800)\" points=\"\n",
       "181.848,402.642 192.21,401.146 192.21,398.155 181.848,396.659 171.485,398.155 171.485,401.146 181.848,402.642 \n",
       "  \" fill=\"#009af9\" fill-opacity=\"1\"/>\n",
       "<polygon clip-path=\"url(#clip7800)\" points=\"\n",
       "223.492,413.611 232.316,412.019 232.316,408.835 223.492,407.243 214.669,408.835 214.669,412.019 223.492,413.611 \n",
       "  \" fill=\"#000000\" fill-opacity=\"0.5\"/>\n",
       "<polygon clip-path=\"url(#clip7800)\" points=\"\n",
       "223.492,413.419 231.783,411.923 231.783,408.931 223.492,407.436 215.202,408.931 215.202,411.923 223.492,413.419 \n",
       "  \" fill=\"#009af9\" fill-opacity=\"1\"/>\n",
       "<polygon clip-path=\"url(#clip7800)\" points=\"\n",
       "565.817,324.65 582.93,323.107 582.93,320.019 565.817,318.475 548.704,320.019 548.704,323.107 565.817,324.65 \n",
       "  \" fill=\"#000000\" fill-opacity=\"0.5\"/>\n",
       "<polygon clip-path=\"url(#clip7800)\" points=\"\n",
       "565.817,324.554 582.397,323.059 582.397,320.067 565.817,318.571 549.237,320.067 549.237,323.059 565.817,324.554 \n",
       "  \" fill=\"#009af9\" fill-opacity=\"1\"/>\n",
       "<polygon clip-path=\"url(#clip7800)\" points=\"\n",
       "671.091,391.524 686.132,389.973 686.132,386.872 671.091,385.321 656.05,386.872 656.05,389.973 671.091,391.524 \n",
       "  \" fill=\"#000000\" fill-opacity=\"0.5\"/>\n",
       "<polygon clip-path=\"url(#clip7800)\" points=\"\n",
       "671.091,391.414 685.599,389.918 685.599,386.927 671.091,385.431 656.583,386.927 656.583,389.918 671.091,391.414 \n",
       "  \" fill=\"#009af9\" fill-opacity=\"1\"/>\n",
       "<polygon clip-path=\"url(#clip7800)\" points=\"\n",
       "612.863,408.352 625.832,406.792 625.832,403.673 612.863,402.113 599.895,403.673 599.895,406.792 612.863,408.352 \n",
       "  \" fill=\"#000000\" fill-opacity=\"0.5\"/>\n",
       "<polygon clip-path=\"url(#clip7800)\" points=\"\n",
       "612.863,408.224 625.299,406.728 625.299,403.737 612.863,402.241 600.428,403.737 600.428,406.728 612.863,408.224 \n",
       "  \" fill=\"#009af9\" fill-opacity=\"1\"/>\n",
       "<polygon clip-path=\"url(#clip7800)\" points=\"\n",
       "527.947,409.523 540.915,407.963 540.915,404.844 527.947,403.284 514.979,404.844 514.979,407.963 527.947,409.523 \n",
       "  \" fill=\"#000000\" fill-opacity=\"0.5\"/>\n",
       "<polygon clip-path=\"url(#clip7800)\" points=\"\n",
       "527.947,409.395 540.382,407.899 540.382,404.908 527.947,403.412 515.511,404.908 515.511,407.899 527.947,409.395 \n",
       "  \" fill=\"#009af9\" fill-opacity=\"1\"/>\n",
       "<polygon clip-path=\"url(#clip7800)\" points=\"\n",
       "576.666,395.174 589.634,393.615 589.634,390.495 576.666,388.935 563.698,390.495 563.698,393.615 576.666,395.174 \n",
       "  \" fill=\"#000000\" fill-opacity=\"0.5\"/>\n",
       "<polygon clip-path=\"url(#clip7800)\" points=\"\n",
       "576.666,395.046 589.101,393.551 589.101,390.559 576.666,389.063 564.231,390.559 564.231,393.551 576.666,395.046 \n",
       "  \" fill=\"#009af9\" fill-opacity=\"1\"/>\n",
       "<polygon clip-path=\"url(#clip7800)\" points=\"\n",
       "647.359,387.136 658.254,385.564 658.254,382.419 647.359,380.846 636.463,382.419 636.463,385.564 647.359,387.136 \n",
       "  \" fill=\"#000000\" fill-opacity=\"0.5\"/>\n",
       "<polygon clip-path=\"url(#clip7800)\" points=\"\n",
       "647.359,386.983 657.721,385.487 657.721,382.495 647.359,381 636.996,382.495 636.996,385.487 647.359,386.983 \n",
       "  \" fill=\"#009af9\" fill-opacity=\"1\"/>\n",
       "<g clip-path=\"url(#clip7800)\">\n",
       "<text style=\"fill:#000000; fill-opacity:1; font-family:Arial,Helvetica Neue,Helvetica,sans-serif; font-size:11; text-anchor:middle;\" transform=\"rotate(0, 476.26, 83.3026)\" x=\"476.26\" y=\"83.3026\">Any</text>\n",
       "</g>\n",
       "<g clip-path=\"url(#clip7800)\">\n",
       "<text style=\"fill:#000000; fill-opacity:1; font-family:Arial,Helvetica Neue,Helvetica,sans-serif; font-size:11; text-anchor:middle;\" transform=\"rotate(0, 417.866, 129.605)\" x=\"417.866\" y=\"129.605\">Number</text>\n",
       "</g>\n",
       "<g clip-path=\"url(#clip7800)\">\n",
       "<text style=\"fill:#000000; fill-opacity:1; font-family:Arial,Helvetica Neue,Helvetica,sans-serif; font-size:11; text-anchor:middle;\" transform=\"rotate(0, 376.464, 188.956)\" x=\"376.464\" y=\"188.956\">Real</text>\n",
       "</g>\n",
       "<g clip-path=\"url(#clip7800)\">\n",
       "<text style=\"fill:#000000; fill-opacity:1; font-family:Arial,Helvetica Neue,Helvetica,sans-serif; font-size:11; text-anchor:middle;\" transform=\"rotate(0, 394.058, 270.077)\" x=\"394.058\" y=\"270.077\">Integer</text>\n",
       "</g>\n",
       "<g clip-path=\"url(#clip7800)\">\n",
       "<text style=\"fill:#000000; fill-opacity:1; font-family:Arial,Helvetica Neue,Helvetica,sans-serif; font-size:11; text-anchor:middle;\" transform=\"rotate(0, 427.626, 338.509)\" x=\"427.626\" y=\"338.509\">BigInt</text>\n",
       "</g>\n",
       "<g clip-path=\"url(#clip7800)\">\n",
       "<text style=\"fill:#000000; fill-opacity:1; font-family:Arial,Helvetica Neue,Helvetica,sans-serif; font-size:11; text-anchor:middle;\" transform=\"rotate(0, 348.035, 328.769)\" x=\"348.035\" y=\"328.769\">Bool</text>\n",
       "</g>\n",
       "<g clip-path=\"url(#clip7800)\">\n",
       "<text style=\"fill:#000000; fill-opacity:1; font-family:Arial,Helvetica Neue,Helvetica,sans-serif; font-size:11; text-anchor:middle;\" transform=\"rotate(0, 226.753, 316.411)\" x=\"226.753\" y=\"316.411\">Signed</text>\n",
       "</g>\n",
       "<g clip-path=\"url(#clip7800)\">\n",
       "<text style=\"fill:#000000; fill-opacity:1; font-family:Arial,Helvetica Neue,Helvetica,sans-serif; font-size:11; text-anchor:middle;\" transform=\"rotate(0, 263.81, 420.76)\" x=\"263.81\" y=\"420.76\">Int128</text>\n",
       "</g>\n",
       "<g clip-path=\"url(#clip7800)\">\n",
       "<text style=\"fill:#000000; fill-opacity:1; font-family:Arial,Helvetica Neue,Helvetica,sans-serif; font-size:11; text-anchor:middle;\" transform=\"rotate(0, 124.972, 387.532)\" x=\"124.972\" y=\"387.532\">Int16</text>\n",
       "</g>\n",
       "<g clip-path=\"url(#clip7800)\">\n",
       "<text style=\"fill:#000000; fill-opacity:1; font-family:Arial,Helvetica Neue,Helvetica,sans-serif; font-size:11; text-anchor:middle;\" transform=\"rotate(0, 149.856, 382.4)\" x=\"149.856\" y=\"382.4\">Int32</text>\n",
       "</g>\n",
       "<g clip-path=\"url(#clip7800)\">\n",
       "<text style=\"fill:#000000; fill-opacity:1; font-family:Arial,Helvetica Neue,Helvetica,sans-serif; font-size:11; text-anchor:middle;\" transform=\"rotate(0, 181.848, 403.651)\" x=\"181.848\" y=\"403.651\">Int64</text>\n",
       "</g>\n",
       "<g clip-path=\"url(#clip7800)\">\n",
       "<text style=\"fill:#000000; fill-opacity:1; font-family:Arial,Helvetica Neue,Helvetica,sans-serif; font-size:11; text-anchor:middle;\" transform=\"rotate(0, 223.492, 414.427)\" x=\"223.492\" y=\"414.427\">Int8</text>\n",
       "</g>\n",
       "<g clip-path=\"url(#clip7800)\">\n",
       "<text style=\"fill:#000000; fill-opacity:1; font-family:Arial,Helvetica Neue,Helvetica,sans-serif; font-size:11; text-anchor:middle;\" transform=\"rotate(0, 565.817, 325.563)\" x=\"565.817\" y=\"325.563\">Unsigned</text>\n",
       "</g>\n",
       "<g clip-path=\"url(#clip7800)\">\n",
       "<text style=\"fill:#000000; fill-opacity:1; font-family:Arial,Helvetica Neue,Helvetica,sans-serif; font-size:11; text-anchor:middle;\" transform=\"rotate(0, 671.091, 392.422)\" x=\"671.091\" y=\"392.422\">UInt128</text>\n",
       "</g>\n",
       "<g clip-path=\"url(#clip7800)\">\n",
       "<text style=\"fill:#000000; fill-opacity:1; font-family:Arial,Helvetica Neue,Helvetica,sans-serif; font-size:11; text-anchor:middle;\" transform=\"rotate(0, 612.863, 409.233)\" x=\"612.863\" y=\"409.233\">UInt16</text>\n",
       "</g>\n",
       "<g clip-path=\"url(#clip7800)\">\n",
       "<text style=\"fill:#000000; fill-opacity:1; font-family:Arial,Helvetica Neue,Helvetica,sans-serif; font-size:11; text-anchor:middle;\" transform=\"rotate(0, 527.947, 410.403)\" x=\"527.947\" y=\"410.403\">UInt32</text>\n",
       "</g>\n",
       "<g clip-path=\"url(#clip7800)\">\n",
       "<text style=\"fill:#000000; fill-opacity:1; font-family:Arial,Helvetica Neue,Helvetica,sans-serif; font-size:11; text-anchor:middle;\" transform=\"rotate(0, 576.666, 396.055)\" x=\"576.666\" y=\"396.055\">UInt64</text>\n",
       "</g>\n",
       "<g clip-path=\"url(#clip7800)\">\n",
       "<text style=\"fill:#000000; fill-opacity:1; font-family:Arial,Helvetica Neue,Helvetica,sans-serif; font-size:11; text-anchor:middle;\" transform=\"rotate(0, 647.359, 387.991)\" x=\"647.359\" y=\"387.991\">UInt8</text>\n",
       "</g>\n",
       "</svg>\n"
      ]
     },
     "execution_count": 6,
     "metadata": {},
     "output_type": "execute_result"
    }
   ],
   "source": [
    "# make a list of a type T and it's supertypes\n",
    "T = Integer\n",
    "sups = [T]\n",
    "sup = T\n",
    "while sup != Any\n",
    "    sup = supertype(sup)\n",
    "    unshift!(sups, sup)\n",
    "end\n",
    "\n",
    "# recursively build a graph of subtypes of T\n",
    "n = length(sups)\n",
    "nodes, source, destiny = copy(sups), collect(1:n-1), collect(2:n)\n",
    "function add_subs!(T, supidx)\n",
    "    for sub in subtypes(T)\n",
    "        push!(nodes, sub)\n",
    "        subidx = length(nodes)\n",
    "        push!(source, supidx)\n",
    "        push!(destiny, subidx)\n",
    "        add_subs!(sub, subidx)\n",
    "    end\n",
    "end\n",
    "add_subs!(T, n)\n",
    "names = map(string, nodes)\n",
    "\n",
    "using PlotRecipes\n",
    "#pyplot(alpha=0.5, size=(800, 500))\n",
    "gr(alpha=0.5, size=(800, 500))\n",
    "graphplot(source, destiny, names=names, method=:tree)"
   ]
  },
  {
   "cell_type": "markdown",
   "metadata": {},
   "source": [
    "### Signed integers\n",
    "\n",
    "* First bit indicates sign.  \n",
    "    - `0` for nonnegative numbers\n",
    "    - `1` for negative numbers  \n",
    "    \n",
    "* **Two's complement representation** for negative numbers. \n",
    "    - Sign bit is set to 1  \n",
    "    - remaining bits are set to opposite values  \n",
    "    - 1 is added to the result  \n",
    "    - Two's complement representation of a negative integer `x` is same as the unsigned integer `2^m + x`."
   ]
  },
  {
   "cell_type": "code",
   "execution_count": 7,
   "metadata": {},
   "outputs": [
    {
     "name": "stdout",
     "output_type": "stream",
     "text": [
      "typeof(18) = Int64\n",
      "bits(18) = \"0000000000000000000000000000000000000000000000000000000000010010\"\n",
      "bits(-18) = \"1111111111111111111111111111111111111111111111111111111111101110\"\n",
      "bits(UInt64(Int128(2) ^ 64 - 18)) == bits(-18) = true\n",
      "bits(2 * 18) = \"0000000000000000000000000000000000000000000000000000000000100100\"\n",
      "bits(2 * -18) = \"1111111111111111111111111111111111111111111111111111111111011100\"\n"
     ]
    }
   ],
   "source": [
    "@show typeof(18)\n",
    "@show bits(18)\n",
    "@show bits(-18)\n",
    "@show bits(UInt64(Int128(2)^64 - 18)) == bits(-18)\n",
    "@show bits(2 * 18) # shift bits of 18\n",
    "@show bits(2 * -18); # shift bits of -18"
   ]
  },
  {
   "cell_type": "markdown",
   "metadata": {},
   "source": [
    "* Two's complement representation respects modular arithmetic nicely.  \n",
    "    Addition of any two signed integers are just bitwise addition, possibly modulo $2^M$\n",
    "    \n",
    "<img src=\"http://users.dickinson.edu/~braught/courses/cs251f02/classes/images/twosCompWheel.png\" width=\"400\" align=\"center\"/>    "
   ]
  },
  {
   "cell_type": "markdown",
   "metadata": {},
   "source": [
    "* **Range** of representable integers by $M$-bit **signed integer** is $[-2^{M-1},2^{M-1}-1]$.\n",
    "    - Julia functions `typemin(T)` and `typemax(T)` give the lowest and highest representable number of a type `T` respectively"
   ]
  },
  {
   "cell_type": "code",
   "execution_count": 8,
   "metadata": {},
   "outputs": [
    {
     "name": "stdout",
     "output_type": "stream",
     "text": [
      "Int8\t-128\t127\n",
      "Int16\t-32768\t32767\n",
      "Int32\t-2147483648\t2147483647\n",
      "Int64\t-9223372036854775808\t9223372036854775807\n",
      "Int128\t-170141183460469231731687303715884105728\t170141183460469231731687303715884105727\n"
     ]
    }
   ],
   "source": [
    "for T in [Int8, Int16, Int32, Int64, Int128]\n",
    "    println(T, '\\t', typemin(T), '\\t', typemax(T))\n",
    "end"
   ]
  },
  {
   "cell_type": "markdown",
   "metadata": {},
   "source": [
    "### **Unsigned integers**\n",
    "\n",
    "* For unsigned integers, the range is $[0,2^M-1]$."
   ]
  },
  {
   "cell_type": "code",
   "execution_count": 9,
   "metadata": {},
   "outputs": [
    {
     "name": "stdout",
     "output_type": "stream",
     "text": [
      "UInt8\t0\t255\n",
      "UInt16\t0\t65535\n",
      "UInt32\t0\t4294967295\n",
      "UInt64\t0\t18446744073709551615\n",
      "UInt128\t0\t340282366920938463463374607431768211455\n"
     ]
    }
   ],
   "source": [
    "for t in [UInt8, UInt16, UInt32, UInt64, UInt128]\n",
    "    println(t, '\\t', typemin(t), '\\t', typemax(t))\n",
    "end"
   ]
  },
  {
   "cell_type": "markdown",
   "metadata": {},
   "source": [
    "## `BigInt`\n",
    "\n",
    "Julia `BigInt` type is arbitrary precision."
   ]
  },
  {
   "cell_type": "code",
   "execution_count": 10,
   "metadata": {},
   "outputs": [
    {
     "name": "stdout",
     "output_type": "stream",
     "text": [
      "typemax(Int128) = 170141183460469231731687303715884105727\n",
      "typemax(Int128) + 1 = -170141183460469231731687303715884105728\n",
      "BigInt(typemax(Int128)) + 1 = 170141183460469231731687303715884105728\n"
     ]
    }
   ],
   "source": [
    "@show typemax(Int128)\n",
    "@show typemax(Int128) + 1 # modular arithmetic!\n",
    "@show BigInt(typemax(Int128)) + 1;"
   ]
  },
  {
   "cell_type": "markdown",
   "metadata": {},
   "source": [
    "## Overflow and underflow for integer arithmetic\n",
    "\n",
    "R reports `NA` for integer overflow and underflow.  \n",
    "**Julia outputs the result according to modular arithmetic.**"
   ]
  },
  {
   "cell_type": "code",
   "execution_count": 11,
   "metadata": {},
   "outputs": [
    {
     "name": "stdout",
     "output_type": "stream",
     "text": [
      "typemax(Int32) = 2147483647\n",
      "typemax(Int32) + Int32(1) = -2147483648\n"
     ]
    }
   ],
   "source": [
    "@show typemax(Int32)\n",
    "@show typemax(Int32) + Int32(1); # modular arithmetics!"
   ]
  },
  {
   "cell_type": "code",
   "execution_count": 12,
   "metadata": {},
   "outputs": [
    {
     "data": {
      "text/plain": [
       "RCall.RObject{RCall.IntSxp}\n",
       "[1] 2147483647\n"
      ]
     },
     "execution_count": 12,
     "metadata": {},
     "output_type": "execute_result"
    }
   ],
   "source": [
    "using RCall\n",
    "\n",
    "R\"\"\"\n",
    ".Machine$integer.max\n",
    "\"\"\""
   ]
  },
  {
   "cell_type": "code",
   "execution_count": 13,
   "metadata": {},
   "outputs": [
    {
     "data": {
      "text/plain": [
       "RCall.RObject{RCall.IntSxp}\n",
       "[1] 2147483647\n"
      ]
     },
     "execution_count": 13,
     "metadata": {},
     "output_type": "execute_result"
    }
   ],
   "source": [
    "R\"\"\"\n",
    "M <- 32\n",
    "big <- 2^(M-1) - 1\n",
    "as.integer(big)\n",
    "\"\"\""
   ]
  },
  {
   "cell_type": "code",
   "execution_count": 14,
   "metadata": {},
   "outputs": [
    {
     "name": "stderr",
     "output_type": "stream",
     "text": [
      "\u001b[1m\u001b[33mWARNING: \u001b[39m\u001b[22m\u001b[33mRCall.jl: Warning: NAs introduced by coercion to integer range\u001b[39m\n"
     ]
    },
    {
     "data": {
      "text/plain": [
       "RCall.RObject{RCall.IntSxp}\n",
       "[1] NA\n"
      ]
     },
     "execution_count": 14,
     "metadata": {},
     "output_type": "execute_result"
    }
   ],
   "source": [
    "R\"\"\"\n",
    "as.integer(big+1)\n",
    "\"\"\""
   ]
  },
  {
   "cell_type": "markdown",
   "metadata": {
    "collapsed": true
   },
   "source": [
    "## Floating-number system\n",
    "\n",
    "Floating-point number system is a computer model for real numbers.\n",
    "\n",
    "* Most computer systems adopt the [IEEE 754 standard](https://en.wikipedia.org/wiki/IEEE_floating_point), established in 1985, for floating-point arithmetics.  \n",
    "For the history, see an [interview with William Kahan](http://www.cs.berkeley.edu/~wkahan/ieee754status/754story.html).\n",
    "\n",
    "* In the scientific notation, a real number is represented as\n",
    "$$\\pm d_0.d_1d_2 \\cdots d_p \\times b^e.$$\n",
    "In computer, the _base_ is $b=2$ and the digits $d_i$ are 0 or 1.\n",
    "\n",
    "* **Normalized** vs **denormalized** numbers. For example, decimal number 18 is\n",
    "$$ +1.0010 \\times 2^4 \\quad (\\text{normalized})$$\n",
    "or, equivalently,\n",
    "$$ +0.1001 \\times 2^5 \\quad (\\text{denormalized}).$$\n",
    "\n",
    "* In the floating-number system, computer stores \n",
    "    - sign bit  \n",
    "    - the _fraction_ (or _mantissa_, or _significand_) of the **normalized** representation\n",
    "    - the actual exponent _plus_ a bias"
   ]
  },
  {
   "cell_type": "markdown",
   "metadata": {},
   "source": [
    "* **Double precision** (64 bit = 8 bytes) \n",
    "    <img src=\"./double-precision-numbers.png\" width=\"500\" align=\"center\"/>  \n",
    "    - In Julia, `Float64` is the type for double precision numbers    \n",
    "    - First bit is sign bit  \n",
    "    - $p=52$ significant bits  \n",
    "    - 11 exponent bits: $e_{\\max}=1023$, $e_{\\min}=-1022$, bias=1023  \n",
    "    - $e_{\\text{min}}-1$ and $e_{\\text{max}}+1$ are reserved for special numbers  \n",
    "    - range of **magnitude**: $10^{\\pm 308}$ in decimal because $\\log_{10} (2^{1023}) \\approx 308$  \n",
    "    - **precision** to the $\\log_{10}(2^{-52}) \\approx 16$ decimal point  \n",
    "    \n",
    "\n",
    "* **Single precision** (32 bit = 4 bytes) \n",
    "    <img src=\"./single-precision-numbers.png\" width=\"500\" align=\"center\"/>\n",
    "    - In Julia, `Float32` is the type for single precision numbers\n",
    "    - First bit is sign bit  \n",
    "    - $p=23$ significant bits  \n",
    "    - 8 exponent bits: $e_{\\max}=127$, $e_{\\min}=-126$, bias=127  \n",
    "    - $e_{\\text{min}}-1$ and $e_{\\text{max}}+1$ are reserved for special numbers  \n",
    "    - range of **magnitude**: $10^{\\pm 38}$ in decimal because $\\log_{10} (2^{127}) \\approx 38$  \n",
    "    - **precision**: $\\log_{10}(2^{23}) \\approx 7$ decimal point  \n",
    "    \n",
    "* **Half precision** (16 bit = 2 bytes)\n",
    "    <img src=\"./half-precision-numbers.png\" width=\"200\" align=\"center\"/>\n",
    "    - In Julia, `Float16` is the type for half precision numbers\n",
    "    - First bit is sign bit  \n",
    "    - $p=10$ significant bits  \n",
    "    - 5 exponent bits: $e_{\\max}=15$, $e_{\\min}=-14$, bias=15  \n",
    "    - $e_{\\text{min}}-1$ and $e_{\\text{max}}+1$ are reserved for special numbers  \n",
    "    - range of **magnitude**: $10^{\\pm 4}$ in decimal because $\\log_{10} (2^{15}) \\approx 4$  \n",
    "    - **precision**: $\\log_{10}(2^{10}) \\approx 3$ decimal point      "
   ]
  },
  {
   "cell_type": "code",
   "execution_count": 15,
   "metadata": {},
   "outputs": [
    {
     "name": "stdout",
     "output_type": "stream",
     "text": [
      "Half precision:\n",
      "bits(Float16(18)) = \"0100110010000000\"\n",
      "bits(Float16(-18)) = \"1100110010000000\"\n",
      "Single precision:\n",
      "bits(Float32(18)) = \"01000001100100000000000000000000\"\n",
      "bits(Float32(-18)) = \"11000001100100000000000000000000\"\n",
      "Double precision:\n",
      "bits(Float64(18)) = \"0100000000110010000000000000000000000000000000000000000000000000\"\n",
      "bits(Float64(-18)) = \"1100000000110010000000000000000000000000000000000000000000000000\"\n",
      "Float32(π) = 3.1415927f0\n",
      "Float64(π) = 3.141592653589793\n"
     ]
    },
    {
     "data": {
      "text/plain": [
       "3.141592653589793"
      ]
     },
     "execution_count": 15,
     "metadata": {},
     "output_type": "execute_result"
    }
   ],
   "source": [
    "println(\"Half precision:\")\n",
    "@show bits(Float16(18)) # 18 in half precision\n",
    "@show bits(Float16(-18)) # -18 in half precision\n",
    "println(\"Single precision:\")\n",
    "@show bits(Float32(18)) # 18 in single precision\n",
    "@show bits(Float32(-18)) # -18 in single precision\n",
    "println(\"Double precision:\")\n",
    "@show bits(Float64(18)) # 18 in double precision\n",
    "@show bits(Float64(-18)) # -18 in double precision\n",
    "@show Float32(π) # SP number displays 7 decimal digits\n",
    "@show Float64(π) # DP number displays 15 decimal digits"
   ]
  },
  {
   "cell_type": "markdown",
   "metadata": {},
   "source": [
    "* Special floating-point numbers. \n",
    "    - Exponent $e_{\\max}+1$ plus a zero mantissa means $\\pm \\infty$  \n",
    "    - Exponent $e_{\\max}+1$ plus a nonzero mantissa means `NaN`. `NaN` could be produced from `0 / 0`, `0 * Inf`, ...  \n",
    "    In general `NaN ≠ NaN` bitwise  \n",
    "    - Exponent $e_{\\min}-1$ with a zero mantissa represents the real number 0  \n",
    "    - Exponent $e_{\\min}-1$ with a nonzero mantissa are for numbers less than $b^{e_{\\min}}$  \n",
    "    Numbers are _denormalized_ in the range $(0,b^{e_{\\min}})$ -- **graceful underflow** "
   ]
  },
  {
   "cell_type": "code",
   "execution_count": 16,
   "metadata": {},
   "outputs": [
    {
     "name": "stdout",
     "output_type": "stream",
     "text": [
      "bits(Inf) = \"0111111111110000000000000000000000000000000000000000000000000000\"\n",
      "bits(-Inf) = \"1111111111110000000000000000000000000000000000000000000000000000\"\n",
      "bits(0 / 0) = \"1111111111111000000000000000000000000000000000000000000000000000\"\n",
      "bits(0Inf) = \"1111111111111000000000000000000000000000000000000000000000000000\"\n",
      "bits(0.0) = \"0000000000000000000000000000000000000000000000000000000000000000\"\n",
      "nextfloat(0.0) = 5.0e-324\n",
      "bits(nextfloat(0.0)) = \"0000000000000000000000000000000000000000000000000000000000000001\"\n"
     ]
    }
   ],
   "source": [
    "@show bits(Inf) # Inf in double precision\n",
    "@show bits(-Inf) # -Inf in double precision\n",
    "@show bits(0 / 0) # NaN\n",
    "@show bits(0 * Inf) # NaN\n",
    "@show bits(0.0) # 0 in double precision \n",
    "@show nextfloat(0.0) # next representable number \n",
    "@show bits(nextfloat(0.0)); # denormalized"
   ]
  },
  {
   "cell_type": "markdown",
   "metadata": {},
   "source": [
    "* **Rounding** is necessary whenever a number has more than $p$ significand bits. Most computer systems use the default IEEE 754 _round to nearest_ mode (also called _ties to even_ mode). Julia offers several [rounding modes](https://docs.julialang.org/en/stable/stdlib/math/#Base.Rounding.RoundingMode), the default being [`RoundNearest`](https://docs.julialang.org/en/stable/stdlib/math/#Base.Rounding.RoundNearest). For example, the number 0.1 in decimal system cannot be represented accurately as a floating point number:\n",
    "$$ 0.1 = 1.10011001... \\times 2^{-4} $$"
   ]
  },
  {
   "cell_type": "code",
   "execution_count": 17,
   "metadata": {},
   "outputs": [
    {
     "name": "stdout",
     "output_type": "stream",
     "text": [
      "bits(0.1f0) = \"00111101110011001100110011001101\"\n",
      "bits(0.1) = \"0011111110111001100110011001100110011001100110011001100110011010\"\n"
     ]
    }
   ],
   "source": [
    "@show bits(0.1f0) # single precision Float32\n",
    "@show bits(0.1);  # double precision Float64"
   ]
  },
  {
   "cell_type": "markdown",
   "metadata": {},
   "source": [
    "* In summary\n",
    "    - Single precision: range $\\pm 10^{\\pm 38}$ with precision up to 7 decimal digits\n",
    "    - Double precision: range $\\pm 10^{\\pm 308}$ with precision up to 16 decimal digits  \n",
    "    - The floating-point numbers do not occur uniformly over the real number line\n",
    "    <img src=\"http://www.volkerschatz.com/science/pics/fltscale-wh.png\" width=\"700\" align=\"center\"/>\n",
    "    Each magnitude has same number of representible numbers\n",
    "    - **Machine epsilons** are the spacings of numbers around 1: \n",
    "    $$\\epsilon_{\\min}=b^{-p}, \\quad  \\epsilon_{\\max} = b^{1-p}.$$\n",
    "    <img src=\"./machine_epsilons.png\" width=\"500\" align=\"center\"/>"
   ]
  },
  {
   "cell_type": "code",
   "execution_count": 18,
   "metadata": {},
   "outputs": [
    {
     "name": "stdout",
     "output_type": "stream",
     "text": [
      "eps(Float32) = 1.1920929f-7\n",
      "eps(Float64) = 2.220446049250313e-16\n",
      "eps(100.0) = 1.4210854715202004e-14\n",
      "eps(0.0) = 5.0e-324\n",
      "x = 1.25f0 = 1.25f0\n",
      "(prevfloat(x), x, nextfloat(x)) = (1.2499999f0, 1.25f0, 1.2500001f0)\n",
      "(bits(prevfloat(x)), bits(x), bits(nextfloat(x))) = (\"00111111100111111111111111111111\", \"00111111101000000000000000000000\", \"00111111101000000000000000000001\")\n"
     ]
    }
   ],
   "source": [
    "@show eps(Float32)  # machine epsilon for a floating point type\n",
    "@show eps(Float64)  # same as eps()\n",
    "# eps(x) is the spacing after x\n",
    "@show eps(100.0)\n",
    "@show eps(0.0)\n",
    "# nextfloat(x) and prevfloat(x) give the neighbors of x\n",
    "@show x = 1.25f0\n",
    "@show prevfloat(x), x, nextfloat(x)\n",
    "@show bits(prevfloat(x)), bits(x), bits(nextfloat(x));"
   ]
  },
  {
   "cell_type": "markdown",
   "metadata": {},
   "source": [
    "* In R, the variable `.Machine` contains numerical characteristics of the machine."
   ]
  },
  {
   "cell_type": "code",
   "execution_count": 19,
   "metadata": {},
   "outputs": [
    {
     "data": {
      "text/plain": [
       "RCall.RObject{RCall.VecSxp}\n",
       "$double.eps\n",
       "[1] 2.220446e-16\n",
       "\n",
       "$double.neg.eps\n",
       "[1] 1.110223e-16\n",
       "\n",
       "$double.xmin\n",
       "[1] 2.225074e-308\n",
       "\n",
       "$double.xmax\n",
       "[1] 1.797693e+308\n",
       "\n",
       "$double.base\n",
       "[1] 2\n",
       "\n",
       "$double.digits\n",
       "[1] 53\n",
       "\n",
       "$double.rounding\n",
       "[1] 5\n",
       "\n",
       "$double.guard\n",
       "[1] 0\n",
       "\n",
       "$double.ulp.digits\n",
       "[1] -52\n",
       "\n",
       "$double.neg.ulp.digits\n",
       "[1] -53\n",
       "\n",
       "$double.exponent\n",
       "[1] 11\n",
       "\n",
       "$double.min.exp\n",
       "[1] -1022\n",
       "\n",
       "$double.max.exp\n",
       "[1] 1024\n",
       "\n",
       "$integer.max\n",
       "[1] 2147483647\n",
       "\n",
       "$sizeof.long\n",
       "[1] 8\n",
       "\n",
       "$sizeof.longlong\n",
       "[1] 8\n",
       "\n",
       "$sizeof.longdouble\n",
       "[1] 16\n",
       "\n",
       "$sizeof.pointer\n",
       "[1] 8\n",
       "\n"
      ]
     },
     "execution_count": 19,
     "metadata": {},
     "output_type": "execute_result"
    }
   ],
   "source": [
    "R\"\"\"\n",
    ".Machine\n",
    "\"\"\""
   ]
  },
  {
   "cell_type": "markdown",
   "metadata": {},
   "source": [
    "* Julia provides `Float16` (half precision), `Float32` (single precision), `Float64` (double precision), and `BigFloat` (arbitrary precision)."
   ]
  },
  {
   "cell_type": "code",
   "execution_count": 20,
   "metadata": {},
   "outputs": [
    {
     "name": "stderr",
     "output_type": "stream",
     "text": [
      "\u001b[1m\u001b[33mWARNING: \u001b[39m\u001b[22m\u001b[33mInstall LightGraphs for the best layout calculations.\u001b[39m\n"
     ]
    },
    {
     "data": {
      "image/svg+xml": [
       "<?xml version=\"1.0\" encoding=\"utf-8\"?>\n",
       "<svg xmlns=\"http://www.w3.org/2000/svg\" xmlns:xlink=\"http://www.w3.org/1999/xlink\" width=\"800\" height=\"500\" viewBox=\"0 0 800 500\">\n",
       "<defs>\n",
       "  <clipPath id=\"clip8000\">\n",
       "    <rect x=\"0\" y=\"0\" width=\"800\" height=\"500\"/>\n",
       "  </clipPath>\n",
       "</defs>\n",
       "<polygon clip-path=\"url(#clip8000)\" points=\"\n",
       "0,500 800,500 800,0 0,0 \n",
       "  \" fill=\"#ffffff\" fill-opacity=\"1\"/>\n",
       "<defs>\n",
       "  <clipPath id=\"clip8001\">\n",
       "    <rect x=\"160\" y=\"0\" width=\"561\" height=\"500\"/>\n",
       "  </clipPath>\n",
       "</defs>\n",
       "<polygon clip-path=\"url(#clip8000)\" points=\"\n",
       "15.748,484.252 780.315,484.252 780.315,11.811 15.748,11.811 \n",
       "  \" fill=\"#ffffff\" fill-opacity=\"1\"/>\n",
       "<defs>\n",
       "  <clipPath id=\"clip8002\">\n",
       "    <rect x=\"15\" y=\"11\" width=\"766\" height=\"473\"/>\n",
       "  </clipPath>\n",
       "</defs>\n",
       "<polyline clip-path=\"url(#clip8000)\" style=\"stroke:#000000; stroke-width:1; stroke-opacity:1; fill:none\" points=\"\n",
       "  15.748,484.252 780.315,484.252 \n",
       "  \"/>\n",
       "<polyline clip-path=\"url(#clip8000)\" style=\"stroke:#000000; stroke-width:1; stroke-opacity:1; fill:none\" points=\"\n",
       "  15.748,484.252 15.748,11.811 \n",
       "  \"/>\n",
       "<polyline clip-path=\"url(#clip8002)\" style=\"stroke:#d968a2; stroke-width:1; stroke-opacity:0.5; fill:none\" points=\"\n",
       "  671.091,79.3026 670.815,82.2751 670.011,85.2239 668.72,88.1507 666.98,91.0573 664.83,93.9455 662.31,96.8169 659.457,99.6734 656.312,102.517 652.914,105.349 \n",
       "  649.3,108.171 645.511,110.985 641.586,113.793 637.562,116.597 633.481,119.398 629.379,122.198 625.298,124.999 621.275,127.803 617.349,130.611 613.56,133.425 \n",
       "  609.947,136.247 606.548,139.079 603.403,141.923 600.55,144.779 598.03,147.65 595.88,150.539 594.14,153.445 592.849,156.372 592.046,159.321 591.769,162.293 \n",
       "  \n",
       "  \"/>\n",
       "<polyline clip-path=\"url(#clip8002)\" style=\"stroke:#d968a2; stroke-width:1; stroke-opacity:0.5; fill:none\" points=\"\n",
       "  591.769,162.293 591.296,165.595 589.919,168.714 587.708,171.664 584.727,174.459 581.045,177.112 576.727,179.636 571.841,182.045 566.454,184.353 560.632,186.573 \n",
       "  554.442,188.719 547.952,190.804 541.228,192.842 534.336,194.846 527.344,196.829 520.319,198.806 513.327,200.79 506.436,202.793 499.711,204.831 493.221,206.916 \n",
       "  487.031,209.062 481.21,211.282 475.822,213.59 470.936,215.999 466.619,218.524 462.936,221.176 459.956,223.971 457.744,226.921 456.368,230.04 455.894,233.342 \n",
       "  \n",
       "  \"/>\n",
       "<polyline clip-path=\"url(#clip8002)\" style=\"stroke:#d968a2; stroke-width:1; stroke-opacity:0.5; fill:none\" points=\"\n",
       "  455.894,233.342 455.378,237.056 453.879,240.587 451.47,243.946 448.223,247.148 444.211,250.207 439.507,253.136 434.185,255.949 428.316,258.66 421.973,261.282 \n",
       "  415.23,263.829 408.16,266.314 400.834,268.751 393.326,271.155 385.71,273.538 378.056,275.914 370.439,278.296 362.932,280.7 355.606,283.137 348.535,285.622 \n",
       "  341.793,288.169 335.45,290.791 329.581,293.502 324.259,296.315 319.555,299.244 315.543,302.303 312.296,305.505 309.887,308.865 308.387,312.395 307.872,316.109 \n",
       "  \n",
       "  \"/>\n",
       "<polyline clip-path=\"url(#clip8002)\" style=\"stroke:#d968a2; stroke-width:1; stroke-opacity:0.5; fill:none\" points=\"\n",
       "  307.872,316.109 307.234,319.038 305.382,321.772 302.405,324.325 298.392,326.713 293.435,328.95 287.624,331.05 281.047,333.027 273.795,334.896 265.958,336.671 \n",
       "  257.626,338.367 248.89,339.999 239.838,341.579 230.562,343.124 221.15,344.647 211.693,346.163 202.282,347.686 193.005,349.231 183.954,350.812 175.217,352.443 \n",
       "  166.885,354.139 159.049,355.914 151.797,357.783 145.22,359.761 139.408,361.86 134.451,364.097 130.439,366.485 127.462,369.039 125.609,371.773 124.972,374.701 \n",
       "  \n",
       "  \"/>\n",
       "<polyline clip-path=\"url(#clip8002)\" style=\"stroke:#d968a2; stroke-width:1; stroke-opacity:0.5; fill:none\" points=\"\n",
       "  307.872,316.109 307.423,319.07 306.121,321.836 304.028,324.42 301.207,326.839 297.722,329.105 293.636,331.234 289.013,333.24 283.914,335.138 278.405,336.941 \n",
       "  272.547,338.665 266.405,340.324 260.041,341.932 253.519,343.504 246.903,345.054 240.254,346.597 233.637,348.147 227.116,349.719 220.752,351.327 214.61,352.986 \n",
       "  208.752,354.71 203.243,356.513 198.144,358.41 193.52,360.416 189.434,362.545 185.949,364.812 183.129,367.23 181.036,369.815 179.733,372.581 179.285,375.542 \n",
       "  \n",
       "  \"/>\n",
       "<polyline clip-path=\"url(#clip8002)\" style=\"stroke:#d968a2; stroke-width:1; stroke-opacity:0.5; fill:none\" points=\"\n",
       "  307.872,316.109 308.356,319.789 309.764,323.317 312.028,326.703 315.078,329.96 318.846,333.099 323.265,336.13 328.264,339.065 333.777,341.916 339.735,344.693 \n",
       "  346.069,347.409 352.711,350.073 359.592,352.699 366.644,355.295 373.799,357.875 380.988,360.45 388.143,363.03 395.196,365.627 402.077,368.252 408.719,370.916 \n",
       "  415.053,373.632 421.01,376.409 426.523,379.26 431.523,382.195 435.942,385.227 439.71,388.365 442.76,391.622 445.023,395.008 446.432,398.536 446.916,402.216 \n",
       "  \n",
       "  \"/>\n",
       "<polyline clip-path=\"url(#clip8002)\" style=\"stroke:#d968a2; stroke-width:1; stroke-opacity:0.5; fill:none\" points=\"\n",
       "  307.872,316.109 307.951,319.295 308.182,322.542 308.553,325.845 309.053,329.2 309.671,332.603 310.395,336.049 311.215,339.533 312.118,343.051 313.095,346.599 \n",
       "  314.133,350.172 315.222,353.765 316.35,357.373 317.506,360.993 318.679,364.62 319.858,368.249 321.031,371.876 322.187,375.496 323.315,379.105 324.404,382.698 \n",
       "  325.442,386.27 326.419,389.818 327.322,393.336 328.142,396.821 328.866,400.266 329.484,403.669 329.984,407.025 330.355,410.328 330.586,413.575 330.665,416.76 \n",
       "  \n",
       "  \"/>\n",
       "<polygon clip-path=\"url(#clip8000)\" points=\"\n",
       "671.091,82.5505 677.842,80.9265 677.842,77.6787 671.091,76.0547 664.341,77.6787 664.341,80.9265 671.091,82.5505 \n",
       "  \" fill=\"#000000\" fill-opacity=\"0.5\"/>\n",
       "<polygon clip-path=\"url(#clip8000)\" points=\"\n",
       "671.091,82.294 677.309,80.7983 677.309,77.8069 671.091,76.3111 664.873,77.8069 664.873,80.7983 671.091,82.294 \n",
       "  \" fill=\"#009af9\" fill-opacity=\"1\"/>\n",
       "<polygon clip-path=\"url(#clip8000)\" points=\"\n",
       "591.769,165.413 604.737,163.853 604.737,160.734 591.769,159.174 578.801,160.734 578.801,163.853 591.769,165.413 \n",
       "  \" fill=\"#000000\" fill-opacity=\"0.5\"/>\n",
       "<polygon clip-path=\"url(#clip8000)\" points=\"\n",
       "591.769,165.285 604.204,163.789 604.204,160.798 591.769,159.302 579.334,160.798 579.334,163.789 591.769,165.285 \n",
       "  \" fill=\"#009af9\" fill-opacity=\"1\"/>\n",
       "<polygon clip-path=\"url(#clip8000)\" points=\"\n",
       "455.894,236.526 464.717,234.934 464.717,231.75 455.894,230.158 447.071,231.75 447.071,234.934 455.894,236.526 \n",
       "  \" fill=\"#000000\" fill-opacity=\"0.5\"/>\n",
       "<polygon clip-path=\"url(#clip8000)\" points=\"\n",
       "455.894,236.333 464.184,234.838 464.184,231.846 455.894,230.35 447.604,231.846 447.604,234.838 455.894,236.333 \n",
       "  \" fill=\"#009af9\" fill-opacity=\"1\"/>\n",
       "<polygon clip-path=\"url(#clip8000)\" points=\"\n",
       "307.872,319.16 335.348,317.634 335.348,314.584 307.872,313.059 280.396,314.584 280.396,317.634 307.872,319.16 \n",
       "  \" fill=\"#000000\" fill-opacity=\"0.5\"/>\n",
       "<polygon clip-path=\"url(#clip8000)\" points=\"\n",
       "307.872,319.101 334.815,317.605 334.815,314.613 307.872,313.118 280.929,314.613 280.929,317.605 307.872,319.101 \n",
       "  \" fill=\"#009af9\" fill-opacity=\"1\"/>\n",
       "<polygon clip-path=\"url(#clip8000)\" points=\"\n",
       "124.972,377.789 142.085,376.245 142.085,373.157 124.972,371.613 107.859,373.157 107.859,376.245 124.972,377.789 \n",
       "  \" fill=\"#000000\" fill-opacity=\"0.5\"/>\n",
       "<polygon clip-path=\"url(#clip8000)\" points=\"\n",
       "124.972,377.692 141.552,376.197 141.552,373.205 124.972,371.71 108.392,373.205 108.392,376.197 124.972,377.692 \n",
       "  \" fill=\"#009af9\" fill-opacity=\"1\"/>\n",
       "<polygon clip-path=\"url(#clip8000)\" points=\"\n",
       "179.285,378.643 194.326,377.092 194.326,373.991 179.285,372.44 164.244,373.991 164.244,377.092 179.285,378.643 \n",
       "  \" fill=\"#000000\" fill-opacity=\"0.5\"/>\n",
       "<polygon clip-path=\"url(#clip8000)\" points=\"\n",
       "179.285,378.533 193.793,377.037 193.793,374.046 179.285,372.55 164.777,374.046 164.777,377.037 179.285,378.533 \n",
       "  \" fill=\"#009af9\" fill-opacity=\"1\"/>\n",
       "<polygon clip-path=\"url(#clip8000)\" points=\"\n",
       "446.916,405.317 461.957,403.767 461.957,400.665 446.916,399.115 431.875,400.665 431.875,403.767 446.916,405.317 \n",
       "  \" fill=\"#000000\" fill-opacity=\"0.5\"/>\n",
       "<polygon clip-path=\"url(#clip8000)\" points=\"\n",
       "446.916,405.208 461.424,403.712 461.424,400.72 446.916,399.225 432.408,400.72 432.408,403.712 446.916,405.208 \n",
       "  \" fill=\"#009af9\" fill-opacity=\"1\"/>\n",
       "<polygon clip-path=\"url(#clip8000)\" points=\"\n",
       "330.665,419.862 345.706,418.311 345.706,415.21 330.665,413.659 315.625,415.21 315.625,418.311 330.665,419.862 \n",
       "  \" fill=\"#000000\" fill-opacity=\"0.5\"/>\n",
       "<polygon clip-path=\"url(#clip8000)\" points=\"\n",
       "330.665,419.752 345.173,418.256 345.173,415.265 330.665,413.769 316.158,415.265 316.158,418.256 330.665,419.752 \n",
       "  \" fill=\"#009af9\" fill-opacity=\"1\"/>\n",
       "<g clip-path=\"url(#clip8000)\">\n",
       "<text style=\"fill:#000000; fill-opacity:1; font-family:Arial,Helvetica Neue,Helvetica,sans-serif; font-size:11; text-anchor:middle;\" transform=\"rotate(0, 671.091, 83.3026)\" x=\"671.091\" y=\"83.3026\">Any</text>\n",
       "</g>\n",
       "<g clip-path=\"url(#clip8000)\">\n",
       "<text style=\"fill:#000000; fill-opacity:1; font-family:Arial,Helvetica Neue,Helvetica,sans-serif; font-size:11; text-anchor:middle;\" transform=\"rotate(0, 591.769, 166.293)\" x=\"591.769\" y=\"166.293\">Number</text>\n",
       "</g>\n",
       "<g clip-path=\"url(#clip8000)\">\n",
       "<text style=\"fill:#000000; fill-opacity:1; font-family:Arial,Helvetica Neue,Helvetica,sans-serif; font-size:11; text-anchor:middle;\" transform=\"rotate(0, 455.894, 237.342)\" x=\"455.894\" y=\"237.342\">Real</text>\n",
       "</g>\n",
       "<g clip-path=\"url(#clip8000)\">\n",
       "<text style=\"fill:#000000; fill-opacity:1; font-family:Arial,Helvetica Neue,Helvetica,sans-serif; font-size:11; text-anchor:middle;\" transform=\"rotate(0, 307.872, 320.109)\" x=\"307.872\" y=\"320.109\">AbstractFloat</text>\n",
       "</g>\n",
       "<g clip-path=\"url(#clip8000)\">\n",
       "<text style=\"fill:#000000; fill-opacity:1; font-family:Arial,Helvetica Neue,Helvetica,sans-serif; font-size:11; text-anchor:middle;\" transform=\"rotate(0, 124.972, 378.701)\" x=\"124.972\" y=\"378.701\">BigFloat</text>\n",
       "</g>\n",
       "<g clip-path=\"url(#clip8000)\">\n",
       "<text style=\"fill:#000000; fill-opacity:1; font-family:Arial,Helvetica Neue,Helvetica,sans-serif; font-size:11; text-anchor:middle;\" transform=\"rotate(0, 179.285, 379.542)\" x=\"179.285\" y=\"379.542\">Float16</text>\n",
       "</g>\n",
       "<g clip-path=\"url(#clip8000)\">\n",
       "<text style=\"fill:#000000; fill-opacity:1; font-family:Arial,Helvetica Neue,Helvetica,sans-serif; font-size:11; text-anchor:middle;\" transform=\"rotate(0, 446.916, 406.216)\" x=\"446.916\" y=\"406.216\">Float32</text>\n",
       "</g>\n",
       "<g clip-path=\"url(#clip8000)\">\n",
       "<text style=\"fill:#000000; fill-opacity:1; font-family:Arial,Helvetica Neue,Helvetica,sans-serif; font-size:11; text-anchor:middle;\" transform=\"rotate(0, 330.665, 420.76)\" x=\"330.665\" y=\"420.76\">Float64</text>\n",
       "</g>\n",
       "</svg>\n"
      ]
     },
     "execution_count": 20,
     "metadata": {},
     "output_type": "execute_result"
    }
   ],
   "source": [
    "# make a list of a type T and it's supertypes\n",
    "T = AbstractFloat\n",
    "sups = [T]\n",
    "sup = T\n",
    "while sup != Any\n",
    "    sup = supertype(sup)\n",
    "    unshift!(sups,sup)\n",
    "end\n",
    "n = length(sups)\n",
    "nodes, source, destiny = copy(sups), collect(1:n-1), collect(2:n)\n",
    "add_subs!(T, n)\n",
    "names = map(string, nodes)\n",
    "\n",
    "graphplot(source, destiny, names=names, method=:tree)"
   ]
  },
  {
   "cell_type": "markdown",
   "metadata": {},
   "source": [
    "## Overflow and underflow of floating-point number\n",
    "\n",
    "* For double precision, the range is $\\pm 10^{\\pm 308}$. In most situations, underflow is preferred over overflow. Overflow causes crashes. Underflow yields zeros or denormalized numbers. \n",
    "\n",
    "* E.g., the logit link function is\n",
    "$$p = \\frac{\\exp (x^T \\beta)}{1 + \\exp (x^T \\beta)} = \\frac{1}{1+\\exp(- x^T \\beta)}.$$\n",
    "The former expression can easily lead to `Inf / Inf = NaN`, while the latter expression leads to graceful underflow."
   ]
  },
  {
   "cell_type": "code",
   "execution_count": 21,
   "metadata": {},
   "outputs": [
    {
     "name": "stdout",
     "output_type": "stream",
     "text": [
      "Float16\t-Inf\tInf\t6.104e-5\t6.55e4\t0.000977\n",
      "Float32\t-Inf\tInf\t1.1754944e-38\t3.4028235e38\t1.1920929e-7\n",
      "Float64\t-Inf\tInf\t2.2250738585072014e-308\t1.7976931348623157e308\t2.220446049250313e-16\n"
     ]
    }
   ],
   "source": [
    "for T in [Float16, Float32, Float64,]\n",
    "    println(T, '\\t', typemin(T), '\\t', typemax(T), '\\t', realmin(T), \n",
    "        '\\t', realmax(T), '\\t', eps(T))\n",
    "end"
   ]
  },
  {
   "cell_type": "markdown",
   "metadata": {},
   "source": [
    "* `BigFloat` in Julia offers arbitrary precision."
   ]
  },
  {
   "cell_type": "code",
   "execution_count": 22,
   "metadata": {},
   "outputs": [
    {
     "name": "stdout",
     "output_type": "stream",
     "text": [
      "(precision(BigFloat), realmin(BigFloat), realmax(BigFloat)) = (256, 8.50969131174083613912978790962048280567755996982969624908264897850135431080301e-1388255822130839284, 5.875653789111587590936911998878442589938516392745498308333779606469323584389875e+1388255822130839282)\n"
     ]
    }
   ],
   "source": [
    "@show precision(BigFloat), realmin(BigFloat), realmax(BigFloat);"
   ]
  },
  {
   "cell_type": "code",
   "execution_count": 23,
   "metadata": {},
   "outputs": [
    {
     "name": "stdout",
     "output_type": "stream",
     "text": [
      "BigFloat(π) = 3.141592653589793238462643383279502884197169399375105820974944592307816406286198\n",
      "BigFloat(π) = 3.141592653589793238462643383279502884197169399375105820974944592307816406286208998628034825342117067982148086513282306647093844609550582231725359408128481117450284102701938521105559644622948954930381964428810975665933446128475648233786783165271201909145648566923460348610454326648213393607260249141273724586997\n"
     ]
    }
   ],
   "source": [
    "@show BigFloat(π); # default precision for BigFloat is 256 bits\n",
    "# set precision to 1024 bits\n",
    "setprecision(BigFloat, 1024) do \n",
    "    @show BigFloat(π)\n",
    "end;"
   ]
  },
  {
   "cell_type": "markdown",
   "metadata": {},
   "source": [
    "## Catastrophic cancellation\n",
    "\n",
    "* **Scenario 1**: Addition or subtraction of two numbers of widely different magnitudes: $a+b$ or $a-b$ where $a \\gg b$ or $a \\ll b$. We loose the precision in the number of smaller magnitude. Consider \n",
    "$$\\begin{eqnarray*}\n",
    "    a &=& x.xxx ... \\times 2^{30} \\\\  \n",
    "    b &=& y.yyy... \\times 2^{-30}\n",
    "\\end{eqnarray*}$$\n",
    "What happens when computer calculates $a+b$? We get $a+b=a$!"
   ]
  },
  {
   "cell_type": "code",
   "execution_count": 24,
   "metadata": {},
   "outputs": [
    {
     "data": {
      "text/plain": [
       "true"
      ]
     },
     "execution_count": 24,
     "metadata": {},
     "output_type": "execute_result"
    }
   ],
   "source": [
    "a = 1.0 * 2.0^30\n",
    "b = 1.0 * 2.0^-30\n",
    "a + b == a"
   ]
  },
  {
   "cell_type": "markdown",
   "metadata": {},
   "source": [
    "* **Scenario 2**: Subtraction of two nearly equal numbers eliminates significant digits.  $a-b$ where $a \\approx b$. Consider \n",
    "$$\\begin{eqnarray*}\n",
    "    a &=& x.xxxxxxxxxx1ssss  \\\\\n",
    "    b &=& x.xxxxxxxxxx0tttt\n",
    "\\end{eqnarray*}$$\n",
    "The result is $1.vvvvu...u$ where $u$ are unassigned digits."
   ]
  },
  {
   "cell_type": "code",
   "execution_count": 25,
   "metadata": {},
   "outputs": [
    {
     "name": "stdout",
     "output_type": "stream",
     "text": [
      "bits(a) = \"00111111100111100000011001010001\"\n",
      "bits(b) = \"00111111100111100000011001010000\"\n",
      "a - b = 1.1920929f-7\n",
      "bits(a - b) = \"00110100000000000000000000000000\"\n"
     ]
    }
   ],
   "source": [
    "a = 1.2345678f0 # rounding\n",
    "@show bits(a) # rounding\n",
    "b = 1.2345677f0\n",
    "@show bits(b)\n",
    "@show a - b # correct result should be 1e-7\n",
    "@show bits(a - b);"
   ]
  },
  {
   "cell_type": "markdown",
   "metadata": {},
   "source": [
    "* Implications for numerical computation\n",
    "    - Rule 1: add small numbers together before adding larger ones  \n",
    "    - Rule 2: add numbers of like magnitude together (paring). When all numbers are of same sign and similar magnitude, add in pairs so each stage the summands are of similar magnitude  \n",
    "    - Rule 3: avoid substraction of two numbers that are nearly equal"
   ]
  },
  {
   "cell_type": "markdown",
   "metadata": {},
   "source": [
    "### Algebraic laws\n",
    "\n",
    "Floating-point numbers may violate many algebraic laws we are familiar with, such associative and distributive laws. See Homework 1 problems."
   ]
  },
  {
   "cell_type": "markdown",
   "metadata": {},
   "source": [
    "## Further reading\n",
    "\n",
    "* Textbook treatment, e.g., Chapter II.2 of [Computational Statistics](http://ucla.worldcat.org/title/computational-statistics/oclc/437345409&referer=brief_results) by James Gentle (2010).\n",
    "\n",
    "* [What every computer scientist should know about floating-point arithmetic](http://hua-zhou.github.io/teaching/biostatm280-2017spring/readings/Goldberg91FloatingPoint.pdf) by David Goldberg (1991)."
   ]
  }
 ],
 "metadata": {
  "kernelspec": {
   "display_name": "Julia 0.6.2",
   "language": "julia",
   "name": "julia-0.6"
  },
  "language_info": {
   "file_extension": ".jl",
   "mimetype": "application/julia",
   "name": "julia",
   "version": "0.6.2"
  },
  "toc": {
   "colors": {
    "hover_highlight": "#DAA520",
    "running_highlight": "#FF0000",
    "selected_highlight": "#FFD700"
   },
   "moveMenuLeft": true,
   "nav_menu": {
    "height": "250px",
    "width": "252px"
   },
   "navigate_menu": true,
   "number_sections": true,
   "sideBar": true,
   "threshold": 4,
   "toc_cell": false,
   "toc_section_display": "block",
   "toc_window_display": false,
   "widenNotebook": false
  }
 },
 "nbformat": 4,
 "nbformat_minor": 2
}
