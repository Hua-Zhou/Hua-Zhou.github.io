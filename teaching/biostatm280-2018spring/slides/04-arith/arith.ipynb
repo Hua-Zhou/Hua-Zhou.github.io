{
 "cells": [
  {
   "cell_type": "markdown",
   "metadata": {},
   "source": [
    "# Computer arithmetics"
   ]
  },
  {
   "cell_type": "markdown",
   "metadata": {},
   "source": [
    "## Units of computer storage\n",
    "\n",
    "* `bit` = `binary` + `digit` (coined by statistician [John Tukey](https://en.wikipedia.org/wiki/Bit#History)).  \n",
    "* `byte` = 8 bits.  \n",
    "* KB = kilobyte = $10^3$ bytes.  \n",
    "* MB = megabytes = $10^6$ bytes.  \n",
    "* GB = gigabytes = $10^9$ bytes. Typical RAM size.  \n",
    "* TB = terabytes = $10^{12}$ bytes. Typical hard drive size. Size of NYSE each trading session.    \n",
    "* PB = petabytes = $10^{15}$ bytes.  \n",
    "* EB = exabytes = $10^{18}$ bytes. Size of all healthcare data in 2011 is ~150 EB.    \n",
    "* ZB = zetabytes = $10^{21}$ bytes. \n",
    "\n",
    "Julia function `Base.summarysize` shows the amount of memory (in bytes) used by an object."
   ]
  },
  {
   "cell_type": "code",
   "execution_count": 1,
   "metadata": {},
   "outputs": [
    {
     "data": {
      "text/plain": [
       "80000"
      ]
     },
     "execution_count": 1,
     "metadata": {},
     "output_type": "execute_result"
    }
   ],
   "source": [
    "x = rand(100, 100)\n",
    "Base.summarysize(x)"
   ]
  },
  {
   "cell_type": "markdown",
   "metadata": {},
   "source": [
    "## Storage of Characters\n",
    "\n",
    "* Plain text files are stored in the form of characters: `.jl`, `.r`, `.c`, `.cpp`, `.ipynb`, `.html`, `.tex`, ...  \n",
    "* ASCII (American Code for Information Interchange): 7 bits, only $2^7=128$ characters.  "
   ]
  },
  {
   "cell_type": "code",
   "execution_count": 2,
   "metadata": {},
   "outputs": [
    {
     "data": {
      "text/plain": [
       "128×2 Array{Any,2}:\n",
       "   0  '\\0'  \n",
       "   1  '\\x01'\n",
       "   2  '\\x02'\n",
       "   3  '\\x03'\n",
       "   4  '\\x04'\n",
       "   5  '\\x05'\n",
       "   6  '\\x06'\n",
       "   7  '\\a'  \n",
       "   8  '\\b'  \n",
       "   9  '\\t'  \n",
       "  10  '\\n'  \n",
       "  11  '\\v'  \n",
       "  12  '\\f'  \n",
       "   ⋮        \n",
       " 116  't'   \n",
       " 117  'u'   \n",
       " 118  'v'   \n",
       " 119  'w'   \n",
       " 120  'x'   \n",
       " 121  'y'   \n",
       " 122  'z'   \n",
       " 123  '{'   \n",
       " 124  '|'   \n",
       " 125  '}'   \n",
       " 126  '~'   \n",
       " 127  '\\x7f'"
      ]
     },
     "execution_count": 2,
     "metadata": {},
     "output_type": "execute_result"
    }
   ],
   "source": [
    "# integers 0, 1, ..., 127 and corresponding ascii character\n",
    "[0:127 Char.(0:127)]"
   ]
  },
  {
   "cell_type": "markdown",
   "metadata": {},
   "source": [
    "* Extended ASCII: 8 bits, $2^8=256$ characters.  "
   ]
  },
  {
   "cell_type": "code",
   "execution_count": 3,
   "metadata": {},
   "outputs": [
    {
     "data": {
      "text/plain": [
       "128×2 Array{Any,2}:\n",
       " 128  '\\u80'\n",
       " 129  '\\u81'\n",
       " 130  '\\u82'\n",
       " 131  '\\u83'\n",
       " 132  '\\u84'\n",
       " 133  '\\u85'\n",
       " 134  '\\u86'\n",
       " 135  '\\u87'\n",
       " 136  '\\u88'\n",
       " 137  '\\u89'\n",
       " 138  '\\u8a'\n",
       " 139  '\\u8b'\n",
       " 140  '\\u8c'\n",
       "   ⋮        \n",
       " 244  'ô'   \n",
       " 245  'õ'   \n",
       " 246  'ö'   \n",
       " 247  '÷'   \n",
       " 248  'ø'   \n",
       " 249  'ù'   \n",
       " 250  'ú'   \n",
       " 251  'û'   \n",
       " 252  'ü'   \n",
       " 253  'ý'   \n",
       " 254  'þ'   \n",
       " 255  'ÿ'   "
      ]
     },
     "execution_count": 3,
     "metadata": {},
     "output_type": "execute_result"
    }
   ],
   "source": [
    "# integers 128, 129, ..., 255 and corresponding extended ascii character\n",
    "[128:255 Char.(128:255)]"
   ]
  },
  {
   "cell_type": "markdown",
   "metadata": {},
   "source": [
    "* Unicode: UTF-8, UTF-16 and UTF-32 support many more characters including foreign characters; last 7 digits conform to ASCII. \n",
    "\n",
    "* [UTF-8](https://en.wikipedia.org/wiki/UTF-8) is the current dominant character encoding on internet.  \n",
    "\n",
    "<img src=\"https://upload.wikimedia.org/wikipedia/commons/c/c4/Utf8webgrowth.svg\" width=\"500\" align=\"center\"/>\n",
    "\n",
    "* Julia supports the full range of UTF-8 characters. You can type many Unicode math symbols by typing the backslashed LaTeX symbol name followed by tab. "
   ]
  },
  {
   "cell_type": "code",
   "execution_count": 4,
   "metadata": {},
   "outputs": [
    {
     "data": {
      "text/plain": [
       "0.0"
      ]
     },
     "execution_count": 4,
     "metadata": {},
     "output_type": "execute_result"
    }
   ],
   "source": [
    "# \\beta-<tab>\n",
    "β = 0.0\n",
    "# \\beta-<tab>-\\hat-<tab>\n",
    "β̂ = 0.0"
   ]
  },
  {
   "cell_type": "markdown",
   "metadata": {},
   "source": [
    "## Fixed-point number system\n",
    "\n",
    "* Fixed-point number system $\\mathbb{I}$ is a computer model for integers $\\mathbb{Z}$. \n",
    "\n",
    "* The number of bits and method of representing negative numbers vary from system to system. \n",
    "    - The `integer` type in R has $M=32$ or 64 bits. \n",
    "    - Matlab has `(u)int8`, `(u)int16`, `(u)int32`, `(u)int64`.  \n",
    "    - Julia has even more integer types. Using Tom Breloff's `Plots.jl` and `PlotRecipes.jl` packages, we can [visualize the type tree](http://www.breloff.com/Graphs/) under `Integer`\n",
    "    - Storage for a `Signed` or `Unsigned` integer can be $M = 8, 16, 32, 64$ or 128 bits."
   ]
  },
  {
   "cell_type": "code",
   "execution_count": 5,
   "metadata": {},
   "outputs": [
    {
     "name": "stderr",
     "output_type": "stream",
     "text": [
      "\u001b[1m\u001b[33mWARNING: \u001b[39m\u001b[22m\u001b[33mInstall LightGraphs for the best layout calculations.\u001b[39m\n"
     ]
    },
    {
     "data": {
      "image/svg+xml": [
       "<?xml version=\"1.0\" encoding=\"utf-8\"?>\n",
       "<svg xmlns=\"http://www.w3.org/2000/svg\" xmlns:xlink=\"http://www.w3.org/1999/xlink\" width=\"800\" height=\"500\" viewBox=\"0 0 800 500\">\n",
       "<defs>\n",
       "  <clipPath id=\"clip2400\">\n",
       "    <rect x=\"0\" y=\"0\" width=\"800\" height=\"500\"/>\n",
       "  </clipPath>\n",
       "</defs>\n",
       "<polygon clip-path=\"url(#clip2400)\" points=\"\n",
       "0,500 800,500 800,0 0,0 \n",
       "  \" fill=\"#ffffff\" fill-opacity=\"1\"/>\n",
       "<defs>\n",
       "  <clipPath id=\"clip2401\">\n",
       "    <rect x=\"160\" y=\"0\" width=\"561\" height=\"500\"/>\n",
       "  </clipPath>\n",
       "</defs>\n",
       "<polygon clip-path=\"url(#clip2400)\" points=\"\n",
       "15.748,484.252 780.315,484.252 780.315,11.811 15.748,11.811 \n",
       "  \" fill=\"#ffffff\" fill-opacity=\"1\"/>\n",
       "<defs>\n",
       "  <clipPath id=\"clip2402\">\n",
       "    <rect x=\"15\" y=\"11\" width=\"766\" height=\"473\"/>\n",
       "  </clipPath>\n",
       "</defs>\n",
       "<polyline clip-path=\"url(#clip2400)\" style=\"stroke:#000000; stroke-width:1; stroke-opacity:1; fill:none\" points=\"\n",
       "  15.748,484.252 780.315,484.252 \n",
       "  \"/>\n",
       "<polyline clip-path=\"url(#clip2400)\" style=\"stroke:#000000; stroke-width:1; stroke-opacity:1; fill:none\" points=\"\n",
       "  15.748,484.252 15.748,11.811 \n",
       "  \"/>\n",
       "<polyline clip-path=\"url(#clip2402)\" style=\"stroke:#d968a2; stroke-width:1; stroke-opacity:0.5; fill:none\" points=\"\n",
       "  378.393,79.3026 378.397,82.1227 378.41,85.0025 378.43,87.9376 378.457,90.9234 378.491,93.9556 378.53,97.0299 378.575,100.142 378.624,103.287 378.677,106.46 \n",
       "  378.734,109.658 378.793,112.876 378.854,116.109 378.917,119.354 378.981,122.605 379.045,125.858 379.109,129.109 379.172,132.353 379.233,135.587 379.293,138.804 \n",
       "  379.349,142.002 379.402,145.176 379.451,148.321 379.496,151.433 379.535,154.507 379.569,157.539 379.596,160.525 379.616,163.46 379.629,166.34 379.633,169.16 \n",
       "  \n",
       "  \"/>\n",
       "<polyline clip-path=\"url(#clip2402)\" style=\"stroke:#d968a2; stroke-width:1; stroke-opacity:0.5; fill:none\" points=\"\n",
       "  379.633,169.16 379.847,171.006 380.469,172.744 381.469,174.384 382.816,175.933 384.481,177.398 386.433,178.788 388.641,180.11 391.077,181.374 393.708,182.585 \n",
       "  396.506,183.753 399.44,184.886 402.48,185.99 405.595,187.075 408.755,188.148 411.931,189.217 415.091,190.29 418.207,191.375 421.246,192.479 424.18,193.612 \n",
       "  426.978,194.78 429.61,195.992 432.045,197.255 434.253,198.577 436.205,199.967 437.87,201.433 439.217,202.981 440.217,204.621 440.839,206.359 441.053,208.205 \n",
       "  \n",
       "  \"/>\n",
       "<polyline clip-path=\"url(#clip2402)\" style=\"stroke:#d968a2; stroke-width:1; stroke-opacity:0.5; fill:none\" points=\"\n",
       "  441.053,208.205 440.923,210.238 440.546,212.27 439.941,214.302 439.125,216.334 438.116,218.366 436.934,220.398 435.597,222.429 434.121,224.461 432.527,226.492 \n",
       "  430.833,228.524 429.056,230.555 427.214,232.586 425.327,234.617 423.413,236.648 421.489,238.68 419.575,240.711 417.688,242.742 415.847,244.773 414.07,246.804 \n",
       "  412.375,248.836 410.781,250.867 409.306,252.899 407.968,254.93 406.786,256.962 405.778,258.994 404.962,261.026 404.356,263.058 403.979,265.09 403.85,267.123 \n",
       "  \n",
       "  \"/>\n",
       "<polyline clip-path=\"url(#clip2402)\" style=\"stroke:#d968a2; stroke-width:1; stroke-opacity:0.5; fill:none\" points=\"\n",
       "  403.85,267.123 403.916,269.915 404.108,272.757 404.417,275.647 404.833,278.581 405.348,281.555 405.951,284.564 406.634,287.606 407.386,290.676 408.2,293.771 \n",
       "  409.064,296.887 409.971,300.019 410.91,303.165 411.873,306.321 412.85,309.482 413.831,312.645 414.808,315.806 415.771,318.962 416.71,322.108 417.617,325.24 \n",
       "  418.482,328.356 419.295,331.451 420.048,334.521 420.73,337.563 421.334,340.572 421.848,343.546 422.264,346.479 422.573,349.369 422.766,352.212 422.832,355.004 \n",
       "  \n",
       "  \"/>\n",
       "<polyline clip-path=\"url(#clip2402)\" style=\"stroke:#d968a2; stroke-width:1; stroke-opacity:0.5; fill:none\" points=\"\n",
       "  403.85,267.123 403.76,269.874 403.501,272.669 403.085,275.505 402.523,278.377 401.829,281.284 401.016,284.221 400.096,287.185 399.081,290.174 397.984,293.184 \n",
       "  396.818,296.211 395.596,299.253 394.329,302.306 393.031,305.367 391.714,308.434 390.391,311.501 389.074,314.568 387.775,317.629 386.509,320.682 385.286,323.724 \n",
       "  384.12,326.751 383.023,329.761 382.009,332.75 381.088,335.714 380.275,338.651 379.581,341.558 379.02,344.43 378.603,347.266 378.344,350.061 378.255,352.812 \n",
       "  \n",
       "  \"/>\n",
       "<polyline clip-path=\"url(#clip2402)\" style=\"stroke:#d968a2; stroke-width:1; stroke-opacity:0.5; fill:none\" points=\"\n",
       "  403.85,267.123 404.425,270.589 406.097,273.824 408.784,276.846 412.406,279.672 416.88,282.319 422.127,284.804 428.063,287.143 434.609,289.355 441.683,291.456 \n",
       "  449.204,293.463 457.09,295.394 465.26,297.264 473.634,299.092 482.129,300.895 490.665,302.689 499.161,304.491 507.534,306.319 515.705,308.19 523.591,310.12 \n",
       "  531.111,312.128 538.185,314.229 544.731,316.44 550.668,318.78 555.914,321.265 560.388,323.912 564.01,326.738 566.697,329.76 568.369,332.995 568.945,336.461 \n",
       "  \n",
       "  \"/>\n",
       "<polyline clip-path=\"url(#clip2402)\" style=\"stroke:#d968a2; stroke-width:1; stroke-opacity:0.5; fill:none\" points=\"\n",
       "  568.945,336.461 568.796,338.867 568.363,341.277 567.666,343.688 566.729,346.103 565.57,348.519 564.211,350.938 562.673,353.358 560.978,355.78 559.146,358.203 \n",
       "  557.198,360.628 555.155,363.053 553.039,365.479 550.87,367.906 548.67,370.333 546.459,372.76 544.259,375.187 542.09,377.613 539.974,380.04 537.931,382.465 \n",
       "  535.984,384.889 534.151,387.313 532.456,389.734 530.919,392.155 529.56,394.573 528.401,396.99 527.463,399.404 526.767,401.816 526.334,404.225 526.185,406.632 \n",
       "  \n",
       "  \"/>\n",
       "<polyline clip-path=\"url(#clip2402)\" style=\"stroke:#d968a2; stroke-width:1; stroke-opacity:0.5; fill:none\" points=\"\n",
       "  568.945,336.461 569.088,339.149 569.505,341.854 570.175,344.575 571.078,347.311 572.194,350.061 573.502,352.823 574.982,355.596 576.614,358.378 578.378,361.169 \n",
       "  580.253,363.967 582.22,366.771 584.257,369.579 586.345,372.39 588.463,375.204 590.592,378.018 592.71,380.831 594.798,383.642 596.835,386.451 598.802,389.254 \n",
       "  600.677,392.052 602.441,394.843 604.073,397.626 605.553,400.398 606.861,403.16 607.977,405.91 608.88,408.646 609.55,411.367 609.967,414.073 610.11,416.76 \n",
       "  \n",
       "  \"/>\n",
       "<polyline clip-path=\"url(#clip2402)\" style=\"stroke:#d968a2; stroke-width:1; stroke-opacity:0.5; fill:none\" points=\"\n",
       "  568.945,336.461 569.21,339.079 569.983,341.6 571.225,344.032 572.898,346.382 574.965,348.657 577.389,350.864 580.132,353.011 583.156,355.104 586.424,357.15 \n",
       "  589.899,359.157 593.542,361.132 597.317,363.082 601.186,365.014 605.111,366.936 609.054,368.854 612.979,370.775 616.848,372.707 620.623,374.657 624.266,376.632 \n",
       "  627.741,378.639 631.009,380.686 634.034,382.779 636.776,384.925 639.2,387.132 641.267,389.407 642.941,391.757 644.182,394.189 644.955,396.711 645.221,399.328 \n",
       "  \n",
       "  \"/>\n",
       "<polyline clip-path=\"url(#clip2402)\" style=\"stroke:#d968a2; stroke-width:1; stroke-opacity:0.5; fill:none\" points=\"\n",
       "  568.945,336.461 568.961,338.662 569.008,340.909 569.084,343.199 569.186,345.528 569.312,347.893 569.46,350.29 569.628,352.717 569.813,355.168 570.012,357.642 \n",
       "  570.225,360.135 570.447,362.643 570.678,365.163 570.914,367.691 571.154,370.224 571.395,372.76 571.635,375.293 571.871,377.821 572.102,380.341 572.324,382.849 \n",
       "  572.536,385.342 572.736,387.816 572.921,390.267 573.088,392.694 573.236,395.091 573.363,397.456 573.465,399.785 573.541,402.075 573.588,404.322 573.604,406.523 \n",
       "  \n",
       "  \"/>\n",
       "<polyline clip-path=\"url(#clip2402)\" style=\"stroke:#d968a2; stroke-width:1; stroke-opacity:0.5; fill:none\" points=\"\n",
       "  568.945,336.461 569.301,339.494 570.335,342.345 571.998,345.026 574.239,347.552 577.007,349.935 580.253,352.19 583.926,354.329 587.976,356.367 592.353,358.317 \n",
       "  597.006,360.193 601.885,362.007 606.94,363.774 612.121,365.507 617.377,367.22 622.659,368.926 627.915,370.639 633.096,372.373 638.151,374.14 643.03,375.954 \n",
       "  647.683,377.83 652.06,379.78 656.11,381.818 659.783,383.957 663.029,386.212 665.797,388.595 668.038,391.121 669.701,393.802 670.735,396.653 671.091,399.686 \n",
       "  \n",
       "  \"/>\n",
       "<polyline clip-path=\"url(#clip2402)\" style=\"stroke:#d968a2; stroke-width:1; stroke-opacity:0.5; fill:none\" points=\"\n",
       "  403.85,267.123 403.258,270.621 401.54,273.887 398.779,276.937 395.058,279.79 390.46,282.461 385.07,284.969 378.97,287.331 372.244,289.564 364.975,291.684 \n",
       "  357.248,293.71 349.145,295.659 340.749,297.547 332.145,299.392 323.416,301.212 314.645,303.022 305.916,304.842 297.312,306.687 288.917,308.575 280.814,310.524 \n",
       "  273.086,312.55 265.818,314.67 259.092,316.903 252.992,319.265 247.602,321.773 243.004,324.444 239.283,327.297 236.521,330.347 234.803,333.613 234.212,337.111 \n",
       "  \n",
       "  \"/>\n",
       "<polyline clip-path=\"url(#clip2402)\" style=\"stroke:#d968a2; stroke-width:1; stroke-opacity:0.5; fill:none\" points=\"\n",
       "  234.212,337.111 234.121,338.871 233.857,340.645 233.433,342.43 232.862,344.227 232.155,346.034 231.327,347.851 230.39,349.675 229.357,351.507 228.24,353.345 \n",
       "  227.053,355.189 225.808,357.037 224.519,358.888 223.197,360.742 221.856,362.597 220.508,364.453 219.167,366.308 217.846,368.162 216.556,370.013 215.311,371.861 \n",
       "  214.124,373.704 213.007,375.543 211.974,377.374 211.037,379.199 210.209,381.015 209.503,382.822 208.931,384.619 208.507,386.405 208.243,388.178 208.152,389.939 \n",
       "  \n",
       "  \"/>\n",
       "<polyline clip-path=\"url(#clip2402)\" style=\"stroke:#d968a2; stroke-width:1; stroke-opacity:0.5; fill:none\" points=\"\n",
       "  234.212,337.111 233.914,339.63 233.048,341.993 231.656,344.211 229.781,346.297 227.463,348.262 224.746,350.117 221.672,351.873 218.282,353.543 214.618,355.138 \n",
       "  210.723,356.67 206.639,358.149 202.407,359.589 198.07,360.999 193.67,362.392 189.25,363.779 184.85,365.172 180.513,366.582 176.281,368.021 172.197,369.501 \n",
       "  168.302,371.032 164.638,372.627 161.248,374.297 158.174,376.054 155.457,377.909 153.139,379.874 151.263,381.959 149.872,384.178 149.006,386.541 148.708,389.06 \n",
       "  \n",
       "  \"/>\n",
       "<polyline clip-path=\"url(#clip2402)\" style=\"stroke:#d968a2; stroke-width:1; stroke-opacity:0.5; fill:none\" points=\"\n",
       "  234.212,337.111 234.34,339.325 234.712,341.548 235.31,343.779 236.116,346.017 237.112,348.262 238.279,350.512 239.6,352.768 241.056,355.029 242.63,357.294 \n",
       "  244.303,359.562 246.058,361.833 247.876,364.106 249.739,366.381 251.629,368.657 253.529,370.933 255.419,373.209 257.282,375.484 259.1,377.757 260.854,380.028 \n",
       "  262.528,382.296 264.102,384.561 265.558,386.822 266.879,389.078 268.046,391.328 269.042,393.573 269.848,395.811 270.446,398.042 270.818,400.265 270.946,402.479 \n",
       "  \n",
       "  \"/>\n",
       "<polyline clip-path=\"url(#clip2402)\" style=\"stroke:#d968a2; stroke-width:1; stroke-opacity:0.5; fill:none\" points=\"\n",
       "  234.212,337.111 233.831,339.746 232.725,342.206 230.947,344.504 228.551,346.652 225.59,348.665 222.119,350.554 218.191,352.333 213.859,354.015 209.179,355.612 \n",
       "  204.202,357.138 198.984,358.606 193.578,360.028 188.037,361.418 182.416,362.788 176.768,364.152 171.147,365.523 165.606,366.913 160.2,368.335 154.982,369.803 \n",
       "  150.005,371.329 145.325,372.926 140.994,374.608 137.065,376.387 133.594,378.276 130.633,380.289 128.237,382.437 126.459,384.735 125.353,387.195 124.972,389.83 \n",
       "  \n",
       "  \"/>\n",
       "<polyline clip-path=\"url(#clip2402)\" style=\"stroke:#d968a2; stroke-width:1; stroke-opacity:0.5; fill:none\" points=\"\n",
       "  234.212,337.111 234.031,339.494 233.505,341.854 232.659,344.194 231.519,346.513 230.111,348.815 228.459,351.101 226.591,353.373 224.53,355.632 222.304,357.88 \n",
       "  219.937,360.118 217.454,362.349 214.883,364.575 212.247,366.795 209.573,369.014 206.886,371.231 204.212,373.45 201.577,375.671 199.005,377.896 196.523,380.127 \n",
       "  194.155,382.365 191.929,384.613 189.869,386.872 188,389.144 186.349,391.43 184.94,393.732 183.8,396.052 182.955,398.391 182.428,400.751 182.247,403.134 \n",
       "  \n",
       "  \"/>\n",
       "<polygon clip-path=\"url(#clip2400)\" points=\"\n",
       "378.393,82.5505 385.144,80.9265 385.144,77.6787 378.393,76.0547 371.643,77.6787 371.643,80.9265 378.393,82.5505 \n",
       "  \" fill=\"#000000\" fill-opacity=\"0.5\"/>\n",
       "<polygon clip-path=\"url(#clip2400)\" points=\"\n",
       "378.393,82.294 384.611,80.7983 384.611,77.8069 378.393,76.3111 372.175,77.8069 372.175,80.7983 378.393,82.294 \n",
       "  \" fill=\"#009af9\" fill-opacity=\"1\"/>\n",
       "<polygon clip-path=\"url(#clip2400)\" points=\"\n",
       "379.633,172.28 392.601,170.72 392.601,167.6 379.633,166.04 366.665,167.6 366.665,170.72 379.633,172.28 \n",
       "  \" fill=\"#000000\" fill-opacity=\"0.5\"/>\n",
       "<polygon clip-path=\"url(#clip2400)\" points=\"\n",
       "379.633,172.152 392.069,170.656 392.069,167.664 379.633,166.169 367.198,167.664 367.198,170.656 379.633,172.152 \n",
       "  \" fill=\"#009af9\" fill-opacity=\"1\"/>\n",
       "<polygon clip-path=\"url(#clip2400)\" points=\"\n",
       "441.053,211.389 449.876,209.797 449.876,206.613 441.053,205.021 432.23,206.613 432.23,209.797 441.053,211.389 \n",
       "  \" fill=\"#000000\" fill-opacity=\"0.5\"/>\n",
       "<polygon clip-path=\"url(#clip2400)\" points=\"\n",
       "441.053,211.197 449.343,209.701 449.343,206.709 441.053,205.214 432.763,206.709 432.763,209.701 441.053,211.197 \n",
       "  \" fill=\"#009af9\" fill-opacity=\"1\"/>\n",
       "<polygon clip-path=\"url(#clip2400)\" points=\"\n",
       "403.85,270.224 418.89,268.674 418.89,265.572 403.85,264.022 388.809,265.572 388.809,268.674 403.85,270.224 \n",
       "  \" fill=\"#000000\" fill-opacity=\"0.5\"/>\n",
       "<polygon clip-path=\"url(#clip2400)\" points=\"\n",
       "403.85,270.114 418.357,268.619 418.357,265.627 403.85,264.132 389.342,265.627 389.342,268.619 403.85,270.114 \n",
       "  \" fill=\"#009af9\" fill-opacity=\"1\"/>\n",
       "<polygon clip-path=\"url(#clip2400)\" points=\"\n",
       "422.832,358.123 435.8,356.564 435.8,353.444 422.832,351.884 409.864,353.444 409.864,356.564 422.832,358.123 \n",
       "  \" fill=\"#000000\" fill-opacity=\"0.5\"/>\n",
       "<polygon clip-path=\"url(#clip2400)\" points=\"\n",
       "422.832,357.995 435.267,356.499 435.267,353.508 422.832,352.012 410.397,353.508 410.397,356.499 422.832,357.995 \n",
       "  \" fill=\"#009af9\" fill-opacity=\"1\"/>\n",
       "<polygon clip-path=\"url(#clip2400)\" points=\"\n",
       "378.255,355.996 387.078,354.404 387.078,351.22 378.255,349.628 369.432,351.22 369.432,354.404 378.255,355.996 \n",
       "  \" fill=\"#000000\" fill-opacity=\"0.5\"/>\n",
       "<polygon clip-path=\"url(#clip2400)\" points=\"\n",
       "378.255,355.803 386.545,354.308 386.545,351.316 378.255,349.821 369.965,351.316 369.965,354.308 378.255,355.803 \n",
       "  \" fill=\"#009af9\" fill-opacity=\"1\"/>\n",
       "<polygon clip-path=\"url(#clip2400)\" points=\"\n",
       "568.945,339.58 581.913,338.021 581.913,334.901 568.945,333.341 555.976,334.901 555.976,338.021 568.945,339.58 \n",
       "  \" fill=\"#000000\" fill-opacity=\"0.5\"/>\n",
       "<polygon clip-path=\"url(#clip2400)\" points=\"\n",
       "568.945,339.452 581.38,337.957 581.38,334.965 568.945,333.469 556.509,334.965 556.509,337.957 568.945,339.452 \n",
       "  \" fill=\"#009af9\" fill-opacity=\"1\"/>\n",
       "<polygon clip-path=\"url(#clip2400)\" points=\"\n",
       "526.185,409.752 539.153,408.192 539.153,405.072 526.185,403.512 513.217,405.072 513.217,408.192 526.185,409.752 \n",
       "  \" fill=\"#000000\" fill-opacity=\"0.5\"/>\n",
       "<polygon clip-path=\"url(#clip2400)\" points=\"\n",
       "526.185,409.623 538.62,408.128 538.62,405.136 526.185,403.64 513.75,405.136 513.75,408.128 526.185,409.623 \n",
       "  \" fill=\"#009af9\" fill-opacity=\"1\"/>\n",
       "<polygon clip-path=\"url(#clip2400)\" points=\"\n",
       "610.11,419.906 621.006,418.333 621.006,415.188 610.11,413.615 599.215,415.188 599.215,418.333 610.11,419.906 \n",
       "  \" fill=\"#000000\" fill-opacity=\"0.5\"/>\n",
       "<polygon clip-path=\"url(#clip2400)\" points=\"\n",
       "610.11,419.752 620.473,418.256 620.473,415.265 610.11,413.769 599.748,415.265 599.748,418.256 610.11,419.752 \n",
       "  \" fill=\"#009af9\" fill-opacity=\"1\"/>\n",
       "<polygon clip-path=\"url(#clip2400)\" points=\"\n",
       "645.221,402.474 656.116,400.901 656.116,397.756 645.221,396.183 634.325,397.756 634.325,400.901 645.221,402.474 \n",
       "  \" fill=\"#000000\" fill-opacity=\"0.5\"/>\n",
       "<polygon clip-path=\"url(#clip2400)\" points=\"\n",
       "645.221,402.32 655.583,400.824 655.583,397.833 645.221,396.337 634.858,397.833 634.858,400.824 645.221,402.32 \n",
       "  \" fill=\"#009af9\" fill-opacity=\"1\"/>\n",
       "<polygon clip-path=\"url(#clip2400)\" points=\"\n",
       "573.604,409.669 584.5,408.096 584.5,404.951 573.604,403.378 562.709,404.951 562.709,408.096 573.604,409.669 \n",
       "  \" fill=\"#000000\" fill-opacity=\"0.5\"/>\n",
       "<polygon clip-path=\"url(#clip2400)\" points=\"\n",
       "573.604,409.515 583.967,408.019 583.967,405.028 573.604,403.532 563.242,405.028 563.242,408.019 573.604,409.515 \n",
       "  \" fill=\"#009af9\" fill-opacity=\"1\"/>\n",
       "<polygon clip-path=\"url(#clip2400)\" points=\"\n",
       "671.091,402.87 679.914,401.278 679.914,398.094 671.091,396.502 662.268,398.094 662.268,401.278 671.091,402.87 \n",
       "  \" fill=\"#000000\" fill-opacity=\"0.5\"/>\n",
       "<polygon clip-path=\"url(#clip2400)\" points=\"\n",
       "671.091,402.677 679.381,401.182 679.381,398.19 671.091,396.695 662.801,398.19 662.801,401.182 671.091,402.677 \n",
       "  \" fill=\"#009af9\" fill-opacity=\"1\"/>\n",
       "<polygon clip-path=\"url(#clip2400)\" points=\"\n",
       "234.212,340.199 251.325,338.655 251.325,335.567 234.212,334.023 217.099,335.567 217.099,338.655 234.212,340.199 \n",
       "  \" fill=\"#000000\" fill-opacity=\"0.5\"/>\n",
       "<polygon clip-path=\"url(#clip2400)\" points=\"\n",
       "234.212,340.102 250.793,338.607 250.793,335.615 234.212,334.119 217.632,335.615 217.632,338.607 234.212,340.102 \n",
       "  \" fill=\"#009af9\" fill-opacity=\"1\"/>\n",
       "<polygon clip-path=\"url(#clip2400)\" points=\"\n",
       "208.152,393.04 223.193,391.489 223.193,388.388 208.152,386.837 193.111,388.388 193.111,391.489 208.152,393.04 \n",
       "  \" fill=\"#000000\" fill-opacity=\"0.5\"/>\n",
       "<polygon clip-path=\"url(#clip2400)\" points=\"\n",
       "208.152,392.93 222.66,391.434 222.66,388.443 208.152,386.947 193.644,388.443 193.644,391.434 208.152,392.93 \n",
       "  \" fill=\"#009af9\" fill-opacity=\"1\"/>\n",
       "<polygon clip-path=\"url(#clip2400)\" points=\"\n",
       "148.708,392.179 161.676,390.62 161.676,387.5 148.708,385.94 135.74,387.5 135.74,390.62 148.708,392.179 \n",
       "  \" fill=\"#000000\" fill-opacity=\"0.5\"/>\n",
       "<polygon clip-path=\"url(#clip2400)\" points=\"\n",
       "148.708,392.051 161.143,390.556 161.143,387.564 148.708,386.068 136.272,387.564 136.272,390.556 148.708,392.051 \n",
       "  \" fill=\"#009af9\" fill-opacity=\"1\"/>\n",
       "<polygon clip-path=\"url(#clip2400)\" points=\"\n",
       "270.946,405.599 283.914,404.039 283.914,400.919 270.946,399.359 257.977,400.919 257.977,404.039 270.946,405.599 \n",
       "  \" fill=\"#000000\" fill-opacity=\"0.5\"/>\n",
       "<polygon clip-path=\"url(#clip2400)\" points=\"\n",
       "270.946,405.471 283.381,403.975 283.381,400.983 270.946,399.488 258.51,400.983 258.51,403.975 270.946,405.471 \n",
       "  \" fill=\"#009af9\" fill-opacity=\"1\"/>\n",
       "<polygon clip-path=\"url(#clip2400)\" points=\"\n",
       "124.972,392.95 137.94,391.39 137.94,388.27 124.972,386.71 112.004,388.27 112.004,391.39 124.972,392.95 \n",
       "  \" fill=\"#000000\" fill-opacity=\"0.5\"/>\n",
       "<polygon clip-path=\"url(#clip2400)\" points=\"\n",
       "124.972,392.821 137.407,391.326 137.407,388.334 124.972,386.839 112.537,388.334 112.537,391.326 124.972,392.821 \n",
       "  \" fill=\"#009af9\" fill-opacity=\"1\"/>\n",
       "<polygon clip-path=\"url(#clip2400)\" points=\"\n",
       "182.247,406.28 193.143,404.707 193.143,401.562 182.247,399.989 171.352,401.562 171.352,404.707 182.247,406.28 \n",
       "  \" fill=\"#000000\" fill-opacity=\"0.5\"/>\n",
       "<polygon clip-path=\"url(#clip2400)\" points=\"\n",
       "182.247,406.126 192.61,404.63 192.61,401.639 182.247,400.143 171.884,401.639 171.884,404.63 182.247,406.126 \n",
       "  \" fill=\"#009af9\" fill-opacity=\"1\"/>\n",
       "<g clip-path=\"url(#clip2400)\">\n",
       "<text style=\"fill:#000000; fill-opacity:1; font-family:Arial,Helvetica Neue,Helvetica,sans-serif; font-size:11; text-anchor:middle;\" transform=\"rotate(0, 378.393, 83.3026)\" x=\"378.393\" y=\"83.3026\">Any</text>\n",
       "</g>\n",
       "<g clip-path=\"url(#clip2400)\">\n",
       "<text style=\"fill:#000000; fill-opacity:1; font-family:Arial,Helvetica Neue,Helvetica,sans-serif; font-size:11; text-anchor:middle;\" transform=\"rotate(0, 379.633, 173.16)\" x=\"379.633\" y=\"173.16\">Number</text>\n",
       "</g>\n",
       "<g clip-path=\"url(#clip2400)\">\n",
       "<text style=\"fill:#000000; fill-opacity:1; font-family:Arial,Helvetica Neue,Helvetica,sans-serif; font-size:11; text-anchor:middle;\" transform=\"rotate(0, 441.053, 212.205)\" x=\"441.053\" y=\"212.205\">Real</text>\n",
       "</g>\n",
       "<g clip-path=\"url(#clip2400)\">\n",
       "<text style=\"fill:#000000; fill-opacity:1; font-family:Arial,Helvetica Neue,Helvetica,sans-serif; font-size:11; text-anchor:middle;\" transform=\"rotate(0, 403.85, 271.123)\" x=\"403.85\" y=\"271.123\">Integer</text>\n",
       "</g>\n",
       "<g clip-path=\"url(#clip2400)\">\n",
       "<text style=\"fill:#000000; fill-opacity:1; font-family:Arial,Helvetica Neue,Helvetica,sans-serif; font-size:11; text-anchor:middle;\" transform=\"rotate(0, 422.832, 359.004)\" x=\"422.832\" y=\"359.004\">BigInt</text>\n",
       "</g>\n",
       "<g clip-path=\"url(#clip2400)\">\n",
       "<text style=\"fill:#000000; fill-opacity:1; font-family:Arial,Helvetica Neue,Helvetica,sans-serif; font-size:11; text-anchor:middle;\" transform=\"rotate(0, 378.255, 356.812)\" x=\"378.255\" y=\"356.812\">Bool</text>\n",
       "</g>\n",
       "<g clip-path=\"url(#clip2400)\">\n",
       "<text style=\"fill:#000000; fill-opacity:1; font-family:Arial,Helvetica Neue,Helvetica,sans-serif; font-size:11; text-anchor:middle;\" transform=\"rotate(0, 568.945, 340.461)\" x=\"568.945\" y=\"340.461\">Signed</text>\n",
       "</g>\n",
       "<g clip-path=\"url(#clip2400)\">\n",
       "<text style=\"fill:#000000; fill-opacity:1; font-family:Arial,Helvetica Neue,Helvetica,sans-serif; font-size:11; text-anchor:middle;\" transform=\"rotate(0, 526.185, 410.632)\" x=\"526.185\" y=\"410.632\">Int128</text>\n",
       "</g>\n",
       "<g clip-path=\"url(#clip2400)\">\n",
       "<text style=\"fill:#000000; fill-opacity:1; font-family:Arial,Helvetica Neue,Helvetica,sans-serif; font-size:11; text-anchor:middle;\" transform=\"rotate(0, 610.11, 420.76)\" x=\"610.11\" y=\"420.76\">Int16</text>\n",
       "</g>\n",
       "<g clip-path=\"url(#clip2400)\">\n",
       "<text style=\"fill:#000000; fill-opacity:1; font-family:Arial,Helvetica Neue,Helvetica,sans-serif; font-size:11; text-anchor:middle;\" transform=\"rotate(0, 645.221, 403.328)\" x=\"645.221\" y=\"403.328\">Int32</text>\n",
       "</g>\n",
       "<g clip-path=\"url(#clip2400)\">\n",
       "<text style=\"fill:#000000; fill-opacity:1; font-family:Arial,Helvetica Neue,Helvetica,sans-serif; font-size:11; text-anchor:middle;\" transform=\"rotate(0, 573.604, 410.523)\" x=\"573.604\" y=\"410.523\">Int64</text>\n",
       "</g>\n",
       "<g clip-path=\"url(#clip2400)\">\n",
       "<text style=\"fill:#000000; fill-opacity:1; font-family:Arial,Helvetica Neue,Helvetica,sans-serif; font-size:11; text-anchor:middle;\" transform=\"rotate(0, 671.091, 403.686)\" x=\"671.091\" y=\"403.686\">Int8</text>\n",
       "</g>\n",
       "<g clip-path=\"url(#clip2400)\">\n",
       "<text style=\"fill:#000000; fill-opacity:1; font-family:Arial,Helvetica Neue,Helvetica,sans-serif; font-size:11; text-anchor:middle;\" transform=\"rotate(0, 234.212, 341.111)\" x=\"234.212\" y=\"341.111\">Unsigned</text>\n",
       "</g>\n",
       "<g clip-path=\"url(#clip2400)\">\n",
       "<text style=\"fill:#000000; fill-opacity:1; font-family:Arial,Helvetica Neue,Helvetica,sans-serif; font-size:11; text-anchor:middle;\" transform=\"rotate(0, 208.152, 393.939)\" x=\"208.152\" y=\"393.939\">UInt128</text>\n",
       "</g>\n",
       "<g clip-path=\"url(#clip2400)\">\n",
       "<text style=\"fill:#000000; fill-opacity:1; font-family:Arial,Helvetica Neue,Helvetica,sans-serif; font-size:11; text-anchor:middle;\" transform=\"rotate(0, 148.708, 393.06)\" x=\"148.708\" y=\"393.06\">UInt16</text>\n",
       "</g>\n",
       "<g clip-path=\"url(#clip2400)\">\n",
       "<text style=\"fill:#000000; fill-opacity:1; font-family:Arial,Helvetica Neue,Helvetica,sans-serif; font-size:11; text-anchor:middle;\" transform=\"rotate(0, 270.946, 406.479)\" x=\"270.946\" y=\"406.479\">UInt32</text>\n",
       "</g>\n",
       "<g clip-path=\"url(#clip2400)\">\n",
       "<text style=\"fill:#000000; fill-opacity:1; font-family:Arial,Helvetica Neue,Helvetica,sans-serif; font-size:11; text-anchor:middle;\" transform=\"rotate(0, 124.972, 393.83)\" x=\"124.972\" y=\"393.83\">UInt64</text>\n",
       "</g>\n",
       "<g clip-path=\"url(#clip2400)\">\n",
       "<text style=\"fill:#000000; fill-opacity:1; font-family:Arial,Helvetica Neue,Helvetica,sans-serif; font-size:11; text-anchor:middle;\" transform=\"rotate(0, 182.247, 407.134)\" x=\"182.247\" y=\"407.134\">UInt8</text>\n",
       "</g>\n",
       "</svg>\n"
      ]
     },
     "execution_count": 5,
     "metadata": {},
     "output_type": "execute_result"
    }
   ],
   "source": [
    "# make a list of a type T and it's supertypes\n",
    "T = Integer\n",
    "sups = [T]\n",
    "sup = T\n",
    "while sup != Any\n",
    "    sup = supertype(sup)\n",
    "    unshift!(sups, sup)\n",
    "end\n",
    "@show sups\n",
    "\n",
    "# recursively build a graph of subtypes of T\n",
    "n = length(sups)\n",
    "nodes, source, destiny = copy(sups), collect(1:n-1), collect(2:n)\n",
    "function add_subs!(T, supidx)\n",
    "    for sub in subtypes(T)\n",
    "        push!(nodes, sub)\n",
    "        subidx = length(nodes)\n",
    "        push!(source, supidx)\n",
    "        push!(destiny, subidx)\n",
    "        add_subs!(sub, subidx)\n",
    "    end\n",
    "end\n",
    "add_subs!(T, n)\n",
    "names = map(string, nodes)\n",
    "\n",
    "using PlotRecipes\n",
    "#pyplot(alpha=0.5, size=(800, 500))\n",
    "gr(alpha=0.5, size=(800, 500))\n",
    "graphplot(source, destiny, names=names, method=:tree)"
   ]
  },
  {
   "cell_type": "markdown",
   "metadata": {},
   "source": [
    "### Signed integers\n",
    "\n",
    "* First bit indicates sign.  \n",
    "    - `0` for nonnegative numbers\n",
    "    - `1` for negative numbers  \n",
    "    \n",
    "* **Two's complement representation** for negative numbers. \n",
    "    - Sign bit is set to 1  \n",
    "    - remaining bits are set to opposite values  \n",
    "    - 1 is added to the result"
   ]
  },
  {
   "cell_type": "code",
   "execution_count": 6,
   "metadata": {},
   "outputs": [
    {
     "name": "stdout",
     "output_type": "stream",
     "text": [
      "bits(Int8(18)) = \"00010010\"\n",
      "bits(Int8(-18)) = \"11101110\"\n"
     ]
    }
   ],
   "source": [
    "@show bits(Int8(18))\n",
    "@show bits(Int8(-18));"
   ]
  },
  {
   "cell_type": "markdown",
   "metadata": {},
   "source": [
    "* Two's complement representation respects modular arithmetic nicely. \n",
    "    - addition of any two signed integers are just bitwise addition, possibly modulo $2^M$\n",
    "    \n",
    "<img src=\"http://users.dickinson.edu/~braught/courses/cs251f02/classes/images/twosCompWheel.png\" width=\"400\" align=\"center\"/>    "
   ]
  },
  {
   "cell_type": "markdown",
   "metadata": {},
   "source": [
    "* **Range** of representable integers by $M$-bit **signed integer** is $[-2^{M-1},2^{M-1}-1]$.\n",
    "    - Julia functions `typemin(T)` and `typemax(T)` give the lowest and highest representable number of a type `T` respectively"
   ]
  },
  {
   "cell_type": "code",
   "execution_count": 7,
   "metadata": {},
   "outputs": [
    {
     "name": "stdout",
     "output_type": "stream",
     "text": [
      "Int8\t-128\t127\n",
      "Int16\t-32768\t32767\n",
      "Int32\t-2147483648\t2147483647\n",
      "Int64\t-9223372036854775808\t9223372036854775807\n",
      "Int128\t-170141183460469231731687303715884105728\t170141183460469231731687303715884105727\n"
     ]
    }
   ],
   "source": [
    "for t in [Int8 Int16 Int32 Int64 Int128]\n",
    "    println(t, '\\t', typemin(t), '\\t', typemax(t))\n",
    "end"
   ]
  },
  {
   "cell_type": "markdown",
   "metadata": {},
   "source": [
    "### **Unsigned integers**\n",
    "\n",
    "* For unsigned integers, the range is $[0,2^M-1]$."
   ]
  },
  {
   "cell_type": "code",
   "execution_count": 8,
   "metadata": {},
   "outputs": [
    {
     "name": "stdout",
     "output_type": "stream",
     "text": [
      "UInt8\t0\t255\n",
      "UInt16\t0\t65535\n",
      "UInt32\t0\t4294967295\n",
      "UInt64\t0\t18446744073709551615\n",
      "UInt128\t0\t340282366920938463463374607431768211455\n"
     ]
    }
   ],
   "source": [
    "for t in [UInt8 UInt16 UInt32 UInt64 UInt128]\n",
    "    println(t, '\\t', typemin(t), '\\t', typemax(t))\n",
    "end"
   ]
  },
  {
   "cell_type": "markdown",
   "metadata": {},
   "source": [
    "## `BigInt`\n",
    "\n",
    "Julia `BigInt` type is arbitrary precision."
   ]
  },
  {
   "cell_type": "code",
   "execution_count": 9,
   "metadata": {},
   "outputs": [
    {
     "name": "stdout",
     "output_type": "stream",
     "text": [
      "typemax(Int128) = 170141183460469231731687303715884105727\n",
      "typemax(Int128) + 1 = -170141183460469231731687303715884105728\n",
      "BigInt(typemax(Int128)) + 1 = 170141183460469231731687303715884105728\n"
     ]
    },
    {
     "data": {
      "text/plain": [
       "170141183460469231731687303715884105728"
      ]
     },
     "execution_count": 9,
     "metadata": {},
     "output_type": "execute_result"
    }
   ],
   "source": [
    "@show typemax(Int128)\n",
    "@show typemax(Int128) + 1 # modular arithmetic!\n",
    "@show BigInt(typemax(Int128)) + 1"
   ]
  },
  {
   "cell_type": "markdown",
   "metadata": {},
   "source": [
    "## Overflow and underflow for integer arithmetic\n",
    "\n",
    "R reports `NA` for integer overflow and underflow.  \n",
    "**Julia outputs the result according to modular arithmetic.**"
   ]
  },
  {
   "cell_type": "code",
   "execution_count": 10,
   "metadata": {},
   "outputs": [
    {
     "name": "stdout",
     "output_type": "stream",
     "text": [
      "typemax(Int32) + Int32(1) = -2147483648\n"
     ]
    },
    {
     "data": {
      "text/plain": [
       "-2147483648"
      ]
     },
     "execution_count": 10,
     "metadata": {},
     "output_type": "execute_result"
    }
   ],
   "source": [
    "@show typemax(Int32) + Int32(1) # modular arithmetics!"
   ]
  },
  {
   "cell_type": "code",
   "execution_count": 11,
   "metadata": {},
   "outputs": [
    {
     "data": {
      "text/plain": [
       "RCall.RObject{RCall.IntSxp}\n",
       "[1] 2147483647\n"
      ]
     },
     "execution_count": 11,
     "metadata": {},
     "output_type": "execute_result"
    }
   ],
   "source": [
    "using RCall\n",
    "\n",
    "R\"\"\"\n",
    ".Machine$integer.max\n",
    "\"\"\""
   ]
  },
  {
   "cell_type": "code",
   "execution_count": 12,
   "metadata": {},
   "outputs": [
    {
     "data": {
      "text/plain": [
       "RCall.RObject{RCall.IntSxp}\n",
       "[1] 2147483647\n"
      ]
     },
     "execution_count": 12,
     "metadata": {},
     "output_type": "execute_result"
    }
   ],
   "source": [
    "R\"\"\"\n",
    "M <- 32\n",
    "big <- 2^(M-1) - 1\n",
    "as.integer(big)\n",
    "\"\"\""
   ]
  },
  {
   "cell_type": "code",
   "execution_count": 13,
   "metadata": {},
   "outputs": [
    {
     "name": "stderr",
     "output_type": "stream",
     "text": [
      "\u001b[1m\u001b[33mWARNING: \u001b[39m\u001b[22m\u001b[33mRCall.jl: Warning: NAs introduced by coercion to integer range\u001b[39m\n"
     ]
    },
    {
     "data": {
      "text/plain": [
       "RCall.RObject{RCall.IntSxp}\n",
       "[1] NA\n"
      ]
     },
     "execution_count": 13,
     "metadata": {},
     "output_type": "execute_result"
    }
   ],
   "source": [
    "R\"\"\"\n",
    "as.integer(big+1)\n",
    "\"\"\""
   ]
  },
  {
   "cell_type": "markdown",
   "metadata": {
    "collapsed": true
   },
   "source": [
    "## Floating-number system\n",
    "\n",
    "Floating-point number system is a computer model for real numbers $\\mathbb{R}$.\n",
    "\n",
    "* Most computer systems adopt the [IEEE 754 standard](https://en.wikipedia.org/wiki/IEEE_floating_point), established in 1985, for floating-point arithmetics.  \n",
    "For the history, see an [interview with William Kahan](http://www.cs.berkeley.edu/~wkahan/ieee754status/754story.html).\n",
    "\n",
    "* In the scientific notation, a real number is represented as\n",
    "$$\\pm d_0.d_1d_2 \\cdots d_p \\times b^e.$$\n",
    "In computer, the _base_ is $b=2$ and the digits $d_i$ are 0 or 1.\n",
    "\n",
    "* **Normalized** vs **denormalized** numbers. For example, decimal number 18 is\n",
    "$$ +1.0010 \\times 2^4 \\quad (\\text{normalized})$$\n",
    "or, equivalently,\n",
    "$$ +0.1001 \\times 2^5 \\quad (\\text{denormalized}).$$\n",
    "\n",
    "* In the floating-number system, computer stores \n",
    "    - sign bit  \n",
    "    - the _fraction_ (or _mantissa_, or _significand_) of the normalized representation\n",
    "    - the actual exponent _plus_ a bias"
   ]
  },
  {
   "cell_type": "markdown",
   "metadata": {},
   "source": [
    "\n",
    "\n",
    "* **Single precision** (32 bit = 4 bytes) \n",
    "\n",
    "    <img src=\"./single-precision-numbers.png\" width=\"500\" align=\"center\"/>\n",
    "\n",
    "    - First bit is sign bit  \n",
    "    - $p=23$ significant bits  \n",
    "    - 8 exponent bits: $e_{\\max}=127$, $e_{\\min}=-126$, bias=127  \n",
    "    - $e_{\\text{min}}-1$ and $e_{\\text{max}}+1$ are reserved for special numbers  \n",
    "    - range of **magnitude**: $10^{\\pm 38}$ in decimal because $\\log_{10} (2^{127}) \\approx 38$  \n",
    "    - **precision**: $\\log_{10}(2^{23}) \\approx 7$ decimal point  \n",
    "    - In Julia, `Float32` is the type for single precision numbers\n",
    "    \n",
    "* **Double precision** (64 bit = 8 bytes) \n",
    "\n",
    "    <img src=\"./double-precision-numbers.png\" width=\"500\" align=\"center\"/>  \n",
    "    - First bit is sign bit  \n",
    "    - $p=52$ significant bits  \n",
    "    - 11 exponent bits: $e_{\\max}=1023$, $e_{\\min}=-1022$, bias=1023  \n",
    "    - $e_{\\text{min}}-1$ and $e_{\\text{max}}+1$ are reserved for special numbers  \n",
    "    - range of **magnitude**: $10^{\\pm 308}$ in decimal because $\\log_{10} (2^{1023}) \\approx 308$  \n",
    "    - **precision** to the $\\log_{10}(2^{-52}) \\approx 16$ decimal point  \n",
    "    - In Julia, `Float64` is the type for double precision numbers    "
   ]
  },
  {
   "cell_type": "code",
   "execution_count": 14,
   "metadata": {},
   "outputs": [
    {
     "name": "stdout",
     "output_type": "stream",
     "text": [
      "bits(Float32(18)) = \"01000001100100000000000000000000\"\n",
      "bits(Float32(-18)) = \"11000001100100000000000000000000\"\n",
      "bits(Float64(18)) = \"0100000000110010000000000000000000000000000000000000000000000000\"\n",
      "bits(Float64(-18)) = \"1100000000110010000000000000000000000000000000000000000000000000\"\n",
      "Float32(π) = 3.1415927f0\n",
      "Float64(π) = 3.141592653589793\n"
     ]
    },
    {
     "data": {
      "text/plain": [
       "3.141592653589793"
      ]
     },
     "execution_count": 14,
     "metadata": {},
     "output_type": "execute_result"
    }
   ],
   "source": [
    "@show bits(Float32(18)) # 18 in single precision\n",
    "@show bits(Float32(-18)) # -18 in single precision\n",
    "@show bits(Float64(18)) # 18 in double precision\n",
    "@show bits(Float64(-18)) # -18 in double precision\n",
    "@show Float32(π) # SP number displays 7 decimal digits\n",
    "@show Float64(π) # DP number displays 15 decimal digits"
   ]
  },
  {
   "cell_type": "markdown",
   "metadata": {},
   "source": [
    "* Special floating-point numbers. \n",
    "    - Exponent $e_{\\max}+1$ plus a zero mantissa means $\\pm \\infty$  \n",
    "    - Exponent $e_{\\max}+1$ plus a nonzero mantissa means `NaN`. `NaN` could be produced from `0 / 0`, `0 * Inf`, ...  \n",
    "    In general `NaN ≠ NaN` bitwise  \n",
    "    - Exponent $e_{\\min}-1$ with a zero mantissa represents the real number 0  \n",
    "    - Exponent $e_{\\min}-1$ with a nonzero mantissa are for numbers less than $b^{e_{\\min}}$  \n",
    "    Numbers are _denormalized_ in the range $(0,b^{e_{\\min}})$ -- **graceful underflow** "
   ]
  },
  {
   "cell_type": "code",
   "execution_count": 15,
   "metadata": {},
   "outputs": [
    {
     "name": "stdout",
     "output_type": "stream",
     "text": [
      "bits(Inf32) = \"01111111100000000000000000000000\"\n",
      "bits(-Inf32) = \"11111111100000000000000000000000\"\n",
      "bits(Float32(0) / Float32(0)) = \"11111111110000000000000000000000\"\n",
      "bits(Inf32 / Inf32) = \"11111111110000000000000000000000\"\n",
      "bits(Float32(0)) = \"00000000000000000000000000000000\"\n",
      "nextfloat(Float32(0)) = 1.0f-45\n",
      "bits(nextfloat(Float32(0))) = \"00000000000000000000000000000001\"\n"
     ]
    },
    {
     "data": {
      "text/plain": [
       "\"00000000000000000000000000000001\""
      ]
     },
     "execution_count": 15,
     "metadata": {},
     "output_type": "execute_result"
    }
   ],
   "source": [
    "@show bits(Inf32) # Inf in single precision\n",
    "@show bits(-Inf32) # -Inf in single precision\n",
    "@show bits(Float32(0) / Float32(0)) # NaN\n",
    "@show bits(Inf32 / Inf32) # NaN\n",
    "@show bits(Float32(0)) # 0 in single precision \n",
    "@show nextfloat(Float32(0)) # next representable number \n",
    "@show bits(nextfloat(Float32(0))) # denormalized "
   ]
  },
  {
   "cell_type": "markdown",
   "metadata": {},
   "source": [
    "* **Rounding** is necessary whenever a number has more than $p$ significand bits. Most computer systems use the default IEEE 754 _round to nearest_ mode (also called _ties to even_ mode). Julia offers several [rounding modes](https://docs.julialang.org/en/stable/stdlib/math/?highlight=roundnearest#Base.RoundingMode), the default being `RoundNearest`. For example, the number\n",
    "$$ 0.1 = 1.10011001... \\times 2^{-4} $$"
   ]
  },
  {
   "cell_type": "code",
   "execution_count": 16,
   "metadata": {},
   "outputs": [
    {
     "name": "stdout",
     "output_type": "stream",
     "text": [
      "bits(0.1f0) = \"00111101110011001100110011001101\"\n",
      "bits(0.1) = \"0011111110111001100110011001100110011001100110011001100110011010\"\n"
     ]
    }
   ],
   "source": [
    "@show bits(0.1f0) # single precision Float32\n",
    "@show bits(0.1);  # double precision Float64"
   ]
  },
  {
   "cell_type": "markdown",
   "metadata": {},
   "source": [
    "* In summary\n",
    "    - Single precision: range $\\pm 10^{\\pm 38}$ with precision up to 7 decimal digits\n",
    "    - Double precision: range $\\pm 10^{\\pm 308}$ with precision up to 16 decimal digits  \n",
    "    - The floating-point numbers do not occur uniformly over the real number line\n",
    "    <img src=\"http://www.volkerschatz.com/science/pics/fltscale-wh.png\" width=\"700\" align=\"center\"/>\n",
    "    - **Machine epsilons** are the spacings of numbers around 1: \n",
    "    $$\\epsilon_{\\min}=b^{-p}, \\quad  \\epsilon_{\\max} = b^{1-p}.$$\n",
    "    <img src=\"./machine_epsilons.png\" width=\"500\" align=\"center\"/>"
   ]
  },
  {
   "cell_type": "code",
   "execution_count": 17,
   "metadata": {},
   "outputs": [
    {
     "name": "stdout",
     "output_type": "stream",
     "text": [
      "eps(Float32) = 1.1920929f-7\n",
      "eps(Float64) = 2.220446049250313e-16\n",
      "eps(100.0) = 1.4210854715202004e-14\n",
      "eps(0.0) = 5.0e-324\n",
      "(prevfloat(x), x, nextfloat(x)) = (1.2499999f0, 1.25f0, 1.2500001f0)\n",
      "(bits(prevfloat(x)), bits(x), bits(nextfloat(x))) = (\"00111111100111111111111111111111\", \"00111111101000000000000000000000\", \"00111111101000000000000000000001\")\n"
     ]
    }
   ],
   "source": [
    "@show eps(Float32)  # machine epsilon for a floating point type\n",
    "@show eps(Float64)  # same as eps()\n",
    "# eps(x) is the spacing after x\n",
    "@show eps(100.0)\n",
    "@show eps(0.0)\n",
    "# nextfloat(x) and prevfloat(x) give the neighbors of x\n",
    "x = 1.25f0\n",
    "@show prevfloat(x), x, nextfloat(x)\n",
    "@show bits(prevfloat(x)), bits(x), bits(nextfloat(x));"
   ]
  },
  {
   "cell_type": "markdown",
   "metadata": {},
   "source": [
    "* In R, the variable `.Machine` contains numerical characteristics of the machine."
   ]
  },
  {
   "cell_type": "code",
   "execution_count": 18,
   "metadata": {},
   "outputs": [
    {
     "data": {
      "text/plain": [
       "RCall.RObject{RCall.VecSxp}\n",
       "$double.eps\n",
       "[1] 2.220446e-16\n",
       "\n",
       "$double.neg.eps\n",
       "[1] 1.110223e-16\n",
       "\n",
       "$double.xmin\n",
       "[1] 2.225074e-308\n",
       "\n",
       "$double.xmax\n",
       "[1] 1.797693e+308\n",
       "\n",
       "$double.base\n",
       "[1] 2\n",
       "\n",
       "$double.digits\n",
       "[1] 53\n",
       "\n",
       "$double.rounding\n",
       "[1] 5\n",
       "\n",
       "$double.guard\n",
       "[1] 0\n",
       "\n",
       "$double.ulp.digits\n",
       "[1] -52\n",
       "\n",
       "$double.neg.ulp.digits\n",
       "[1] -53\n",
       "\n",
       "$double.exponent\n",
       "[1] 11\n",
       "\n",
       "$double.min.exp\n",
       "[1] -1022\n",
       "\n",
       "$double.max.exp\n",
       "[1] 1024\n",
       "\n",
       "$integer.max\n",
       "[1] 2147483647\n",
       "\n",
       "$sizeof.long\n",
       "[1] 8\n",
       "\n",
       "$sizeof.longlong\n",
       "[1] 8\n",
       "\n",
       "$sizeof.longdouble\n",
       "[1] 16\n",
       "\n",
       "$sizeof.pointer\n",
       "[1] 8\n",
       "\n"
      ]
     },
     "execution_count": 18,
     "metadata": {},
     "output_type": "execute_result"
    }
   ],
   "source": [
    "R\"\"\"\n",
    ".Machine\n",
    "\"\"\""
   ]
  },
  {
   "cell_type": "markdown",
   "metadata": {},
   "source": [
    "* Julia provides `Float16` (half precision), `Float32` (single precision), `Float64` (double precision), and `BigFloat` (arbitrary precision)."
   ]
  },
  {
   "cell_type": "code",
   "execution_count": 19,
   "metadata": {},
   "outputs": [
    {
     "name": "stderr",
     "output_type": "stream",
     "text": [
      "\u001b[1m\u001b[33mWARNING: \u001b[39m\u001b[22m\u001b[33mInstall LightGraphs for the best layout calculations.\u001b[39m\n"
     ]
    },
    {
     "data": {
      "image/svg+xml": [
       "<?xml version=\"1.0\" encoding=\"utf-8\"?>\n",
       "<svg xmlns=\"http://www.w3.org/2000/svg\" xmlns:xlink=\"http://www.w3.org/1999/xlink\" width=\"800\" height=\"500\" viewBox=\"0 0 800 500\">\n",
       "<defs>\n",
       "  <clipPath id=\"clip2600\">\n",
       "    <rect x=\"0\" y=\"0\" width=\"800\" height=\"500\"/>\n",
       "  </clipPath>\n",
       "</defs>\n",
       "<polygon clip-path=\"url(#clip2600)\" points=\"\n",
       "0,500 800,500 800,0 0,0 \n",
       "  \" fill=\"#ffffff\" fill-opacity=\"1\"/>\n",
       "<defs>\n",
       "  <clipPath id=\"clip2601\">\n",
       "    <rect x=\"160\" y=\"0\" width=\"561\" height=\"500\"/>\n",
       "  </clipPath>\n",
       "</defs>\n",
       "<polygon clip-path=\"url(#clip2600)\" points=\"\n",
       "15.748,484.252 780.315,484.252 780.315,11.811 15.748,11.811 \n",
       "  \" fill=\"#ffffff\" fill-opacity=\"1\"/>\n",
       "<defs>\n",
       "  <clipPath id=\"clip2602\">\n",
       "    <rect x=\"15\" y=\"11\" width=\"766\" height=\"473\"/>\n",
       "  </clipPath>\n",
       "</defs>\n",
       "<polyline clip-path=\"url(#clip2600)\" style=\"stroke:#000000; stroke-width:1; stroke-opacity:1; fill:none\" points=\"\n",
       "  15.748,484.252 780.315,484.252 \n",
       "  \"/>\n",
       "<polyline clip-path=\"url(#clip2600)\" style=\"stroke:#000000; stroke-width:1; stroke-opacity:1; fill:none\" points=\"\n",
       "  15.748,484.252 15.748,11.811 \n",
       "  \"/>\n",
       "<polyline clip-path=\"url(#clip2602)\" style=\"stroke:#d968a2; stroke-width:1; stroke-opacity:0.5; fill:none\" points=\"\n",
       "  124.972,79.3026 125.189,82.2344 125.822,85.1897 126.838,88.1669 128.208,91.1641 129.9,94.1796 131.884,97.2117 134.13,100.259 136.605,103.319 139.281,106.39 \n",
       "  142.125,109.471 145.108,112.56 148.198,115.655 151.365,118.754 154.578,121.856 157.806,124.958 161.019,128.06 164.186,131.16 167.276,134.254 170.259,137.343 \n",
       "  173.103,140.424 175.779,143.495 178.254,146.555 180.5,149.602 182.484,152.635 184.176,155.65 185.546,158.647 186.562,161.624 187.195,164.58 187.412,167.512 \n",
       "  \n",
       "  \"/>\n",
       "<polyline clip-path=\"url(#clip2602)\" style=\"stroke:#d968a2; stroke-width:1; stroke-opacity:0.5; fill:none\" points=\"\n",
       "  187.412,167.512 187.805,170.947 188.948,174.344 190.785,177.706 193.261,181.034 196.319,184.332 199.905,187.603 203.963,190.85 208.437,194.075 213.272,197.282 \n",
       "  218.413,200.473 223.803,203.65 229.388,206.818 235.111,209.979 240.918,213.135 246.753,216.29 252.56,219.447 258.283,222.607 263.868,225.775 269.258,228.953 \n",
       "  274.399,232.144 279.234,235.351 283.708,238.576 287.766,241.822 291.352,245.093 294.41,248.392 296.886,251.72 298.723,255.081 299.866,258.478 300.259,261.914 \n",
       "  \n",
       "  \"/>\n",
       "<polyline clip-path=\"url(#clip2602)\" style=\"stroke:#d968a2; stroke-width:1; stroke-opacity:0.5; fill:none\" points=\"\n",
       "  300.259,261.914 300.873,265.13 302.657,268.132 305.525,270.936 309.39,273.559 314.165,276.015 319.763,278.32 326.098,280.491 333.084,282.544 340.633,284.493 \n",
       "  348.658,286.356 357.074,288.147 365.793,289.883 374.729,291.579 383.795,293.252 392.904,294.916 401.97,296.589 410.906,298.285 419.625,300.021 428.041,301.812 \n",
       "  436.067,303.675 443.616,305.624 450.601,307.676 456.936,309.848 462.535,312.153 467.31,314.609 471.175,317.231 474.042,320.036 475.827,323.038 476.441,326.254 \n",
       "  \n",
       "  \"/>\n",
       "<polyline clip-path=\"url(#clip2602)\" style=\"stroke:#d968a2; stroke-width:1; stroke-opacity:0.5; fill:none\" points=\"\n",
       "  476.441,326.254 477.119,329.697 479.091,332.912 482.259,335.914 486.529,338.722 491.804,341.352 497.99,343.821 504.989,346.146 512.707,348.344 521.047,350.431 \n",
       "  529.914,352.425 539.212,354.343 548.845,356.202 558.718,358.019 568.734,359.81 578.798,361.592 588.814,363.383 598.687,365.199 608.32,367.058 617.618,368.976 \n",
       "  626.485,370.97 634.825,373.058 642.543,375.256 649.542,377.58 655.728,380.049 661.003,382.679 665.273,385.487 668.441,388.49 670.413,391.704 671.091,395.148 \n",
       "  \n",
       "  \"/>\n",
       "<polyline clip-path=\"url(#clip2602)\" style=\"stroke:#d968a2; stroke-width:1; stroke-opacity:0.5; fill:none\" points=\"\n",
       "  476.441,326.254 476.242,329.094 475.664,331.961 474.734,334.853 473.482,337.768 471.934,340.704 470.12,343.659 468.067,346.631 465.803,349.618 463.357,352.618 \n",
       "  460.756,355.629 458.029,358.649 455.203,361.676 452.307,364.708 449.37,367.743 446.418,370.779 443.48,373.814 440.584,376.846 437.758,379.873 435.031,382.893 \n",
       "  432.43,385.904 429.984,388.904 427.72,391.892 425.667,394.864 423.853,397.819 422.305,400.755 421.053,403.67 420.123,406.562 419.545,409.429 419.346,412.269 \n",
       "  \n",
       "  \"/>\n",
       "<polyline clip-path=\"url(#clip2602)\" style=\"stroke:#d968a2; stroke-width:1; stroke-opacity:0.5; fill:none\" points=\"\n",
       "  476.441,326.254 476.828,329.57 477.952,332.844 479.759,336.08 482.194,339.279 485.203,342.447 488.731,345.585 492.723,348.696 497.125,351.785 501.882,354.853 \n",
       "  506.939,357.904 512.242,360.942 517.736,363.968 523.367,366.987 529.08,370.001 534.82,373.013 540.533,376.027 546.163,379.046 551.658,382.072 556.961,385.11 \n",
       "  562.018,388.161 566.775,391.229 571.177,394.317 575.169,397.429 578.696,400.567 581.705,403.734 584.141,406.934 585.948,410.17 587.072,413.444 587.459,416.76 \n",
       "  \n",
       "  \"/>\n",
       "<polyline clip-path=\"url(#clip2602)\" style=\"stroke:#d968a2; stroke-width:1; stroke-opacity:0.5; fill:none\" points=\"\n",
       "  476.441,326.254 475.829,329.468 474.05,332.469 471.191,335.272 467.338,337.894 462.578,340.349 456.998,342.654 450.682,344.824 443.718,346.876 436.193,348.824 \n",
       "  428.193,350.686 419.803,352.477 411.111,354.212 402.203,355.908 393.166,357.579 384.085,359.243 375.048,360.915 366.14,362.611 357.448,364.346 349.058,366.137 \n",
       "  341.058,367.999 333.533,369.947 326.569,371.999 320.254,374.169 314.673,376.474 309.913,378.929 306.06,381.551 303.201,384.354 301.422,387.355 300.81,390.569 \n",
       "  \n",
       "  \"/>\n",
       "<polygon clip-path=\"url(#clip2600)\" points=\"\n",
       "124.972,82.5505 131.722,80.9265 131.722,77.6787 124.972,76.0547 118.221,77.6787 118.221,80.9265 124.972,82.5505 \n",
       "  \" fill=\"#000000\" fill-opacity=\"0.5\"/>\n",
       "<polygon clip-path=\"url(#clip2600)\" points=\"\n",
       "124.972,82.294 131.189,80.7983 131.189,77.8069 124.972,76.3111 118.754,77.8069 118.754,80.7983 124.972,82.294 \n",
       "  \" fill=\"#009af9\" fill-opacity=\"1\"/>\n",
       "<polygon clip-path=\"url(#clip2600)\" points=\"\n",
       "187.412,170.631 200.38,169.071 200.38,165.952 187.412,164.392 174.444,165.952 174.444,169.071 187.412,170.631 \n",
       "  \" fill=\"#000000\" fill-opacity=\"0.5\"/>\n",
       "<polygon clip-path=\"url(#clip2600)\" points=\"\n",
       "187.412,170.503 199.847,169.007 199.847,166.016 187.412,164.52 174.977,166.016 174.977,169.007 187.412,170.503 \n",
       "  \" fill=\"#009af9\" fill-opacity=\"1\"/>\n",
       "<polygon clip-path=\"url(#clip2600)\" points=\"\n",
       "300.259,265.098 309.082,263.506 309.082,260.322 300.259,258.73 291.436,260.322 291.436,263.506 300.259,265.098 \n",
       "  \" fill=\"#000000\" fill-opacity=\"0.5\"/>\n",
       "<polygon clip-path=\"url(#clip2600)\" points=\"\n",
       "300.259,264.906 308.549,263.41 308.549,260.418 300.259,258.923 291.969,260.418 291.969,263.41 300.259,264.906 \n",
       "  \" fill=\"#009af9\" fill-opacity=\"1\"/>\n",
       "<polygon clip-path=\"url(#clip2600)\" points=\"\n",
       "476.441,329.304 503.917,327.779 503.917,324.728 476.441,323.203 448.965,324.728 448.965,327.779 476.441,329.304 \n",
       "  \" fill=\"#000000\" fill-opacity=\"0.5\"/>\n",
       "<polygon clip-path=\"url(#clip2600)\" points=\"\n",
       "476.441,329.245 503.384,327.749 503.384,324.758 476.441,323.262 449.498,324.758 449.498,327.749 476.441,329.245 \n",
       "  \" fill=\"#009af9\" fill-opacity=\"1\"/>\n",
       "<polygon clip-path=\"url(#clip2600)\" points=\"\n",
       "671.091,398.236 688.204,396.692 688.204,393.604 671.091,392.06 653.978,393.604 653.978,396.692 671.091,398.236 \n",
       "  \" fill=\"#000000\" fill-opacity=\"0.5\"/>\n",
       "<polygon clip-path=\"url(#clip2600)\" points=\"\n",
       "671.091,398.139 687.671,396.644 687.671,393.652 671.091,392.156 654.511,393.652 654.511,396.644 671.091,398.139 \n",
       "  \" fill=\"#009af9\" fill-opacity=\"1\"/>\n",
       "<polygon clip-path=\"url(#clip2600)\" points=\"\n",
       "419.346,415.371 434.387,413.82 434.387,410.719 419.346,409.168 404.306,410.719 404.306,413.82 419.346,415.371 \n",
       "  \" fill=\"#000000\" fill-opacity=\"0.5\"/>\n",
       "<polygon clip-path=\"url(#clip2600)\" points=\"\n",
       "419.346,415.261 433.854,413.765 433.854,410.774 419.346,409.278 404.838,410.774 404.838,413.765 419.346,415.261 \n",
       "  \" fill=\"#009af9\" fill-opacity=\"1\"/>\n",
       "<polygon clip-path=\"url(#clip2600)\" points=\"\n",
       "587.459,419.862 602.5,418.311 602.5,415.21 587.459,413.659 572.418,415.21 572.418,418.311 587.459,419.862 \n",
       "  \" fill=\"#000000\" fill-opacity=\"0.5\"/>\n",
       "<polygon clip-path=\"url(#clip2600)\" points=\"\n",
       "587.459,419.752 601.967,418.256 601.967,415.265 587.459,413.769 572.951,415.265 572.951,418.256 587.459,419.752 \n",
       "  \" fill=\"#009af9\" fill-opacity=\"1\"/>\n",
       "<polygon clip-path=\"url(#clip2600)\" points=\"\n",
       "300.81,393.671 315.851,392.12 315.851,389.019 300.81,387.468 285.77,389.019 285.77,392.12 300.81,393.671 \n",
       "  \" fill=\"#000000\" fill-opacity=\"0.5\"/>\n",
       "<polygon clip-path=\"url(#clip2600)\" points=\"\n",
       "300.81,393.561 315.318,392.065 315.318,389.074 300.81,387.578 286.303,389.074 286.303,392.065 300.81,393.561 \n",
       "  \" fill=\"#009af9\" fill-opacity=\"1\"/>\n",
       "<g clip-path=\"url(#clip2600)\">\n",
       "<text style=\"fill:#000000; fill-opacity:1; font-family:Arial,Helvetica Neue,Helvetica,sans-serif; font-size:11; text-anchor:middle;\" transform=\"rotate(0, 124.972, 83.3026)\" x=\"124.972\" y=\"83.3026\">Any</text>\n",
       "</g>\n",
       "<g clip-path=\"url(#clip2600)\">\n",
       "<text style=\"fill:#000000; fill-opacity:1; font-family:Arial,Helvetica Neue,Helvetica,sans-serif; font-size:11; text-anchor:middle;\" transform=\"rotate(0, 187.412, 171.512)\" x=\"187.412\" y=\"171.512\">Number</text>\n",
       "</g>\n",
       "<g clip-path=\"url(#clip2600)\">\n",
       "<text style=\"fill:#000000; fill-opacity:1; font-family:Arial,Helvetica Neue,Helvetica,sans-serif; font-size:11; text-anchor:middle;\" transform=\"rotate(0, 300.259, 265.914)\" x=\"300.259\" y=\"265.914\">Real</text>\n",
       "</g>\n",
       "<g clip-path=\"url(#clip2600)\">\n",
       "<text style=\"fill:#000000; fill-opacity:1; font-family:Arial,Helvetica Neue,Helvetica,sans-serif; font-size:11; text-anchor:middle;\" transform=\"rotate(0, 476.441, 330.254)\" x=\"476.441\" y=\"330.254\">AbstractFloat</text>\n",
       "</g>\n",
       "<g clip-path=\"url(#clip2600)\">\n",
       "<text style=\"fill:#000000; fill-opacity:1; font-family:Arial,Helvetica Neue,Helvetica,sans-serif; font-size:11; text-anchor:middle;\" transform=\"rotate(0, 671.091, 399.148)\" x=\"671.091\" y=\"399.148\">BigFloat</text>\n",
       "</g>\n",
       "<g clip-path=\"url(#clip2600)\">\n",
       "<text style=\"fill:#000000; fill-opacity:1; font-family:Arial,Helvetica Neue,Helvetica,sans-serif; font-size:11; text-anchor:middle;\" transform=\"rotate(0, 419.346, 416.269)\" x=\"419.346\" y=\"416.269\">Float16</text>\n",
       "</g>\n",
       "<g clip-path=\"url(#clip2600)\">\n",
       "<text style=\"fill:#000000; fill-opacity:1; font-family:Arial,Helvetica Neue,Helvetica,sans-serif; font-size:11; text-anchor:middle;\" transform=\"rotate(0, 587.459, 420.76)\" x=\"587.459\" y=\"420.76\">Float32</text>\n",
       "</g>\n",
       "<g clip-path=\"url(#clip2600)\">\n",
       "<text style=\"fill:#000000; fill-opacity:1; font-family:Arial,Helvetica Neue,Helvetica,sans-serif; font-size:11; text-anchor:middle;\" transform=\"rotate(0, 300.81, 394.569)\" x=\"300.81\" y=\"394.569\">Float64</text>\n",
       "</g>\n",
       "</svg>\n"
      ]
     },
     "execution_count": 19,
     "metadata": {},
     "output_type": "execute_result"
    }
   ],
   "source": [
    "# make a list of a type T and it's supertypes\n",
    "T = AbstractFloat\n",
    "sups = [T]\n",
    "sup = T\n",
    "while sup != Any\n",
    "    sup = supertype(sup)\n",
    "    unshift!(sups,sup)\n",
    "end\n",
    "n = length(sups)\n",
    "nodes, source, destiny = copy(sups), collect(1:n-1), collect(2:n)\n",
    "add_subs!(T, n)\n",
    "names = map(string, nodes)\n",
    "\n",
    "graphplot(source, destiny, names=names, method=:tree)"
   ]
  },
  {
   "cell_type": "markdown",
   "metadata": {},
   "source": [
    "## Overflow and underflow of floating-point number\n",
    "\n",
    "* For double precision, the range is $\\pm 10^{\\pm 308}$. In most situations, underflow is preferred over overflow. Overflow causes crashes. Underflow yields zeros or denormalized numbers. \n",
    "\n",
    "* E.g., the logit link function is\n",
    "$$p = \\frac{\\exp (x^T \\beta)}{1 + \\exp (x^T \\beta)} = \\frac{1}{1+\\exp(- x^T \\beta)}.$$\n",
    "The former expression can easily lead to `Inf / Inf = NaN`, while the latter expression leads to graceful underflow."
   ]
  },
  {
   "cell_type": "code",
   "execution_count": 20,
   "metadata": {},
   "outputs": [
    {
     "name": "stdout",
     "output_type": "stream",
     "text": [
      "Float16\t-Inf\tInf\t6.104e-5\t6.55e4\t0.000977\n",
      "Float32\t-Inf\tInf\t1.1754944e-38\t3.4028235e38\t1.1920929e-7\n",
      "Float64\t-Inf\tInf\t2.2250738585072014e-308\t1.7976931348623157e308\t2.220446049250313e-16\n"
     ]
    }
   ],
   "source": [
    "for t in [Float16 Float32 Float64]\n",
    "    println(t, '\\t', typemin(t), '\\t', typemax(t), '\\t', realmin(t), '\\t', realmax(t), '\\t', eps(t))\n",
    "end"
   ]
  },
  {
   "cell_type": "markdown",
   "metadata": {},
   "source": [
    "* `BigFloat` in Julia offers arbitrary precision."
   ]
  },
  {
   "cell_type": "code",
   "execution_count": 21,
   "metadata": {},
   "outputs": [
    {
     "name": "stdout",
     "output_type": "stream",
     "text": [
      "(precision(BigFloat), realmin(BigFloat), realmax(BigFloat)) = (256, 8.50969131174083613912978790962048280567755996982969624908264897850135431080301e-1388255822130839284, 5.875653789111587590936911998878442589938516392745498308333779606469323584389875e+1388255822130839282)\n"
     ]
    }
   ],
   "source": [
    "@show precision(BigFloat), realmin(BigFloat), realmax(BigFloat);"
   ]
  },
  {
   "cell_type": "code",
   "execution_count": 22,
   "metadata": {},
   "outputs": [
    {
     "name": "stdout",
     "output_type": "stream",
     "text": [
      "BigFloat(π) = 3.141592653589793238462643383279502884197169399375105820974944592307816406286198\n",
      "BigFloat(π) = 3.141592653589793238462643383279502884197169399375105820974944592307816406286208998628034825342117067982148086513282306647093844609550582231725359408128481117450284102701938521105559644622948954930381964428810975665933446128475648233786783165271201909145648566923460348610454326648213393607260249141273724586997\n"
     ]
    }
   ],
   "source": [
    "@show BigFloat(π); # default precision for BigFloat is 256 bits\n",
    "# set precision to 1024 bits\n",
    "setprecision(BigFloat, 1024) do \n",
    "    @show BigFloat(π)\n",
    "end;"
   ]
  },
  {
   "cell_type": "markdown",
   "metadata": {},
   "source": [
    "## Catastrophic cancellation\n",
    "\n",
    "* **Scenario 1**: Addition or subtraction of two numbers of widely different magnitudes: $a+b$ or $a-b$ where $a \\gg b$ or $a \\ll b$. We loose the precision in the number of smaller magnitude. Consider \n",
    "$$\\begin{eqnarray*}\n",
    "    a &=& x.xxx ... \\times 2^{30} \\\\  \n",
    "    b &=& y.yyy... \\times 2^{-30}\n",
    "\\end{eqnarray*}$$\n",
    "What happens when computer calculates $a+b$? We get $a+b=a$!"
   ]
  },
  {
   "cell_type": "code",
   "execution_count": 23,
   "metadata": {},
   "outputs": [
    {
     "data": {
      "text/plain": [
       "true"
      ]
     },
     "execution_count": 23,
     "metadata": {},
     "output_type": "execute_result"
    }
   ],
   "source": [
    "a = 1.0 * 2.0^30\n",
    "b = 1.0 * 2.0^-30\n",
    "a + b == a"
   ]
  },
  {
   "cell_type": "markdown",
   "metadata": {},
   "source": [
    "* **Scenario 2**: Subtraction of two nearly equal numbers eliminates significant digits.  $a-b$ where $a \\approx b$. Consider \n",
    "$$\\begin{eqnarray*}\n",
    "    a &=& x.xxxxxxxxxx1ssss  \\\\\n",
    "    b &=& x.xxxxxxxxxx0tttt\n",
    "\\end{eqnarray*}$$\n",
    "The result is $1.vvvvu...u$ where $u$ are unassigned digits."
   ]
  },
  {
   "cell_type": "code",
   "execution_count": 24,
   "metadata": {},
   "outputs": [
    {
     "name": "stdout",
     "output_type": "stream",
     "text": [
      "bits(a) = \"00111111100111100000011001010001\"\n",
      "bits(b) = \"00111111100111100000011001010000\"\n",
      "a - b = 1.1920929f-7\n",
      "bits(a - b) = \"00110100000000000000000000000000\"\n"
     ]
    }
   ],
   "source": [
    "a = 1.2345678f0 # rounding\n",
    "@show bits(a) # rounding\n",
    "b = 1.2345677f0\n",
    "@show bits(b)\n",
    "@show a - b # correct result should be 1e-7\n",
    "@show bits(a - b);"
   ]
  },
  {
   "cell_type": "markdown",
   "metadata": {},
   "source": [
    "* Implications for numerical computation\n",
    "    - Rule 1: add small numbers together before adding larger ones  \n",
    "    - Rule 2: add numbers of like magnitude together (paring). When all numbers are of same sign and similar magnitude, add in pairs so each stage the summands are of similar magnitude  \n",
    "    - Rule 3: avoid substraction of two numbers that are nearly equal"
   ]
  },
  {
   "cell_type": "markdown",
   "metadata": {},
   "source": [
    "### Algebraic laws\n",
    "\n",
    "Floating-point numbers may violate many algebraic laws we are familiar with, such associative and distributive laws. See Homework 1 problems."
   ]
  },
  {
   "cell_type": "markdown",
   "metadata": {},
   "source": [
    "## Further reading\n",
    "\n",
    "* Textbook treatment, e.g., Chapter II.2 of [Computational Statistics](http://ucla.worldcat.org/title/computational-statistics/oclc/437345409&referer=brief_results) by James Gentle (2010).\n",
    "\n",
    "* [What every computer scientist should know about floating-point arithmetic](http://hua-zhou.github.io/teaching/biostatm280-2017spring/readings/Goldberg91FloatingPoint.pdf) by David Goldberg (1991)."
   ]
  }
 ],
 "metadata": {
  "kernelspec": {
   "display_name": "Julia 0.6.2",
   "language": "julia",
   "name": "julia-0.6"
  },
  "language_info": {
   "file_extension": ".jl",
   "mimetype": "application/julia",
   "name": "julia",
   "version": "0.6.2"
  },
  "toc": {
   "colors": {
    "hover_highlight": "#DAA520",
    "running_highlight": "#FF0000",
    "selected_highlight": "#FFD700"
   },
   "moveMenuLeft": true,
   "nav_menu": {
    "height": "250px",
    "width": "252px"
   },
   "navigate_menu": true,
   "number_sections": true,
   "sideBar": true,
   "threshold": 4,
   "toc_cell": false,
   "toc_section_display": "block",
   "toc_window_display": false,
   "widenNotebook": false
  }
 },
 "nbformat": 4,
 "nbformat_minor": 2
}
