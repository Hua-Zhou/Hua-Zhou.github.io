{
 "cells": [
  {
   "cell_type": "markdown",
   "metadata": {},
   "source": [
    "# Take-Home Messages\n",
    "\n",
    "\n",
    "\n",
    "* Ultimate goal of statistics is **data analysis**. E.g., PageRank, handwritten digit recognization, Netflix matrix completion, ...  \n",
    "\n",
    "    > Statistics is partly empirical and partly mathematical. It is now almost **entirely** computational.  \n",
    "    > Kenneth Lange\n",
    "\n",
    "| Statisticians used to .. | Now we spend all time ...  |\n",
    "|----------------------------------|------------------------------------|\n",
    "| <img src=\"./man_doing_math.gif\" style=\"width: 200px;\"/> | <img src=\"./man_working_on_computer.jpg\" style=\"width: 200px;\"/> |\n",
    "\n",
    "\n",
    "* Two essential skills for modern statisticians: **programming** and computational **algorithms**.\n",
    "\n",
    "    > Data Scientist (n.): Person who is better at statistics than any software engineer and better at software engineering than any statistician.  \n",
    "    > Josh Willis on Twitter\n",
    "\n",
    "* **Numerical linear algebra**\n",
    "    * building blocks of most computing we do. \n",
    "    * Use standard (and good) libraries (BLAS, LAPACK, ...) as much as possible!  \n",
    "    * Sparse linear algebra and iterative solvers such as conjugate gradient (CG) methods are critical for exploiting structure in big data.\n",
    "    \n",
    "* **Optimization**\n",
    "\n",
    "    * Convex programming (LS, LP, QP, GP, SOCP, SDP). Download and study Stephen Boyd's book, watch lecture vides or take UCLA EE236B by Vandenberghe, familiarize yourself with the **good** optimization softwares. Convex programming is becoming a **technology**, just like least squares (LS). Browse the documentation of `cvx` and `Convex.jl` to see which functions are implemented.\n",
    "\n",
    "    * Generic nonlinear optimization tools: Newton, Gauss-Newton, quasi-Newton, (nonlinear) conjugate gradient, ...\n",
    "\n",
    "    * Optimization tools developed by statisticians: Fisher scoring, EM, MM, ... Take UCLA Biomath 210 by Kenneth Lange for a thorough study of MM algorithms.\n",
    "\n",
    "<img src=\"./optimization_flowchart.png\" width=\"600\" align=\"center\"/>\n",
    "\n",
    "* Enjoy (or hate) Julia?  \n",
    "JuliaCon 2018 at University College London: http://juliacon.org/2018/"
   ]
  }
 ],
 "metadata": {
  "kernelspec": {
   "display_name": "Julia 0.6.2",
   "language": "julia",
   "name": "julia-0.6"
  },
  "language_info": {
   "file_extension": ".jl",
   "mimetype": "application/julia",
   "name": "julia",
   "version": "0.5.2"
  },
  "toc": {
   "colors": {
    "hover_highlight": "#DAA520",
    "running_highlight": "#FF0000",
    "selected_highlight": "#FFD700"
   },
   "moveMenuLeft": true,
   "nav_menu": {
    "height": "30px",
    "width": "252px"
   },
   "navigate_menu": true,
   "number_sections": false,
   "sideBar": true,
   "threshold": 4,
   "toc_cell": false,
   "toc_section_display": "block",
   "toc_window_display": false,
   "widenNotebook": false
  }
 },
 "nbformat": 4,
 "nbformat_minor": 2
}
