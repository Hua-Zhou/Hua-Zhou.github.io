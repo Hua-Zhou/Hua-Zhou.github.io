{
 "cells": [
  {
   "cell_type": "markdown",
   "metadata": {},
   "source": [
    "# Summary of linear regression\n",
    "\n",
    "Methods for solving linear regression $\\hat \\beta = (\\mathbf{X}^T \\mathbf{X})^{-1} \\mathbf{X}^T \\mathbf{y}$:\n",
    "\n",
    "| Method            | Flops            | Remarks                 | Software | Stability   |\n",
    "|-------------------|------------------|-------------------------|----------|-------------|\n",
    "| Sweep             | $np^2 + p^3$     | $(X^TX)^{-1}$ available | SAS      | less stable |\n",
    "| Cholesky          | $np^2 + p^3/3$   |                         |          | less stable |\n",
    "| QR by Householder | $2np^2 - (2/3)p^3$ |                         | R        | stable      |\n",
    "| QR by MGS         | $2np^2$          | $Q_1$ available         |          | stable |  \n",
    "| QR by SVD         | $4n^2p + 8np^2 + 9p^3$         |  $X = UDV^T$        |          | most stable |  \n",
    "\n",
    "Remarks:\n",
    "\n",
    "0. When $n \\gg p$, sweep and Cholesky are twice faster than QR and need less space.  \n",
    "0. Sweep and Cholesky are based on the **Gram matrix** $\\mathbf{X}^T \\mathbf{X}$, which can be dynamically updated with incoming data. They can handle huge $n$, moderate $p$ data sets that cannot fit into memory.  \n",
    "0. QR methods are more stable and produce numerically more accurate solution.  \n",
    "0. Although sweep is slower than Cholesky, it yields standard errors and so on.  \n",
    "0. MGS appears slower than Householder, but it yields $\\mathbf{Q}_1$."
   ]
  },
  {
   "cell_type": "code",
   "execution_count": 1,
   "metadata": {
    "collapsed": false
   },
   "outputs": [
    {
     "data": {
      "text/plain": [
       "linreg_sweep (generic function with 1 method)"
      ]
     },
     "execution_count": 1,
     "metadata": {},
     "output_type": "execute_result"
    }
   ],
   "source": [
    "using SweepOperator, BenchmarkTools\n",
    "\n",
    "function linreg_cholesky(y::Vector, X::Matrix)\n",
    "    cholfact!(X' * X) \\ (X' * y)\n",
    "end\n",
    "\n",
    "function linreg_qr(y::Vector, X::Matrix)\n",
    "    X \\ y\n",
    "end\n",
    "\n",
    "function linreg_sweep(y::Vector, X::Matrix)\n",
    "    p = size(X, 2)\n",
    "    tableau = [X y]' * [X y]\n",
    "    sweep!(tableau, 1:p)\n",
    "    return tableau[1:p, end]\n",
    "end"
   ]
  },
  {
   "cell_type": "code",
   "execution_count": 2,
   "metadata": {
    "collapsed": false
   },
   "outputs": [
    {
     "name": "stdout",
     "output_type": "stream",
     "text": [
      "linreg_cholesky(y,X) = [0.390365,0.262759,0.149047]\n",
      "linreg_qr(y,X) = [0.390365,0.262759,0.149047]\n",
      "linreg_sweep(y,X) = [0.390365,0.262759,0.149047]\n"
     ]
    }
   ],
   "source": [
    "srand(280) # seed\n",
    "\n",
    "n, p = 10, 3\n",
    "X = randn(n, p)\n",
    "y = randn(n)\n",
    "\n",
    "@show linreg_cholesky(y, X)\n",
    "@show linreg_qr(y, X)\n",
    "@show linreg_sweep(y, X);"
   ]
  },
  {
   "cell_type": "code",
   "execution_count": 3,
   "metadata": {
    "collapsed": false
   },
   "outputs": [
    {
     "data": {
      "text/plain": [
       "BenchmarkTools.Trial: \n",
       "  memory estimate:  708.34 KiB\n",
       "  allocs estimate:  10\n",
       "  --------------\n",
       "  minimum time:     2.251 ms (0.00% GC)\n",
       "  median time:      2.436 ms (0.00% GC)\n",
       "  mean time:        2.483 ms (1.35% GC)\n",
       "  maximum time:     5.270 ms (35.50% GC)\n",
       "  --------------\n",
       "  samples:          1999\n",
       "  evals/sample:     1"
      ]
     },
     "execution_count": 3,
     "metadata": {},
     "output_type": "execute_result"
    }
   ],
   "source": [
    "n, p = 1000, 300\n",
    "X = randn(n, p)\n",
    "y = randn(n)\n",
    "\n",
    "@benchmark linreg_cholesky(y, X)"
   ]
  },
  {
   "cell_type": "code",
   "execution_count": 4,
   "metadata": {
    "collapsed": false
   },
   "outputs": [
    {
     "data": {
      "text/plain": [
       "BenchmarkTools.Trial: \n",
       "  memory estimate:  6.03 MiB\n",
       "  allocs estimate:  622\n",
       "  --------------\n",
       "  minimum time:     8.401 ms (0.00% GC)\n",
       "  median time:      8.951 ms (0.00% GC)\n",
       "  mean time:        9.053 ms (3.37% GC)\n",
       "  maximum time:     10.875 ms (0.00% GC)\n",
       "  --------------\n",
       "  samples:          550\n",
       "  evals/sample:     1"
      ]
     },
     "execution_count": 4,
     "metadata": {},
     "output_type": "execute_result"
    }
   ],
   "source": [
    "@benchmark linreg_sweep(y, X)"
   ]
  },
  {
   "cell_type": "code",
   "execution_count": 5,
   "metadata": {
    "collapsed": false
   },
   "outputs": [
    {
     "data": {
      "text/plain": [
       "BenchmarkTools.Trial: \n",
       "  memory estimate:  4.05 MiB\n",
       "  allocs estimate:  2465\n",
       "  --------------\n",
       "  minimum time:     11.205 ms (0.00% GC)\n",
       "  median time:      11.960 ms (0.00% GC)\n",
       "  mean time:        14.063 ms (2.19% GC)\n",
       "  maximum time:     43.242 ms (0.00% GC)\n",
       "  --------------\n",
       "  samples:          355\n",
       "  evals/sample:     1"
      ]
     },
     "execution_count": 5,
     "metadata": {},
     "output_type": "execute_result"
    }
   ],
   "source": [
    "@benchmark linreg_qr(y, X)"
   ]
  },
  {
   "cell_type": "markdown",
   "metadata": {
    "collapsed": true
   },
   "source": [
    "> There is simply no such thing as a universal 'gold standard' when it comes to algorithms."
   ]
  }
 ],
 "metadata": {
  "kernelspec": {
   "display_name": "Julia 0.5.1",
   "language": "julia",
   "name": "julia-0.5"
  },
  "language_info": {
   "file_extension": ".jl",
   "mimetype": "application/julia",
   "name": "julia",
   "version": "0.5.1"
  },
  "toc": {
   "colors": {
    "hover_highlight": "#DAA520",
    "running_highlight": "#FF0000",
    "selected_highlight": "#FFD700"
   },
   "moveMenuLeft": true,
   "nav_menu": {
    "height": "31px",
    "width": "252px"
   },
   "navigate_menu": true,
   "number_sections": true,
   "sideBar": true,
   "threshold": 4,
   "toc_cell": false,
   "toc_section_display": "block",
   "toc_window_display": false,
   "widenNotebook": false
  }
 },
 "nbformat": 4,
 "nbformat_minor": 2
}
