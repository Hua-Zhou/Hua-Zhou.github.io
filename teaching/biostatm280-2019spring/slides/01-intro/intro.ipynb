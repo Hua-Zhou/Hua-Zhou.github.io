{
 "cells": [
  {
   "cell_type": "markdown",
   "metadata": {
    "slideshow": {
     "slide_type": "slide"
    }
   },
   "source": [
    "# BIOSTAT M280: Statistical Computing\n",
    "\n",
    "* Tue/Thu 1pm-2:20pm @ CHS 33-105A  \n",
    "* Instructor: Dr. Hua Zhou, <huazhou@ucla.edu>\n",
    "* Multi-listed as BIOSTAT M280, BIOMATH M280, and STAT M230  \n",
    "* For biostat studuents, this course satisfies the requirement of BIOSTAT 257 in the new curriculum. Ask Ms Roxy Naranjo <rlnaranjo@ph.ucla.edu> for the paperwork."
   ]
  },
  {
   "cell_type": "markdown",
   "metadata": {
    "slideshow": {
     "slide_type": "slide"
    }
   },
   "source": [
    "# What is statistics?\n",
    "\n",
    "* Statistics, the science of *data analysis*, is the applied mathematics in the 21st century. \n",
    "\n",
    "* People (scientists, goverment, health professionals, companies) collect data in order to answer certain questions. Statisticians's job is to help them extract knowledge and insights from data. \n",
    "\n",
    "* Must-read for (bio)statistics students:  \n",
    "  - [_50 years of data sicence_](http://hua-zhou.github.io/teaching/biostatm280-2018spring/readings/Donoho15FiftyYearsDataScience.pdf), by David Donoho.\n",
    "\n",
    "* If existing software tools readily solve the problem, all the better. \n",
    "\n",
    "* Often statisticians need to implement their own methods, test new algorithms, or tailor classical methods to new types of data (big, streaming). \n",
    "\n",
    "* This entails at least two essential skills: **programming** and fundamental knowledge of **algorithms**. "
   ]
  },
  {
   "cell_type": "markdown",
   "metadata": {
    "slideshow": {
     "slide_type": "slide"
    }
   },
   "source": [
    "# What is this course about?\n",
    "\n",
    "* **Not** a course on statistical packages. It does not answer questions such as _How to fit a linear mixed model in R,  Julia, SAS, SPSS, or Stata?_\n",
    "\n",
    "* **Not** a pure programming course, although programming is important and we do homework in Julia.  \n",
    "The new BIOSTAT 203A (Data Management) in fall quarter focuses on programming in R and SAS.\n",
    "\n",
    "* **Not** a course on data science. The new course [BIOSTAT 203B (Introduction to Data Science)](http://hua-zhou.github.io/teaching/biostatm280-2019winter/schedule.html) in winter quarter focuses on some software tools for data scientists.\n",
    "\n",
    "* This course focuses on **algorithms**, mostly those in **numerical linear algebra** and **numerical optimization**. \n",
    "\n",
    "* To quote [James Gentle](https://books.google.com/books?id=Pbz3D7Tg5eoC&pg=PR9&lpg=PR9&dq=The+form+of+a+mathematical+expression+and+the+way+the+expression+should+be+evaluated+in+actual+practice+may+be+quite+different.&source=bl&ots=MYABVAwDtC&sig=MGuPY_171sZFZLMCuewlOjV-Cl4&hl=en&sa=X&ved=0ahUKEwjkv_u34v7SAhUJrlQKHfT6DjAQ6AEIITAB#v=onepage&q=The%20form%20of%20a%20mathematical%20expression%20and%20the%20way%20the%20expression%20should%20be%20evaluated%20in%20actual%20practice%20may%20be%20quite%20different.&f=false)\n",
    "> The form of a mathematical expression and the way the expression should be evaluated in actual practice may be quite different.\n",
    "\n",
    "* For a common numerical task in statistics, say solving the least squares problem \n",
    "$$\n",
    "    \\widehat \\beta = ({\\bf X}^T {\\bf X})^{-1} {\\bf X}^T {\\bf y},\n",
    "$$\n",
    "we need to know which methods/algorithms are out there and what are their advantages and disadvantages. You will **fail** this course if you use\n",
    "```julia\n",
    "inv(X'X) * X' * y\n",
    "```\n",
    "Using `X \\ y` in Julia/Matlab (or `lm(y ~ X)` in R) is correct but not the purpose of this course. We want to understand what computer is doing when calling `X \\ y`."
   ]
  },
  {
   "cell_type": "markdown",
   "metadata": {
    "slideshow": {
     "slide_type": "slide"
    }
   },
   "source": [
    "# Course logistics\n",
    "\n",
    "* Course webpage: <http://hua-zhou.github.io/teaching/biostatm280-2019spring>.\n",
    "\n",
    "* [Syllabus](http://hua-zhou.github.io/teaching/biostatm280-2019spring/syllabus.html).\n",
    "\n",
    "* Check the [Schedule](http://hua-zhou.github.io/teaching/biostatm280-2019spring/schedule.html) and [Announcements](http://hua-zhou.github.io/teaching/biostatm280-2019spring/announcement.html) pages frequently. \n",
    "\n",
    "* Jupyter notebooks will be posted before each lecture."
   ]
  }
 ],
 "metadata": {
  "celltoolbar": "Slideshow",
  "kernelspec": {
   "display_name": "Julia 1.1.0",
   "language": "julia",
   "name": "julia-1.1"
  },
  "language_info": {
   "file_extension": ".jl",
   "mimetype": "application/julia",
   "name": "julia",
   "version": "1.1.0"
  },
  "livereveal": {
   "scroll": true,
   "start_slideshow_at": "selected"
  },
  "toc": {
   "colors": {
    "hover_highlight": "#DAA520",
    "running_highlight": "#FF0000",
    "selected_highlight": "#FFD700"
   },
   "moveMenuLeft": true,
   "nav_menu": {
    "height": "213px",
    "width": "252px"
   },
   "navigate_menu": true,
   "number_sections": true,
   "sideBar": true,
   "skip_h1_title": true,
   "threshold": 4,
   "toc_cell": false,
   "toc_section_display": "block",
   "toc_window_display": true,
   "widenNotebook": false
  }
 },
 "nbformat": 4,
 "nbformat_minor": 2
}
