{
 "cells": [
  {
   "cell_type": "markdown",
   "metadata": {},
   "source": [
    "# GPU Computing in Julia\n",
    "\n",
    "This session introduces GPU computing in Julia."
   ]
  },
  {
   "cell_type": "code",
   "execution_count": 1,
   "metadata": {},
   "outputs": [
    {
     "name": "stdout",
     "output_type": "stream",
     "text": [
      "Julia Version 0.6.4\n",
      "Commit 9d11f62bcb (2018-07-09 19:09 UTC)\n",
      "Platform Info:\n",
      "  OS: macOS (x86_64-apple-darwin14.5.0)\n",
      "  CPU: Intel(R) Core(TM) i7-6920HQ CPU @ 2.90GHz\n",
      "  WORD_SIZE: 64\n",
      "  BLAS: libopenblas (USE64BITINT DYNAMIC_ARCH NO_AFFINITY Haswell MAX_THREADS=16)\n",
      "  LAPACK: libopenblas64_\n",
      "  LIBM: libopenlibm\n",
      "  LLVM: libLLVM-3.9.1 (ORCJIT, skylake)\n"
     ]
    }
   ],
   "source": [
    "versioninfo()"
   ]
  },
  {
   "cell_type": "markdown",
   "metadata": {},
   "source": [
    "## GPGPU"
   ]
  },
  {
   "cell_type": "markdown",
   "metadata": {},
   "source": [
    "GPUs are ubiquitous in modern computers. Following are GPUs today's typical computer systems.\n",
    "\n",
    "| NVIDIA GPUs         | Tesla K80                            | GTX 1080                                 | GT 650M                              |\n",
    "|---------------------|----------------------------------------|-----------------------------------------|--------------------------------------|\n",
    "|                     | ![Tesla M2090](nvidia_k80.jpg) | ![GTX 580](nvidia_gtx1080.jpg)    | ![GT 650M](nvidia_gt650m.jpg) |\n",
    "| Computers           | servers, cluster                       | desktop                                 | laptop                               |\n",
    "|                     | ![Server](gpu_server.jpg)       | ![Desktop](alienware-area51.png) | ![Laptop](macpro_inside.png)  |\n",
    "| Main usage          | scientific computing                   | daily work, gaming                      | daily work                           |\n",
    "| Memory              | 24 GB                                    | 8 GB                                   | 1GB                                  |\n",
    "| Memory bandwidth    | 480 GB/sec                              | 320 GB/sec                               | 80GB/sec                             |\n",
    "| Number of cores     | 4992                                    | 2560                                     | 384                                  |\n",
    "| Processor clock     | 562 MHz                                 | 1.6 GHz                                  | 0.9GHz                               |\n",
    "| Peak DP performance | 2.91 TFLOPS                              | 257 GFLOPS                                        |                                      |\n",
    "| Peak SP performance | 8.73 TFLOPS                            | 8228 GFLOPS                              | 691Gflops                            |"
   ]
  },
  {
   "cell_type": "markdown",
   "metadata": {},
   "source": [
    "GPU architecture vs CPU architecture.  \n",
    "* GPUs contain 100s of processing cores on a single card; several cards can fit in a desktop PC  \n",
    "* Each core carries out the same operations in parallel on different input data -- single program, multiple data (SPMD) paradigm  \n",
    "* Extremely high arithmetic intensity *if* one can transfer the data onto and results off of the processors quickly\n",
    "\n",
    "| ![i7 die](cpu_i7_die.png) | ![Fermi die](Fermi_Die.png) |\n",
    "|----------------------------------|------------------------------------|\n",
    "| ![Einstein](einstein.png) | ![Rain man](rainman.png)    |"
   ]
  },
  {
   "cell_type": "markdown",
   "metadata": {},
   "source": [
    "## GPGPU in Julia\n",
    "\n",
    "GPU support by Julia is under active development. Check [JuliaGPU](https://github.com/JuliaGPU) for currently available packages. \n",
    "\n",
    "There are at least two paradigms to program GPU.\n",
    "\n",
    "- **CUDA** is an ecosystem exclusively for Nvidia GPUs. There are extensive CUDA libraries for scientific computing: CuBLAS, CuRAND, CuSparse, CuDNN, ...\n",
    "\n",
    "- **OpenCL** is supported multiple manufacturers (Nvidia, AMD, Intel, Apple, ...), but lacks some libraries essential for statistical computing.\n",
    "\n",
    "Because my laptop has does not have Nvidia GPU, I'll illustrate using OpenCL."
   ]
  },
  {
   "cell_type": "markdown",
   "metadata": {},
   "source": [
    "## Query GPU devices in the system"
   ]
  },
  {
   "cell_type": "code",
   "execution_count": 2,
   "metadata": {},
   "outputs": [
    {
     "data": {
      "text/plain": [
       "3-element Array{OpenCL.cl.Device,1}:\n",
       " OpenCL.Device(Intel(R) HD Graphics 530 on Apple @0x0000000001024500)                 \n",
       " OpenCL.Device(AMD Radeon Pro 460 Compute Engine on Apple @0x0000000001021c00)        \n",
       " OpenCL.Device(Intel(R) Core(TM) i7-6920HQ CPU @ 2.90GHz on Apple @0x00000000ffffffff)"
      ]
     },
     "execution_count": 2,
     "metadata": {},
     "output_type": "execute_result"
    }
   ],
   "source": [
    "using CLArrays\n",
    "\n",
    "# check available devices on this machine\n",
    "CLArrays.devices()"
   ]
  },
  {
   "cell_type": "code",
   "execution_count": 3,
   "metadata": {},
   "outputs": [
    {
     "data": {
      "text/plain": [
       "OpenCL context with:\n",
       "CL version: OpenCL 1.2 \n",
       "Device: CL AMD Radeon Pro 460 Compute Engine\n",
       "            threads: 256\n",
       "             blocks: (256, 256, 256)\n",
       "      global_memory: 4294.967296 mb\n",
       " free_global_memory: NaN mb\n",
       "       local_memory: 0.032768 mb\n"
      ]
     },
     "execution_count": 3,
     "metadata": {},
     "output_type": "execute_result"
    }
   ],
   "source": [
    "# use the AMD Radeon Pro 460 GPU\n",
    "dev = CLArrays.devices()[2]\n",
    "CLArrays.init(dev)"
   ]
  },
  {
   "cell_type": "markdown",
   "metadata": {},
   "source": [
    "## Generate arrays on GPU devices"
   ]
  },
  {
   "cell_type": "code",
   "execution_count": 4,
   "metadata": {},
   "outputs": [
    {
     "data": {
      "text/plain": [
       "GPU: 5×3 Array{Float32,2}:\n",
       " 0.817386  0.553966  0.9694   \n",
       " 0.11034   0.450713  0.850215 \n",
       " 0.143936  0.126783  0.544901 \n",
       " 0.189676  0.223372  0.145011 \n",
       " 0.606684  0.931789  0.0843384"
      ]
     },
     "execution_count": 4,
     "metadata": {},
     "output_type": "execute_result"
    }
   ],
   "source": [
    "# generate GPU arrays\n",
    "xd = rand(CLArray{Float32}, 5, 3)"
   ]
  },
  {
   "cell_type": "code",
   "execution_count": 5,
   "metadata": {},
   "outputs": [
    {
     "data": {
      "text/plain": [
       "GPU: 5×3 Array{Float32,2}:\n",
       " 1.0  1.0  1.0\n",
       " 1.0  1.0  1.0\n",
       " 1.0  1.0  1.0\n",
       " 1.0  1.0  1.0\n",
       " 1.0  1.0  1.0"
      ]
     },
     "execution_count": 5,
     "metadata": {},
     "output_type": "execute_result"
    }
   ],
   "source": [
    "yd = ones(CLArray{Float32}, 5, 3)"
   ]
  },
  {
   "cell_type": "markdown",
   "metadata": {},
   "source": [
    "## Transfer data between main memory and GPU"
   ]
  },
  {
   "cell_type": "code",
   "execution_count": 6,
   "metadata": {},
   "outputs": [
    {
     "data": {
      "text/plain": [
       "GPU: 5×3 Array{Float64,2}:\n",
       "  0.807471  -0.424316  -0.436997\n",
       "  1.75592   -0.630868   1.62172 \n",
       " -0.2748    -1.5282     2.97822 \n",
       " -1.25279   -0.427537  -0.362384\n",
       " -1.14854    0.955066   0.602261"
      ]
     },
     "execution_count": 6,
     "metadata": {},
     "output_type": "execute_result"
    }
   ],
   "source": [
    "# transfer data from main memory to GPU\n",
    "x = randn(5, 3)\n",
    "xd = CLArray(x)"
   ]
  },
  {
   "cell_type": "code",
   "execution_count": 7,
   "metadata": {},
   "outputs": [
    {
     "data": {
      "text/plain": [
       "5×3 Array{Float64,2}:\n",
       "  0.807471  -0.424316  -0.436997\n",
       "  1.75592   -0.630868   1.62172 \n",
       " -0.2748    -1.5282     2.97822 \n",
       " -1.25279   -0.427537  -0.362384\n",
       " -1.14854    0.955066   0.602261"
      ]
     },
     "execution_count": 7,
     "metadata": {},
     "output_type": "execute_result"
    }
   ],
   "source": [
    "# transfer data from main memory to GPU\n",
    "x = collect(xd)"
   ]
  },
  {
   "cell_type": "markdown",
   "metadata": {
    "collapsed": true
   },
   "source": [
    "## elementiwise operations"
   ]
  },
  {
   "cell_type": "code",
   "execution_count": 8,
   "metadata": {},
   "outputs": [
    {
     "data": {
      "text/plain": [
       "GPU: 5×3 Array{Float64,2}:\n",
       "  0.543801  -0.530514  -0.550295\n",
       "  0.684568  -0.891223   0.692499\n",
       " -0.316568  -7.0052     0.150702\n",
       " -2.99296   -0.535512  -0.437737\n",
       " -2.43231    0.59683    0.448848"
      ]
     },
     "execution_count": 8,
     "metadata": {},
     "output_type": "execute_result"
    }
   ],
   "source": [
    "zd = log.(yd .+ sin.(xd))"
   ]
  },
  {
   "cell_type": "code",
   "execution_count": 9,
   "metadata": {},
   "outputs": [
    {
     "data": {
      "text/plain": [
       "GPU: 5×3 Array{Float64,2}:\n",
       "  0.807471  -0.424316  -0.436997\n",
       "  1.38568   -0.630868   1.51987 \n",
       " -0.2748    -1.5282     0.163375\n",
       " -1.25279   -0.427537  -0.362384\n",
       " -1.14854    0.955066   0.602261"
      ]
     },
     "execution_count": 9,
     "metadata": {},
     "output_type": "execute_result"
    }
   ],
   "source": [
    "# getting back x\n",
    "asin.(exp.(zd) .- yd)"
   ]
  },
  {
   "cell_type": "markdown",
   "metadata": {},
   "source": [
    "## Linear algebra"
   ]
  },
  {
   "cell_type": "code",
   "execution_count": 10,
   "metadata": {},
   "outputs": [
    {
     "data": {
      "text/plain": [
       "GPU: 3×3 Array{Float32,2}:\n",
       " -0.112745  -0.112745  -0.112745\n",
       " -2.05585   -2.05585   -2.05585 \n",
       "  4.40282    4.40282    4.40282 "
      ]
     },
     "execution_count": 10,
     "metadata": {},
     "output_type": "execute_result"
    }
   ],
   "source": [
    "zd = zeros(CLArray{Float32}, 3, 3)\n",
    "At_mul_B!(zd, xd, yd)"
   ]
  },
  {
   "cell_type": "code",
   "execution_count": 11,
   "metadata": {},
   "outputs": [
    {
     "name": "stderr",
     "output_type": "stream",
     "text": [
      "\u001b[91mERROR (unhandled task failure): \u001b[91mOpenCL Error: OpenCL.Context error: \u001b[39m\n",
      "Stacktrace:\n",
      " [1] \u001b[1mraise_context_error\u001b[22m\u001b[22m\u001b[1m(\u001b[22m\u001b[22m::String, ::String\u001b[1m)\u001b[22m\u001b[22m at \u001b[1m/Users/huazhou/.julia/v0.6/OpenCL/src/context.jl:109\u001b[22m\u001b[22m\n",
      " [2] \u001b[1mmacro expansion\u001b[22m\u001b[22m at \u001b[1m/Users/huazhou/.julia/v0.6/OpenCL/src/context.jl:148\u001b[22m\u001b[22m [inlined]\n",
      " [3] \u001b[1m(::OpenCL.cl.##43#44)\u001b[22m\u001b[22m\u001b[1m(\u001b[22m\u001b[22m\u001b[1m)\u001b[22m\u001b[22m at \u001b[1m./task.jl:335\u001b[22m\u001b[22m\n",
      "\u001b[39m"
     ]
    },
    {
     "data": {
      "text/plain": [
       "BenchmarkTools.Trial: \n",
       "  memory estimate:  3.14 KiB\n",
       "  allocs estimate:  114\n",
       "  --------------\n",
       "  minimum time:     17.157 μs (0.00% GC)\n",
       "  median time:      21.811 μs (0.00% GC)\n",
       "  mean time:        24.471 μs (3.38% GC)\n",
       "  maximum time:     17.171 ms (48.17% GC)\n",
       "  --------------\n",
       "  samples:          10000\n",
       "  evals/sample:     1"
      ]
     },
     "execution_count": 11,
     "metadata": {},
     "output_type": "execute_result"
    }
   ],
   "source": [
    "using BenchmarkTools\n",
    "\n",
    "n = 1024\n",
    "xd = rand(CLArray{Float32}, n, n)\n",
    "yd = rand(CLArray{Float32}, n, n)\n",
    "zd = zeros(CLArray{Float32}, n, n)\n",
    "\n",
    "# SP matrix multiplication on GPU\n",
    "@benchmark A_mul_B!($zd, $xd, $yd)"
   ]
  },
  {
   "cell_type": "code",
   "execution_count": 12,
   "metadata": {
    "scrolled": true
   },
   "outputs": [
    {
     "data": {
      "text/plain": [
       "BenchmarkTools.Trial: \n",
       "  memory estimate:  0 bytes\n",
       "  allocs estimate:  0\n",
       "  --------------\n",
       "  minimum time:     8.458 ms (0.00% GC)\n",
       "  median time:      8.928 ms (0.00% GC)\n",
       "  mean time:        9.285 ms (0.00% GC)\n",
       "  maximum time:     15.329 ms (0.00% GC)\n",
       "  --------------\n",
       "  samples:          538\n",
       "  evals/sample:     1"
      ]
     },
     "execution_count": 12,
     "metadata": {},
     "output_type": "execute_result"
    }
   ],
   "source": [
    "x = rand(Float32, n, n)\n",
    "y = rand(Float32, n, n)\n",
    "z = zeros(Float32, n, n)\n",
    "\n",
    "# SP matrix multiplication on CPU\n",
    "@benchmark A_mul_B!($z, $x, $y)"
   ]
  },
  {
   "cell_type": "markdown",
   "metadata": {},
   "source": [
    "We ses ~50 fold speedup in this matrix multiplication example."
   ]
  }
 ],
 "metadata": {
  "@webio": {
   "lastCommId": null,
   "lastKernelId": null
  },
  "kernelspec": {
   "display_name": "Julia 0.6.4",
   "language": "julia",
   "name": "julia-0.6"
  },
  "language_info": {
   "file_extension": ".jl",
   "mimetype": "application/julia",
   "name": "julia",
   "version": "0.6.4"
  },
  "toc": {
   "colors": {
    "hover_highlight": "#DAA520",
    "running_highlight": "#FF0000",
    "selected_highlight": "#FFD700"
   },
   "moveMenuLeft": true,
   "nav_menu": {
    "height": "30px",
    "width": "252px"
   },
   "navigate_menu": true,
   "number_sections": true,
   "sideBar": true,
   "skip_h1_title": true,
   "threshold": 4,
   "toc_cell": false,
   "toc_section_display": "block",
   "toc_window_display": true,
   "widenNotebook": false
  }
 },
 "nbformat": 4,
 "nbformat_minor": 2
}
