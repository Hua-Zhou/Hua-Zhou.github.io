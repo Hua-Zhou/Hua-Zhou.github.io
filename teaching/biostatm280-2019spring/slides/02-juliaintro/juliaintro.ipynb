{
 "cells": [
  {
   "cell_type": "markdown",
   "metadata": {
    "slideshow": {
     "slide_type": "-"
    },
    "toc": "true"
   },
   "source": [
    "# Table of Contents\n",
    " <p><div class=\"lev1 toc-item\"><a href=\"#Introduction-to\" data-toc-modified-id=\"Introduction-to-1\"><span class=\"toc-item-num\">1&nbsp;&nbsp;</span>Introduction to</a></div><div class=\"lev2 toc-item\"><a href=\"#Types-of-computer-languages\" data-toc-modified-id=\"Types-of-computer-languages-11\"><span class=\"toc-item-num\">1.1&nbsp;&nbsp;</span>Types of computer languages</a></div><div class=\"lev2 toc-item\"><a href=\"#Messages\" data-toc-modified-id=\"Messages-12\"><span class=\"toc-item-num\">1.2&nbsp;&nbsp;</span>Messages</a></div><div class=\"lev2 toc-item\"><a href=\"#What's-Julia?\" data-toc-modified-id=\"What's-Julia?-13\"><span class=\"toc-item-num\">1.3&nbsp;&nbsp;</span>What's Julia?</a></div><div class=\"lev2 toc-item\"><a href=\"#R-is-great,-but...\" data-toc-modified-id=\"R-is-great,-but...-14\"><span class=\"toc-item-num\">1.4&nbsp;&nbsp;</span>R is great, but...</a></div><div class=\"lev2 toc-item\"><a href=\"#Gibbs-sampler-example-by-Doug-Bates\" data-toc-modified-id=\"Gibbs-sampler-example-by-Doug-Bates-15\"><span class=\"toc-item-num\">1.5&nbsp;&nbsp;</span>Gibbs sampler example by Doug Bates</a></div><div class=\"lev2 toc-item\"><a href=\"#Learning-resources\" data-toc-modified-id=\"Learning-resources-16\"><span class=\"toc-item-num\">1.6&nbsp;&nbsp;</span>Learning resources</a></div><div class=\"lev2 toc-item\"><a href=\"#Julia-REPL-(Read-Evaluation-Print-Loop)\" data-toc-modified-id=\"Julia-REPL-(Read-Evaluation-Print-Loop)-17\"><span class=\"toc-item-num\">1.7&nbsp;&nbsp;</span>Julia REPL (Read-Evaluation-Print-Loop)</a></div><div class=\"lev2 toc-item\"><a href=\"#Seek-help\" data-toc-modified-id=\"Seek-help-18\"><span class=\"toc-item-num\">1.8&nbsp;&nbsp;</span>Seek help</a></div><div class=\"lev2 toc-item\"><a href=\"#Which-IDE?\" data-toc-modified-id=\"Which-IDE?-19\"><span class=\"toc-item-num\">1.9&nbsp;&nbsp;</span>Which IDE?</a></div><div class=\"lev2 toc-item\"><a href=\"#Julia-package-system\" data-toc-modified-id=\"Julia-package-system-110\"><span class=\"toc-item-num\">1.10&nbsp;&nbsp;</span>Julia package system</a></div><div class=\"lev2 toc-item\"><a href=\"#Calling-R-from-Julia\" data-toc-modified-id=\"Calling-R-from-Julia-111\"><span class=\"toc-item-num\">1.11&nbsp;&nbsp;</span>Calling R from Julia</a></div><div class=\"lev2 toc-item\"><a href=\"#Some-basic-Julia-code\" data-toc-modified-id=\"Some-basic-Julia-code-112\"><span class=\"toc-item-num\">1.12&nbsp;&nbsp;</span>Some basic Julia code</a></div><div class=\"lev2 toc-item\"><a href=\"#Timing-and-benchmark\" data-toc-modified-id=\"Timing-and-benchmark-113\"><span class=\"toc-item-num\">1.13&nbsp;&nbsp;</span>Timing and benchmark</a></div><div class=\"lev2 toc-item\"><a href=\"#Matrices-and-vectors\" data-toc-modified-id=\"Matrices-and-vectors-114\"><span class=\"toc-item-num\">1.14&nbsp;&nbsp;</span>Matrices and vectors</a></div><div class=\"lev3 toc-item\"><a href=\"#Dimensions\" data-toc-modified-id=\"Dimensions-1141\"><span class=\"toc-item-num\">1.14.1&nbsp;&nbsp;</span>Dimensions</a></div><div class=\"lev3 toc-item\"><a href=\"#Indexing\" data-toc-modified-id=\"Indexing-1142\"><span class=\"toc-item-num\">1.14.2&nbsp;&nbsp;</span>Indexing</a></div><div class=\"lev3 toc-item\"><a href=\"#Concatenate-matrices\" data-toc-modified-id=\"Concatenate-matrices-1143\"><span class=\"toc-item-num\">1.14.3&nbsp;&nbsp;</span>Concatenate matrices</a></div><div class=\"lev3 toc-item\"><a href=\"#Dot-operation\" data-toc-modified-id=\"Dot-operation-1144\"><span class=\"toc-item-num\">1.14.4&nbsp;&nbsp;</span>Dot operation</a></div><div class=\"lev3 toc-item\"><a href=\"#Basic-linear-algebra\" data-toc-modified-id=\"Basic-linear-algebra-1145\"><span class=\"toc-item-num\">1.14.5&nbsp;&nbsp;</span>Basic linear algebra</a></div><div class=\"lev3 toc-item\"><a href=\"#Sparse-matrices\" data-toc-modified-id=\"Sparse-matrices-1146\"><span class=\"toc-item-num\">1.14.6&nbsp;&nbsp;</span>Sparse matrices</a></div><div class=\"lev2 toc-item\"><a href=\"#Control-flow-and-loops\" data-toc-modified-id=\"Control-flow-and-loops-115\"><span class=\"toc-item-num\">1.15&nbsp;&nbsp;</span>Control flow and loops</a></div><div class=\"lev2 toc-item\"><a href=\"#Functions\" data-toc-modified-id=\"Functions-116\"><span class=\"toc-item-num\">1.16&nbsp;&nbsp;</span>Functions</a></div><div class=\"lev2 toc-item\"><a href=\"#Type-system\" data-toc-modified-id=\"Type-system-117\"><span class=\"toc-item-num\">1.17&nbsp;&nbsp;</span>Type system</a></div><div class=\"lev2 toc-item\"><a href=\"#Multiple-dispatch\" data-toc-modified-id=\"Multiple-dispatch-118\"><span class=\"toc-item-num\">1.18&nbsp;&nbsp;</span>Multiple dispatch</a></div><div class=\"lev2 toc-item\"><a href=\"#Just-in-time-compilation-(JIT)\" data-toc-modified-id=\"Just-in-time-compilation-(JIT)-119\"><span class=\"toc-item-num\">1.19&nbsp;&nbsp;</span>Just-in-time compilation (JIT)</a></div><div class=\"lev2 toc-item\"><a href=\"#Profiling-Julia-code\" data-toc-modified-id=\"Profiling-Julia-code-120\"><span class=\"toc-item-num\">1.20&nbsp;&nbsp;</span>Profiling Julia code</a></div><div class=\"lev2 toc-item\"><a href=\"#Memory-profiling\" data-toc-modified-id=\"Memory-profiling-121\"><span class=\"toc-item-num\">1.21&nbsp;&nbsp;</span>Memory profiling</a></div><div class=\"lev2 toc-item\"><a href=\"#Type-stability\" data-toc-modified-id=\"Type-stability-122\"><span class=\"toc-item-num\">1.22&nbsp;&nbsp;</span>Type stability</a></div><div class=\"lev2 toc-item\"><a href=\"#Plotting-in-Julia\" data-toc-modified-id=\"Plotting-in-Julia-123\"><span class=\"toc-item-num\">1.23&nbsp;&nbsp;</span>Plotting in Julia</a></div>"
   ]
  },
  {
   "cell_type": "markdown",
   "metadata": {
    "slideshow": {
     "slide_type": "slide"
    }
   },
   "source": [
    "# Introduction to\n",
    "\n",
    "<img src=\"./julia_logo.png\" alt=\"Julia toolchain\" style=\"width: 400px;\"/>"
   ]
  },
  {
   "cell_type": "markdown",
   "metadata": {
    "slideshow": {
     "slide_type": "slide"
    }
   },
   "source": [
    "## Types of computer languages\n",
    "\n",
    "* **Compiled languages**: C/C++, Fortran, ... \n",
    "  - Directly compiled to machine code that is executed by CPU \n",
    "  - Pros: fast, memory efficient\n",
    "  - Cons: longer development time, hard to debug\n",
    "\n",
    "* **Interpreted language**: R, Matlab, Python, SAS IML, JavaScript, ... \n",
    "  - Interpreted by interpreter\n",
    "  - Pros: fast prototyping\n",
    "  - Cons: excruciatingly slow for loops\n",
    "\n",
    "* Mixed (dynamic) languages: Matlab (JIT), R (`compiler` package), Julia, Cython, JAVA, ...\n",
    "  - Pros and cons: between the compiled and interpreted languages\n",
    "\n",
    "* Script languages: Linux shell scripts, Perl, ...\n",
    "  - Extremely useful for some data preprocessing and manipulation\n",
    "\n",
    "* Database languages: SQL, Hive (Hadoop).  \n",
    "  - Data analysis *never* happens if we do not know how to retrieve data from databases  "
   ]
  },
  {
   "cell_type": "markdown",
   "metadata": {
    "slideshow": {
     "slide_type": "slide"
    }
   },
   "source": [
    "## Messages\n",
    "\n",
    "* To be versatile in the big data era, master at least one language in each category.\n",
    "\n",
    "* To improve efficiency of interpreted languages such as R or Matlab, conventional wisdom is to avoid loops as much as possible. Aka, **vectorize code**\n",
    "> The only loop you are allowed to have is that for an iterative algorithm.\n",
    "\n",
    "* When looping is unavoidable, need to code in C, C++, or Fortran.  \n",
    "Success stories: the popular `glmnet` package in R is coded in Fortran.\n",
    "\n",
    "* Modern languages such as Julia tries to solve the **two language problem**. That is to achieve efficiency without vectorizing code."
   ]
  },
  {
   "cell_type": "markdown",
   "metadata": {
    "slideshow": {
     "slide_type": "slide"
    }
   },
   "source": [
    "## What's Julia?\n",
    "\n",
    "> Julia is a high-level, high-performance dynamic programming language for technical computing, with syntax that is familiar to users of other technical computing environments\n",
    "\n",
    "* History:\n",
    "  - Project started in 2009. First public release in 2012. \n",
    "  - Creators: Jeff Bezanson, Alan Edelman, Stefan Karpinski, Viral Shah\n",
    "  - First major release v1.0 was released on Aug 8, 2018\n",
    "  - Current stable release v1.1.0\n",
    "\n",
    "* Aim to solve the notorious **two language problem**:\n",
    "    - Prototype code goes into high-level languages like R/Python, production code goes into low-level language like C/C++\n",
    "> Walks like Python. Runs like C.\n",
    "\n",
    "<img src=\"./julia_vs_otherlang.png\" align=\"center\" width=\"600\"/>\n",
    "\n",
    "See <https://julialang.org/benchmarks/> for the details of benchmark.\n",
    "\n",
    "* Write high-level, abstract code that closely resembles mathematical formulas\n",
    "    - yet produces fast, low-level machine code that has traditionally only been generated by static languages.\n",
    "\n",
    "* Julia is more than just \"Fast R\" or \"Fast Matlab\"\n",
    "    - Performance comes from features that work well together.  \n",
    "    - You can't just take the magic dust that makes Julia fast and sprinkle it on [language of choice]"
   ]
  },
  {
   "cell_type": "markdown",
   "metadata": {
    "slideshow": {
     "slide_type": "slide"
    }
   },
   "source": [
    "## R is great, but...\n",
    "\n",
    "* It's not meant for high performance computing\n",
    "  - http://adv-r.had.co.nz/Performance.html\n",
    "    - Section on performance starts with \"Why is R slow?\" \n",
    "\n",
    "* Deficiencies in the core language \n",
    "  - Many fixed with packages (`devtools`, `roxygen2`, `Matrix`)\n",
    "  - Others harder to fix (R uses an old version of BLAS)\n",
    "  - Some impossible to fix (clunky syntax, poor design choices)\n",
    "\n",
    "* Only 6 active developers left (out of 20 R-Core members)\n",
    "  - JuliaLang organization has 75 members, with 567 total contributors (as of 3/3/17)\n",
    "    - https://github.com/JuliaLang/julia/graphs/contributors\n",
    "\n",
    "* Doug Bates (member of R-Core, `Matrix` and `lme4`)\n",
    "    - Getting Doug on board was a big win for statistics with Julia, as he brought a lot of knowledge about the history of R development and design choices\n",
    "    - https://github.com/dmbates/MixedModels.jl\n",
    "    \n",
    "    > As some of you may know, I have had a (rather late) mid-life crisis and run off with another language called Julia.   \n",
    "    >\n",
    "    > -- <cite>Doug Bates (on the `knitr` Google Group)</cite>"
   ]
  },
  {
   "cell_type": "markdown",
   "metadata": {
    "slideshow": {
     "slide_type": "slide"
    }
   },
   "source": [
    "## Gibbs sampler example by Doug Bates\n",
    "\n",
    "* An example from Dr. Doug Bates's slides [Julia for R Programmers](http://www.stat.wisc.edu/~bates/JuliaForRProgrammers.pdf).\n",
    "\n",
    "* The task is to create a Gibbs sampler for the density  \n",
    "$$\n",
    "f(x, y) = k x^2 exp(- x y^2 - y^2 + 2y - 4x), x > 0\n",
    "$$\n",
    "using the conditional distributions\n",
    "$$\n",
    "\\begin{eqnarray*}\n",
    "  X | Y &\\sim& \\Gamma \\left( 3, \\frac{1}{y^2 + 4} \\right) \\\\\n",
    "  Y | X &\\sim& N \\left(\\frac{1}{1+x}, \\frac{1}{2(1+x)} \\right).\n",
    "\\end{eqnarray*}\n",
    "$$"
   ]
  },
  {
   "cell_type": "markdown",
   "metadata": {},
   "source": [
    "* R solution. The `RCall.jl` package allows us to execute R code without leaving the `Julia` environment. We first define an R function `Rgibbs()`."
   ]
  },
  {
   "cell_type": "code",
   "execution_count": 1,
   "metadata": {},
   "outputs": [
    {
     "data": {
      "text/plain": [
       "RObject{ClosSxp}\n",
       "function (N, thin) \n",
       "{\n",
       "    mat <- matrix(0, nrow = N, ncol = 2)\n",
       "    x <- y <- 0\n",
       "    for (i in 1:N) {\n",
       "        for (j in 1:thin) {\n",
       "            x <- rgamma(1, 3, y * y + 4)\n",
       "            y <- rnorm(1, 1/(x + 1), 1/sqrt(2 * (x + 1)))\n",
       "        }\n",
       "        mat[i, ] <- c(x, y)\n",
       "    }\n",
       "    mat\n",
       "}\n"
      ]
     },
     "execution_count": 1,
     "metadata": {},
     "output_type": "execute_result"
    }
   ],
   "source": [
    "using RCall\n",
    "\n",
    "R\"\"\"\n",
    "library(Matrix)\n",
    "Rgibbs <- function(N, thin) {\n",
    "  mat <- matrix(0, nrow=N, ncol=2)\n",
    "  x <- y <- 0\n",
    "  for (i in 1:N) {\n",
    "    for (j in 1:thin) {\n",
    "      x <- rgamma(1, 3, y * y + 4) # 3rd arg is rate\n",
    "      y <- rnorm(1, 1 / (x + 1), 1 / sqrt(2 * (x + 1)))\n",
    "    }\n",
    "    mat[i,] <- c(x, y)\n",
    "  }\n",
    "  mat\n",
    "}\n",
    "\"\"\""
   ]
  },
  {
   "cell_type": "markdown",
   "metadata": {},
   "source": [
    "To generate a sample of size 10,000 with a thinning of 500. How long does it take?"
   ]
  },
  {
   "cell_type": "code",
   "execution_count": 2,
   "metadata": {},
   "outputs": [
    {
     "data": {
      "text/plain": [
       "23.068462637"
      ]
     },
     "execution_count": 2,
     "metadata": {},
     "output_type": "execute_result"
    }
   ],
   "source": [
    "# benchmark\n",
    "@elapsed R\"\"\"\n",
    "system.time(Rgibbs(10000, 500))\n",
    "\"\"\""
   ]
  },
  {
   "cell_type": "markdown",
   "metadata": {},
   "source": [
    "* This is a Julia function for the simple Gibbs sampler:"
   ]
  },
  {
   "cell_type": "code",
   "execution_count": 3,
   "metadata": {},
   "outputs": [
    {
     "data": {
      "text/plain": [
       "jgibbs (generic function with 1 method)"
      ]
     },
     "execution_count": 3,
     "metadata": {},
     "output_type": "execute_result"
    }
   ],
   "source": [
    "using Distributions\n",
    "\n",
    "function jgibbs(N, thin)\n",
    "    mat = zeros(N, 2)\n",
    "    x = y = 0.0\n",
    "    for i in 1:N\n",
    "        for j in 1:thin\n",
    "            x = rand(Gamma(3, 1 / (y * y + 4)))\n",
    "            y = rand(Normal(1 / (x + 1), 1 / sqrt(2(x + 1))))\n",
    "        end\n",
    "        mat[i, 1] = x\n",
    "        mat[i, 2] = y\n",
    "    end\n",
    "    mat\n",
    "end"
   ]
  },
  {
   "cell_type": "markdown",
   "metadata": {},
   "source": [
    "Generate the same number of samples. How long does it take?"
   ]
  },
  {
   "cell_type": "code",
   "execution_count": 4,
   "metadata": {},
   "outputs": [
    {
     "data": {
      "text/plain": [
       "0.308920033"
      ]
     },
     "execution_count": 4,
     "metadata": {},
     "output_type": "execute_result"
    }
   ],
   "source": [
    "jgibbs(100, 5); # warm-up\n",
    "@elapsed jgibbs(10000, 500)"
   ]
  },
  {
   "cell_type": "markdown",
   "metadata": {},
   "source": [
    "We see 40-80 fold speed up of `Julia` over `R` on this example, **with similar coding effort**!"
   ]
  },
  {
   "cell_type": "markdown",
   "metadata": {
    "slideshow": {
     "slide_type": "slide"
    }
   },
   "source": [
    "## Learning resources\n",
    "\n",
    "0. YouTube: [Intro to Julia](https://www.youtube.com/watch?v=8h8rQyEpiZA&t) (2h28m), by Jane Herriman. \n",
    "\n",
    "0. Cheat sheet: [The Fast Track to Julia](https://juliadocs.github.io/Julia-Cheat-Sheet/).  \n",
    "\n",
    "0. Browse the Julia [documentation](https://docs.julialang.org/en).  \n",
    "\n",
    "0. For Matlab users, read [Noteworthy Differences From Matlab](https://docs.julialang.org/en/v1/manual/noteworthy-differences/#Noteworthy-differences-from-MATLAB-1).  \n",
    "\n",
    "    For R users, read [Noteworthy Differences From R](https://docs.julialang.org/en/v1/manual/noteworthy-differences/#Noteworthy-differences-from-R-1).  \n",
    "\n",
    "    For Python users, read [Noteworthy Differences From Python](https://docs.julialang.org/en/v1/manual/noteworthy-differences/?highlight=matlab#Noteworthy-differences-from-Python-1).  \n",
    "\n",
    "0. The [Learning page](http://julialang.org/learning/) on Julia's website has pointers to many other learning resources.  "
   ]
  },
  {
   "cell_type": "markdown",
   "metadata": {
    "slideshow": {
     "slide_type": "slide"
    }
   },
   "source": [
    "## Julia REPL (Read-Evaluation-Print-Loop)\n",
    "\n",
    "The `Julia` REPL, or `Julia` shell, has at least five modes.\n",
    "\n",
    "1. **Default mode** is the Julian prompt `julia>`. Type backspace in other modes to enter default mode.    \n",
    "\n",
    "2. **Help mode** `help?>`. Type `?` to enter help mode. `?search_term` does a fuzzy search for `search_term`.  \n",
    "\n",
    "3. **Shell mode** `shell>`. Type `;` to enter shell mode.  \n",
    "\n",
    "4. **Package mode** `v(1.1) Pkg>`. Type `]` to enter package mode for managing Julia packages (install, uninstall, update, ...).\n",
    "\n",
    "5. **Search mode** `(reverse-i-search)`. Press `ctrl+R` to enter search model. \n",
    "\n",
    "6. With `RCall.jl` package installed, we can enter the **R mode** by typing `$` (shift+4) at Julia REPL.\n",
    "\n",
    "Some survival commands in Julia REPL:  \n",
    "1. `quit()` or `Ctrl+D`: exit Julia.\n",
    "\n",
    "2. `Ctrl+C`: interrupt execution.\n",
    "\n",
    "3. `Ctrl+L`: clear screen.\n",
    "\n",
    "0. Append `;` (semi-colon) to suppress displaying output from a command.\n",
    "\n",
    "0. `include(\"filename.jl\")` to source a Julia code file."
   ]
  },
  {
   "cell_type": "markdown",
   "metadata": {},
   "source": [
    "## Seek help\n",
    "\n",
    "* Online help from REPL: `?function_name`.\n",
    "\n",
    "* Google (of course).\n",
    "\n",
    "* Julia documentation: <https://docs.julialang.org/en/>.\n",
    "\n",
    "* Look up source code: `@edit func(x)`.\n",
    "\n",
    "* <https://discourse.julialang.org>.\n",
    "\n",
    "* Friends."
   ]
  },
  {
   "cell_type": "markdown",
   "metadata": {
    "slideshow": {
     "slide_type": "slide"
    }
   },
   "source": [
    "## Which IDE?\n",
    "\n",
    "* Julia homepage lists many choices: Juno, VS Code, Vim, ...\n",
    "\n",
    "* Unfortunately at the moment there are no mature RStudio- or Matlab-like IDE for Julia yet.\n",
    "\n",
    "* For dynamic document, e.g., homework, I recommend [Jupyter Notebook](https://jupyter.org/install.html) or [JupyterLab](http://jupyterlab.readthedocs.io/en/stable/), which is supposed to replace Jupyter Notebook after it reaches v1.0.\n",
    "\n",
    "* For extensive Julia coding, myself has good experience with the editor [VS Code](https://code.visualstudio.com) with extensions `Julia` and `VS Code Jupyter Notebook Previewer` installed. "
   ]
  },
  {
   "cell_type": "markdown",
   "metadata": {
    "slideshow": {
     "slide_type": "slide"
    }
   },
   "source": [
    "## Julia package system\n",
    "\n",
    "<img src=\"http://pkg.julialang.org/img/allver.svg\" width=\"500\" align=\"center\"/>\n",
    "\n",
    "* Each Julia package is a Git repository. Each Julia package name ends with `.jl`. E.g., `Distributions.jl` package lives at <https://github.com/JuliaStats/Distributions.jl>.   \n",
    "Google search with `PackageName.jl` usually leads to the package on github.com. \n",
    "\n",
    "* The package ecosystem is rapidly maturing; a complete list of **registered** packages (which are required to have a certain level of testing and documentation) is at [http://pkg.julialang.org/](http://pkg.julialang.org/).\n",
    "\n",
    "* For example, the package called `Distributions.jl` is added with\n",
    "```julia\n",
    "# in Pkg mode\n",
    "(v1.1) pkg> add Distributions\n",
    "```\n",
    "and \"removed\" (although not completely deleted) with\n",
    "```julia\n",
    "# in Pkg mode\n",
    "(v1.1) pkg> rm Distributions\n",
    "```\n",
    "* The package manager provides a dependency solver that determines which packages are actually required to be installed.\n",
    "\n",
    "* **Non-registered** packages are added by cloning the relevant Git repository. E.g.,\n",
    "```julia\n",
    "# in Pkg mode\n",
    "(v1.1) pkg> add https://github.com/OpenMendel/SnpArrays.jl\n",
    "```\n",
    "\n",
    "* A package needs only be added once, at which point it is downloaded into your local `.julia/packages` directory in your home directory. "
   ]
  },
  {
   "cell_type": "code",
   "execution_count": 5,
   "metadata": {},
   "outputs": [
    {
     "name": "stderr",
     "output_type": "stream",
     "text": [
      "┌ Warning: special characters \"#{}()[]<>|&*?~;\" should now be quoted in commands\n",
      "│   caller = #shell_parse#351(::String, ::Function, ::String, ::Bool) at shell.jl:100\n",
      "└ @ Base ./shell.jl:100\n"
     ]
    },
    {
     "name": "stdout",
     "output_type": "stream",
     "text": [
      "AbstractFFTs\n",
      "AccurateArithmetic\n",
      "AlgorithmsFromTheBook\n",
      "Arpack\n",
      "AssetRegistry\n",
      "AxisAlgorithms\n",
      "AxisArrays\n",
      "BEDFiles\n",
      "BenchmarkTools\n",
      "BinDeps\n",
      "BinaryProvider\n",
      "Blink\n",
      "BufferedStreams\n",
      "CMake\n",
      "CMakeWrapper\n",
      "CSSUtil\n",
      "CSV\n",
      "Cairo\n",
      "Calculus\n",
      "CatIndices\n",
      "CategoricalArrays\n",
      "Cbc\n",
      "Clp\n",
      "Clustering\n",
      "CodecBzip2\n",
      "CodecXz\n",
      "CodecZlib\n",
      "CodecZstd\n",
      "Codecs\n",
      "ColorTypes\n",
      "ColorVectorSpace\n",
      "Colors\n",
      "CommonSubexpressions\n",
      "Compat\n",
      "Compose\n",
      "ComputationalResources\n",
      "Conda\n",
      "Contour\n",
      "Convex\n",
      "CoordinateTransformations\n",
      "CoupledFields\n",
      "CustomUnitRanges\n",
      "DataArrays\n",
      "DataFrames\n",
      "DataStreams\n",
      "DataStructures\n",
      "DataValues\n",
      "DecFP\n",
      "DecisionTree\n",
      "DeepDiffs\n",
      "DiffEqDiffTools\n",
      "DiffResults\n",
      "DiffRules\n",
      "Distances\n",
      "Distributions\n",
      "DocStringExtensions\n",
      "Documenter\n",
      "DocumenterTools\n",
      "DoubleFloats\n",
      "ECOS\n",
      "EzXML\n",
      "FFTViews\n",
      "FFTW\n",
      "FactCheck\n",
      "FileIO\n",
      "FilePaths\n",
      "FilePathsBase\n",
      "FixedPointNumbers\n",
      "Fontconfig\n",
      "ForwardDiff\n",
      "FunctionalCollections\n",
      "GLM\n",
      "GLPK\n",
      "GLPKMathProgInterface\n",
      "GR\n",
      "GZip\n",
      "Gadfly\n",
      "GenericLinearAlgebra\n",
      "Glob\n",
      "Graphics\n",
      "Gurobi\n",
      "HTTP\n",
      "HTTPClient\n",
      "Hexagons\n",
      "Hiccup\n",
      "Highlights\n",
      "Homebrew\n",
      "HttpCommon\n",
      "HttpParser\n",
      "IJulia\n",
      "IdentityRanges\n",
      "ImageAxes\n",
      "ImageCore\n",
      "ImageDistances\n",
      "ImageFiltering\n",
      "ImageMagick\n",
      "ImageMetadata\n",
      "ImageMorphology\n",
      "ImageShow\n",
      "ImageTransformations\n",
      "Images\n",
      "IndirectArrays\n",
      "IniFile\n",
      "Interact\n",
      "InteractBase\n",
      "InteractBulma\n",
      "InternedStrings\n",
      "Interpolations\n",
      "IntervalSets\n",
      "Ipopt\n",
      "IterTools\n",
      "IterableTables\n",
      "IterativeSolvers\n",
      "IteratorInterfaceExtensions\n",
      "JLD2\n",
      "JSExpr\n",
      "JSON\n",
      "JuMP\n",
      "Juno\n",
      "KernelDensity\n",
      "Knockout\n",
      "LaTeXStrings\n",
      "Lazy\n",
      "LibCURL\n",
      "LibExpat\n",
      "Libz\n",
      "LinQuadOptInterface\n",
      "LineSearches\n",
      "LinearMaps\n",
      "Literate\n",
      "Loess\n",
      "MPI\n",
      "MacroTools\n",
      "MappedArrays\n",
      "MathOptInterface\n",
      "MathProgBase\n",
      "MbedTLS\n",
      "Measures\n",
      "Media\n",
      "MendelPlots\n",
      "Missings\n",
      "Mocking\n",
      "Mosek\n",
      "Mustache\n",
      "Mux\n",
      "NLSolversBase\n",
      "NLopt\n",
      "NaNMath\n",
      "NamedTuples\n",
      "NearestNeighbors\n",
      "NodeJS\n",
      "Nullables\n",
      "ORCA\n",
      "Observables\n",
      "OffsetArrays\n",
      "Optim\n",
      "OptimTestProblems\n",
      "OrderedCollections\n",
      "OrdinalGWAS\n",
      "OrdinalMultinomialModels\n",
      "PDMats\n",
      "PaddedViews\n",
      "Parameters\n",
      "Parsers\n",
      "Pidfile\n",
      "PlotReferenceImages\n",
      "PlotThemes\n",
      "PlotUtils\n",
      "Plotly\n",
      "PlotlyBase\n",
      "PlotlyJS\n",
      "Plots\n",
      "PolrGWAS\n",
      "PolrModels\n",
      "Polynomials\n",
      "PooledArrays\n",
      "PositiveFactorizations\n",
      "Primes\n",
      "ProgressMeter\n",
      "PyCall\n",
      "PyPlot\n",
      "QuadGK\n",
      "QuartzImageIO\n",
      "RCall\n",
      "RData\n",
      "RDatasets\n",
      "RangeArrays\n",
      "Ratios\n",
      "RecipesBase\n",
      "RecursiveArrayTools\n",
      "Reexport\n",
      "Requests\n",
      "Requires\n",
      "ReverseDiffSparse\n",
      "Rmath\n",
      "Roots\n",
      "Rotations\n",
      "Rsvg\n",
      "SCS\n",
      "SIUnits\n",
      "ScikitLearnBase\n",
      "ShowItLikeYouBuildIt\n",
      "Showoff\n",
      "SimpleTraits\n",
      "SnpArrays\n",
      "SoftGlobalScope\n",
      "SortingAlgorithms\n",
      "SpecialFunctions\n",
      "StatPlots\n",
      "StaticArrays\n",
      "StatsBase\n",
      "StatsFuns\n",
      "StatsModels\n",
      "StatsPlots\n",
      "Suppressor\n",
      "TableShowUtils\n",
      "TableTraits\n",
      "TableTraitsUtils\n",
      "Tables\n",
      "TestImages\n",
      "TestSetExtensions\n",
      "TexExtensions\n",
      "TextParse\n",
      "TiledIteration\n",
      "TimeZones\n",
      "TranscodingStreams\n",
      "URIParser\n",
      "UnicodePlots\n",
      "VarianceComponentModels\n",
      "VarianceComponentTest\n",
      "VegaDatasets\n",
      "VegaLite\n",
      "VersionParsing\n",
      "VisualRegressionTests\n",
      "WeakRefStrings\n",
      "Weave\n",
      "WebIO\n",
      "WebSockets\n",
      "Widgets\n",
      "WinRPM\n",
      "WinReg\n",
      "WoodburyMatrices\n",
      "YAML\n",
      "ZMQ\n",
      "ZipFile\n"
     ]
    }
   ],
   "source": [
    ";ls ~/.julia/packages"
   ]
  },
  {
   "cell_type": "markdown",
   "metadata": {},
   "source": [
    "* Directory of a specific package can be queried by `pathof()`:"
   ]
  },
  {
   "cell_type": "code",
   "execution_count": 6,
   "metadata": {},
   "outputs": [
    {
     "data": {
      "text/plain": [
       "\"/Users/huazhou/.julia/packages/Distributions/fMt8c/src/Distributions.jl\""
      ]
     },
     "execution_count": 6,
     "metadata": {},
     "output_type": "execute_result"
    }
   ],
   "source": [
    "using Distributions\n",
    "\n",
    "pathof(Distributions)"
   ]
  },
  {
   "cell_type": "markdown",
   "metadata": {},
   "source": [
    "* If you start having problems with packages that seem to be unsolvable, you may try just deleting your .julia directory and reinstalling all your packages. \n",
    "\n",
    "* Periodically, one should run `update` in Pkg mode, which checks for, downloads and installs updated versions of all the packages you currently have installed.\n",
    "\n",
    "* `status` lists the status of all installed packages.\n",
    "\n",
    "* Using functions in package.\n",
    "```julia\n",
    "using Distributions\n",
    "```\n",
    "This pulls all of the *exported* functions in the module into your local namespace, as you can check using the `whos()` command. An alternative is\n",
    "```julia\n",
    "import Distributions\n",
    "```\n",
    "Now, the functions from the Distributions package are available only using \n",
    "```julia\n",
    "Distributions.<FUNNAME>\n",
    "```\n",
    "All functions, not only exported functions, are always available like this."
   ]
  },
  {
   "cell_type": "markdown",
   "metadata": {
    "slideshow": {
     "slide_type": "slide"
    }
   },
   "source": [
    "## Calling R from Julia\n",
    "\n",
    "* The [`RCall.jl`](https://github.com/JuliaInterop/RCall.jl) package allows us to embed R code inside of Julia.\n",
    "\n",
    "* There are also `PyCall.jl`, `MATLAB.jl`, `JavaCall.jl`, `CxxWrap.jl` packages for interfacing with other languages."
   ]
  },
  {
   "cell_type": "code",
   "execution_count": 7,
   "metadata": {},
   "outputs": [
    {
     "data": {
      "image/png": "[encoded data removed]"
     },
     "metadata": {},
     "output_type": "display_data"
    },
    {
     "data": {
      "text/plain": [
       "RObject{VecSxp}\n",
       "$breaks\n",
       " [1] -3.5 -3.0 -2.5 -2.0 -1.5 -1.0 -0.5  0.0  0.5  1.0  1.5  2.0  2.5  3.0  3.5\n",
       "\n",
       "$counts\n",
       " [1]   2   2  19  43  83 142 199 198 153  99  35  15   9   1\n",
       "\n",
       "$density\n",
       " [1] 0.004 0.004 0.038 0.086 0.166 0.284 0.398 0.396 0.306 0.198 0.070 0.030\n",
       "[13] 0.018 0.002\n",
       "\n",
       "$mids\n",
       " [1] -3.25 -2.75 -2.25 -1.75 -1.25 -0.75 -0.25  0.25  0.75  1.25  1.75  2.25\n",
       "[13]  2.75  3.25\n",
       "\n",
       "$xname\n",
       "[1] \"`#JL`$x\"\n",
       "\n",
       "$equidist\n",
       "[1] TRUE\n",
       "\n",
       "attr(,\"class\")\n",
       "[1] \"histogram\"\n"
      ]
     },
     "execution_count": 7,
     "metadata": {},
     "output_type": "execute_result"
    }
   ],
   "source": [
    "using RCall\n",
    "\n",
    "x = randn(1000)\n",
    "R\"\"\"\n",
    "hist($x, main=\"I'm plotting a Julia vector\")\n",
    "\"\"\""
   ]
  },
  {
   "cell_type": "code",
   "execution_count": 8,
   "metadata": {},
   "outputs": [
    {
     "data": {
      "image/png": "[encoded data removed]"
     },
     "metadata": {},
     "output_type": "display_data"
    },
    {
     "data": {
      "text/plain": [
       "RObject{VecSxp}\n"
      ]
     },
     "execution_count": 8,
     "metadata": {},
     "output_type": "execute_result"
    },
    {
     "name": "stderr",
     "output_type": "stream",
     "text": [
      "┌ Warning: RCall.jl: `stat_bin()` using `bins = 30`. Pick better value with `binwidth`.\n",
      "└ @ RCall /Users/huazhou/.julia/packages/RCall/ffM0W/src/io.jl:113\n"
     ]
    }
   ],
   "source": [
    "R\"\"\"\n",
    "library(ggplot2)\n",
    "qplot($x)\n",
    "\"\"\""
   ]
  },
  {
   "cell_type": "code",
   "execution_count": 9,
   "metadata": {},
   "outputs": [
    {
     "data": {
      "text/plain": [
       "RObject{RealSxp}\n",
       " [1] -0.225164699  0.705390058 -0.959243629  0.424594890 -0.003019905\n",
       " [6]  0.522220454  0.697930339 -0.102206551  1.096269591  0.352720790\n"
      ]
     },
     "execution_count": 9,
     "metadata": {},
     "output_type": "execute_result"
    }
   ],
   "source": [
    "x = R\"\"\"\n",
    "rnorm(10)\n",
    "\"\"\""
   ]
  },
  {
   "cell_type": "code",
   "execution_count": 10,
   "metadata": {},
   "outputs": [
    {
     "data": {
      "text/plain": [
       "10-element Array{Float64,1}:\n",
       " -0.22516469862041585  \n",
       "  0.7053900577874456   \n",
       " -0.959243628770889    \n",
       "  0.42459489010650237  \n",
       " -0.0030199053980533115\n",
       "  0.522220453941062    \n",
       "  0.697930338754133    \n",
       " -0.10220655102086909  \n",
       "  1.0962695911100897   \n",
       "  0.35272079000230333  "
      ]
     },
     "execution_count": 10,
     "metadata": {},
     "output_type": "execute_result"
    }
   ],
   "source": [
    "# collect R variable into Julia workspace\n",
    "y = collect(x)"
   ]
  },
  {
   "cell_type": "markdown",
   "metadata": {},
   "source": [
    "* Access Julia variables in R REPL mode:\n",
    "```julia\n",
    "julia> x = rand(5) # Julia variable\n",
    "R> y <- $x\n",
    "```\n",
    "\n",
    "* Pass Julia expression in R REPL mode:\n",
    "```julia\n",
    "R> y <- $(rand(5))\n",
    "```\n",
    "\n",
    "* Put Julia variable into R environment:\n",
    "```julia\n",
    "julia> @rput x\n",
    "R> x\n",
    "```\n",
    "\n",
    "* Get R variable into Julia environment:\n",
    "```julia\n",
    "R> r <- 2\n",
    "Julia> @rget r\n",
    "```\n",
    "\n",
    "* If you want to call Julia within R, check out the [`XRJulia`](https://cran.r-project.org/web/packages/XRJulia/) package by John Chambers."
   ]
  },
  {
   "cell_type": "markdown",
   "metadata": {
    "slideshow": {
     "slide_type": "slide"
    }
   },
   "source": [
    "## Some basic Julia code"
   ]
  },
  {
   "cell_type": "code",
   "execution_count": 11,
   "metadata": {},
   "outputs": [
    {
     "data": {
      "text/plain": [
       "Int64"
      ]
     },
     "execution_count": 11,
     "metadata": {},
     "output_type": "execute_result"
    }
   ],
   "source": [
    "# an integer, same as int in R\n",
    "y = 1\n",
    "typeof(y) "
   ]
  },
  {
   "cell_type": "code",
   "execution_count": 12,
   "metadata": {},
   "outputs": [
    {
     "data": {
      "text/plain": [
       "Float64"
      ]
     },
     "execution_count": 12,
     "metadata": {},
     "output_type": "execute_result"
    }
   ],
   "source": [
    "# a Float64 number, same as double in R\n",
    "y = 1.0\n",
    "typeof(y) "
   ]
  },
  {
   "cell_type": "code",
   "execution_count": 13,
   "metadata": {},
   "outputs": [
    {
     "data": {
      "text/plain": [
       "π = 3.1415926535897..."
      ]
     },
     "execution_count": 13,
     "metadata": {},
     "output_type": "execute_result"
    }
   ],
   "source": [
    "# Greek letters:  `\\pi<tab>`\n",
    "π"
   ]
  },
  {
   "cell_type": "code",
   "execution_count": 14,
   "metadata": {},
   "outputs": [
    {
     "data": {
      "text/plain": [
       "Irrational{:π}"
      ]
     },
     "execution_count": 14,
     "metadata": {},
     "output_type": "execute_result"
    }
   ],
   "source": [
    "typeof(π)"
   ]
  },
  {
   "cell_type": "code",
   "execution_count": 15,
   "metadata": {},
   "outputs": [
    {
     "data": {
      "text/plain": [
       "4.141592653589793"
      ]
     },
     "execution_count": 15,
     "metadata": {},
     "output_type": "execute_result"
    }
   ],
   "source": [
    "# Greek letters:  `\\theta<tab>`\n",
    "θ = y + π"
   ]
  },
  {
   "cell_type": "code",
   "execution_count": 16,
   "metadata": {},
   "outputs": [
    {
     "data": {
      "text/plain": [
       "5.0"
      ]
     },
     "execution_count": 16,
     "metadata": {},
     "output_type": "execute_result"
    }
   ],
   "source": [
    "# emoji! `\\:kissing_cat:<tab>`\n",
    "😽 = 5.0"
   ]
  },
  {
   "cell_type": "code",
   "execution_count": 17,
   "metadata": {},
   "outputs": [
    {
     "data": {
      "text/plain": [
       "π = 3.1415926535897..."
      ]
     },
     "execution_count": 17,
     "metadata": {},
     "output_type": "execute_result"
    }
   ],
   "source": [
    "# `\\alpha<tab>\\hat<tab>`\n",
    "α̂ = π"
   ]
  },
  {
   "cell_type": "code",
   "execution_count": 18,
   "metadata": {},
   "outputs": [
    {
     "data": {
      "text/plain": [
       "5-element Array{Float64,1}:\n",
       " 0.0\n",
       " 0.0\n",
       " 0.0\n",
       " 0.0\n",
       " 0.0"
      ]
     },
     "execution_count": 18,
     "metadata": {},
     "output_type": "execute_result"
    }
   ],
   "source": [
    "# vector of Float64 0s\n",
    "x = zeros(5)"
   ]
  },
  {
   "cell_type": "code",
   "execution_count": 19,
   "metadata": {},
   "outputs": [
    {
     "data": {
      "text/plain": [
       "5-element Array{Int64,1}:\n",
       " 0\n",
       " 0\n",
       " 0\n",
       " 0\n",
       " 0"
      ]
     },
     "execution_count": 19,
     "metadata": {},
     "output_type": "execute_result"
    }
   ],
   "source": [
    "# vector Int64 0s\n",
    "x = zeros(Int, 5)"
   ]
  },
  {
   "cell_type": "code",
   "execution_count": 20,
   "metadata": {},
   "outputs": [
    {
     "data": {
      "text/plain": [
       "5×3 Array{Float64,2}:\n",
       " 0.0  0.0  0.0\n",
       " 0.0  0.0  0.0\n",
       " 0.0  0.0  0.0\n",
       " 0.0  0.0  0.0\n",
       " 0.0  0.0  0.0"
      ]
     },
     "execution_count": 20,
     "metadata": {},
     "output_type": "execute_result"
    }
   ],
   "source": [
    "# matrix of Float64 0s\n",
    "x = zeros(5, 3)"
   ]
  },
  {
   "cell_type": "code",
   "execution_count": 21,
   "metadata": {},
   "outputs": [
    {
     "data": {
      "text/plain": [
       "5×3 Array{Float64,2}:\n",
       " 1.0  1.0  1.0\n",
       " 1.0  1.0  1.0\n",
       " 1.0  1.0  1.0\n",
       " 1.0  1.0  1.0\n",
       " 1.0  1.0  1.0"
      ]
     },
     "execution_count": 21,
     "metadata": {},
     "output_type": "execute_result"
    }
   ],
   "source": [
    "# matrix of Float64 1s\n",
    "x = ones(5, 3)"
   ]
  },
  {
   "cell_type": "code",
   "execution_count": 22,
   "metadata": {},
   "outputs": [
    {
     "data": {
      "text/plain": [
       "5×3 Array{Float64,2}:\n",
       " 2.25618e-314  2.23262e-314  2.26345e-314\n",
       " 2.25618e-314  2.25618e-314  2.25618e-314\n",
       " 2.23262e-314  2.25618e-314  2.23262e-314\n",
       " 2.23262e-314  2.25618e-314  2.23262e-314\n",
       " 2.25618e-314  2.23262e-314  2.23262e-314"
      ]
     },
     "execution_count": 22,
     "metadata": {},
     "output_type": "execute_result"
    }
   ],
   "source": [
    "# define array without initialization\n",
    "x = Matrix{Float64}(undef, 5, 3)"
   ]
  },
  {
   "cell_type": "code",
   "execution_count": 23,
   "metadata": {},
   "outputs": [
    {
     "data": {
      "text/plain": [
       "5×3 Array{Float64,2}:\n",
       " 0.0  0.0  0.0\n",
       " 0.0  0.0  0.0\n",
       " 0.0  0.0  0.0\n",
       " 0.0  0.0  0.0\n",
       " 0.0  0.0  0.0"
      ]
     },
     "execution_count": 23,
     "metadata": {},
     "output_type": "execute_result"
    }
   ],
   "source": [
    "# fill a matrix by 0s\n",
    "fill!(x, 0)"
   ]
  },
  {
   "cell_type": "code",
   "execution_count": 24,
   "metadata": {},
   "outputs": [
    {
     "data": {
      "text/plain": [
       "5×3 Array{Float64,2}:\n",
       " 2.5  2.5  2.5\n",
       " 2.5  2.5  2.5\n",
       " 2.5  2.5  2.5\n",
       " 2.5  2.5  2.5\n",
       " 2.5  2.5  2.5"
      ]
     },
     "execution_count": 24,
     "metadata": {},
     "output_type": "execute_result"
    }
   ],
   "source": [
    "# initialize an array to be constant 2.5\n",
    "fill(2.5, (5, 3))"
   ]
  },
  {
   "cell_type": "code",
   "execution_count": 25,
   "metadata": {},
   "outputs": [
    {
     "data": {
      "text/plain": [
       "3//5"
      ]
     },
     "execution_count": 25,
     "metadata": {},
     "output_type": "execute_result"
    }
   ],
   "source": [
    "# rational number\n",
    "a = 3//5"
   ]
  },
  {
   "cell_type": "code",
   "execution_count": 26,
   "metadata": {},
   "outputs": [
    {
     "data": {
      "text/plain": [
       "Rational{Int64}"
      ]
     },
     "execution_count": 26,
     "metadata": {},
     "output_type": "execute_result"
    }
   ],
   "source": [
    "typeof(a)"
   ]
  },
  {
   "cell_type": "code",
   "execution_count": 27,
   "metadata": {},
   "outputs": [
    {
     "data": {
      "text/plain": [
       "3//7"
      ]
     },
     "execution_count": 27,
     "metadata": {},
     "output_type": "execute_result"
    }
   ],
   "source": [
    "b = 3//7"
   ]
  },
  {
   "cell_type": "code",
   "execution_count": 28,
   "metadata": {},
   "outputs": [
    {
     "data": {
      "text/plain": [
       "36//35"
      ]
     },
     "execution_count": 28,
     "metadata": {},
     "output_type": "execute_result"
    }
   ],
   "source": [
    "a + b"
   ]
  },
  {
   "cell_type": "code",
   "execution_count": 29,
   "metadata": {},
   "outputs": [
    {
     "data": {
      "text/plain": [
       "5×3 Array{Float64,2}:\n",
       " 0.0939182  0.354861  0.466084\n",
       " 0.0606729  0.632039  0.27081 \n",
       " 0.583232   0.171977  0.558645\n",
       " 0.493816   0.266485  0.366529\n",
       " 0.543449   0.645026  0.570829"
      ]
     },
     "execution_count": 29,
     "metadata": {},
     "output_type": "execute_result"
    }
   ],
   "source": [
    "# uniform [0, 1) random numbers\n",
    "x = rand(5, 3)"
   ]
  },
  {
   "cell_type": "code",
   "execution_count": 30,
   "metadata": {},
   "outputs": [
    {
     "data": {
      "text/plain": [
       "5×3 Array{Float16,2}:\n",
       " 0.0791   0.834   0.4062 \n",
       " 0.4033   0.208   0.376  \n",
       " 0.5176   0.616   0.788  \n",
       " 0.10254  0.825   0.06445\n",
       " 0.878    0.0664  0.2354 "
      ]
     },
     "execution_count": 30,
     "metadata": {},
     "output_type": "execute_result"
    }
   ],
   "source": [
    "# uniform random numbers (in single precision)\n",
    "x = rand(Float16, 5, 3)"
   ]
  },
  {
   "cell_type": "code",
   "execution_count": 31,
   "metadata": {},
   "outputs": [
    {
     "data": {
      "text/plain": [
       "5×3 Array{Int64,2}:\n",
       " 1  2  4\n",
       " 5  5  2\n",
       " 1  5  2\n",
       " 5  5  4\n",
       " 2  5  5"
      ]
     },
     "execution_count": 31,
     "metadata": {},
     "output_type": "execute_result"
    }
   ],
   "source": [
    "# random numbers from {1,...,5}\n",
    "x = rand(1:5, 5, 3)"
   ]
  },
  {
   "cell_type": "code",
   "execution_count": 32,
   "metadata": {},
   "outputs": [
    {
     "data": {
      "text/plain": [
       "5×3 Array{Float64,2}:\n",
       "  0.658037  -3.27972    0.518134\n",
       "  0.187034  -1.06035    0.217503\n",
       " -1.67394    1.95921    0.585903\n",
       " -0.977385   0.970965  -1.56959 \n",
       " -0.369137  -0.453939   1.8989  "
      ]
     },
     "execution_count": 32,
     "metadata": {},
     "output_type": "execute_result"
    }
   ],
   "source": [
    "# standard normal random numbers\n",
    "x = randn(5, 3)"
   ]
  },
  {
   "cell_type": "code",
   "execution_count": 33,
   "metadata": {},
   "outputs": [
    {
     "data": {
      "text/plain": [
       "1:10"
      ]
     },
     "execution_count": 33,
     "metadata": {},
     "output_type": "execute_result"
    }
   ],
   "source": [
    "# range\n",
    "1:10"
   ]
  },
  {
   "cell_type": "code",
   "execution_count": 34,
   "metadata": {},
   "outputs": [
    {
     "data": {
      "text/plain": [
       "UnitRange{Int64}"
      ]
     },
     "execution_count": 34,
     "metadata": {},
     "output_type": "execute_result"
    }
   ],
   "source": [
    "typeof(1:10)"
   ]
  },
  {
   "cell_type": "code",
   "execution_count": 35,
   "metadata": {},
   "outputs": [
    {
     "data": {
      "text/plain": [
       "1:2:9"
      ]
     },
     "execution_count": 35,
     "metadata": {},
     "output_type": "execute_result"
    }
   ],
   "source": [
    "1:2:10"
   ]
  },
  {
   "cell_type": "code",
   "execution_count": 36,
   "metadata": {
    "scrolled": true
   },
   "outputs": [
    {
     "data": {
      "text/plain": [
       "StepRange{Int64,Int64}"
      ]
     },
     "execution_count": 36,
     "metadata": {},
     "output_type": "execute_result"
    }
   ],
   "source": [
    "typeof(1:2:10)"
   ]
  },
  {
   "cell_type": "code",
   "execution_count": 37,
   "metadata": {},
   "outputs": [
    {
     "data": {
      "text/plain": [
       "10-element Array{Int64,1}:\n",
       "  1\n",
       "  2\n",
       "  3\n",
       "  4\n",
       "  5\n",
       "  6\n",
       "  7\n",
       "  8\n",
       "  9\n",
       " 10"
      ]
     },
     "execution_count": 37,
     "metadata": {},
     "output_type": "execute_result"
    }
   ],
   "source": [
    "# integers 1-10\n",
    "x = collect(1:10)"
   ]
  },
  {
   "cell_type": "code",
   "execution_count": 38,
   "metadata": {},
   "outputs": [
    {
     "data": {
      "text/plain": [
       "10-element Array{Int64,1}:\n",
       "  1\n",
       "  2\n",
       "  3\n",
       "  4\n",
       "  5\n",
       "  6\n",
       "  7\n",
       "  8\n",
       "  9\n",
       " 10"
      ]
     },
     "execution_count": 38,
     "metadata": {},
     "output_type": "execute_result"
    }
   ],
   "source": [
    "# or equivalently\n",
    "[1:10...]"
   ]
  },
  {
   "cell_type": "code",
   "execution_count": 39,
   "metadata": {},
   "outputs": [
    {
     "data": {
      "text/plain": [
       "10-element Array{Float64,1}:\n",
       "  1.0\n",
       "  2.0\n",
       "  3.0\n",
       "  4.0\n",
       "  5.0\n",
       "  6.0\n",
       "  7.0\n",
       "  8.0\n",
       "  9.0\n",
       " 10.0"
      ]
     },
     "execution_count": 39,
     "metadata": {},
     "output_type": "execute_result"
    }
   ],
   "source": [
    "# Float64 numbers 1-10\n",
    "x = collect(1.0:10)"
   ]
  },
  {
   "cell_type": "code",
   "execution_count": 40,
   "metadata": {},
   "outputs": [
    {
     "data": {
      "text/plain": [
       "10-element Array{Float64,1}:\n",
       "  1.0\n",
       "  2.0\n",
       "  3.0\n",
       "  4.0\n",
       "  5.0\n",
       "  6.0\n",
       "  7.0\n",
       "  8.0\n",
       "  9.0\n",
       " 10.0"
      ]
     },
     "execution_count": 40,
     "metadata": {},
     "output_type": "execute_result"
    }
   ],
   "source": [
    "# convert to a specific type\n",
    "convert(Vector{Float64}, 1:10)"
   ]
  },
  {
   "cell_type": "markdown",
   "metadata": {},
   "source": [
    "## Timing and benchmark"
   ]
  },
  {
   "cell_type": "markdown",
   "metadata": {},
   "source": [
    "`@time`, `@elapsed`, `@allocated` macros:"
   ]
  },
  {
   "cell_type": "code",
   "execution_count": 41,
   "metadata": {},
   "outputs": [
    {
     "name": "stdout",
     "output_type": "stream",
     "text": [
      "  0.037455 seconds (95.66 k allocations: 4.858 MiB, 19.31% gc time)\n"
     ]
    },
    {
     "data": {
      "text/plain": [
       "117.13472277852792"
      ]
     },
     "execution_count": 41,
     "metadata": {},
     "output_type": "execute_result"
    }
   ],
   "source": [
    "using Random\n",
    "Random.seed!(123) # seed\n",
    "x = randn(10000)\n",
    "@time sum(x) # first run includes compilation time"
   ]
  },
  {
   "cell_type": "code",
   "execution_count": 42,
   "metadata": {},
   "outputs": [
    {
     "name": "stdout",
     "output_type": "stream",
     "text": [
      "  0.000008 seconds (5 allocations: 176 bytes)\n"
     ]
    },
    {
     "data": {
      "text/plain": [
       "117.13472277852792"
      ]
     },
     "execution_count": 42,
     "metadata": {},
     "output_type": "execute_result"
    }
   ],
   "source": [
    "@time sum(x) # no compilation time after first run"
   ]
  },
  {
   "cell_type": "code",
   "execution_count": 43,
   "metadata": {},
   "outputs": [
    {
     "data": {
      "text/plain": [
       "1.1379e-5"
      ]
     },
     "execution_count": 43,
     "metadata": {},
     "output_type": "execute_result"
    }
   ],
   "source": [
    "@elapsed sum(x)"
   ]
  },
  {
   "cell_type": "code",
   "execution_count": 44,
   "metadata": {},
   "outputs": [
    {
     "data": {
      "text/plain": [
       "16"
      ]
     },
     "execution_count": 44,
     "metadata": {},
     "output_type": "execute_result"
    }
   ],
   "source": [
    "@allocated sum(x)"
   ]
  },
  {
   "cell_type": "markdown",
   "metadata": {},
   "source": [
    "Use package `BenchmarkTools.jl` for more robust benchmarking. Analog of `microbenchmark` package in R."
   ]
  },
  {
   "cell_type": "code",
   "execution_count": 45,
   "metadata": {},
   "outputs": [
    {
     "data": {
      "text/plain": [
       "BenchmarkTools.Trial: \n",
       "  memory estimate:  0 bytes\n",
       "  allocs estimate:  0\n",
       "  --------------\n",
       "  minimum time:     1.041 μs (0.00% GC)\n",
       "  median time:      1.090 μs (0.00% GC)\n",
       "  mean time:        1.119 μs (0.00% GC)\n",
       "  maximum time:     8.231 μs (0.00% GC)\n",
       "  --------------\n",
       "  samples:          10000\n",
       "  evals/sample:     10"
      ]
     },
     "execution_count": 45,
     "metadata": {},
     "output_type": "execute_result"
    }
   ],
   "source": [
    "using BenchmarkTools\n",
    "\n",
    "@benchmark sum($x)"
   ]
  },
  {
   "cell_type": "code",
   "execution_count": 46,
   "metadata": {},
   "outputs": [
    {
     "data": {
      "text/plain": [
       "RObject{VecSxp}\n",
       "Unit: microseconds\n",
       "         expr  min    lq    mean median     uq    max neval\n",
       " sum(`#JL`$x) 9.22 9.275 9.46929  9.306 9.3325 24.178   100\n"
      ]
     },
     "execution_count": 46,
     "metadata": {},
     "output_type": "execute_result"
    }
   ],
   "source": [
    "R\"\"\"\n",
    "library(microbenchmark)\n",
    "microbenchmark(sum($x))\n",
    "\"\"\""
   ]
  },
  {
   "cell_type": "markdown",
   "metadata": {
    "slideshow": {
     "slide_type": "slide"
    }
   },
   "source": [
    "## Matrices and vectors"
   ]
  },
  {
   "cell_type": "markdown",
   "metadata": {},
   "source": [
    "### Dimensions"
   ]
  },
  {
   "cell_type": "code",
   "execution_count": 47,
   "metadata": {},
   "outputs": [
    {
     "data": {
      "text/plain": [
       "5×3 Array{Float64,2}:\n",
       "  0.897602  -2.00348   -0.205452 \n",
       "  0.206015   0.166398  -0.0682929\n",
       " -0.553413   0.687318   0.0969771\n",
       "  0.422711   0.835254  -0.329361 \n",
       "  2.41808    0.650404   0.0921857"
      ]
     },
     "execution_count": 47,
     "metadata": {},
     "output_type": "execute_result"
    }
   ],
   "source": [
    "x = randn(5, 3)"
   ]
  },
  {
   "cell_type": "code",
   "execution_count": 48,
   "metadata": {},
   "outputs": [
    {
     "data": {
      "text/plain": [
       "(5, 3)"
      ]
     },
     "execution_count": 48,
     "metadata": {},
     "output_type": "execute_result"
    }
   ],
   "source": [
    "size(x)"
   ]
  },
  {
   "cell_type": "code",
   "execution_count": 49,
   "metadata": {},
   "outputs": [
    {
     "data": {
      "text/plain": [
       "5"
      ]
     },
     "execution_count": 49,
     "metadata": {},
     "output_type": "execute_result"
    }
   ],
   "source": [
    "size(x, 1) # nrow() in R"
   ]
  },
  {
   "cell_type": "code",
   "execution_count": 50,
   "metadata": {},
   "outputs": [
    {
     "data": {
      "text/plain": [
       "3"
      ]
     },
     "execution_count": 50,
     "metadata": {},
     "output_type": "execute_result"
    }
   ],
   "source": [
    "size(x, 2)"
   ]
  },
  {
   "cell_type": "code",
   "execution_count": 51,
   "metadata": {},
   "outputs": [
    {
     "data": {
      "text/plain": [
       "15"
      ]
     },
     "execution_count": 51,
     "metadata": {},
     "output_type": "execute_result"
    }
   ],
   "source": [
    "# total number of elements\n",
    "length(x)"
   ]
  },
  {
   "cell_type": "markdown",
   "metadata": {},
   "source": [
    "### Indexing"
   ]
  },
  {
   "cell_type": "code",
   "execution_count": 52,
   "metadata": {},
   "outputs": [
    {
     "data": {
      "text/plain": [
       "5×5 Array{Float64,2}:\n",
       " -0.263946   0.306647    1.3524    -1.54503    0.733192\n",
       " -1.58659    1.09814    -0.995732  -1.72885    0.332798\n",
       "  1.32131    0.708017   -1.18628    0.853263   0.149281\n",
       " -1.45118    0.0445099   0.799792  -0.0403455  1.11101 \n",
       " -1.41587   -0.59818    -0.202697   1.48291    1.07844 "
      ]
     },
     "execution_count": 52,
     "metadata": {},
     "output_type": "execute_result"
    }
   ],
   "source": [
    "# 5 × 5 matrix of random Normal(0, 1)\n",
    "x = randn(5, 5)"
   ]
  },
  {
   "cell_type": "code",
   "execution_count": 53,
   "metadata": {},
   "outputs": [
    {
     "data": {
      "text/plain": [
       "5-element Array{Float64,1}:\n",
       " -0.2639457084929424\n",
       " -1.5865930484905044\n",
       "  1.3213095378253925\n",
       " -1.4511847839082561\n",
       " -1.4158664962019518"
      ]
     },
     "execution_count": 53,
     "metadata": {},
     "output_type": "execute_result"
    }
   ],
   "source": [
    "# first column\n",
    "x[:, 1]"
   ]
  },
  {
   "cell_type": "code",
   "execution_count": 54,
   "metadata": {},
   "outputs": [
    {
     "data": {
      "text/plain": [
       "5-element Array{Float64,1}:\n",
       " -0.2639457084929424\n",
       "  0.3066468697361022\n",
       "  1.3523961629198962\n",
       " -1.5450324021201993\n",
       "  0.7331920402184534"
      ]
     },
     "execution_count": 54,
     "metadata": {},
     "output_type": "execute_result"
    }
   ],
   "source": [
    "# first row\n",
    "x[1, :]"
   ]
  },
  {
   "cell_type": "code",
   "execution_count": 55,
   "metadata": {},
   "outputs": [
    {
     "data": {
      "text/plain": [
       "2×2 Array{Float64,2}:\n",
       " 0.306647   1.3524  \n",
       " 1.09814   -0.995732"
      ]
     },
     "execution_count": 55,
     "metadata": {},
     "output_type": "execute_result"
    }
   ],
   "source": [
    "# sub-array\n",
    "x[1:2, 2:3]"
   ]
  },
  {
   "cell_type": "code",
   "execution_count": 56,
   "metadata": {},
   "outputs": [
    {
     "data": {
      "text/plain": [
       "2×2 view(::Array{Float64,2}, 1:2, 2:3) with eltype Float64:\n",
       " 0.306647   1.3524  \n",
       " 1.09814   -0.995732"
      ]
     },
     "execution_count": 56,
     "metadata": {},
     "output_type": "execute_result"
    }
   ],
   "source": [
    "# getting a subset of a matrix creates a copy, but you can also create \"views\"\n",
    "z = view(x, 1:2, 2:3)"
   ]
  },
  {
   "cell_type": "code",
   "execution_count": 57,
   "metadata": {},
   "outputs": [
    {
     "data": {
      "text/plain": [
       "2×2 view(::Array{Float64,2}, 1:2, 2:3) with eltype Float64:\n",
       " 0.306647   1.3524  \n",
       " 1.09814   -0.995732"
      ]
     },
     "execution_count": 57,
     "metadata": {},
     "output_type": "execute_result"
    }
   ],
   "source": [
    "# same as\n",
    "@views z = x[1:2, 2:3]"
   ]
  },
  {
   "cell_type": "code",
   "execution_count": 58,
   "metadata": {},
   "outputs": [
    {
     "data": {
      "text/plain": [
       "0.0"
      ]
     },
     "execution_count": 58,
     "metadata": {},
     "output_type": "execute_result"
    }
   ],
   "source": [
    "z[2, 2] = 0.0"
   ]
  },
  {
   "cell_type": "code",
   "execution_count": 59,
   "metadata": {},
   "outputs": [
    {
     "data": {
      "text/plain": [
       "5×5 Array{Float64,2}:\n",
       " -0.263946   0.306647    1.3524    -1.54503    0.733192\n",
       " -1.58659    1.09814     0.0       -1.72885    0.332798\n",
       "  1.32131    0.708017   -1.18628    0.853263   0.149281\n",
       " -1.45118    0.0445099   0.799792  -0.0403455  1.11101 \n",
       " -1.41587   -0.59818    -0.202697   1.48291    1.07844 "
      ]
     },
     "execution_count": 59,
     "metadata": {},
     "output_type": "execute_result"
    }
   ],
   "source": [
    "x"
   ]
  },
  {
   "cell_type": "code",
   "execution_count": 60,
   "metadata": {},
   "outputs": [
    {
     "data": {
      "text/plain": [
       "5×5 Array{Float64,2}:\n",
       " -0.263946   0.306647    1.3524    -1.54503    0.733192\n",
       " -1.58659    1.09814     0.0       -1.72885    0.332798\n",
       "  1.32131    0.708017   -1.18628    0.853263   0.149281\n",
       " -1.45118    0.0445099   0.799792  -0.0403455  1.11101 \n",
       " -1.41587   -0.59818    -0.202697   1.48291    1.07844 "
      ]
     },
     "execution_count": 60,
     "metadata": {},
     "output_type": "execute_result"
    }
   ],
   "source": [
    "# y points to same data as x\n",
    "y = x"
   ]
  },
  {
   "cell_type": "code",
   "execution_count": 61,
   "metadata": {},
   "outputs": [
    {
     "data": {
      "text/plain": [
       "(Ptr{Float64} @0x000000010ef58290, Ptr{Float64} @0x000000010ef58290)"
      ]
     },
     "execution_count": 61,
     "metadata": {},
     "output_type": "execute_result"
    }
   ],
   "source": [
    "# x and y point to same data\n",
    "pointer(x), pointer(y)"
   ]
  },
  {
   "cell_type": "code",
   "execution_count": 62,
   "metadata": {},
   "outputs": [
    {
     "data": {
      "text/plain": [
       "5×5 Array{Float64,2}:\n",
       " 0.0   0.306647    1.3524    -1.54503    0.733192\n",
       " 0.0   1.09814     0.0       -1.72885    0.332798\n",
       " 0.0   0.708017   -1.18628    0.853263   0.149281\n",
       " 0.0   0.0445099   0.799792  -0.0403455  1.11101 \n",
       " 0.0  -0.59818    -0.202697   1.48291    1.07844 "
      ]
     },
     "execution_count": 62,
     "metadata": {},
     "output_type": "execute_result"
    }
   ],
   "source": [
    "# changing y also changes x\n",
    "y[:, 1] .= 0\n",
    "x"
   ]
  },
  {
   "cell_type": "code",
   "execution_count": 63,
   "metadata": {},
   "outputs": [
    {
     "data": {
      "text/plain": [
       "5×5 Array{Float64,2}:\n",
       " 0.0   0.306647    1.3524    -1.54503    0.733192\n",
       " 0.0   1.09814     0.0       -1.72885    0.332798\n",
       " 0.0   0.708017   -1.18628    0.853263   0.149281\n",
       " 0.0   0.0445099   0.799792  -0.0403455  1.11101 \n",
       " 0.0  -0.59818    -0.202697   1.48291    1.07844 "
      ]
     },
     "execution_count": 63,
     "metadata": {},
     "output_type": "execute_result"
    }
   ],
   "source": [
    "# create a new copy of data\n",
    "z = copy(x)"
   ]
  },
  {
   "cell_type": "code",
   "execution_count": 64,
   "metadata": {},
   "outputs": [
    {
     "data": {
      "text/plain": [
       "(Ptr{Float64} @0x000000010ef58290, Ptr{Float64} @0x0000000110205250)"
      ]
     },
     "execution_count": 64,
     "metadata": {},
     "output_type": "execute_result"
    }
   ],
   "source": [
    "pointer(x), pointer(z)"
   ]
  },
  {
   "cell_type": "markdown",
   "metadata": {},
   "source": [
    "### Concatenate matrices"
   ]
  },
  {
   "cell_type": "code",
   "execution_count": 65,
   "metadata": {},
   "outputs": [
    {
     "data": {
      "text/plain": [
       "1×3 Array{Int64,2}:\n",
       " 1  2  3"
      ]
     },
     "execution_count": 65,
     "metadata": {},
     "output_type": "execute_result"
    }
   ],
   "source": [
    "# 1-by-3 array\n",
    "[1 2 3]"
   ]
  },
  {
   "cell_type": "code",
   "execution_count": 66,
   "metadata": {},
   "outputs": [
    {
     "data": {
      "text/plain": [
       "3-element Array{Int64,1}:\n",
       " 1\n",
       " 2\n",
       " 3"
      ]
     },
     "execution_count": 66,
     "metadata": {},
     "output_type": "execute_result"
    }
   ],
   "source": [
    "# 3-by-1 vector\n",
    "[1, 2, 3]"
   ]
  },
  {
   "cell_type": "code",
   "execution_count": 67,
   "metadata": {},
   "outputs": [
    {
     "data": {
      "text/plain": [
       "([-1.06006 1.85635 -0.758945; 0.726803 0.266693 -1.76046; … ; 0.311368 0.550423 0.0771399; -0.042317 0.0801359 0.0557964], [-1.85887 -1.82908; 1.64189 0.0684493; … ; -0.320978 -0.29254; 0.924308 -0.484027], [-0.946129 -1.88499 … -0.538779 1.02781; -0.247229 0.746322 … -0.659972 0.374257; -1.86926 0.858622 … -0.886174 -0.188567])"
      ]
     },
     "execution_count": 67,
     "metadata": {},
     "output_type": "execute_result"
    }
   ],
   "source": [
    "# multiple assignment by tuple\n",
    "x, y, z = randn(5, 3), randn(5, 2), randn(3, 5)"
   ]
  },
  {
   "cell_type": "code",
   "execution_count": 68,
   "metadata": {},
   "outputs": [
    {
     "data": {
      "text/plain": [
       "5×5 Array{Float64,2}:\n",
       " -1.06006   1.85635    -0.758945   -1.85887   -1.82908  \n",
       "  0.726803  0.266693   -1.76046     1.64189    0.0684493\n",
       " -0.196268  0.0508897  -1.02538     0.6103     0.0964332\n",
       "  0.311368  0.550423    0.0771399  -0.320978  -0.29254  \n",
       " -0.042317  0.0801359   0.0557964   0.924308  -0.484027 "
      ]
     },
     "execution_count": 68,
     "metadata": {},
     "output_type": "execute_result"
    }
   ],
   "source": [
    "[x y]"
   ]
  },
  {
   "cell_type": "code",
   "execution_count": 69,
   "metadata": {},
   "outputs": [
    {
     "data": {
      "text/plain": [
       "8×5 Array{Float64,2}:\n",
       " -1.06006    1.85635    -0.758945   -1.85887   -1.82908  \n",
       "  0.726803   0.266693   -1.76046     1.64189    0.0684493\n",
       " -0.196268   0.0508897  -1.02538     0.6103     0.0964332\n",
       "  0.311368   0.550423    0.0771399  -0.320978  -0.29254  \n",
       " -0.042317   0.0801359   0.0557964   0.924308  -0.484027 \n",
       " -0.946129  -1.88499    -0.715218   -0.538779   1.02781  \n",
       " -0.247229   0.746322   -2.80947    -0.659972   0.374257 \n",
       " -1.86926    0.858622    0.573011   -0.886174  -0.188567 "
      ]
     },
     "execution_count": 69,
     "metadata": {},
     "output_type": "execute_result"
    }
   ],
   "source": [
    "[x y; z]"
   ]
  },
  {
   "cell_type": "markdown",
   "metadata": {},
   "source": [
    "### Dot operation\n",
    "\n",
    "Dot operation in Julia is elementwise operation, similar to Matlab."
   ]
  },
  {
   "cell_type": "code",
   "execution_count": 70,
   "metadata": {},
   "outputs": [
    {
     "data": {
      "text/plain": [
       "5×3 Array{Float64,2}:\n",
       " -0.37393    0.553298   -1.01762 \n",
       "  1.08906    0.990025    0.389225\n",
       "  0.193156  -2.01294     1.87758 \n",
       "  0.715318   0.143813    1.20991 \n",
       " -0.91177   -0.0733957   0.722246"
      ]
     },
     "execution_count": 70,
     "metadata": {},
     "output_type": "execute_result"
    }
   ],
   "source": [
    "x = randn(5, 3)"
   ]
  },
  {
   "cell_type": "code",
   "execution_count": 71,
   "metadata": {},
   "outputs": [
    {
     "data": {
      "text/plain": [
       "5×3 Array{Float64,2}:\n",
       " 1.0  1.0  1.0\n",
       " 1.0  1.0  1.0\n",
       " 1.0  1.0  1.0\n",
       " 1.0  1.0  1.0\n",
       " 1.0  1.0  1.0"
      ]
     },
     "execution_count": 71,
     "metadata": {},
     "output_type": "execute_result"
    }
   ],
   "source": [
    "y = ones(5, 3)"
   ]
  },
  {
   "cell_type": "code",
   "execution_count": 72,
   "metadata": {},
   "outputs": [
    {
     "data": {
      "text/plain": [
       "5×3 Array{Float64,2}:\n",
       " -0.37393    0.553298   -1.01762 \n",
       "  1.08906    0.990025    0.389225\n",
       "  0.193156  -2.01294     1.87758 \n",
       "  0.715318   0.143813    1.20991 \n",
       " -0.91177   -0.0733957   0.722246"
      ]
     },
     "execution_count": 72,
     "metadata": {},
     "output_type": "execute_result"
    }
   ],
   "source": [
    "x .* y # same x * y in R"
   ]
  },
  {
   "cell_type": "code",
   "execution_count": 73,
   "metadata": {},
   "outputs": [
    {
     "data": {
      "text/plain": [
       "5×3 Array{Float64,2}:\n",
       "  7.15186     3.26649   0.965667\n",
       "  0.843133    1.02025   6.60081 \n",
       " 26.8031      0.246795  0.283664\n",
       "  1.95435    48.3509    0.683112\n",
       "  1.2029    185.635     1.91704 "
      ]
     },
     "execution_count": 73,
     "metadata": {},
     "output_type": "execute_result"
    }
   ],
   "source": [
    "x .^ (-2)"
   ]
  },
  {
   "cell_type": "code",
   "execution_count": 74,
   "metadata": {},
   "outputs": [
    {
     "data": {
      "text/plain": [
       "5×3 Array{Float64,2}:\n",
       " -0.365277   0.525496   -0.850861\n",
       "  0.886192   0.83604     0.379472\n",
       "  0.191957  -0.903835    0.953311\n",
       "  0.655858   0.143318    0.935585\n",
       " -0.790589  -0.0733298   0.661071"
      ]
     },
     "execution_count": 74,
     "metadata": {},
     "output_type": "execute_result"
    }
   ],
   "source": [
    "sin.(x)"
   ]
  },
  {
   "cell_type": "markdown",
   "metadata": {},
   "source": [
    "### Basic linear algebra"
   ]
  },
  {
   "cell_type": "code",
   "execution_count": 75,
   "metadata": {},
   "outputs": [
    {
     "data": {
      "text/plain": [
       "5-element Array{Float64,1}:\n",
       "  0.9884603286641904  \n",
       " -0.8044735866806704  \n",
       "  0.019980087249391026\n",
       " -1.3285799893910963  \n",
       "  1.6799537175119026  "
      ]
     },
     "execution_count": 75,
     "metadata": {},
     "output_type": "execute_result"
    }
   ],
   "source": [
    "x = randn(5)"
   ]
  },
  {
   "cell_type": "code",
   "execution_count": 76,
   "metadata": {},
   "outputs": [
    {
     "data": {
      "text/plain": [
       "2.492388424401137"
      ]
     },
     "execution_count": 76,
     "metadata": {},
     "output_type": "execute_result"
    }
   ],
   "source": [
    "using LinearAlgebra\n",
    "# vector L2 norm\n",
    "norm(x)"
   ]
  },
  {
   "cell_type": "code",
   "execution_count": 77,
   "metadata": {},
   "outputs": [
    {
     "data": {
      "text/plain": [
       "2.492388424401137"
      ]
     },
     "execution_count": 77,
     "metadata": {},
     "output_type": "execute_result"
    }
   ],
   "source": [
    "# same as\n",
    "sqrt(sum(abs2, x))"
   ]
  },
  {
   "cell_type": "code",
   "execution_count": 78,
   "metadata": {},
   "outputs": [
    {
     "data": {
      "text/plain": [
       "0.22692502538805792"
      ]
     },
     "execution_count": 78,
     "metadata": {},
     "output_type": "execute_result"
    }
   ],
   "source": [
    "y = randn(5) # another vector\n",
    "# dot product\n",
    "dot(x, y) # x' * y"
   ]
  },
  {
   "cell_type": "code",
   "execution_count": 79,
   "metadata": {},
   "outputs": [
    {
     "data": {
      "text/plain": [
       "0.22692502538805792"
      ]
     },
     "execution_count": 79,
     "metadata": {},
     "output_type": "execute_result"
    }
   ],
   "source": [
    "# same as\n",
    "x'y"
   ]
  },
  {
   "cell_type": "code",
   "execution_count": 80,
   "metadata": {},
   "outputs": [
    {
     "data": {
      "text/plain": [
       "5×2 Array{Float64,2}:\n",
       "  1.26739   -0.422013\n",
       "  1.07959   -1.25078 \n",
       " -0.870933  -2.30028 \n",
       " -0.788011  -0.927073\n",
       " -1.80023    1.44096 "
      ]
     },
     "execution_count": 80,
     "metadata": {},
     "output_type": "execute_result"
    }
   ],
   "source": [
    "x, y = randn(5, 3), randn(3, 2)\n",
    "# matrix multiplication, same as %*% in R\n",
    "x * y"
   ]
  },
  {
   "cell_type": "code",
   "execution_count": 81,
   "metadata": {},
   "outputs": [
    {
     "data": {
      "text/plain": [
       "3×3 Array{Float64,2}:\n",
       " -1.64764    0.689513   0.206809\n",
       "  0.488763  -0.668832   0.991291\n",
       " -0.482333  -0.726196  -0.145318"
      ]
     },
     "execution_count": 81,
     "metadata": {},
     "output_type": "execute_result"
    }
   ],
   "source": [
    "x = randn(3, 3)"
   ]
  },
  {
   "cell_type": "code",
   "execution_count": 82,
   "metadata": {},
   "outputs": [
    {
     "data": {
      "text/plain": [
       "3×3 Adjoint{Float64,Array{Float64,2}}:\n",
       " -1.64764    0.488763  -0.482333\n",
       "  0.689513  -0.668832  -0.726196\n",
       "  0.206809   0.991291  -0.145318"
      ]
     },
     "execution_count": 82,
     "metadata": {},
     "output_type": "execute_result"
    }
   ],
   "source": [
    "# conjugate transpose\n",
    "x'"
   ]
  },
  {
   "cell_type": "code",
   "execution_count": 83,
   "metadata": {},
   "outputs": [
    {
     "data": {
      "text/plain": [
       "3-element Array{Float64,1}:\n",
       " -0.7019554458708106 \n",
       " -0.1537641253600852 \n",
       "  0.29722429263943717"
      ]
     },
     "execution_count": 83,
     "metadata": {},
     "output_type": "execute_result"
    }
   ],
   "source": [
    "b = rand(3)\n",
    "x'b # same as x' * b"
   ]
  },
  {
   "cell_type": "code",
   "execution_count": 84,
   "metadata": {},
   "outputs": [
    {
     "data": {
      "text/plain": [
       "-2.4617868414631436"
      ]
     },
     "execution_count": 84,
     "metadata": {},
     "output_type": "execute_result"
    }
   ],
   "source": [
    "# trace\n",
    "tr(x)"
   ]
  },
  {
   "cell_type": "code",
   "execution_count": 85,
   "metadata": {},
   "outputs": [
    {
     "data": {
      "text/plain": [
       "-1.7670510948981355"
      ]
     },
     "execution_count": 85,
     "metadata": {},
     "output_type": "execute_result"
    }
   ],
   "source": [
    "det(x)"
   ]
  },
  {
   "cell_type": "code",
   "execution_count": 86,
   "metadata": {},
   "outputs": [
    {
     "data": {
      "text/plain": [
       "3"
      ]
     },
     "execution_count": 86,
     "metadata": {},
     "output_type": "execute_result"
    }
   ],
   "source": [
    "rank(x)"
   ]
  },
  {
   "cell_type": "markdown",
   "metadata": {},
   "source": [
    "### Sparse matrices"
   ]
  },
  {
   "cell_type": "code",
   "execution_count": 87,
   "metadata": {},
   "outputs": [
    {
     "data": {
      "text/plain": [
       "10×10 SparseMatrixCSC{Float64,Int64} with 10 stored entries:\n",
       "  [5 ,  1]  =  -0.185574\n",
       "  [8 ,  2]  =  2.72401\n",
       "  [9 ,  2]  =  -0.396973\n",
       "  [4 ,  4]  =  1.67252\n",
       "  [1 ,  5]  =  0.178644\n",
       "  [8 ,  6]  =  -0.575279\n",
       "  [2 ,  7]  =  0.870975\n",
       "  [6 ,  7]  =  -0.53665\n",
       "  [10,  8]  =  -0.796616\n",
       "  [2 , 10]  =  -1.10258"
      ]
     },
     "execution_count": 87,
     "metadata": {},
     "output_type": "execute_result"
    }
   ],
   "source": [
    "using SparseArrays\n",
    "\n",
    "# 10-by-10 sparse matrix with sparsity 0.1\n",
    "X = sprandn(10, 10, .1)"
   ]
  },
  {
   "cell_type": "code",
   "execution_count": 88,
   "metadata": {},
   "outputs": [
    {
     "data": {
      "text/plain": [
       "10×10 Array{Float64,2}:\n",
       "  0.0        0.0       0.0  0.0      …   0.0        0.0       0.0   0.0    \n",
       "  0.0        0.0       0.0  0.0          0.870975   0.0       0.0  -1.10258\n",
       "  0.0        0.0       0.0  0.0          0.0        0.0       0.0   0.0    \n",
       "  0.0        0.0       0.0  1.67252      0.0        0.0       0.0   0.0    \n",
       " -0.185574   0.0       0.0  0.0          0.0        0.0       0.0   0.0    \n",
       "  0.0        0.0       0.0  0.0      …  -0.53665    0.0       0.0   0.0    \n",
       "  0.0        0.0       0.0  0.0          0.0        0.0       0.0   0.0    \n",
       "  0.0        2.72401   0.0  0.0          0.0        0.0       0.0   0.0    \n",
       "  0.0       -0.396973  0.0  0.0          0.0        0.0       0.0   0.0    \n",
       "  0.0        0.0       0.0  0.0          0.0       -0.796616  0.0   0.0    "
      ]
     },
     "execution_count": 88,
     "metadata": {},
     "output_type": "execute_result"
    }
   ],
   "source": [
    "# convert to dense matrix; be cautious when dealing with big data\n",
    "Xfull = convert(Matrix{Float64}, X)"
   ]
  },
  {
   "cell_type": "code",
   "execution_count": 89,
   "metadata": {},
   "outputs": [
    {
     "data": {
      "text/plain": [
       "10×10 SparseMatrixCSC{Float64,Int64} with 10 stored entries:\n",
       "  [5 ,  1]  =  -0.185574\n",
       "  [8 ,  2]  =  2.72401\n",
       "  [9 ,  2]  =  -0.396973\n",
       "  [4 ,  4]  =  1.67252\n",
       "  [1 ,  5]  =  0.178644\n",
       "  [8 ,  6]  =  -0.575279\n",
       "  [2 ,  7]  =  0.870975\n",
       "  [6 ,  7]  =  -0.53665\n",
       "  [10,  8]  =  -0.796616\n",
       "  [2 , 10]  =  -1.10258"
      ]
     },
     "execution_count": 89,
     "metadata": {},
     "output_type": "execute_result"
    }
   ],
   "source": [
    "# convert a dense matrix to sparse matrix\n",
    "sparse(Xfull)"
   ]
  },
  {
   "cell_type": "code",
   "execution_count": 90,
   "metadata": {},
   "outputs": [
    {
     "data": {
      "text/plain": [
       "10-element Array{Float64,1}:\n",
       "  0.17864394401454514\n",
       " -0.23160404357875775\n",
       "  0.0                \n",
       "  1.6725224090603685 \n",
       " -0.18557445939100267\n",
       " -0.5366496066898658 \n",
       "  0.0                \n",
       "  2.1487310816888945 \n",
       " -0.39697328484041   \n",
       " -0.7966159764620236 "
      ]
     },
     "execution_count": 90,
     "metadata": {},
     "output_type": "execute_result"
    }
   ],
   "source": [
    "# syntax for sparse linear algebra is same as dense linear algebra\n",
    "β = ones(10)\n",
    "X * β"
   ]
  },
  {
   "cell_type": "code",
   "execution_count": 91,
   "metadata": {},
   "outputs": [
    {
     "data": {
      "text/plain": [
       "1.8524800638017485"
      ]
     },
     "execution_count": 91,
     "metadata": {},
     "output_type": "execute_result"
    }
   ],
   "source": [
    "# many functions apply to sparse matrices as well\n",
    "sum(X)"
   ]
  },
  {
   "cell_type": "markdown",
   "metadata": {},
   "source": [
    "## Control flow and loops"
   ]
  },
  {
   "cell_type": "markdown",
   "metadata": {},
   "source": [
    "* if-elseif-else-end\n",
    "```julia\n",
    "if condition1\n",
    "    # do something\n",
    "elseif condition2\n",
    "    # do something\n",
    "else\n",
    "    # do something\n",
    "end\n",
    "```\n",
    "\n",
    "* `for` loop\n",
    "```julia\n",
    "for i in 1:10\n",
    "    println(i)\n",
    "end\n",
    "```\n",
    "\n",
    "* Nested `for` loop:\n",
    "```julia\n",
    "for i in 1:10\n",
    "    for j in 1:5\n",
    "        println(i * j)\n",
    "    end\n",
    "end\n",
    "```\n",
    "Same as\n",
    "```julia\n",
    "for i in 1:10, j in 1:5\n",
    "    println(i * j)\n",
    "end\n",
    "```\n",
    "\n",
    "* Exit loop:\n",
    "```julia\n",
    "for i in 1:10\n",
    "    # do something\n",
    "    if condition1\n",
    "        exit # skip remaining loop\n",
    "    end\n",
    "end\n",
    "```\n",
    "\n",
    "* Exit iteration:  \n",
    "```julia\n",
    "for i in 1:10\n",
    "    # do something\n",
    "    if condition1\n",
    "        continue # skip to next iteration\n",
    "    end\n",
    "    # do something\n",
    "end\n",
    "```"
   ]
  },
  {
   "cell_type": "markdown",
   "metadata": {
    "slideshow": {
     "slide_type": "slide"
    }
   },
   "source": [
    "## Functions "
   ]
  },
  {
   "cell_type": "markdown",
   "metadata": {},
   "source": [
    "* In Julia, all arguments to functions are **passed by reference**, in contrast to R and Matlab.\n",
    "\n",
    "* Function names ending with `!` indicates that function mutates at least one argument, typically the first.\n",
    "```julia\n",
    "sort!(x) # vs sort(x)\n",
    "```\n",
    "\n",
    "* Function definition\n",
    "```julia\n",
    "function func(req1, req2; key1=dflt1, key2=dflt2)\n",
    "    # do stuff\n",
    "    return out1, out2, out3\n",
    "end\n",
    "```\n",
    "**Required arguments** are separated with a comma and use the positional notation.  \n",
    "**Optional arguments** need a default value in the signature.  \n",
    "**Semicolon** is not required in function call.  \n",
    "**return** statement is optional.  \n",
    "Multiple outputs can be returned as a **tuple**, e.g., `return out1, out2, out3`.  \n",
    "\n",
    "* Anonymous functions, e.g., `x -> x^2`, is commonly used in collection function or list comprehensions.\n",
    "```julia\n",
    "map(x -> x^2, y) # square each element in x\n",
    "```\n",
    "\n",
    "* Functions can be nested:\n",
    "```julia\n",
    "function outerfunction()\n",
    "    # do some outer stuff\n",
    "    function innerfunction()\n",
    "        # do inner stuff\n",
    "        # can access prior outer definitions\n",
    "    end\n",
    "    # do more outer stuff\n",
    "end\n",
    "```\n",
    "\n",
    "* Functions can be vectorized using the Dot syntax:"
   ]
  },
  {
   "cell_type": "code",
   "execution_count": 92,
   "metadata": {},
   "outputs": [
    {
     "data": {
      "text/plain": [
       "5×3 Array{Float64,2}:\n",
       " 0.179536     0.0661559  0.0298338\n",
       " 0.794468     0.139424   0.561255 \n",
       " 0.209101     0.294354   0.769808 \n",
       " 0.000414421  0.255897   0.351913 \n",
       " 0.021371     0.38493    0.663682 "
      ]
     },
     "execution_count": 92,
     "metadata": {},
     "output_type": "execute_result"
    }
   ],
   "source": [
    "function myfunc(x)\n",
    "    return sin(x^2)\n",
    "end\n",
    "\n",
    "x = randn(5, 3)\n",
    "myfunc.(x)"
   ]
  },
  {
   "cell_type": "markdown",
   "metadata": {},
   "source": [
    "* **Collection function** (think this as the series of `apply` functions in R).\n",
    "\n",
    "    Apply a function to each element of a collection:\n",
    "```julia\n",
    "map(f, coll) # or\n",
    "map(coll) do elem\n",
    "    # do stuff with elem\n",
    "    # must contain return\n",
    "end\n",
    "```"
   ]
  },
  {
   "cell_type": "code",
   "execution_count": 93,
   "metadata": {},
   "outputs": [
    {
     "data": {
      "text/plain": [
       "5×3 Array{Float64,2}:\n",
       " 0.179536     0.0661559  0.0298338\n",
       " 0.794468     0.139424   0.561255 \n",
       " 0.209101     0.294354   0.769808 \n",
       " 0.000414421  0.255897   0.351913 \n",
       " 0.021371     0.38493    0.663682 "
      ]
     },
     "execution_count": 93,
     "metadata": {},
     "output_type": "execute_result"
    }
   ],
   "source": [
    "map(x -> sin(x^2), x)"
   ]
  },
  {
   "cell_type": "code",
   "execution_count": 94,
   "metadata": {},
   "outputs": [
    {
     "data": {
      "text/plain": [
       "5×3 Array{Float64,2}:\n",
       " 0.179536     0.0661559  0.0298338\n",
       " 0.794468     0.139424   0.561255 \n",
       " 0.209101     0.294354   0.769808 \n",
       " 0.000414421  0.255897   0.351913 \n",
       " 0.021371     0.38493    0.663682 "
      ]
     },
     "execution_count": 94,
     "metadata": {},
     "output_type": "execute_result"
    }
   ],
   "source": [
    "map(x) do elem\n",
    "    elem = elem^2\n",
    "    return sin(elem)\n",
    "end"
   ]
  },
  {
   "cell_type": "code",
   "execution_count": 95,
   "metadata": {},
   "outputs": [
    {
     "data": {
      "text/plain": [
       "4.722142023166778"
      ]
     },
     "execution_count": 95,
     "metadata": {},
     "output_type": "execute_result"
    }
   ],
   "source": [
    "# Mapreduce\n",
    "mapreduce(x -> sin(x^2), +, x)"
   ]
  },
  {
   "cell_type": "code",
   "execution_count": 96,
   "metadata": {},
   "outputs": [
    {
     "data": {
      "text/plain": [
       "4.722142023166778"
      ]
     },
     "execution_count": 96,
     "metadata": {},
     "output_type": "execute_result"
    }
   ],
   "source": [
    "# same as\n",
    "sum(x -> sin(x^2), x)"
   ]
  },
  {
   "cell_type": "markdown",
   "metadata": {},
   "source": [
    "* List **comprehension**"
   ]
  },
  {
   "cell_type": "code",
   "execution_count": 97,
   "metadata": {},
   "outputs": [
    {
     "data": {
      "text/plain": [
       "5×3 Array{Float64,2}:\n",
       "  0.14112   -0.756802  -0.958924\n",
       " -0.958924  -0.279415   0.656987\n",
       "  0.656987   0.989358   0.412118\n",
       "  0.412118  -0.544021  -0.99999 \n",
       " -0.99999   -0.536573   0.420167"
      ]
     },
     "execution_count": 97,
     "metadata": {},
     "output_type": "execute_result"
    }
   ],
   "source": [
    "[sin(2i + j) for i in 1:5, j in 1:3] # similar to Python"
   ]
  },
  {
   "cell_type": "markdown",
   "metadata": {
    "slideshow": {
     "slide_type": "slide"
    }
   },
   "source": [
    "## Type system\n",
    "\n",
    "* When thinking about types, think about sets.\n",
    "\n",
    "* Everything is a subtype of the abstract type `Any`.\n",
    "\n",
    "* An abstract type defines a set of types\n",
    "    - Consider types in Julia that are a `Number`:\n",
    "\n",
    "<img src=\"tree.png\" width=\"600\" align=\"center\"/>\n",
    "\n",
    "* We can explore type hierarchy with `typeof()`, `supertype()`, and `subtypes()`."
   ]
  },
  {
   "cell_type": "code",
   "execution_count": 98,
   "metadata": {},
   "outputs": [
    {
     "data": {
      "text/plain": [
       "(Float64, Int64)"
      ]
     },
     "execution_count": 98,
     "metadata": {},
     "output_type": "execute_result"
    }
   ],
   "source": [
    "typeof(1.0), typeof(1)"
   ]
  },
  {
   "cell_type": "code",
   "execution_count": 99,
   "metadata": {},
   "outputs": [
    {
     "data": {
      "text/plain": [
       "AbstractFloat"
      ]
     },
     "execution_count": 99,
     "metadata": {},
     "output_type": "execute_result"
    }
   ],
   "source": [
    "supertype(Float64)"
   ]
  },
  {
   "cell_type": "code",
   "execution_count": 100,
   "metadata": {
    "scrolled": true
   },
   "outputs": [
    {
     "data": {
      "text/plain": [
       "4-element Array{Any,1}:\n",
       " BigFloat\n",
       " Float16 \n",
       " Float32 \n",
       " Float64 "
      ]
     },
     "execution_count": 100,
     "metadata": {},
     "output_type": "execute_result"
    }
   ],
   "source": [
    "subtypes(AbstractFloat)"
   ]
  },
  {
   "cell_type": "code",
   "execution_count": 101,
   "metadata": {},
   "outputs": [
    {
     "data": {
      "text/plain": [
       "true"
      ]
     },
     "execution_count": 101,
     "metadata": {},
     "output_type": "execute_result"
    }
   ],
   "source": [
    "# Is Float64 a subtype of AbstractFloat?\n",
    "Float64 <: AbstractFloat"
   ]
  },
  {
   "cell_type": "code",
   "execution_count": 102,
   "metadata": {},
   "outputs": [
    {
     "data": {
      "text/plain": [
       "true"
      ]
     },
     "execution_count": 102,
     "metadata": {},
     "output_type": "execute_result"
    }
   ],
   "source": [
    "# On 64bit machine, Int == Int64\n",
    "Int == Int64"
   ]
  },
  {
   "cell_type": "code",
   "execution_count": 103,
   "metadata": {},
   "outputs": [
    {
     "data": {
      "text/plain": [
       "1.0"
      ]
     },
     "execution_count": 103,
     "metadata": {},
     "output_type": "execute_result"
    }
   ],
   "source": [
    "convert(Float64, 1)"
   ]
  },
  {
   "cell_type": "code",
   "execution_count": 104,
   "metadata": {},
   "outputs": [
    {
     "data": {
      "text/plain": [
       "5-element Array{Float32,1}:\n",
       " -0.510323  \n",
       " -0.3617336 \n",
       "  0.7194989 \n",
       "  0.39272353\n",
       " -0.1527405 "
      ]
     },
     "execution_count": 104,
     "metadata": {},
     "output_type": "execute_result"
    }
   ],
   "source": [
    "randn(Float32, 5)"
   ]
  },
  {
   "cell_type": "code",
   "execution_count": 105,
   "metadata": {},
   "outputs": [
    {
     "data": {
      "text/plain": [
       "5-element Array{Float64,1}:\n",
       " -1.0006648302078247 \n",
       " -0.8520469069480896 \n",
       "  0.05218297243118286\n",
       "  0.935551106929779  \n",
       " -0.5477454662322998 "
      ]
     },
     "execution_count": 105,
     "metadata": {},
     "output_type": "execute_result"
    }
   ],
   "source": [
    "convert(Vector{Float64}, randn(Float32, 5))"
   ]
  },
  {
   "cell_type": "code",
   "execution_count": 106,
   "metadata": {},
   "outputs": [
    {
     "data": {
      "text/plain": [
       "1"
      ]
     },
     "execution_count": 106,
     "metadata": {},
     "output_type": "execute_result"
    }
   ],
   "source": [
    "convert(Int, 1.0)"
   ]
  },
  {
   "cell_type": "code",
   "execution_count": 107,
   "metadata": {},
   "outputs": [
    {
     "ename": "InexactError",
     "evalue": "InexactError: Int64(1.5)",
     "output_type": "error",
     "traceback": [
      "InexactError: Int64(1.5)",
      "",
      "Stacktrace:",
      " [1] Type at ./float.jl:703 [inlined]",
      " [2] convert(::Type{Int64}, ::Float64) at ./number.jl:7",
      " [3] top-level scope at In[107]:1"
     ]
    }
   ],
   "source": [
    "convert(Int, 1.5) # should use round(1.5)"
   ]
  },
  {
   "cell_type": "code",
   "execution_count": 108,
   "metadata": {},
   "outputs": [
    {
     "data": {
      "text/plain": [
       "2"
      ]
     },
     "execution_count": 108,
     "metadata": {},
     "output_type": "execute_result"
    }
   ],
   "source": [
    "round(Int, 1.5)"
   ]
  },
  {
   "cell_type": "markdown",
   "metadata": {},
   "source": [
    "## Multiple dispatch"
   ]
  },
  {
   "cell_type": "markdown",
   "metadata": {},
   "source": [
    "* Multiple dispatch lies in the core of Julia design. It allows built-in and user-defined functions to be overloaded for different combinations of argument types.\n",
    "\n",
    "* Let's consider a simple \"doubling\" function:"
   ]
  },
  {
   "cell_type": "code",
   "execution_count": 109,
   "metadata": {},
   "outputs": [
    {
     "data": {
      "text/plain": [
       "g (generic function with 1 method)"
      ]
     },
     "execution_count": 109,
     "metadata": {},
     "output_type": "execute_result"
    }
   ],
   "source": [
    "g(x) = x + x"
   ]
  },
  {
   "cell_type": "code",
   "execution_count": 110,
   "metadata": {},
   "outputs": [
    {
     "data": {
      "text/plain": [
       "3.0"
      ]
     },
     "execution_count": 110,
     "metadata": {},
     "output_type": "execute_result"
    }
   ],
   "source": [
    "g(1.5)"
   ]
  },
  {
   "cell_type": "markdown",
   "metadata": {},
   "source": [
    "This definition is too broad, since some things can't be added "
   ]
  },
  {
   "cell_type": "code",
   "execution_count": 111,
   "metadata": {},
   "outputs": [
    {
     "ename": "MethodError",
     "evalue": "MethodError: no method matching +(::String, ::String)\nClosest candidates are:\n  +(::Any, ::Any, !Matched::Any, !Matched::Any...) at operators.jl:502",
     "output_type": "error",
     "traceback": [
      "MethodError: no method matching +(::String, ::String)\nClosest candidates are:\n  +(::Any, ::Any, !Matched::Any, !Matched::Any...) at operators.jl:502",
      "",
      "Stacktrace:",
      " [1] g(::String) at ./In[109]:1",
      " [2] top-level scope at In[111]:1"
     ]
    }
   ],
   "source": [
    "g(\"hello world\")"
   ]
  },
  {
   "cell_type": "markdown",
   "metadata": {},
   "source": [
    "* This definition is correct but too restrictive, since any `Number` can be added."
   ]
  },
  {
   "cell_type": "code",
   "execution_count": 112,
   "metadata": {},
   "outputs": [
    {
     "data": {
      "text/plain": [
       "g (generic function with 2 methods)"
      ]
     },
     "execution_count": 112,
     "metadata": {},
     "output_type": "execute_result"
    }
   ],
   "source": [
    "g(x::Float64) = x + x"
   ]
  },
  {
   "cell_type": "markdown",
   "metadata": {},
   "source": [
    "* This will automatically work on the entire type tree above!"
   ]
  },
  {
   "cell_type": "code",
   "execution_count": 113,
   "metadata": {},
   "outputs": [
    {
     "data": {
      "text/plain": [
       "g (generic function with 3 methods)"
      ]
     },
     "execution_count": 113,
     "metadata": {},
     "output_type": "execute_result"
    }
   ],
   "source": [
    "g(x::Number) = x + x"
   ]
  },
  {
   "cell_type": "markdown",
   "metadata": {},
   "source": [
    "This is a lot nicer than \n",
    "```julia\n",
    "function g(x)\n",
    "    if isa(x, Number)\n",
    "        return x + x\n",
    "    else\n",
    "        throw(ArgumentError(\"x should be a number\"))\n",
    "    end\n",
    "end\n",
    "```"
   ]
  },
  {
   "cell_type": "markdown",
   "metadata": {},
   "source": [
    "* `methods(func)` function display all methods defined for `func`."
   ]
  },
  {
   "cell_type": "code",
   "execution_count": 114,
   "metadata": {},
   "outputs": [
    {
     "data": {
      "text/html": [
       "3 methods for generic function <b>g</b>:<ul><li> g(x::<b>Float64</b>) in Main at In[112]:1</li> <li> g(x::<b>Number</b>) in Main at In[113]:1</li> <li> g(x) in Main at In[109]:1</li> </ul>"
      ],
      "text/plain": [
       "# 3 methods for generic function \"g\":\n",
       "[1] g(x::Float64) in Main at In[112]:1\n",
       "[2] g(x::Number) in Main at In[113]:1\n",
       "[3] g(x) in Main at In[109]:1"
      ]
     },
     "execution_count": 114,
     "metadata": {},
     "output_type": "execute_result"
    }
   ],
   "source": [
    "methods(g)"
   ]
  },
  {
   "cell_type": "markdown",
   "metadata": {},
   "source": [
    "* `@which func(x)` marco tells which method is being used for argument signature `x`."
   ]
  },
  {
   "cell_type": "code",
   "execution_count": 115,
   "metadata": {},
   "outputs": [
    {
     "data": {
      "text/plain": [
       "Int64"
      ]
     },
     "execution_count": 115,
     "metadata": {},
     "output_type": "execute_result"
    }
   ],
   "source": [
    "x = 1\n",
    "typeof(x)"
   ]
  },
  {
   "cell_type": "code",
   "execution_count": 116,
   "metadata": {},
   "outputs": [
    {
     "data": {
      "text/plain": [
       "2"
      ]
     },
     "execution_count": 116,
     "metadata": {},
     "output_type": "execute_result"
    }
   ],
   "source": [
    "g(x)"
   ]
  },
  {
   "cell_type": "code",
   "execution_count": 117,
   "metadata": {},
   "outputs": [
    {
     "data": {
      "text/html": [
       "g(x::<b>Number</b>) in Main at In[113]:1"
      ],
      "text/plain": [
       "g(x::Number) in Main at In[113]:1"
      ]
     },
     "execution_count": 117,
     "metadata": {},
     "output_type": "execute_result"
    }
   ],
   "source": [
    "@which g(x)"
   ]
  },
  {
   "cell_type": "code",
   "execution_count": 118,
   "metadata": {},
   "outputs": [
    {
     "data": {
      "text/html": [
       "g(x) in Main at In[109]:1"
      ],
      "text/plain": [
       "g(x) in Main at In[109]:1"
      ]
     },
     "execution_count": 118,
     "metadata": {},
     "output_type": "execute_result"
    }
   ],
   "source": [
    "x = randn(5)\n",
    "@which g(x)"
   ]
  },
  {
   "cell_type": "code",
   "execution_count": 119,
   "metadata": {},
   "outputs": [
    {
     "data": {
      "text/plain": [
       "5-element Array{Float64,1}:\n",
       "  3.902840176233339 \n",
       "  2.336854923136668 \n",
       " -0.4608467233108242\n",
       " -0.4112648966872752\n",
       "  0.7757174782705922"
      ]
     },
     "execution_count": 119,
     "metadata": {},
     "output_type": "execute_result"
    }
   ],
   "source": [
    "g(x)"
   ]
  },
  {
   "cell_type": "markdown",
   "metadata": {
    "slideshow": {
     "slide_type": "slide"
    }
   },
   "source": [
    "## Just-in-time compilation (JIT)\n",
    "\n",
    "Following figures and examples are taken from Arch D. Robinson's slides [Introduction to Writing High Performance Julia](https://docs.google.com/viewer?a=v&pid=sites&srcid=ZGVmYXVsdGRvbWFpbnxibG9uem9uaWNzfGd4OjMwZjI2YTYzNDNmY2UzMmE).\n",
    "\n",
    "| <img src=\"./julia_toolchain.png\" alt=\"Julia toolchain\" style=\"width: 400px;\"/> | <img src=\"./julia_introspect.png\" alt=\"Julia toolchain\" style=\"width: 500px;\"/> |\n",
    "|----------------------------------|------------------------------------|\n",
    "|||"
   ]
  },
  {
   "cell_type": "markdown",
   "metadata": {},
   "source": [
    "* `Julia`'s efficiency results from its capabilities to infer the types of **all** variables within a function and then call LLVM to generate optimized machine code at run-time. "
   ]
  },
  {
   "cell_type": "code",
   "execution_count": 120,
   "metadata": {},
   "outputs": [
    {
     "data": {
      "text/plain": [
       "g (generic function with 3 methods)"
      ]
     },
     "execution_count": 120,
     "metadata": {},
     "output_type": "execute_result"
    }
   ],
   "source": [
    "# defined earlier\n",
    "g(x::Number) = x + x"
   ]
  },
  {
   "cell_type": "markdown",
   "metadata": {},
   "source": [
    "This function will work on **any** type which has a method for `+`."
   ]
  },
  {
   "cell_type": "code",
   "execution_count": 121,
   "metadata": {},
   "outputs": [
    {
     "data": {
      "text/plain": [
       "(4, 4.0)"
      ]
     },
     "execution_count": 121,
     "metadata": {},
     "output_type": "execute_result"
    }
   ],
   "source": [
    "g(2), g(2.0)"
   ]
  },
  {
   "cell_type": "markdown",
   "metadata": {},
   "source": [
    "This is the [abstract syntax tree (AST)](https://en.wikipedia.org/wiki/Abstract_syntax_tree)."
   ]
  },
  {
   "cell_type": "code",
   "execution_count": 122,
   "metadata": {},
   "outputs": [
    {
     "data": {
      "text/plain": [
       "CodeInfo(\n",
       "\u001b[90m1 ─\u001b[39m %1 = x + x\n",
       "\u001b[90m└──\u001b[39m      return %1\n",
       ")"
      ]
     },
     "execution_count": 122,
     "metadata": {},
     "output_type": "execute_result"
    }
   ],
   "source": [
    "@code_lowered g(2)"
   ]
  },
  {
   "cell_type": "markdown",
   "metadata": {},
   "source": [
    "Type inference:"
   ]
  },
  {
   "cell_type": "code",
   "execution_count": 123,
   "metadata": {},
   "outputs": [
    {
     "name": "stdout",
     "output_type": "stream",
     "text": [
      "Body\u001b[36m::Int64\u001b[39m\n",
      "\u001b[90m1 ─\u001b[39m %1 = (Base.add_int)(x, x)\u001b[36m::Int64\u001b[39m\n",
      "\u001b[90m└──\u001b[39m      return %1\n"
     ]
    }
   ],
   "source": [
    "@code_warntype g(2)"
   ]
  },
  {
   "cell_type": "code",
   "execution_count": 124,
   "metadata": {},
   "outputs": [
    {
     "name": "stdout",
     "output_type": "stream",
     "text": [
      "Body\u001b[36m::Float64\u001b[39m\n",
      "\u001b[90m1 ─\u001b[39m %1 = (Base.add_float)(x, x)\u001b[36m::Float64\u001b[39m\n",
      "\u001b[90m└──\u001b[39m      return %1\n"
     ]
    }
   ],
   "source": [
    "@code_warntype g(2.0)"
   ]
  },
  {
   "cell_type": "markdown",
   "metadata": {},
   "source": [
    "Peek at the compiled **LLVM bitcode** with `@code_llvm`"
   ]
  },
  {
   "cell_type": "code",
   "execution_count": 125,
   "metadata": {},
   "outputs": [
    {
     "name": "stdout",
     "output_type": "stream",
     "text": [
      "\n",
      ";  @ In[120]:2 within `g'\n",
      "define i64 @julia_g_14529(i64) {\n",
      "top:\n",
      "; ┌ @ int.jl:53 within `+'\n",
      "   %1 = shl i64 %0, 1\n",
      "; └\n",
      "  ret i64 %1\n",
      "}\n"
     ]
    }
   ],
   "source": [
    "@code_llvm g(2)"
   ]
  },
  {
   "cell_type": "code",
   "execution_count": 126,
   "metadata": {},
   "outputs": [
    {
     "name": "stdout",
     "output_type": "stream",
     "text": [
      "\n",
      ";  @ In[112]:1 within `g'\n",
      "define double @julia_g_14530(double) {\n",
      "top:\n",
      "; ┌ @ float.jl:395 within `+'\n",
      "   %1 = fadd double %0, %0\n",
      "; └\n",
      "  ret double %1\n",
      "}\n"
     ]
    }
   ],
   "source": [
    "@code_llvm g(2.0)"
   ]
  },
  {
   "cell_type": "markdown",
   "metadata": {},
   "source": [
    "We didn't provide a type annotation. But different LLVM code gets generated depending on the argument type!\n",
    "\n",
    "* In R or Python, `g(2)` and `g(2.0)` would use the same code for both.\n",
    " \n",
    "* In Julia, `g(2)` and `g(2.0)` dispatches to optimized code for `Int64` and `Float64`, respectively.\n",
    "\n",
    "* For integer input `x`, LLVM compiler is smart enough to know `x + x` is simple shifting `x` by 1 bit, which is faster than addition.\n",
    " \n",
    "Lowest level is the **assembly code**, which is machine dependent."
   ]
  },
  {
   "cell_type": "code",
   "execution_count": 127,
   "metadata": {},
   "outputs": [
    {
     "name": "stdout",
     "output_type": "stream",
     "text": [
      "\t.section\t__TEXT,__text,regular,pure_instructions\n",
      "; ┌ @ In[120]:2 within `g'\n",
      "; │┌ @ In[120]:2 within `+'\n",
      "\tdecl\t%eax\n",
      "\tleal\t(%edi,%edi), %eax\n",
      "; │└\n",
      "\tretl\n",
      "\tnopw\t%cs:(%eax,%eax)\n",
      "; └\n"
     ]
    }
   ],
   "source": [
    "@code_native g(2)"
   ]
  },
  {
   "cell_type": "code",
   "execution_count": 128,
   "metadata": {},
   "outputs": [
    {
     "name": "stdout",
     "output_type": "stream",
     "text": [
      "\t.section\t__TEXT,__text,regular,pure_instructions\n",
      "; ┌ @ In[112]:1 within `g'\n",
      "; │┌ @ In[112]:1 within `+'\n",
      "\tvaddsd\t%xmm0, %xmm0, %xmm0\n",
      "; │└\n",
      "\tretl\n",
      "\tnopw\t%cs:(%eax,%eax)\n",
      "; └\n"
     ]
    }
   ],
   "source": [
    "@code_native g(2.0)"
   ]
  },
  {
   "cell_type": "markdown",
   "metadata": {
    "slideshow": {
     "slide_type": "slide"
    }
   },
   "source": [
    "## Profiling Julia code\n",
    "\n",
    "Julia has several built-in tools for profiling. The `@time` marco outputs run time and heap allocation."
   ]
  },
  {
   "cell_type": "code",
   "execution_count": 129,
   "metadata": {},
   "outputs": [
    {
     "name": "stdout",
     "output_type": "stream",
     "text": [
      "  0.047049 seconds (15.99 k allocations: 847.432 KiB)\n"
     ]
    },
    {
     "data": {
      "text/plain": [
       "1.0000233387279043e7"
      ]
     },
     "execution_count": 129,
     "metadata": {},
     "output_type": "execute_result"
    }
   ],
   "source": [
    "function tally(x)\n",
    "    s = 0\n",
    "    for v in x\n",
    "        s += v\n",
    "    end\n",
    "    s\n",
    "end\n",
    "\n",
    "Random.seed!(123)\n",
    "a = rand(20_000_000)\n",
    "@time tally(a) # first run: include compile time"
   ]
  },
  {
   "cell_type": "code",
   "execution_count": 130,
   "metadata": {},
   "outputs": [
    {
     "name": "stdout",
     "output_type": "stream",
     "text": [
      "  0.033728 seconds (5 allocations: 176 bytes)\n"
     ]
    },
    {
     "data": {
      "text/plain": [
       "1.0000233387279043e7"
      ]
     },
     "execution_count": 130,
     "metadata": {},
     "output_type": "execute_result"
    }
   ],
   "source": [
    "@time tally(a)"
   ]
  },
  {
   "cell_type": "markdown",
   "metadata": {},
   "source": [
    "For more robust benchmarking, the [BenchmarkTools.jl](https://github.com/JuliaCI/BenchmarkTools.jl) package is highly recommended."
   ]
  },
  {
   "cell_type": "code",
   "execution_count": 131,
   "metadata": {},
   "outputs": [
    {
     "data": {
      "text/plain": [
       "BenchmarkTools.Trial: \n",
       "  memory estimate:  0 bytes\n",
       "  allocs estimate:  0\n",
       "  --------------\n",
       "  minimum time:     22.833 ms (0.00% GC)\n",
       "  median time:      24.316 ms (0.00% GC)\n",
       "  mean time:        24.451 ms (0.00% GC)\n",
       "  maximum time:     30.302 ms (0.00% GC)\n",
       "  --------------\n",
       "  samples:          205\n",
       "  evals/sample:     1"
      ]
     },
     "execution_count": 131,
     "metadata": {},
     "output_type": "execute_result"
    }
   ],
   "source": [
    "using BenchmarkTools\n",
    "\n",
    "@benchmark tally($a)"
   ]
  },
  {
   "cell_type": "markdown",
   "metadata": {},
   "source": [
    "We see the memory allocation (468.75 KiB, average 10.73% GC) is suspiciously high.\n",
    "\n",
    "The `Profile` module gives line by line profile results."
   ]
  },
  {
   "cell_type": "code",
   "execution_count": 132,
   "metadata": {
    "scrolled": true
   },
   "outputs": [
    {
     "name": "stdout",
     "output_type": "stream",
     "text": [
      " Count File                        Line Function                               \n",
      "    10 ./In[129]                      3 tally(::Array{Float64,1})              \n",
      "    14 ./In[129]                      4 tally(::Array{Float64,1})              \n",
      "    10 ./array.jl                   729 getindex                               \n",
      "    20 ./array.jl                   705 iterate                                \n",
      "    26 ./boot.jl                    328 eval                                   \n",
      "    27 ./essentials.jl              742 #invokelatest#1                        \n",
      "    27 ./essentials.jl              741 invokelatest                           \n",
      "     7 ./float.jl                   395 +                                      \n",
      "     1 ./logging.jl                 491 with_logger(::Function, ::Base.CoreL...\n",
      "     1 ./logging.jl                 395 with_logstate(::getfield(Base.Meta, ...\n",
      "     1 ./meta.jl                    124 (::getfield(Base.Meta, Symbol(\"##2#3...\n",
      "     1 ./meta.jl                    123 #parse#1(::Bool, ::Bool, ::Bool, ::F...\n",
      "    27 ./task.jl                    259 (::getfield(IJulia, Symbol(\"##15#18\"...\n",
      "    27 .../9ajf8/src/eventloop.jl     8 eventloop(::ZMQ.Socket)                \n",
      "    27 .../src/execute_request.jl    67 execute_request(::ZMQ.Socket, ::IJul...\n",
      "     1 .../src/SoftGlobalScope.jl   211 softscope_include_string(::Module, :...\n",
      "    26 .../src/SoftGlobalScope.jl   218 softscope_include_string(::Module, :...\n"
     ]
    }
   ],
   "source": [
    "using Profile\n",
    "Random.seed!(123)\n",
    "a = rand(20_000_000)\n",
    "\n",
    "Profile.clear()\n",
    "@profile tally(a)\n",
    "Profile.print(format=:flat)"
   ]
  },
  {
   "cell_type": "markdown",
   "metadata": {},
   "source": [
    "One can use [`ProfileView`](https://github.com/timholy/ProfileView.jl) package for better visualization of profile data:\n",
    "\n",
    "```julia\n",
    "using ProfileView\n",
    "\n",
    "ProfileView.view()\n",
    "```"
   ]
  },
  {
   "cell_type": "code",
   "execution_count": 133,
   "metadata": {},
   "outputs": [
    {
     "name": "stdout",
     "output_type": "stream",
     "text": [
      "Body\u001b[91m\u001b[1m::Union{Float64, Int64}\u001b[22m\u001b[39m\n",
      "\u001b[90m1 ──\u001b[39m %1  = (Base.arraylen)(x)\u001b[36m::Int64\u001b[39m\n",
      "\u001b[90m│   \u001b[39m %2  = (Base.sle_int)(0, %1)\u001b[36m::Bool\u001b[39m\n",
      "\u001b[90m│   \u001b[39m %3  = (Base.bitcast)(UInt64, %1)\u001b[36m::UInt64\u001b[39m\n",
      "\u001b[90m│   \u001b[39m %4  = (Base.ult_int)(0x0000000000000000, %3)\u001b[36m::Bool\u001b[39m\n",
      "\u001b[90m│   \u001b[39m %5  = (Base.and_int)(%2, %4)\u001b[36m::Bool\u001b[39m\n",
      "\u001b[90m└───\u001b[39m       goto #3 if not %5\n",
      "\u001b[90m2 ──\u001b[39m %7  = (Base.arrayref)(false, x, 1)\u001b[36m::Float64\u001b[39m\n",
      "\u001b[90m└───\u001b[39m       goto #4\n",
      "\u001b[90m3 ──\u001b[39m       goto #4\n",
      "\u001b[90m4 ┄─\u001b[39m %10 = φ (#2 => false, #3 => true)\u001b[36m::Bool\u001b[39m\n",
      "\u001b[90m│   \u001b[39m %11 = φ (#2 => %7)\u001b[36m::Float64\u001b[39m\n",
      "\u001b[90m│   \u001b[39m %12 = φ (#2 => 2)\u001b[36m::Int64\u001b[39m\n",
      "\u001b[90m└───\u001b[39m       goto #5\n",
      "\u001b[90m5 ──\u001b[39m %14 = (Base.not_int)(%10)\u001b[36m::Bool\u001b[39m\n",
      "\u001b[90m└───\u001b[39m       goto #16 if not %14\n",
      "\u001b[90m6 ┄─\u001b[39m %16 = φ (#5 => 0, #15 => %32)\u001b[91m\u001b[1m::Union{Float64, Int64}\u001b[22m\u001b[39m\n",
      "\u001b[90m│   \u001b[39m %17 = φ (#5 => %11, #15 => %45)\u001b[36m::Float64\u001b[39m\n",
      "\u001b[90m│   \u001b[39m %18 = φ (#5 => %12, #15 => %46)\u001b[36m::Int64\u001b[39m\n",
      "\u001b[90m│   \u001b[39m %19 = (isa)(%16, Float64)\u001b[36m::Bool\u001b[39m\n",
      "\u001b[90m└───\u001b[39m       goto #8 if not %19\n",
      "\u001b[90m7 ──\u001b[39m %21 = π (%16, \u001b[36mFloat64\u001b[39m)\n",
      "\u001b[90m│   \u001b[39m %22 = (Base.add_float)(%21, %17)\u001b[36m::Float64\u001b[39m\n",
      "\u001b[90m└───\u001b[39m       goto #11\n",
      "\u001b[90m8 ──\u001b[39m %24 = (isa)(%16, Int64)\u001b[36m::Bool\u001b[39m\n",
      "\u001b[90m└───\u001b[39m       goto #10 if not %24\n",
      "\u001b[90m9 ──\u001b[39m %26 = π (%16, \u001b[36mInt64\u001b[39m)\n",
      "\u001b[90m│   \u001b[39m %27 = (Base.sitofp)(Float64, %26)\u001b[36m::Float64\u001b[39m\n",
      "\u001b[90m│   \u001b[39m %28 = (Base.add_float)(%27, %17)\u001b[36m::Float64\u001b[39m\n",
      "\u001b[90m└───\u001b[39m       goto #11\n",
      "\u001b[90m10 ─\u001b[39m       (Core.throw)(ErrorException(\"fatal error in type inference (type bound)\"))\n",
      "\u001b[90m└───\u001b[39m       $(Expr(:unreachable))\n",
      "\u001b[90m11 ┄\u001b[39m %32 = φ (#7 => %22, #9 => %28)\u001b[36m::Float64\u001b[39m\n",
      "\u001b[90m│   \u001b[39m %33 = (Base.bitcast)(UInt64, %18)\u001b[36m::UInt64\u001b[39m\n",
      "\u001b[90m│   \u001b[39m %34 = (Base.sub_int)(%33, 0x0000000000000001)\u001b[36m::UInt64\u001b[39m\n",
      "\u001b[90m│   \u001b[39m %35 = (Base.arraylen)(x)\u001b[36m::Int64\u001b[39m\n",
      "\u001b[90m│   \u001b[39m %36 = (Base.sle_int)(0, %35)\u001b[36m::Bool\u001b[39m\n",
      "\u001b[90m│   \u001b[39m %37 = (Base.bitcast)(UInt64, %35)\u001b[36m::UInt64\u001b[39m\n",
      "\u001b[90m│   \u001b[39m %38 = (Base.ult_int)(%34, %37)\u001b[36m::Bool\u001b[39m\n",
      "\u001b[90m│   \u001b[39m %39 = (Base.and_int)(%36, %38)\u001b[36m::Bool\u001b[39m\n",
      "\u001b[90m└───\u001b[39m       goto #13 if not %39\n",
      "\u001b[90m12 ─\u001b[39m %41 = (Base.arrayref)(false, x, %18)\u001b[36m::Float64\u001b[39m\n",
      "\u001b[90m│   \u001b[39m %42 = (Base.add_int)(%18, 1)\u001b[36m::Int64\u001b[39m\n",
      "\u001b[90m└───\u001b[39m       goto #14\n",
      "\u001b[90m13 ─\u001b[39m       goto #14\n",
      "\u001b[90m14 ┄\u001b[39m %45 = φ (#12 => %41)\u001b[36m::Float64\u001b[39m\n",
      "\u001b[90m│   \u001b[39m %46 = φ (#12 => %42)\u001b[36m::Int64\u001b[39m\n",
      "\u001b[90m│   \u001b[39m %47 = φ (#12 => false, #13 => true)\u001b[36m::Bool\u001b[39m\n",
      "\u001b[90m│   \u001b[39m %48 = (Base.not_int)(%47)\u001b[36m::Bool\u001b[39m\n",
      "\u001b[90m└───\u001b[39m       goto #16 if not %48\n",
      "\u001b[90m15 ─\u001b[39m       goto #6\n",
      "\u001b[90m16 ┄\u001b[39m %51 = φ (#14 => %32, #5 => 0)\u001b[91m\u001b[1m::Union{Float64, Int64}\u001b[22m\u001b[39m\n",
      "\u001b[90m└───\u001b[39m       return %51\n"
     ]
    }
   ],
   "source": [
    "@code_warntype tally(a)"
   ]
  },
  {
   "cell_type": "markdown",
   "metadata": {},
   "source": [
    "## Memory profiling\n",
    "\n",
    "Detailed memory profiling requires a detour. First let's write a script [`bar.jl`](./bar.jl), which contains the workload function `tally` and a wrapper for profiling."
   ]
  },
  {
   "cell_type": "code",
   "execution_count": 134,
   "metadata": {},
   "outputs": [
    {
     "name": "stdout",
     "output_type": "stream",
     "text": [
      "using Profile\n",
      "\n",
      "function tally(x)\n",
      "    s = 0\n",
      "    for v in x\n",
      "        s += v\n",
      "    end\n",
      "    s\n",
      "end\n",
      "\n",
      "# call workload from wrapper to avoid misattribution bug\n",
      "function wrapper()\n",
      "    y = rand(10000)\n",
      "    # force compilation\n",
      "    println(tally(y))\n",
      "    # clear allocation counters\n",
      "    Profile.clear_malloc_data()\n",
      "    # run compiled workload\n",
      "    println(tally(y))\n",
      "end\n",
      "\n",
      "wrapper()\n"
     ]
    }
   ],
   "source": [
    ";cat bar.jl"
   ]
  },
  {
   "cell_type": "markdown",
   "metadata": {},
   "source": [
    "Next, in terminal, we run the script with `--track-allocation=user` option."
   ]
  },
  {
   "cell_type": "code",
   "execution_count": 135,
   "metadata": {},
   "outputs": [
    {
     "name": "stdout",
     "output_type": "stream",
     "text": [
      "5002.482677958814\n",
      "5002.482677958814\n"
     ]
    }
   ],
   "source": [
    ";julia --track-allocation=user bar.jl"
   ]
  },
  {
   "cell_type": "markdown",
   "metadata": {},
   "source": [
    "The profiler outputs a file `bar.jl.14126.mem`."
   ]
  },
  {
   "cell_type": "code",
   "execution_count": 148,
   "metadata": {},
   "outputs": [
    {
     "name": "stdout",
     "output_type": "stream",
     "text": [
      "        - using Profile\n",
      "        - \n",
      "        - function tally(x)\n",
      "        -     s = 0\n",
      "        -     for v in x\n",
      "        -         s += v\n",
      "        -     end\n",
      "        -     s\n",
      "        - end\n",
      "        - \n",
      "        - # call workload from wrapper to avoid misattribution bug\n",
      "        - function wrapper()\n",
      "        0     y = rand(10000)\n",
      "        -     # force compilation\n",
      "        0     println(tally(y))\n",
      "        -     # clear allocation counters\n",
      "        0     Profile.clear_malloc_data()\n",
      "        -     # run compiled workload\n",
      "      144     println(tally(y))\n",
      "        - end\n",
      "        - \n",
      "        - wrapper()\n",
      "        - \n"
     ]
    }
   ],
   "source": [
    ";cat bar.jl.14126.mem"
   ]
  },
  {
   "cell_type": "markdown",
   "metadata": {},
   "source": [
    "We see line 4 is allocating suspicious amount of heap memory. "
   ]
  },
  {
   "cell_type": "markdown",
   "metadata": {},
   "source": [
    "## Type stability\n",
    "\n",
    "The key to writing performant Julia code is to be [**type stable**](https://docs.julialang.org/en/v1/manual/performance-tips/#Write-\"type-stable\"-functions-1), such that `Julia` is able to infer types of all variables and output of a function from the types of input arguments. \n",
    "\n",
    "Is the `tally` function type stable? How to diagnose and fix it?"
   ]
  },
  {
   "cell_type": "code",
   "execution_count": 137,
   "metadata": {},
   "outputs": [
    {
     "name": "stdout",
     "output_type": "stream",
     "text": [
      "Body\u001b[91m\u001b[1m::Union{Float64, Int64}\u001b[22m\u001b[39m\n",
      "\u001b[90m1 ──\u001b[39m %1  = (Base.arraylen)(x)\u001b[36m::Int64\u001b[39m\n",
      "\u001b[90m│   \u001b[39m %2  = (Base.sle_int)(0, %1)\u001b[36m::Bool\u001b[39m\n",
      "\u001b[90m│   \u001b[39m %3  = (Base.bitcast)(UInt64, %1)\u001b[36m::UInt64\u001b[39m\n",
      "\u001b[90m│   \u001b[39m %4  = (Base.ult_int)(0x0000000000000000, %3)\u001b[36m::Bool\u001b[39m\n",
      "\u001b[90m│   \u001b[39m %5  = (Base.and_int)(%2, %4)\u001b[36m::Bool\u001b[39m\n",
      "\u001b[90m└───\u001b[39m       goto #3 if not %5\n",
      "\u001b[90m2 ──\u001b[39m %7  = (Base.arrayref)(false, x, 1)\u001b[36m::Float64\u001b[39m\n",
      "\u001b[90m└───\u001b[39m       goto #4\n",
      "\u001b[90m3 ──\u001b[39m       goto #4\n",
      "\u001b[90m4 ┄─\u001b[39m %10 = φ (#2 => false, #3 => true)\u001b[36m::Bool\u001b[39m\n",
      "\u001b[90m│   \u001b[39m %11 = φ (#2 => %7)\u001b[36m::Float64\u001b[39m\n",
      "\u001b[90m│   \u001b[39m %12 = φ (#2 => 2)\u001b[36m::Int64\u001b[39m\n",
      "\u001b[90m└───\u001b[39m       goto #5\n",
      "\u001b[90m5 ──\u001b[39m %14 = (Base.not_int)(%10)\u001b[36m::Bool\u001b[39m\n",
      "\u001b[90m└───\u001b[39m       goto #16 if not %14\n",
      "\u001b[90m6 ┄─\u001b[39m %16 = φ (#5 => 0, #15 => %32)\u001b[91m\u001b[1m::Union{Float64, Int64}\u001b[22m\u001b[39m\n",
      "\u001b[90m│   \u001b[39m %17 = φ (#5 => %11, #15 => %45)\u001b[36m::Float64\u001b[39m\n",
      "\u001b[90m│   \u001b[39m %18 = φ (#5 => %12, #15 => %46)\u001b[36m::Int64\u001b[39m\n",
      "\u001b[90m│   \u001b[39m %19 = (isa)(%16, Float64)\u001b[36m::Bool\u001b[39m\n",
      "\u001b[90m└───\u001b[39m       goto #8 if not %19\n",
      "\u001b[90m7 ──\u001b[39m %21 = π (%16, \u001b[36mFloat64\u001b[39m)\n",
      "\u001b[90m│   \u001b[39m %22 = (Base.add_float)(%21, %17)\u001b[36m::Float64\u001b[39m\n",
      "\u001b[90m└───\u001b[39m       goto #11\n",
      "\u001b[90m8 ──\u001b[39m %24 = (isa)(%16, Int64)\u001b[36m::Bool\u001b[39m\n",
      "\u001b[90m└───\u001b[39m       goto #10 if not %24\n",
      "\u001b[90m9 ──\u001b[39m %26 = π (%16, \u001b[36mInt64\u001b[39m)\n",
      "\u001b[90m│   \u001b[39m %27 = (Base.sitofp)(Float64, %26)\u001b[36m::Float64\u001b[39m\n",
      "\u001b[90m│   \u001b[39m %28 = (Base.add_float)(%27, %17)\u001b[36m::Float64\u001b[39m\n",
      "\u001b[90m└───\u001b[39m       goto #11\n",
      "\u001b[90m10 ─\u001b[39m       (Core.throw)(ErrorException(\"fatal error in type inference (type bound)\"))\n",
      "\u001b[90m└───\u001b[39m       $(Expr(:unreachable))\n",
      "\u001b[90m11 ┄\u001b[39m %32 = φ (#7 => %22, #9 => %28)\u001b[36m::Float64\u001b[39m\n",
      "\u001b[90m│   \u001b[39m %33 = (Base.bitcast)(UInt64, %18)\u001b[36m::UInt64\u001b[39m\n",
      "\u001b[90m│   \u001b[39m %34 = (Base.sub_int)(%33, 0x0000000000000001)\u001b[36m::UInt64\u001b[39m\n",
      "\u001b[90m│   \u001b[39m %35 = (Base.arraylen)(x)\u001b[36m::Int64\u001b[39m\n",
      "\u001b[90m│   \u001b[39m %36 = (Base.sle_int)(0, %35)\u001b[36m::Bool\u001b[39m\n",
      "\u001b[90m│   \u001b[39m %37 = (Base.bitcast)(UInt64, %35)\u001b[36m::UInt64\u001b[39m\n",
      "\u001b[90m│   \u001b[39m %38 = (Base.ult_int)(%34, %37)\u001b[36m::Bool\u001b[39m\n",
      "\u001b[90m│   \u001b[39m %39 = (Base.and_int)(%36, %38)\u001b[36m::Bool\u001b[39m\n",
      "\u001b[90m└───\u001b[39m       goto #13 if not %39\n",
      "\u001b[90m12 ─\u001b[39m %41 = (Base.arrayref)(false, x, %18)\u001b[36m::Float64\u001b[39m\n",
      "\u001b[90m│   \u001b[39m %42 = (Base.add_int)(%18, 1)\u001b[36m::Int64\u001b[39m\n",
      "\u001b[90m└───\u001b[39m       goto #14\n",
      "\u001b[90m13 ─\u001b[39m       goto #14\n",
      "\u001b[90m14 ┄\u001b[39m %45 = φ (#12 => %41)\u001b[36m::Float64\u001b[39m\n",
      "\u001b[90m│   \u001b[39m %46 = φ (#12 => %42)\u001b[36m::Int64\u001b[39m\n",
      "\u001b[90m│   \u001b[39m %47 = φ (#12 => false, #13 => true)\u001b[36m::Bool\u001b[39m\n",
      "\u001b[90m│   \u001b[39m %48 = (Base.not_int)(%47)\u001b[36m::Bool\u001b[39m\n",
      "\u001b[90m└───\u001b[39m       goto #16 if not %48\n",
      "\u001b[90m15 ─\u001b[39m       goto #6\n",
      "\u001b[90m16 ┄\u001b[39m %51 = φ (#14 => %32, #5 => 0)\u001b[91m\u001b[1m::Union{Float64, Int64}\u001b[22m\u001b[39m\n",
      "\u001b[90m└───\u001b[39m       return %51\n"
     ]
    }
   ],
   "source": [
    "@code_warntype tally(rand(100))"
   ]
  },
  {
   "cell_type": "markdown",
   "metadata": {},
   "source": [
    "In this case, Julia fails to infer the type of the reduction variable `s`, which has to be **boxed** in heap memory at run time.\n",
    "\n",
    "<img src=\"https://www.codeproject.com/KB/dotnet/6importentStepsDotNet/14.jpg\" width=\"400\" align=\"center\"/>\n",
    "\n",
    "<img src=\"https://i-msdn.sec.s-msft.com/dynimg/IC97798.jpeg\" width=\"300\" align=\"center\"/>\n",
    "\n",
    "This is the generated LLVM bitcode, which is unsually long and contains lots of _box_:"
   ]
  },
  {
   "cell_type": "code",
   "execution_count": 138,
   "metadata": {},
   "outputs": [
    {
     "name": "stdout",
     "output_type": "stream",
     "text": [
      "\n",
      ";  @ In[129]:2 within `tally'\n",
      "define { %jl_value_t addrspace(10)*, i8 } @julia_tally_14699([8 x i8]* noalias nocapture align 8 dereferenceable(8), %jl_value_t addrspace(10)* nonnull align 16 dereferenceable(40)) {\n",
      "top:\n",
      ";  @ In[129]:3 within `tally'\n",
      "; ┌ @ array.jl:705 within `iterate' @ array.jl:705\n",
      "; │┌ @ array.jl:199 within `length'\n",
      "    %2 = addrspacecast %jl_value_t addrspace(10)* %1 to %jl_value_t addrspace(11)*\n",
      "    %3 = bitcast %jl_value_t addrspace(11)* %2 to %jl_array_t addrspace(11)*\n",
      "    %4 = getelementptr inbounds %jl_array_t, %jl_array_t addrspace(11)* %3, i64 0, i32 1\n",
      "    %5 = load i64, i64 addrspace(11)* %4, align 8\n",
      "; │└\n",
      "   %6 = icmp slt i64 %5, 1\n",
      "   br i1 %6, label %union_move11, label %L14.L16_crit_edge.L14.L16_crit_edge.split_crit_edge\n",
      "\n",
      "L14.L16_crit_edge.L14.L16_crit_edge.split_crit_edge: ; preds = %top\n",
      "; │┌ @ array.jl:729 within `getindex'\n",
      "    %7 = bitcast %jl_value_t addrspace(11)* %2 to double addrspace(13)* addrspace(11)*\n",
      "    %8 = load double addrspace(13)*, double addrspace(13)* addrspace(11)* %7, align 8\n",
      "; └└\n",
      "  br label %L16\n",
      "\n",
      "L16:                                              ; preds = %L14.L16_crit_edge.L14.L16_crit_edge.split_crit_edge, %L50\n",
      "  %9 = phi double [ 0.000000e+00, %L14.L16_crit_edge.L14.L16_crit_edge.split_crit_edge ], [ %value_phi5, %L50 ]\n",
      "  %.sroa.016.0 = phi i64 [ 0, %L14.L16_crit_edge.L14.L16_crit_edge.split_crit_edge ], [ %15, %L50 ]\n",
      "  %tindex_phi = phi i2 [ -2, %L14.L16_crit_edge.L14.L16_crit_edge.split_crit_edge ], [ 1, %L50 ]\n",
      "  %value_phi3.in = phi double addrspace(13)* [ %8, %L14.L16_crit_edge.L14.L16_crit_edge.split_crit_edge ], [ %13, %L50 ]\n",
      "  %value_phi4 = phi i64 [ 2, %L14.L16_crit_edge.L14.L16_crit_edge.split_crit_edge ], [ %14, %L50 ]\n",
      "; ┌ @ array.jl:705 within `iterate' @ array.jl:705\n",
      "; │┌ @ array.jl:729 within `getindex'\n",
      "    %value_phi3 = load double, double addrspace(13)* %value_phi3.in, align 8\n",
      "; └└\n",
      ";  @ In[129]:4 within `tally'\n",
      "  switch i2 %tindex_phi, label %L30 [\n",
      "    i2 1, label %L32\n",
      "    i2 -2, label %L26\n",
      "  ]\n",
      "\n",
      "L26:                                              ; preds = %L16\n",
      "; ┌ @ promotion.jl:313 within `+'\n",
      "; │┌ @ promotion.jl:284 within `promote'\n",
      "; ││┌ @ promotion.jl:261 within `_promote'\n",
      "; │││┌ @ number.jl:7 within `convert'\n",
      "; ││││┌ @ float.jl:60 within `Type'\n",
      "       %10 = sitofp i64 %.sroa.016.0 to double\n",
      "; └└└└└\n",
      "  br label %L32\n",
      "\n",
      "L30:                                              ; preds = %L16\n",
      "  call void @jl_throw(%jl_value_t addrspace(12)* addrspacecast (%jl_value_t* inttoptr (i64 4398732848 to %jl_value_t*) to %jl_value_t addrspace(12)*))\n",
      "  unreachable\n",
      "\n",
      "L32:                                              ; preds = %L16, %L26\n",
      "  %.pn = phi double [ %10, %L26 ], [ %9, %L16 ]\n",
      "; ┌ @ float.jl:395 within `+'\n",
      "   %value_phi5 = fadd double %value_phi3, %.pn\n",
      "; └\n",
      "; ┌ @ array.jl:705 within `iterate'\n",
      "; │┌ @ int.jl:800 within `-' @ int.jl:52\n",
      "    %11 = add i64 %value_phi4, -1\n",
      "; │└\n",
      "; │┌ @ int.jl:434 within `<' @ int.jl:427\n",
      "    %12 = icmp ult i64 %11, %5\n",
      "; │└\n",
      "   br i1 %12, label %L50, label %union_move\n",
      "\n",
      "L50:                                              ; preds = %L32\n",
      "; │┌ @ array.jl:729 within `getindex'\n",
      "    %13 = getelementptr inbounds double, double addrspace(13)* %8, i64 %11\n",
      "; │└\n",
      "; │┌ @ int.jl:53 within `+'\n",
      "    %14 = add i64 %value_phi4, 1\n",
      "; └└\n",
      "  %15 = bitcast double %value_phi5 to i64\n",
      "  br label %L16\n",
      "\n",
      "post_union_move:                                  ; preds = %union_move11, %union_move\n",
      "  %16 = phi { %jl_value_t addrspace(10)*, i8 } [ { %jl_value_t addrspace(10)* addrspacecast (%jl_value_t* null to %jl_value_t addrspace(10)*), i8 2 }, %union_move11 ], [ { %jl_value_t addrspace(10)* addrspacecast (%jl_value_t* null to %jl_value_t addrspace(10)*), i8 1 }, %union_move ]\n",
      ";  @ In[129]:6 within `tally'\n",
      "  ret { %jl_value_t addrspace(10)*, i8 } %16\n",
      "\n",
      "union_move:                                       ; preds = %L32\n",
      "  %17 = bitcast [8 x i8]* %0 to double*\n",
      "  store double %value_phi5, double* %17, align 8\n",
      "  br label %post_union_move\n",
      "\n",
      "union_move11:                                     ; preds = %top\n",
      "  %18 = bitcast [8 x i8]* %0 to i64*\n",
      "  store i64 0, i64* %18, align 8\n",
      "  br label %post_union_move\n",
      "}\n"
     ]
    }
   ],
   "source": [
    "@code_llvm tally(rand(100))"
   ]
  },
  {
   "cell_type": "markdown",
   "metadata": {},
   "source": [
    "What's the fix?"
   ]
  },
  {
   "cell_type": "code",
   "execution_count": 139,
   "metadata": {},
   "outputs": [
    {
     "data": {
      "text/plain": [
       "tally2 (generic function with 1 method)"
      ]
     },
     "execution_count": 139,
     "metadata": {},
     "output_type": "execute_result"
    }
   ],
   "source": [
    "function tally2(x)\n",
    "    s = zero(eltype(x))\n",
    "    for v in x\n",
    "        s += v\n",
    "    end\n",
    "    s\n",
    "end"
   ]
  },
  {
   "cell_type": "code",
   "execution_count": 140,
   "metadata": {},
   "outputs": [
    {
     "data": {
      "text/plain": [
       "BenchmarkTools.Trial: \n",
       "  memory estimate:  0 bytes\n",
       "  allocs estimate:  0\n",
       "  --------------\n",
       "  minimum time:     21.545 ms (0.00% GC)\n",
       "  median time:      24.413 ms (0.00% GC)\n",
       "  mean time:        24.466 ms (0.00% GC)\n",
       "  maximum time:     31.595 ms (0.00% GC)\n",
       "  --------------\n",
       "  samples:          205\n",
       "  evals/sample:     1"
      ]
     },
     "execution_count": 140,
     "metadata": {},
     "output_type": "execute_result"
    }
   ],
   "source": [
    "@benchmark tally2($a)"
   ]
  },
  {
   "cell_type": "markdown",
   "metadata": {},
   "source": [
    "Much shorter LLVM bitcode:"
   ]
  },
  {
   "cell_type": "code",
   "execution_count": 141,
   "metadata": {},
   "outputs": [
    {
     "name": "stdout",
     "output_type": "stream",
     "text": [
      "\n",
      ";  @ In[139]:2 within `tally2'\n",
      "define double @julia_tally2_14887(%jl_value_t addrspace(10)* nonnull align 16 dereferenceable(40)) {\n",
      "top:\n",
      ";  @ In[139]:3 within `tally2'\n",
      "; ┌ @ array.jl:705 within `iterate' @ array.jl:705\n",
      "; │┌ @ array.jl:199 within `length'\n",
      "    %1 = addrspacecast %jl_value_t addrspace(10)* %0 to %jl_value_t addrspace(11)*\n",
      "    %2 = bitcast %jl_value_t addrspace(11)* %1 to %jl_array_t addrspace(11)*\n",
      "    %3 = getelementptr inbounds %jl_array_t, %jl_array_t addrspace(11)* %2, i64 0, i32 1\n",
      "    %4 = load i64, i64 addrspace(11)* %3, align 8\n",
      "; │└\n",
      "   %5 = icmp slt i64 %4, 1\n",
      "   br i1 %5, label %L38, label %L14.L16_crit_edge\n",
      "\n",
      "L14.L16_crit_edge:                                ; preds = %top\n",
      "; │┌ @ array.jl:729 within `getindex'\n",
      "    %6 = bitcast %jl_value_t addrspace(11)* %1 to double addrspace(13)* addrspace(11)*\n",
      "    %7 = load double addrspace(13)*, double addrspace(13)* addrspace(11)* %6, align 8\n",
      "    %value_phi413 = load double, double addrspace(13)* %7, align 8\n",
      "; └└\n",
      ";  @ In[139]:4 within `tally2'\n",
      "; ┌ @ float.jl:395 within `+'\n",
      "   %8 = fadd double %value_phi413, 0.000000e+00\n",
      "; └\n",
      "; ┌ @ array.jl:705 within `iterate'\n",
      "; │┌ @ int.jl:434 within `<' @ int.jl:427\n",
      "    %9 = icmp eq i64 %4, 1\n",
      "; │└\n",
      "   br i1 %9, label %L38, label %L37.lr.ph.L37.lr.ph.split_crit_edge\n",
      "\n",
      "L37.lr.ph.L37.lr.ph.split_crit_edge:              ; preds = %L14.L16_crit_edge\n",
      "   br label %L37\n",
      "\n",
      "L37:                                              ; preds = %L37, %L37.lr.ph.L37.lr.ph.split_crit_edge\n",
      "   %10 = phi i64 [ 1, %L37.lr.ph.L37.lr.ph.split_crit_edge ], [ %value_phi514, %L37 ]\n",
      "   %11 = phi double [ %8, %L37.lr.ph.L37.lr.ph.split_crit_edge ], [ %14, %L37 ]\n",
      "   %value_phi514 = phi i64 [ 2, %L37.lr.ph.L37.lr.ph.split_crit_edge ], [ %13, %L37 ]\n",
      "; │┌ @ array.jl:729 within `getindex'\n",
      "    %12 = getelementptr inbounds double, double addrspace(13)* %7, i64 %10\n",
      "; │└\n",
      "; │┌ @ int.jl:53 within `+'\n",
      "    %13 = add i64 %value_phi514, 1\n",
      "; └└\n",
      ";  @ In[139]:3 within `tally2'\n",
      "; ┌ @ array.jl:705 within `iterate' @ array.jl:705\n",
      "; │┌ @ array.jl:729 within `getindex'\n",
      "    %value_phi4 = load double, double addrspace(13)* %12, align 8\n",
      "; └└\n",
      ";  @ In[139]:4 within `tally2'\n",
      "; ┌ @ float.jl:395 within `+'\n",
      "   %14 = fadd double %11, %value_phi4\n",
      "; └\n",
      "; ┌ @ array.jl:705 within `iterate'\n",
      "; │┌ @ int.jl:434 within `<' @ int.jl:427\n",
      "    %15 = icmp ult i64 %value_phi514, %4\n",
      "; │└\n",
      "   br i1 %15, label %L37, label %L38\n",
      "\n",
      "L38:                                              ; preds = %L37, %L14.L16_crit_edge, %top\n",
      "   %value_phi9 = phi double [ 0.000000e+00, %top ], [ %8, %L14.L16_crit_edge ], [ %14, %L37 ]\n",
      "; └\n",
      ";  @ In[139]:6 within `tally2'\n",
      "  ret double %value_phi9\n",
      "}\n"
     ]
    }
   ],
   "source": [
    "@code_llvm tally2(a)"
   ]
  },
  {
   "cell_type": "markdown",
   "metadata": {
    "slideshow": {
     "slide_type": "slide"
    }
   },
   "source": [
    "## Plotting in Julia\n",
    "\n",
    "The three most popular options (as far as I know) in Julia are\n",
    "\n",
    "- [Gadfly.jl](https://github.com/GiovineItalia/Gadfly.jl)\n",
    "    - Julia equivalent of `ggplot2` in R\n",
    "    \n",
    "    \n",
    "- [PyPlot.jl](https://github.com/JuliaPy/PyPlot.jl)\n",
    "    - Wrapper for Python's matplotlib\n",
    "    \n",
    "    \n",
    "- [Plots.jl](https://github.com/JuliaPlots/Plots.jl)\n",
    "    - Defines an unified interface for plotting\n",
    "    - maps arguments to different plotting \"backends\"\n",
    "        - PyPlot, GR, PlotlyJS, and many more\n",
    "        \n",
    "We demonstrate Plots.jl below:"
   ]
  },
  {
   "cell_type": "code",
   "execution_count": 142,
   "metadata": {
    "collapsed": true
   },
   "outputs": [],
   "source": [
    "# Pkg.add(\"Plots\")\n",
    "using Plots\n",
    "\n",
    "x = cumsum(randn(50, 2), dims=1);"
   ]
  },
  {
   "cell_type": "code",
   "execution_count": 143,
   "metadata": {},
   "outputs": [
    {
     "name": "stdout",
     "output_type": "stream",
     "text": [
      "\u001b[32m\u001b[1m  Building\u001b[22m\u001b[39m Conda ─→ `~/.julia/packages/Conda/CpuvI/deps/build.log`\n",
      "\u001b[32m\u001b[1m  Building\u001b[22m\u001b[39m PyCall → `~/.julia/packages/PyCall/1815y/deps/build.log`\n"
     ]
    },
    {
     "name": "stderr",
     "output_type": "stream",
     "text": [
      "┌ Info: Installing matplotlib via the Conda matplotlib package...\n",
      "└ @ PyCall /Users/huazhou/.julia/packages/PyCall/1815y/src/PyCall.jl:705\n",
      "┌ Info: Running `conda install -y matplotlib` in root environment\n",
      "└ @ Conda /Users/huazhou/.julia/packages/Conda/CpuvI/src/Conda.jl:112\n"
     ]
    },
    {
     "name": "stdout",
     "output_type": "stream",
     "text": [
      "Collecting package metadata: ...working... done\n",
      "Solving environment: ...working... done\n",
      "\n",
      "# All requested packages already installed.\n",
      "\n"
     ]
    },
    {
     "ename": "InitError",
     "evalue": "InitError: PyError (PyImport_ImportModule) <class 'RuntimeError'>\nRuntimeError(\"The current Numpy installation ('/Users/huazhou/.julia/conda/3/lib/python3.7/site-packages/numpy/__init__.py') fails to pass simple sanity checks. This can be caused for example by incorrect BLAS library being linked in, or by mixing package managers (pip, conda, apt, ...). Search closed numpy issues for similar problems.\")\n  File \"/Users/huazhou/.julia/conda/3/lib/python3.7/site-packages/matplotlib/__init__.py\", line 141, in <module>\n    from . import cbook, rcsetup\n  File \"/Users/huazhou/.julia/conda/3/lib/python3.7/site-packages/matplotlib/cbook/__init__.py\", line 33, in <module>\n    import numpy as np\n  File \"/Users/huazhou/.julia/conda/3/lib/python3.7/site-packages/numpy/__init__.py\", line 220, in <module>\n    _sanity_check()\n  File \"/Users/huazhou/.julia/conda/3/lib/python3.7/site-packages/numpy/__init__.py\", line 218, in _sanity_check\n    raise RuntimeError(msg.format(__file__))\n\nduring initialization of module PyPlot",
     "output_type": "error",
     "traceback": [
      "InitError: PyError (PyImport_ImportModule) <class 'RuntimeError'>\nRuntimeError(\"The current Numpy installation ('/Users/huazhou/.julia/conda/3/lib/python3.7/site-packages/numpy/__init__.py') fails to pass simple sanity checks. This can be caused for example by incorrect BLAS library being linked in, or by mixing package managers (pip, conda, apt, ...). Search closed numpy issues for similar problems.\")\n  File \"/Users/huazhou/.julia/conda/3/lib/python3.7/site-packages/matplotlib/__init__.py\", line 141, in <module>\n    from . import cbook, rcsetup\n  File \"/Users/huazhou/.julia/conda/3/lib/python3.7/site-packages/matplotlib/cbook/__init__.py\", line 33, in <module>\n    import numpy as np\n  File \"/Users/huazhou/.julia/conda/3/lib/python3.7/site-packages/numpy/__init__.py\", line 220, in <module>\n    _sanity_check()\n  File \"/Users/huazhou/.julia/conda/3/lib/python3.7/site-packages/numpy/__init__.py\", line 218, in _sanity_check\n    raise RuntimeError(msg.format(__file__))\n\nduring initialization of module PyPlot",
      "",
      "Stacktrace:",
      " [1] pyimport(::String) at /Users/huazhou/.julia/packages/PyCall/1815y/src/PyCall.jl:544",
      " [2] pyimport_conda(::String, ::String, ::String) at /Users/huazhou/.julia/packages/PyCall/1815y/src/PyCall.jl:708",
      " [3] pyimport_conda at /Users/huazhou/.julia/packages/PyCall/1815y/src/PyCall.jl:701 [inlined]",
      " [4] __init__() at /Users/huazhou/.julia/packages/PyPlot/KRYZs/src/init.jl:167",
      " [5] _include_from_serialized(::String, ::Array{Any,1}) at ./loading.jl:633",
      " [6] _require_search_from_serialized(::Base.PkgId, ::String) at ./loading.jl:713",
      " [7] _require(::Base.PkgId) at ./loading.jl:937",
      " [8] require(::Base.PkgId) at ./loading.jl:858",
      " [9] require(::Module, ::Symbol) at ./loading.jl:853",
      " [10] top-level scope at /Users/huazhou/.julia/packages/Plots/QYETN/src/backends.jl:486",
      " [11] eval at ./boot.jl:328 [inlined]",
      " [12] _initialize_backend(::Plots.PyPlotBackend) at /Users/huazhou/.julia/packages/Plots/QYETN/src/backends.jl:485",
      " [13] backend(::Plots.PyPlotBackend) at /Users/huazhou/.julia/packages/Plots/QYETN/src/backends.jl:182",
      " [14] #pyplot#251 at /Users/huazhou/.julia/packages/Plots/QYETN/src/backends.jl:33 [inlined]",
      " [15] pyplot() at /Users/huazhou/.julia/packages/Plots/QYETN/src/backends.jl:33",
      " [16] top-level scope at In[143]:3"
     ]
    }
   ],
   "source": [
    "ENV[\"PYTHON\"]=\"\"\n",
    "using Pkg; Pkg.build(\"PyCall\")\n",
    "# Pkg.add(\"PyPlot\")\n",
    "pyplot()  # set the backend to PyPlot\n",
    "plot(x, title=\"Random walk\", xlab=\"time\")"
   ]
  },
  {
   "cell_type": "code",
   "execution_count": 144,
   "metadata": {},
   "outputs": [
    {
     "data": {
      "text/html": [
       "    <script class='js-collapse-script'>\n",
       "        var curMatch =\n",
       "            window.location.href\n",
       "            .match(/(.*?)\\/notebooks\\/.*\\.ipynb/);\n",
       "\n",
       "        curMatch = curMatch ||\n",
       "            window.location.href\n",
       "            .match(/(.*?)\\/apps\\/.*\\.ipynb/);\n",
       "\n",
       "        if ( curMatch ) {\n",
       "            $('head').append('<base href=\"' + curMatch[1] + '/\">');\n",
       "        }\n",
       "    </script>\n"
      ],
      "text/plain": [
       "HTML{String}(\"    <script class='js-collapse-script'>\\n        var curMatch =\\n            window.location.href\\n            .match(/(.*?)\\\\/notebooks\\\\/.*\\\\.ipynb/);\\n\\n        curMatch = curMatch ||\\n            window.location.href\\n            .match(/(.*?)\\\\/apps\\\\/.*\\\\.ipynb/);\\n\\n        if ( curMatch ) {\\n            \\$('head').append('<base href=\\\"' + curMatch[1] + '/\\\">');\\n        }\\n    </script>\\n\")"
      ]
     },
     "metadata": {},
     "output_type": "display_data"
    },
    {
     "data": {
      "text/html": [
       "<script class='js-collapse-script' src='/assetserver/130ff73e92ede360441623722ae524c752cfa7d6-assets/webio/dist/bundle.js'></script>"
      ],
      "text/plain": [
       "HTML{String}(\"<script class='js-collapse-script' src='/assetserver/130ff73e92ede360441623722ae524c752cfa7d6-assets/webio/dist/bundle.js'></script>\")"
      ]
     },
     "metadata": {},
     "output_type": "display_data"
    },
    {
     "data": {
      "text/html": [
       "<script class='js-collapse-script' src='/assetserver/130ff73e92ede360441623722ae524c752cfa7d6-assets/providers/ijulia_setup.js'></script>"
      ],
      "text/plain": [
       "HTML{String}(\"<script class='js-collapse-script' src='/assetserver/130ff73e92ede360441623722ae524c752cfa7d6-assets/providers/ijulia_setup.js'></script>\")"
      ]
     },
     "metadata": {},
     "output_type": "display_data"
    },
    {
     "data": {
      "text/html": [
       "  <script class='js-collapse-script'>\n",
       "    $('.js-collapse-script').parent('.output_subarea').css('padding', '0');\n",
       "  </script>\n"
      ],
      "text/plain": [
       "HTML{String}(\"  <script class='js-collapse-script'>\\n    \\$('.js-collapse-script').parent('.output_subarea').css('padding', '0');\\n  </script>\\n\")"
      ]
     },
     "metadata": {},
     "output_type": "display_data"
    },
    {
     "data": {
      "application/vnd.plotly.v1+json": {
       "data": [
        {
         "fields": {
          "colorbar": {
           "title": ""
          },
          "hoverinfo": "text",
          "legendgroup": "y1",
          "line": {
           "color": "rgba(0, 154, 250, 1.000)",
           "dash": "solid",
           "shape": "linear",
           "width": 1
          },
          "mode": "lines",
          "name": "y1",
          "showlegend": true,
          "text": [
           null,
           null,
           null,
           null,
           null,
           null,
           null,
           null,
           null,
           null,
           null,
           null,
           null,
           null,
           null,
           null,
           null,
           null,
           null,
           null,
           null,
           null,
           null,
           null,
           null,
           null,
           null,
           null,
           null,
           null,
           null,
           null,
           null,
           null,
           null,
           null,
           null,
           null,
           null,
           null,
           null,
           null,
           null,
           null,
           null,
           null,
           null,
           null,
           null,
           null
          ],
          "type": "scatter",
          "x": [
           1,
           2,
           3,
           4,
           5,
           6,
           7,
           8,
           9,
           10,
           11,
           12,
           13,
           14,
           15,
           16,
           17,
           18,
           19,
           20,
           21,
           22,
           23,
           24,
           25,
           26,
           27,
           28,
           29,
           30,
           31,
           32,
           33,
           34,
           35,
           36,
           37,
           38,
           39,
           40,
           41,
           42,
           43,
           44,
           45,
           46,
           47,
           48,
           49,
           50
          ],
          "xaxis": "x1",
          "y": [
           -1.5106392275996112,
           -1.373675550398953,
           0.29358951769643826,
           -0.36501708249175724,
           -1.0032341707273256,
           -1.6276838015667732,
           -1.1806873330680232,
           -1.5475968966904605,
           -0.8511121573043554,
           -1.0414317983546584,
           -0.13204625715895102,
           -0.02562699150768162,
           0.6305686725857403,
           1.7642783355986111,
           0.8698882346683405,
           1.002666722343954,
           1.4719902051096825,
           1.4671386110781053,
           2.3003869468458387,
           2.9783506583692274,
           2.736182939953784,
           0.369993217826186,
           0.007546474455497498,
           -0.6479534637384997,
           -0.5558186022305589,
           -0.3925860196871821,
           -0.2816919295139282,
           0.5842533454412071,
           0.5956617270623351,
           1.3151590633540597,
           -0.18248938331160036,
           -1.7864076805865694,
           -0.9114822821028085,
           -2.6256716816974284,
           -2.912137449523021,
           -3.240161609906832,
           -4.268122873994315,
           -5.198667875397062,
           -6.322235401445853,
           -7.263672020952535,
           -7.210676210541701,
           -7.0651583765869,
           -6.973039370994695,
           -8.271196442813245,
           -9.46514788300603,
           -7.793567179836868,
           -8.967143726093589,
           -8.499025240818852,
           -8.62847310542072,
           -8.698035440910383
          ],
          "yaxis": "y1",
          "zmax": 0.1,
          "zmin": -0.1
         }
        },
        {
         "fields": {
          "colorbar": {
           "title": ""
          },
          "hoverinfo": "text",
          "legendgroup": "y2",
          "line": {
           "color": "rgba(227, 111, 71, 1.000)",
           "dash": "solid",
           "shape": "linear",
           "width": 1
          },
          "mode": "lines",
          "name": "y2",
          "showlegend": true,
          "text": [
           null,
           null,
           null,
           null,
           null,
           null,
           null,
           null,
           null,
           null,
           null,
           null,
           null,
           null,
           null,
           null,
           null,
           null,
           null,
           null,
           null,
           null,
           null,
           null,
           null,
           null,
           null,
           null,
           null,
           null,
           null,
           null,
           null,
           null,
           null,
           null,
           null,
           null,
           null,
           null,
           null,
           null,
           null,
           null,
           null,
           null,
           null,
           null,
           null,
           null
          ],
          "type": "scatter",
          "x": [
           1,
           2,
           3,
           4,
           5,
           6,
           7,
           8,
           9,
           10,
           11,
           12,
           13,
           14,
           15,
           16,
           17,
           18,
           19,
           20,
           21,
           22,
           23,
           24,
           25,
           26,
           27,
           28,
           29,
           30,
           31,
           32,
           33,
           34,
           35,
           36,
           37,
           38,
           39,
           40,
           41,
           42,
           43,
           44,
           45,
           46,
           47,
           48,
           49,
           50
          ],
          "xaxis": "x1",
          "y": [
           -0.91337181414835,
           0.320054013958988,
           0.48203536350518084,
           0.6854390709732521,
           0.5658631602038785,
           1.30298589920372,
           2.521212275190517,
           3.536684156170022,
           3.2293133104697995,
           4.147772420012074,
           4.419337566472497,
           4.750237248244667,
           5.182692490533849,
           5.24033515025956,
           6.4609412100313195,
           6.24566019097575,
           5.941010460442327,
           5.089555269547881,
           3.3735153483673646,
           2.610224236896665,
           3.1990622081045363,
           4.5102300326682245,
           2.5697277993297405,
           2.470641605448667,
           2.6191384304772276,
           1.828815837259772,
           1.4728226574767946,
           2.9190267073417004,
           4.121970764477983,
           3.9998427859296144,
           4.371003977979592,
           4.852905782541805,
           5.361219727581955,
           5.046402780117592,
           5.022928038323272,
           3.9618151032597817,
           4.592338641193673,
           4.345621919084636,
           4.221440662770926,
           4.417950201461177,
           4.9902980269407005,
           2.8873902344641955,
           2.95779496840601,
           3.5449216490480757,
           4.1929102189912975,
           3.9500998713478284,
           3.7006791422820693,
           4.338044776489137,
           5.182273299277421,
           4.355636157628338
          ],
          "yaxis": "y1",
          "zmax": 0.1,
          "zmin": -0.1
         }
        }
       ],
       "layout": {
        "fields": {
         "annotations": [
          {
           "font": {
            "color": "rgba(0, 0, 0, 1.000)",
            "family": "sans-serif",
            "size": 20
           },
           "rotation": 0,
           "showarrow": false,
           "text": "Random walk",
           "x": 0.5296296296296296,
           "xanchor": "center",
           "xref": "paper",
           "y": 1,
           "yanchor": "top",
           "yref": "paper"
          }
         ],
         "height": 400,
         "legend": {
          "bgcolor": "rgba(255, 255, 255, 1.000)",
          "bordercolor": "rgba(0, 0, 0, 1.000)",
          "font": {
           "color": "rgba(0, 0, 0, 1.000)",
           "family": "sans-serif",
           "size": 11
          },
          "tracegroupgap": 0,
          "x": 1,
          "y": 1
         },
         "margin": {
          "b": 20,
          "l": 0,
          "r": 0,
          "t": 20
         },
         "paper_bgcolor": "rgba(255, 255, 255, 1.000)",
         "plot_bgcolor": "rgba(255, 255, 255, 1.000)",
         "showlegend": true,
         "width": 600,
         "xaxis": {
          "anchor": "y1",
          "domain": [
           0.0658209390492855,
           0.9934383202099738
          ],
          "gridcolor": "rgba(0, 0, 0, 0.100)",
          "gridwidth": 0.5,
          "linecolor": "rgba(0, 0, 0, 1.000)",
          "mirror": false,
          "range": [
           -0.47,
           51.47
          ],
          "showgrid": true,
          "showline": true,
          "showticklabels": true,
          "tickangle": 0,
          "tickcolor": "rgb(0, 0, 0)",
          "tickfont": {
           "color": "rgba(0, 0, 0, 1.000)",
           "family": "sans-serif",
           "size": 11
          },
          "tickmode": "array",
          "ticks": "inside",
          "ticktext": [
           "0",
           "10",
           "20",
           "30",
           "40",
           "50"
          ],
          "tickvals": [
           0,
           10,
           20,
           30,
           40,
           50
          ],
          "title": "time",
          "titlefont": {
           "color": "rgba(0, 0, 0, 1.000)",
           "family": "sans-serif",
           "size": 15
          },
          "type": "-",
          "visible": true,
          "zeroline": false,
          "zerolinecolor": "rgba(0, 0, 0, 1.000)"
         },
         "yaxis": {
          "anchor": "x1",
          "domain": [
           0.07581474190726165,
           0.9415463692038496
          ],
          "gridcolor": "rgba(0, 0, 0, 0.100)",
          "gridwidth": 0.5,
          "linecolor": "rgba(0, 0, 0, 1.000)",
          "mirror": false,
          "range": [
           -9.94293055579715,
           6.93872388282244
          ],
          "showgrid": true,
          "showline": true,
          "showticklabels": true,
          "tickangle": 0,
          "tickcolor": "rgb(0, 0, 0)",
          "tickfont": {
           "color": "rgba(0, 0, 0, 1.000)",
           "family": "sans-serif",
           "size": 11
          },
          "tickmode": "array",
          "ticks": "inside",
          "ticktext": [
           "-7.5",
           "-5.0",
           "-2.5",
           "0.0",
           "2.5",
           "5.0"
          ],
          "tickvals": [
           -7.5,
           -5,
           -2.5,
           0,
           2.5,
           5
          ],
          "title": "",
          "titlefont": {
           "color": "rgba(0, 0, 0, 1.000)",
           "family": "sans-serif",
           "size": 15
          },
          "type": "-",
          "visible": true,
          "zeroline": false,
          "zerolinecolor": "rgba(0, 0, 0, 1.000)"
         }
        }
       }
      },
      "text/html": [
       "<div class='display:none'></div><unsafe-script style='display:none'>\n",
       "WebIO.mount(this.previousSibling,{&quot;props&quot;:{},&quot;nodeType&quot;:&quot;Scope&quot;,&quot;type&quot;:&quot;node&quot;,&quot;instanceArgs&quot;:{&quot;imports&quot;:{&quot;data&quot;:[{&quot;name&quot;:&quot;Plotly&quot;,&quot;type&quot;:&quot;js&quot;,&quot;url&quot;:&quot;/assetserver/254d18be3060c7678300f7ba778b44e52eb1c2e4-plotly-latest.min.js&quot;},{&quot;name&quot;:null,&quot;type&quot;:&quot;js&quot;,&quot;url&quot;:&quot;/assetserver/ec4c921409aae37821fb5130ffdd595a83896c76-plotly_webio.bundle.js&quot;}],&quot;type&quot;:&quot;async_block&quot;},&quot;id&quot;:&quot;scope-5c2474cf-18c8-4e8b-b6bd-e66befddf036&quot;,&quot;handlers&quot;:{&quot;_toImage&quot;:[(function (options){return this.Plotly.toImage(this.plotElem,options).then((function (data){return WebIO.setval({&quot;name&quot;:&quot;image&quot;,&quot;scope&quot;:&quot;scope-5c2474cf-18c8-4e8b-b6bd-e66befddf036&quot;,&quot;id&quot;:&quot;ob_05&quot;,&quot;type&quot;:&quot;observable&quot;},data)}))})],&quot;__get_gd_contents&quot;:[(function (prop){prop==&quot;data&quot; ? (WebIO.setval({&quot;name&quot;:&quot;__gd_contents&quot;,&quot;scope&quot;:&quot;scope-5c2474cf-18c8-4e8b-b6bd-e66befddf036&quot;,&quot;id&quot;:&quot;ob_06&quot;,&quot;type&quot;:&quot;observable&quot;},this.plotElem.data)) : undefined; return prop==&quot;layout&quot; ? (WebIO.setval({&quot;name&quot;:&quot;__gd_contents&quot;,&quot;scope&quot;:&quot;scope-5c2474cf-18c8-4e8b-b6bd-e66befddf036&quot;,&quot;id&quot;:&quot;ob_06&quot;,&quot;type&quot;:&quot;observable&quot;},this.plotElem.layout)) : undefined})],&quot;_promises&quot;:{&quot;importsLoaded&quot;:[(function (Plotly){var gd=this.dom.querySelector(&quot;#plot-320c783f-4c66-4b20-93cb-24a3b4ff9c77&quot;); this.plotElem=gd; this.Plotly=Plotly; (window.Blink!==undefined) ? (gd.style.width=&quot;100%&quot;, gd.style.height=&quot;100vh&quot;, gd.style.marginLeft=&quot;0%&quot;, gd.style.marginTop=&quot;0vh&quot;) : undefined; window.onresize=(function (){return Plotly.Plots.resize(gd)}); Plotly.newPlot(gd,[],{&quot;margin&quot;:{&quot;l&quot;:50,&quot;b&quot;:50,&quot;r&quot;:50,&quot;t&quot;:60}},{}); gd.on(&quot;plotly_hover&quot;,(function (data){var filtered_data=WebIO.PlotlyCommands.filterEventData(gd,data,&quot;hover&quot;); return !(filtered_data.isnil) ? (WebIO.setval({&quot;name&quot;:&quot;hover&quot;,&quot;scope&quot;:&quot;scope-5c2474cf-18c8-4e8b-b6bd-e66befddf036&quot;,&quot;id&quot;:&quot;ob_01&quot;,&quot;type&quot;:&quot;observable&quot;},filtered_data.out)) : undefined})); gd.on(&quot;plotly_unhover&quot;,(function (){return WebIO.setval({&quot;name&quot;:&quot;hover&quot;,&quot;scope&quot;:&quot;scope-5c2474cf-18c8-4e8b-b6bd-e66befddf036&quot;,&quot;id&quot;:&quot;ob_01&quot;,&quot;type&quot;:&quot;observable&quot;},{})})); gd.on(&quot;plotly_selected&quot;,(function (data){var filtered_data=WebIO.PlotlyCommands.filterEventData(gd,data,&quot;selected&quot;); return !(filtered_data.isnil) ? (WebIO.setval({&quot;name&quot;:&quot;selected&quot;,&quot;scope&quot;:&quot;scope-5c2474cf-18c8-4e8b-b6bd-e66befddf036&quot;,&quot;id&quot;:&quot;ob_02&quot;,&quot;type&quot;:&quot;observable&quot;},filtered_data.out)) : undefined})); gd.on(&quot;plotly_deselect&quot;,(function (){return WebIO.setval({&quot;name&quot;:&quot;selected&quot;,&quot;scope&quot;:&quot;scope-5c2474cf-18c8-4e8b-b6bd-e66befddf036&quot;,&quot;id&quot;:&quot;ob_02&quot;,&quot;type&quot;:&quot;observable&quot;},{})})); gd.on(&quot;plotly_relayout&quot;,(function (data){var filtered_data=WebIO.PlotlyCommands.filterEventData(gd,data,&quot;relayout&quot;); return !(filtered_data.isnil) ? (WebIO.setval({&quot;name&quot;:&quot;relayout&quot;,&quot;scope&quot;:&quot;scope-5c2474cf-18c8-4e8b-b6bd-e66befddf036&quot;,&quot;id&quot;:&quot;ob_04&quot;,&quot;type&quot;:&quot;observable&quot;},filtered_data.out)) : undefined})); return gd.on(&quot;plotly_click&quot;,(function (data){var filtered_data=WebIO.PlotlyCommands.filterEventData(gd,data,&quot;click&quot;); return !(filtered_data.isnil) ? (WebIO.setval({&quot;name&quot;:&quot;click&quot;,&quot;scope&quot;:&quot;scope-5c2474cf-18c8-4e8b-b6bd-e66befddf036&quot;,&quot;id&quot;:&quot;ob_03&quot;,&quot;type&quot;:&quot;observable&quot;},filtered_data.out)) : undefined}))})]},&quot;_downloadImage&quot;:[(function (options){return this.Plotly.downloadImage(this.plotElem,options)})],&quot;_commands&quot;:[(function (args){var fn=args.shift(); var elem=this.plotElem; var Plotly=this.Plotly; args.unshift(elem); return Plotly[fn].apply(this,args)})]},&quot;systemjs_options&quot;:null,&quot;observables&quot;:{&quot;_toImage&quot;:{&quot;sync&quot;:false,&quot;id&quot;:&quot;ob_08&quot;,&quot;value&quot;:{}},&quot;hover&quot;:{&quot;sync&quot;:false,&quot;id&quot;:&quot;ob_01&quot;,&quot;value&quot;:{}},&quot;selected&quot;:{&quot;sync&quot;:false,&quot;id&quot;:&quot;ob_02&quot;,&quot;value&quot;:{}},&quot;__gd_contents&quot;:{&quot;sync&quot;:false,&quot;id&quot;:&quot;ob_06&quot;,&quot;value&quot;:{}},&quot;click&quot;:{&quot;sync&quot;:false,&quot;id&quot;:&quot;ob_03&quot;,&quot;value&quot;:{}},&quot;image&quot;:{&quot;sync&quot;:true,&quot;id&quot;:&quot;ob_05&quot;,&quot;value&quot;:&quot;&quot;},&quot;__get_gd_contents&quot;:{&quot;sync&quot;:false,&quot;id&quot;:&quot;ob_10&quot;,&quot;value&quot;:&quot;&quot;},&quot;_downloadImage&quot;:{&quot;sync&quot;:false,&quot;id&quot;:&quot;ob_09&quot;,&quot;value&quot;:{}},&quot;relayout&quot;:{&quot;sync&quot;:false,&quot;id&quot;:&quot;ob_04&quot;,&quot;value&quot;:{}},&quot;_commands&quot;:{&quot;sync&quot;:false,&quot;id&quot;:&quot;ob_07&quot;,&quot;value&quot;:[&quot;relayout&quot;,{&quot;showlegend&quot;:true,&quot;xaxis&quot;:{&quot;showticklabels&quot;:true,&quot;gridwidth&quot;:0.5,&quot;tickvals&quot;:[0.0,10.0,20.0,30.0,40.0,50.0],&quot;visible&quot;:true,&quot;ticks&quot;:&quot;inside&quot;,&quot;range&quot;:[-0.47,51.47],&quot;domain&quot;:[0.0658209390492855,0.9934383202099738],&quot;tickmode&quot;:&quot;array&quot;,&quot;linecolor&quot;:&quot;rgba(0, 0, 0, 1.000)&quot;,&quot;showgrid&quot;:true,&quot;title&quot;:&quot;time&quot;,&quot;mirror&quot;:false,&quot;tickangle&quot;:0,&quot;showline&quot;:true,&quot;gridcolor&quot;:&quot;rgba(0, 0, 0, 0.100)&quot;,&quot;titlefont&quot;:{&quot;color&quot;:&quot;rgba(0, 0, 0, 1.000)&quot;,&quot;family&quot;:&quot;sans-serif&quot;,&quot;size&quot;:15},&quot;tickcolor&quot;:&quot;rgb(0, 0, 0)&quot;,&quot;ticktext&quot;:[&quot;0&quot;,&quot;10&quot;,&quot;20&quot;,&quot;30&quot;,&quot;40&quot;,&quot;50&quot;],&quot;zeroline&quot;:false,&quot;type&quot;:&quot;-&quot;,&quot;tickfont&quot;:{&quot;color&quot;:&quot;rgba(0, 0, 0, 1.000)&quot;,&quot;family&quot;:&quot;sans-serif&quot;,&quot;size&quot;:11},&quot;zerolinecolor&quot;:&quot;rgba(0, 0, 0, 1.000)&quot;,&quot;anchor&quot;:&quot;y1&quot;},&quot;paper_bgcolor&quot;:&quot;rgba(255, 255, 255, 1.000)&quot;,&quot;annotations&quot;:[{&quot;yanchor&quot;:&quot;top&quot;,&quot;xanchor&quot;:&quot;center&quot;,&quot;rotation&quot;:-0.0,&quot;y&quot;:1.0,&quot;font&quot;:{&quot;color&quot;:&quot;rgba(0, 0, 0, 1.000)&quot;,&quot;family&quot;:&quot;sans-serif&quot;,&quot;size&quot;:20},&quot;yref&quot;:&quot;paper&quot;,&quot;showarrow&quot;:false,&quot;text&quot;:&quot;Random walk&quot;,&quot;xref&quot;:&quot;paper&quot;,&quot;x&quot;:0.5296296296296296}],&quot;height&quot;:400,&quot;margin&quot;:{&quot;l&quot;:0,&quot;b&quot;:20,&quot;r&quot;:0,&quot;t&quot;:20},&quot;plot_bgcolor&quot;:&quot;rgba(255, 255, 255, 1.000)&quot;,&quot;yaxis&quot;:{&quot;showticklabels&quot;:true,&quot;gridwidth&quot;:0.5,&quot;tickvals&quot;:[-7.5,-5.0,-2.5,0.0,2.5,5.0],&quot;visible&quot;:true,&quot;ticks&quot;:&quot;inside&quot;,&quot;range&quot;:[-9.94293055579715,6.93872388282244],&quot;domain&quot;:[0.07581474190726165,0.9415463692038496],&quot;tickmode&quot;:&quot;array&quot;,&quot;linecolor&quot;:&quot;rgba(0, 0, 0, 1.000)&quot;,&quot;showgrid&quot;:true,&quot;title&quot;:&quot;&quot;,&quot;mirror&quot;:false,&quot;tickangle&quot;:0,&quot;showline&quot;:true,&quot;gridcolor&quot;:&quot;rgba(0, 0, 0, 0.100)&quot;,&quot;titlefont&quot;:{&quot;color&quot;:&quot;rgba(0, 0, 0, 1.000)&quot;,&quot;family&quot;:&quot;sans-serif&quot;,&quot;size&quot;:15},&quot;tickcolor&quot;:&quot;rgb(0, 0, 0)&quot;,&quot;ticktext&quot;:[&quot;-7.5&quot;,&quot;-5.0&quot;,&quot;-2.5&quot;,&quot;0.0&quot;,&quot;2.5&quot;,&quot;5.0&quot;],&quot;zeroline&quot;:false,&quot;type&quot;:&quot;-&quot;,&quot;tickfont&quot;:{&quot;color&quot;:&quot;rgba(0, 0, 0, 1.000)&quot;,&quot;family&quot;:&quot;sans-serif&quot;,&quot;size&quot;:11},&quot;zerolinecolor&quot;:&quot;rgba(0, 0, 0, 1.000)&quot;,&quot;anchor&quot;:&quot;x1&quot;},&quot;legend&quot;:{&quot;tracegroupgap&quot;:0,&quot;bordercolor&quot;:&quot;rgba(0, 0, 0, 1.000)&quot;,&quot;bgcolor&quot;:&quot;rgba(255, 255, 255, 1.000)&quot;,&quot;font&quot;:{&quot;color&quot;:&quot;rgba(0, 0, 0, 1.000)&quot;,&quot;family&quot;:&quot;sans-serif&quot;,&quot;size&quot;:11},&quot;y&quot;:1.0,&quot;x&quot;:1.0},&quot;width&quot;:600}]}}},&quot;children&quot;:[{&quot;props&quot;:{&quot;id&quot;:&quot;plot-320c783f-4c66-4b20-93cb-24a3b4ff9c77&quot;},&quot;nodeType&quot;:&quot;DOM&quot;,&quot;type&quot;:&quot;node&quot;,&quot;instanceArgs&quot;:{&quot;namespace&quot;:&quot;html&quot;,&quot;tag&quot;:&quot;div&quot;},&quot;children&quot;:[]}]})</unsafe-script>"
      ]
     },
     "execution_count": 144,
     "metadata": {},
     "output_type": "execute_result"
    }
   ],
   "source": [
    "# Pkg.add(\"PlotlyJS\")\n",
    "plotlyjs()  # change backend to Plotly\n",
    "plot(x, title=\"Random walk\", xlab=\"time\")"
   ]
  },
  {
   "cell_type": "code",
   "execution_count": 145,
   "metadata": {},
   "outputs": [
    {
     "data": {
      "image/svg+xml": [
       "<?xml version=\"1.0\" encoding=\"utf-8\"?>\n",
       "<svg xmlns=\"http://www.w3.org/2000/svg\" xmlns:xlink=\"http://www.w3.org/1999/xlink\" width=\"600\" height=\"400\" viewBox=\"0 0 2400 1600\">\n",
       "<defs>\n",
       "  <clipPath id=\"clip9400\">\n",
       "    <rect x=\"0\" y=\"0\" width=\"2000\" height=\"2000\"/>\n",
       "  </clipPath>\n",
       "</defs>\n",
       "<defs>\n",
       "  <clipPath id=\"clip9401\">\n",
       "    <rect x=\"0\" y=\"0\" width=\"2400\" height=\"1600\"/>\n",
       "  </clipPath>\n",
       "</defs>\n",
       "<polygon clip-path=\"url(#clip9401)\" points=\"\n",
       "0,1600 2400,1600 2400,0 0,0 \n",
       "  \" fill=\"#ffffff\" fill-rule=\"evenodd\" fill-opacity=\"1\"/>\n",
       "<defs>\n",
       "  <clipPath id=\"clip9402\">\n",
       "    <rect x=\"480\" y=\"0\" width=\"1681\" height=\"1600\"/>\n",
       "  </clipPath>\n",
       "</defs>\n",
       "<polygon clip-path=\"url(#clip9401)\" points=\"\n",
       "189.504,1440.48 2321.26,1440.48 2321.26,125.984 189.504,125.984 \n",
       "  \" fill=\"#ffffff\" fill-rule=\"evenodd\" fill-opacity=\"1\"/>\n",
       "<defs>\n",
       "  <clipPath id=\"clip9403\">\n",
       "    <rect x=\"189\" y=\"125\" width=\"2133\" height=\"1315\"/>\n",
       "  </clipPath>\n",
       "</defs>\n",
       "<polyline clip-path=\"url(#clip9403)\" style=\"stroke:#000000; stroke-width:2; stroke-opacity:0.1; fill:none\" points=\"\n",
       "  208.794,1440.48 208.794,125.984 \n",
       "  \"/>\n",
       "<polyline clip-path=\"url(#clip9403)\" style=\"stroke:#000000; stroke-width:2; stroke-opacity:0.1; fill:none\" points=\"\n",
       "  619.221,1440.48 619.221,125.984 \n",
       "  \"/>\n",
       "<polyline clip-path=\"url(#clip9403)\" style=\"stroke:#000000; stroke-width:2; stroke-opacity:0.1; fill:none\" points=\"\n",
       "  1029.65,1440.48 1029.65,125.984 \n",
       "  \"/>\n",
       "<polyline clip-path=\"url(#clip9403)\" style=\"stroke:#000000; stroke-width:2; stroke-opacity:0.1; fill:none\" points=\"\n",
       "  1440.07,1440.48 1440.07,125.984 \n",
       "  \"/>\n",
       "<polyline clip-path=\"url(#clip9403)\" style=\"stroke:#000000; stroke-width:2; stroke-opacity:0.1; fill:none\" points=\"\n",
       "  1850.5,1440.48 1850.5,125.984 \n",
       "  \"/>\n",
       "<polyline clip-path=\"url(#clip9403)\" style=\"stroke:#000000; stroke-width:2; stroke-opacity:0.1; fill:none\" points=\"\n",
       "  2260.93,1440.48 2260.93,125.984 \n",
       "  \"/>\n",
       "<polyline clip-path=\"url(#clip9403)\" style=\"stroke:#000000; stroke-width:2; stroke-opacity:0.1; fill:none\" points=\"\n",
       "  189.504,1250.26 2321.26,1250.26 \n",
       "  \"/>\n",
       "<polyline clip-path=\"url(#clip9403)\" style=\"stroke:#000000; stroke-width:2; stroke-opacity:0.1; fill:none\" points=\"\n",
       "  189.504,1055.6 2321.26,1055.6 \n",
       "  \"/>\n",
       "<polyline clip-path=\"url(#clip9403)\" style=\"stroke:#000000; stroke-width:2; stroke-opacity:0.1; fill:none\" points=\"\n",
       "  189.504,860.935 2321.26,860.935 \n",
       "  \"/>\n",
       "<polyline clip-path=\"url(#clip9403)\" style=\"stroke:#000000; stroke-width:2; stroke-opacity:0.1; fill:none\" points=\"\n",
       "  189.504,666.271 2321.26,666.271 \n",
       "  \"/>\n",
       "<polyline clip-path=\"url(#clip9403)\" style=\"stroke:#000000; stroke-width:2; stroke-opacity:0.1; fill:none\" points=\"\n",
       "  189.504,471.608 2321.26,471.608 \n",
       "  \"/>\n",
       "<polyline clip-path=\"url(#clip9403)\" style=\"stroke:#000000; stroke-width:2; stroke-opacity:0.1; fill:none\" points=\"\n",
       "  189.504,276.944 2321.26,276.944 \n",
       "  \"/>\n",
       "<polyline clip-path=\"url(#clip9401)\" style=\"stroke:#000000; stroke-width:4; stroke-opacity:1; fill:none\" points=\"\n",
       "  189.504,1440.48 2321.26,1440.48 \n",
       "  \"/>\n",
       "<polyline clip-path=\"url(#clip9401)\" style=\"stroke:#000000; stroke-width:4; stroke-opacity:1; fill:none\" points=\"\n",
       "  189.504,1440.48 189.504,125.984 \n",
       "  \"/>\n",
       "<polyline clip-path=\"url(#clip9401)\" style=\"stroke:#000000; stroke-width:4; stroke-opacity:1; fill:none\" points=\"\n",
       "  208.794,1440.48 208.794,1420.77 \n",
       "  \"/>\n",
       "<polyline clip-path=\"url(#clip9401)\" style=\"stroke:#000000; stroke-width:4; stroke-opacity:1; fill:none\" points=\"\n",
       "  619.221,1440.48 619.221,1420.77 \n",
       "  \"/>\n",
       "<polyline clip-path=\"url(#clip9401)\" style=\"stroke:#000000; stroke-width:4; stroke-opacity:1; fill:none\" points=\"\n",
       "  1029.65,1440.48 1029.65,1420.77 \n",
       "  \"/>\n",
       "<polyline clip-path=\"url(#clip9401)\" style=\"stroke:#000000; stroke-width:4; stroke-opacity:1; fill:none\" points=\"\n",
       "  1440.07,1440.48 1440.07,1420.77 \n",
       "  \"/>\n",
       "<polyline clip-path=\"url(#clip9401)\" style=\"stroke:#000000; stroke-width:4; stroke-opacity:1; fill:none\" points=\"\n",
       "  1850.5,1440.48 1850.5,1420.77 \n",
       "  \"/>\n",
       "<polyline clip-path=\"url(#clip9401)\" style=\"stroke:#000000; stroke-width:4; stroke-opacity:1; fill:none\" points=\"\n",
       "  2260.93,1440.48 2260.93,1420.77 \n",
       "  \"/>\n",
       "<polyline clip-path=\"url(#clip9401)\" style=\"stroke:#000000; stroke-width:4; stroke-opacity:1; fill:none\" points=\"\n",
       "  189.504,1250.26 221.48,1250.26 \n",
       "  \"/>\n",
       "<polyline clip-path=\"url(#clip9401)\" style=\"stroke:#000000; stroke-width:4; stroke-opacity:1; fill:none\" points=\"\n",
       "  189.504,1055.6 221.48,1055.6 \n",
       "  \"/>\n",
       "<polyline clip-path=\"url(#clip9401)\" style=\"stroke:#000000; stroke-width:4; stroke-opacity:1; fill:none\" points=\"\n",
       "  189.504,860.935 221.48,860.935 \n",
       "  \"/>\n",
       "<polyline clip-path=\"url(#clip9401)\" style=\"stroke:#000000; stroke-width:4; stroke-opacity:1; fill:none\" points=\"\n",
       "  189.504,666.271 221.48,666.271 \n",
       "  \"/>\n",
       "<polyline clip-path=\"url(#clip9401)\" style=\"stroke:#000000; stroke-width:4; stroke-opacity:1; fill:none\" points=\"\n",
       "  189.504,471.608 221.48,471.608 \n",
       "  \"/>\n",
       "<polyline clip-path=\"url(#clip9401)\" style=\"stroke:#000000; stroke-width:4; stroke-opacity:1; fill:none\" points=\"\n",
       "  189.504,276.944 221.48,276.944 \n",
       "  \"/>\n",
       "<g clip-path=\"url(#clip9401)\">\n",
       "<text style=\"fill:#000000; fill-opacity:1; font-family:Arial,Helvetica Neue,Helvetica,sans-serif; font-size:48px; text-anchor:middle;\" transform=\"rotate(0, 208.794, 1494.48)\" x=\"208.794\" y=\"1494.48\">0</text>\n",
       "</g>\n",
       "<g clip-path=\"url(#clip9401)\">\n",
       "<text style=\"fill:#000000; fill-opacity:1; font-family:Arial,Helvetica Neue,Helvetica,sans-serif; font-size:48px; text-anchor:middle;\" transform=\"rotate(0, 619.221, 1494.48)\" x=\"619.221\" y=\"1494.48\">10</text>\n",
       "</g>\n",
       "<g clip-path=\"url(#clip9401)\">\n",
       "<text style=\"fill:#000000; fill-opacity:1; font-family:Arial,Helvetica Neue,Helvetica,sans-serif; font-size:48px; text-anchor:middle;\" transform=\"rotate(0, 1029.65, 1494.48)\" x=\"1029.65\" y=\"1494.48\">20</text>\n",
       "</g>\n",
       "<g clip-path=\"url(#clip9401)\">\n",
       "<text style=\"fill:#000000; fill-opacity:1; font-family:Arial,Helvetica Neue,Helvetica,sans-serif; font-size:48px; text-anchor:middle;\" transform=\"rotate(0, 1440.07, 1494.48)\" x=\"1440.07\" y=\"1494.48\">30</text>\n",
       "</g>\n",
       "<g clip-path=\"url(#clip9401)\">\n",
       "<text style=\"fill:#000000; fill-opacity:1; font-family:Arial,Helvetica Neue,Helvetica,sans-serif; font-size:48px; text-anchor:middle;\" transform=\"rotate(0, 1850.5, 1494.48)\" x=\"1850.5\" y=\"1494.48\">40</text>\n",
       "</g>\n",
       "<g clip-path=\"url(#clip9401)\">\n",
       "<text style=\"fill:#000000; fill-opacity:1; font-family:Arial,Helvetica Neue,Helvetica,sans-serif; font-size:48px; text-anchor:middle;\" transform=\"rotate(0, 2260.93, 1494.48)\" x=\"2260.93\" y=\"1494.48\">50</text>\n",
       "</g>\n",
       "<g clip-path=\"url(#clip9401)\">\n",
       "<text style=\"fill:#000000; fill-opacity:1; font-family:Arial,Helvetica Neue,Helvetica,sans-serif; font-size:48px; text-anchor:end;\" transform=\"rotate(0, 165.504, 1267.76)\" x=\"165.504\" y=\"1267.76\">-7.5</text>\n",
       "</g>\n",
       "<g clip-path=\"url(#clip9401)\">\n",
       "<text style=\"fill:#000000; fill-opacity:1; font-family:Arial,Helvetica Neue,Helvetica,sans-serif; font-size:48px; text-anchor:end;\" transform=\"rotate(0, 165.504, 1073.1)\" x=\"165.504\" y=\"1073.1\">-5.0</text>\n",
       "</g>\n",
       "<g clip-path=\"url(#clip9401)\">\n",
       "<text style=\"fill:#000000; fill-opacity:1; font-family:Arial,Helvetica Neue,Helvetica,sans-serif; font-size:48px; text-anchor:end;\" transform=\"rotate(0, 165.504, 878.435)\" x=\"165.504\" y=\"878.435\">-2.5</text>\n",
       "</g>\n",
       "<g clip-path=\"url(#clip9401)\">\n",
       "<text style=\"fill:#000000; fill-opacity:1; font-family:Arial,Helvetica Neue,Helvetica,sans-serif; font-size:48px; text-anchor:end;\" transform=\"rotate(0, 165.504, 683.771)\" x=\"165.504\" y=\"683.771\">0.0</text>\n",
       "</g>\n",
       "<g clip-path=\"url(#clip9401)\">\n",
       "<text style=\"fill:#000000; fill-opacity:1; font-family:Arial,Helvetica Neue,Helvetica,sans-serif; font-size:48px; text-anchor:end;\" transform=\"rotate(0, 165.504, 489.108)\" x=\"165.504\" y=\"489.108\">2.5</text>\n",
       "</g>\n",
       "<g clip-path=\"url(#clip9401)\">\n",
       "<text style=\"fill:#000000; fill-opacity:1; font-family:Arial,Helvetica Neue,Helvetica,sans-serif; font-size:48px; text-anchor:end;\" transform=\"rotate(0, 165.504, 294.444)\" x=\"165.504\" y=\"294.444\">5.0</text>\n",
       "</g>\n",
       "<g clip-path=\"url(#clip9401)\">\n",
       "<text style=\"fill:#000000; fill-opacity:1; font-family:Arial,Helvetica Neue,Helvetica,sans-serif; font-size:84px; text-anchor:middle;\" transform=\"rotate(0, 1255.38, 73.2)\" x=\"1255.38\" y=\"73.2\">Random walk</text>\n",
       "</g>\n",
       "<g clip-path=\"url(#clip9401)\">\n",
       "<text style=\"fill:#000000; fill-opacity:1; font-family:Arial,Helvetica Neue,Helvetica,sans-serif; font-size:66px; text-anchor:middle;\" transform=\"rotate(0, 1255.38, 1590.4)\" x=\"1255.38\" y=\"1590.4\">time</text>\n",
       "</g>\n",
       "<polyline clip-path=\"url(#clip9403)\" style=\"stroke:#009af9; stroke-width:4; stroke-opacity:1; fill:none\" points=\"\n",
       "  249.837,783.898 290.879,773.233 331.922,643.411 372.965,694.694 414.007,744.389 455.05,793.012 496.093,758.206 537.135,786.776 578.178,732.544 619.221,747.363 \n",
       "  660.263,676.553 701.306,668.267 742.349,617.172 783.391,528.895 824.434,598.537 865.477,588.198 906.519,551.654 947.562,552.032 988.605,487.151 1029.65,434.361 \n",
       "  1070.69,453.217 1111.73,637.462 1152.78,665.684 1193.82,716.725 1234.86,709.55 1275.9,696.84 1316.95,688.205 1357.99,620.778 1399.03,619.89 1440.07,563.866 \n",
       "  1481.12,680.481 1522.16,805.371 1563.2,737.244 1604.24,870.721 1645.29,893.026 1686.33,918.568 1727.37,998.611 1768.42,1071.07 1809.46,1158.56 1850.5,1231.86 \n",
       "  1891.54,1227.73 1932.59,1216.4 1973.63,1209.23 2014.67,1310.31 2055.71,1403.28 2096.76,1273.12 2137.8,1364.5 2178.84,1328.05 2219.88,1338.13 2260.93,1343.55 \n",
       "  \n",
       "  \"/>\n",
       "<polyline clip-path=\"url(#clip9403)\" style=\"stroke:#e26f46; stroke-width:4; stroke-opacity:1; fill:none\" points=\"\n",
       "  249.837,737.392 290.879,641.35 331.922,628.737 372.965,612.899 414.007,622.21 455.05,564.814 496.093,469.956 537.135,390.886 578.178,414.819 619.221,343.303 \n",
       "  660.263,322.158 701.306,296.392 742.349,262.719 783.391,258.23 824.434,163.187 865.477,179.95 906.519,203.672 947.562,269.971 988.605,403.591 1029.65,463.025 \n",
       "  1070.69,417.175 1111.73,315.08 1152.78,466.178 1193.82,473.894 1234.86,462.331 1275.9,523.87 1316.95,551.589 1357.99,438.98 1399.03,345.312 1440.07,354.822 \n",
       "  1481.12,325.921 1522.16,288.398 1563.2,248.817 1604.24,273.331 1645.29,275.159 1686.33,357.783 1727.37,308.687 1768.42,327.897 1809.46,337.567 1850.5,322.266 \n",
       "  1891.54,277.699 1932.59,441.443 1973.63,435.961 2014.67,390.244 2055.71,339.788 2096.76,358.695 2137.8,378.116 2178.84,328.487 2219.88,262.751 2260.93,327.118 \n",
       "  \n",
       "  \"/>\n",
       "<polygon clip-path=\"url(#clip9401)\" points=\"\n",
       "1958.43,390.944 2249.26,390.944 2249.26,209.504 1958.43,209.504 \n",
       "  \" fill=\"#ffffff\" fill-rule=\"evenodd\" fill-opacity=\"1\"/>\n",
       "<polyline clip-path=\"url(#clip9401)\" style=\"stroke:#000000; stroke-width:4; stroke-opacity:1; fill:none\" points=\"\n",
       "  1958.43,390.944 2249.26,390.944 2249.26,209.504 1958.43,209.504 1958.43,390.944 \n",
       "  \"/>\n",
       "<polyline clip-path=\"url(#clip9401)\" style=\"stroke:#009af9; stroke-width:4; stroke-opacity:1; fill:none\" points=\"\n",
       "  1982.43,269.984 2126.43,269.984 \n",
       "  \"/>\n",
       "<g clip-path=\"url(#clip9401)\">\n",
       "<text style=\"fill:#000000; fill-opacity:1; font-family:Arial,Helvetica Neue,Helvetica,sans-serif; font-size:48px; text-anchor:start;\" transform=\"rotate(0, 2150.43, 287.484)\" x=\"2150.43\" y=\"287.484\">y1</text>\n",
       "</g>\n",
       "<polyline clip-path=\"url(#clip9401)\" style=\"stroke:#e26f46; stroke-width:4; stroke-opacity:1; fill:none\" points=\"\n",
       "  1982.43,330.464 2126.43,330.464 \n",
       "  \"/>\n",
       "<g clip-path=\"url(#clip9401)\">\n",
       "<text style=\"fill:#000000; fill-opacity:1; font-family:Arial,Helvetica Neue,Helvetica,sans-serif; font-size:48px; text-anchor:start;\" transform=\"rotate(0, 2150.43, 347.964)\" x=\"2150.43\" y=\"347.964\">y2</text>\n",
       "</g>\n",
       "</svg>\n"
      ]
     },
     "execution_count": 145,
     "metadata": {},
     "output_type": "execute_result"
    }
   ],
   "source": [
    "gr()   # change backend to GR\n",
    "plot(x, title=\"Random walk\", xlab=\"time\")"
   ]
  },
  {
   "cell_type": "code",
   "execution_count": 146,
   "metadata": {},
   "outputs": [
    {
     "name": "stderr",
     "output_type": "stream",
     "text": [
      "┌ Info: Saved animation to \n",
      "│   fn = /Users/huazhou/Documents/github.com/Hua-Zhou.github.io/teaching/biostatm280-2019spring/slides/02-juliaintro/tmp.gif\n",
      "└ @ Plots /Users/huazhou/.julia/packages/Plots/QYETN/src/animation.jl:90\n"
     ]
    }
   ],
   "source": [
    "gr()\n",
    "@gif for i in 1:20\n",
    "    plot(x -> sin(x) / (.2i), 0, i, xlim=(0, 20), ylim=(-.75, .75))\n",
    "    scatter!(x -> cos(x) * .01 * i, 0, i, m=1)\n",
    "end;"
   ]
  },
  {
   "cell_type": "markdown",
   "metadata": {},
   "source": [
    "<img src=\"./tmp.gif\" style=\"width: 600px;\"/>"
   ]
  },
  {
   "cell_type": "code",
   "execution_count": 147,
   "metadata": {},
   "outputs": [
    {
     "name": "stdout",
     "output_type": "stream",
     "text": [
      "Julia Version 1.1.0\n",
      "Commit 80516ca202 (2019-01-21 21:24 UTC)\n",
      "Platform Info:\n",
      "  OS: macOS (x86_64-apple-darwin14.5.0)\n",
      "  CPU: Intel(R) Core(TM) i7-6920HQ CPU @ 2.90GHz\n",
      "  WORD_SIZE: 64\n",
      "  LIBM: libopenlibm\n",
      "  LLVM: libLLVM-6.0.1 (ORCJIT, skylake)\n",
      "Environment:\n",
      "  JULIA_EDITOR = code\n"
     ]
    }
   ],
   "source": [
    "versioninfo()"
   ]
  }
 ],
 "metadata": {
  "kernelspec": {
   "display_name": "Julia 1.1.0",
   "language": "julia",
   "name": "julia-1.1"
  },
  "language_info": {
   "file_extension": ".jl",
   "mimetype": "application/julia",
   "name": "julia",
   "version": "1.1.0"
  },
  "livereveal": {
   "scroll": true,
   "start_slideshow_at": "selected"
  },
  "toc": {
   "colors": {
    "hover_highlight": "#DAA520",
    "running_highlight": "#FF0000",
    "selected_highlight": "#FFD700"
   },
   "moveMenuLeft": true,
   "nav_menu": {
    "height": "512px",
    "width": "252px"
   },
   "navigate_menu": true,
   "number_sections": true,
   "sideBar": true,
   "threshold": 4,
   "toc_cell": true,
   "toc_position": {
    "height": "674px",
    "left": "0px",
    "right": "1121.0462646484375px",
    "top": "105px",
    "width": "212px"
   },
   "toc_section_display": "block",
   "toc_window_display": true,
   "widenNotebook": false
  }
 },
 "nbformat": 4,
 "nbformat_minor": 2
}
