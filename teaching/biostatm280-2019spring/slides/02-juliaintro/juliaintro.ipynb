{
 "cells": [
  {
   "cell_type": "markdown",
   "metadata": {
    "toc": "true"
   },
   "source": [
    "# Table of Contents\n",
    " <p><div class=\"lev1 toc-item\"><a href=\"#Introduction-to-Julia\" data-toc-modified-id=\"Introduction-to-Julia-1\"><span class=\"toc-item-num\">1&nbsp;&nbsp;</span>Introduction to Julia</a></div><div class=\"lev2 toc-item\"><a href=\"#Types-of-computer-languages\" data-toc-modified-id=\"Types-of-computer-languages-11\"><span class=\"toc-item-num\">1.1&nbsp;&nbsp;</span>Types of computer languages</a></div><div class=\"lev2 toc-item\"><a href=\"#Messages\" data-toc-modified-id=\"Messages-12\"><span class=\"toc-item-num\">1.2&nbsp;&nbsp;</span>Messages</a></div><div class=\"lev2 toc-item\"><a href=\"#What's-Julia?\" data-toc-modified-id=\"What's-Julia?-13\"><span class=\"toc-item-num\">1.3&nbsp;&nbsp;</span>What's Julia?</a></div><div class=\"lev2 toc-item\"><a href=\"#R-is-great,-but...\" data-toc-modified-id=\"R-is-great,-but...-14\"><span class=\"toc-item-num\">1.4&nbsp;&nbsp;</span>R is great, but...</a></div><div class=\"lev2 toc-item\"><a href=\"#Gibbs-sampler-example-by-Doug-Bates\" data-toc-modified-id=\"Gibbs-sampler-example-by-Doug-Bates-15\"><span class=\"toc-item-num\">1.5&nbsp;&nbsp;</span>Gibbs sampler example by Doug Bates</a></div><div class=\"lev2 toc-item\"><a href=\"#Learning-resources\" data-toc-modified-id=\"Learning-resources-16\"><span class=\"toc-item-num\">1.6&nbsp;&nbsp;</span>Learning resources</a></div><div class=\"lev2 toc-item\"><a href=\"#Julia-REPL-(Read-Evaluation-Print-Loop)\" data-toc-modified-id=\"Julia-REPL-(Read-Evaluation-Print-Loop)-17\"><span class=\"toc-item-num\">1.7&nbsp;&nbsp;</span>Julia REPL (Read-Evaluation-Print-Loop)</a></div><div class=\"lev2 toc-item\"><a href=\"#Seek-help\" data-toc-modified-id=\"Seek-help-18\"><span class=\"toc-item-num\">1.8&nbsp;&nbsp;</span>Seek help</a></div><div class=\"lev2 toc-item\"><a href=\"#Which-IDE?\" data-toc-modified-id=\"Which-IDE?-19\"><span class=\"toc-item-num\">1.9&nbsp;&nbsp;</span>Which IDE?</a></div><div class=\"lev2 toc-item\"><a href=\"#Julia-package-system\" data-toc-modified-id=\"Julia-package-system-110\"><span class=\"toc-item-num\">1.10&nbsp;&nbsp;</span>Julia package system</a></div><div class=\"lev2 toc-item\"><a href=\"#Calling-R-from-Julia\" data-toc-modified-id=\"Calling-R-from-Julia-111\"><span class=\"toc-item-num\">1.11&nbsp;&nbsp;</span>Calling R from Julia</a></div><div class=\"lev2 toc-item\"><a href=\"#Some-basic-Julia-code\" data-toc-modified-id=\"Some-basic-Julia-code-112\"><span class=\"toc-item-num\">1.12&nbsp;&nbsp;</span>Some basic Julia code</a></div><div class=\"lev2 toc-item\"><a href=\"#Timing-and-benchmark\" data-toc-modified-id=\"Timing-and-benchmark-113\"><span class=\"toc-item-num\">1.13&nbsp;&nbsp;</span>Timing and benchmark</a></div><div class=\"lev3 toc-item\"><a href=\"#Julia\" data-toc-modified-id=\"Julia-1131\"><span class=\"toc-item-num\">1.13.1&nbsp;&nbsp;</span>Julia</a></div><div class=\"lev3 toc-item\"><a href=\"#C\" data-toc-modified-id=\"C-1132\"><span class=\"toc-item-num\">1.13.2&nbsp;&nbsp;</span>C</a></div><div class=\"lev3 toc-item\"><a href=\"#R,-buildin-sum\" data-toc-modified-id=\"R,-buildin-sum-1133\"><span class=\"toc-item-num\">1.13.3&nbsp;&nbsp;</span>R, buildin sum</a></div><div class=\"lev3 toc-item\"><a href=\"#R,-handwritten-loop\" data-toc-modified-id=\"R,-handwritten-loop-1134\"><span class=\"toc-item-num\">1.13.4&nbsp;&nbsp;</span>R, handwritten loop</a></div><div class=\"lev3 toc-item\"><a href=\"#Python,-builtin-sum\" data-toc-modified-id=\"Python,-builtin-sum-1135\"><span class=\"toc-item-num\">1.13.5&nbsp;&nbsp;</span>Python, builtin sum</a></div><div class=\"lev3 toc-item\"><a href=\"#Python,-handwritten-loop\" data-toc-modified-id=\"Python,-handwritten-loop-1136\"><span class=\"toc-item-num\">1.13.6&nbsp;&nbsp;</span>Python, handwritten loop</a></div><div class=\"lev3 toc-item\"><a href=\"#Python,-numpy\" data-toc-modified-id=\"Python,-numpy-1137\"><span class=\"toc-item-num\">1.13.7&nbsp;&nbsp;</span>Python, numpy</a></div><div class=\"lev3 toc-item\"><a href=\"#Summary\" data-toc-modified-id=\"Summary-1138\"><span class=\"toc-item-num\">1.13.8&nbsp;&nbsp;</span>Summary</a></div><div class=\"lev2 toc-item\"><a href=\"#Matrices-and-vectors\" data-toc-modified-id=\"Matrices-and-vectors-114\"><span class=\"toc-item-num\">1.14&nbsp;&nbsp;</span>Matrices and vectors</a></div><div class=\"lev3 toc-item\"><a href=\"#Dimensions\" data-toc-modified-id=\"Dimensions-1141\"><span class=\"toc-item-num\">1.14.1&nbsp;&nbsp;</span>Dimensions</a></div><div class=\"lev3 toc-item\"><a href=\"#Indexing\" data-toc-modified-id=\"Indexing-1142\"><span class=\"toc-item-num\">1.14.2&nbsp;&nbsp;</span>Indexing</a></div><div class=\"lev3 toc-item\"><a href=\"#Concatenate-matrices\" data-toc-modified-id=\"Concatenate-matrices-1143\"><span class=\"toc-item-num\">1.14.3&nbsp;&nbsp;</span>Concatenate matrices</a></div><div class=\"lev3 toc-item\"><a href=\"#Dot-operation\" data-toc-modified-id=\"Dot-operation-1144\"><span class=\"toc-item-num\">1.14.4&nbsp;&nbsp;</span>Dot operation</a></div><div class=\"lev3 toc-item\"><a href=\"#Basic-linear-algebra\" data-toc-modified-id=\"Basic-linear-algebra-1145\"><span class=\"toc-item-num\">1.14.5&nbsp;&nbsp;</span>Basic linear algebra</a></div><div class=\"lev3 toc-item\"><a href=\"#Sparse-matrices\" data-toc-modified-id=\"Sparse-matrices-1146\"><span class=\"toc-item-num\">1.14.6&nbsp;&nbsp;</span>Sparse matrices</a></div><div class=\"lev2 toc-item\"><a href=\"#Control-flow-and-loops\" data-toc-modified-id=\"Control-flow-and-loops-115\"><span class=\"toc-item-num\">1.15&nbsp;&nbsp;</span>Control flow and loops</a></div><div class=\"lev2 toc-item\"><a href=\"#Functions\" data-toc-modified-id=\"Functions-116\"><span class=\"toc-item-num\">1.16&nbsp;&nbsp;</span>Functions</a></div><div class=\"lev2 toc-item\"><a href=\"#Type-system\" data-toc-modified-id=\"Type-system-117\"><span class=\"toc-item-num\">1.17&nbsp;&nbsp;</span>Type system</a></div><div class=\"lev2 toc-item\"><a href=\"#Multiple-dispatch\" data-toc-modified-id=\"Multiple-dispatch-118\"><span class=\"toc-item-num\">1.18&nbsp;&nbsp;</span>Multiple dispatch</a></div><div class=\"lev2 toc-item\"><a href=\"#Just-in-time-compilation-(JIT)\" data-toc-modified-id=\"Just-in-time-compilation-(JIT)-119\"><span class=\"toc-item-num\">1.19&nbsp;&nbsp;</span>Just-in-time compilation (JIT)</a></div><div class=\"lev2 toc-item\"><a href=\"#Profiling-Julia-code\" data-toc-modified-id=\"Profiling-Julia-code-120\"><span class=\"toc-item-num\">1.20&nbsp;&nbsp;</span>Profiling Julia code</a></div><div class=\"lev2 toc-item\"><a href=\"#Memory-profiling\" data-toc-modified-id=\"Memory-profiling-121\"><span class=\"toc-item-num\">1.21&nbsp;&nbsp;</span>Memory profiling</a></div>"
   ]
  },
  {
   "cell_type": "markdown",
   "metadata": {},
   "source": [
    "# Introduction to Julia\n",
    "\n",
    "<img src=\"./julia_logo.png\" align=\"center\" width=\"400\"/>"
   ]
  },
  {
   "cell_type": "markdown",
   "metadata": {},
   "source": [
    "## Types of computer languages\n",
    "\n",
    "* **Compiled languages**: C/C++, Fortran, ... \n",
    "  - Directly compiled to machine code that is executed by CPU \n",
    "  - Pros: fast, memory efficient\n",
    "  - Cons: longer development time, hard to debug\n",
    "\n",
    "* **Interpreted language**: R, Matlab, Python, SAS IML, JavaScript, ... \n",
    "  - Interpreted by interpreter\n",
    "  - Pros: fast prototyping\n",
    "  - Cons: excruciatingly slow for loops\n",
    "\n",
    "* Mixed (dynamic) languages: Matlab (JIT), R (`compiler` package), Julia, Cython, JAVA, ...\n",
    "  - Pros and cons: between the compiled and interpreted languages\n",
    "\n",
    "* Script languages: Linux shell scripts, Perl, ...\n",
    "  - Extremely useful for some data preprocessing and manipulation\n",
    "\n",
    "* Database languages: SQL, Hive (Hadoop).  \n",
    "  - Data analysis *never* happens if we do not know how to retrieve data from databases  "
   ]
  },
  {
   "cell_type": "markdown",
   "metadata": {},
   "source": [
    "## Messages\n",
    "\n",
    "* To be versatile in the big data era, master at least one language in each category.\n",
    "\n",
    "* To improve efficiency of interpreted languages such as R or Matlab, conventional wisdom is to avoid loops as much as possible. Aka, **vectorize code**\n",
    "> The only loop you are allowed to have is that for an iterative algorithm.\n",
    "\n",
    "* When looping is unavoidable, need to code in C, C++, or Fortran.  \n",
    "Success stories: the popular `glmnet` package in R is coded in Fortran; `tidyverse` packages use a lot RCpp/C++.\n",
    "\n",
    "* Modern languages such as Julia tries to solve the **two language problem**. That is to achieve efficiency without vectorizing code.\n",
    "\n",
    "<img src=\"./two_language_problem.jpg\" align=\"center\" width=\"600\"/>"
   ]
  },
  {
   "cell_type": "markdown",
   "metadata": {},
   "source": [
    "## What's Julia?\n",
    "\n",
    "> Julia is a high-level, high-performance dynamic programming language for technical computing, with syntax that is familiar to users of other technical computing environments\n",
    "\n",
    "* History:\n",
    "  - Project started in 2009. First public release in 2012 \n",
    "  - Creators: Jeff Bezanson, Alan Edelman, Stefan Karpinski, Viral Shah\n",
    "  - First major release v1.0 was released on Aug 8, 2018\n",
    "  - Current stable release v1.1.0\n",
    "\n",
    "* Aim to solve the notorious **two language problem**: Prototype code goes into high-level languages like R/Python, production code goes into low-level language like C/C++. \n",
    "\n",
    "    Julia aims to:\n",
    "> Walks like Python. Runs like C.\n",
    "\n",
    "<img src=\"./julia_vs_otherlang.png\" align=\"center\" width=\"600\"/>\n",
    "\n",
    "See <https://julialang.org/benchmarks/> for the details of benchmark.\n",
    "\n",
    "* Write high-level, abstract code that closely resembles mathematical formulas\n",
    "    - yet produces fast, low-level machine code that has traditionally only been generated by static languages.\n",
    "\n",
    "* Julia is more than just \"Fast R\" or \"Fast Matlab\"\n",
    "    - Performance comes from features that work well together.  \n",
    "    - You can't just take the magic dust that makes Julia fast and sprinkle it on [language of choice]"
   ]
  },
  {
   "cell_type": "markdown",
   "metadata": {},
   "source": [
    "## R is great, but...\n",
    "\n",
    "* It's not meant for high performance computing\n",
    "  - http://adv-r.had.co.nz/Performance.html\n",
    "    - Section on performance starts with \"Why is R slow?\" \n",
    "\n",
    "* Deficiencies in the core language \n",
    "  - Many fixed with packages (`devtools`, `roxygen2`, `Matrix`)\n",
    "  - Others harder to fix (R uses an old version of BLAS)\n",
    "  - Some impossible to fix (clunky syntax, poor design choices)\n",
    "\n",
    "* Only 6 active developers left (out of 20 R-Core members)\n",
    "  - JuliaLang organization has 75 members, with 567 total contributors (as of 3/3/17)\n",
    "    - https://github.com/JuliaLang/julia/graphs/contributors\n",
    "\n",
    "* Doug Bates (member of R-Core, `Matrix` and `lme4`)\n",
    "    - Getting Doug on board was a big win for statistics with Julia, as he brought a lot of knowledge about the history of R development and design choices\n",
    "    - https://github.com/dmbates/MixedModels.jl\n",
    "    \n",
    "    > As some of you may know, I have had a (rather late) mid-life crisis and run off with another language called Julia.   \n",
    "    >\n",
    "    > -- <cite>Doug Bates (on the `knitr` Google Group)</cite>"
   ]
  },
  {
   "cell_type": "markdown",
   "metadata": {},
   "source": [
    "## Gibbs sampler example by Doug Bates\n",
    "\n",
    "* An example from Dr. Doug Bates's slides [Julia for R Programmers](http://www.stat.wisc.edu/~bates/JuliaForRProgrammers.pdf).\n",
    "\n",
    "* The task is to create a Gibbs sampler for the density  \n",
    "$$\n",
    "f(x, y) = k x^2 exp(- x y^2 - y^2 + 2y - 4x), x > 0\n",
    "$$\n",
    "using the conditional distributions\n",
    "$$\n",
    "\\begin{eqnarray*}\n",
    "  X | Y &\\sim& \\Gamma \\left( 3, \\frac{1}{y^2 + 4} \\right) \\\\\n",
    "  Y | X &\\sim& N \\left(\\frac{1}{1+x}, \\frac{1}{2(1+x)} \\right).\n",
    "\\end{eqnarray*}\n",
    "$$"
   ]
  },
  {
   "cell_type": "markdown",
   "metadata": {},
   "source": [
    "* R solution. The `RCall.jl` package allows us to execute R code without leaving the `Julia` environment. We first define an R function `Rgibbs()`."
   ]
  },
  {
   "cell_type": "code",
   "execution_count": 1,
   "metadata": {},
   "outputs": [
    {
     "data": {
      "text/plain": [
       "RObject{ClosSxp}\n",
       "function (N, thin) \n",
       "{\n",
       "    mat <- matrix(0, nrow = N, ncol = 2)\n",
       "    x <- y <- 0\n",
       "    for (i in 1:N) {\n",
       "        for (j in 1:thin) {\n",
       "            x <- rgamma(1, 3, y * y + 4)\n",
       "            y <- rnorm(1, 1/(x + 1), 1/sqrt(2 * (x + 1)))\n",
       "        }\n",
       "        mat[i, ] <- c(x, y)\n",
       "    }\n",
       "    mat\n",
       "}\n"
      ]
     },
     "execution_count": 1,
     "metadata": {},
     "output_type": "execute_result"
    }
   ],
   "source": [
    "using RCall\n",
    "\n",
    "R\"\"\"\n",
    "library(Matrix)\n",
    "Rgibbs <- function(N, thin) {\n",
    "  mat <- matrix(0, nrow=N, ncol=2)\n",
    "  x <- y <- 0\n",
    "  for (i in 1:N) {\n",
    "    for (j in 1:thin) {\n",
    "      x <- rgamma(1, 3, y * y + 4) # 3rd arg is rate\n",
    "      y <- rnorm(1, 1 / (x + 1), 1 / sqrt(2 * (x + 1)))\n",
    "    }\n",
    "    mat[i,] <- c(x, y)\n",
    "  }\n",
    "  mat\n",
    "}\n",
    "\"\"\""
   ]
  },
  {
   "cell_type": "markdown",
   "metadata": {},
   "source": [
    "To generate a sample of size 10,000 with a thinning of 500. How long does it take?"
   ]
  },
  {
   "cell_type": "code",
   "execution_count": 2,
   "metadata": {},
   "outputs": [
    {
     "data": {
      "text/plain": [
       "RObject{RealSxp}\n",
       "   user  system elapsed \n",
       " 21.038   2.197  23.265 \n"
      ]
     },
     "execution_count": 2,
     "metadata": {},
     "output_type": "execute_result"
    }
   ],
   "source": [
    "R\"\"\"\n",
    "system.time(Rgibbs(10000, 500))\n",
    "\"\"\""
   ]
  },
  {
   "cell_type": "markdown",
   "metadata": {},
   "source": [
    "* This is a Julia function for the simple Gibbs sampler:"
   ]
  },
  {
   "cell_type": "code",
   "execution_count": 3,
   "metadata": {},
   "outputs": [
    {
     "data": {
      "text/plain": [
       "jgibbs (generic function with 1 method)"
      ]
     },
     "execution_count": 3,
     "metadata": {},
     "output_type": "execute_result"
    }
   ],
   "source": [
    "using Distributions\n",
    "\n",
    "function jgibbs(N, thin)\n",
    "    mat = zeros(N, 2)\n",
    "    x = y = 0.0\n",
    "    for i in 1:N\n",
    "        for j in 1:thin\n",
    "            x = rand(Gamma(3, 1 / (y * y + 4)))\n",
    "            y = rand(Normal(1 / (x + 1), 1 / sqrt(2(x + 1))))\n",
    "        end\n",
    "        mat[i, 1] = x\n",
    "        mat[i, 2] = y\n",
    "    end\n",
    "    mat\n",
    "end"
   ]
  },
  {
   "cell_type": "markdown",
   "metadata": {},
   "source": [
    "Generate the same number of samples. How long does it take?"
   ]
  },
  {
   "cell_type": "code",
   "execution_count": 4,
   "metadata": {},
   "outputs": [
    {
     "data": {
      "text/plain": [
       "0.317547402"
      ]
     },
     "execution_count": 4,
     "metadata": {},
     "output_type": "execute_result"
    }
   ],
   "source": [
    "jgibbs(100, 5); # warm-up\n",
    "@elapsed jgibbs(10000, 500)"
   ]
  },
  {
   "cell_type": "markdown",
   "metadata": {},
   "source": [
    "We see 40-80 fold speed up of `Julia` over `R` on this example, **with similar coding effort**!"
   ]
  },
  {
   "cell_type": "markdown",
   "metadata": {},
   "source": [
    "## Learning resources\n",
    "\n",
    "1. YouTube: [Intro to Julia](https://www.youtube.com/watch?v=8h8rQyEpiZA&t) (2h28m), by Jane Herriman. \n",
    "\n",
    "2. Cheat sheet: [The Fast Track to Julia](https://juliadocs.github.io/Julia-Cheat-Sheet/).  \n",
    "\n",
    "3. Browse the Julia [documentation](https://docs.julialang.org/en).  \n",
    "\n",
    "4. For Matlab users, read [Noteworthy Differences From Matlab](https://docs.julialang.org/en/v1/manual/noteworthy-differences/#Noteworthy-differences-from-MATLAB-1).  \n",
    "\n",
    "    For R users, read [Noteworthy Differences From R](https://docs.julialang.org/en/v1/manual/noteworthy-differences/#Noteworthy-differences-from-R-1).  \n",
    "\n",
    "    For Python users, read [Noteworthy Differences From Python](https://docs.julialang.org/en/v1/manual/noteworthy-differences/?highlight=matlab#Noteworthy-differences-from-Python-1).  \n",
    "\n",
    "5. The [Learning page](http://julialang.org/learning/) on Julia's website has pointers to many other learning resources.  "
   ]
  },
  {
   "cell_type": "markdown",
   "metadata": {},
   "source": [
    "## Julia REPL (Read-Evaluation-Print-Loop)\n",
    "\n",
    "The `Julia` REPL, or `Julia` shell, has at least five modes.\n",
    "\n",
    "1. **Default mode** is the Julian prompt `julia>`. Type backspace in other modes to enter default mode.    \n",
    "\n",
    "2. **Help mode** `help?>`. Type `?` to enter help mode. `?search_term` does a fuzzy search for `search_term`.  \n",
    "\n",
    "3. **Shell mode** `shell>`. Type `;` to enter shell mode.  \n",
    "\n",
    "4. **Package mode** `v(1.1) Pkg>`. Type `]` to enter package mode for managing Julia packages (install, uninstall, update, ...).\n",
    "\n",
    "5. **Search mode** `(reverse-i-search)`. Press `ctrl+R` to enter search model. \n",
    "\n",
    "6. With `RCall.jl` package installed, we can enter the **R mode** by typing `$` (shift+4) at Julia REPL.\n",
    "\n",
    "Some survival commands in Julia REPL:  \n",
    "1. `quit()` or `Ctrl+D`: exit Julia.\n",
    "\n",
    "2. `Ctrl+C`: interrupt execution.\n",
    "\n",
    "3. `Ctrl+L`: clear screen.\n",
    "\n",
    "0. Append `;` (semi-colon) to suppress displaying output from a command. Same as Matlab.\n",
    "\n",
    "0. `include(\"filename.jl\")` to source a Julia code file."
   ]
  },
  {
   "cell_type": "markdown",
   "metadata": {},
   "source": [
    "## Seek help\n",
    "\n",
    "* Online help from REPL: `?function_name`.\n",
    "\n",
    "* Google (of course).\n",
    "\n",
    "* Julia documentation: <https://docs.julialang.org/en/>.\n",
    "\n",
    "* Look up source code: `@edit fun(x)`.\n",
    "\n",
    "* <https://discourse.julialang.org>.\n",
    "\n",
    "* Friends."
   ]
  },
  {
   "cell_type": "markdown",
   "metadata": {},
   "source": [
    "## Which IDE?\n",
    "\n",
    "* Julia homepage lists many choices: Juno, VS Code, Vim, ...\n",
    "\n",
    "* Unfortunately at the moment there are no mature RStudio- or Matlab-like IDE for Julia yet.\n",
    "\n",
    "* For dynamic document, e.g., homework, I recommend [Jupyter Notebook](https://jupyter.org/install.html) or [JupyterLab](http://jupyterlab.readthedocs.io/en/stable/). JupyterLab is supposed to replace Jupyter Notebook after it reaches v1.0.\n",
    "\n",
    "* For extensive Julia coding, myself has good experience with the editor [VS Code](https://code.visualstudio.com) with extensions `Julia` and `VS Code Jupyter Notebook Previewer` installed. "
   ]
  },
  {
   "cell_type": "markdown",
   "metadata": {},
   "source": [
    "## Julia package system\n",
    "\n",
    "* Each Julia package is a Git repository. Each Julia package name ends with `.jl`. E.g., `Distributions.jl` package lives at <https://github.com/JuliaStats/Distributions.jl>.   \n",
    "Google search with `PackageName.jl` usually leads to the package on github.com. \n",
    "\n",
    "* The package ecosystem is rapidly maturing; a complete list of **registered** packages (which are required to have a certain level of testing and documentation) is at [http://pkg.julialang.org/](http://pkg.julialang.org/).\n",
    "\n",
    "* For example, the package called `Distributions.jl` is added with\n",
    "```julia\n",
    "# in Pkg mode\n",
    "(v1.1) pkg> add Distributions\n",
    "```\n",
    "and \"removed\" (although not completely deleted) with\n",
    "```julia\n",
    "# in Pkg mode\n",
    "(v1.1) pkg> rm Distributions\n",
    "```\n",
    "* The package manager provides a dependency solver that determines which packages are actually required to be installed.\n",
    "\n",
    "* **Non-registered** packages are added by cloning the relevant Git repository. E.g.,\n",
    "```julia\n",
    "# in Pkg mode\n",
    "(v1.1) pkg> add https://github.com/OpenMendel/SnpArrays.jl\n",
    "```\n",
    "\n",
    "* A package needs only be added once, at which point it is downloaded into your local `.julia/packages` directory in your home directory. "
   ]
  },
  {
   "cell_type": "code",
   "execution_count": 5,
   "metadata": {},
   "outputs": [
    {
     "name": "stderr",
     "output_type": "stream",
     "text": [
      "┌ Warning: special characters \"#{}()[]<>|&*?~;\" should now be quoted in commands\n",
      "│   caller = #shell_parse#351(::String, ::Function, ::String, ::Bool) at shell.jl:100\n",
      "└ @ Base ./shell.jl:100\n"
     ]
    },
    {
     "name": "stdout",
     "output_type": "stream",
     "text": [
      "AbstractFFTs\n",
      "AccurateArithmetic\n",
      "AlgorithmsFromTheBook\n",
      "Arpack\n",
      "AssetRegistry\n",
      "AxisAlgorithms\n",
      "AxisArrays\n",
      "BEDFiles\n",
      "BenchmarkTools\n",
      "BinDeps\n",
      "BinaryProvider\n",
      "Blink\n",
      "BufferedStreams\n",
      "CMake\n",
      "CMakeWrapper\n",
      "CSSUtil\n",
      "CSTParser\n",
      "CSV\n",
      "Cairo\n",
      "Calculus\n",
      "CatIndices\n",
      "CategoricalArrays\n",
      "Cbc\n",
      "Clp\n",
      "Clustering\n",
      "CodecBzip2\n",
      "CodecXz\n",
      "CodecZlib\n",
      "CodecZstd\n",
      "Codecs\n",
      "ColorTypes\n",
      "ColorVectorSpace\n",
      "Colors\n",
      "CommonSubexpressions\n",
      "Compat\n",
      "Compose\n",
      "ComputationalResources\n",
      "Conda\n",
      "Contour\n",
      "Convex\n",
      "CoordinateTransformations\n",
      "CoupledFields\n",
      "CustomUnitRanges\n",
      "DataArrays\n",
      "DataFrames\n",
      "DataStreams\n",
      "DataStructures\n",
      "DataValues\n",
      "DecFP\n",
      "DecisionTree\n",
      "DeepDiffs\n",
      "DiffEqDiffTools\n",
      "DiffResults\n",
      "DiffRules\n",
      "Distances\n",
      "Distributions\n",
      "DocStringExtensions\n",
      "Documenter\n",
      "DocumenterTools\n",
      "DoubleFloats\n",
      "ECOS\n",
      "EzXML\n",
      "FFTViews\n",
      "FFTW\n",
      "FactCheck\n",
      "FileIO\n",
      "FilePaths\n",
      "FilePathsBase\n",
      "FixedPointNumbers\n",
      "Fontconfig\n",
      "ForwardDiff\n",
      "FunctionalCollections\n",
      "GLM\n",
      "GLPK\n",
      "GLPKMathProgInterface\n",
      "GR\n",
      "GZip\n",
      "Gadfly\n",
      "GenericLinearAlgebra\n",
      "Glob\n",
      "Graphics\n",
      "Gurobi\n",
      "HTTP\n",
      "HTTPClient\n",
      "Hexagons\n",
      "Hiccup\n",
      "Highlights\n",
      "Homebrew\n",
      "HttpCommon\n",
      "HttpParser\n",
      "IJulia\n",
      "IdentityRanges\n",
      "ImageAxes\n",
      "ImageCore\n",
      "ImageDistances\n",
      "ImageFiltering\n",
      "ImageMagick\n",
      "ImageMetadata\n",
      "ImageMorphology\n",
      "ImageShow\n",
      "ImageTransformations\n",
      "Images\n",
      "IndirectArrays\n",
      "IniFile\n",
      "Interact\n",
      "InteractBase\n",
      "InteractBulma\n",
      "InternedStrings\n",
      "Interpolations\n",
      "IntervalSets\n",
      "Ipopt\n",
      "IterTools\n",
      "IterableTables\n",
      "IterativeSolvers\n",
      "IteratorInterfaceExtensions\n",
      "JLD2\n",
      "JSExpr\n",
      "JSON\n",
      "JuMP\n",
      "Juno\n",
      "KernelDensity\n",
      "Knockout\n",
      "LaTeXStrings\n",
      "Lazy\n",
      "LibCURL\n",
      "LibExpat\n",
      "Libz\n",
      "LinQuadOptInterface\n",
      "LineSearches\n",
      "LinearMaps\n",
      "Literate\n",
      "Loess\n",
      "MATLAB\n",
      "MPI\n",
      "MacroTools\n",
      "MappedArrays\n",
      "MathOptInterface\n",
      "MathProgBase\n",
      "MbedTLS\n",
      "Measures\n",
      "Media\n",
      "MendelPlots\n",
      "Missings\n",
      "Mocking\n",
      "Mosek\n",
      "Mustache\n",
      "Mux\n",
      "NLSolversBase\n",
      "NLopt\n",
      "NaNMath\n",
      "NamedTuples\n",
      "NearestNeighbors\n",
      "NodeJS\n",
      "Nullables\n",
      "ORCA\n",
      "Observables\n",
      "OffsetArrays\n",
      "Optim\n",
      "OptimTestProblems\n",
      "OrderedCollections\n",
      "OrdinalGWAS\n",
      "OrdinalMultinomialModels\n",
      "PDMats\n",
      "PaddedViews\n",
      "Parameters\n",
      "Parsers\n",
      "Pidfile\n",
      "PlotReferenceImages\n",
      "PlotThemes\n",
      "PlotUtils\n",
      "Plotly\n",
      "PlotlyBase\n",
      "PlotlyJS\n",
      "Plots\n",
      "PolrGWAS\n",
      "PolrModels\n",
      "Polynomials\n",
      "PooledArrays\n",
      "PositiveFactorizations\n",
      "Primes\n",
      "ProgressMeter\n",
      "PyCall\n",
      "PyPlot\n",
      "QuadGK\n",
      "QuartzImageIO\n",
      "RCall\n",
      "RData\n",
      "RDatasets\n",
      "RangeArrays\n",
      "Ratios\n",
      "RecipesBase\n",
      "RecursiveArrayTools\n",
      "Reexport\n",
      "Requests\n",
      "Requires\n",
      "ReverseDiffSparse\n",
      "Rmath\n",
      "Roots\n",
      "Rotations\n",
      "Rsvg\n",
      "SCS\n",
      "SIUnits\n",
      "ScikitLearnBase\n",
      "ShowItLikeYouBuildIt\n",
      "Showoff\n",
      "SimpleTraits\n",
      "SnpArrays\n",
      "SoftGlobalScope\n",
      "SortingAlgorithms\n",
      "SpecialFunctions\n",
      "StatPlots\n",
      "StaticArrays\n",
      "StatsBase\n",
      "StatsFuns\n",
      "StatsModels\n",
      "StatsPlots\n",
      "Suppressor\n",
      "TableShowUtils\n",
      "TableTraits\n",
      "TableTraitsUtils\n",
      "Tables\n",
      "TestImages\n",
      "TestSetExtensions\n",
      "TexExtensions\n",
      "TextParse\n",
      "TiledIteration\n",
      "TimeZones\n",
      "Tokenize\n",
      "TranscodingStreams\n",
      "URIParser\n",
      "UnicodePlots\n",
      "VarianceComponentModels\n",
      "VarianceComponentTest\n",
      "VegaDatasets\n",
      "VegaLite\n",
      "VersionParsing\n",
      "VisualRegressionTests\n",
      "WeakRefStrings\n",
      "Weave\n",
      "WebIO\n",
      "WebSockets\n",
      "Widgets\n",
      "WinRPM\n",
      "WinReg\n",
      "WoodburyMatrices\n",
      "YAML\n",
      "ZMQ\n",
      "ZipFile\n"
     ]
    }
   ],
   "source": [
    ";ls ~/.julia/packages"
   ]
  },
  {
   "cell_type": "markdown",
   "metadata": {},
   "source": [
    "* Directory of a specific package can be queried by `pathof()`:"
   ]
  },
  {
   "cell_type": "code",
   "execution_count": 6,
   "metadata": {},
   "outputs": [
    {
     "data": {
      "text/plain": [
       "\"/Users/huazhou/.julia/packages/Distributions/fMt8c/src/Distributions.jl\""
      ]
     },
     "execution_count": 6,
     "metadata": {},
     "output_type": "execute_result"
    }
   ],
   "source": [
    "using Distributions\n",
    "\n",
    "pathof(Distributions)"
   ]
  },
  {
   "cell_type": "markdown",
   "metadata": {},
   "source": [
    "* If you start having problems with packages that seem to be unsolvable, you may try just deleting your .julia directory and reinstalling all your packages. \n",
    "\n",
    "* Periodically, one should run `update` in Pkg mode, which checks for, downloads and installs updated versions of all the packages you currently have installed.\n",
    "\n",
    "* `status` lists the status of all installed packages.\n",
    "\n",
    "* Using functions in package.\n",
    "```julia\n",
    "using Distributions\n",
    "```\n",
    "This pulls all of the *exported* functions in the module into your local namespace, as you can check using the `whos()` command. An alternative is\n",
    "```julia\n",
    "import Distributions\n",
    "```\n",
    "Now, the functions from the Distributions package are available only using \n",
    "```julia\n",
    "Distributions.<FUNNAME>\n",
    "```\n",
    "All functions, not only exported functions, are always available like this."
   ]
  },
  {
   "cell_type": "markdown",
   "metadata": {},
   "source": [
    "## Calling R from Julia\n",
    "\n",
    "* The [`RCall.jl`](https://github.com/JuliaInterop/RCall.jl) package allows us to embed R code inside of Julia.\n",
    "\n",
    "* There are also `PyCall.jl`, `MATLAB.jl`, `JavaCall.jl`, `CxxWrap.jl` packages for interfacing with other languages."
   ]
  },
  {
   "cell_type": "code",
   "execution_count": 7,
   "metadata": {},
   "outputs": [
    {
     "data": {
      "image/png": "[encoded data removed]"
     },
     "metadata": {},
     "output_type": "display_data"
    },
    {
     "data": {
      "text/plain": [
       "RObject{VecSxp}\n",
       "$breaks\n",
       " [1] -5 -4 -3 -2 -1  0  1  2  3  4\n",
       "\n",
       "$counts\n",
       "[1]   1   0  28 119 369 320 142  19   2\n",
       "\n",
       "$density\n",
       "[1] 0.001 0.000 0.028 0.119 0.369 0.320 0.142 0.019 0.002\n",
       "\n",
       "$mids\n",
       "[1] -4.5 -3.5 -2.5 -1.5 -0.5  0.5  1.5  2.5  3.5\n",
       "\n",
       "$xname\n",
       "[1] \"`#JL`$x\"\n",
       "\n",
       "$equidist\n",
       "[1] TRUE\n",
       "\n",
       "attr(,\"class\")\n",
       "[1] \"histogram\"\n"
      ]
     },
     "execution_count": 7,
     "metadata": {},
     "output_type": "execute_result"
    }
   ],
   "source": [
    "using RCall\n",
    "\n",
    "x = randn(1000)\n",
    "R\"\"\"\n",
    "hist($x, main=\"I'm plotting a Julia vector\")\n",
    "\"\"\""
   ]
  },
  {
   "cell_type": "code",
   "execution_count": 8,
   "metadata": {},
   "outputs": [
    {
     "data": {
      "image/png": "[encoded data removed]"
     },
     "metadata": {},
     "output_type": "display_data"
    },
    {
     "data": {
      "text/plain": [
       "RObject{VecSxp}\n"
      ]
     },
     "execution_count": 8,
     "metadata": {},
     "output_type": "execute_result"
    },
    {
     "name": "stderr",
     "output_type": "stream",
     "text": [
      "┌ Warning: RCall.jl: `stat_bin()` using `bins = 30`. Pick better value with `binwidth`.\n",
      "└ @ RCall /Users/huazhou/.julia/packages/RCall/ffM0W/src/io.jl:113\n"
     ]
    }
   ],
   "source": [
    "R\"\"\"\n",
    "library(ggplot2)\n",
    "qplot($x)\n",
    "\"\"\""
   ]
  },
  {
   "cell_type": "code",
   "execution_count": 9,
   "metadata": {},
   "outputs": [
    {
     "data": {
      "text/plain": [
       "RObject{RealSxp}\n",
       " [1] -1.76152465  0.28402321 -1.18674201  0.38532610  0.66327415 -0.07548059\n",
       " [7] -1.22814518 -0.36132394 -1.58982131  1.00019919\n"
      ]
     },
     "execution_count": 9,
     "metadata": {},
     "output_type": "execute_result"
    }
   ],
   "source": [
    "x = R\"\"\"\n",
    "rnorm(10)\n",
    "\"\"\""
   ]
  },
  {
   "cell_type": "code",
   "execution_count": 10,
   "metadata": {},
   "outputs": [
    {
     "data": {
      "text/plain": [
       "10-element Array{Float64,1}:\n",
       " -1.761524654252555  \n",
       "  0.2840232126371199 \n",
       " -1.1867420051409112 \n",
       "  0.38532610091816666\n",
       "  0.6632741501853096 \n",
       " -0.07548059232008238\n",
       " -1.2281451847872713 \n",
       " -0.36132394376250476\n",
       " -1.589821307258373  \n",
       "  1.0001991932779424 "
      ]
     },
     "execution_count": 10,
     "metadata": {},
     "output_type": "execute_result"
    }
   ],
   "source": [
    "# collect R variable into Julia workspace\n",
    "y = collect(x)"
   ]
  },
  {
   "cell_type": "markdown",
   "metadata": {},
   "source": [
    "* Access Julia variables in R REPL mode:\n",
    "```julia\n",
    "julia> x = rand(5) # Julia variable\n",
    "R> y <- $x\n",
    "```\n",
    "\n",
    "* Pass Julia expression in R REPL mode:\n",
    "```julia\n",
    "R> y <- $(rand(5))\n",
    "```\n",
    "\n",
    "* Put Julia variable into R environment:\n",
    "```julia\n",
    "julia> @rput x\n",
    "R> x\n",
    "```\n",
    "\n",
    "* Get R variable into Julia environment:\n",
    "```julia\n",
    "R> r <- 2\n",
    "Julia> @rget r\n",
    "```\n",
    "\n",
    "* If you want to call Julia within R, check out the [`XRJulia`](https://cran.r-project.org/web/packages/XRJulia/) package by John Chambers."
   ]
  },
  {
   "cell_type": "markdown",
   "metadata": {},
   "source": [
    "## Some basic Julia code"
   ]
  },
  {
   "cell_type": "code",
   "execution_count": 11,
   "metadata": {},
   "outputs": [
    {
     "data": {
      "text/plain": [
       "Int64"
      ]
     },
     "execution_count": 11,
     "metadata": {},
     "output_type": "execute_result"
    }
   ],
   "source": [
    "# an integer, same as int in R\n",
    "y = 1\n",
    "typeof(y) "
   ]
  },
  {
   "cell_type": "code",
   "execution_count": 12,
   "metadata": {},
   "outputs": [
    {
     "data": {
      "text/plain": [
       "Float64"
      ]
     },
     "execution_count": 12,
     "metadata": {},
     "output_type": "execute_result"
    }
   ],
   "source": [
    "# a Float64 number, same as double in R\n",
    "y = 1.0\n",
    "typeof(y) "
   ]
  },
  {
   "cell_type": "code",
   "execution_count": 13,
   "metadata": {},
   "outputs": [
    {
     "data": {
      "text/plain": [
       "π = 3.1415926535897..."
      ]
     },
     "execution_count": 13,
     "metadata": {},
     "output_type": "execute_result"
    }
   ],
   "source": [
    "# Greek letters:  `\\pi<tab>`\n",
    "π"
   ]
  },
  {
   "cell_type": "code",
   "execution_count": 14,
   "metadata": {},
   "outputs": [
    {
     "data": {
      "text/plain": [
       "Irrational{:π}"
      ]
     },
     "execution_count": 14,
     "metadata": {},
     "output_type": "execute_result"
    }
   ],
   "source": [
    "typeof(π)"
   ]
  },
  {
   "cell_type": "code",
   "execution_count": 15,
   "metadata": {},
   "outputs": [
    {
     "data": {
      "text/plain": [
       "4.141592653589793"
      ]
     },
     "execution_count": 15,
     "metadata": {},
     "output_type": "execute_result"
    }
   ],
   "source": [
    "# Greek letters:  `\\theta<tab>`\n",
    "θ = y + π"
   ]
  },
  {
   "cell_type": "code",
   "execution_count": 16,
   "metadata": {},
   "outputs": [
    {
     "data": {
      "text/plain": [
       "5.0"
      ]
     },
     "execution_count": 16,
     "metadata": {},
     "output_type": "execute_result"
    }
   ],
   "source": [
    "# emoji! `\\:kissing_cat:<tab>`\n",
    "😽 = 5.0"
   ]
  },
  {
   "cell_type": "code",
   "execution_count": 17,
   "metadata": {},
   "outputs": [
    {
     "data": {
      "text/plain": [
       "π = 3.1415926535897..."
      ]
     },
     "execution_count": 17,
     "metadata": {},
     "output_type": "execute_result"
    }
   ],
   "source": [
    "# `\\alpha<tab>\\hat<tab>`\n",
    "α̂ = π"
   ]
  },
  {
   "cell_type": "code",
   "execution_count": 18,
   "metadata": {},
   "outputs": [
    {
     "data": {
      "text/plain": [
       "5-element Array{Float64,1}:\n",
       " 0.0\n",
       " 0.0\n",
       " 0.0\n",
       " 0.0\n",
       " 0.0"
      ]
     },
     "execution_count": 18,
     "metadata": {},
     "output_type": "execute_result"
    }
   ],
   "source": [
    "# vector of Float64 0s\n",
    "x = zeros(5)"
   ]
  },
  {
   "cell_type": "code",
   "execution_count": 19,
   "metadata": {},
   "outputs": [
    {
     "data": {
      "text/plain": [
       "5-element Array{Int64,1}:\n",
       " 0\n",
       " 0\n",
       " 0\n",
       " 0\n",
       " 0"
      ]
     },
     "execution_count": 19,
     "metadata": {},
     "output_type": "execute_result"
    }
   ],
   "source": [
    "# vector Int64 0s\n",
    "x = zeros(Int, 5)"
   ]
  },
  {
   "cell_type": "code",
   "execution_count": 20,
   "metadata": {},
   "outputs": [
    {
     "data": {
      "text/plain": [
       "5×3 Array{Float64,2}:\n",
       " 0.0  0.0  0.0\n",
       " 0.0  0.0  0.0\n",
       " 0.0  0.0  0.0\n",
       " 0.0  0.0  0.0\n",
       " 0.0  0.0  0.0"
      ]
     },
     "execution_count": 20,
     "metadata": {},
     "output_type": "execute_result"
    }
   ],
   "source": [
    "# matrix of Float64 0s\n",
    "x = zeros(5, 3)"
   ]
  },
  {
   "cell_type": "code",
   "execution_count": 21,
   "metadata": {},
   "outputs": [
    {
     "data": {
      "text/plain": [
       "5×3 Array{Float64,2}:\n",
       " 1.0  1.0  1.0\n",
       " 1.0  1.0  1.0\n",
       " 1.0  1.0  1.0\n",
       " 1.0  1.0  1.0\n",
       " 1.0  1.0  1.0"
      ]
     },
     "execution_count": 21,
     "metadata": {},
     "output_type": "execute_result"
    }
   ],
   "source": [
    "# matrix of Float64 1s\n",
    "x = ones(5, 3)"
   ]
  },
  {
   "cell_type": "code",
   "execution_count": 22,
   "metadata": {},
   "outputs": [
    {
     "data": {
      "text/plain": [
       "5×3 Array{Float64,2}:\n",
       " 2.353e-314    2.35072e-314  2.33123e-314\n",
       " 2.353e-314    2.33123e-314  0.0         \n",
       " 2.33123e-314  2.34943e-314  0.0         \n",
       " 2.34943e-314  2.33123e-314  0.0         \n",
       " 2.35132e-314  2.33123e-314  0.0         "
      ]
     },
     "execution_count": 22,
     "metadata": {},
     "output_type": "execute_result"
    }
   ],
   "source": [
    "# define array without initialization\n",
    "x = Matrix{Float64}(undef, 5, 3)"
   ]
  },
  {
   "cell_type": "code",
   "execution_count": 23,
   "metadata": {},
   "outputs": [
    {
     "data": {
      "text/plain": [
       "5×3 Array{Float64,2}:\n",
       " 0.0  0.0  0.0\n",
       " 0.0  0.0  0.0\n",
       " 0.0  0.0  0.0\n",
       " 0.0  0.0  0.0\n",
       " 0.0  0.0  0.0"
      ]
     },
     "execution_count": 23,
     "metadata": {},
     "output_type": "execute_result"
    }
   ],
   "source": [
    "# fill a matrix by 0s\n",
    "fill!(x, 0)"
   ]
  },
  {
   "cell_type": "code",
   "execution_count": 24,
   "metadata": {},
   "outputs": [
    {
     "data": {
      "text/plain": [
       "5×3 Array{Float64,2}:\n",
       " 2.5  2.5  2.5\n",
       " 2.5  2.5  2.5\n",
       " 2.5  2.5  2.5\n",
       " 2.5  2.5  2.5\n",
       " 2.5  2.5  2.5"
      ]
     },
     "execution_count": 24,
     "metadata": {},
     "output_type": "execute_result"
    }
   ],
   "source": [
    "# initialize an array to be constant 2.5\n",
    "fill(2.5, (5, 3))"
   ]
  },
  {
   "cell_type": "code",
   "execution_count": 25,
   "metadata": {},
   "outputs": [
    {
     "data": {
      "text/plain": [
       "3//5"
      ]
     },
     "execution_count": 25,
     "metadata": {},
     "output_type": "execute_result"
    }
   ],
   "source": [
    "# rational number\n",
    "a = 3//5"
   ]
  },
  {
   "cell_type": "code",
   "execution_count": 26,
   "metadata": {},
   "outputs": [
    {
     "data": {
      "text/plain": [
       "Rational{Int64}"
      ]
     },
     "execution_count": 26,
     "metadata": {},
     "output_type": "execute_result"
    }
   ],
   "source": [
    "typeof(a)"
   ]
  },
  {
   "cell_type": "code",
   "execution_count": 27,
   "metadata": {},
   "outputs": [
    {
     "data": {
      "text/plain": [
       "3//7"
      ]
     },
     "execution_count": 27,
     "metadata": {},
     "output_type": "execute_result"
    }
   ],
   "source": [
    "b = 3//7"
   ]
  },
  {
   "cell_type": "code",
   "execution_count": 28,
   "metadata": {},
   "outputs": [
    {
     "data": {
      "text/plain": [
       "36//35"
      ]
     },
     "execution_count": 28,
     "metadata": {},
     "output_type": "execute_result"
    }
   ],
   "source": [
    "a + b"
   ]
  },
  {
   "cell_type": "code",
   "execution_count": 29,
   "metadata": {},
   "outputs": [
    {
     "data": {
      "text/plain": [
       "5×3 Array{Float64,2}:\n",
       " 0.697832  0.521255  0.635389\n",
       " 0.795756  0.821073  0.046378\n",
       " 0.330146  0.200252  0.997733\n",
       " 0.12915   0.951122  0.227358\n",
       " 0.833891  0.494311  0.428478"
      ]
     },
     "execution_count": 29,
     "metadata": {},
     "output_type": "execute_result"
    }
   ],
   "source": [
    "# uniform [0, 1) random numbers\n",
    "x = rand(5, 3)"
   ]
  },
  {
   "cell_type": "code",
   "execution_count": 30,
   "metadata": {},
   "outputs": [
    {
     "data": {
      "text/plain": [
       "5×3 Array{Float16,2}:\n",
       " 0.8604  0.798   0.1611\n",
       " 0.717   0.4043  0.0762\n",
       " 0.5312  0.0742  0.8906\n",
       " 0.2373  0.1309  0.632 \n",
       " 0.5137  0.42    0.5244"
      ]
     },
     "execution_count": 30,
     "metadata": {},
     "output_type": "execute_result"
    }
   ],
   "source": [
    "# uniform random numbers (in single precision)\n",
    "x = rand(Float16, 5, 3)"
   ]
  },
  {
   "cell_type": "code",
   "execution_count": 31,
   "metadata": {},
   "outputs": [
    {
     "data": {
      "text/plain": [
       "5×3 Array{Int64,2}:\n",
       " 1  4  5\n",
       " 2  2  2\n",
       " 5  2  3\n",
       " 2  3  5\n",
       " 1  1  1"
      ]
     },
     "execution_count": 31,
     "metadata": {},
     "output_type": "execute_result"
    }
   ],
   "source": [
    "# random numbers from {1,...,5}\n",
    "x = rand(1:5, 5, 3)"
   ]
  },
  {
   "cell_type": "code",
   "execution_count": 32,
   "metadata": {},
   "outputs": [
    {
     "data": {
      "text/plain": [
       "5×3 Array{Float64,2}:\n",
       "  1.14235   -0.681071    0.360989\n",
       "  1.95432   -0.0724878   0.329729\n",
       " -0.288511  -1.22229     1.32657 \n",
       " -0.774164   1.37268    -1.37873 \n",
       " -0.2116     0.861211   -1.25181 "
      ]
     },
     "execution_count": 32,
     "metadata": {},
     "output_type": "execute_result"
    }
   ],
   "source": [
    "# standard normal random numbers\n",
    "x = randn(5, 3)"
   ]
  },
  {
   "cell_type": "code",
   "execution_count": 33,
   "metadata": {},
   "outputs": [
    {
     "data": {
      "text/plain": [
       "1:10"
      ]
     },
     "execution_count": 33,
     "metadata": {},
     "output_type": "execute_result"
    }
   ],
   "source": [
    "# range\n",
    "1:10"
   ]
  },
  {
   "cell_type": "code",
   "execution_count": 34,
   "metadata": {},
   "outputs": [
    {
     "data": {
      "text/plain": [
       "UnitRange{Int64}"
      ]
     },
     "execution_count": 34,
     "metadata": {},
     "output_type": "execute_result"
    }
   ],
   "source": [
    "typeof(1:10)"
   ]
  },
  {
   "cell_type": "code",
   "execution_count": 35,
   "metadata": {},
   "outputs": [
    {
     "data": {
      "text/plain": [
       "1:2:9"
      ]
     },
     "execution_count": 35,
     "metadata": {},
     "output_type": "execute_result"
    }
   ],
   "source": [
    "1:2:10"
   ]
  },
  {
   "cell_type": "code",
   "execution_count": 36,
   "metadata": {},
   "outputs": [
    {
     "data": {
      "text/plain": [
       "StepRange{Int64,Int64}"
      ]
     },
     "execution_count": 36,
     "metadata": {},
     "output_type": "execute_result"
    }
   ],
   "source": [
    "typeof(1:2:10)"
   ]
  },
  {
   "cell_type": "code",
   "execution_count": 37,
   "metadata": {},
   "outputs": [
    {
     "data": {
      "text/plain": [
       "10-element Array{Int64,1}:\n",
       "  1\n",
       "  2\n",
       "  3\n",
       "  4\n",
       "  5\n",
       "  6\n",
       "  7\n",
       "  8\n",
       "  9\n",
       " 10"
      ]
     },
     "execution_count": 37,
     "metadata": {},
     "output_type": "execute_result"
    }
   ],
   "source": [
    "# integers 1-10\n",
    "x = collect(1:10)"
   ]
  },
  {
   "cell_type": "code",
   "execution_count": 38,
   "metadata": {},
   "outputs": [
    {
     "data": {
      "text/plain": [
       "10-element Array{Int64,1}:\n",
       "  1\n",
       "  2\n",
       "  3\n",
       "  4\n",
       "  5\n",
       "  6\n",
       "  7\n",
       "  8\n",
       "  9\n",
       " 10"
      ]
     },
     "execution_count": 38,
     "metadata": {},
     "output_type": "execute_result"
    }
   ],
   "source": [
    "# or equivalently\n",
    "[1:10...]"
   ]
  },
  {
   "cell_type": "code",
   "execution_count": 39,
   "metadata": {},
   "outputs": [
    {
     "data": {
      "text/plain": [
       "10-element Array{Float64,1}:\n",
       "  1.0\n",
       "  2.0\n",
       "  3.0\n",
       "  4.0\n",
       "  5.0\n",
       "  6.0\n",
       "  7.0\n",
       "  8.0\n",
       "  9.0\n",
       " 10.0"
      ]
     },
     "execution_count": 39,
     "metadata": {},
     "output_type": "execute_result"
    }
   ],
   "source": [
    "# Float64 numbers 1-10\n",
    "x = collect(1.0:10)"
   ]
  },
  {
   "cell_type": "code",
   "execution_count": 40,
   "metadata": {},
   "outputs": [
    {
     "data": {
      "text/plain": [
       "10-element Array{Float64,1}:\n",
       "  1.0\n",
       "  2.0\n",
       "  3.0\n",
       "  4.0\n",
       "  5.0\n",
       "  6.0\n",
       "  7.0\n",
       "  8.0\n",
       "  9.0\n",
       " 10.0"
      ]
     },
     "execution_count": 40,
     "metadata": {},
     "output_type": "execute_result"
    }
   ],
   "source": [
    "# convert to a specific type\n",
    "convert(Vector{Float64}, 1:10)"
   ]
  },
  {
   "cell_type": "markdown",
   "metadata": {},
   "source": [
    "## Timing and benchmark"
   ]
  },
  {
   "cell_type": "markdown",
   "metadata": {},
   "source": [
    "### Julia\n",
    "\n",
    "`@time`, `@elapsed`, `@allocated` macros:"
   ]
  },
  {
   "cell_type": "code",
   "execution_count": 41,
   "metadata": {},
   "outputs": [
    {
     "name": "stdout",
     "output_type": "stream",
     "text": [
      "  0.032345 seconds (95.66 k allocations: 4.858 MiB)\n"
     ]
    },
    {
     "data": {
      "text/plain": [
       "500060.34072352527"
      ]
     },
     "execution_count": 41,
     "metadata": {},
     "output_type": "execute_result"
    }
   ],
   "source": [
    "using Random # standard library\n",
    "Random.seed!(123) # seed\n",
    "x = rand(1_000_000) # 1 million random numbers in [0, 1)\n",
    "\n",
    "@time sum(x) # first run includes compilation time"
   ]
  },
  {
   "cell_type": "code",
   "execution_count": 42,
   "metadata": {},
   "outputs": [
    {
     "name": "stdout",
     "output_type": "stream",
     "text": [
      "  0.000456 seconds (5 allocations: 176 bytes)\n"
     ]
    },
    {
     "data": {
      "text/plain": [
       "500060.34072352527"
      ]
     },
     "execution_count": 42,
     "metadata": {},
     "output_type": "execute_result"
    }
   ],
   "source": [
    "@time sum(x) # no compilation time after first run"
   ]
  },
  {
   "cell_type": "code",
   "execution_count": 43,
   "metadata": {},
   "outputs": [
    {
     "data": {
      "text/plain": [
       "0.000449506"
      ]
     },
     "execution_count": 43,
     "metadata": {},
     "output_type": "execute_result"
    }
   ],
   "source": [
    "# just the runtime\n",
    "@elapsed sum(x)"
   ]
  },
  {
   "cell_type": "code",
   "execution_count": 44,
   "metadata": {},
   "outputs": [
    {
     "data": {
      "text/plain": [
       "16"
      ]
     },
     "execution_count": 44,
     "metadata": {},
     "output_type": "execute_result"
    }
   ],
   "source": [
    "# just the allocation\n",
    "@allocated sum(x)"
   ]
  },
  {
   "cell_type": "markdown",
   "metadata": {},
   "source": [
    "Use package `BenchmarkTools.jl` for more robust benchmarking. Analog of `microbenchmark` package in R."
   ]
  },
  {
   "cell_type": "code",
   "execution_count": 45,
   "metadata": {},
   "outputs": [
    {
     "data": {
      "text/plain": [
       "BenchmarkTools.Trial: \n",
       "  memory estimate:  0 bytes\n",
       "  allocs estimate:  0\n",
       "  --------------\n",
       "  minimum time:     244.108 μs (0.00% GC)\n",
       "  median time:      268.166 μs (0.00% GC)\n",
       "  mean time:        280.042 μs (0.00% GC)\n",
       "  maximum time:     2.854 ms (0.00% GC)\n",
       "  --------------\n",
       "  samples:          10000\n",
       "  evals/sample:     1"
      ]
     },
     "execution_count": 45,
     "metadata": {},
     "output_type": "execute_result"
    }
   ],
   "source": [
    "using BenchmarkTools\n",
    "\n",
    "bm = @benchmark sum($x)"
   ]
  },
  {
   "cell_type": "code",
   "execution_count": 46,
   "metadata": {},
   "outputs": [
    {
     "data": {
      "text/plain": [
       "0.2681655"
      ]
     },
     "execution_count": 46,
     "metadata": {},
     "output_type": "execute_result"
    }
   ],
   "source": [
    "using Statistics # standard library\n",
    "benchmark_result = Dict() # a dictionary to store median runtime (in milliseconds)\n",
    "benchmark_result[\"Julia builtin\"] = median(bm.times) / 1e6"
   ]
  },
  {
   "cell_type": "markdown",
   "metadata": {},
   "source": [
    "### C\n",
    "\n",
    "We would use the low-level C code as the baseline for copmarison. In Julia, we can easily run compiled C code using the `ccall` function."
   ]
  },
  {
   "cell_type": "code",
   "execution_count": 47,
   "metadata": {},
   "outputs": [
    {
     "data": {
      "text/plain": [
       "c_sum (generic function with 1 method)"
      ]
     },
     "execution_count": 47,
     "metadata": {},
     "output_type": "execute_result"
    }
   ],
   "source": [
    "using Libdl\n",
    "\n",
    "C_code = \"\"\"\n",
    "#include <stddef.h>\n",
    "double c_sum(size_t n, double *X) {\n",
    "    double s = 0.0;\n",
    "    for (size_t i = 0; i < n; ++i) {\n",
    "        s += X[i];\n",
    "    }\n",
    "    return s;\n",
    "}\n",
    "\"\"\"\n",
    "\n",
    "const Clib = tempname()   # make a temporary file\n",
    "\n",
    "# compile to a shared library by piping C_code to gcc\n",
    "# (works only if you have gcc installed):\n",
    "\n",
    "open(`gcc -std=c99 -fPIC -O3 -msse3 -xc -shared -o $(Clib * \".\" * Libdl.dlext) -`, \"w\") do f\n",
    "    print(f, C_code) \n",
    "end\n",
    "\n",
    "# define a Julia function that calls the C function:\n",
    "c_sum(X::Array{Float64}) = ccall((\"c_sum\", Clib), Float64, (Csize_t, Ptr{Float64}), length(X), X)"
   ]
  },
  {
   "cell_type": "code",
   "execution_count": 48,
   "metadata": {},
   "outputs": [
    {
     "data": {
      "text/plain": [
       "500060.340723512"
      ]
     },
     "execution_count": 48,
     "metadata": {},
     "output_type": "execute_result"
    }
   ],
   "source": [
    "# make sure it gives same answer\n",
    "c_sum(x)"
   ]
  },
  {
   "cell_type": "code",
   "execution_count": 49,
   "metadata": {},
   "outputs": [
    {
     "data": {
      "text/plain": [
       "BenchmarkTools.Trial: \n",
       "  memory estimate:  0 bytes\n",
       "  allocs estimate:  0\n",
       "  --------------\n",
       "  minimum time:     1.117 ms (0.00% GC)\n",
       "  median time:      1.134 ms (0.00% GC)\n",
       "  mean time:        1.161 ms (0.00% GC)\n",
       "  maximum time:     3.056 ms (0.00% GC)\n",
       "  --------------\n",
       "  samples:          4297\n",
       "  evals/sample:     1"
      ]
     },
     "execution_count": 49,
     "metadata": {},
     "output_type": "execute_result"
    }
   ],
   "source": [
    "bm = @benchmark c_sum($x)"
   ]
  },
  {
   "cell_type": "code",
   "execution_count": 50,
   "metadata": {},
   "outputs": [
    {
     "data": {
      "text/plain": [
       "1.134183"
      ]
     },
     "execution_count": 50,
     "metadata": {},
     "output_type": "execute_result"
    }
   ],
   "source": [
    "# store median runtime (in milliseconds)\n",
    "benchmark_result[\"C\"] = median(bm.times) / 1e6"
   ]
  },
  {
   "cell_type": "markdown",
   "metadata": {},
   "source": [
    "### R, buildin sum\n",
    "\n",
    "Next we compare to the build in `sum` function in R, which is implemented using C."
   ]
  },
  {
   "cell_type": "code",
   "execution_count": 51,
   "metadata": {},
   "outputs": [
    {
     "data": {
      "text/plain": [
       "RObject{VecSxp}\n",
       "Unit: microseconds\n",
       "   expr     min      lq     mean  median       uq      max neval\n",
       " sum(y) 897.061 902.984 978.2313 995.058 1006.212 1239.114   100\n"
      ]
     },
     "execution_count": 51,
     "metadata": {},
     "output_type": "execute_result"
    }
   ],
   "source": [
    "using RCall\n",
    "\n",
    "R\"\"\"\n",
    "library(microbenchmark)\n",
    "y <- $x\n",
    "rbm <- microbenchmark(sum(y))\n",
    "\"\"\""
   ]
  },
  {
   "cell_type": "code",
   "execution_count": 52,
   "metadata": {},
   "outputs": [
    {
     "data": {
      "text/plain": [
       "0.995058"
      ]
     },
     "execution_count": 52,
     "metadata": {},
     "output_type": "execute_result"
    }
   ],
   "source": [
    "# store median runtime (in milliseconds)\n",
    "@rget rbm # dataframe\n",
    "benchmark_result[\"R builtin\"] = median(rbm[:time]) / 1e6"
   ]
  },
  {
   "cell_type": "markdown",
   "metadata": {},
   "source": [
    "### R, handwritten loop\n",
    "\n",
    "Handwritten loop in R is much slower."
   ]
  },
  {
   "cell_type": "code",
   "execution_count": 53,
   "metadata": {},
   "outputs": [
    {
     "data": {
      "text/plain": [
       "RObject{VecSxp}\n",
       "Unit: milliseconds\n",
       "     expr      min       lq     mean   median       uq      max neval\n",
       " sum_r(y) 25.42925 26.79393 27.30556 27.21291 27.72341 33.88999   100\n"
      ]
     },
     "execution_count": 53,
     "metadata": {},
     "output_type": "execute_result"
    }
   ],
   "source": [
    "using RCall\n",
    "\n",
    "R\"\"\"\n",
    "sum_r <- function(x) {\n",
    "  s <- 0\n",
    "  for (xi in x) {\n",
    "    s <- s + xi\n",
    "  }\n",
    "  s\n",
    "}\n",
    "library(microbenchmark)\n",
    "y <- $x\n",
    "rbm <- microbenchmark(sum_r(y))\n",
    "\"\"\""
   ]
  },
  {
   "cell_type": "code",
   "execution_count": 54,
   "metadata": {},
   "outputs": [
    {
     "data": {
      "text/plain": [
       "27.212913"
      ]
     },
     "execution_count": 54,
     "metadata": {},
     "output_type": "execute_result"
    }
   ],
   "source": [
    "# store median runtime (in milliseconds)\n",
    "@rget rbm # dataframe\n",
    "benchmark_result[\"R loop\"] = median(rbm[:time]) / 1e6"
   ]
  },
  {
   "cell_type": "markdown",
   "metadata": {},
   "source": [
    "### Python, builtin sum\n",
    "\n",
    "Built in function `sum` in Python."
   ]
  },
  {
   "cell_type": "code",
   "execution_count": 55,
   "metadata": {},
   "outputs": [
    {
     "data": {
      "text/plain": [
       "v\"3.7.3\""
      ]
     },
     "execution_count": 55,
     "metadata": {},
     "output_type": "execute_result"
    }
   ],
   "source": [
    "using PyCall\n",
    "PyCall.pyversion"
   ]
  },
  {
   "cell_type": "code",
   "execution_count": 56,
   "metadata": {},
   "outputs": [
    {
     "data": {
      "text/plain": [
       "BenchmarkTools.Trial: \n",
       "  memory estimate:  368 bytes\n",
       "  allocs estimate:  8\n",
       "  --------------\n",
       "  minimum time:     81.864 ms (0.00% GC)\n",
       "  median time:      83.359 ms (0.00% GC)\n",
       "  mean time:        83.663 ms (0.00% GC)\n",
       "  maximum time:     89.594 ms (0.00% GC)\n",
       "  --------------\n",
       "  samples:          60\n",
       "  evals/sample:     1"
      ]
     },
     "execution_count": 56,
     "metadata": {},
     "output_type": "execute_result"
    }
   ],
   "source": [
    "# get the Python built-in \"sum\" function:\n",
    "pysum = pybuiltin(\"sum\")\n",
    "bm = @benchmark $pysum($x)"
   ]
  },
  {
   "cell_type": "code",
   "execution_count": 57,
   "metadata": {},
   "outputs": [
    {
     "data": {
      "text/plain": [
       "83.3590615"
      ]
     },
     "execution_count": 57,
     "metadata": {},
     "output_type": "execute_result"
    }
   ],
   "source": [
    "# store median runtime (in miliseconds)\n",
    "benchmark_result[\"Python builtin\"] = median(bm.times) / 1e6"
   ]
  },
  {
   "cell_type": "markdown",
   "metadata": {},
   "source": [
    "### Python, handwritten loop"
   ]
  },
  {
   "cell_type": "code",
   "execution_count": 58,
   "metadata": {},
   "outputs": [
    {
     "data": {
      "text/plain": [
       "BenchmarkTools.Trial: \n",
       "  memory estimate:  368 bytes\n",
       "  allocs estimate:  8\n",
       "  --------------\n",
       "  minimum time:     96.864 ms (0.00% GC)\n",
       "  median time:      101.652 ms (0.00% GC)\n",
       "  mean time:        101.390 ms (0.00% GC)\n",
       "  maximum time:     109.707 ms (0.00% GC)\n",
       "  --------------\n",
       "  samples:          50\n",
       "  evals/sample:     1"
      ]
     },
     "execution_count": 58,
     "metadata": {},
     "output_type": "execute_result"
    }
   ],
   "source": [
    "using PyCall\n",
    "\n",
    "py\"\"\"\n",
    "def py_sum(A):\n",
    "    s = 0.0\n",
    "    for a in A:\n",
    "        s += a\n",
    "    return s\n",
    "\"\"\"\n",
    "\n",
    "sum_py = py\"py_sum\"\n",
    "\n",
    "bm = @benchmark $sum_py($x)"
   ]
  },
  {
   "cell_type": "code",
   "execution_count": 59,
   "metadata": {},
   "outputs": [
    {
     "data": {
      "text/plain": [
       "101.652003"
      ]
     },
     "execution_count": 59,
     "metadata": {},
     "output_type": "execute_result"
    }
   ],
   "source": [
    "# store median runtime (in miliseconds)\n",
    "benchmark_result[\"Python loop\"] = median(bm.times) / 1e6"
   ]
  },
  {
   "cell_type": "markdown",
   "metadata": {},
   "source": [
    "### Python, numpy\n",
    "\n",
    "Numpy is the high-performance scientific computing library for Python."
   ]
  },
  {
   "cell_type": "code",
   "execution_count": 60,
   "metadata": {},
   "outputs": [
    {
     "data": {
      "text/plain": [
       "PyObject <function sum at 0x128308b70>"
      ]
     },
     "execution_count": 60,
     "metadata": {},
     "output_type": "execute_result"
    }
   ],
   "source": [
    "# bring in sum function from Numpy \n",
    "numpy_sum = pyimport(\"numpy\").\"sum\""
   ]
  },
  {
   "cell_type": "code",
   "execution_count": 61,
   "metadata": {},
   "outputs": [
    {
     "data": {
      "text/plain": [
       "BenchmarkTools.Trial: \n",
       "  memory estimate:  368 bytes\n",
       "  allocs estimate:  8\n",
       "  --------------\n",
       "  minimum time:     303.052 μs (0.00% GC)\n",
       "  median time:      336.714 μs (0.00% GC)\n",
       "  mean time:        357.059 μs (0.00% GC)\n",
       "  maximum time:     2.370 ms (0.00% GC)\n",
       "  --------------\n",
       "  samples:          10000\n",
       "  evals/sample:     1"
      ]
     },
     "execution_count": 61,
     "metadata": {},
     "output_type": "execute_result"
    }
   ],
   "source": [
    "bm = @benchmark $numpy_sum($x)"
   ]
  },
  {
   "cell_type": "code",
   "execution_count": 62,
   "metadata": {},
   "outputs": [
    {
     "data": {
      "text/plain": [
       "0.336714"
      ]
     },
     "execution_count": 62,
     "metadata": {},
     "output_type": "execute_result"
    }
   ],
   "source": [
    "# store median runtime (in miliseconds)\n",
    "benchmark_result[\"Python numpy\"] = median(bm.times) / 1e6"
   ]
  },
  {
   "cell_type": "markdown",
   "metadata": {},
   "source": [
    "Numpy performance is on a par with Julia build-in sum function. Both are about 3 times faster than C, possibly because of usage of [SIMD](https://en.wikipedia.org/wiki/SIMD)."
   ]
  },
  {
   "cell_type": "markdown",
   "metadata": {},
   "source": [
    "### Summary"
   ]
  },
  {
   "cell_type": "code",
   "execution_count": 63,
   "metadata": {},
   "outputs": [
    {
     "data": {
      "text/plain": [
       "Dict{Any,Any} with 7 entries:\n",
       "  \"R builtin\"      => 0.995058\n",
       "  \"Julia builtin\"  => 0.268166\n",
       "  \"Python builtin\" => 83.3591\n",
       "  \"C\"              => 1.13418\n",
       "  \"Python loop\"    => 101.652\n",
       "  \"Python numpy\"   => 0.336714\n",
       "  \"R loop\"         => 27.2129"
      ]
     },
     "execution_count": 63,
     "metadata": {},
     "output_type": "execute_result"
    }
   ],
   "source": [
    "benchmark_result"
   ]
  },
  {
   "cell_type": "markdown",
   "metadata": {},
   "source": [
    "* `C` and `R builtin` are the baseline C performance (gold standard).\n",
    "\n",
    "* `Python builtin` and `Python loop` are 80-100 fold slower than C because the loop is interpreted.\n",
    "\n",
    "* `R loop` is about 30 folder slower than C and indicates the performance of bytecode generated by its compiler package (turned on by default since R v3.4.0 (Apr 2017)). \n",
    "\n",
    "* `Julia builtin` and `Python numpy` are 3-4 folder faster than C because of SIMD (???)."
   ]
  },
  {
   "cell_type": "markdown",
   "metadata": {},
   "source": [
    "## Matrices and vectors"
   ]
  },
  {
   "cell_type": "markdown",
   "metadata": {},
   "source": [
    "### Dimensions"
   ]
  },
  {
   "cell_type": "code",
   "execution_count": 64,
   "metadata": {},
   "outputs": [
    {
     "data": {
      "text/plain": [
       "5×3 Array{Float64,2}:\n",
       "  0.598655   -0.649164  -0.20795  \n",
       " -1.50715     1.41208    0.29778  \n",
       " -2.08909     0.283026  -1.37727  \n",
       "  0.0489631   2.06727   -0.0209721\n",
       " -0.0975634  -0.194017   0.133924 "
      ]
     },
     "execution_count": 64,
     "metadata": {},
     "output_type": "execute_result"
    }
   ],
   "source": [
    "x = randn(5, 3)"
   ]
  },
  {
   "cell_type": "code",
   "execution_count": 65,
   "metadata": {},
   "outputs": [
    {
     "data": {
      "text/plain": [
       "(5, 3)"
      ]
     },
     "execution_count": 65,
     "metadata": {},
     "output_type": "execute_result"
    }
   ],
   "source": [
    "size(x)"
   ]
  },
  {
   "cell_type": "code",
   "execution_count": 66,
   "metadata": {},
   "outputs": [
    {
     "data": {
      "text/plain": [
       "5"
      ]
     },
     "execution_count": 66,
     "metadata": {},
     "output_type": "execute_result"
    }
   ],
   "source": [
    "size(x, 1) # nrow() in R"
   ]
  },
  {
   "cell_type": "code",
   "execution_count": 67,
   "metadata": {},
   "outputs": [
    {
     "data": {
      "text/plain": [
       "3"
      ]
     },
     "execution_count": 67,
     "metadata": {},
     "output_type": "execute_result"
    }
   ],
   "source": [
    "size(x, 2)"
   ]
  },
  {
   "cell_type": "code",
   "execution_count": 68,
   "metadata": {},
   "outputs": [
    {
     "data": {
      "text/plain": [
       "15"
      ]
     },
     "execution_count": 68,
     "metadata": {},
     "output_type": "execute_result"
    }
   ],
   "source": [
    "# total number of elements\n",
    "length(x)"
   ]
  },
  {
   "cell_type": "markdown",
   "metadata": {},
   "source": [
    "### Indexing"
   ]
  },
  {
   "cell_type": "code",
   "execution_count": 69,
   "metadata": {},
   "outputs": [
    {
     "data": {
      "text/plain": [
       "5×5 Array{Float64,2}:\n",
       "  1.40584   -0.435559  -1.77228    0.616302   0.979726  \n",
       " -0.434523   0.986161   0.942634  -1.27926   -1.15752   \n",
       "  0.643141   0.39562    0.396688  -0.220179  -0.841993  \n",
       " -1.23652   -1.03567   -1.227     -1.13857   -1.86035   \n",
       "  0.528711  -1.36271   -0.387252   0.79865    0.00320293"
      ]
     },
     "execution_count": 69,
     "metadata": {},
     "output_type": "execute_result"
    }
   ],
   "source": [
    "# 5 × 5 matrix of random Normal(0, 1)\n",
    "x = randn(5, 5)"
   ]
  },
  {
   "cell_type": "code",
   "execution_count": 70,
   "metadata": {},
   "outputs": [
    {
     "data": {
      "text/plain": [
       "5-element Array{Float64,1}:\n",
       "  1.405836567860699 \n",
       " -0.4345229408667341\n",
       "  0.6431414215485608\n",
       " -1.2365159892763888\n",
       "  0.5287106504891519"
      ]
     },
     "execution_count": 70,
     "metadata": {},
     "output_type": "execute_result"
    }
   ],
   "source": [
    "# first column\n",
    "x[:, 1]"
   ]
  },
  {
   "cell_type": "code",
   "execution_count": 71,
   "metadata": {},
   "outputs": [
    {
     "data": {
      "text/plain": [
       "5-element Array{Float64,1}:\n",
       "  1.405836567860699 \n",
       " -0.4355593559026318\n",
       " -1.7722776947141923\n",
       "  0.6163015601209474\n",
       "  0.9797260369028392"
      ]
     },
     "execution_count": 71,
     "metadata": {},
     "output_type": "execute_result"
    }
   ],
   "source": [
    "# first row\n",
    "x[1, :]"
   ]
  },
  {
   "cell_type": "code",
   "execution_count": 72,
   "metadata": {},
   "outputs": [
    {
     "data": {
      "text/plain": [
       "2×2 Array{Float64,2}:\n",
       " -0.435559  -1.77228 \n",
       "  0.986161   0.942634"
      ]
     },
     "execution_count": 72,
     "metadata": {},
     "output_type": "execute_result"
    }
   ],
   "source": [
    "# sub-array\n",
    "x[1:2, 2:3]"
   ]
  },
  {
   "cell_type": "code",
   "execution_count": 73,
   "metadata": {},
   "outputs": [
    {
     "data": {
      "text/plain": [
       "2×2 view(::Array{Float64,2}, 1:2, 2:3) with eltype Float64:\n",
       " -0.435559  -1.77228 \n",
       "  0.986161   0.942634"
      ]
     },
     "execution_count": 73,
     "metadata": {},
     "output_type": "execute_result"
    }
   ],
   "source": [
    "# getting a subset of a matrix creates a copy, but you can also create \"views\"\n",
    "z = view(x, 1:2, 2:3)"
   ]
  },
  {
   "cell_type": "code",
   "execution_count": 74,
   "metadata": {},
   "outputs": [
    {
     "data": {
      "text/plain": [
       "2×2 view(::Array{Float64,2}, 1:2, 2:3) with eltype Float64:\n",
       " -0.435559  -1.77228 \n",
       "  0.986161   0.942634"
      ]
     },
     "execution_count": 74,
     "metadata": {},
     "output_type": "execute_result"
    }
   ],
   "source": [
    "# same as\n",
    "@views z = x[1:2, 2:3]"
   ]
  },
  {
   "cell_type": "code",
   "execution_count": 75,
   "metadata": {},
   "outputs": [
    {
     "data": {
      "text/plain": [
       "5×5 Array{Float64,2}:\n",
       "  1.40584   -0.435559  -1.77228    0.616302   0.979726  \n",
       " -0.434523   0.986161   0.0       -1.27926   -1.15752   \n",
       "  0.643141   0.39562    0.396688  -0.220179  -0.841993  \n",
       " -1.23652   -1.03567   -1.227     -1.13857   -1.86035   \n",
       "  0.528711  -1.36271   -0.387252   0.79865    0.00320293"
      ]
     },
     "execution_count": 75,
     "metadata": {},
     "output_type": "execute_result"
    }
   ],
   "source": [
    "# change in z (view) changes x as well\n",
    "z[2, 2] = 0.0\n",
    "x"
   ]
  },
  {
   "cell_type": "code",
   "execution_count": 76,
   "metadata": {},
   "outputs": [
    {
     "data": {
      "text/plain": [
       "5×5 Array{Float64,2}:\n",
       "  1.40584   -0.435559  -1.77228    0.616302   0.979726  \n",
       " -0.434523   0.986161   0.0       -1.27926   -1.15752   \n",
       "  0.643141   0.39562    0.396688  -0.220179  -0.841993  \n",
       " -1.23652   -1.03567   -1.227     -1.13857   -1.86035   \n",
       "  0.528711  -1.36271   -0.387252   0.79865    0.00320293"
      ]
     },
     "execution_count": 76,
     "metadata": {},
     "output_type": "execute_result"
    }
   ],
   "source": [
    "# y points to same data as x\n",
    "y = x"
   ]
  },
  {
   "cell_type": "code",
   "execution_count": 77,
   "metadata": {},
   "outputs": [
    {
     "data": {
      "text/plain": [
       "(Ptr{Float64} @0x000000011a458050, Ptr{Float64} @0x000000011a458050)"
      ]
     },
     "execution_count": 77,
     "metadata": {},
     "output_type": "execute_result"
    }
   ],
   "source": [
    "# x and y point to same data\n",
    "pointer(x), pointer(y)"
   ]
  },
  {
   "cell_type": "code",
   "execution_count": 78,
   "metadata": {},
   "outputs": [
    {
     "data": {
      "text/plain": [
       "5×5 Array{Float64,2}:\n",
       " 0.0  -0.435559  -1.77228    0.616302   0.979726  \n",
       " 0.0   0.986161   0.0       -1.27926   -1.15752   \n",
       " 0.0   0.39562    0.396688  -0.220179  -0.841993  \n",
       " 0.0  -1.03567   -1.227     -1.13857   -1.86035   \n",
       " 0.0  -1.36271   -0.387252   0.79865    0.00320293"
      ]
     },
     "execution_count": 78,
     "metadata": {},
     "output_type": "execute_result"
    }
   ],
   "source": [
    "# changing y also changes x\n",
    "y[:, 1] .= 0\n",
    "x"
   ]
  },
  {
   "cell_type": "code",
   "execution_count": 79,
   "metadata": {},
   "outputs": [
    {
     "data": {
      "text/plain": [
       "5×5 Array{Float64,2}:\n",
       " 0.0  -0.435559  -1.77228    0.616302   0.979726  \n",
       " 0.0   0.986161   0.0       -1.27926   -1.15752   \n",
       " 0.0   0.39562    0.396688  -0.220179  -0.841993  \n",
       " 0.0  -1.03567   -1.227     -1.13857   -1.86035   \n",
       " 0.0  -1.36271   -0.387252   0.79865    0.00320293"
      ]
     },
     "execution_count": 79,
     "metadata": {},
     "output_type": "execute_result"
    }
   ],
   "source": [
    "# create a new copy of data\n",
    "z = copy(x)"
   ]
  },
  {
   "cell_type": "code",
   "execution_count": 80,
   "metadata": {},
   "outputs": [
    {
     "data": {
      "text/plain": [
       "(Ptr{Float64} @0x000000011a458050, Ptr{Float64} @0x000000011a458950)"
      ]
     },
     "execution_count": 80,
     "metadata": {},
     "output_type": "execute_result"
    }
   ],
   "source": [
    "pointer(x), pointer(z)"
   ]
  },
  {
   "cell_type": "markdown",
   "metadata": {},
   "source": [
    "### Concatenate matrices"
   ]
  },
  {
   "cell_type": "code",
   "execution_count": 81,
   "metadata": {},
   "outputs": [
    {
     "data": {
      "text/plain": [
       "1×3 Array{Int64,2}:\n",
       " 1  2  3"
      ]
     },
     "execution_count": 81,
     "metadata": {},
     "output_type": "execute_result"
    }
   ],
   "source": [
    "# 1-by-3 array\n",
    "[1 2 3]"
   ]
  },
  {
   "cell_type": "code",
   "execution_count": 82,
   "metadata": {},
   "outputs": [
    {
     "data": {
      "text/plain": [
       "3-element Array{Int64,1}:\n",
       " 1\n",
       " 2\n",
       " 3"
      ]
     },
     "execution_count": 82,
     "metadata": {},
     "output_type": "execute_result"
    }
   ],
   "source": [
    "# 3-by-1 vector\n",
    "[1, 2, 3]"
   ]
  },
  {
   "cell_type": "code",
   "execution_count": 83,
   "metadata": {},
   "outputs": [
    {
     "data": {
      "text/plain": [
       "([1.07455 2.55508 1.26546; 0.385123 -0.660738 -1.64513; … ; -0.583523 0.43622 0.385691; 0.832241 -1.32354 0.177505], [-0.997382 -0.488503; -0.817314 0.673586; … ; -1.39357 0.729497; 0.53823 0.57519], [-2.30427 1.62085 … 0.054552 0.49251; 1.3284 -1.14737 … 0.167511 -1.1699; -0.908365 0.423386 … -1.26891 0.883105])"
      ]
     },
     "execution_count": 83,
     "metadata": {},
     "output_type": "execute_result"
    }
   ],
   "source": [
    "# multiple assignment by tuple\n",
    "x, y, z = randn(5, 3), randn(5, 2), randn(3, 5)"
   ]
  },
  {
   "cell_type": "code",
   "execution_count": 84,
   "metadata": {},
   "outputs": [
    {
     "data": {
      "text/plain": [
       "5×5 Array{Float64,2}:\n",
       "  1.07455    2.55508    1.26546   -0.997382  -0.488503\n",
       "  0.385123  -0.660738  -1.64513   -0.817314   0.673586\n",
       " -2.38285   -0.693591  -0.465704   0.605258   0.302012\n",
       " -0.583523   0.43622    0.385691  -1.39357    0.729497\n",
       "  0.832241  -1.32354    0.177505   0.53823    0.57519 "
      ]
     },
     "execution_count": 84,
     "metadata": {},
     "output_type": "execute_result"
    }
   ],
   "source": [
    "[x y] # 5-by-5 matrix"
   ]
  },
  {
   "cell_type": "code",
   "execution_count": 85,
   "metadata": {},
   "outputs": [
    {
     "data": {
      "text/plain": [
       "8×5 Array{Float64,2}:\n",
       "  1.07455    2.55508    1.26546    -0.997382  -0.488503\n",
       "  0.385123  -0.660738  -1.64513    -0.817314   0.673586\n",
       " -2.38285   -0.693591  -0.465704    0.605258   0.302012\n",
       " -0.583523   0.43622    0.385691   -1.39357    0.729497\n",
       "  0.832241  -1.32354    0.177505    0.53823    0.57519 \n",
       " -2.30427    1.62085   -0.0751243   0.054552   0.49251 \n",
       "  1.3284    -1.14737   -0.121207    0.167511  -1.1699  \n",
       " -0.908365   0.423386  -0.163381   -1.26891    0.883105"
      ]
     },
     "execution_count": 85,
     "metadata": {},
     "output_type": "execute_result"
    }
   ],
   "source": [
    "[x y; z] # 8-by-5 matrix"
   ]
  },
  {
   "cell_type": "markdown",
   "metadata": {},
   "source": [
    "### Dot operation\n",
    "\n",
    "Dot operation in Julia is elementwise operation, similar to Matlab."
   ]
  },
  {
   "cell_type": "code",
   "execution_count": 86,
   "metadata": {},
   "outputs": [
    {
     "data": {
      "text/plain": [
       "5×3 Array{Float64,2}:\n",
       "  1.42693     1.1571     0.352857\n",
       "  0.270257   -0.17928    0.137277\n",
       " -0.0178663  -1.02672   -0.321545\n",
       "  0.865855   -0.232668   1.1365  \n",
       "  0.0332832   0.886387  -1.66359 "
      ]
     },
     "execution_count": 86,
     "metadata": {},
     "output_type": "execute_result"
    }
   ],
   "source": [
    "x = randn(5, 3)"
   ]
  },
  {
   "cell_type": "code",
   "execution_count": 87,
   "metadata": {},
   "outputs": [
    {
     "data": {
      "text/plain": [
       "5×3 Array{Float64,2}:\n",
       " 1.0  1.0  1.0\n",
       " 1.0  1.0  1.0\n",
       " 1.0  1.0  1.0\n",
       " 1.0  1.0  1.0\n",
       " 1.0  1.0  1.0"
      ]
     },
     "execution_count": 87,
     "metadata": {},
     "output_type": "execute_result"
    }
   ],
   "source": [
    "y = ones(5, 3)"
   ]
  },
  {
   "cell_type": "code",
   "execution_count": 88,
   "metadata": {},
   "outputs": [
    {
     "data": {
      "text/plain": [
       "5×3 Array{Float64,2}:\n",
       "  1.42693     1.1571     0.352857\n",
       "  0.270257   -0.17928    0.137277\n",
       " -0.0178663  -1.02672   -0.321545\n",
       "  0.865855   -0.232668   1.1365  \n",
       "  0.0332832   0.886387  -1.66359 "
      ]
     },
     "execution_count": 88,
     "metadata": {},
     "output_type": "execute_result"
    }
   ],
   "source": [
    "x .* y # same x * y in R"
   ]
  },
  {
   "cell_type": "code",
   "execution_count": 89,
   "metadata": {},
   "outputs": [
    {
     "data": {
      "text/plain": [
       "5×3 Array{Float64,2}:\n",
       "    0.491126   0.746898   8.0316  \n",
       "   13.6914    31.1127    53.0649  \n",
       " 3132.79       0.948625   9.67199 \n",
       "    1.33386   18.4725     0.774221\n",
       "  902.711      1.27278    0.361334"
      ]
     },
     "execution_count": 89,
     "metadata": {},
     "output_type": "execute_result"
    }
   ],
   "source": [
    "x .^ (-2)"
   ]
  },
  {
   "cell_type": "code",
   "execution_count": 90,
   "metadata": {},
   "outputs": [
    {
     "data": {
      "text/plain": [
       "5×3 Array{Float64,2}:\n",
       "  0.98967     0.91564    0.34558 \n",
       "  0.266979   -0.178321   0.136846\n",
       " -0.0178653  -0.855607  -0.316033\n",
       "  0.76165    -0.230575   0.907164\n",
       "  0.0332771   0.774793  -0.995698"
      ]
     },
     "execution_count": 90,
     "metadata": {},
     "output_type": "execute_result"
    }
   ],
   "source": [
    "sin.(x)"
   ]
  },
  {
   "cell_type": "markdown",
   "metadata": {},
   "source": [
    "### Basic linear algebra"
   ]
  },
  {
   "cell_type": "code",
   "execution_count": 91,
   "metadata": {},
   "outputs": [
    {
     "data": {
      "text/plain": [
       "5-element Array{Float64,1}:\n",
       " -0.48876941581527183\n",
       " -1.8898912365052984 \n",
       "  0.4752801478661729 \n",
       "  0.5986586722127957 \n",
       "  1.8129740483514514 "
      ]
     },
     "execution_count": 91,
     "metadata": {},
     "output_type": "execute_result"
    }
   ],
   "source": [
    "x = randn(5)"
   ]
  },
  {
   "cell_type": "code",
   "execution_count": 92,
   "metadata": {},
   "outputs": [
    {
     "data": {
      "text/plain": [
       "2.77159570508093"
      ]
     },
     "execution_count": 92,
     "metadata": {},
     "output_type": "execute_result"
    }
   ],
   "source": [
    "using LinearAlgebra\n",
    "# vector L2 norm\n",
    "norm(x)"
   ]
  },
  {
   "cell_type": "code",
   "execution_count": 93,
   "metadata": {},
   "outputs": [
    {
     "data": {
      "text/plain": [
       "2.77159570508093"
      ]
     },
     "execution_count": 93,
     "metadata": {},
     "output_type": "execute_result"
    }
   ],
   "source": [
    "# same as\n",
    "sqrt(sum(abs2, x))"
   ]
  },
  {
   "cell_type": "code",
   "execution_count": 94,
   "metadata": {},
   "outputs": [
    {
     "data": {
      "text/plain": [
       "-2.0757729618710195"
      ]
     },
     "execution_count": 94,
     "metadata": {},
     "output_type": "execute_result"
    }
   ],
   "source": [
    "y = randn(5) # another vector\n",
    "# dot product\n",
    "dot(x, y) # x' * y"
   ]
  },
  {
   "cell_type": "code",
   "execution_count": 95,
   "metadata": {},
   "outputs": [
    {
     "data": {
      "text/plain": [
       "-2.0757729618710195"
      ]
     },
     "execution_count": 95,
     "metadata": {},
     "output_type": "execute_result"
    }
   ],
   "source": [
    "# same as\n",
    "x'y"
   ]
  },
  {
   "cell_type": "code",
   "execution_count": 96,
   "metadata": {},
   "outputs": [
    {
     "data": {
      "text/plain": [
       "5×2 Array{Float64,2}:\n",
       " -0.159807   0.579995\n",
       "  0.621269   1.32793 \n",
       "  0.591513  -1.99637 \n",
       " -0.713616   0.684772\n",
       " -0.557596   0.75847 "
      ]
     },
     "execution_count": 96,
     "metadata": {},
     "output_type": "execute_result"
    }
   ],
   "source": [
    "x, y = randn(5, 3), randn(3, 2)\n",
    "# matrix multiplication, same as %*% in R\n",
    "x * y"
   ]
  },
  {
   "cell_type": "code",
   "execution_count": 97,
   "metadata": {},
   "outputs": [
    {
     "data": {
      "text/plain": [
       "3×3 Array{Float64,2}:\n",
       "  0.153422   1.0588      0.277495\n",
       "  0.271558   0.0482019   0.326489\n",
       " -1.21251   -0.0983329  -0.623121"
      ]
     },
     "execution_count": 97,
     "metadata": {},
     "output_type": "execute_result"
    }
   ],
   "source": [
    "x = randn(3, 3)"
   ]
  },
  {
   "cell_type": "code",
   "execution_count": 98,
   "metadata": {},
   "outputs": [
    {
     "data": {
      "text/plain": [
       "3×3 Adjoint{Float64,Array{Float64,2}}:\n",
       " 0.153422  0.271558   -1.21251  \n",
       " 1.0588    0.0482019  -0.0983329\n",
       " 0.277495  0.326489   -0.623121 "
      ]
     },
     "execution_count": 98,
     "metadata": {},
     "output_type": "execute_result"
    }
   ],
   "source": [
    "# conjugate transpose\n",
    "x'"
   ]
  },
  {
   "cell_type": "code",
   "execution_count": 99,
   "metadata": {},
   "outputs": [
    {
     "data": {
      "text/plain": [
       "3-element Array{Float64,1}:\n",
       " -0.8462924095954427 \n",
       "  0.46434157973051327\n",
       " -0.1889119302892237 "
      ]
     },
     "execution_count": 99,
     "metadata": {},
     "output_type": "execute_result"
    }
   ],
   "source": [
    "b = rand(3)\n",
    "x'b # same as x' * b"
   ]
  },
  {
   "cell_type": "code",
   "execution_count": 100,
   "metadata": {},
   "outputs": [
    {
     "data": {
      "text/plain": [
       "-0.4214969667533476"
      ]
     },
     "execution_count": 100,
     "metadata": {},
     "output_type": "execute_result"
    }
   ],
   "source": [
    "# trace\n",
    "tr(x)"
   ]
  },
  {
   "cell_type": "code",
   "execution_count": 101,
   "metadata": {},
   "outputs": [
    {
     "data": {
      "text/plain": [
       "-0.2308584804640239"
      ]
     },
     "execution_count": 101,
     "metadata": {},
     "output_type": "execute_result"
    }
   ],
   "source": [
    "det(x)"
   ]
  },
  {
   "cell_type": "code",
   "execution_count": 102,
   "metadata": {},
   "outputs": [
    {
     "data": {
      "text/plain": [
       "3"
      ]
     },
     "execution_count": 102,
     "metadata": {},
     "output_type": "execute_result"
    }
   ],
   "source": [
    "rank(x)"
   ]
  },
  {
   "cell_type": "markdown",
   "metadata": {},
   "source": [
    "### Sparse matrices"
   ]
  },
  {
   "cell_type": "code",
   "execution_count": 103,
   "metadata": {},
   "outputs": [
    {
     "data": {
      "text/plain": [
       "10×10 SparseMatrixCSC{Float64,Int64} with 10 stored entries:\n",
       "  [6 ,  1]  =  -0.251681\n",
       "  [5 ,  2]  =  -0.778148\n",
       "  [9 ,  4]  =  -0.119565\n",
       "  [2 ,  5]  =  -0.616153\n",
       "  [7 ,  5]  =  -1.40975\n",
       "  [2 ,  7]  =  0.84617\n",
       "  [7 ,  7]  =  -0.207459\n",
       "  [9 ,  8]  =  -0.0429563\n",
       "  [5 ,  9]  =  -0.388533\n",
       "  [2 , 10]  =  -0.209722"
      ]
     },
     "execution_count": 103,
     "metadata": {},
     "output_type": "execute_result"
    }
   ],
   "source": [
    "using SparseArrays\n",
    "\n",
    "# 10-by-10 sparse matrix with sparsity 0.1\n",
    "X = sprandn(10, 10, .1)"
   ]
  },
  {
   "cell_type": "code",
   "execution_count": 104,
   "metadata": {},
   "outputs": [
    {
     "data": {
      "text/plain": [
       "10×10 Array{Float64,2}:\n",
       "  0.0        0.0       0.0   0.0       …   0.0         0.0        0.0     \n",
       "  0.0        0.0       0.0   0.0           0.0         0.0       -0.209722\n",
       "  0.0        0.0       0.0   0.0           0.0         0.0        0.0     \n",
       "  0.0        0.0       0.0   0.0           0.0         0.0        0.0     \n",
       "  0.0       -0.778148  0.0   0.0           0.0        -0.388533   0.0     \n",
       " -0.251681   0.0       0.0   0.0       …   0.0         0.0        0.0     \n",
       "  0.0        0.0       0.0   0.0           0.0         0.0        0.0     \n",
       "  0.0        0.0       0.0   0.0           0.0         0.0        0.0     \n",
       "  0.0        0.0       0.0  -0.119565     -0.0429563   0.0        0.0     \n",
       "  0.0        0.0       0.0   0.0           0.0         0.0        0.0     "
      ]
     },
     "execution_count": 104,
     "metadata": {},
     "output_type": "execute_result"
    }
   ],
   "source": [
    "# convert to dense matrix; be cautious when dealing with big data\n",
    "Xfull = convert(Matrix{Float64}, X)"
   ]
  },
  {
   "cell_type": "code",
   "execution_count": 105,
   "metadata": {},
   "outputs": [
    {
     "data": {
      "text/plain": [
       "10×10 SparseMatrixCSC{Float64,Int64} with 10 stored entries:\n",
       "  [6 ,  1]  =  -0.251681\n",
       "  [5 ,  2]  =  -0.778148\n",
       "  [9 ,  4]  =  -0.119565\n",
       "  [2 ,  5]  =  -0.616153\n",
       "  [7 ,  5]  =  -1.40975\n",
       "  [2 ,  7]  =  0.84617\n",
       "  [7 ,  7]  =  -0.207459\n",
       "  [9 ,  8]  =  -0.0429563\n",
       "  [5 ,  9]  =  -0.388533\n",
       "  [2 , 10]  =  -0.209722"
      ]
     },
     "execution_count": 105,
     "metadata": {},
     "output_type": "execute_result"
    }
   ],
   "source": [
    "# convert a dense matrix to sparse matrix\n",
    "sparse(Xfull)"
   ]
  },
  {
   "cell_type": "code",
   "execution_count": 106,
   "metadata": {},
   "outputs": [
    {
     "data": {
      "text/plain": [
       "10-element Array{Float64,1}:\n",
       "  0.0                \n",
       "  0.02029443774752057\n",
       "  0.0                \n",
       "  0.0                \n",
       " -1.1666816429212037 \n",
       " -0.25168069117368247\n",
       " -1.617210771834139  \n",
       "  0.0                \n",
       " -0.1625211385544279 \n",
       "  0.0                "
      ]
     },
     "execution_count": 106,
     "metadata": {},
     "output_type": "execute_result"
    }
   ],
   "source": [
    "# syntax for sparse linear algebra is same as dense linear algebra\n",
    "β = ones(10)\n",
    "X * β"
   ]
  },
  {
   "cell_type": "code",
   "execution_count": 107,
   "metadata": {},
   "outputs": [
    {
     "data": {
      "text/plain": [
       "-3.177799806735933"
      ]
     },
     "execution_count": 107,
     "metadata": {},
     "output_type": "execute_result"
    }
   ],
   "source": [
    "# many functions apply to sparse matrices as well\n",
    "sum(X)"
   ]
  },
  {
   "cell_type": "markdown",
   "metadata": {},
   "source": [
    "## Control flow and loops\n",
    "\n",
    "* if-elseif-else-end\n",
    "\n",
    "```julia\n",
    "if condition1\n",
    "    # do something\n",
    "elseif condition2\n",
    "    # do something\n",
    "else\n",
    "    # do something\n",
    "end\n",
    "```\n",
    "\n",
    "* `for` loop\n",
    "\n",
    "```julia\n",
    "for i in 1:10\n",
    "    println(i)\n",
    "end\n",
    "```\n",
    "\n",
    "* Nested `for` loop:\n",
    "\n",
    "```julia\n",
    "for i in 1:10\n",
    "    for j in 1:5\n",
    "        println(i * j)\n",
    "    end\n",
    "end\n",
    "```\n",
    "Same as\n",
    "\n",
    "```julia\n",
    "for i in 1:10, j in 1:5\n",
    "    println(i * j)\n",
    "end\n",
    "```\n",
    "\n",
    "* Exit loop:\n",
    "\n",
    "```julia\n",
    "for i in 1:10\n",
    "    # do something\n",
    "    if condition1\n",
    "        break # skip remaining loop\n",
    "    end\n",
    "end\n",
    "```\n",
    "\n",
    "* Exit iteration:  \n",
    "\n",
    "```julia\n",
    "for i in 1:10\n",
    "    # do something\n",
    "    if condition1\n",
    "        continue # skip to next iteration\n",
    "    end\n",
    "    # do something\n",
    "end\n",
    "```"
   ]
  },
  {
   "cell_type": "markdown",
   "metadata": {},
   "source": [
    "## Functions \n",
    "\n",
    "* In Julia, all arguments to functions are **passed by reference**, in contrast to R and Matlab.\n",
    "\n",
    "* Function names ending with `!` indicates that function mutates at least one argument, typically the first.\n",
    "```julia\n",
    "sort!(x) # vs sort(x)\n",
    "```\n",
    "\n",
    "* Function definition\n",
    "\n",
    "```julia\n",
    "function func(req1, req2; key1=dflt1, key2=dflt2)\n",
    "    # do stuff\n",
    "    return out1, out2, out3\n",
    "end\n",
    "```\n",
    "**Required arguments** are separated with a comma and use the positional notation.  \n",
    "**Optional arguments** need a default value in the signature.  \n",
    "**Semicolon** is not required in function call.  \n",
    "**return** statement is optional.  \n",
    "Multiple outputs can be returned as a **tuple**, e.g., `return out1, out2, out3`.  \n",
    "\n",
    "* Anonymous functions, e.g., `x -> x^2`, is commonly used in collection function or list comprehensions.\n",
    "```julia\n",
    "map(x -> x^2, y) # square each element in x\n",
    "```\n",
    "\n",
    "* Functions can be nested:\n",
    "\n",
    "```julia\n",
    "function outerfunction()\n",
    "    # do some outer stuff\n",
    "    function innerfunction()\n",
    "        # do inner stuff\n",
    "        # can access prior outer definitions\n",
    "    end\n",
    "    # do more outer stuff\n",
    "end\n",
    "```\n",
    "\n",
    "* Functions can be vectorized using the Dot syntax:"
   ]
  },
  {
   "cell_type": "code",
   "execution_count": 108,
   "metadata": {},
   "outputs": [
    {
     "data": {
      "text/plain": [
       "5×3 Array{Float64,2}:\n",
       "  0.639626   0.0671957   0.275807  \n",
       "  0.139496   0.387134    0.414554  \n",
       "  0.721616   0.00984144  0.79227   \n",
       " -0.633982  -0.556283    0.0602744 \n",
       "  0.544461   0.156409    0.00768604"
      ]
     },
     "execution_count": 108,
     "metadata": {},
     "output_type": "execute_result"
    }
   ],
   "source": [
    "function myfunc(x)\n",
    "    return sin(x^2)\n",
    "end\n",
    "\n",
    "x = randn(5, 3)\n",
    "myfunc.(x)"
   ]
  },
  {
   "cell_type": "markdown",
   "metadata": {},
   "source": [
    "* **Collection function** (think this as the series of `apply` functions in R).\n",
    "\n",
    "    Apply a function to each element of a collection:\n",
    "\n",
    "```julia\n",
    "map(f, coll) # or\n",
    "map(coll) do elem\n",
    "    # do stuff with elem\n",
    "    # must contain return\n",
    "end\n",
    "```"
   ]
  },
  {
   "cell_type": "code",
   "execution_count": 109,
   "metadata": {},
   "outputs": [
    {
     "data": {
      "text/plain": [
       "5×3 Array{Float64,2}:\n",
       "  0.639626   0.0671957   0.275807  \n",
       "  0.139496   0.387134    0.414554  \n",
       "  0.721616   0.00984144  0.79227   \n",
       " -0.633982  -0.556283    0.0602744 \n",
       "  0.544461   0.156409    0.00768604"
      ]
     },
     "execution_count": 109,
     "metadata": {},
     "output_type": "execute_result"
    }
   ],
   "source": [
    "map(x -> sin(x^2), x)"
   ]
  },
  {
   "cell_type": "code",
   "execution_count": 110,
   "metadata": {},
   "outputs": [
    {
     "data": {
      "text/plain": [
       "5×3 Array{Float64,2}:\n",
       "  0.639626   0.0671957   0.275807  \n",
       "  0.139496   0.387134    0.414554  \n",
       "  0.721616   0.00984144  0.79227   \n",
       " -0.633982  -0.556283    0.0602744 \n",
       "  0.544461   0.156409    0.00768604"
      ]
     },
     "execution_count": 110,
     "metadata": {},
     "output_type": "execute_result"
    }
   ],
   "source": [
    "map(x) do elem\n",
    "    elem = elem^2\n",
    "    return sin(elem)\n",
    "end"
   ]
  },
  {
   "cell_type": "code",
   "execution_count": 111,
   "metadata": {},
   "outputs": [
    {
     "data": {
      "text/plain": [
       "3.026104609456178"
      ]
     },
     "execution_count": 111,
     "metadata": {},
     "output_type": "execute_result"
    }
   ],
   "source": [
    "# Mapreduce\n",
    "mapreduce(x -> sin(x^2), +, x)"
   ]
  },
  {
   "cell_type": "code",
   "execution_count": 112,
   "metadata": {},
   "outputs": [
    {
     "data": {
      "text/plain": [
       "3.026104609456178"
      ]
     },
     "execution_count": 112,
     "metadata": {},
     "output_type": "execute_result"
    }
   ],
   "source": [
    "# same as\n",
    "sum(x -> sin(x^2), x)"
   ]
  },
  {
   "cell_type": "markdown",
   "metadata": {},
   "source": [
    "* List **comprehension**"
   ]
  },
  {
   "cell_type": "code",
   "execution_count": 113,
   "metadata": {},
   "outputs": [
    {
     "data": {
      "text/plain": [
       "5×3 Array{Float64,2}:\n",
       "  0.14112   -0.756802  -0.958924\n",
       " -0.958924  -0.279415   0.656987\n",
       "  0.656987   0.989358   0.412118\n",
       "  0.412118  -0.544021  -0.99999 \n",
       " -0.99999   -0.536573   0.420167"
      ]
     },
     "execution_count": 113,
     "metadata": {},
     "output_type": "execute_result"
    }
   ],
   "source": [
    "[sin(2i + j) for i in 1:5, j in 1:3] # similar to Python"
   ]
  },
  {
   "cell_type": "markdown",
   "metadata": {},
   "source": [
    "## Type system\n",
    "\n",
    "* Every variable in Julia has a type.\n",
    "\n",
    "* When thinking about types, think about sets.\n",
    "\n",
    "* Everything is a subtype of the abstract type `Any`.\n",
    "\n",
    "* An abstract type defines a set of types\n",
    "    - Consider types in Julia that are a `Number`:\n",
    "\n",
    "<img src=\"tree.png\" width=\"600\" align=\"center\"/>\n",
    "\n",
    "* We can explore type hierarchy with `typeof()`, `supertype()`, and `subtypes()`."
   ]
  },
  {
   "cell_type": "code",
   "execution_count": 114,
   "metadata": {},
   "outputs": [
    {
     "data": {
      "text/plain": [
       "(Float64, Int64)"
      ]
     },
     "execution_count": 114,
     "metadata": {},
     "output_type": "execute_result"
    }
   ],
   "source": [
    "typeof(1.0), typeof(1)"
   ]
  },
  {
   "cell_type": "code",
   "execution_count": 115,
   "metadata": {},
   "outputs": [
    {
     "data": {
      "text/plain": [
       "AbstractFloat"
      ]
     },
     "execution_count": 115,
     "metadata": {},
     "output_type": "execute_result"
    }
   ],
   "source": [
    "supertype(Float64)"
   ]
  },
  {
   "cell_type": "code",
   "execution_count": 116,
   "metadata": {},
   "outputs": [
    {
     "data": {
      "text/plain": [
       "4-element Array{Any,1}:\n",
       " BigFloat\n",
       " Float16 \n",
       " Float32 \n",
       " Float64 "
      ]
     },
     "execution_count": 116,
     "metadata": {},
     "output_type": "execute_result"
    }
   ],
   "source": [
    "subtypes(AbstractFloat)"
   ]
  },
  {
   "cell_type": "code",
   "execution_count": 117,
   "metadata": {},
   "outputs": [
    {
     "data": {
      "text/plain": [
       "true"
      ]
     },
     "execution_count": 117,
     "metadata": {},
     "output_type": "execute_result"
    }
   ],
   "source": [
    "# Is Float64 a subtype of AbstractFloat?\n",
    "Float64 <: AbstractFloat"
   ]
  },
  {
   "cell_type": "code",
   "execution_count": 118,
   "metadata": {},
   "outputs": [
    {
     "data": {
      "text/plain": [
       "true"
      ]
     },
     "execution_count": 118,
     "metadata": {},
     "output_type": "execute_result"
    }
   ],
   "source": [
    "# On 64bit machine, Int == Int64\n",
    "Int == Int64"
   ]
  },
  {
   "cell_type": "code",
   "execution_count": 119,
   "metadata": {},
   "outputs": [
    {
     "data": {
      "text/plain": [
       "1.0"
      ]
     },
     "execution_count": 119,
     "metadata": {},
     "output_type": "execute_result"
    }
   ],
   "source": [
    "# convert to Float64\n",
    "convert(Float64, 1)"
   ]
  },
  {
   "cell_type": "code",
   "execution_count": 120,
   "metadata": {},
   "outputs": [
    {
     "data": {
      "text/plain": [
       "1.0"
      ]
     },
     "execution_count": 120,
     "metadata": {},
     "output_type": "execute_result"
    }
   ],
   "source": [
    "# same as\n",
    "Float64(1)"
   ]
  },
  {
   "cell_type": "code",
   "execution_count": 121,
   "metadata": {},
   "outputs": [
    {
     "data": {
      "text/plain": [
       "5-element Array{Float32,1}:\n",
       " -0.27314892\n",
       " -1.4175588 \n",
       "  0.06751722\n",
       " -2.4249308 \n",
       " -0.9561249 "
      ]
     },
     "execution_count": 121,
     "metadata": {},
     "output_type": "execute_result"
    }
   ],
   "source": [
    "# Float32 vector\n",
    "x = randn(Float32, 5)"
   ]
  },
  {
   "cell_type": "code",
   "execution_count": 122,
   "metadata": {},
   "outputs": [
    {
     "data": {
      "text/plain": [
       "5-element Array{Float64,1}:\n",
       " -0.27314892411231995\n",
       " -1.4175587892532349 \n",
       "  0.0675172209739685 \n",
       " -2.4249308109283447 \n",
       " -0.9561249017715454 "
      ]
     },
     "execution_count": 122,
     "metadata": {},
     "output_type": "execute_result"
    }
   ],
   "source": [
    "# convert to Float64\n",
    "convert(Vector{Float64}, x)"
   ]
  },
  {
   "cell_type": "code",
   "execution_count": 123,
   "metadata": {},
   "outputs": [
    {
     "data": {
      "text/plain": [
       "5-element Array{Float64,1}:\n",
       " -0.27314892411231995\n",
       " -1.4175587892532349 \n",
       "  0.0675172209739685 \n",
       " -2.4249308109283447 \n",
       " -0.9561249017715454 "
      ]
     },
     "execution_count": 123,
     "metadata": {},
     "output_type": "execute_result"
    }
   ],
   "source": [
    "# same as\n",
    "Float64.(x)"
   ]
  },
  {
   "cell_type": "code",
   "execution_count": 124,
   "metadata": {},
   "outputs": [
    {
     "data": {
      "text/plain": [
       "1"
      ]
     },
     "execution_count": 124,
     "metadata": {},
     "output_type": "execute_result"
    }
   ],
   "source": [
    "# convert Float64 to Int64\n",
    "convert(Int, 1.0)"
   ]
  },
  {
   "cell_type": "code",
   "execution_count": 125,
   "metadata": {},
   "outputs": [
    {
     "ename": "InexactError",
     "evalue": "InexactError: Int64(1.5)",
     "output_type": "error",
     "traceback": [
      "InexactError: Int64(1.5)",
      "",
      "Stacktrace:",
      " [1] Type at ./float.jl:703 [inlined]",
      " [2] convert(::Type{Int64}, ::Float64) at ./number.jl:7",
      " [3] top-level scope at In[125]:1"
     ]
    }
   ],
   "source": [
    "convert(Int, 1.5) # should use round(1.5)"
   ]
  },
  {
   "cell_type": "code",
   "execution_count": 126,
   "metadata": {},
   "outputs": [
    {
     "data": {
      "text/plain": [
       "2"
      ]
     },
     "execution_count": 126,
     "metadata": {},
     "output_type": "execute_result"
    }
   ],
   "source": [
    "round(Int, 1.5)"
   ]
  },
  {
   "cell_type": "markdown",
   "metadata": {},
   "source": [
    "## Multiple dispatch\n",
    "\n",
    "* Multiple dispatch lies in the core of Julia design. It allows built-in and user-defined functions to be overloaded for different combinations of argument types.\n",
    "\n",
    "* Let's consider a simple \"doubling\" function:"
   ]
  },
  {
   "cell_type": "code",
   "execution_count": 127,
   "metadata": {},
   "outputs": [
    {
     "data": {
      "text/plain": [
       "g (generic function with 1 method)"
      ]
     },
     "execution_count": 127,
     "metadata": {},
     "output_type": "execute_result"
    }
   ],
   "source": [
    "g(x) = x + x"
   ]
  },
  {
   "cell_type": "code",
   "execution_count": 128,
   "metadata": {},
   "outputs": [
    {
     "data": {
      "text/plain": [
       "3.0"
      ]
     },
     "execution_count": 128,
     "metadata": {},
     "output_type": "execute_result"
    }
   ],
   "source": [
    "g(1.5)"
   ]
  },
  {
   "cell_type": "markdown",
   "metadata": {},
   "source": [
    "This definition is too broad, since some things, e.g., strings, can't be added "
   ]
  },
  {
   "cell_type": "code",
   "execution_count": 129,
   "metadata": {},
   "outputs": [
    {
     "ename": "MethodError",
     "evalue": "MethodError: no method matching +(::String, ::String)\nClosest candidates are:\n  +(::Any, ::Any, !Matched::Any, !Matched::Any...) at operators.jl:502\n  +(!Matched::PyObject, ::Any) at /Users/huazhou/.julia/packages/PyCall/a5Jd3/src/pyoperators.jl:13\n  +(::Any, !Matched::PyObject) at /Users/huazhou/.julia/packages/PyCall/a5Jd3/src/pyoperators.jl:14",
     "output_type": "error",
     "traceback": [
      "MethodError: no method matching +(::String, ::String)\nClosest candidates are:\n  +(::Any, ::Any, !Matched::Any, !Matched::Any...) at operators.jl:502\n  +(!Matched::PyObject, ::Any) at /Users/huazhou/.julia/packages/PyCall/a5Jd3/src/pyoperators.jl:13\n  +(::Any, !Matched::PyObject) at /Users/huazhou/.julia/packages/PyCall/a5Jd3/src/pyoperators.jl:14",
      "",
      "Stacktrace:",
      " [1] g(::String) at ./In[127]:1",
      " [2] top-level scope at In[129]:1"
     ]
    }
   ],
   "source": [
    "g(\"hello world\")"
   ]
  },
  {
   "cell_type": "markdown",
   "metadata": {},
   "source": [
    "* This definition is correct but too restrictive, since any `Number` can be added."
   ]
  },
  {
   "cell_type": "code",
   "execution_count": 130,
   "metadata": {},
   "outputs": [
    {
     "data": {
      "text/plain": [
       "g (generic function with 2 methods)"
      ]
     },
     "execution_count": 130,
     "metadata": {},
     "output_type": "execute_result"
    }
   ],
   "source": [
    "g(x::Float64) = x + x"
   ]
  },
  {
   "cell_type": "markdown",
   "metadata": {},
   "source": [
    "* This definition will automatically work on the entire type tree above!"
   ]
  },
  {
   "cell_type": "code",
   "execution_count": 131,
   "metadata": {},
   "outputs": [
    {
     "data": {
      "text/plain": [
       "g (generic function with 3 methods)"
      ]
     },
     "execution_count": 131,
     "metadata": {},
     "output_type": "execute_result"
    }
   ],
   "source": [
    "g(x::Number) = x + x"
   ]
  },
  {
   "cell_type": "markdown",
   "metadata": {},
   "source": [
    "This is a lot nicer than \n",
    "```julia\n",
    "function g(x)\n",
    "    if isa(x, Number)\n",
    "        return x + x\n",
    "    else\n",
    "        throw(ArgumentError(\"x should be a number\"))\n",
    "    end\n",
    "end\n",
    "```"
   ]
  },
  {
   "cell_type": "markdown",
   "metadata": {},
   "source": [
    "* `methods(func)` function display all methods defined for `func`."
   ]
  },
  {
   "cell_type": "code",
   "execution_count": 132,
   "metadata": {},
   "outputs": [
    {
     "data": {
      "text/html": [
       "3 methods for generic function <b>g</b>:<ul><li> g(x::<b>Float64</b>) in Main at In[130]:1</li> <li> g(x::<b>Number</b>) in Main at In[131]:1</li> <li> g(x) in Main at In[127]:1</li> </ul>"
      ],
      "text/plain": [
       "# 3 methods for generic function \"g\":\n",
       "[1] g(x::Float64) in Main at In[130]:1\n",
       "[2] g(x::Number) in Main at In[131]:1\n",
       "[3] g(x) in Main at In[127]:1"
      ]
     },
     "execution_count": 132,
     "metadata": {},
     "output_type": "execute_result"
    }
   ],
   "source": [
    "methods(g)"
   ]
  },
  {
   "cell_type": "markdown",
   "metadata": {},
   "source": [
    "* When calling a function with multiple definitions, Julia will search from the narrowest signature to the broadest signature.\n",
    "\n",
    "* `@which func(x)` marco tells which method is being used for argument signature `x`."
   ]
  },
  {
   "cell_type": "code",
   "execution_count": 133,
   "metadata": {},
   "outputs": [
    {
     "data": {
      "text/html": [
       "g(x::<b>Number</b>) in Main at In[131]:1"
      ],
      "text/plain": [
       "g(x::Number) in Main at In[131]:1"
      ]
     },
     "execution_count": 133,
     "metadata": {},
     "output_type": "execute_result"
    }
   ],
   "source": [
    "# an Int64 input\n",
    "@which g(1)"
   ]
  },
  {
   "cell_type": "code",
   "execution_count": 134,
   "metadata": {},
   "outputs": [
    {
     "data": {
      "text/html": [
       "g(x) in Main at In[127]:1"
      ],
      "text/plain": [
       "g(x) in Main at In[127]:1"
      ]
     },
     "execution_count": 134,
     "metadata": {},
     "output_type": "execute_result"
    }
   ],
   "source": [
    "# a Vector{Float64} input\n",
    "@which g(randn(5))"
   ]
  },
  {
   "cell_type": "markdown",
   "metadata": {},
   "source": [
    "## Just-in-time compilation (JIT)\n",
    "\n",
    "Following figures are taken from Arch D. Robinson's slides [Introduction to Writing High Performance Julia](https://docs.google.com/viewer?a=v&pid=sites&srcid=ZGVmYXVsdGRvbWFpbnxibG9uem9uaWNzfGd4OjMwZjI2YTYzNDNmY2UzMmE).\n",
    "\n",
    "| <img src=\"./julia_toolchain.png\" alt=\"Julia toolchain\" style=\"width: 400px;\"/> | <img src=\"./julia_introspect.png\" alt=\"Julia toolchain\" style=\"width: 500px;\"/> |\n",
    "|----------------------------------|------------------------------------|\n",
    "|||\n",
    "\n",
    "* `Julia`'s efficiency results from its capability to infer the types of **all** variables within a function and then call LLVM to generate optimized machine code at run-time. \n",
    "\n",
    "Consider the `g` (doubling) function defined earlier. This function will work on **any** type which has a method for `+`."
   ]
  },
  {
   "cell_type": "code",
   "execution_count": 135,
   "metadata": {},
   "outputs": [
    {
     "data": {
      "text/plain": [
       "(4, 4.0)"
      ]
     },
     "execution_count": 135,
     "metadata": {},
     "output_type": "execute_result"
    }
   ],
   "source": [
    "g(2), g(2.0)"
   ]
  },
  {
   "cell_type": "markdown",
   "metadata": {},
   "source": [
    "**Step 1**: Parse Julia code into [abstract syntax tree (AST)](https://en.wikipedia.org/wiki/Abstract_syntax_tree)."
   ]
  },
  {
   "cell_type": "code",
   "execution_count": 136,
   "metadata": {},
   "outputs": [
    {
     "data": {
      "text/plain": [
       "CodeInfo(\n",
       "\u001b[90m1 ─\u001b[39m %1 = x + x\n",
       "\u001b[90m└──\u001b[39m      return %1\n",
       ")"
      ]
     },
     "execution_count": 136,
     "metadata": {},
     "output_type": "execute_result"
    }
   ],
   "source": [
    "@code_lowered g(2)"
   ]
  },
  {
   "cell_type": "markdown",
   "metadata": {},
   "source": [
    "**Step 2**: Type inference according to input type."
   ]
  },
  {
   "cell_type": "code",
   "execution_count": 137,
   "metadata": {},
   "outputs": [
    {
     "name": "stdout",
     "output_type": "stream",
     "text": [
      "Body\u001b[36m::Int64\u001b[39m\n",
      "\u001b[90m1 ─\u001b[39m %1 = (Base.add_int)(x, x)\u001b[36m::Int64\u001b[39m\n",
      "\u001b[90m└──\u001b[39m      return %1\n"
     ]
    }
   ],
   "source": [
    "@code_warntype g(2)"
   ]
  },
  {
   "cell_type": "code",
   "execution_count": 138,
   "metadata": {},
   "outputs": [
    {
     "name": "stdout",
     "output_type": "stream",
     "text": [
      "Body\u001b[36m::Float64\u001b[39m\n",
      "\u001b[90m1 ─\u001b[39m %1 = (Base.add_float)(x, x)\u001b[36m::Float64\u001b[39m\n",
      "\u001b[90m└──\u001b[39m      return %1\n"
     ]
    }
   ],
   "source": [
    "@code_warntype g(2.0)"
   ]
  },
  {
   "cell_type": "markdown",
   "metadata": {},
   "source": [
    "**Step 3**: Compile into **LLVM bytecode** (equivalent of R bytecode generated by compiler package)."
   ]
  },
  {
   "cell_type": "code",
   "execution_count": 139,
   "metadata": {},
   "outputs": [
    {
     "name": "stdout",
     "output_type": "stream",
     "text": [
      "\n",
      ";  @ In[131]:1 within `g'\n",
      "define i64 @julia_g_15080(i64) {\n",
      "top:\n",
      "; ┌ @ int.jl:53 within `+'\n",
      "   %1 = shl i64 %0, 1\n",
      "; └\n",
      "  ret i64 %1\n",
      "}\n"
     ]
    }
   ],
   "source": [
    "@code_llvm g(2)"
   ]
  },
  {
   "cell_type": "code",
   "execution_count": 140,
   "metadata": {},
   "outputs": [
    {
     "name": "stdout",
     "output_type": "stream",
     "text": [
      "\n",
      ";  @ In[130]:1 within `g'\n",
      "define double @julia_g_15081(double) {\n",
      "top:\n",
      "; ┌ @ float.jl:395 within `+'\n",
      "   %1 = fadd double %0, %0\n",
      "; └\n",
      "  ret double %1\n",
      "}\n"
     ]
    }
   ],
   "source": [
    "@code_llvm g(2.0)"
   ]
  },
  {
   "cell_type": "markdown",
   "metadata": {},
   "source": [
    "We didn't provide a type annotation. But different LLVM code gets generated depending on the argument type!\n",
    "\n",
    "In R or Python, `g(2)` and `g(2.0)` would use the same code for both.\n",
    " \n",
    "In Julia, `g(2)` and `g(2.0)` dispatches to optimized code for `Int64` and `Float64`, respectively.\n",
    "\n",
    "For integer input `x`, LLVM compiler is smart enough to know `x + x` is simple shifting `x` by 1 bit, which is faster than addition.\n",
    " \n",
    "* **Step 4**: Lowest level is the **assembly code**, which is machine dependent."
   ]
  },
  {
   "cell_type": "code",
   "execution_count": 141,
   "metadata": {},
   "outputs": [
    {
     "name": "stdout",
     "output_type": "stream",
     "text": [
      "\t.section\t__TEXT,__text,regular,pure_instructions\n",
      "; ┌ @ In[131]:1 within `g'\n",
      "; │┌ @ In[131]:1 within `+'\n",
      "\tdecl\t%eax\n",
      "\tleal\t(%edi,%edi), %eax\n",
      "; │└\n",
      "\tretl\n",
      "\tnopw\t%cs:(%eax,%eax)\n",
      "; └\n"
     ]
    }
   ],
   "source": [
    "@code_native g(2)"
   ]
  },
  {
   "cell_type": "code",
   "execution_count": 142,
   "metadata": {},
   "outputs": [
    {
     "name": "stdout",
     "output_type": "stream",
     "text": [
      "\t.section\t__TEXT,__text,regular,pure_instructions\n",
      "; ┌ @ In[130]:1 within `g'\n",
      "; │┌ @ In[130]:1 within `+'\n",
      "\tvaddsd\t%xmm0, %xmm0, %xmm0\n",
      "; │└\n",
      "\tretl\n",
      "\tnopw\t%cs:(%eax,%eax)\n",
      "; └\n"
     ]
    }
   ],
   "source": [
    "@code_native g(2.0)"
   ]
  },
  {
   "cell_type": "markdown",
   "metadata": {},
   "source": [
    "## Profiling Julia code\n",
    "\n",
    "Julia has several built-in tools for profiling. The `@time` marco outputs run time and heap allocation."
   ]
  },
  {
   "cell_type": "code",
   "execution_count": 143,
   "metadata": {},
   "outputs": [
    {
     "name": "stdout",
     "output_type": "stream",
     "text": [
      "  0.036713 seconds (5.84 k allocations: 276.576 KiB)\n"
     ]
    },
    {
     "data": {
      "text/plain": [
       "1.0000233387279043e7"
      ]
     },
     "execution_count": 143,
     "metadata": {},
     "output_type": "execute_result"
    }
   ],
   "source": [
    "# a function defined earlier\n",
    "function tally(x::Array)\n",
    "    s = zero(eltype(x))\n",
    "    for v in x\n",
    "        s += v\n",
    "    end\n",
    "    s\n",
    "end\n",
    "\n",
    "using Random\n",
    "Random.seed!(123)\n",
    "a = rand(20_000_000)\n",
    "@time tally(a) # first run: include compile time"
   ]
  },
  {
   "cell_type": "code",
   "execution_count": 144,
   "metadata": {},
   "outputs": [
    {
     "name": "stdout",
     "output_type": "stream",
     "text": [
      "  0.026384 seconds (5 allocations: 176 bytes)\n"
     ]
    },
    {
     "data": {
      "text/plain": [
       "1.0000233387279043e7"
      ]
     },
     "execution_count": 144,
     "metadata": {},
     "output_type": "execute_result"
    }
   ],
   "source": [
    "@time tally(a)"
   ]
  },
  {
   "cell_type": "markdown",
   "metadata": {},
   "source": [
    "For more robust benchmarking, the [BenchmarkTools.jl](https://github.com/JuliaCI/BenchmarkTools.jl) package is highly recommended."
   ]
  },
  {
   "cell_type": "code",
   "execution_count": 145,
   "metadata": {},
   "outputs": [
    {
     "data": {
      "text/plain": [
       "BenchmarkTools.Trial: \n",
       "  memory estimate:  0 bytes\n",
       "  allocs estimate:  0\n",
       "  --------------\n",
       "  minimum time:     21.450 ms (0.00% GC)\n",
       "  median time:      23.802 ms (0.00% GC)\n",
       "  mean time:        23.774 ms (0.00% GC)\n",
       "  maximum time:     29.245 ms (0.00% GC)\n",
       "  --------------\n",
       "  samples:          211\n",
       "  evals/sample:     1"
      ]
     },
     "execution_count": 145,
     "metadata": {},
     "output_type": "execute_result"
    }
   ],
   "source": [
    "using BenchmarkTools\n",
    "\n",
    "@benchmark tally($a)"
   ]
  },
  {
   "cell_type": "markdown",
   "metadata": {},
   "source": [
    "The `Profile` module gives line by line profile results."
   ]
  },
  {
   "cell_type": "code",
   "execution_count": 146,
   "metadata": {},
   "outputs": [
    {
     "name": "stdout",
     "output_type": "stream",
     "text": [
      " Count File                        Line Function                               \n",
      "    23 ./In[143]                      5 tally(::Array{Float64,1})              \n",
      "    25 ./boot.jl                    328 eval                                   \n",
      "     1 ./broadcast.jl               551 _broadcast_getindex(::Base.Broadcast...\n",
      "     1 ./broadcast.jl               578 _broadcast_getindex                    \n",
      "     1 ./broadcast.jl               578 _broadcast_getindex_evalf(::typeof(S...\n",
      "     1 ./broadcast.jl               791 copy                                   \n",
      "     1 ./broadcast.jl               791 copy(::Base.Broadcast.Broadcasted{Ba...\n",
      "     2 ./broadcast.jl               928 copyto_nonleaf!(::Array{Expr,1}, ::B...\n",
      "     2 ./broadcast.jl               511 getindex                               \n",
      "     2 ./broadcast.jl               753 materialize(::Base.Broadcast.Broadca...\n",
      "    26 ./essentials.jl              742 #invokelatest#1                        \n",
      "    26 ./essentials.jl              741 invokelatest                           \n",
      "    23 ./float.jl                   395 +                                      \n",
      "    26 ./task.jl                    259 (::getfield(IJulia, Symbol(\"##15#18\"...\n",
      "    26 .../9ajf8/src/eventloop.jl     8 eventloop(::ZMQ.Socket)                \n",
      "    26 .../src/execute_request.jl    67 execute_request(::ZMQ.Socket, ::IJul...\n",
      "     2 .../src/SoftGlobalScope.jl   124 _softscope                             \n",
      "     1 .../src/SoftGlobalScope.jl   144 _softscope(::Expr, ::Set{Symbol}, ::...\n",
      "     1 .../src/SoftGlobalScope.jl   152 _softscope(::Expr, ::Set{Symbol}, ::...\n",
      "     1 .../src/SoftGlobalScope.jl   154 _softscope(::Expr, ::Set{Symbol}, ::...\n",
      "     1 .../src/SoftGlobalScope.jl   177 softscope(::Module, ::Expr)            \n",
      "     1 .../src/SoftGlobalScope.jl   217 softscope_include_string(::Module, :...\n",
      "    25 .../src/SoftGlobalScope.jl   218 softscope_include_string(::Module, :...\n"
     ]
    }
   ],
   "source": [
    "using Profile\n",
    "\n",
    "Profile.clear()\n",
    "@profile tally(a)\n",
    "Profile.print(format=:flat)"
   ]
  },
  {
   "cell_type": "markdown",
   "metadata": {},
   "source": [
    "One can use [`ProfileView`](https://github.com/timholy/ProfileView.jl) package for better visualization of profile data:\n",
    "\n",
    "```julia\n",
    "using ProfileView\n",
    "\n",
    "ProfileView.view()\n",
    "```"
   ]
  },
  {
   "cell_type": "markdown",
   "metadata": {},
   "source": [
    "## Memory profiling\n",
    "\n",
    "Detailed memory profiling requires a detour. First let's write a script `bar.jl`, which contains the workload function `tally` and a wrapper for profiling."
   ]
  },
  {
   "cell_type": "code",
   "execution_count": 147,
   "metadata": {},
   "outputs": [
    {
     "name": "stdout",
     "output_type": "stream",
     "text": [
      "using Profile\n",
      "\n",
      "function tally(x::Array)\n",
      "    s = zero(eltype(x))\n",
      "    for v in x\n",
      "        s += v\n",
      "    end\n",
      "    s\n",
      "end\n",
      "\n",
      "# call workload from wrapper to avoid misattribution bug\n",
      "function wrapper()\n",
      "    y = rand(10000)\n",
      "    # force compilation\n",
      "    println(tally(y))\n",
      "    # clear allocation counters\n",
      "    Profile.clear_malloc_data()\n",
      "    # run compiled workload\n",
      "    println(tally(y))\n",
      "end\n",
      "\n",
      "wrapper()\n"
     ]
    }
   ],
   "source": [
    ";cat bar.jl"
   ]
  },
  {
   "cell_type": "markdown",
   "metadata": {},
   "source": [
    "Next, in terminal, we run the script with `--track-allocation=user` option."
   ]
  },
  {
   "cell_type": "code",
   "execution_count": 148,
   "metadata": {},
   "outputs": [
    {
     "name": "stdout",
     "output_type": "stream",
     "text": [
      "5012.163648117665\n",
      "5012.163648117665\n"
     ]
    }
   ],
   "source": [
    ";julia --track-allocation=user bar.jl"
   ]
  },
  {
   "cell_type": "markdown",
   "metadata": {},
   "source": [
    "The profiler outputs a file `bar.jl.21740.mem`."
   ]
  },
  {
   "cell_type": "code",
   "execution_count": 149,
   "metadata": {},
   "outputs": [
    {
     "name": "stdout",
     "output_type": "stream",
     "text": [
      "        - using Profile\n",
      "        - \n",
      "        - function tally(x::Array)\n",
      "        -     s = zero(eltype(x))\n",
      "        -     for v in x\n",
      "        -         s += v\n",
      "        -     end\n",
      "        -     s\n",
      "        - end\n",
      "        - \n",
      "        - # call workload from wrapper to avoid misattribution bug\n",
      "        - function wrapper()\n",
      "        0     y = rand(10000)\n",
      "        -     # force compilation\n",
      "        0     println(tally(y))\n",
      "        -     # clear allocation counters\n",
      "        0     Profile.clear_malloc_data()\n",
      "        -     # run compiled workload\n",
      "      144     println(tally(y))\n",
      "        - end\n",
      "        - \n",
      "        - wrapper()\n",
      "        - \n"
     ]
    }
   ],
   "source": [
    ";cat bar.jl.21740.mem"
   ]
  }
 ],
 "metadata": {
  "kernelspec": {
   "display_name": "Julia 1.1.0",
   "language": "julia",
   "name": "julia-1.1"
  },
  "language_info": {
   "file_extension": ".jl",
   "mimetype": "application/julia",
   "name": "julia",
   "version": "1.1.0"
  },
  "toc": {
   "colors": {
    "hover_highlight": "#DAA520",
    "running_highlight": "#FF0000",
    "selected_highlight": "#FFD700"
   },
   "moveMenuLeft": true,
   "nav_menu": {
    "height": "511.7391357421875px",
    "width": "251.7391357421875px"
   },
   "navigate_menu": true,
   "number_sections": true,
   "sideBar": true,
   "skip_h1_title": true,
   "threshold": 4,
   "toc_cell": true,
   "toc_position": {
    "height": "640.4212036132812px",
    "left": "0px",
    "right": "1210.6114501953125px",
    "top": "109.57880401611328px",
    "width": "211.99728393554688px"
   },
   "toc_section_display": "block",
   "toc_window_display": true,
   "widenNotebook": false
  }
 },
 "nbformat": 4,
 "nbformat_minor": 2
}
