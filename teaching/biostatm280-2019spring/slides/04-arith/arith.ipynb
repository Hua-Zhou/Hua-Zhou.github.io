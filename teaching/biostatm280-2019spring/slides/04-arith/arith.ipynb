{
 "cells": [
  {
   "cell_type": "markdown",
   "metadata": {
    "toc": "true"
   },
   "source": [
    "# Table of Contents\n",
    " <p><div class=\"lev1 toc-item\"><a href=\"#Computer-arithmetics\" data-toc-modified-id=\"Computer-arithmetics-1\"><span class=\"toc-item-num\">1&nbsp;&nbsp;</span>Computer arithmetics</a></div><div class=\"lev2 toc-item\"><a href=\"#Units-of-computer-storage\" data-toc-modified-id=\"Units-of-computer-storage-11\"><span class=\"toc-item-num\">1.1&nbsp;&nbsp;</span>Units of computer storage</a></div><div class=\"lev2 toc-item\"><a href=\"#Storage-of-Characters\" data-toc-modified-id=\"Storage-of-Characters-12\"><span class=\"toc-item-num\">1.2&nbsp;&nbsp;</span>Storage of Characters</a></div><div class=\"lev2 toc-item\"><a href=\"#Integers:-fixed-point-number-system\" data-toc-modified-id=\"Integers:-fixed-point-number-system-13\"><span class=\"toc-item-num\">1.3&nbsp;&nbsp;</span>Integers: fixed-point number system</a></div><div class=\"lev3 toc-item\"><a href=\"#Signed-integers\" data-toc-modified-id=\"Signed-integers-131\"><span class=\"toc-item-num\">1.3.1&nbsp;&nbsp;</span>Signed integers</a></div><div class=\"lev3 toc-item\"><a href=\"#Unsigned-integers\" data-toc-modified-id=\"Unsigned-integers-132\"><span class=\"toc-item-num\">1.3.2&nbsp;&nbsp;</span>Unsigned integers</a></div><div class=\"lev3 toc-item\"><a href=\"#BigInt\" data-toc-modified-id=\"BigInt-133\"><span class=\"toc-item-num\">1.3.3&nbsp;&nbsp;</span><code>BigInt</code></a></div><div class=\"lev3 toc-item\"><a href=\"#Overflow-and-underflow-for-integer-arithmetic\" data-toc-modified-id=\"Overflow-and-underflow-for-integer-arithmetic-134\"><span class=\"toc-item-num\">1.3.4&nbsp;&nbsp;</span>Overflow and underflow for integer arithmetic</a></div><div class=\"lev2 toc-item\"><a href=\"#Real-numbers:-floating-number-system\" data-toc-modified-id=\"Real-numbers:-floating-number-system-14\"><span class=\"toc-item-num\">1.4&nbsp;&nbsp;</span>Real numbers: floating-number system</a></div><div class=\"lev3 toc-item\"><a href=\"#Double-precision-(Float64)\" data-toc-modified-id=\"Double-precision-(Float64)-141\"><span class=\"toc-item-num\">1.4.1&nbsp;&nbsp;</span>Double precision (Float64)</a></div><div class=\"lev3 toc-item\"><a href=\"#Single-precision-(Float32)\" data-toc-modified-id=\"Single-precision-(Float32)-142\"><span class=\"toc-item-num\">1.4.2&nbsp;&nbsp;</span>Single precision (Float32)</a></div><div class=\"lev3 toc-item\"><a href=\"#Half-precision-(Float16)\" data-toc-modified-id=\"Half-precision-(Float16)-143\"><span class=\"toc-item-num\">1.4.3&nbsp;&nbsp;</span>Half precision (Float16)</a></div><div class=\"lev3 toc-item\"><a href=\"#Special-floating-point-numbers.\" data-toc-modified-id=\"Special-floating-point-numbers.-144\"><span class=\"toc-item-num\">1.4.4&nbsp;&nbsp;</span>Special floating-point numbers.</a></div><div class=\"lev3 toc-item\"><a href=\"#Rounding\" data-toc-modified-id=\"Rounding-145\"><span class=\"toc-item-num\">1.4.5&nbsp;&nbsp;</span>Rounding</a></div><div class=\"lev3 toc-item\"><a href=\"#Summary\" data-toc-modified-id=\"Summary-146\"><span class=\"toc-item-num\">1.4.6&nbsp;&nbsp;</span>Summary</a></div><div class=\"lev3 toc-item\"><a href=\"#Overflow-and-underflow-of-floating-point-number\" data-toc-modified-id=\"Overflow-and-underflow-of-floating-point-number-147\"><span class=\"toc-item-num\">1.4.7&nbsp;&nbsp;</span>Overflow and underflow of floating-point number</a></div><div class=\"lev2 toc-item\"><a href=\"#Catastrophic-cancellation\" data-toc-modified-id=\"Catastrophic-cancellation-15\"><span class=\"toc-item-num\">1.5&nbsp;&nbsp;</span>Catastrophic cancellation</a></div><div class=\"lev3 toc-item\"><a href=\"#Algebraic-laws\" data-toc-modified-id=\"Algebraic-laws-151\"><span class=\"toc-item-num\">1.5.1&nbsp;&nbsp;</span>Algebraic laws</a></div><div class=\"lev2 toc-item\"><a href=\"#Further-reading\" data-toc-modified-id=\"Further-reading-16\"><span class=\"toc-item-num\">1.6&nbsp;&nbsp;</span>Further reading</a></div>"
   ]
  },
  {
   "cell_type": "code",
   "execution_count": 1,
   "metadata": {},
   "outputs": [
    {
     "name": "stdout",
     "output_type": "stream",
     "text": [
      "Julia Version 1.1.0\n",
      "Commit 80516ca202 (2019-01-21 21:24 UTC)\n",
      "Platform Info:\n",
      "  OS: macOS (x86_64-apple-darwin14.5.0)\n",
      "  CPU: Intel(R) Core(TM) i7-6920HQ CPU @ 2.90GHz\n",
      "  WORD_SIZE: 64\n",
      "  LIBM: libopenlibm\n",
      "  LLVM: libLLVM-6.0.1 (ORCJIT, skylake)\n",
      "Environment:\n",
      "  JULIA_EDITOR = code\n"
     ]
    }
   ],
   "source": [
    "versioninfo()"
   ]
  },
  {
   "cell_type": "markdown",
   "metadata": {},
   "source": [
    "# Computer arithmetics"
   ]
  },
  {
   "cell_type": "markdown",
   "metadata": {},
   "source": [
    "## Units of computer storage\n",
    "\n",
    "* `bit` = `binary` + `digit` (coined by statistician [John Tukey](https://en.wikipedia.org/wiki/Bit#History)).  \n",
    "* `byte` = 8 bits.  \n",
    "* KB = kilobyte = $10^3$ bytes.  \n",
    "* MB = megabytes = $10^6$ bytes.  \n",
    "* GB = gigabytes = $10^9$ bytes. Typical RAM size.  \n",
    "* TB = terabytes = $10^{12}$ bytes. Typical hard drive size. Size of NYSE each trading session.    \n",
    "* PB = petabytes = $10^{15}$ bytes.  \n",
    "* EB = exabytes = $10^{18}$ bytes. Size of all healthcare data in 2011 is ~150 EB.    \n",
    "* ZB = zetabytes = $10^{21}$ bytes. \n",
    "\n",
    "Julia function `Base.summarysize` shows the amount of memory (in bytes) used by an object."
   ]
  },
  {
   "cell_type": "code",
   "execution_count": 2,
   "metadata": {},
   "outputs": [
    {
     "data": {
      "text/plain": [
       "80040"
      ]
     },
     "execution_count": 2,
     "metadata": {},
     "output_type": "execute_result"
    }
   ],
   "source": [
    "x = rand(100, 100)\n",
    "Base.summarysize(x)"
   ]
  },
  {
   "cell_type": "markdown",
   "metadata": {},
   "source": [
    "`varinfo()` function prints all variables in workspace and their sizes."
   ]
  },
  {
   "cell_type": "code",
   "execution_count": 3,
   "metadata": {},
   "outputs": [
    {
     "data": {
      "text/latex": [
       "\\begin{tabular}\n",
       "{l | r | l}\n",
       "name & size & summary \\\\\n",
       "\\hline\n",
       "Base &  & Module \\\\\n",
       "Core &  & Module \\\\\n",
       "Main &  & Module \\\\\n",
       "x & 78.164 KiB & 100×100 Array\\{Float64,2\\} \\\\\n",
       "\\end{tabular}\n"
      ],
      "text/markdown": [
       "| name |       size | summary                  |\n",
       "|:---- | ----------:|:------------------------ |\n",
       "| Base |            | Module                   |\n",
       "| Core |            | Module                   |\n",
       "| Main |            | Module                   |\n",
       "| x    | 78.164 KiB | 100×100 Array{Float64,2} |\n"
      ],
      "text/plain": [
       "name       size summary                 \n",
       "–––– –––––––––– ––––––––––––––––––––––––\n",
       "Base            Module                  \n",
       "Core            Module                  \n",
       "Main            Module                  \n",
       "x    78.164 KiB 100×100 Array{Float64,2}"
      ]
     },
     "execution_count": 3,
     "metadata": {},
     "output_type": "execute_result"
    }
   ],
   "source": [
    "varinfo() # similar to Matlab whos()"
   ]
  },
  {
   "cell_type": "markdown",
   "metadata": {},
   "source": [
    "## Storage of Characters\n",
    "\n",
    "* Plain text files are stored in the form of characters: `.jl`, `.r`, `.c`, `.cpp`, `.ipynb`, `.html`, `.tex`, ...  \n",
    "* ASCII (American Code for Information Interchange): 7 bits, only $2^7=128$ characters.  "
   ]
  },
  {
   "cell_type": "code",
   "execution_count": 4,
   "metadata": {},
   "outputs": [
    {
     "data": {
      "text/plain": [
       "128×2 Array{Any,2}:\n",
       "   0  '\\0'  \n",
       "   1  '\\x01'\n",
       "   2  '\\x02'\n",
       "   3  '\\x03'\n",
       "   4  '\\x04'\n",
       "   5  '\\x05'\n",
       "   6  '\\x06'\n",
       "   7  '\\a'  \n",
       "   8  '\\b'  \n",
       "   9  '\\t'  \n",
       "  10  '\\n'  \n",
       "  11  '\\v'  \n",
       "  12  '\\f'  \n",
       "   ⋮        \n",
       " 116  't'   \n",
       " 117  'u'   \n",
       " 118  'v'   \n",
       " 119  'w'   \n",
       " 120  'x'   \n",
       " 121  'y'   \n",
       " 122  'z'   \n",
       " 123  '{'   \n",
       " 124  '|'   \n",
       " 125  '}'   \n",
       " 126  '~'   \n",
       " 127  '\\x7f'"
      ]
     },
     "execution_count": 4,
     "metadata": {},
     "output_type": "execute_result"
    }
   ],
   "source": [
    "# integers 0, 1, ..., 127 and corresponding ascii character\n",
    "[0:127 Char.(0:127)]"
   ]
  },
  {
   "cell_type": "markdown",
   "metadata": {},
   "source": [
    "* Extended ASCII: 8 bits, $2^8=256$ characters.  "
   ]
  },
  {
   "cell_type": "code",
   "execution_count": 5,
   "metadata": {},
   "outputs": [
    {
     "data": {
      "text/plain": [
       "128×2 Array{Any,2}:\n",
       " 128  '\\u80'\n",
       " 129  '\\u81'\n",
       " 130  '\\u82'\n",
       " 131  '\\u83'\n",
       " 132  '\\u84'\n",
       " 133  '\\u85'\n",
       " 134  '\\u86'\n",
       " 135  '\\u87'\n",
       " 136  '\\u88'\n",
       " 137  '\\u89'\n",
       " 138  '\\u8a'\n",
       " 139  '\\u8b'\n",
       " 140  '\\u8c'\n",
       "   ⋮        \n",
       " 244  'ô'   \n",
       " 245  'õ'   \n",
       " 246  'ö'   \n",
       " 247  '÷'   \n",
       " 248  'ø'   \n",
       " 249  'ù'   \n",
       " 250  'ú'   \n",
       " 251  'û'   \n",
       " 252  'ü'   \n",
       " 253  'ý'   \n",
       " 254  'þ'   \n",
       " 255  'ÿ'   "
      ]
     },
     "execution_count": 5,
     "metadata": {},
     "output_type": "execute_result"
    }
   ],
   "source": [
    "# integers 128, 129, ..., 255 and corresponding extended ascii character\n",
    "# show(STDOUT, \"text/plain\", [128:255 Char.(128:255)])\n",
    "[128:255 Char.(128:255)]"
   ]
  },
  {
   "cell_type": "markdown",
   "metadata": {},
   "source": [
    "* Unicode: UTF-8, UTF-16 and UTF-32 support many more characters including foreign characters; last 7 digits conform to ASCII. \n",
    "\n",
    "* [UTF-8](https://en.wikipedia.org/wiki/UTF-8) is the current dominant character encoding on internet.  \n",
    "\n",
    "<img src=\"https://upload.wikimedia.org/wikipedia/commons/c/c4/Utf8webgrowth.svg\" width=\"500\" align=\"center\"/>\n",
    "\n",
    "* Julia supports the full range of UTF-8 characters. You can type many Unicode math symbols by typing the backslashed LaTeX symbol name followed by tab. "
   ]
  },
  {
   "cell_type": "code",
   "execution_count": 6,
   "metadata": {},
   "outputs": [
    {
     "data": {
      "text/plain": [
       "0.0"
      ]
     },
     "execution_count": 6,
     "metadata": {},
     "output_type": "execute_result"
    }
   ],
   "source": [
    "# \\beta-<tab>\n",
    "β = 0.0\n",
    "# \\beta-<tab>-\\hat-<tab>\n",
    "β̂ = 0.0"
   ]
  },
  {
   "cell_type": "markdown",
   "metadata": {},
   "source": [
    "* For a table of unicode symbols that can be entered via tab completion of LaTeX-like abbreviations: <https://docs.julialang.org/en/v1.1/manual/unicode-input/#Unicode-Input-1>"
   ]
  },
  {
   "cell_type": "markdown",
   "metadata": {},
   "source": [
    "## Integers: fixed-point number system\n",
    "\n",
    "* Fixed-point number system is a computer model for integers $\\mathbb{Z}$. \n",
    "\n",
    "* The number of bits and method of representing negative numbers vary from system to system. \n",
    "    - The `integer` type in R has $M=32$ or 64 bits, determined by machine word size. \n",
    "    - Matlab has `(u)int8`, `(u)int16`, `(u)int32`, `(u)int64`.  \n",
    "\n",
    "* Julia has even more integer types. Using Tom Breloff's `Plots.jl` and `GraphRecipes.jl` packages, we can [visualize the type tree](http://www.breloff.com/Graphs/) under `Integer`\n",
    "    - Storage for a `Signed` or `Unsigned` integer can be $M = 8, 16, 32, 64$ or 128 bits.  \n",
    "    - GraphRecipes.jl package has a convenience function for plotting the type hiearchy."
   ]
  },
  {
   "cell_type": "code",
   "execution_count": 7,
   "metadata": {},
   "outputs": [
    {
     "data": {
      "image/svg+xml": [
       "<?xml version=\"1.0\" encoding=\"utf-8\"?>\n",
       "<svg xmlns=\"http://www.w3.org/2000/svg\" xmlns:xlink=\"http://www.w3.org/1999/xlink\" width=\"600\" height=\"400\" viewBox=\"0 0 2400 1600\">\n",
       "<defs>\n",
       "  <clipPath id=\"clip3000\">\n",
       "    <rect x=\"0\" y=\"0\" width=\"2400\" height=\"1600\"/>\n",
       "  </clipPath>\n",
       "</defs>\n",
       "<polygon clip-path=\"url(#clip3000)\" points=\"\n",
       "0,1600 2400,1600 2400,0 0,0 \n",
       "  \" fill=\"#ffffff\" fill-rule=\"evenodd\" fill-opacity=\"1\"/>\n",
       "<defs>\n",
       "  <clipPath id=\"clip3001\">\n",
       "    <rect x=\"480\" y=\"0\" width=\"1681\" height=\"1600\"/>\n",
       "  </clipPath>\n",
       "</defs>\n",
       "<polygon clip-path=\"url(#clip3000)\" points=\"\n",
       "94.4882,1537.01 2321.26,1537.01 2321.26,47.2441 94.4882,47.2441 \n",
       "  \" fill=\"#ffffff\" fill-rule=\"evenodd\" fill-opacity=\"1\"/>\n",
       "<defs>\n",
       "  <clipPath id=\"clip3002\">\n",
       "    <rect x=\"94\" y=\"47\" width=\"2228\" height=\"1491\"/>\n",
       "  </clipPath>\n",
       "</defs>\n",
       "<polyline clip-path=\"url(#clip3002)\" style=\"stroke:#d968a2; stroke-width:4; stroke-opacity:1; fill:none\" points=\"\n",
       "  1197.7,89.4072 1197.61,100.148 1197.36,111.114 1196.95,122.288 1196.41,133.653 1195.73,145.193 1194.94,156.891 1194.04,168.731 1193.06,180.696 1191.99,192.768 \n",
       "  1190.86,204.933 1189.67,217.172 1188.43,229.47 1187.17,241.809 1185.89,254.173 1184.6,266.546 1183.32,278.91 1182.06,291.249 1180.83,303.547 1179.64,315.786 \n",
       "  1178.5,327.951 1177.43,340.024 1176.45,351.988 1175.55,363.828 1174.76,375.526 1174.09,387.066 1173.54,398.431 1173.13,409.605 1172.88,420.571 1172.79,431.312 \n",
       "  \n",
       "  \"/>\n",
       "<polyline clip-path=\"url(#clip3002)\" style=\"stroke:#d968a2; stroke-width:4; stroke-opacity:1; fill:none\" points=\"\n",
       "  1172.79,431.312 1173.18,438.492 1174.28,445.749 1176.06,453.076 1178.46,460.468 1181.43,467.919 1184.91,475.425 1188.84,482.978 1193.18,490.573 1197.86,498.205 \n",
       "  1202.85,505.869 1208.07,513.558 1213.49,521.266 1219.04,528.989 1224.67,536.72 1230.32,544.454 1235.95,552.185 1241.5,559.908 1246.91,567.616 1252.14,575.305 \n",
       "  1257.12,582.968 1261.81,590.601 1266.15,598.196 1270.08,605.749 1273.56,613.254 1276.52,620.706 1278.92,628.098 1280.7,635.425 1281.81,642.682 1282.19,649.862 \n",
       "  \n",
       "  \"/>\n",
       "<polyline clip-path=\"url(#clip3002)\" style=\"stroke:#d968a2; stroke-width:4; stroke-opacity:1; fill:none\" points=\"\n",
       "  1282.19,649.862 1281.99,656.356 1281.4,662.964 1280.44,669.677 1279.16,676.487 1277.57,683.386 1275.7,690.365 1273.6,697.415 1271.27,704.528 1268.76,711.697 \n",
       "  1266.09,718.911 1263.29,726.164 1260.39,733.446 1257.42,740.749 1254.4,748.064 1251.37,755.384 1248.36,762.7 1245.38,770.003 1242.48,777.285 1239.68,784.537 \n",
       "  1237.01,791.752 1234.5,798.92 1232.18,806.033 1230.07,813.084 1228.21,820.062 1226.62,826.961 1225.33,833.771 1224.38,840.484 1223.79,847.092 1223.58,853.586 \n",
       "  \n",
       "  \"/>\n",
       "<polyline clip-path=\"url(#clip3002)\" style=\"stroke:#d968a2; stroke-width:4; stroke-opacity:1; fill:none\" points=\"\n",
       "  1223.58,853.586 1223.29,863.312 1222.44,873.211 1221.07,883.271 1219.22,893.478 1216.94,903.82 1214.27,914.284 1211.25,924.857 1207.91,935.526 1204.31,946.278 \n",
       "  1200.48,957.101 1196.46,967.982 1192.3,978.908 1188.04,989.866 1183.71,1000.84 1179.36,1011.83 1175.03,1022.8 1170.77,1033.76 1166.61,1044.69 1162.59,1055.57 \n",
       "  1158.76,1066.39 1155.15,1077.14 1151.82,1087.81 1148.8,1098.39 1146.12,1108.85 1143.84,1119.19 1142,1129.4 1140.63,1139.46 1139.78,1149.36 1139.49,1159.08 \n",
       "  \n",
       "  \"/>\n",
       "<polyline clip-path=\"url(#clip3002)\" style=\"stroke:#d968a2; stroke-width:4; stroke-opacity:1; fill:none\" points=\"\n",
       "  1223.58,853.586 1224.09,864.356 1225.55,875.266 1227.91,886.305 1231.09,897.463 1235.02,908.73 1239.63,920.095 1244.84,931.548 1250.59,943.079 1256.8,954.677 \n",
       "  1263.41,966.332 1270.33,978.033 1277.5,989.771 1284.86,1001.53 1292.32,1013.31 1299.81,1025.1 1307.27,1036.88 1314.62,1048.64 1321.8,1060.38 1328.72,1072.08 \n",
       "  1335.33,1083.73 1341.54,1095.33 1347.28,1106.86 1352.5,1118.32 1357.1,1129.68 1361.03,1140.95 1364.21,1152.11 1366.57,1163.14 1368.04,1174.05 1368.54,1184.82 \n",
       "  \n",
       "  \"/>\n",
       "<polyline clip-path=\"url(#clip3002)\" style=\"stroke:#d968a2; stroke-width:4; stroke-opacity:1; fill:none\" points=\"\n",
       "  1223.58,853.586 1221.71,867.343 1216.26,880.289 1207.5,892.487 1195.7,903.995 1181.12,914.874 1164.02,925.183 1144.68,934.983 1123.35,944.333 1100.3,953.293 \n",
       "  1075.79,961.924 1050.09,970.285 1023.46,978.436 996.178,986.438 968.494,994.349 940.678,1002.23 912.994,1010.14 885.707,1018.14 859.082,1026.29 833.384,1034.66 \n",
       "  808.877,1043.29 785.825,1052.25 764.494,1061.6 745.149,1071.4 728.053,1081.71 713.472,1092.58 701.671,1104.09 692.914,1116.29 687.465,1129.24 685.59,1142.99 \n",
       "  \n",
       "  \"/>\n",
       "<polyline clip-path=\"url(#clip3002)\" style=\"stroke:#d968a2; stroke-width:4; stroke-opacity:1; fill:none\" points=\"\n",
       "  685.59,1142.99 684.194,1153.34 680.139,1163.11 673.62,1172.33 664.835,1181.04 653.982,1189.31 641.257,1197.15 626.857,1204.63 610.979,1211.78 593.82,1218.65 \n",
       "  575.578,1225.28 556.449,1231.71 536.63,1237.99 516.319,1244.17 495.712,1250.27 475.007,1256.36 454.4,1262.47 434.089,1268.64 414.27,1274.92 395.141,1281.35 \n",
       "  376.899,1287.98 359.74,1294.85 343.862,1302 329.462,1309.48 316.737,1317.33 305.883,1325.59 297.099,1334.31 290.58,1343.53 286.524,1353.29 285.129,1363.64 \n",
       "  \n",
       "  \"/>\n",
       "<polyline clip-path=\"url(#clip3002)\" style=\"stroke:#d968a2; stroke-width:4; stroke-opacity:1; fill:none\" points=\"\n",
       "  685.59,1142.99 686.475,1152.47 689.046,1161.82 693.179,1171.05 698.748,1180.19 705.629,1189.22 713.696,1198.17 722.825,1207.04 732.891,1215.85 743.769,1224.59 \n",
       "  755.334,1233.29 767.462,1241.94 780.026,1250.56 792.903,1259.16 805.967,1267.75 819.093,1276.33 832.157,1284.91 845.034,1293.51 857.598,1302.13 869.726,1310.79 \n",
       "  881.291,1319.48 892.169,1328.23 902.235,1337.03 911.364,1345.9 919.432,1354.85 926.312,1363.89 931.881,1373.02 936.014,1382.26 938.585,1391.61 939.47,1401.08 \n",
       "  \n",
       "  \"/>\n",
       "<polyline clip-path=\"url(#clip3002)\" style=\"stroke:#d968a2; stroke-width:4; stroke-opacity:1; fill:none\" points=\"\n",
       "  685.59,1142.99 683.75,1154.99 678.401,1166.2 669.805,1176.66 658.221,1186.45 643.909,1195.61 627.129,1204.22 608.139,1212.32 587.202,1219.98 564.575,1227.25 \n",
       "  540.519,1234.2 515.294,1240.89 489.16,1247.36 462.376,1253.69 435.202,1259.93 407.898,1266.15 380.724,1272.39 353.94,1278.72 327.806,1285.2 302.581,1291.88 \n",
       "  278.525,1298.83 255.898,1306.11 234.961,1313.76 215.971,1321.87 199.191,1330.47 184.879,1339.64 173.295,1349.42 164.699,1359.89 159.35,1371.09 157.51,1383.09 \n",
       "  \n",
       "  \"/>\n",
       "<polyline clip-path=\"url(#clip3002)\" style=\"stroke:#d968a2; stroke-width:4; stroke-opacity:1; fill:none\" points=\"\n",
       "  685.59,1142.99 685.914,1153.21 686.856,1163.6 688.37,1174.16 690.409,1184.87 692.93,1195.72 695.884,1206.69 699.228,1217.78 702.915,1228.97 706.9,1240.24 \n",
       "  711.136,1251.58 715.577,1262.99 720.179,1274.44 724.896,1285.92 729.681,1297.42 734.489,1308.93 739.274,1320.43 743.99,1331.92 748.592,1343.37 753.034,1354.77 \n",
       "  757.27,1366.12 761.254,1377.39 764.941,1388.57 768.285,1399.66 771.24,1410.63 773.76,1421.48 775.8,1432.19 777.314,1442.75 778.255,1453.15 778.58,1463.36 \n",
       "  \n",
       "  \"/>\n",
       "<polyline clip-path=\"url(#clip3002)\" style=\"stroke:#d968a2; stroke-width:4; stroke-opacity:1; fill:none\" points=\"\n",
       "  685.59,1142.99 685.137,1153.94 683.819,1165.06 681.7,1176.32 678.846,1187.72 675.319,1199.24 671.184,1210.88 666.505,1222.63 661.345,1234.46 655.77,1246.37 \n",
       "  649.842,1258.35 643.626,1270.38 637.186,1282.45 630.586,1294.55 623.89,1306.67 617.162,1318.8 610.466,1330.92 603.866,1343.02 597.425,1355.09 591.21,1367.12 \n",
       "  585.282,1379.1 579.706,1391.01 574.547,1402.84 569.867,1414.59 565.732,1426.23 562.206,1437.75 559.351,1449.15 557.233,1460.41 555.915,1471.53 555.461,1482.48 \n",
       "  \n",
       "  \"/>\n",
       "<polyline clip-path=\"url(#clip3002)\" style=\"stroke:#d968a2; stroke-width:4; stroke-opacity:1; fill:none\" points=\"\n",
       "  685.59,1142.99 684.785,1151.29 682.445,1159.46 678.684,1167.51 673.615,1175.44 667.353,1183.28 660.01,1191.01 651.702,1198.67 642.54,1206.25 632.64,1213.77 \n",
       "  622.115,1221.24 611.077,1228.66 599.642,1236.05 587.923,1243.41 576.033,1250.76 564.087,1258.1 552.197,1265.45 540.478,1272.81 529.043,1280.2 518.006,1287.62 \n",
       "  507.48,1295.09 497.58,1302.6 488.418,1310.19 480.11,1317.84 472.767,1325.58 466.505,1333.41 461.437,1341.35 457.675,1349.39 455.335,1357.56 454.53,1365.86 \n",
       "  \n",
       "  \"/>\n",
       "<polyline clip-path=\"url(#clip3002)\" style=\"stroke:#d968a2; stroke-width:4; stroke-opacity:1; fill:none\" points=\"\n",
       "  1223.58,853.586 1225.47,868.207 1230.98,882.102 1239.82,895.326 1251.74,907.931 1266.46,919.972 1283.73,931.502 1303.26,942.575 1324.8,953.246 1348.08,963.567 \n",
       "  1372.83,973.592 1398.78,983.376 1425.67,992.971 1453.22,1002.43 1481.18,1011.81 1509.27,1021.17 1537.22,1030.55 1564.78,1040.01 1591.66,1049.6 1617.61,1059.39 \n",
       "  1642.36,1069.41 1665.64,1079.73 1687.18,1090.4 1706.72,1101.48 1723.98,1113.01 1738.7,1125.05 1750.62,1137.65 1759.47,1150.88 1764.97,1164.77 1766.86,1179.39 \n",
       "  \n",
       "  \"/>\n",
       "<polyline clip-path=\"url(#clip3002)\" style=\"stroke:#d968a2; stroke-width:4; stroke-opacity:1; fill:none\" points=\"\n",
       "  1766.86,1179.39 1768.57,1191.36 1773.55,1202.52 1781.55,1212.95 1792.33,1222.71 1805.64,1231.84 1821.26,1240.42 1838.93,1248.5 1858.41,1256.13 1879.47,1263.38 \n",
       "  1901.85,1270.31 1925.32,1276.97 1949.64,1283.43 1974.56,1289.74 1999.85,1295.96 2025.25,1302.15 2050.54,1308.37 2075.46,1314.68 2099.78,1321.14 2123.25,1327.8 \n",
       "  2145.63,1334.73 2166.69,1341.98 2186.17,1349.62 2203.84,1357.69 2219.45,1366.27 2232.77,1375.41 2243.55,1385.16 2251.55,1395.59 2256.53,1406.76 2258.24,1418.72 \n",
       "  \n",
       "  \"/>\n",
       "<polyline clip-path=\"url(#clip3002)\" style=\"stroke:#d968a2; stroke-width:4; stroke-opacity:1; fill:none\" points=\"\n",
       "  1766.86,1179.39 1766.17,1188.28 1764.16,1197.14 1760.93,1205.99 1756.58,1214.83 1751.21,1223.65 1744.91,1232.45 1737.78,1241.25 1729.92,1250.04 1721.42,1258.82 \n",
       "  1712.39,1267.59 1702.92,1276.35 1693.1,1285.11 1683.05,1293.87 1672.84,1302.62 1662.59,1311.38 1652.39,1320.13 1642.33,1328.89 1632.52,1337.65 1623.05,1346.41 \n",
       "  1614.01,1355.18 1605.52,1363.96 1597.66,1372.75 1590.53,1381.54 1584.23,1390.35 1578.85,1399.17 1574.5,1408.01 1571.27,1416.86 1569.27,1425.72 1568.57,1434.61 \n",
       "  \n",
       "  \"/>\n",
       "<polyline clip-path=\"url(#clip3002)\" style=\"stroke:#d968a2; stroke-width:4; stroke-opacity:1; fill:none\" points=\"\n",
       "  1766.86,1179.39 1768.15,1188.59 1771.92,1197.19 1777.96,1205.23 1786.1,1212.76 1796.17,1219.83 1807.97,1226.47 1821.32,1232.73 1836.04,1238.66 1851.95,1244.3 \n",
       "  1868.86,1249.7 1886.6,1254.9 1904.97,1259.94 1923.81,1264.87 1942.91,1269.73 1962.11,1274.57 1981.22,1279.43 2000.05,1284.36 2018.43,1289.4 2036.16,1294.6 \n",
       "  2053.08,1300 2068.98,1305.64 2083.71,1311.57 2097.06,1317.83 2108.86,1324.47 2118.92,1331.54 2127.06,1339.07 2133.11,1347.11 2136.87,1355.71 2138.16,1364.91 \n",
       "  \n",
       "  \"/>\n",
       "<polyline clip-path=\"url(#clip3002)\" style=\"stroke:#d968a2; stroke-width:4; stroke-opacity:1; fill:none\" points=\"\n",
       "  1766.86,1179.39 1767.57,1190.05 1769.63,1200.76 1772.95,1211.51 1777.42,1222.3 1782.94,1233.12 1789.42,1243.98 1796.74,1254.87 1804.82,1265.79 1813.55,1276.72 \n",
       "  1822.83,1287.68 1832.56,1298.65 1842.65,1309.63 1852.98,1320.62 1863.46,1331.62 1874,1342.62 1884.48,1353.62 1894.82,1364.61 1904.9,1375.59 1914.63,1386.56 \n",
       "  1923.91,1397.52 1932.64,1408.45 1940.72,1419.37 1948.05,1430.25 1954.52,1441.11 1960.04,1451.94 1964.51,1462.73 1967.83,1473.48 1969.89,1484.18 1970.6,1494.84 \n",
       "  \n",
       "  \"/>\n",
       "<polyline clip-path=\"url(#clip3002)\" style=\"stroke:#d968a2; stroke-width:4; stroke-opacity:1; fill:none\" points=\"\n",
       "  1766.86,1179.39 1766.96,1187.46 1767.27,1195.68 1767.75,1204.07 1768.4,1212.59 1769.21,1221.24 1770.16,1230.01 1771.23,1238.88 1772.41,1247.85 1773.69,1256.9 \n",
       "  1775.04,1266.01 1776.47,1275.18 1777.94,1284.39 1779.45,1293.63 1780.98,1302.89 1782.52,1312.15 1784.06,1321.42 1785.57,1330.66 1787.04,1339.87 1788.46,1349.04 \n",
       "  1789.82,1358.15 1791.1,1367.19 1792.28,1376.16 1793.35,1385.03 1794.3,1393.8 1795.1,1402.45 1795.76,1410.98 1796.24,1419.36 1796.54,1427.59 1796.65,1435.65 \n",
       "  \n",
       "  \"/>\n",
       "<polygon clip-path=\"url(#clip3000)\" points=\"\n",
       "1197.7,113.741 1248.27,101.574 1248.27,77.2406 1197.7,65.0739 1147.12,77.2406 1147.12,101.574 1197.7,113.741 \n",
       "  \" fill=\"#000000\" fill-rule=\"evenodd\" fill-opacity=\"1\"/>\n",
       "<polygon clip-path=\"url(#clip3000)\" points=\"\n",
       "1197.7,112.741 1246.19,101.074 1246.19,77.7406 1197.7,66.0739 1149.2,77.7406 1149.2,101.074 1197.7,112.741 \n",
       "  \" fill=\"#009af9\" fill-rule=\"evenodd\" fill-opacity=\"1\"/>\n",
       "<polygon clip-path=\"url(#clip3000)\" points=\"\n",
       "1172.79,455.145 1271.87,443.229 1271.87,419.395 1172.79,407.479 1073.72,419.395 1073.72,443.229 1172.79,455.145 \n",
       "  \" fill=\"#000000\" fill-rule=\"evenodd\" fill-opacity=\"1\"/>\n",
       "<polygon clip-path=\"url(#clip3000)\" points=\"\n",
       "1172.79,454.645 1269.79,442.979 1269.79,419.645 1172.79,407.979 1075.8,419.645 1075.8,442.979 1172.79,454.645 \n",
       "  \" fill=\"#009af9\" fill-rule=\"evenodd\" fill-opacity=\"1\"/>\n",
       "<polygon clip-path=\"url(#clip3000)\" points=\"\n",
       "1282.19,673.945 1348.93,661.904 1348.93,637.82 1282.19,625.779 1215.45,637.82 1215.45,661.904 1282.19,673.945 \n",
       "  \" fill=\"#000000\" fill-rule=\"evenodd\" fill-opacity=\"1\"/>\n",
       "<polygon clip-path=\"url(#clip3000)\" points=\"\n",
       "1282.19,673.195 1346.86,661.529 1346.86,638.195 1282.19,626.529 1217.53,638.195 1217.53,661.529 1282.19,673.195 \n",
       "  \" fill=\"#009af9\" fill-rule=\"evenodd\" fill-opacity=\"1\"/>\n",
       "<polygon clip-path=\"url(#clip3000)\" points=\"\n",
       "1223.58,877.348 1338.82,865.467 1338.82,841.705 1223.58,829.825 1108.34,841.705 1108.34,865.467 1223.58,877.348 \n",
       "  \" fill=\"#000000\" fill-rule=\"evenodd\" fill-opacity=\"1\"/>\n",
       "<polygon clip-path=\"url(#clip3000)\" points=\"\n",
       "1223.58,876.92 1336.74,865.253 1336.74,841.92 1223.58,830.253 1110.42,841.92 1110.42,865.253 1223.58,876.92 \n",
       "  \" fill=\"#009af9\" fill-rule=\"evenodd\" fill-opacity=\"1\"/>\n",
       "<polygon clip-path=\"url(#clip3000)\" points=\"\n",
       "1139.49,1183.17 1206.23,1171.13 1206.23,1147.04 1139.49,1135 1072.74,1147.04 1072.74,1171.13 1139.49,1183.17 \n",
       "  \" fill=\"#000000\" fill-rule=\"evenodd\" fill-opacity=\"1\"/>\n",
       "<polygon clip-path=\"url(#clip3000)\" points=\"\n",
       "1139.49,1182.42 1204.15,1170.75 1204.15,1147.42 1139.49,1135.75 1074.82,1147.42 1074.82,1170.75 1139.49,1182.42 \n",
       "  \" fill=\"#009af9\" fill-rule=\"evenodd\" fill-opacity=\"1\"/>\n",
       "<polygon clip-path=\"url(#clip3000)\" points=\"\n",
       "1368.54,1208.39 1580.78,1196.61 1580.78,1173.04 1368.54,1161.26 1156.31,1173.04 1156.31,1196.61 1368.54,1208.39 \n",
       "  \" fill=\"#000000\" fill-rule=\"evenodd\" fill-opacity=\"1\"/>\n",
       "<polygon clip-path=\"url(#clip3000)\" points=\"\n",
       "1368.54,1208.16 1578.7,1196.49 1578.7,1173.16 1368.54,1161.49 1158.39,1173.16 1158.39,1196.49 1368.54,1208.16 \n",
       "  \" fill=\"#009af9\" fill-rule=\"evenodd\" fill-opacity=\"1\"/>\n",
       "<polygon clip-path=\"url(#clip3000)\" points=\"\n",
       "685.59,1166.83 784.663,1154.91 784.663,1131.08 685.59,1119.16 586.517,1131.08 586.517,1154.91 685.59,1166.83 \n",
       "  \" fill=\"#000000\" fill-rule=\"evenodd\" fill-opacity=\"1\"/>\n",
       "<polygon clip-path=\"url(#clip3000)\" points=\"\n",
       "685.59,1166.33 782.585,1154.66 782.585,1131.33 685.59,1119.66 588.595,1131.33 588.595,1154.66 685.59,1166.33 \n",
       "  \" fill=\"#009af9\" fill-rule=\"evenodd\" fill-opacity=\"1\"/>\n",
       "<polygon clip-path=\"url(#clip3000)\" points=\"\n",
       "285.129,1387.47 384.202,1375.56 384.202,1351.72 285.129,1339.81 186.055,1351.72 186.055,1375.56 285.129,1387.47 \n",
       "  \" fill=\"#000000\" fill-rule=\"evenodd\" fill-opacity=\"1\"/>\n",
       "<polygon clip-path=\"url(#clip3000)\" points=\"\n",
       "285.129,1386.97 382.124,1375.31 382.124,1351.97 285.129,1340.31 188.134,1351.97 188.134,1375.31 285.129,1386.97 \n",
       "  \" fill=\"#009af9\" fill-rule=\"evenodd\" fill-opacity=\"1\"/>\n",
       "<polygon clip-path=\"url(#clip3000)\" points=\"\n",
       "939.47,1424.92 1038.54,1413 1038.54,1389.17 939.47,1377.25 840.397,1389.17 840.397,1413 939.47,1424.92 \n",
       "  \" fill=\"#000000\" fill-rule=\"evenodd\" fill-opacity=\"1\"/>\n",
       "<polygon clip-path=\"url(#clip3000)\" points=\"\n",
       "939.47,1424.42 1036.46,1412.75 1036.46,1389.42 939.47,1377.75 842.475,1389.42 842.475,1412.75 939.47,1424.42 \n",
       "  \" fill=\"#009af9\" fill-rule=\"evenodd\" fill-opacity=\"1\"/>\n",
       "<polygon clip-path=\"url(#clip3000)\" points=\"\n",
       "157.51,1407.02 240.418,1395.06 240.418,1371.12 157.51,1359.16 74.6025,1371.12 74.6025,1395.06 157.51,1407.02 \n",
       "  \" fill=\"#000000\" fill-rule=\"evenodd\" fill-opacity=\"1\"/>\n",
       "<polygon clip-path=\"url(#clip3000)\" points=\"\n",
       "157.51,1406.42 238.339,1394.76 238.339,1371.42 157.51,1359.76 76.681,1371.42 76.681,1394.76 157.51,1406.42 \n",
       "  \" fill=\"#009af9\" fill-rule=\"evenodd\" fill-opacity=\"1\"/>\n",
       "<polygon clip-path=\"url(#clip3000)\" points=\"\n",
       "778.58,1487.29 861.487,1475.33 861.487,1451.39 778.58,1439.43 695.672,1451.39 695.672,1475.33 778.58,1487.29 \n",
       "  \" fill=\"#000000\" fill-rule=\"evenodd\" fill-opacity=\"1\"/>\n",
       "<polygon clip-path=\"url(#clip3000)\" points=\"\n",
       "778.58,1486.69 859.409,1475.03 859.409,1451.69 778.58,1440.03 697.75,1451.69 697.75,1475.03 778.58,1486.69 \n",
       "  \" fill=\"#009af9\" fill-rule=\"evenodd\" fill-opacity=\"1\"/>\n",
       "<polygon clip-path=\"url(#clip3000)\" points=\"\n",
       "555.461,1506.41 638.369,1494.44 638.369,1470.51 555.461,1458.54 472.554,1470.51 472.554,1494.44 555.461,1506.41 \n",
       "  \" fill=\"#000000\" fill-rule=\"evenodd\" fill-opacity=\"1\"/>\n",
       "<polygon clip-path=\"url(#clip3000)\" points=\"\n",
       "555.461,1505.81 636.29,1494.14 636.29,1470.81 555.461,1459.14 474.632,1470.81 474.632,1494.14 555.461,1505.81 \n",
       "  \" fill=\"#009af9\" fill-rule=\"evenodd\" fill-opacity=\"1\"/>\n",
       "<polygon clip-path=\"url(#clip3000)\" points=\"\n",
       "454.53,1389.95 521.272,1377.91 521.272,1353.82 454.53,1341.78 387.788,1353.82 387.788,1377.91 454.53,1389.95 \n",
       "  \" fill=\"#000000\" fill-rule=\"evenodd\" fill-opacity=\"1\"/>\n",
       "<polygon clip-path=\"url(#clip3000)\" points=\"\n",
       "454.53,1389.2 519.193,1377.53 519.193,1354.2 454.53,1342.53 389.867,1354.2 389.867,1377.53 454.53,1389.2 \n",
       "  \" fill=\"#009af9\" fill-rule=\"evenodd\" fill-opacity=\"1\"/>\n",
       "<polygon clip-path=\"url(#clip3000)\" points=\"\n",
       "1766.86,1203.1 1898.27,1191.25 1898.27,1167.54 1766.86,1155.68 1635.46,1167.54 1635.46,1191.25 1766.86,1203.1 \n",
       "  \" fill=\"#000000\" fill-rule=\"evenodd\" fill-opacity=\"1\"/>\n",
       "<polygon clip-path=\"url(#clip3000)\" points=\"\n",
       "1766.86,1202.73 1896.19,1191.06 1896.19,1167.73 1766.86,1156.06 1637.53,1167.73 1637.53,1191.06 1766.86,1202.73 \n",
       "  \" fill=\"#009af9\" fill-rule=\"evenodd\" fill-opacity=\"1\"/>\n",
       "<polygon clip-path=\"url(#clip3000)\" points=\"\n",
       "2258.24,1442.48 2373.48,1430.6 2373.48,1406.84 2258.24,1394.96 2143,1406.84 2143,1430.6 2258.24,1442.48 \n",
       "  \" fill=\"#000000\" fill-rule=\"evenodd\" fill-opacity=\"1\"/>\n",
       "<polygon clip-path=\"url(#clip3000)\" points=\"\n",
       "2258.24,1442.06 2371.4,1430.39 2371.4,1407.06 2258.24,1395.39 2145.08,1407.06 2145.08,1430.39 2258.24,1442.06 \n",
       "  \" fill=\"#009af9\" fill-rule=\"evenodd\" fill-opacity=\"1\"/>\n",
       "<polygon clip-path=\"url(#clip3000)\" points=\"\n",
       "1568.57,1458.44 1667.65,1446.52 1667.65,1422.69 1568.57,1410.77 1469.5,1422.69 1469.5,1446.52 1568.57,1458.44 \n",
       "  \" fill=\"#000000\" fill-rule=\"evenodd\" fill-opacity=\"1\"/>\n",
       "<polygon clip-path=\"url(#clip3000)\" points=\"\n",
       "1568.57,1457.94 1665.57,1446.27 1665.57,1422.94 1568.57,1411.27 1471.58,1422.94 1471.58,1446.27 1568.57,1457.94 \n",
       "  \" fill=\"#009af9\" fill-rule=\"evenodd\" fill-opacity=\"1\"/>\n",
       "<polygon clip-path=\"url(#clip3000)\" points=\"\n",
       "2138.16,1388.74 2237.24,1376.82 2237.24,1352.99 2138.16,1341.07 2039.09,1352.99 2039.09,1376.82 2138.16,1388.74 \n",
       "  \" fill=\"#000000\" fill-rule=\"evenodd\" fill-opacity=\"1\"/>\n",
       "<polygon clip-path=\"url(#clip3000)\" points=\"\n",
       "2138.16,1388.24 2235.16,1376.57 2235.16,1353.24 2138.16,1341.57 2041.17,1353.24 2041.17,1376.57 2138.16,1388.24 \n",
       "  \" fill=\"#009af9\" fill-rule=\"evenodd\" fill-opacity=\"1\"/>\n",
       "<polygon clip-path=\"url(#clip3000)\" points=\"\n",
       "1970.6,1518.68 2069.67,1506.76 2069.67,1482.93 1970.6,1471.01 1871.53,1482.93 1871.53,1506.76 1970.6,1518.68 \n",
       "  \" fill=\"#000000\" fill-rule=\"evenodd\" fill-opacity=\"1\"/>\n",
       "<polygon clip-path=\"url(#clip3000)\" points=\"\n",
       "1970.6,1518.18 2067.6,1506.51 2067.6,1483.18 1970.6,1471.51 1873.61,1483.18 1873.61,1506.51 1970.6,1518.18 \n",
       "  \" fill=\"#009af9\" fill-rule=\"evenodd\" fill-opacity=\"1\"/>\n",
       "<polygon clip-path=\"url(#clip3000)\" points=\"\n",
       "1796.65,1459.58 1879.55,1447.62 1879.55,1423.68 1796.65,1411.72 1713.74,1423.68 1713.74,1447.62 1796.65,1459.58 \n",
       "  \" fill=\"#000000\" fill-rule=\"evenodd\" fill-opacity=\"1\"/>\n",
       "<polygon clip-path=\"url(#clip3000)\" points=\"\n",
       "1796.65,1458.98 1877.48,1447.32 1877.48,1423.98 1796.65,1412.32 1715.82,1423.98 1715.82,1447.32 1796.65,1458.98 \n",
       "  \" fill=\"#009af9\" fill-rule=\"evenodd\" fill-opacity=\"1\"/>\n",
       "<g clip-path=\"url(#clip3000)\">\n",
       "<text style=\"fill:#000000; fill-opacity:1; font-family:Arial,Helvetica Neue,Helvetica,sans-serif; font-size:84px; text-anchor:middle;\" transform=\"rotate(0, 1197.7, 119.907)\" x=\"1197.7\" y=\"119.907\">Any</text>\n",
       "</g>\n",
       "<g clip-path=\"url(#clip3000)\">\n",
       "<text style=\"fill:#000000; fill-opacity:1; font-family:Arial,Helvetica Neue,Helvetica,sans-serif; font-size:84px; text-anchor:middle;\" transform=\"rotate(0, 1172.79, 461.812)\" x=\"1172.79\" y=\"461.812\">Number</text>\n",
       "</g>\n",
       "<g clip-path=\"url(#clip3000)\">\n",
       "<text style=\"fill:#000000; fill-opacity:1; font-family:Arial,Helvetica Neue,Helvetica,sans-serif; font-size:84px; text-anchor:middle;\" transform=\"rotate(0, 1282.19, 680.362)\" x=\"1282.19\" y=\"680.362\">Real</text>\n",
       "</g>\n",
       "<g clip-path=\"url(#clip3000)\">\n",
       "<text style=\"fill:#000000; fill-opacity:1; font-family:Arial,Helvetica Neue,Helvetica,sans-serif; font-size:84px; text-anchor:middle;\" transform=\"rotate(0, 1223.58, 884.086)\" x=\"1223.58\" y=\"884.086\">Integer</text>\n",
       "</g>\n",
       "<g clip-path=\"url(#clip3000)\">\n",
       "<text style=\"fill:#000000; fill-opacity:1; font-family:Arial,Helvetica Neue,Helvetica,sans-serif; font-size:84px; text-anchor:middle;\" transform=\"rotate(0, 1139.49, 1189.58)\" x=\"1139.49\" y=\"1189.58\">Bool</text>\n",
       "</g>\n",
       "<g clip-path=\"url(#clip3000)\">\n",
       "<text style=\"fill:#000000; fill-opacity:1; font-family:Arial,Helvetica Neue,Helvetica,sans-serif; font-size:84px; text-anchor:middle;\" transform=\"rotate(0, 1368.54, 1215.32)\" x=\"1368.54\" y=\"1215.32\">OffsetInteger</text>\n",
       "</g>\n",
       "<g clip-path=\"url(#clip3000)\">\n",
       "<text style=\"fill:#000000; fill-opacity:1; font-family:Arial,Helvetica Neue,Helvetica,sans-serif; font-size:84px; text-anchor:middle;\" transform=\"rotate(0, 685.59, 1173.49)\" x=\"685.59\" y=\"1173.49\">Signed</text>\n",
       "</g>\n",
       "<g clip-path=\"url(#clip3000)\">\n",
       "<text style=\"fill:#000000; fill-opacity:1; font-family:Arial,Helvetica Neue,Helvetica,sans-serif; font-size:84px; text-anchor:middle;\" transform=\"rotate(0, 285.129, 1394.14)\" x=\"285.129\" y=\"1394.14\">BigInt</text>\n",
       "</g>\n",
       "<g clip-path=\"url(#clip3000)\">\n",
       "<text style=\"fill:#000000; fill-opacity:1; font-family:Arial,Helvetica Neue,Helvetica,sans-serif; font-size:84px; text-anchor:middle;\" transform=\"rotate(0, 939.47, 1431.58)\" x=\"939.47\" y=\"1431.58\">Int128</text>\n",
       "</g>\n",
       "<g clip-path=\"url(#clip3000)\">\n",
       "<text style=\"fill:#000000; fill-opacity:1; font-family:Arial,Helvetica Neue,Helvetica,sans-serif; font-size:84px; text-anchor:middle;\" transform=\"rotate(0, 157.51, 1413.59)\" x=\"157.51\" y=\"1413.59\">Int16</text>\n",
       "</g>\n",
       "<g clip-path=\"url(#clip3000)\">\n",
       "<text style=\"fill:#000000; fill-opacity:1; font-family:Arial,Helvetica Neue,Helvetica,sans-serif; font-size:84px; text-anchor:middle;\" transform=\"rotate(0, 778.58, 1493.86)\" x=\"778.58\" y=\"1493.86\">Int32</text>\n",
       "</g>\n",
       "<g clip-path=\"url(#clip3000)\">\n",
       "<text style=\"fill:#000000; fill-opacity:1; font-family:Arial,Helvetica Neue,Helvetica,sans-serif; font-size:84px; text-anchor:middle;\" transform=\"rotate(0, 555.461, 1512.98)\" x=\"555.461\" y=\"1512.98\">Int64</text>\n",
       "</g>\n",
       "<g clip-path=\"url(#clip3000)\">\n",
       "<text style=\"fill:#000000; fill-opacity:1; font-family:Arial,Helvetica Neue,Helvetica,sans-serif; font-size:84px; text-anchor:middle;\" transform=\"rotate(0, 454.53, 1396.36)\" x=\"454.53\" y=\"1396.36\">Int8</text>\n",
       "</g>\n",
       "<g clip-path=\"url(#clip3000)\">\n",
       "<text style=\"fill:#000000; fill-opacity:1; font-family:Arial,Helvetica Neue,Helvetica,sans-serif; font-size:84px; text-anchor:middle;\" transform=\"rotate(0, 1766.86, 1209.89)\" x=\"1766.86\" y=\"1209.89\">Unsigned</text>\n",
       "</g>\n",
       "<g clip-path=\"url(#clip3000)\">\n",
       "<text style=\"fill:#000000; fill-opacity:1; font-family:Arial,Helvetica Neue,Helvetica,sans-serif; font-size:84px; text-anchor:middle;\" transform=\"rotate(0, 2258.24, 1449.22)\" x=\"2258.24\" y=\"1449.22\">UInt128</text>\n",
       "</g>\n",
       "<g clip-path=\"url(#clip3000)\">\n",
       "<text style=\"fill:#000000; fill-opacity:1; font-family:Arial,Helvetica Neue,Helvetica,sans-serif; font-size:84px; text-anchor:middle;\" transform=\"rotate(0, 1568.57, 1465.11)\" x=\"1568.57\" y=\"1465.11\">UInt16</text>\n",
       "</g>\n",
       "<g clip-path=\"url(#clip3000)\">\n",
       "<text style=\"fill:#000000; fill-opacity:1; font-family:Arial,Helvetica Neue,Helvetica,sans-serif; font-size:84px; text-anchor:middle;\" transform=\"rotate(0, 2138.16, 1395.41)\" x=\"2138.16\" y=\"1395.41\">UInt32</text>\n",
       "</g>\n",
       "<g clip-path=\"url(#clip3000)\">\n",
       "<text style=\"fill:#000000; fill-opacity:1; font-family:Arial,Helvetica Neue,Helvetica,sans-serif; font-size:84px; text-anchor:middle;\" transform=\"rotate(0, 1970.6, 1525.34)\" x=\"1970.6\" y=\"1525.34\">UInt64</text>\n",
       "</g>\n",
       "<g clip-path=\"url(#clip3000)\">\n",
       "<text style=\"fill:#000000; fill-opacity:1; font-family:Arial,Helvetica Neue,Helvetica,sans-serif; font-size:84px; text-anchor:middle;\" transform=\"rotate(0, 1796.65, 1466.15)\" x=\"1796.65\" y=\"1466.15\">UInt8</text>\n",
       "</g>\n",
       "</svg>\n"
      ]
     },
     "execution_count": 7,
     "metadata": {},
     "output_type": "execute_result"
    }
   ],
   "source": [
    "using GraphRecipes, Plots\n",
    "\n",
    "#pyplot(size=(800, 600))\n",
    "gr(size=(600, 400))\n",
    "theme(:default)\n",
    "\n",
    "plot(Integer, method=:tree, fontsize=4)"
   ]
  },
  {
   "cell_type": "markdown",
   "metadata": {},
   "source": [
    "### Signed integers\n",
    "\n",
    "* First bit indicates sign.  \n",
    "    - `0` for nonnegative numbers\n",
    "    - `1` for negative numbers  \n",
    "    \n",
    "* **Two's complement representation** for negative numbers. \n",
    "    - Sign bit is set to 1  \n",
    "    - remaining bits are set to opposite values  \n",
    "    - 1 is added to the result  \n",
    "    - Two's complement representation of a negative integer `x` is same as the unsigned integer `2^64 + x`."
   ]
  },
  {
   "cell_type": "code",
   "execution_count": 8,
   "metadata": {},
   "outputs": [
    {
     "name": "stdout",
     "output_type": "stream",
     "text": [
      "typeof(18) = Int64\n",
      "bitstring(18) = \"0000000000000000000000000000000000000000000000000000000000010010\"\n",
      "bitstring(-18) = \"1111111111111111111111111111111111111111111111111111111111101110\"\n",
      "bitstring(UInt64(Int128(2) ^ 64 - 18)) == bitstring(-18) = true\n",
      "bitstring(2 * 18) = \"0000000000000000000000000000000000000000000000000000000000100100\"\n",
      "bitstring(2 * -18) = \"1111111111111111111111111111111111111111111111111111111111011100\"\n"
     ]
    }
   ],
   "source": [
    "@show typeof(18)\n",
    "@show bitstring(18)\n",
    "@show bitstring(-18)\n",
    "@show bitstring(UInt64(Int128(2)^64 - 18)) == bitstring(-18)\n",
    "@show bitstring(2 * 18) # shift bits of 18\n",
    "@show bitstring(2 * -18); # shift bits of -18"
   ]
  },
  {
   "cell_type": "markdown",
   "metadata": {},
   "source": [
    "* Two's complement representation respects modular arithmetic nicely.  \n",
    "    Addition of any two signed integers are just bitwise addition, possibly modulo $2^M$\n",
    "    \n",
    "<img src=\"http://users.dickinson.edu/~braught/courses/cs251f02/classes/images/twosCompWheel.png\" width=\"400\" align=\"center\"/>    "
   ]
  },
  {
   "cell_type": "markdown",
   "metadata": {},
   "source": [
    "* **Range** of representable integers by $M$-bit **signed integer** is $[-2^{M-1},2^{M-1}-1]$.\n",
    "    - Julia functions `typemin(T)` and `typemax(T)` give the lowest and highest representable number of a type `T` respectively"
   ]
  },
  {
   "cell_type": "code",
   "execution_count": 9,
   "metadata": {},
   "outputs": [
    {
     "data": {
      "text/plain": [
       "(-9223372036854775808, 9223372036854775807)"
      ]
     },
     "execution_count": 9,
     "metadata": {},
     "output_type": "execute_result"
    }
   ],
   "source": [
    "typemin(Int64), typemax(Int64)"
   ]
  },
  {
   "cell_type": "code",
   "execution_count": 10,
   "metadata": {},
   "outputs": [
    {
     "name": "stdout",
     "output_type": "stream",
     "text": [
      "Int8\t-128\t127\n",
      "Int16\t-32768\t32767\n",
      "Int32\t-2147483648\t2147483647\n",
      "Int64\t-9223372036854775808\t9223372036854775807\n",
      "Int128\t-170141183460469231731687303715884105728\t170141183460469231731687303715884105727\n"
     ]
    }
   ],
   "source": [
    "for T in [Int8, Int16, Int32, Int64, Int128]\n",
    "    println(T, '\\t', typemin(T), '\\t', typemax(T))\n",
    "end"
   ]
  },
  {
   "cell_type": "markdown",
   "metadata": {},
   "source": [
    "### Unsigned integers\n",
    "\n",
    "* For unsigned integers, the range is $[0,2^M-1]$."
   ]
  },
  {
   "cell_type": "code",
   "execution_count": 11,
   "metadata": {},
   "outputs": [
    {
     "name": "stdout",
     "output_type": "stream",
     "text": [
      "UInt8\t0\t255\n",
      "UInt16\t0\t65535\n",
      "UInt32\t0\t4294967295\n",
      "UInt64\t0\t18446744073709551615\n",
      "UInt128\t0\t340282366920938463463374607431768211455\n"
     ]
    }
   ],
   "source": [
    "for t in [UInt8, UInt16, UInt32, UInt64, UInt128]\n",
    "    println(t, '\\t', typemin(t), '\\t', typemax(t))\n",
    "end"
   ]
  },
  {
   "cell_type": "markdown",
   "metadata": {},
   "source": [
    "### `BigInt`\n",
    "\n",
    "Julia `BigInt` type is arbitrary precision."
   ]
  },
  {
   "cell_type": "code",
   "execution_count": 12,
   "metadata": {},
   "outputs": [
    {
     "name": "stdout",
     "output_type": "stream",
     "text": [
      "typemax(Int128) = 170141183460469231731687303715884105727\n",
      "typemax(Int128) + 1 = -170141183460469231731687303715884105728\n",
      "BigInt(typemax(Int128)) + 1 = 170141183460469231731687303715884105728\n"
     ]
    }
   ],
   "source": [
    "@show typemax(Int128)\n",
    "@show typemax(Int128) + 1 # modular arithmetic!\n",
    "@show BigInt(typemax(Int128)) + 1;"
   ]
  },
  {
   "cell_type": "markdown",
   "metadata": {},
   "source": [
    "### Overflow and underflow for integer arithmetic\n",
    "\n",
    "R reports `NA` for integer overflow and underflow.  \n",
    "**Julia outputs the result according to modular arithmetic.**"
   ]
  },
  {
   "cell_type": "code",
   "execution_count": 13,
   "metadata": {},
   "outputs": [
    {
     "name": "stdout",
     "output_type": "stream",
     "text": [
      "typemax(Int32) = 2147483647\n",
      "typemax(Int32) + Int32(1) = -2147483648\n"
     ]
    }
   ],
   "source": [
    "@show typemax(Int32)\n",
    "@show typemax(Int32) + Int32(1); # modular arithmetics!"
   ]
  },
  {
   "cell_type": "code",
   "execution_count": 14,
   "metadata": {},
   "outputs": [
    {
     "data": {
      "text/plain": [
       "RObject{IntSxp}\n",
       "[1] 2147483647\n"
      ]
     },
     "execution_count": 14,
     "metadata": {},
     "output_type": "execute_result"
    }
   ],
   "source": [
    "using RCall\n",
    "\n",
    "R\"\"\"\n",
    ".Machine$integer.max\n",
    "\"\"\""
   ]
  },
  {
   "cell_type": "code",
   "execution_count": 15,
   "metadata": {},
   "outputs": [
    {
     "data": {
      "text/plain": [
       "RObject{IntSxp}\n",
       "[1] 2147483647\n"
      ]
     },
     "execution_count": 15,
     "metadata": {},
     "output_type": "execute_result"
    }
   ],
   "source": [
    "R\"\"\"\n",
    "M <- 32\n",
    "big <- 2^(M-1) - 1\n",
    "as.integer(big)\n",
    "\"\"\""
   ]
  },
  {
   "cell_type": "code",
   "execution_count": 16,
   "metadata": {},
   "outputs": [
    {
     "name": "stderr",
     "output_type": "stream",
     "text": [
      "┌ Warning: RCall.jl: Warning: NAs introduced by coercion to integer range\n",
      "└ @ RCall /Users/huazhou/.julia/packages/RCall/ffM0W/src/io.jl:113\n"
     ]
    },
    {
     "data": {
      "text/plain": [
       "RObject{IntSxp}\n",
       "[1] NA\n"
      ]
     },
     "execution_count": 16,
     "metadata": {},
     "output_type": "execute_result"
    }
   ],
   "source": [
    "R\"\"\"\n",
    "as.integer(big+1)\n",
    "\"\"\""
   ]
  },
  {
   "cell_type": "markdown",
   "metadata": {
    "collapsed": true
   },
   "source": [
    "## Real numbers: floating-number system\n",
    "\n",
    "Floating-point number system is a computer model for real numbers.\n",
    "\n",
    "* Most computer systems adopt the [IEEE 754 standard](https://en.wikipedia.org/wiki/IEEE_floating_point), established in 1985, for floating-point arithmetics.  \n",
    "For the history, see an [interview with William Kahan](http://www.cs.berkeley.edu/~wkahan/ieee754status/754story.html).\n",
    "\n",
    "* In the scientific notation, a real number is represented as\n",
    "$$\\pm d_0.d_1d_2 \\cdots d_p \\times b^e.$$\n",
    "In computer, the _base_ is $b=2$ and the digits $d_i$ are 0 or 1.\n",
    "\n",
    "* **Normalized** vs **denormalized** numbers. For example, decimal number 18 is\n",
    "$$ +1.0010 \\times 2^4 \\quad (\\text{normalized})$$\n",
    "or, equivalently,\n",
    "$$ +0.1001 \\times 2^5 \\quad (\\text{denormalized}).$$\n",
    "\n",
    "* In the floating-number system, computer stores \n",
    "    - sign bit  \n",
    "    - the _fraction_ (or _mantissa_, or _significand_) of the **normalized** representation\n",
    "    - the actual exponent _plus_ a bias"
   ]
  },
  {
   "cell_type": "code",
   "execution_count": 17,
   "metadata": {},
   "outputs": [
    {
     "data": {
      "image/svg+xml": [
       "<?xml version=\"1.0\" encoding=\"utf-8\"?>\n",
       "<svg xmlns=\"http://www.w3.org/2000/svg\" xmlns:xlink=\"http://www.w3.org/1999/xlink\" width=\"600\" height=\"400\" viewBox=\"0 0 2400 1600\">\n",
       "<defs>\n",
       "  <clipPath id=\"clip3400\">\n",
       "    <rect x=\"0\" y=\"0\" width=\"2400\" height=\"1600\"/>\n",
       "  </clipPath>\n",
       "</defs>\n",
       "<polygon clip-path=\"url(#clip3400)\" points=\"\n",
       "0,1600 2400,1600 2400,0 0,0 \n",
       "  \" fill=\"#ffffff\" fill-rule=\"evenodd\" fill-opacity=\"1\"/>\n",
       "<defs>\n",
       "  <clipPath id=\"clip3401\">\n",
       "    <rect x=\"480\" y=\"0\" width=\"1681\" height=\"1600\"/>\n",
       "  </clipPath>\n",
       "</defs>\n",
       "<polygon clip-path=\"url(#clip3400)\" points=\"\n",
       "94.4882,1537.01 2321.26,1537.01 2321.26,47.2441 94.4882,47.2441 \n",
       "  \" fill=\"#ffffff\" fill-rule=\"evenodd\" fill-opacity=\"1\"/>\n",
       "<defs>\n",
       "  <clipPath id=\"clip3402\">\n",
       "    <rect x=\"94\" y=\"47\" width=\"2228\" height=\"1491\"/>\n",
       "  </clipPath>\n",
       "</defs>\n",
       "<polyline clip-path=\"url(#clip3402)\" style=\"stroke:#d968a2; stroke-width:4; stroke-opacity:1; fill:none\" points=\"\n",
       "  1170.46,89.4072 1170.46,99.242 1170.44,109.285 1170.41,119.521 1170.37,129.934 1170.32,140.508 1170.27,151.23 1170.21,162.082 1170.14,173.05 1170.06,184.118 \n",
       "  1169.98,195.272 1169.9,206.494 1169.81,217.77 1169.73,229.085 1169.64,240.423 1169.55,251.769 1169.46,263.107 1169.37,274.422 1169.28,285.699 1169.2,296.921 \n",
       "  1169.12,308.074 1169.04,319.143 1168.97,330.111 1168.91,340.963 1168.86,351.684 1168.81,362.259 1168.77,372.672 1168.74,382.908 1168.72,392.951 1168.72,402.786 \n",
       "  \n",
       "  \"/>\n",
       "<polyline clip-path=\"url(#clip3402)\" style=\"stroke:#d968a2; stroke-width:4; stroke-opacity:1; fill:none\" points=\"\n",
       "  1168.72,402.786 1168.7,412.723 1168.64,422.871 1168.54,433.214 1168.41,443.736 1168.25,454.422 1168.06,465.255 1167.84,476.221 1167.6,487.304 1167.35,498.488 \n",
       "  1167.07,509.757 1166.79,521.097 1166.49,532.491 1166.19,543.924 1165.88,555.381 1165.57,566.845 1165.26,578.302 1164.96,589.735 1164.66,601.129 1164.38,612.469 \n",
       "  1164.1,623.739 1163.85,634.923 1163.61,646.005 1163.39,656.971 1163.2,667.805 1163.04,678.49 1162.91,689.012 1162.81,699.355 1162.75,709.503 1162.73,719.441 \n",
       "  \n",
       "  \"/>\n",
       "<polyline clip-path=\"url(#clip3402)\" style=\"stroke:#d968a2; stroke-width:4; stroke-opacity:1; fill:none\" points=\"\n",
       "  1162.73,719.441 1162.68,732.818 1162.54,746.479 1162.31,760.401 1162,774.565 1161.62,788.949 1161.17,803.531 1160.67,818.292 1160.11,833.211 1159.51,848.265 \n",
       "  1158.87,863.435 1158.2,878.699 1157.5,894.036 1156.79,909.426 1156.06,924.847 1155.33,940.279 1154.61,955.7 1153.9,971.09 1153.2,986.428 1152.53,1001.69 \n",
       "  1151.89,1016.86 1151.29,1031.92 1150.73,1046.83 1150.22,1061.59 1149.78,1076.18 1149.39,1090.56 1149.09,1104.73 1148.86,1118.65 1148.71,1132.31 1148.67,1145.69 \n",
       "  \n",
       "  \"/>\n",
       "<polyline clip-path=\"url(#clip3402)\" style=\"stroke:#d968a2; stroke-width:4; stroke-opacity:1; fill:none\" points=\"\n",
       "  1148.67,1145.69 1147.62,1157.03 1144.58,1168.52 1139.68,1180.15 1133.09,1191.91 1124.95,1203.78 1115.4,1215.76 1104.6,1227.83 1092.69,1239.99 1079.81,1252.22 \n",
       "  1066.13,1264.51 1051.77,1276.85 1036.9,1289.22 1021.66,1301.63 1006.2,1314.05 990.668,1326.48 975.207,1338.9 959.968,1351.31 945.099,1363.68 930.746,1376.02 \n",
       "  917.06,1388.31 904.186,1400.54 892.273,1412.7 881.469,1424.77 871.921,1436.75 863.778,1448.62 857.187,1460.38 852.296,1472.01 849.253,1483.5 848.206,1494.84 \n",
       "  \n",
       "  \"/>\n",
       "<polyline clip-path=\"url(#clip3402)\" style=\"stroke:#d968a2; stroke-width:4; stroke-opacity:1; fill:none\" points=\"\n",
       "  1148.67,1145.69 1152.53,1156.89 1163.77,1167.35 1181.83,1177.11 1206.17,1186.25 1236.24,1194.8 1271.5,1202.83 1311.4,1210.4 1355.39,1217.55 1402.94,1224.34 \n",
       "  1453.48,1230.83 1506.48,1237.07 1561.39,1243.11 1617.67,1249.02 1674.77,1254.85 1732.14,1260.65 1789.23,1266.47 1845.51,1272.38 1900.42,1278.43 1953.42,1284.67 \n",
       "  2003.97,1291.15 2051.51,1297.95 2095.5,1305.09 2135.4,1312.66 2170.66,1320.69 2200.73,1329.24 2225.07,1338.38 2243.13,1348.15 2254.37,1358.61 2258.24,1369.81 \n",
       "  \n",
       "  \"/>\n",
       "<polyline clip-path=\"url(#clip3402)\" style=\"stroke:#d968a2; stroke-width:4; stroke-opacity:1; fill:none\" points=\"\n",
       "  1148.67,1145.69 1150.75,1153.94 1156.81,1161.82 1166.55,1169.34 1179.68,1176.54 1195.9,1183.44 1214.91,1190.07 1236.43,1196.47 1260.16,1202.65 1285.8,1208.65 \n",
       "  1313.06,1214.5 1341.64,1220.21 1371.25,1225.83 1401.6,1231.38 1432.4,1236.89 1463.34,1242.38 1494.13,1247.89 1524.48,1253.44 1554.09,1259.06 1582.68,1264.78 \n",
       "  1609.94,1270.62 1635.58,1276.62 1659.3,1282.8 1680.82,1289.2 1699.84,1295.83 1716.06,1302.74 1729.18,1309.93 1738.92,1317.46 1744.98,1325.33 1747.07,1333.59 \n",
       "  \n",
       "  \"/>\n",
       "<polyline clip-path=\"url(#clip3402)\" style=\"stroke:#d968a2; stroke-width:4; stroke-opacity:1; fill:none\" points=\"\n",
       "  1148.67,1145.69 1145.21,1155.6 1135.17,1164.86 1119.04,1173.5 1097.3,1181.59 1070.43,1189.16 1038.94,1196.27 1003.3,1202.96 964,1209.29 921.532,1215.3 \n",
       "  876.381,1221.04 829.036,1226.57 779.984,1231.92 729.713,1237.15 678.711,1242.3 627.465,1247.44 576.462,1252.59 526.191,1257.82 477.139,1263.17 429.794,1268.7 \n",
       "  384.644,1274.44 342.176,1280.45 302.877,1286.78 267.237,1293.47 235.741,1300.58 208.878,1308.15 187.136,1316.24 171.002,1324.88 160.964,1334.14 157.51,1344.05 \n",
       "  \n",
       "  \"/>\n",
       "<polygon clip-path=\"url(#clip3400)\" points=\"\n",
       "1170.46,113.741 1221.04,101.574 1221.04,77.2406 1170.46,65.0739 1119.89,77.2406 1119.89,101.574 1170.46,113.741 \n",
       "  \" fill=\"#000000\" fill-rule=\"evenodd\" fill-opacity=\"1\"/>\n",
       "<polygon clip-path=\"url(#clip3400)\" points=\"\n",
       "1170.46,112.741 1218.96,101.074 1218.96,77.7406 1170.46,66.0739 1121.96,77.7406 1121.96,101.074 1170.46,112.741 \n",
       "  \" fill=\"#009af9\" fill-rule=\"evenodd\" fill-opacity=\"1\"/>\n",
       "<polygon clip-path=\"url(#clip3400)\" points=\"\n",
       "1168.72,426.619 1267.79,414.702 1267.79,390.869 1168.72,378.952 1069.65,390.869 1069.65,414.702 1168.72,426.619 \n",
       "  \" fill=\"#000000\" fill-rule=\"evenodd\" fill-opacity=\"1\"/>\n",
       "<polygon clip-path=\"url(#clip3400)\" points=\"\n",
       "1168.72,426.119 1265.71,414.452 1265.71,391.119 1168.72,379.452 1071.72,391.119 1071.72,414.452 1168.72,426.119 \n",
       "  \" fill=\"#009af9\" fill-rule=\"evenodd\" fill-opacity=\"1\"/>\n",
       "<polygon clip-path=\"url(#clip3400)\" points=\"\n",
       "1162.73,743.524 1229.47,731.482 1229.47,707.399 1162.73,695.357 1095.99,707.399 1095.99,731.482 1162.73,743.524 \n",
       "  \" fill=\"#000000\" fill-rule=\"evenodd\" fill-opacity=\"1\"/>\n",
       "<polygon clip-path=\"url(#clip3400)\" points=\"\n",
       "1162.73,742.774 1227.39,731.107 1227.39,707.774 1162.73,696.107 1098.07,707.774 1098.07,731.107 1162.73,742.774 \n",
       "  \" fill=\"#009af9\" fill-rule=\"evenodd\" fill-opacity=\"1\"/>\n",
       "<polygon clip-path=\"url(#clip3400)\" points=\"\n",
       "1148.67,1169.25 1360.9,1157.47 1360.9,1133.9 1148.67,1122.12 936.432,1133.9 936.432,1157.47 1148.67,1169.25 \n",
       "  \" fill=\"#000000\" fill-rule=\"evenodd\" fill-opacity=\"1\"/>\n",
       "<polygon clip-path=\"url(#clip3400)\" points=\"\n",
       "1148.67,1169.02 1358.82,1157.35 1358.82,1134.02 1148.67,1122.35 938.51,1134.02 938.51,1157.35 1148.67,1169.02 \n",
       "  \" fill=\"#009af9\" fill-rule=\"evenodd\" fill-opacity=\"1\"/>\n",
       "<polygon clip-path=\"url(#clip3400)\" points=\"\n",
       "848.206,1518.55 979.611,1506.7 979.611,1482.99 848.206,1471.14 716.801,1482.99 716.801,1506.7 848.206,1518.55 \n",
       "  \" fill=\"#000000\" fill-rule=\"evenodd\" fill-opacity=\"1\"/>\n",
       "<polygon clip-path=\"url(#clip3400)\" points=\"\n",
       "848.206,1518.18 977.533,1506.51 977.533,1483.18 848.206,1471.51 718.88,1483.18 718.88,1506.51 848.206,1518.18 \n",
       "  \" fill=\"#009af9\" fill-rule=\"evenodd\" fill-opacity=\"1\"/>\n",
       "<polygon clip-path=\"url(#clip3400)\" points=\"\n",
       "2258.24,1393.57 2373.48,1381.69 2373.48,1357.93 2258.24,1346.05 2143,1357.93 2143,1381.69 2258.24,1393.57 \n",
       "  \" fill=\"#000000\" fill-rule=\"evenodd\" fill-opacity=\"1\"/>\n",
       "<polygon clip-path=\"url(#clip3400)\" points=\"\n",
       "2258.24,1393.14 2371.4,1381.47 2371.4,1358.14 2258.24,1346.47 2145.08,1358.14 2145.08,1381.47 2258.24,1393.14 \n",
       "  \" fill=\"#009af9\" fill-rule=\"evenodd\" fill-opacity=\"1\"/>\n",
       "<polygon clip-path=\"url(#clip3400)\" points=\"\n",
       "1747.07,1357.35 1862.31,1345.47 1862.31,1321.71 1747.07,1309.82 1631.83,1321.71 1631.83,1345.47 1747.07,1357.35 \n",
       "  \" fill=\"#000000\" fill-rule=\"evenodd\" fill-opacity=\"1\"/>\n",
       "<polygon clip-path=\"url(#clip3400)\" points=\"\n",
       "1747.07,1356.92 1860.23,1345.25 1860.23,1321.92 1747.07,1310.25 1633.91,1321.92 1633.91,1345.25 1747.07,1356.92 \n",
       "  \" fill=\"#009af9\" fill-rule=\"evenodd\" fill-opacity=\"1\"/>\n",
       "<polygon clip-path=\"url(#clip3400)\" points=\"\n",
       "157.51,1367.82 272.749,1355.94 272.749,1332.17 157.51,1320.29 42.2709,1332.17 42.2709,1355.94 157.51,1367.82 \n",
       "  \" fill=\"#000000\" fill-rule=\"evenodd\" fill-opacity=\"1\"/>\n",
       "<polygon clip-path=\"url(#clip3400)\" points=\"\n",
       "157.51,1367.39 270.671,1355.72 270.671,1332.39 157.51,1320.72 44.3494,1332.39 44.3494,1355.72 157.51,1367.39 \n",
       "  \" fill=\"#009af9\" fill-rule=\"evenodd\" fill-opacity=\"1\"/>\n",
       "<g clip-path=\"url(#clip3400)\">\n",
       "<text style=\"fill:#000000; fill-opacity:1; font-family:Arial,Helvetica Neue,Helvetica,sans-serif; font-size:84px; text-anchor:middle;\" transform=\"rotate(0, 1170.46, 119.907)\" x=\"1170.46\" y=\"119.907\">Any</text>\n",
       "</g>\n",
       "<g clip-path=\"url(#clip3400)\">\n",
       "<text style=\"fill:#000000; fill-opacity:1; font-family:Arial,Helvetica Neue,Helvetica,sans-serif; font-size:84px; text-anchor:middle;\" transform=\"rotate(0, 1168.72, 433.286)\" x=\"1168.72\" y=\"433.286\">Number</text>\n",
       "</g>\n",
       "<g clip-path=\"url(#clip3400)\">\n",
       "<text style=\"fill:#000000; fill-opacity:1; font-family:Arial,Helvetica Neue,Helvetica,sans-serif; font-size:84px; text-anchor:middle;\" transform=\"rotate(0, 1162.73, 749.941)\" x=\"1162.73\" y=\"749.941\">Real</text>\n",
       "</g>\n",
       "<g clip-path=\"url(#clip3400)\">\n",
       "<text style=\"fill:#000000; fill-opacity:1; font-family:Arial,Helvetica Neue,Helvetica,sans-serif; font-size:84px; text-anchor:middle;\" transform=\"rotate(0, 1148.67, 1176.19)\" x=\"1148.67\" y=\"1176.19\">AbstractFloat</text>\n",
       "</g>\n",
       "<g clip-path=\"url(#clip3400)\">\n",
       "<text style=\"fill:#000000; fill-opacity:1; font-family:Arial,Helvetica Neue,Helvetica,sans-serif; font-size:84px; text-anchor:middle;\" transform=\"rotate(0, 848.206, 1525.34)\" x=\"848.206\" y=\"1525.34\">BigFloat</text>\n",
       "</g>\n",
       "<g clip-path=\"url(#clip3400)\">\n",
       "<text style=\"fill:#000000; fill-opacity:1; font-family:Arial,Helvetica Neue,Helvetica,sans-serif; font-size:84px; text-anchor:middle;\" transform=\"rotate(0, 2258.24, 1400.31)\" x=\"2258.24\" y=\"1400.31\">Float16</text>\n",
       "</g>\n",
       "<g clip-path=\"url(#clip3400)\">\n",
       "<text style=\"fill:#000000; fill-opacity:1; font-family:Arial,Helvetica Neue,Helvetica,sans-serif; font-size:84px; text-anchor:middle;\" transform=\"rotate(0, 1747.07, 1364.09)\" x=\"1747.07\" y=\"1364.09\">Float32</text>\n",
       "</g>\n",
       "<g clip-path=\"url(#clip3400)\">\n",
       "<text style=\"fill:#000000; fill-opacity:1; font-family:Arial,Helvetica Neue,Helvetica,sans-serif; font-size:84px; text-anchor:middle;\" transform=\"rotate(0, 157.51, 1374.55)\" x=\"157.51\" y=\"1374.55\">Float64</text>\n",
       "</g>\n",
       "</svg>\n"
      ]
     },
     "execution_count": 17,
     "metadata": {},
     "output_type": "execute_result"
    }
   ],
   "source": [
    "using GraphRecipes, Plots\n",
    "\n",
    "#pyplot(size=(800, 600))\n",
    "gr(size=(600, 400))\n",
    "theme(:default)\n",
    "\n",
    "plot(AbstractFloat, method=:tree, fontsize=4)"
   ]
  },
  {
   "cell_type": "markdown",
   "metadata": {},
   "source": [
    "### Double precision (Float64)\n",
    "\n",
    "<img src=\"./double-precision-numbers.png\" width=\"500\" align=\"center\"/>\n",
    "\n",
    "- Double precision (64 bits = 8 bytes) numbers are the dominant data type in scientific computing.\n",
    "      \n",
    "- In Julia, `Float64` is the type for double precision numbers.    \n",
    "\n",
    "- First bit is sign bit.  \n",
    "\n",
    "- $p=52$ significant bits.\n",
    "\n",
    "- 11 exponent bits: $e_{\\max}=1023$, $e_{\\min}=-1022$, **bias**=1023.  \n",
    "\n",
    "- $e_{\\text{min}}-1$ and $e_{\\text{max}}+1$ are reserved for special numbers.  \n",
    "\n",
    "- range of **magnitude**: $10^{\\pm 308}$ in decimal because $\\log_{10} (2^{1023}) \\approx 308$.  \n",
    "\n",
    "- **precision** to the $\\log_{10}(2^{-52}) \\approx 15$ decimal point."
   ]
  },
  {
   "cell_type": "code",
   "execution_count": 18,
   "metadata": {},
   "outputs": [
    {
     "name": "stdout",
     "output_type": "stream",
     "text": [
      "Double precision:\n",
      "bitstring(Float64(18)) = \"0100000000110010000000000000000000000000000000000000000000000000\"\n",
      "bitstring(Float64(-18)) = \"1100000000110010000000000000000000000000000000000000000000000000\"\n"
     ]
    }
   ],
   "source": [
    "println(\"Double precision:\")\n",
    "@show bitstring(Float64(18)) # 18 in double precision\n",
    "@show bitstring(Float64(-18)); # -18 in double precision"
   ]
  },
  {
   "cell_type": "markdown",
   "metadata": {},
   "source": [
    "### Single precision (Float32)\n",
    "\n",
    "<img src=\"./single-precision-numbers.png\" width=\"500\" align=\"center\"/>\n",
    "\n",
    "- In Julia, `Float32` is the type for single precision numbers.  \n",
    "\n",
    "- First bit is sign bit.  \n",
    "\n",
    "- $p=23$ significant bits.  \n",
    "\n",
    "- 8 exponent bits: $e_{\\max}=127$, $e_{\\min}=-126$, **bias**=127.  \n",
    "\n",
    "- $e_{\\text{min}}-1$ and $e_{\\text{max}}+1$ are reserved for special numbers.  \n",
    "\n",
    "- range of **magnitude**: $10^{\\pm 38}$ in decimal because $\\log_{10} (2^{127}) \\approx 38$.\n",
    "\n",
    "- **precision**: $\\log_{10}(2^{23}) \\approx 7$ decimal point.  "
   ]
  },
  {
   "cell_type": "code",
   "execution_count": 19,
   "metadata": {},
   "outputs": [
    {
     "name": "stdout",
     "output_type": "stream",
     "text": [
      "Single precision:\n",
      "bitstring(Float32(18.0)) = \"01000001100100000000000000000000\"\n",
      "bitstring(Float32(-18.0)) = \"11000001100100000000000000000000\"\n"
     ]
    }
   ],
   "source": [
    "println(\"Single precision:\")\n",
    "@show bitstring(Float32(18.0)) # 18 in single precision\n",
    "@show bitstring(Float32(-18.0)); # -18 in single precision"
   ]
  },
  {
   "cell_type": "markdown",
   "metadata": {},
   "source": [
    "### Half precision (Float16)\n",
    "\n",
    "<img src=\"./half-precision-numbers.png\" width=\"200\" align=\"center\"/>\n",
    "    \n",
    "- In Julia, `Float16` is the type for half precision numbers.\n",
    "\n",
    "- First bit is sign bit.  \n",
    "\n",
    "- $p=10$ significant bits.  \n",
    "\n",
    "- 5 exponent bits: $e_{\\max}=15$, $e_{\\min}=-14$, bias=15.  \n",
    "\n",
    "- $e_{\\text{min}}-1$ and $e_{\\text{max}}+1$ are reserved for special numbers.  \n",
    "\n",
    "- range of **magnitude**: $10^{\\pm 4}$ in decimal because $\\log_{10} (2^{15}) \\approx 4$.  \n",
    "\n",
    "- **precision**: $\\log_{10}(2^{10}) \\approx 3$ decimal point.      "
   ]
  },
  {
   "cell_type": "code",
   "execution_count": 20,
   "metadata": {},
   "outputs": [
    {
     "name": "stdout",
     "output_type": "stream",
     "text": [
      "Half precision:\n",
      "bitstring(Float16(18)) = \"0100110010000000\"\n",
      "bitstring(Float16(-18)) = \"1100110010000000\"\n"
     ]
    }
   ],
   "source": [
    "println(\"Half precision:\")\n",
    "@show bitstring(Float16(18)) # 18 in half precision\n",
    "@show bitstring(Float16(-18)); # -18 in half precision"
   ]
  },
  {
   "cell_type": "markdown",
   "metadata": {},
   "source": [
    "### Special floating-point numbers. \n",
    "\n",
    "- Exponent $e_{\\max}+1$ plus a zero mantissa means $\\pm \\infty$."
   ]
  },
  {
   "cell_type": "code",
   "execution_count": 21,
   "metadata": {},
   "outputs": [
    {
     "name": "stdout",
     "output_type": "stream",
     "text": [
      "bitstring(Inf) = \"0111111111110000000000000000000000000000000000000000000000000000\"\n",
      "bitstring(-Inf) = \"1111111111110000000000000000000000000000000000000000000000000000\"\n"
     ]
    }
   ],
   "source": [
    "@show bitstring(Inf) # Inf in double precision\n",
    "@show bitstring(-Inf); # -Inf in double precision"
   ]
  },
  {
   "cell_type": "markdown",
   "metadata": {},
   "source": [
    "- Exponent $e_{\\max}+1$ plus a nonzero mantissa means `NaN`. `NaN` could be produced from `0 / 0`, `0 * Inf`, ...  \n",
    "\n",
    "- In general `NaN ≠ NaN` bitwise. Test whether a number is `NaN` by `isnan` function.  "
   ]
  },
  {
   "cell_type": "code",
   "execution_count": 22,
   "metadata": {},
   "outputs": [
    {
     "name": "stdout",
     "output_type": "stream",
     "text": [
      "bitstring(0 / 0) = \"1111111111111000000000000000000000000000000000000000000000000000\"\n",
      "bitstring(0Inf) = \"1111111111111000000000000000000000000000000000000000000000000000\"\n"
     ]
    }
   ],
   "source": [
    "@show bitstring(0 / 0) # NaN\n",
    "@show bitstring(0 * Inf); # NaN"
   ]
  },
  {
   "cell_type": "markdown",
   "metadata": {},
   "source": [
    "- Exponent $e_{\\min}-1$ with a zero mantissa represents the real number 0.  "
   ]
  },
  {
   "cell_type": "code",
   "execution_count": 23,
   "metadata": {},
   "outputs": [
    {
     "name": "stdout",
     "output_type": "stream",
     "text": [
      "bitstring(0.0) = \"0000000000000000000000000000000000000000000000000000000000000000\"\n"
     ]
    }
   ],
   "source": [
    "@show bitstring(0.0); # 0 in double precision "
   ]
  },
  {
   "cell_type": "markdown",
   "metadata": {},
   "source": [
    "- Exponent $e_{\\min}-1$ with a nonzero mantissa are for numbers less than $b^{e_{\\min}}$.  \n",
    "    Numbers are _denormalized_ in the range $(0,b^{e_{\\min}})$ -- **graceful underflow**. "
   ]
  },
  {
   "cell_type": "code",
   "execution_count": 24,
   "metadata": {},
   "outputs": [
    {
     "name": "stdout",
     "output_type": "stream",
     "text": [
      "nextfloat(0.0) = 5.0e-324\n",
      "bitstring(nextfloat(0.0)) = \"0000000000000000000000000000000000000000000000000000000000000001\"\n"
     ]
    }
   ],
   "source": [
    "@show nextfloat(0.0) # next representable number\n",
    "@show bitstring(nextfloat(0.0)); # denormalized"
   ]
  },
  {
   "cell_type": "markdown",
   "metadata": {},
   "source": [
    "### Rounding\n",
    "\n",
    "* Rounding is necessary whenever a number has more than $p$ significand bits. Most computer systems use the default IEEE 754 _round to nearest_ mode (also called _ties to even_ mode). Julia offers several [rounding modes](https://docs.julialang.org/en/v1/base/math/#Base.Rounding.RoundingMode), the default being [`RoundNearest`](https://docs.julialang.org/en/v1/base/math/#Base.Rounding.RoundNearest). For example, the number 0.1 in decimal system cannot be represented accurately as a floating point number:\n",
    "$$ 0.1 = 1.10011001... \\times 2^{-4} $$"
   ]
  },
  {
   "cell_type": "code",
   "execution_count": 25,
   "metadata": {},
   "outputs": [
    {
     "name": "stdout",
     "output_type": "stream",
     "text": [
      "bitstring(0.1f0) = \"00111101110011001100110011001101\"\n",
      "bitstring(0.1) = \"0011111110111001100110011001100110011001100110011001100110011010\"\n"
     ]
    }
   ],
   "source": [
    "@show bitstring(0.1f0) # single precision Float32, 1001 gets rounded to 101(0)\n",
    "@show bitstring(0.1);  # double precision Float64"
   ]
  },
  {
   "cell_type": "markdown",
   "metadata": {},
   "source": [
    "### Summary\n",
    "\n",
    "- Single precision: range $\\pm 10^{\\pm 38}$ with precision up to 7 decimal digits.\n",
    "\n",
    "- Double precision: range $\\pm 10^{\\pm 308}$ with precision up to 16 decimal digits.  \n",
    "\n",
    "- The floating-point numbers do not occur uniformly over the real number line\n",
    "    <img src=\"http://www.volkerschatz.com/science/pics/fltscale-wh.png\" width=\"700\" align=\"center\"/>\n",
    "    Each magnitude has same number of representible numbers\n",
    "    \n",
    "- **Machine epsilons** are the spacings of numbers around 1: \n",
    "    $$\\epsilon_{\\min}=b^{-p}, \\quad  \\epsilon_{\\max} = b^{1-p}.$$\n",
    "    <img src=\"./machine_epsilons.png\" width=\"500\" align=\"center\"/>"
   ]
  },
  {
   "cell_type": "code",
   "execution_count": 26,
   "metadata": {},
   "outputs": [
    {
     "name": "stdout",
     "output_type": "stream",
     "text": [
      "eps(Float32) = 1.1920929f-7\n",
      "eps(Float64) = 2.220446049250313e-16\n",
      "eps(100.0) = 1.4210854715202004e-14\n",
      "eps(0.0) = 5.0e-324\n",
      "x = 1.25f0 = 1.25f0\n",
      "(prevfloat(x), x, nextfloat(x)) = (1.2499999f0, 1.25f0, 1.2500001f0)\n",
      "(bitstring(prevfloat(x)), bitstring(x), bitstring(nextfloat(x))) = (\"00111111100111111111111111111111\", \"00111111101000000000000000000000\", \"00111111101000000000000000000001\")\n"
     ]
    }
   ],
   "source": [
    "@show eps(Float32)  # machine epsilon for a floating point type\n",
    "@show eps(Float64)  # same as eps()\n",
    "# eps(x) is the spacing after x\n",
    "@show eps(100.0)\n",
    "@show eps(0.0)\n",
    "# nextfloat(x) and prevfloat(x) give the neighbors of x\n",
    "@show x = 1.25f0\n",
    "@show prevfloat(x), x, nextfloat(x)\n",
    "@show bitstring(prevfloat(x)), bitstring(x), bitstring(nextfloat(x));"
   ]
  },
  {
   "cell_type": "markdown",
   "metadata": {},
   "source": [
    "* In R, the variable `.Machine` contains numerical characteristics of the machine."
   ]
  },
  {
   "cell_type": "code",
   "execution_count": 27,
   "metadata": {},
   "outputs": [
    {
     "data": {
      "text/plain": [
       "RObject{VecSxp}\n",
       "$double.eps\n",
       "[1] 2.220446e-16\n",
       "\n",
       "$double.neg.eps\n",
       "[1] 1.110223e-16\n",
       "\n",
       "$double.xmin\n",
       "[1] 2.225074e-308\n",
       "\n",
       "$double.xmax\n",
       "[1] 1.797693e+308\n",
       "\n",
       "$double.base\n",
       "[1] 2\n",
       "\n",
       "$double.digits\n",
       "[1] 53\n",
       "\n",
       "$double.rounding\n",
       "[1] 5\n",
       "\n",
       "$double.guard\n",
       "[1] 0\n",
       "\n",
       "$double.ulp.digits\n",
       "[1] -52\n",
       "\n",
       "$double.neg.ulp.digits\n",
       "[1] -53\n",
       "\n",
       "$double.exponent\n",
       "[1] 11\n",
       "\n",
       "$double.min.exp\n",
       "[1] -1022\n",
       "\n",
       "$double.max.exp\n",
       "[1] 1024\n",
       "\n",
       "$integer.max\n",
       "[1] 2147483647\n",
       "\n",
       "$sizeof.long\n",
       "[1] 8\n",
       "\n",
       "$sizeof.longlong\n",
       "[1] 8\n",
       "\n",
       "$sizeof.longdouble\n",
       "[1] 16\n",
       "\n",
       "$sizeof.pointer\n",
       "[1] 8\n",
       "\n"
      ]
     },
     "execution_count": 27,
     "metadata": {},
     "output_type": "execute_result"
    }
   ],
   "source": [
    "R\"\"\"\n",
    ".Machine\n",
    "\"\"\""
   ]
  },
  {
   "cell_type": "markdown",
   "metadata": {},
   "source": [
    "* Julia provides `Float16` (half precision), `Float32` (single precision), `Float64` (double precision), and `BigFloat` (arbitrary precision)."
   ]
  },
  {
   "cell_type": "markdown",
   "metadata": {},
   "source": [
    "### Overflow and underflow of floating-point number\n",
    "\n",
    "* For double precision, the range is $\\pm 10^{\\pm 308}$. In most situations, underflow (magnitude of result is less than $10^{-308}$) is preferred over overflow (magnitude of result is larger than $10^{-308}$). Overflow produces $\\pm \\inf$. Underflow yields zeros or denormalized numbers. \n",
    "\n",
    "* E.g., the logit link function is\n",
    "$$p = \\frac{\\exp (x^T \\beta)}{1 + \\exp (x^T \\beta)} = \\frac{1}{1+\\exp(- x^T \\beta)}.$$\n",
    "The former expression can easily lead to `Inf / Inf = NaN`, while the latter expression leads to graceful underflow.\n",
    "\n",
    "* `floatmin` and `floatmax` functions gives largest and smallest _finite_ number represented by a type."
   ]
  },
  {
   "cell_type": "code",
   "execution_count": 28,
   "metadata": {},
   "outputs": [
    {
     "name": "stdout",
     "output_type": "stream",
     "text": [
      "Float16\t6.104e-5\t6.55e4\t-Inf\tInf\t0.000977\n",
      "Float32\t1.1754944e-38\t3.4028235e38\t-Inf\tInf\t1.1920929e-7\n",
      "Float64\t2.2250738585072014e-308\t1.7976931348623157e308\t-Inf\tInf\t2.220446049250313e-16\n"
     ]
    }
   ],
   "source": [
    "for T in [Float16, Float32, Float64]\n",
    "    println(T, '\\t', floatmin(T), '\\t', floatmax(T), '\\t', typemin(T), \n",
    "        '\\t', typemax(T), '\\t', eps(T))\n",
    "end"
   ]
  },
  {
   "cell_type": "markdown",
   "metadata": {},
   "source": [
    "* `BigFloat` in Julia offers arbitrary precision."
   ]
  },
  {
   "cell_type": "code",
   "execution_count": 29,
   "metadata": {},
   "outputs": [
    {
     "name": "stdout",
     "output_type": "stream",
     "text": [
      "precision(BigFloat) = 256\n",
      "floatmin(BigFloat) = 8.50969131174083613912978790962048280567755996982969624908264897850135431080301e-1388255822130839284\n",
      "floatmax(BigFloat) = 5.875653789111587590936911998878442589938516392745498308333779606469323584389875e+1388255822130839282\n"
     ]
    }
   ],
   "source": [
    "@show precision(BigFloat)\n",
    "@show floatmin(BigFloat)\n",
    "@show floatmax(BigFloat);"
   ]
  },
  {
   "cell_type": "code",
   "execution_count": 30,
   "metadata": {},
   "outputs": [
    {
     "name": "stdout",
     "output_type": "stream",
     "text": [
      "BigFloat(π) = 3.141592653589793238462643383279502884197169399375105820974944592307816406286198\n",
      "BigFloat(π) = 3.141592653589793238462643383279502884197169399375105820974944592307816406286208998628034825342117067982148086513282306647093844609550582231725359408128481117450284102701938521105559644622948954930381964428810975665933446128475648233786783165271201909145648566923460348610454326648213393607260249141273724586997\n"
     ]
    }
   ],
   "source": [
    "@show BigFloat(π); # default precision for BigFloat is 256 bits\n",
    "# set precision to 1024 bits\n",
    "setprecision(BigFloat, 1024) do \n",
    "    @show BigFloat(π)\n",
    "end;"
   ]
  },
  {
   "cell_type": "markdown",
   "metadata": {},
   "source": [
    "## Catastrophic cancellation\n",
    "\n",
    "* **Scenario 1**: Addition or subtraction of two numbers of widely different magnitudes: $a+b$ or $a-b$ where $a \\gg b$ or $a \\ll b$. We loose the precision in the number of smaller magnitude. Consider \n",
    "$$\\begin{eqnarray*}\n",
    "    a &=& x.xxx ... \\times 2^{30} \\\\  \n",
    "    b &=& y.yyy... \\times 2^{-30}\n",
    "\\end{eqnarray*}$$\n",
    "What happens when computer calculates $a+b$? We get $a+b=a$!"
   ]
  },
  {
   "cell_type": "code",
   "execution_count": 31,
   "metadata": {},
   "outputs": [
    {
     "name": "stdout",
     "output_type": "stream",
     "text": [
      "a = 2.0 ^ 30 = 1.073741824e9\n",
      "b = 2.0 ^ -30 = 9.313225746154785e-10\n",
      "a + b == a = true\n"
     ]
    },
    {
     "data": {
      "text/plain": [
       "true"
      ]
     },
     "execution_count": 31,
     "metadata": {},
     "output_type": "execute_result"
    }
   ],
   "source": [
    "@show a = 2.0^30\n",
    "@show b = 2.0^-30\n",
    "@show a + b == a"
   ]
  },
  {
   "cell_type": "markdown",
   "metadata": {},
   "source": [
    "* **Scenario 2**: Subtraction of two nearly equal numbers eliminates significant digits.  $a-b$ where $a \\approx b$. Consider \n",
    "$$\\begin{eqnarray*}\n",
    "    a &=& x.xxxxxxxxxx1ssss  \\\\\n",
    "    b &=& x.xxxxxxxxxx0tttt\n",
    "\\end{eqnarray*}$$\n",
    "The result is $1.vvvvu...u$ where $u$ are unassigned digits."
   ]
  },
  {
   "cell_type": "code",
   "execution_count": 32,
   "metadata": {},
   "outputs": [
    {
     "name": "stdout",
     "output_type": "stream",
     "text": [
      "bitstring(a) = \"00111111100111100000011001010001\"\n",
      "bitstring(b) = \"00111111100111100000011001010000\"\n",
      "a - b = 1.1920929f-7\n"
     ]
    },
    {
     "data": {
      "text/plain": [
       "1.1920929f-7"
      ]
     },
     "execution_count": 32,
     "metadata": {},
     "output_type": "execute_result"
    }
   ],
   "source": [
    "a = 1.2345678f0 # rounding\n",
    "@show bitstring(a) # rounding\n",
    "b = 1.2345677f0\n",
    "@show bitstring(b)\n",
    "@show a - b # correct result should be 1e-7"
   ]
  },
  {
   "cell_type": "markdown",
   "metadata": {},
   "source": [
    "* Implications for numerical computation\n",
    "    - Rule 1: add small numbers together before adding larger ones  \n",
    "    - Rule 2: add numbers of like magnitude together (paring). When all numbers are of same sign and similar magnitude, add in pairs so each stage the summands are of similar magnitude  \n",
    "    - Rule 3: avoid substraction of two numbers that are nearly equal"
   ]
  },
  {
   "cell_type": "markdown",
   "metadata": {},
   "source": [
    "### Algebraic laws\n",
    "\n",
    "Floating-point numbers may violate many algebraic laws we are familiar with, such associative and distributive laws. See Homework 1 problems."
   ]
  },
  {
   "cell_type": "markdown",
   "metadata": {},
   "source": [
    "## Further reading\n",
    "\n",
    "* Textbook treatment, e.g., Chapter II.2 of [Computational Statistics](http://ucla.worldcat.org/title/computational-statistics/oclc/437345409&referer=brief_results) by James Gentle (2010).\n",
    "\n",
    "* [What every computer scientist should know about floating-point arithmetic](http://hua-zhou.github.io/teaching/biostatm280-2017spring/readings/Goldberg91FloatingPoint.pdf) by David Goldberg (1991)."
   ]
  }
 ],
 "metadata": {
  "kernelspec": {
   "display_name": "Julia 1.1.0",
   "language": "julia",
   "name": "julia-1.1"
  },
  "language_info": {
   "file_extension": ".jl",
   "mimetype": "application/julia",
   "name": "julia",
   "version": "1.1.0"
  },
  "toc": {
   "colors": {
    "hover_highlight": "#DAA520",
    "running_highlight": "#FF0000",
    "selected_highlight": "#FFD700"
   },
   "moveMenuLeft": true,
   "nav_menu": {
    "height": "250px",
    "width": "252px"
   },
   "navigate_menu": true,
   "number_sections": true,
   "sideBar": true,
   "skip_h1_title": true,
   "threshold": 4,
   "toc_cell": true,
   "toc_section_display": "block",
   "toc_window_display": true,
   "widenNotebook": false
  }
 },
 "nbformat": 4,
 "nbformat_minor": 2
}
