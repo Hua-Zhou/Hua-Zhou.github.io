{
 "cells": [
  {
   "cell_type": "markdown",
   "metadata": {},
   "source": [
    "# Computer arithmetics"
   ]
  },
  {
   "cell_type": "code",
   "execution_count": 1,
   "metadata": {},
   "outputs": [
    {
     "name": "stdout",
     "output_type": "stream",
     "text": [
      "Julia Version 1.1.0\n",
      "Commit 80516ca202 (2019-01-21 21:24 UTC)\n",
      "Platform Info:\n",
      "  OS: macOS (x86_64-apple-darwin14.5.0)\n",
      "  CPU: Intel(R) Core(TM) i7-6920HQ CPU @ 2.90GHz\n",
      "  WORD_SIZE: 64\n",
      "  LIBM: libopenlibm\n",
      "  LLVM: libLLVM-6.0.1 (ORCJIT, skylake)\n",
      "Environment:\n",
      "  JULIA_EDITOR = code\n"
     ]
    }
   ],
   "source": [
    "versioninfo()"
   ]
  },
  {
   "cell_type": "markdown",
   "metadata": {},
   "source": [
    "## Units of computer storage\n",
    "\n",
    "* `bit` = `binary` + `digit` (coined by statistician [John Tukey](https://en.wikipedia.org/wiki/Bit#History)).  \n",
    "* `byte` = 8 bits.  \n",
    "* KB = kilobyte = $10^3$ bytes.  \n",
    "* MB = megabytes = $10^6$ bytes.  \n",
    "* GB = gigabytes = $10^9$ bytes. Typical RAM size.  \n",
    "* TB = terabytes = $10^{12}$ bytes. Typical hard drive size. Size of NYSE each trading session.    \n",
    "* PB = petabytes = $10^{15}$ bytes.  \n",
    "* EB = exabytes = $10^{18}$ bytes. Size of all healthcare data in 2011 is ~150 EB.    \n",
    "* ZB = zetabytes = $10^{21}$ bytes. \n",
    "\n",
    "Julia function `Base.summarysize` shows the amount of memory (in bytes) used by an object."
   ]
  },
  {
   "cell_type": "code",
   "execution_count": 2,
   "metadata": {},
   "outputs": [
    {
     "data": {
      "text/plain": [
       "80040"
      ]
     },
     "execution_count": 2,
     "metadata": {},
     "output_type": "execute_result"
    }
   ],
   "source": [
    "x = rand(100, 100)\n",
    "Base.summarysize(x)"
   ]
  },
  {
   "cell_type": "markdown",
   "metadata": {},
   "source": [
    "`varinfo()` function prints all variables in workspace and their sizes."
   ]
  },
  {
   "cell_type": "code",
   "execution_count": 3,
   "metadata": {},
   "outputs": [
    {
     "data": {
      "text/latex": [
       "\\begin{tabular}\n",
       "{l | r | l}\n",
       "name & size & summary \\\\\n",
       "\\hline\n",
       "Base &  & Module \\\\\n",
       "Core &  & Module \\\\\n",
       "Main &  & Module \\\\\n",
       "x & 78.164 KiB & 100×100 Array\\{Float64,2\\} \\\\\n",
       "\\end{tabular}\n"
      ],
      "text/markdown": [
       "| name |       size | summary                  |\n",
       "|:---- | ----------:|:------------------------ |\n",
       "| Base |            | Module                   |\n",
       "| Core |            | Module                   |\n",
       "| Main |            | Module                   |\n",
       "| x    | 78.164 KiB | 100×100 Array{Float64,2} |\n"
      ],
      "text/plain": [
       "name       size summary                 \n",
       "–––– –––––––––– ––––––––––––––––––––––––\n",
       "Base            Module                  \n",
       "Core            Module                  \n",
       "Main            Module                  \n",
       "x    78.164 KiB 100×100 Array{Float64,2}"
      ]
     },
     "execution_count": 3,
     "metadata": {},
     "output_type": "execute_result"
    }
   ],
   "source": [
    "varinfo() # similar to Matlab whos()"
   ]
  },
  {
   "cell_type": "markdown",
   "metadata": {},
   "source": [
    "## Storage of Characters\n",
    "\n",
    "* Plain text files are stored in the form of characters: `.jl`, `.r`, `.c`, `.cpp`, `.ipynb`, `.html`, `.tex`, ...  \n",
    "* ASCII (American Code for Information Interchange): 7 bits, only $2^7=128$ characters.  "
   ]
  },
  {
   "cell_type": "code",
   "execution_count": 4,
   "metadata": {},
   "outputs": [
    {
     "data": {
      "text/plain": [
       "128×2 Array{Any,2}:\n",
       "   0  '\\0'  \n",
       "   1  '\\x01'\n",
       "   2  '\\x02'\n",
       "   3  '\\x03'\n",
       "   4  '\\x04'\n",
       "   5  '\\x05'\n",
       "   6  '\\x06'\n",
       "   7  '\\a'  \n",
       "   8  '\\b'  \n",
       "   9  '\\t'  \n",
       "  10  '\\n'  \n",
       "  11  '\\v'  \n",
       "  12  '\\f'  \n",
       "   ⋮        \n",
       " 116  't'   \n",
       " 117  'u'   \n",
       " 118  'v'   \n",
       " 119  'w'   \n",
       " 120  'x'   \n",
       " 121  'y'   \n",
       " 122  'z'   \n",
       " 123  '{'   \n",
       " 124  '|'   \n",
       " 125  '}'   \n",
       " 126  '~'   \n",
       " 127  '\\x7f'"
      ]
     },
     "execution_count": 4,
     "metadata": {},
     "output_type": "execute_result"
    }
   ],
   "source": [
    "# integers 0, 1, ..., 127 and corresponding ascii character\n",
    "# show(STDOUT, \"text/plain\", [0:127 Char.(0:127)]) \n",
    "[0:127 Char.(0:127)]"
   ]
  },
  {
   "cell_type": "markdown",
   "metadata": {},
   "source": [
    "* Extended ASCII: 8 bits, $2^8=256$ characters.  "
   ]
  },
  {
   "cell_type": "code",
   "execution_count": 5,
   "metadata": {},
   "outputs": [
    {
     "data": {
      "text/plain": [
       "128×2 Array{Any,2}:\n",
       " 128  '\\u80'\n",
       " 129  '\\u81'\n",
       " 130  '\\u82'\n",
       " 131  '\\u83'\n",
       " 132  '\\u84'\n",
       " 133  '\\u85'\n",
       " 134  '\\u86'\n",
       " 135  '\\u87'\n",
       " 136  '\\u88'\n",
       " 137  '\\u89'\n",
       " 138  '\\u8a'\n",
       " 139  '\\u8b'\n",
       " 140  '\\u8c'\n",
       "   ⋮        \n",
       " 244  'ô'   \n",
       " 245  'õ'   \n",
       " 246  'ö'   \n",
       " 247  '÷'   \n",
       " 248  'ø'   \n",
       " 249  'ù'   \n",
       " 250  'ú'   \n",
       " 251  'û'   \n",
       " 252  'ü'   \n",
       " 253  'ý'   \n",
       " 254  'þ'   \n",
       " 255  'ÿ'   "
      ]
     },
     "execution_count": 5,
     "metadata": {},
     "output_type": "execute_result"
    }
   ],
   "source": [
    "# integers 128, 129, ..., 255 and corresponding extended ascii character\n",
    "# show(STDOUT, \"text/plain\", [128:255 Char.(128:255)])\n",
    "[128:255 Char.(128:255)]"
   ]
  },
  {
   "cell_type": "markdown",
   "metadata": {},
   "source": [
    "* Unicode: UTF-8, UTF-16 and UTF-32 support many more characters including foreign characters; last 7 digits conform to ASCII. \n",
    "\n",
    "* [UTF-8](https://en.wikipedia.org/wiki/UTF-8) is the current dominant character encoding on internet.  \n",
    "\n",
    "<img src=\"https://upload.wikimedia.org/wikipedia/commons/c/c4/Utf8webgrowth.svg\" width=\"500\" align=\"center\"/>\n",
    "\n",
    "* Julia supports the full range of UTF-8 characters. You can type many Unicode math symbols by typing the backslashed LaTeX symbol name followed by tab. "
   ]
  },
  {
   "cell_type": "code",
   "execution_count": 6,
   "metadata": {},
   "outputs": [
    {
     "data": {
      "text/plain": [
       "0.0"
      ]
     },
     "execution_count": 6,
     "metadata": {},
     "output_type": "execute_result"
    }
   ],
   "source": [
    "# \\beta-<tab>\n",
    "β = 0.0\n",
    "# \\beta-<tab>-\\hat-<tab>\n",
    "β̂ = 0.0"
   ]
  },
  {
   "cell_type": "markdown",
   "metadata": {},
   "source": [
    "## Integers: fixed-point number system\n",
    "\n",
    "* Fixed-point number system is a computer model for integers $\\mathbb{Z}$. \n",
    "\n",
    "* The number of bits and method of representing negative numbers vary from system to system. \n",
    "    - The `integer` type in R has $M=32$ or 64 bits. \n",
    "    - Matlab has `(u)int8`, `(u)int16`, `(u)int32`, `(u)int64`.  \n",
    "    - Julia has even more integer types. Using Tom Breloff's `Plots.jl` and `PlotRecipes.jl` packages, we can [visualize the type tree](http://www.breloff.com/Graphs/) under `Integer`\n",
    "    - Storage for a `Signed` or `Unsigned` integer can be $M = 8, 16, 32, 64$ or 128 bits.  \n",
    "    - GraphRecipes.jl package has a convenience function for plotting the type hiearchy."
   ]
  },
  {
   "cell_type": "code",
   "execution_count": 7,
   "metadata": {},
   "outputs": [
    {
     "data": {
      "image/svg+xml": [
       "<?xml version=\"1.0\" encoding=\"utf-8\"?>\n",
       "<svg xmlns=\"http://www.w3.org/2000/svg\" xmlns:xlink=\"http://www.w3.org/1999/xlink\" width=\"600\" height=\"400\" viewBox=\"0 0 2400 1600\">\n",
       "<defs>\n",
       "  <clipPath id=\"clip4000\">\n",
       "    <rect x=\"0\" y=\"0\" width=\"2400\" height=\"1600\"/>\n",
       "  </clipPath>\n",
       "</defs>\n",
       "<polygon clip-path=\"url(#clip4000)\" points=\"\n",
       "0,1600 2400,1600 2400,0 0,0 \n",
       "  \" fill=\"#ffffff\" fill-rule=\"evenodd\" fill-opacity=\"1\"/>\n",
       "<defs>\n",
       "  <clipPath id=\"clip4001\">\n",
       "    <rect x=\"480\" y=\"0\" width=\"1681\" height=\"1600\"/>\n",
       "  </clipPath>\n",
       "</defs>\n",
       "<polygon clip-path=\"url(#clip4000)\" points=\"\n",
       "94.4882,1537.01 2321.26,1537.01 2321.26,47.2441 94.4882,47.2441 \n",
       "  \" fill=\"#ffffff\" fill-rule=\"evenodd\" fill-opacity=\"1\"/>\n",
       "<defs>\n",
       "  <clipPath id=\"clip4002\">\n",
       "    <rect x=\"94\" y=\"47\" width=\"2228\" height=\"1491\"/>\n",
       "  </clipPath>\n",
       "</defs>\n",
       "<polyline clip-path=\"url(#clip4002)\" style=\"stroke:#d968a2; stroke-width:4; stroke-opacity:1; fill:none\" points=\"\n",
       "  1189.1,89.4072 1189.49,97.7604 1190.61,106.215 1192.42,114.764 1194.86,123.399 1197.88,132.113 1201.42,140.899 1205.42,149.749 1209.83,158.655 1214.6,167.61 \n",
       "  1219.67,176.607 1224.98,185.637 1230.49,194.694 1236.14,203.769 1241.86,212.856 1247.62,221.946 1253.34,231.033 1258.99,240.109 1264.5,249.165 1269.81,258.196 \n",
       "  1274.88,267.192 1279.65,276.147 1284.06,285.053 1288.06,293.903 1291.6,302.689 1294.62,311.403 1297.06,320.039 1298.87,328.587 1300,337.042 1300.38,345.395 \n",
       "  \n",
       "  \"/>\n",
       "<polyline clip-path=\"url(#clip4002)\" style=\"stroke:#d968a2; stroke-width:4; stroke-opacity:1; fill:none\" points=\"\n",
       "  1300.38,345.395 1300.09,353.151 1299.22,361.023 1297.83,369.004 1295.95,377.083 1293.63,385.253 1290.91,393.506 1287.83,401.831 1284.44,410.221 1280.77,418.668 \n",
       "  1276.88,427.162 1272.79,435.694 1268.55,444.257 1264.21,452.841 1259.81,461.439 1255.39,470.041 1250.98,478.638 1246.64,487.222 1242.41,495.785 1238.32,504.318 \n",
       "  1234.42,512.812 1230.76,521.258 1227.36,529.648 1224.29,537.974 1221.57,546.226 1219.25,554.396 1217.37,562.476 1215.98,570.456 1215.11,578.328 1214.81,586.084 \n",
       "  \n",
       "  \"/>\n",
       "<polyline clip-path=\"url(#clip4002)\" style=\"stroke:#d968a2; stroke-width:4; stroke-opacity:1; fill:none\" points=\"\n",
       "  1214.81,586.084 1214.82,597.191 1214.84,608.532 1214.88,620.091 1214.92,631.85 1214.98,643.792 1215.04,655.9 1215.12,668.155 1215.2,680.541 1215.29,693.041 \n",
       "  1215.39,705.636 1215.48,718.309 1215.59,731.043 1215.69,743.821 1215.8,756.625 1215.91,769.438 1216.02,782.241 1216.12,795.019 1216.22,807.754 1216.32,820.427 \n",
       "  1216.42,833.022 1216.51,845.521 1216.59,857.907 1216.67,870.163 1216.73,882.27 1216.79,894.212 1216.83,905.971 1216.87,917.53 1216.89,928.872 1216.9,939.978 \n",
       "  \n",
       "  \"/>\n",
       "<polyline clip-path=\"url(#clip4002)\" style=\"stroke:#d968a2; stroke-width:4; stroke-opacity:1; fill:none\" points=\"\n",
       "  1216.9,939.978 1217.3,946.31 1218.48,952.665 1220.38,959.041 1222.93,965.438 1226.09,971.854 1229.79,978.286 1233.97,984.732 1238.59,991.192 1243.58,997.664 \n",
       "  1248.88,1004.14 1254.45,1010.63 1260.21,1017.13 1266.11,1023.63 1272.1,1030.13 1278.12,1036.63 1284.12,1043.13 1290.02,1049.63 1295.78,1056.13 1301.35,1062.62 \n",
       "  1306.65,1069.1 1311.64,1075.57 1316.26,1082.03 1320.44,1088.48 1324.14,1094.91 1327.3,1101.32 1329.85,1107.72 1331.75,1114.1 1332.93,1120.45 1333.33,1126.78 \n",
       "  \n",
       "  \"/>\n",
       "<polyline clip-path=\"url(#clip4002)\" style=\"stroke:#d968a2; stroke-width:4; stroke-opacity:1; fill:none\" points=\"\n",
       "  1216.9,939.978 1216.14,946.876 1213.93,953.536 1210.37,959.976 1205.59,966.213 1199.67,972.265 1192.74,978.149 1184.89,983.884 1176.24,989.486 1166.89,994.973 \n",
       "  1156.95,1000.36 1146.53,1005.68 1135.73,1010.92 1124.67,1016.13 1113.44,1021.31 1102.16,1026.48 1090.93,1031.66 1079.86,1036.86 1069.06,1042.11 1058.64,1047.42 \n",
       "  1048.7,1052.81 1039.35,1058.3 1030.7,1063.9 1022.85,1069.64 1015.92,1075.52 1010,1081.57 1005.22,1087.81 1001.67,1094.25 999.456,1100.91 998.696,1107.81 \n",
       "  \n",
       "  \"/>\n",
       "<polyline clip-path=\"url(#clip4002)\" style=\"stroke:#d968a2; stroke-width:4; stroke-opacity:1; fill:none\" points=\"\n",
       "  1216.9,939.978 1218.78,951.617 1224.26,962.483 1233.06,972.633 1244.92,982.124 1259.58,991.014 1276.77,999.359 1296.21,1007.22 1317.66,1014.65 1340.83,1021.7 \n",
       "  1365.46,1028.44 1391.29,1034.93 1418.06,1041.21 1445.49,1047.35 1473.32,1053.4 1501.28,1059.43 1529.11,1065.48 1556.53,1071.62 1583.3,1077.9 1609.13,1084.39 \n",
       "  1633.77,1091.13 1656.94,1098.18 1678.38,1105.61 1697.83,1113.47 1715.01,1121.81 1729.67,1130.7 1741.53,1140.2 1750.33,1150.35 1755.81,1161.21 1757.7,1172.85 \n",
       "  \n",
       "  \"/>\n",
       "<polyline clip-path=\"url(#clip4002)\" style=\"stroke:#d968a2; stroke-width:4; stroke-opacity:1; fill:none\" points=\"\n",
       "  1757.7,1172.85 1756.62,1181.99 1753.51,1190.74 1748.51,1199.13 1741.77,1207.18 1733.44,1214.93 1723.67,1222.41 1712.62,1229.63 1700.44,1236.64 1687.27,1243.47 \n",
       "  1673.27,1250.13 1658.59,1256.66 1643.38,1263.09 1627.79,1269.45 1611.98,1275.76 1596.09,1282.06 1580.27,1288.37 1564.68,1294.73 1549.47,1301.16 1534.79,1307.69 \n",
       "  1520.79,1314.36 1507.63,1321.18 1495.44,1328.19 1484.39,1335.41 1474.62,1342.89 1466.29,1350.64 1459.55,1358.69 1454.55,1367.08 1451.44,1375.83 1450.37,1384.97 \n",
       "  \n",
       "  \"/>\n",
       "<polyline clip-path=\"url(#clip4002)\" style=\"stroke:#d968a2; stroke-width:4; stroke-opacity:1; fill:none\" points=\"\n",
       "  1757.7,1172.85 1757.39,1179.5 1756.51,1186.24 1755.08,1193.05 1753.17,1199.93 1750.8,1206.87 1748.02,1213.87 1744.88,1220.93 1741.42,1228.03 1737.67,1235.17 \n",
       "  1733.69,1242.35 1729.52,1249.55 1725.2,1256.77 1720.77,1264.01 1716.27,1271.26 1711.75,1278.51 1707.26,1285.76 1702.82,1293 1698.5,1300.22 1694.33,1307.42 \n",
       "  1690.35,1314.59 1686.6,1321.74 1683.14,1328.84 1680,1335.89 1677.22,1342.89 1674.85,1349.84 1672.94,1356.72 1671.52,1363.53 1670.63,1370.26 1670.33,1376.92 \n",
       "  \n",
       "  \"/>\n",
       "<polyline clip-path=\"url(#clip4002)\" style=\"stroke:#d968a2; stroke-width:4; stroke-opacity:1; fill:none\" points=\"\n",
       "  1757.7,1172.85 1758.44,1183.87 1760.61,1194.91 1764.1,1205.96 1768.79,1217.03 1774.59,1228.11 1781.4,1239.21 1789.1,1250.32 1797.59,1261.44 1806.76,1272.56 \n",
       "  1816.51,1283.69 1826.74,1294.83 1837.34,1305.98 1848.2,1317.12 1859.21,1328.27 1870.29,1339.42 1881.3,1350.57 1892.16,1361.72 1902.76,1372.86 1912.99,1384 \n",
       "  1922.74,1395.13 1931.91,1406.26 1940.4,1417.38 1948.1,1428.48 1954.91,1439.58 1960.71,1450.66 1965.4,1461.73 1968.89,1472.79 1971.06,1483.82 1971.8,1494.84 \n",
       "  \n",
       "  \"/>\n",
       "<polyline clip-path=\"url(#clip4002)\" style=\"stroke:#d968a2; stroke-width:4; stroke-opacity:1; fill:none\" points=\"\n",
       "  1757.7,1172.85 1759.44,1183.89 1764.51,1194.21 1772.66,1203.84 1783.64,1212.84 1797.2,1221.28 1813.11,1229.2 1831.11,1236.65 1850.95,1243.7 1872.4,1250.4 \n",
       "  1895.2,1256.79 1919.11,1262.94 1943.88,1268.91 1969.27,1274.73 1995.03,1280.48 2020.91,1286.19 2046.66,1291.94 2072.05,1297.76 2096.82,1303.72 2120.73,1309.88 \n",
       "  2143.53,1316.27 2164.98,1322.97 2184.83,1330.02 2202.83,1337.47 2218.73,1345.39 2232.3,1353.83 2243.28,1362.83 2251.42,1372.46 2256.49,1382.77 2258.24,1393.82 \n",
       "  \n",
       "  \"/>\n",
       "<polyline clip-path=\"url(#clip4002)\" style=\"stroke:#d968a2; stroke-width:4; stroke-opacity:1; fill:none\" points=\"\n",
       "  1757.7,1172.85 1758.96,1183.38 1762.63,1193.42 1768.52,1203.01 1776.47,1212.19 1786.28,1220.98 1797.79,1229.44 1810.82,1237.58 1825.18,1245.46 1840.69,1253.1 \n",
       "  1857.19,1260.54 1874.49,1267.82 1892.42,1274.97 1910.79,1282.03 1929.42,1289.04 1948.15,1296.03 1966.79,1303.03 1985.16,1310.1 2003.08,1317.25 2020.38,1324.53 \n",
       "  2036.88,1331.97 2052.4,1339.61 2066.76,1347.48 2079.78,1355.63 2091.29,1364.08 2101.11,1372.87 2109.05,1382.05 2114.95,1391.64 2118.62,1401.68 2119.88,1412.21 \n",
       "  \n",
       "  \"/>\n",
       "<polyline clip-path=\"url(#clip4002)\" style=\"stroke:#d968a2; stroke-width:4; stroke-opacity:1; fill:none\" points=\"\n",
       "  1757.7,1172.85 1757.82,1181.72 1758.17,1190.78 1758.74,1200 1759.5,1209.37 1760.44,1218.89 1761.55,1228.53 1762.8,1238.29 1764.18,1248.14 1765.67,1258.09 \n",
       "  1767.25,1268.11 1768.92,1278.19 1770.64,1288.31 1772.4,1298.47 1774.19,1308.65 1775.99,1318.84 1777.78,1329.02 1779.55,1339.17 1781.27,1349.3 1782.93,1359.38 \n",
       "  1784.52,1369.4 1786.01,1379.34 1787.39,1389.2 1788.64,1398.96 1789.74,1408.6 1790.69,1418.11 1791.45,1427.49 1792.02,1436.71 1792.37,1445.76 1792.49,1454.64 \n",
       "  \n",
       "  \"/>\n",
       "<polyline clip-path=\"url(#clip4002)\" style=\"stroke:#d968a2; stroke-width:4; stroke-opacity:1; fill:none\" points=\"\n",
       "  1216.9,939.978 1214.93,949.636 1209.23,958.651 1200.05,967.073 1187.69,974.947 1172.42,982.323 1154.51,989.247 1134.24,995.767 1111.9,1001.93 1087.75,1007.79 \n",
       "  1062.08,1013.38 1035.16,1018.76 1007.27,1023.97 978.689,1029.07 949.69,1034.09 920.552,1039.09 891.553,1044.11 862.97,1049.2 835.08,1054.42 808.161,1059.8 \n",
       "  782.489,1065.39 758.343,1071.24 735.998,1077.41 715.734,1083.93 697.826,1090.85 682.552,1098.23 670.19,1106.1 661.017,1114.52 655.309,1123.54 653.345,1133.2 \n",
       "  \n",
       "  \"/>\n",
       "<polyline clip-path=\"url(#clip4002)\" style=\"stroke:#d968a2; stroke-width:4; stroke-opacity:1; fill:none\" points=\"\n",
       "  653.345,1133.2 654.015,1143.05 655.961,1152.93 659.089,1162.81 663.304,1172.71 668.512,1182.62 674.618,1192.54 681.528,1202.47 689.147,1212.41 697.38,1222.35 \n",
       "  706.134,1232.3 715.312,1242.26 724.822,1252.21 734.568,1262.18 744.456,1272.14 754.391,1282.1 764.279,1292.07 774.025,1302.03 783.535,1311.99 792.714,1321.94 \n",
       "  801.467,1331.89 809.701,1341.84 817.319,1351.77 824.229,1361.7 830.335,1371.62 835.543,1381.53 839.758,1391.43 842.886,1401.32 844.832,1411.19 845.502,1421.05 \n",
       "  \n",
       "  \"/>\n",
       "<polyline clip-path=\"url(#clip4002)\" style=\"stroke:#d968a2; stroke-width:4; stroke-opacity:1; fill:none\" points=\"\n",
       "  653.345,1133.2 651.617,1145.54 646.596,1157.07 638.525,1167.83 627.648,1177.9 614.21,1187.33 598.454,1196.18 580.624,1204.52 560.965,1212.4 539.719,1219.88 \n",
       "  517.132,1227.03 493.448,1233.91 468.909,1240.57 443.76,1247.08 418.246,1253.51 392.609,1259.9 367.095,1266.32 341.946,1272.83 317.408,1279.49 293.723,1286.37 \n",
       "  271.136,1293.52 249.891,1301.01 230.231,1308.88 212.402,1317.22 196.646,1326.07 183.208,1335.5 172.331,1345.57 164.26,1356.33 159.238,1367.86 157.51,1380.21 \n",
       "  \n",
       "  \"/>\n",
       "<polyline clip-path=\"url(#clip4002)\" style=\"stroke:#d968a2; stroke-width:4; stroke-opacity:1; fill:none\" points=\"\n",
       "  653.345,1133.2 652.649,1143.06 650.625,1152.92 647.372,1162.78 642.988,1172.64 637.572,1182.49 631.221,1192.35 624.035,1202.21 616.111,1212.06 607.548,1221.91 \n",
       "  598.445,1231.76 588.898,1241.62 579.008,1251.47 568.872,1261.32 558.588,1271.17 548.255,1281.02 537.972,1290.87 527.835,1300.72 517.945,1310.57 508.399,1320.43 \n",
       "  499.295,1330.28 490.732,1340.13 482.808,1349.99 475.622,1359.84 469.272,1369.7 463.855,1379.55 459.472,1389.41 456.218,1399.27 454.194,1409.13 453.498,1418.99 \n",
       "  \n",
       "  \"/>\n",
       "<polyline clip-path=\"url(#clip4002)\" style=\"stroke:#d968a2; stroke-width:4; stroke-opacity:1; fill:none\" points=\"\n",
       "  653.345,1133.2 652.105,1143.49 648.499,1153.3 642.704,1162.66 634.894,1171.6 625.245,1180.17 613.932,1188.39 601.13,1196.31 587.014,1203.96 571.759,1211.37 \n",
       "  555.541,1218.59 538.535,1225.65 520.916,1232.57 502.859,1239.41 484.539,1246.2 466.131,1252.97 447.811,1259.75 429.754,1266.59 412.134,1273.52 395.128,1280.57 \n",
       "  378.91,1287.79 363.656,1295.21 349.54,1302.86 336.738,1310.77 325.425,1319 315.776,1327.57 307.966,1336.51 302.171,1345.87 298.565,1355.68 297.324,1365.97 \n",
       "  \n",
       "  \"/>\n",
       "<polyline clip-path=\"url(#clip4002)\" style=\"stroke:#d968a2; stroke-width:4; stroke-opacity:1; fill:none\" points=\"\n",
       "  653.345,1133.2 653.328,1143.67 653.278,1154.37 653.198,1165.28 653.09,1176.37 652.956,1187.64 652.799,1199.06 652.622,1210.62 652.426,1222.31 652.214,1234.1 \n",
       "  651.99,1245.98 651.754,1257.93 651.51,1269.95 651.259,1282 651.005,1294.08 650.75,1306.17 650.496,1318.24 650.246,1330.3 650.002,1342.31 649.766,1354.27 \n",
       "  649.541,1366.15 649.33,1377.94 649.134,1389.62 648.957,1401.19 648.8,1412.61 648.666,1423.87 648.558,1434.97 648.477,1445.87 648.427,1456.57 648.41,1467.05 \n",
       "  \n",
       "  \"/>\n",
       "<polygon clip-path=\"url(#clip4000)\" points=\"\n",
       "1189.1,113.741 1239.67,101.574 1239.67,77.2406 1189.1,65.0739 1138.52,77.2406 1138.52,101.574 1189.1,113.741 \n",
       "  \" fill=\"#000000\" fill-rule=\"evenodd\" fill-opacity=\"1\"/>\n",
       "<polygon clip-path=\"url(#clip4000)\" points=\"\n",
       "1189.1,112.741 1237.59,101.074 1237.59,77.7406 1189.1,66.0739 1140.6,77.7406 1140.6,101.074 1189.1,112.741 \n",
       "  \" fill=\"#009af9\" fill-rule=\"evenodd\" fill-opacity=\"1\"/>\n",
       "<polygon clip-path=\"url(#clip4000)\" points=\"\n",
       "1300.38,369.229 1399.46,357.312 1399.46,333.479 1300.38,321.562 1201.31,333.479 1201.31,357.312 1300.38,369.229 \n",
       "  \" fill=\"#000000\" fill-rule=\"evenodd\" fill-opacity=\"1\"/>\n",
       "<polygon clip-path=\"url(#clip4000)\" points=\"\n",
       "1300.38,368.729 1397.38,357.062 1397.38,333.729 1300.38,322.062 1203.39,333.729 1203.39,357.062 1300.38,368.729 \n",
       "  \" fill=\"#009af9\" fill-rule=\"evenodd\" fill-opacity=\"1\"/>\n",
       "<polygon clip-path=\"url(#clip4000)\" points=\"\n",
       "1214.81,610.168 1281.55,598.126 1281.55,574.043 1214.81,562.001 1148.07,574.043 1148.07,598.126 1214.81,610.168 \n",
       "  \" fill=\"#000000\" fill-rule=\"evenodd\" fill-opacity=\"1\"/>\n",
       "<polygon clip-path=\"url(#clip4000)\" points=\"\n",
       "1214.81,609.418 1279.48,597.751 1279.48,574.418 1214.81,562.751 1150.15,574.418 1150.15,597.751 1214.81,609.418 \n",
       "  \" fill=\"#009af9\" fill-rule=\"evenodd\" fill-opacity=\"1\"/>\n",
       "<polygon clip-path=\"url(#clip4000)\" points=\"\n",
       "1216.9,963.74 1332.14,951.859 1332.14,928.097 1216.9,916.216 1101.66,928.097 1101.66,951.859 1216.9,963.74 \n",
       "  \" fill=\"#000000\" fill-rule=\"evenodd\" fill-opacity=\"1\"/>\n",
       "<polygon clip-path=\"url(#clip4000)\" points=\"\n",
       "1216.9,963.311 1330.06,951.645 1330.06,928.311 1216.9,916.645 1103.74,928.311 1103.74,951.645 1216.9,963.311 \n",
       "  \" fill=\"#009af9\" fill-rule=\"evenodd\" fill-opacity=\"1\"/>\n",
       "<polygon clip-path=\"url(#clip4000)\" points=\"\n",
       "1333.33,1150.87 1400.07,1138.83 1400.07,1114.74 1333.33,1102.7 1266.59,1114.74 1266.59,1138.83 1333.33,1150.87 \n",
       "  \" fill=\"#000000\" fill-rule=\"evenodd\" fill-opacity=\"1\"/>\n",
       "<polygon clip-path=\"url(#clip4000)\" points=\"\n",
       "1333.33,1150.12 1398,1138.45 1398,1115.12 1333.33,1103.45 1268.67,1115.12 1268.67,1138.45 1333.33,1150.12 \n",
       "  \" fill=\"#009af9\" fill-rule=\"evenodd\" fill-opacity=\"1\"/>\n",
       "<polygon clip-path=\"url(#clip4000)\" points=\"\n",
       "998.696,1131.37 1210.93,1119.59 1210.93,1096.03 998.696,1084.25 786.462,1096.03 786.462,1119.59 998.696,1131.37 \n",
       "  \" fill=\"#000000\" fill-rule=\"evenodd\" fill-opacity=\"1\"/>\n",
       "<polygon clip-path=\"url(#clip4000)\" points=\"\n",
       "998.696,1131.14 1208.85,1119.48 1208.85,1096.14 998.696,1084.48 788.54,1096.14 788.54,1119.48 998.696,1131.14 \n",
       "  \" fill=\"#009af9\" fill-rule=\"evenodd\" fill-opacity=\"1\"/>\n",
       "<polygon clip-path=\"url(#clip4000)\" points=\"\n",
       "1757.7,1196.68 1856.77,1184.77 1856.77,1160.93 1757.7,1149.02 1658.62,1160.93 1658.62,1184.77 1757.7,1196.68 \n",
       "  \" fill=\"#000000\" fill-rule=\"evenodd\" fill-opacity=\"1\"/>\n",
       "<polygon clip-path=\"url(#clip4000)\" points=\"\n",
       "1757.7,1196.18 1854.69,1184.52 1854.69,1161.18 1757.7,1149.52 1660.7,1161.18 1660.7,1184.52 1757.7,1196.18 \n",
       "  \" fill=\"#009af9\" fill-rule=\"evenodd\" fill-opacity=\"1\"/>\n",
       "<polygon clip-path=\"url(#clip4000)\" points=\"\n",
       "1450.37,1408.8 1549.44,1396.89 1549.44,1373.05 1450.37,1361.14 1351.29,1373.05 1351.29,1396.89 1450.37,1408.8 \n",
       "  \" fill=\"#000000\" fill-rule=\"evenodd\" fill-opacity=\"1\"/>\n",
       "<polygon clip-path=\"url(#clip4000)\" points=\"\n",
       "1450.37,1408.3 1547.36,1396.64 1547.36,1373.3 1450.37,1361.64 1353.37,1373.3 1353.37,1396.64 1450.37,1408.3 \n",
       "  \" fill=\"#009af9\" fill-rule=\"evenodd\" fill-opacity=\"1\"/>\n",
       "<polygon clip-path=\"url(#clip4000)\" points=\"\n",
       "1670.33,1400.75 1769.4,1388.83 1769.4,1365 1670.33,1353.08 1571.25,1365 1571.25,1388.83 1670.33,1400.75 \n",
       "  \" fill=\"#000000\" fill-rule=\"evenodd\" fill-opacity=\"1\"/>\n",
       "<polygon clip-path=\"url(#clip4000)\" points=\"\n",
       "1670.33,1400.25 1767.32,1388.58 1767.32,1365.25 1670.33,1353.58 1573.33,1365.25 1573.33,1388.58 1670.33,1400.25 \n",
       "  \" fill=\"#009af9\" fill-rule=\"evenodd\" fill-opacity=\"1\"/>\n",
       "<polygon clip-path=\"url(#clip4000)\" points=\"\n",
       "1971.8,1518.78 2054.71,1506.81 2054.71,1482.88 1971.8,1470.91 1888.9,1482.88 1888.9,1506.81 1971.8,1518.78 \n",
       "  \" fill=\"#000000\" fill-rule=\"evenodd\" fill-opacity=\"1\"/>\n",
       "<polygon clip-path=\"url(#clip4000)\" points=\"\n",
       "1971.8,1518.18 2052.63,1506.51 2052.63,1483.18 1971.8,1471.51 1890.98,1483.18 1890.98,1506.51 1971.8,1518.18 \n",
       "  \" fill=\"#009af9\" fill-rule=\"evenodd\" fill-opacity=\"1\"/>\n",
       "<polygon clip-path=\"url(#clip4000)\" points=\"\n",
       "2258.24,1417.75 2341.15,1405.78 2341.15,1381.85 2258.24,1369.88 2175.33,1381.85 2175.33,1405.78 2258.24,1417.75 \n",
       "  \" fill=\"#000000\" fill-rule=\"evenodd\" fill-opacity=\"1\"/>\n",
       "<polygon clip-path=\"url(#clip4000)\" points=\"\n",
       "2258.24,1417.15 2339.07,1405.48 2339.07,1382.15 2258.24,1370.48 2177.41,1382.15 2177.41,1405.48 2258.24,1417.15 \n",
       "  \" fill=\"#009af9\" fill-rule=\"evenodd\" fill-opacity=\"1\"/>\n",
       "<polygon clip-path=\"url(#clip4000)\" points=\"\n",
       "2119.88,1436.15 2202.79,1424.18 2202.79,1400.25 2119.88,1388.28 2036.97,1400.25 2036.97,1424.18 2119.88,1436.15 \n",
       "  \" fill=\"#000000\" fill-rule=\"evenodd\" fill-opacity=\"1\"/>\n",
       "<polygon clip-path=\"url(#clip4000)\" points=\"\n",
       "2119.88,1435.55 2200.71,1423.88 2200.71,1400.55 2119.88,1388.88 2039.05,1400.55 2039.05,1423.88 2119.88,1435.55 \n",
       "  \" fill=\"#009af9\" fill-rule=\"evenodd\" fill-opacity=\"1\"/>\n",
       "<polygon clip-path=\"url(#clip4000)\" points=\"\n",
       "1792.49,1478.72 1859.23,1466.68 1859.23,1442.59 1792.49,1430.55 1725.75,1442.59 1725.75,1466.68 1792.49,1478.72 \n",
       "  \" fill=\"#000000\" fill-rule=\"evenodd\" fill-opacity=\"1\"/>\n",
       "<polygon clip-path=\"url(#clip4000)\" points=\"\n",
       "1792.49,1477.97 1857.15,1466.3 1857.15,1442.97 1792.49,1431.3 1727.83,1442.97 1727.83,1466.3 1792.49,1477.97 \n",
       "  \" fill=\"#009af9\" fill-rule=\"evenodd\" fill-opacity=\"1\"/>\n",
       "<polygon clip-path=\"url(#clip4000)\" points=\"\n",
       "653.345,1156.9 784.75,1145.05 784.75,1121.34 653.345,1109.49 521.94,1121.34 521.94,1145.05 653.345,1156.9 \n",
       "  \" fill=\"#000000\" fill-rule=\"evenodd\" fill-opacity=\"1\"/>\n",
       "<polygon clip-path=\"url(#clip4000)\" points=\"\n",
       "653.345,1156.53 782.672,1144.86 782.672,1121.53 653.345,1109.86 524.019,1121.53 524.019,1144.86 653.345,1156.53 \n",
       "  \" fill=\"#009af9\" fill-rule=\"evenodd\" fill-opacity=\"1\"/>\n",
       "<polygon clip-path=\"url(#clip4000)\" points=\"\n",
       "845.502,1444.81 960.741,1432.93 960.741,1409.16 845.502,1397.28 730.263,1409.16 730.263,1432.93 845.502,1444.81 \n",
       "  \" fill=\"#000000\" fill-rule=\"evenodd\" fill-opacity=\"1\"/>\n",
       "<polygon clip-path=\"url(#clip4000)\" points=\"\n",
       "845.502,1444.38 958.663,1432.71 958.663,1409.38 845.502,1397.71 732.341,1409.38 732.341,1432.71 845.502,1444.38 \n",
       "  \" fill=\"#009af9\" fill-rule=\"evenodd\" fill-opacity=\"1\"/>\n",
       "<polygon clip-path=\"url(#clip4000)\" points=\"\n",
       "157.51,1404.04 256.583,1392.12 256.583,1368.29 157.51,1356.37 58.4367,1368.29 58.4367,1392.12 157.51,1404.04 \n",
       "  \" fill=\"#000000\" fill-rule=\"evenodd\" fill-opacity=\"1\"/>\n",
       "<polygon clip-path=\"url(#clip4000)\" points=\"\n",
       "157.51,1403.54 254.505,1391.87 254.505,1368.54 157.51,1356.87 60.5152,1368.54 60.5152,1391.87 157.51,1403.54 \n",
       "  \" fill=\"#009af9\" fill-rule=\"evenodd\" fill-opacity=\"1\"/>\n",
       "<polygon clip-path=\"url(#clip4000)\" points=\"\n",
       "453.498,1442.83 552.571,1430.91 552.571,1407.08 453.498,1395.16 354.425,1407.08 354.425,1430.91 453.498,1442.83 \n",
       "  \" fill=\"#000000\" fill-rule=\"evenodd\" fill-opacity=\"1\"/>\n",
       "<polygon clip-path=\"url(#clip4000)\" points=\"\n",
       "453.498,1442.33 550.493,1430.66 550.493,1407.33 453.498,1395.66 356.503,1407.33 356.503,1430.66 453.498,1442.33 \n",
       "  \" fill=\"#009af9\" fill-rule=\"evenodd\" fill-opacity=\"1\"/>\n",
       "<polygon clip-path=\"url(#clip4000)\" points=\"\n",
       "297.324,1389.8 396.397,1377.89 396.397,1354.05 297.324,1342.14 198.251,1354.05 198.251,1377.89 297.324,1389.8 \n",
       "  \" fill=\"#000000\" fill-rule=\"evenodd\" fill-opacity=\"1\"/>\n",
       "<polygon clip-path=\"url(#clip4000)\" points=\"\n",
       "297.324,1389.3 394.319,1377.64 394.319,1354.3 297.324,1342.64 200.329,1354.3 200.329,1377.64 297.324,1389.3 \n",
       "  \" fill=\"#009af9\" fill-rule=\"evenodd\" fill-opacity=\"1\"/>\n",
       "<polygon clip-path=\"url(#clip4000)\" points=\"\n",
       "648.41,1490.98 731.318,1479.02 731.318,1455.08 648.41,1443.12 565.503,1455.08 565.503,1479.02 648.41,1490.98 \n",
       "  \" fill=\"#000000\" fill-rule=\"evenodd\" fill-opacity=\"1\"/>\n",
       "<polygon clip-path=\"url(#clip4000)\" points=\"\n",
       "648.41,1490.38 729.239,1478.72 729.239,1455.38 648.41,1443.72 567.581,1455.38 567.581,1478.72 648.41,1490.38 \n",
       "  \" fill=\"#009af9\" fill-rule=\"evenodd\" fill-opacity=\"1\"/>\n",
       "<g clip-path=\"url(#clip4000)\">\n",
       "<text style=\"fill:#000000; fill-opacity:1; font-family:Arial,Helvetica Neue,Helvetica,sans-serif; font-size:84px; text-anchor:middle;\" transform=\"rotate(0, 1189.1, 119.907)\" x=\"1189.1\" y=\"119.907\">Any</text>\n",
       "</g>\n",
       "<g clip-path=\"url(#clip4000)\">\n",
       "<text style=\"fill:#000000; fill-opacity:1; font-family:Arial,Helvetica Neue,Helvetica,sans-serif; font-size:84px; text-anchor:middle;\" transform=\"rotate(0, 1300.38, 375.895)\" x=\"1300.38\" y=\"375.895\">Number</text>\n",
       "</g>\n",
       "<g clip-path=\"url(#clip4000)\">\n",
       "<text style=\"fill:#000000; fill-opacity:1; font-family:Arial,Helvetica Neue,Helvetica,sans-serif; font-size:84px; text-anchor:middle;\" transform=\"rotate(0, 1214.81, 616.584)\" x=\"1214.81\" y=\"616.584\">Real</text>\n",
       "</g>\n",
       "<g clip-path=\"url(#clip4000)\">\n",
       "<text style=\"fill:#000000; fill-opacity:1; font-family:Arial,Helvetica Neue,Helvetica,sans-serif; font-size:84px; text-anchor:middle;\" transform=\"rotate(0, 1216.9, 970.478)\" x=\"1216.9\" y=\"970.478\">Integer</text>\n",
       "</g>\n",
       "<g clip-path=\"url(#clip4000)\">\n",
       "<text style=\"fill:#000000; fill-opacity:1; font-family:Arial,Helvetica Neue,Helvetica,sans-serif; font-size:84px; text-anchor:middle;\" transform=\"rotate(0, 1333.33, 1157.28)\" x=\"1333.33\" y=\"1157.28\">Bool</text>\n",
       "</g>\n",
       "<g clip-path=\"url(#clip4000)\">\n",
       "<text style=\"fill:#000000; fill-opacity:1; font-family:Arial,Helvetica Neue,Helvetica,sans-serif; font-size:84px; text-anchor:middle;\" transform=\"rotate(0, 998.696, 1138.31)\" x=\"998.696\" y=\"1138.31\">OffsetInteger</text>\n",
       "</g>\n",
       "<g clip-path=\"url(#clip4000)\">\n",
       "<text style=\"fill:#000000; fill-opacity:1; font-family:Arial,Helvetica Neue,Helvetica,sans-serif; font-size:84px; text-anchor:middle;\" transform=\"rotate(0, 1757.7, 1203.35)\" x=\"1757.7\" y=\"1203.35\">Signed</text>\n",
       "</g>\n",
       "<g clip-path=\"url(#clip4000)\">\n",
       "<text style=\"fill:#000000; fill-opacity:1; font-family:Arial,Helvetica Neue,Helvetica,sans-serif; font-size:84px; text-anchor:middle;\" transform=\"rotate(0, 1450.37, 1415.47)\" x=\"1450.37\" y=\"1415.47\">BigInt</text>\n",
       "</g>\n",
       "<g clip-path=\"url(#clip4000)\">\n",
       "<text style=\"fill:#000000; fill-opacity:1; font-family:Arial,Helvetica Neue,Helvetica,sans-serif; font-size:84px; text-anchor:middle;\" transform=\"rotate(0, 1670.33, 1407.42)\" x=\"1670.33\" y=\"1407.42\">Int128</text>\n",
       "</g>\n",
       "<g clip-path=\"url(#clip4000)\">\n",
       "<text style=\"fill:#000000; fill-opacity:1; font-family:Arial,Helvetica Neue,Helvetica,sans-serif; font-size:84px; text-anchor:middle;\" transform=\"rotate(0, 1971.8, 1525.34)\" x=\"1971.8\" y=\"1525.34\">Int16</text>\n",
       "</g>\n",
       "<g clip-path=\"url(#clip4000)\">\n",
       "<text style=\"fill:#000000; fill-opacity:1; font-family:Arial,Helvetica Neue,Helvetica,sans-serif; font-size:84px; text-anchor:middle;\" transform=\"rotate(0, 2258.24, 1424.32)\" x=\"2258.24\" y=\"1424.32\">Int32</text>\n",
       "</g>\n",
       "<g clip-path=\"url(#clip4000)\">\n",
       "<text style=\"fill:#000000; fill-opacity:1; font-family:Arial,Helvetica Neue,Helvetica,sans-serif; font-size:84px; text-anchor:middle;\" transform=\"rotate(0, 2119.88, 1442.71)\" x=\"2119.88\" y=\"1442.71\">Int64</text>\n",
       "</g>\n",
       "<g clip-path=\"url(#clip4000)\">\n",
       "<text style=\"fill:#000000; fill-opacity:1; font-family:Arial,Helvetica Neue,Helvetica,sans-serif; font-size:84px; text-anchor:middle;\" transform=\"rotate(0, 1792.49, 1485.14)\" x=\"1792.49\" y=\"1485.14\">Int8</text>\n",
       "</g>\n",
       "<g clip-path=\"url(#clip4000)\">\n",
       "<text style=\"fill:#000000; fill-opacity:1; font-family:Arial,Helvetica Neue,Helvetica,sans-serif; font-size:84px; text-anchor:middle;\" transform=\"rotate(0, 653.345, 1163.7)\" x=\"653.345\" y=\"1163.7\">Unsigned</text>\n",
       "</g>\n",
       "<g clip-path=\"url(#clip4000)\">\n",
       "<text style=\"fill:#000000; fill-opacity:1; font-family:Arial,Helvetica Neue,Helvetica,sans-serif; font-size:84px; text-anchor:middle;\" transform=\"rotate(0, 845.502, 1451.55)\" x=\"845.502\" y=\"1451.55\">UInt128</text>\n",
       "</g>\n",
       "<g clip-path=\"url(#clip4000)\">\n",
       "<text style=\"fill:#000000; fill-opacity:1; font-family:Arial,Helvetica Neue,Helvetica,sans-serif; font-size:84px; text-anchor:middle;\" transform=\"rotate(0, 157.51, 1410.71)\" x=\"157.51\" y=\"1410.71\">UInt16</text>\n",
       "</g>\n",
       "<g clip-path=\"url(#clip4000)\">\n",
       "<text style=\"fill:#000000; fill-opacity:1; font-family:Arial,Helvetica Neue,Helvetica,sans-serif; font-size:84px; text-anchor:middle;\" transform=\"rotate(0, 453.498, 1449.49)\" x=\"453.498\" y=\"1449.49\">UInt32</text>\n",
       "</g>\n",
       "<g clip-path=\"url(#clip4000)\">\n",
       "<text style=\"fill:#000000; fill-opacity:1; font-family:Arial,Helvetica Neue,Helvetica,sans-serif; font-size:84px; text-anchor:middle;\" transform=\"rotate(0, 297.324, 1396.47)\" x=\"297.324\" y=\"1396.47\">UInt64</text>\n",
       "</g>\n",
       "<g clip-path=\"url(#clip4000)\">\n",
       "<text style=\"fill:#000000; fill-opacity:1; font-family:Arial,Helvetica Neue,Helvetica,sans-serif; font-size:84px; text-anchor:middle;\" transform=\"rotate(0, 648.41, 1497.55)\" x=\"648.41\" y=\"1497.55\">UInt8</text>\n",
       "</g>\n",
       "</svg>\n"
      ]
     },
     "execution_count": 7,
     "metadata": {},
     "output_type": "execute_result"
    }
   ],
   "source": [
    "using GraphRecipes\n",
    "using Plots\n",
    "\n",
    "#pyplot(size=(800, 600))\n",
    "gr(size=(600, 400))\n",
    "theme(:default)\n",
    "\n",
    "plot(Integer, method=:tree, fontsize=4)"
   ]
  },
  {
   "cell_type": "markdown",
   "metadata": {},
   "source": [
    "### Signed integers\n",
    "\n",
    "* First bit indicates sign.  \n",
    "    - `0` for nonnegative numbers\n",
    "    - `1` for negative numbers  \n",
    "    \n",
    "* **Two's complement representation** for negative numbers. \n",
    "    - Sign bit is set to 1  \n",
    "    - remaining bits are set to opposite values  \n",
    "    - 1 is added to the result  \n",
    "    - Two's complement representation of a negative integer `x` is same as the unsigned integer `2^m + x`."
   ]
  },
  {
   "cell_type": "code",
   "execution_count": 8,
   "metadata": {},
   "outputs": [
    {
     "name": "stdout",
     "output_type": "stream",
     "text": [
      "typeof(18) = Int64\n",
      "bitstring(18) = \"0000000000000000000000000000000000000000000000000000000000010010\"\n",
      "bitstring(-18) = \"1111111111111111111111111111111111111111111111111111111111101110\"\n",
      "bitstring(UInt64(Int128(2) ^ 64 - 18)) == bitstring(-18) = true\n",
      "bitstring(2 * 18) = \"0000000000000000000000000000000000000000000000000000000000100100\"\n",
      "bitstring(2 * -18) = \"1111111111111111111111111111111111111111111111111111111111011100\"\n"
     ]
    }
   ],
   "source": [
    "@show typeof(18)\n",
    "@show bitstring(18)\n",
    "@show bitstring(-18)\n",
    "@show bitstring(UInt64(Int128(2)^64 - 18)) == bitstring(-18)\n",
    "@show bitstring(2 * 18) # shift bits of 18\n",
    "@show bitstring(2 * -18); # shift bits of -18"
   ]
  },
  {
   "cell_type": "markdown",
   "metadata": {},
   "source": [
    "* Two's complement representation respects modular arithmetic nicely.  \n",
    "    Addition of any two signed integers are just bitwise addition, possibly modulo $2^M$\n",
    "    \n",
    "<img src=\"http://users.dickinson.edu/~braught/courses/cs251f02/classes/images/twosCompWheel.png\" width=\"400\" align=\"center\"/>    "
   ]
  },
  {
   "cell_type": "markdown",
   "metadata": {},
   "source": [
    "* **Range** of representable integers by $M$-bit **signed integer** is $[-2^{M-1},2^{M-1}-1]$.\n",
    "    - Julia functions `typemin(T)` and `typemax(T)` give the lowest and highest representable number of a type `T` respectively"
   ]
  },
  {
   "cell_type": "code",
   "execution_count": 9,
   "metadata": {},
   "outputs": [
    {
     "data": {
      "text/plain": [
       "(-9223372036854775808, 9223372036854775807)"
      ]
     },
     "execution_count": 9,
     "metadata": {},
     "output_type": "execute_result"
    }
   ],
   "source": [
    "typemin(Int64), typemax(Int64)"
   ]
  },
  {
   "cell_type": "code",
   "execution_count": 10,
   "metadata": {},
   "outputs": [
    {
     "name": "stdout",
     "output_type": "stream",
     "text": [
      "Int8\t-128\t127\n",
      "Int16\t-32768\t32767\n",
      "Int32\t-2147483648\t2147483647\n",
      "Int64\t-9223372036854775808\t9223372036854775807\n",
      "Int128\t-170141183460469231731687303715884105728\t170141183460469231731687303715884105727\n"
     ]
    }
   ],
   "source": [
    "for T in [Int8, Int16, Int32, Int64, Int128]\n",
    "    println(T, '\\t', typemin(T), '\\t', typemax(T))\n",
    "end"
   ]
  },
  {
   "cell_type": "markdown",
   "metadata": {},
   "source": [
    "### Unsigned integers\n",
    "\n",
    "* For unsigned integers, the range is $[0,2^M-1]$."
   ]
  },
  {
   "cell_type": "code",
   "execution_count": 11,
   "metadata": {},
   "outputs": [
    {
     "name": "stdout",
     "output_type": "stream",
     "text": [
      "UInt8\t0\t255\n",
      "UInt16\t0\t65535\n",
      "UInt32\t0\t4294967295\n",
      "UInt64\t0\t18446744073709551615\n",
      "UInt128\t0\t340282366920938463463374607431768211455\n"
     ]
    }
   ],
   "source": [
    "for t in [UInt8, UInt16, UInt32, UInt64, UInt128]\n",
    "    println(t, '\\t', typemin(t), '\\t', typemax(t))\n",
    "end"
   ]
  },
  {
   "cell_type": "markdown",
   "metadata": {},
   "source": [
    "## `BigInt`\n",
    "\n",
    "Julia `BigInt` type is arbitrary precision."
   ]
  },
  {
   "cell_type": "code",
   "execution_count": 12,
   "metadata": {},
   "outputs": [
    {
     "name": "stdout",
     "output_type": "stream",
     "text": [
      "typemax(Int128) = 170141183460469231731687303715884105727\n",
      "typemax(Int128) + 1 = -170141183460469231731687303715884105728\n",
      "BigInt(typemax(Int128)) + 1 = 170141183460469231731687303715884105728\n"
     ]
    }
   ],
   "source": [
    "@show typemax(Int128)\n",
    "@show typemax(Int128) + 1 # modular arithmetic!\n",
    "@show BigInt(typemax(Int128)) + 1;"
   ]
  },
  {
   "cell_type": "markdown",
   "metadata": {},
   "source": [
    "## Overflow and underflow for integer arithmetic\n",
    "\n",
    "R reports `NA` for integer overflow and underflow.  \n",
    "**Julia outputs the result according to modular arithmetic.**"
   ]
  },
  {
   "cell_type": "code",
   "execution_count": 13,
   "metadata": {},
   "outputs": [
    {
     "name": "stdout",
     "output_type": "stream",
     "text": [
      "typemax(Int32) = 2147483647\n",
      "typemax(Int32) + Int32(1) = -2147483648\n"
     ]
    }
   ],
   "source": [
    "@show typemax(Int32)\n",
    "@show typemax(Int32) + Int32(1); # modular arithmetics!"
   ]
  },
  {
   "cell_type": "code",
   "execution_count": 14,
   "metadata": {},
   "outputs": [
    {
     "data": {
      "text/plain": [
       "RObject{IntSxp}\n",
       "[1] 2147483647\n"
      ]
     },
     "execution_count": 14,
     "metadata": {},
     "output_type": "execute_result"
    }
   ],
   "source": [
    "using RCall\n",
    "\n",
    "R\"\"\"\n",
    ".Machine$integer.max\n",
    "\"\"\""
   ]
  },
  {
   "cell_type": "code",
   "execution_count": 15,
   "metadata": {},
   "outputs": [
    {
     "data": {
      "text/plain": [
       "RObject{IntSxp}\n",
       "[1] 2147483647\n"
      ]
     },
     "execution_count": 15,
     "metadata": {},
     "output_type": "execute_result"
    }
   ],
   "source": [
    "R\"\"\"\n",
    "M <- 32\n",
    "big <- 2^(M-1) - 1\n",
    "as.integer(big)\n",
    "\"\"\""
   ]
  },
  {
   "cell_type": "code",
   "execution_count": 16,
   "metadata": {},
   "outputs": [
    {
     "name": "stderr",
     "output_type": "stream",
     "text": [
      "┌ Warning: RCall.jl: Warning: NAs introduced by coercion to integer range\n",
      "└ @ RCall /Users/huazhou/.julia/packages/RCall/ffM0W/src/io.jl:113\n"
     ]
    },
    {
     "data": {
      "text/plain": [
       "RObject{IntSxp}\n",
       "[1] NA\n"
      ]
     },
     "execution_count": 16,
     "metadata": {},
     "output_type": "execute_result"
    }
   ],
   "source": [
    "R\"\"\"\n",
    "as.integer(big+1)\n",
    "\"\"\""
   ]
  },
  {
   "cell_type": "markdown",
   "metadata": {
    "collapsed": true
   },
   "source": [
    "## Real numbers: floating-number system\n",
    "\n",
    "Floating-point number system is a computer model for real numbers.\n",
    "\n",
    "* Most computer systems adopt the [IEEE 754 standard](https://en.wikipedia.org/wiki/IEEE_floating_point), established in 1985, for floating-point arithmetics.  \n",
    "For the history, see an [interview with William Kahan](http://www.cs.berkeley.edu/~wkahan/ieee754status/754story.html).\n",
    "\n",
    "* In the scientific notation, a real number is represented as\n",
    "$$\\pm d_0.d_1d_2 \\cdots d_p \\times b^e.$$\n",
    "In computer, the _base_ is $b=2$ and the digits $d_i$ are 0 or 1.\n",
    "\n",
    "* **Normalized** vs **denormalized** numbers. For example, decimal number 18 is\n",
    "$$ +1.0010 \\times 2^4 \\quad (\\text{normalized})$$\n",
    "or, equivalently,\n",
    "$$ +0.1001 \\times 2^5 \\quad (\\text{denormalized}).$$\n",
    "\n",
    "* In the floating-number system, computer stores \n",
    "    - sign bit  \n",
    "    - the _fraction_ (or _mantissa_, or _significand_) of the **normalized** representation\n",
    "    - the actual exponent _plus_ a bias"
   ]
  },
  {
   "cell_type": "markdown",
   "metadata": {},
   "source": [
    "* **Double precision** (64 bit = 8 bytes) \n",
    "    <img src=\"./double-precision-numbers.png\" width=\"500\" align=\"center\"/>  \n",
    "    - In Julia, `Float64` is the type for double precision numbers    \n",
    "    - First bit is sign bit  \n",
    "    - $p=52$ significant bits  \n",
    "    - 11 exponent bits: $e_{\\max}=1023$, $e_{\\min}=-1022$, bias=1023  \n",
    "    - $e_{\\text{min}}-1$ and $e_{\\text{max}}+1$ are reserved for special numbers  \n",
    "    - range of **magnitude**: $10^{\\pm 308}$ in decimal because $\\log_{10} (2^{1023}) \\approx 308$  \n",
    "    - **precision** to the $\\log_{10}(2^{-52}) \\approx 16$ decimal point  \n",
    "    \n",
    "* **Single precision** (32 bit = 4 bytes) \n",
    "    <img src=\"./single-precision-numbers.png\" width=\"500\" align=\"center\"/>\n",
    "    \n",
    "    - In Julia, `Float32` is the type for single precision numbers  \n",
    "    - First bit is sign bit  \n",
    "    - $p=23$ significant bits  \n",
    "    - 8 exponent bits: $e_{\\max}=127$, $e_{\\min}=-126$, bias=127  \n",
    "    - $e_{\\text{min}}-1$ and $e_{\\text{max}}+1$ are reserved for special numbers  \n",
    "    - range of **magnitude**: $10^{\\pm 38}$ in decimal because $\\log_{10} (2^{127}) \\approx 38$  \n",
    "    - **precision**: $\\log_{10}(2^{23}) \\approx 7$ decimal point  \n",
    "    \n",
    "* **Half precision** (16 bit = 2 bytes)\n",
    "    <img src=\"./half-precision-numbers.png\" width=\"200\" align=\"center\"/>\n",
    "    \n",
    "    - In Julia, `Float16` is the type for half precision numbers\n",
    "    - First bit is sign bit  \n",
    "    - $p=10$ significant bits  \n",
    "    - 5 exponent bits: $e_{\\max}=15$, $e_{\\min}=-14$, bias=15  \n",
    "    - $e_{\\text{min}}-1$ and $e_{\\text{max}}+1$ are reserved for special numbers  \n",
    "    - range of **magnitude**: $10^{\\pm 4}$ in decimal because $\\log_{10} (2^{15}) \\approx 4$  \n",
    "    - **precision**: $\\log_{10}(2^{10}) \\approx 3$ decimal point      "
   ]
  },
  {
   "cell_type": "code",
   "execution_count": 17,
   "metadata": {},
   "outputs": [
    {
     "name": "stdout",
     "output_type": "stream",
     "text": [
      "Half precision:\n",
      "bitstring(Float16(18)) = \"0100110010000000\"\n",
      "bitstring(Float16(-18)) = \"1100110010000000\"\n",
      "Single precision:\n",
      "bitstring(Float32(18.0)) = \"01000001100100000000000000000000\"\n",
      "bitstring(Float32(-18.0)) = \"11000001100100000000000000000000\"\n",
      "Double precision:\n",
      "bitstring(Float64(18)) = \"0100000000110010000000000000000000000000000000000000000000000000\"\n",
      "bitstring(Float64(-18)) = \"1100000000110010000000000000000000000000000000000000000000000000\"\n",
      "Float32(π) = 3.1415927f0\n",
      "Float64(π) = 3.141592653589793\n"
     ]
    },
    {
     "data": {
      "text/plain": [
       "3.141592653589793"
      ]
     },
     "execution_count": 17,
     "metadata": {},
     "output_type": "execute_result"
    }
   ],
   "source": [
    "println(\"Half precision:\")\n",
    "@show bitstring(Float16(18)) # 18 in half precision\n",
    "@show bitstring(Float16(-18)) # -18 in half precision\n",
    "println(\"Single precision:\")\n",
    "@show bitstring(Float32(18.0)) # 18 in single precision\n",
    "@show bitstring(Float32(-18.0)) # -18 in single precision\n",
    "println(\"Double precision:\")\n",
    "@show bitstring(Float64(18)) # 18 in double precision\n",
    "@show bitstring(Float64(-18)) # -18 in double precision\n",
    "@show Float32(π) # SP number displays 7 decimal digits\n",
    "@show Float64(π) # DP number displays 15 decimal digits"
   ]
  },
  {
   "cell_type": "markdown",
   "metadata": {},
   "source": [
    "* Special floating-point numbers. \n",
    "    - Exponent $e_{\\max}+1$ plus a zero mantissa means $\\pm \\infty$  \n",
    "    - Exponent $e_{\\max}+1$ plus a nonzero mantissa means `NaN`. `NaN` could be produced from `0 / 0`, `0 * Inf`, ...  \n",
    "    In general `NaN ≠ NaN` bitwise  \n",
    "    - Exponent $e_{\\min}-1$ with a zero mantissa represents the real number 0  \n",
    "    - Exponent $e_{\\min}-1$ with a nonzero mantissa are for numbers less than $b^{e_{\\min}}$  \n",
    "    Numbers are _denormalized_ in the range $(0,b^{e_{\\min}})$ -- **graceful underflow** "
   ]
  },
  {
   "cell_type": "code",
   "execution_count": 18,
   "metadata": {},
   "outputs": [
    {
     "name": "stdout",
     "output_type": "stream",
     "text": [
      "bitstring(Inf) = \"0111111111110000000000000000000000000000000000000000000000000000\"\n",
      "bitstring(-Inf) = \"1111111111110000000000000000000000000000000000000000000000000000\"\n",
      "bitstring(0 / 0) = \"1111111111111000000000000000000000000000000000000000000000000000\"\n",
      "bitstring(0Inf) = \"1111111111111000000000000000000000000000000000000000000000000000\"\n",
      "bitstring(0.0) = \"0000000000000000000000000000000000000000000000000000000000000000\"\n",
      "nextfloat(0.0) = 5.0e-324\n",
      "bitstring(nextfloat(0.0)) = \"0000000000000000000000000000000000000000000000000000000000000001\"\n"
     ]
    }
   ],
   "source": [
    "@show bitstring(Inf) # Inf in double precision\n",
    "@show bitstring(-Inf) # -Inf in double precision\n",
    "@show bitstring(0 / 0) # NaN\n",
    "@show bitstring(0 * Inf) # NaN\n",
    "@show bitstring(0.0) # 0 in double precision \n",
    "@show nextfloat(0.0) # next representable number \n",
    "@show bitstring(nextfloat(0.0)); # denormalized"
   ]
  },
  {
   "cell_type": "markdown",
   "metadata": {},
   "source": [
    "* **Rounding** is necessary whenever a number has more than $p$ significand bits. Most computer systems use the default IEEE 754 _round to nearest_ mode (also called _ties to even_ mode). Julia offers several [rounding modes](https://docs.julialang.org/en/stable/stdlib/math/#Base.Rounding.RoundingMode), the default being [`RoundNearest`](https://docs.julialang.org/en/stable/stdlib/math/#Base.Rounding.RoundNearest). For example, the number 0.1 in decimal system cannot be represented accurately as a floating point number:\n",
    "$$ 0.1 = 1.10011001... \\times 2^{-4} $$"
   ]
  },
  {
   "cell_type": "code",
   "execution_count": 19,
   "metadata": {},
   "outputs": [
    {
     "name": "stdout",
     "output_type": "stream",
     "text": [
      "bitstring(0.1f0) = \"00111101110011001100110011001101\"\n",
      "bitstring(0.1) = \"0011111110111001100110011001100110011001100110011001100110011010\"\n"
     ]
    }
   ],
   "source": [
    "@show bitstring(0.1f0) # single precision Float32\n",
    "@show bitstring(0.1);  # double precision Float64"
   ]
  },
  {
   "cell_type": "markdown",
   "metadata": {},
   "source": [
    "* In summary\n",
    "    - Single precision: range $\\pm 10^{\\pm 38}$ with precision up to 7 decimal digits\n",
    "    - Double precision: range $\\pm 10^{\\pm 308}$ with precision up to 16 decimal digits  \n",
    "    - The floating-point numbers do not occur uniformly over the real number line\n",
    "    <img src=\"http://www.volkerschatz.com/science/pics/fltscale-wh.png\" width=\"700\" align=\"center\"/>\n",
    "    Each magnitude has same number of representible numbers\n",
    "    - **Machine epsilons** are the spacings of numbers around 1: \n",
    "    $$\\epsilon_{\\min}=b^{-p}, \\quad  \\epsilon_{\\max} = b^{1-p}.$$\n",
    "    <img src=\"./machine_epsilons.png\" width=\"500\" align=\"center\"/>"
   ]
  },
  {
   "cell_type": "code",
   "execution_count": 20,
   "metadata": {},
   "outputs": [
    {
     "name": "stdout",
     "output_type": "stream",
     "text": [
      "eps(Float32) = 1.1920929f-7\n",
      "eps(Float64) = 2.220446049250313e-16\n",
      "eps(100.0) = 1.4210854715202004e-14\n",
      "eps(0.0) = 5.0e-324\n",
      "x = 1.25f0 = 1.25f0\n",
      "(prevfloat(x), x, nextfloat(x)) = (1.2499999f0, 1.25f0, 1.2500001f0)\n",
      "(bitstring(prevfloat(x)), bitstring(x), bitstring(nextfloat(x))) = (\"00111111100111111111111111111111\", \"00111111101000000000000000000000\", \"00111111101000000000000000000001\")\n"
     ]
    }
   ],
   "source": [
    "@show eps(Float32)  # machine epsilon for a floating point type\n",
    "@show eps(Float64)  # same as eps()\n",
    "# eps(x) is the spacing after x\n",
    "@show eps(100.0)\n",
    "@show eps(0.0)\n",
    "# nextfloat(x) and prevfloat(x) give the neighbors of x\n",
    "@show x = 1.25f0\n",
    "@show prevfloat(x), x, nextfloat(x)\n",
    "@show bitstring(prevfloat(x)), bitstring(x), bitstring(nextfloat(x));"
   ]
  },
  {
   "cell_type": "markdown",
   "metadata": {},
   "source": [
    "* In R, the variable `.Machine` contains numerical characteristics of the machine."
   ]
  },
  {
   "cell_type": "code",
   "execution_count": 21,
   "metadata": {},
   "outputs": [
    {
     "data": {
      "text/plain": [
       "RObject{VecSxp}\n",
       "$double.eps\n",
       "[1] 2.220446e-16\n",
       "\n",
       "$double.neg.eps\n",
       "[1] 1.110223e-16\n",
       "\n",
       "$double.xmin\n",
       "[1] 2.225074e-308\n",
       "\n",
       "$double.xmax\n",
       "[1] 1.797693e+308\n",
       "\n",
       "$double.base\n",
       "[1] 2\n",
       "\n",
       "$double.digits\n",
       "[1] 53\n",
       "\n",
       "$double.rounding\n",
       "[1] 5\n",
       "\n",
       "$double.guard\n",
       "[1] 0\n",
       "\n",
       "$double.ulp.digits\n",
       "[1] -52\n",
       "\n",
       "$double.neg.ulp.digits\n",
       "[1] -53\n",
       "\n",
       "$double.exponent\n",
       "[1] 11\n",
       "\n",
       "$double.min.exp\n",
       "[1] -1022\n",
       "\n",
       "$double.max.exp\n",
       "[1] 1024\n",
       "\n",
       "$integer.max\n",
       "[1] 2147483647\n",
       "\n",
       "$sizeof.long\n",
       "[1] 8\n",
       "\n",
       "$sizeof.longlong\n",
       "[1] 8\n",
       "\n",
       "$sizeof.longdouble\n",
       "[1] 16\n",
       "\n",
       "$sizeof.pointer\n",
       "[1] 8\n",
       "\n"
      ]
     },
     "execution_count": 21,
     "metadata": {},
     "output_type": "execute_result"
    }
   ],
   "source": [
    "R\"\"\"\n",
    ".Machine\n",
    "\"\"\""
   ]
  },
  {
   "cell_type": "markdown",
   "metadata": {},
   "source": [
    "* Julia provides `Float16` (half precision), `Float32` (single precision), `Float64` (double precision), and `BigFloat` (arbitrary precision)."
   ]
  },
  {
   "cell_type": "code",
   "execution_count": 22,
   "metadata": {},
   "outputs": [
    {
     "data": {
      "image/svg+xml": [
       "<?xml version=\"1.0\" encoding=\"utf-8\"?>\n",
       "<svg xmlns=\"http://www.w3.org/2000/svg\" xmlns:xlink=\"http://www.w3.org/1999/xlink\" width=\"600\" height=\"400\" viewBox=\"0 0 2400 1600\">\n",
       "<defs>\n",
       "  <clipPath id=\"clip4400\">\n",
       "    <rect x=\"0\" y=\"0\" width=\"2400\" height=\"1600\"/>\n",
       "  </clipPath>\n",
       "</defs>\n",
       "<polygon clip-path=\"url(#clip4400)\" points=\"\n",
       "0,1600 2400,1600 2400,0 0,0 \n",
       "  \" fill=\"#ffffff\" fill-rule=\"evenodd\" fill-opacity=\"1\"/>\n",
       "<defs>\n",
       "  <clipPath id=\"clip4401\">\n",
       "    <rect x=\"480\" y=\"0\" width=\"1681\" height=\"1600\"/>\n",
       "  </clipPath>\n",
       "</defs>\n",
       "<polygon clip-path=\"url(#clip4400)\" points=\"\n",
       "94.4882,1537.01 2321.26,1537.01 2321.26,47.2441 94.4882,47.2441 \n",
       "  \" fill=\"#ffffff\" fill-rule=\"evenodd\" fill-opacity=\"1\"/>\n",
       "<defs>\n",
       "  <clipPath id=\"clip4402\">\n",
       "    <rect x=\"94\" y=\"47\" width=\"2228\" height=\"1491\"/>\n",
       "  </clipPath>\n",
       "</defs>\n",
       "<polyline clip-path=\"url(#clip4402)\" style=\"stroke:#d968a2; stroke-width:4; stroke-opacity:1; fill:none\" points=\"\n",
       "  2025.12,89.4072 2025.38,102.287 2026.13,115.435 2027.33,128.831 2028.94,142.455 2030.94,156.288 2033.28,170.308 2035.93,184.497 2038.86,198.835 2042.01,213.302 \n",
       "  2045.37,227.878 2048.89,242.543 2052.54,257.278 2056.28,272.062 2060.07,286.876 2063.89,301.7 2067.68,316.514 2071.42,331.298 2075.07,346.033 2078.59,360.698 \n",
       "  2081.94,375.274 2085.1,389.741 2088.03,404.079 2090.68,418.268 2093.02,432.289 2095.02,446.121 2096.63,459.745 2097.83,473.141 2098.58,486.289 2098.84,499.169 \n",
       "  \n",
       "  \"/>\n",
       "<polyline clip-path=\"url(#clip4402)\" style=\"stroke:#d968a2; stroke-width:4; stroke-opacity:1; fill:none\" points=\"\n",
       "  2098.84,499.169 2096.75,509.178 2090.7,518.95 2080.98,528.501 2067.87,537.85 2051.67,547.015 2032.68,556.012 2011.2,564.86 1987.5,573.575 1961.9,582.177 \n",
       "  1934.68,590.681 1906.14,599.107 1876.57,607.47 1846.26,615.79 1815.51,624.083 1784.61,632.368 1753.87,640.661 1723.56,648.981 1693.99,657.345 1665.44,665.77 \n",
       "  1638.22,674.275 1612.62,682.876 1588.93,691.592 1567.44,700.439 1548.45,709.437 1532.26,718.601 1519.15,727.95 1509.42,737.502 1503.37,747.273 1501.29,757.282 \n",
       "  \n",
       "  \"/>\n",
       "<polyline clip-path=\"url(#clip4402)\" style=\"stroke:#d968a2; stroke-width:4; stroke-opacity:1; fill:none\" points=\"\n",
       "  1501.29,757.282 1500.28,766.361 1497.34,775.522 1492.63,784.76 1486.28,794.069 1478.43,803.443 1469.23,812.875 1458.81,822.359 1447.33,831.889 1434.92,841.46 \n",
       "  1421.73,851.064 1407.89,860.696 1393.56,870.349 1378.87,880.018 1363.97,889.696 1349,899.377 1334.09,909.055 1319.41,918.724 1305.07,928.378 1291.24,938.009 \n",
       "  1278.05,947.614 1265.64,957.184 1254.16,966.714 1243.74,976.199 1234.54,985.631 1226.69,995.004 1220.34,1004.31 1215.62,1013.55 1212.69,1022.71 1211.68,1031.79 \n",
       "  \n",
       "  \"/>\n",
       "<polyline clip-path=\"url(#clip4402)\" style=\"stroke:#d968a2; stroke-width:4; stroke-opacity:1; fill:none\" points=\"\n",
       "  1211.68,1031.79 1209.87,1042.25 1204.59,1052.61 1196.1,1062.88 1184.67,1073.07 1170.55,1083.18 1153.99,1093.23 1135.25,1103.21 1114.58,1113.14 1092.25,1123.03 \n",
       "  1068.51,1132.87 1043.62,1142.69 1017.82,1152.47 991.392,1162.24 964.574,1172 937.628,1181.76 910.811,1191.52 884.378,1201.29 858.586,1211.08 833.691,1220.89 \n",
       "  809.951,1230.73 787.62,1240.62 766.957,1250.55 748.216,1260.54 731.656,1270.58 717.531,1280.69 706.099,1290.88 697.615,1301.15 692.337,1311.51 690.521,1321.97 \n",
       "  \n",
       "  \"/>\n",
       "<polyline clip-path=\"url(#clip4402)\" style=\"stroke:#d968a2; stroke-width:4; stroke-opacity:1; fill:none\" points=\"\n",
       "  1211.68,1031.79 1208.01,1047.15 1197.33,1061.9 1180.17,1076.08 1157.05,1089.72 1128.48,1102.89 1094.98,1115.63 1057.07,1127.97 1015.28,1139.97 970.107,1151.68 \n",
       "  922.086,1163.13 871.731,1174.38 819.56,1185.47 766.093,1196.44 711.848,1207.34 657.344,1218.23 603.098,1229.13 549.631,1240.1 497.461,1251.19 447.106,1262.44 \n",
       "  399.085,1273.89 353.916,1285.6 312.12,1297.6 274.213,1309.94 240.715,1322.68 212.144,1335.85 189.02,1349.49 171.86,1363.67 161.184,1378.42 157.51,1393.78 \n",
       "  \n",
       "  \"/>\n",
       "<polyline clip-path=\"url(#clip4402)\" style=\"stroke:#d968a2; stroke-width:4; stroke-opacity:1; fill:none\" points=\"\n",
       "  1211.68,1031.79 1215.33,1046.7 1225.93,1060.96 1242.96,1074.62 1265.92,1087.73 1294.29,1100.33 1327.54,1112.48 1365.17,1124.22 1406.67,1135.6 1451.51,1146.67 \n",
       "  1499.19,1157.47 1549.18,1168.05 1600.97,1178.47 1654.05,1188.77 1707.9,1199 1762.02,1209.2 1815.87,1219.42 1868.95,1229.72 1920.74,1240.14 1970.73,1250.73 \n",
       "  2018.41,1261.53 2063.25,1272.6 2104.75,1283.97 2142.38,1295.71 2175.63,1307.86 2204,1320.46 2226.96,1333.57 2243.99,1347.23 2254.59,1361.49 2258.24,1376.4 \n",
       "  \n",
       "  \"/>\n",
       "<polyline clip-path=\"url(#clip4402)\" style=\"stroke:#d968a2; stroke-width:4; stroke-opacity:1; fill:none\" points=\"\n",
       "  1211.68,1031.79 1212.78,1046.65 1215.96,1061.75 1221.08,1077.07 1227.98,1092.59 1236.51,1108.29 1246.5,1124.16 1257.82,1140.18 1270.29,1156.34 1283.77,1172.6 \n",
       "  1298.09,1188.96 1313.12,1205.41 1328.69,1221.91 1344.64,1238.45 1360.83,1255.03 1377.09,1271.61 1393.28,1288.18 1409.23,1304.73 1424.8,1321.23 1439.82,1337.67 \n",
       "  1454.15,1354.03 1467.63,1370.3 1480.1,1386.45 1491.41,1402.47 1501.41,1418.34 1509.93,1434.05 1516.83,1449.57 1521.96,1464.88 1525.14,1479.98 1526.24,1494.84 \n",
       "  \n",
       "  \"/>\n",
       "<polygon clip-path=\"url(#clip4400)\" points=\"\n",
       "2025.12,113.741 2075.7,101.574 2075.7,77.2406 2025.12,65.0739 1974.55,77.2406 1974.55,101.574 2025.12,113.741 \n",
       "  \" fill=\"#000000\" fill-rule=\"evenodd\" fill-opacity=\"1\"/>\n",
       "<polygon clip-path=\"url(#clip4400)\" points=\"\n",
       "2025.12,112.741 2073.62,101.074 2073.62,77.7406 2025.12,66.0739 1976.62,77.7406 1976.62,101.074 2025.12,112.741 \n",
       "  \" fill=\"#009af9\" fill-rule=\"evenodd\" fill-opacity=\"1\"/>\n",
       "<polygon clip-path=\"url(#clip4400)\" points=\"\n",
       "2098.84,523.002 2197.91,511.086 2197.91,487.252 2098.84,475.336 1999.76,487.252 1999.76,511.086 2098.84,523.002 \n",
       "  \" fill=\"#000000\" fill-rule=\"evenodd\" fill-opacity=\"1\"/>\n",
       "<polygon clip-path=\"url(#clip4400)\" points=\"\n",
       "2098.84,522.502 2195.83,510.836 2195.83,487.502 2098.84,475.836 2001.84,487.502 2001.84,510.836 2098.84,522.502 \n",
       "  \" fill=\"#009af9\" fill-rule=\"evenodd\" fill-opacity=\"1\"/>\n",
       "<polygon clip-path=\"url(#clip4400)\" points=\"\n",
       "1501.29,781.366 1568.03,769.324 1568.03,745.241 1501.29,733.199 1434.55,745.241 1434.55,769.324 1501.29,781.366 \n",
       "  \" fill=\"#000000\" fill-rule=\"evenodd\" fill-opacity=\"1\"/>\n",
       "<polygon clip-path=\"url(#clip4400)\" points=\"\n",
       "1501.29,780.616 1565.95,768.949 1565.95,745.616 1501.29,733.949 1436.62,745.616 1436.62,768.949 1501.29,780.616 \n",
       "  \" fill=\"#009af9\" fill-rule=\"evenodd\" fill-opacity=\"1\"/>\n",
       "<polygon clip-path=\"url(#clip4400)\" points=\"\n",
       "1211.68,1055.36 1423.92,1043.57 1423.92,1020.01 1211.68,1008.23 999.448,1020.01 999.448,1043.57 1211.68,1055.36 \n",
       "  \" fill=\"#000000\" fill-rule=\"evenodd\" fill-opacity=\"1\"/>\n",
       "<polygon clip-path=\"url(#clip4400)\" points=\"\n",
       "1211.68,1055.12 1421.84,1043.46 1421.84,1020.12 1211.68,1008.46 1001.53,1020.12 1001.53,1043.46 1211.68,1055.12 \n",
       "  \" fill=\"#009af9\" fill-rule=\"evenodd\" fill-opacity=\"1\"/>\n",
       "<polygon clip-path=\"url(#clip4400)\" points=\"\n",
       "690.521,1345.68 821.926,1333.82 821.926,1310.12 690.521,1298.26 559.116,1310.12 559.116,1333.82 690.521,1345.68 \n",
       "  \" fill=\"#000000\" fill-rule=\"evenodd\" fill-opacity=\"1\"/>\n",
       "<polygon clip-path=\"url(#clip4400)\" points=\"\n",
       "690.521,1345.3 819.847,1333.64 819.847,1310.3 690.521,1298.64 561.195,1310.3 561.195,1333.64 690.521,1345.3 \n",
       "  \" fill=\"#009af9\" fill-rule=\"evenodd\" fill-opacity=\"1\"/>\n",
       "<polygon clip-path=\"url(#clip4400)\" points=\"\n",
       "157.51,1417.54 272.749,1405.66 272.749,1381.9 157.51,1370.02 42.2709,1381.9 42.2709,1405.66 157.51,1417.54 \n",
       "  \" fill=\"#000000\" fill-rule=\"evenodd\" fill-opacity=\"1\"/>\n",
       "<polygon clip-path=\"url(#clip4400)\" points=\"\n",
       "157.51,1417.11 270.671,1405.45 270.671,1382.11 157.51,1370.45 44.3494,1382.11 44.3494,1405.45 157.51,1417.11 \n",
       "  \" fill=\"#009af9\" fill-rule=\"evenodd\" fill-opacity=\"1\"/>\n",
       "<polygon clip-path=\"url(#clip4400)\" points=\"\n",
       "2258.24,1400.17 2373.48,1388.28 2373.48,1364.52 2258.24,1352.64 2143,1364.52 2143,1388.28 2258.24,1400.17 \n",
       "  \" fill=\"#000000\" fill-rule=\"evenodd\" fill-opacity=\"1\"/>\n",
       "<polygon clip-path=\"url(#clip4400)\" points=\"\n",
       "2258.24,1399.74 2371.4,1388.07 2371.4,1364.74 2258.24,1353.07 2145.08,1364.74 2145.08,1388.07 2258.24,1399.74 \n",
       "  \" fill=\"#009af9\" fill-rule=\"evenodd\" fill-opacity=\"1\"/>\n",
       "<polygon clip-path=\"url(#clip4400)\" points=\"\n",
       "1526.24,1518.61 1641.48,1506.73 1641.48,1482.96 1526.24,1471.08 1411,1482.96 1411,1506.73 1526.24,1518.61 \n",
       "  \" fill=\"#000000\" fill-rule=\"evenodd\" fill-opacity=\"1\"/>\n",
       "<polygon clip-path=\"url(#clip4400)\" points=\"\n",
       "1526.24,1518.18 1639.4,1506.51 1639.4,1483.18 1526.24,1471.51 1413.08,1483.18 1413.08,1506.51 1526.24,1518.18 \n",
       "  \" fill=\"#009af9\" fill-rule=\"evenodd\" fill-opacity=\"1\"/>\n",
       "<g clip-path=\"url(#clip4400)\">\n",
       "<text style=\"fill:#000000; fill-opacity:1; font-family:Arial,Helvetica Neue,Helvetica,sans-serif; font-size:84px; text-anchor:middle;\" transform=\"rotate(0, 2025.12, 119.907)\" x=\"2025.12\" y=\"119.907\">Any</text>\n",
       "</g>\n",
       "<g clip-path=\"url(#clip4400)\">\n",
       "<text style=\"fill:#000000; fill-opacity:1; font-family:Arial,Helvetica Neue,Helvetica,sans-serif; font-size:84px; text-anchor:middle;\" transform=\"rotate(0, 2098.84, 529.669)\" x=\"2098.84\" y=\"529.669\">Number</text>\n",
       "</g>\n",
       "<g clip-path=\"url(#clip4400)\">\n",
       "<text style=\"fill:#000000; fill-opacity:1; font-family:Arial,Helvetica Neue,Helvetica,sans-serif; font-size:84px; text-anchor:middle;\" transform=\"rotate(0, 1501.29, 787.782)\" x=\"1501.29\" y=\"787.782\">Real</text>\n",
       "</g>\n",
       "<g clip-path=\"url(#clip4400)\">\n",
       "<text style=\"fill:#000000; fill-opacity:1; font-family:Arial,Helvetica Neue,Helvetica,sans-serif; font-size:84px; text-anchor:middle;\" transform=\"rotate(0, 1211.68, 1062.29)\" x=\"1211.68\" y=\"1062.29\">AbstractFloat</text>\n",
       "</g>\n",
       "<g clip-path=\"url(#clip4400)\">\n",
       "<text style=\"fill:#000000; fill-opacity:1; font-family:Arial,Helvetica Neue,Helvetica,sans-serif; font-size:84px; text-anchor:middle;\" transform=\"rotate(0, 690.521, 1352.47)\" x=\"690.521\" y=\"1352.47\">BigFloat</text>\n",
       "</g>\n",
       "<g clip-path=\"url(#clip4400)\">\n",
       "<text style=\"fill:#000000; fill-opacity:1; font-family:Arial,Helvetica Neue,Helvetica,sans-serif; font-size:84px; text-anchor:middle;\" transform=\"rotate(0, 157.51, 1424.28)\" x=\"157.51\" y=\"1424.28\">Float16</text>\n",
       "</g>\n",
       "<g clip-path=\"url(#clip4400)\">\n",
       "<text style=\"fill:#000000; fill-opacity:1; font-family:Arial,Helvetica Neue,Helvetica,sans-serif; font-size:84px; text-anchor:middle;\" transform=\"rotate(0, 2258.24, 1406.9)\" x=\"2258.24\" y=\"1406.9\">Float32</text>\n",
       "</g>\n",
       "<g clip-path=\"url(#clip4400)\">\n",
       "<text style=\"fill:#000000; fill-opacity:1; font-family:Arial,Helvetica Neue,Helvetica,sans-serif; font-size:84px; text-anchor:middle;\" transform=\"rotate(0, 1526.24, 1525.34)\" x=\"1526.24\" y=\"1525.34\">Float64</text>\n",
       "</g>\n",
       "</svg>\n"
      ]
     },
     "execution_count": 22,
     "metadata": {},
     "output_type": "execute_result"
    }
   ],
   "source": [
    "using GraphRecipes\n",
    "using Plots\n",
    "\n",
    "#pyplot(size=(800, 600))\n",
    "gr(size=(600, 400))\n",
    "theme(:default)\n",
    "\n",
    "plot(AbstractFloat, method=:tree, fontsize=4)"
   ]
  },
  {
   "cell_type": "markdown",
   "metadata": {},
   "source": [
    "## Overflow and underflow of floating-point number\n",
    "\n",
    "* For double precision, the range is $\\pm 10^{\\pm 308}$. In most situations, underflow is preferred over overflow. Overflow causes crashes. Underflow yields zeros or denormalized numbers. \n",
    "\n",
    "* E.g., the logit link function is\n",
    "$$p = \\frac{\\exp (x^T \\beta)}{1 + \\exp (x^T \\beta)} = \\frac{1}{1+\\exp(- x^T \\beta)}.$$\n",
    "The former expression can easily lead to `Inf / Inf = NaN`, while the latter expression leads to graceful underflow."
   ]
  },
  {
   "cell_type": "code",
   "execution_count": 23,
   "metadata": {},
   "outputs": [
    {
     "name": "stdout",
     "output_type": "stream",
     "text": [
      "Float16\t6.104e-5\t6.55e4\t6.104e-5\t6.55e4\t0.000977\n",
      "Float32\t1.1754944e-38\t3.4028235e38\t1.1754944e-38\t3.4028235e38\t1.1920929e-7\n",
      "Float64\t2.2250738585072014e-308\t1.7976931348623157e308\t2.2250738585072014e-308\t1.7976931348623157e308\t2.220446049250313e-16\n"
     ]
    }
   ],
   "source": [
    "for T in [Float16, Float32, Float64]\n",
    "    println(T, '\\t', floatmin(T), '\\t', floatmax(T), '\\t', floatmin(T), \n",
    "        '\\t', floatmax(T), '\\t', eps(T))\n",
    "end"
   ]
  },
  {
   "cell_type": "markdown",
   "metadata": {},
   "source": [
    "* `BigFloat` in Julia offers arbitrary precision."
   ]
  },
  {
   "cell_type": "code",
   "execution_count": 24,
   "metadata": {},
   "outputs": [
    {
     "name": "stdout",
     "output_type": "stream",
     "text": [
      "precision(BigFloat) = 256\n",
      "floatmin(BigFloat) = 8.50969131174083613912978790962048280567755996982969624908264897850135431080301e-1388255822130839284\n",
      "floatmax(BigFloat) = 5.875653789111587590936911998878442589938516392745498308333779606469323584389875e+1388255822130839282\n"
     ]
    }
   ],
   "source": [
    "@show precision(BigFloat)\n",
    "@show floatmin(BigFloat)\n",
    "@show floatmax(BigFloat);"
   ]
  },
  {
   "cell_type": "code",
   "execution_count": 25,
   "metadata": {},
   "outputs": [
    {
     "name": "stdout",
     "output_type": "stream",
     "text": [
      "BigFloat(π) = 3.141592653589793238462643383279502884197169399375105820974944592307816406286198\n",
      "BigFloat(π) = 3.141592653589793238462643383279502884197169399375105820974944592307816406286208998628034825342117067982148086513282306647093844609550582231725359408128481117450284102701938521105559644622948954930381964428810975665933446128475648233786783165271201909145648566923460348610454326648213393607260249141273724586997\n"
     ]
    }
   ],
   "source": [
    "@show BigFloat(π); # default precision for BigFloat is 256 bits\n",
    "# set precision to 1024 bits\n",
    "setprecision(BigFloat, 1024) do \n",
    "    @show BigFloat(π)\n",
    "end;"
   ]
  },
  {
   "cell_type": "markdown",
   "metadata": {},
   "source": [
    "## Catastrophic cancellation\n",
    "\n",
    "* **Scenario 1**: Addition or subtraction of two numbers of widely different magnitudes: $a+b$ or $a-b$ where $a \\gg b$ or $a \\ll b$. We loose the precision in the number of smaller magnitude. Consider \n",
    "$$\\begin{eqnarray*}\n",
    "    a &=& x.xxx ... \\times 2^{30} \\\\  \n",
    "    b &=& y.yyy... \\times 2^{-30}\n",
    "\\end{eqnarray*}$$\n",
    "What happens when computer calculates $a+b$? We get $a+b=a$!"
   ]
  },
  {
   "cell_type": "code",
   "execution_count": 26,
   "metadata": {},
   "outputs": [
    {
     "data": {
      "text/plain": [
       "true"
      ]
     },
     "execution_count": 26,
     "metadata": {},
     "output_type": "execute_result"
    }
   ],
   "source": [
    "a = 1.0 * 2.0^30\n",
    "b = 1.0 * 2.0^-30\n",
    "a + b == a"
   ]
  },
  {
   "cell_type": "markdown",
   "metadata": {},
   "source": [
    "* **Scenario 2**: Subtraction of two nearly equal numbers eliminates significant digits.  $a-b$ where $a \\approx b$. Consider \n",
    "$$\\begin{eqnarray*}\n",
    "    a &=& x.xxxxxxxxxx1ssss  \\\\\n",
    "    b &=& x.xxxxxxxxxx0tttt\n",
    "\\end{eqnarray*}$$\n",
    "The result is $1.vvvvu...u$ where $u$ are unassigned digits."
   ]
  },
  {
   "cell_type": "code",
   "execution_count": 27,
   "metadata": {},
   "outputs": [
    {
     "name": "stdout",
     "output_type": "stream",
     "text": [
      "bitstring(a) = \"00111111100111100000011001010001\"\n",
      "bitstring(b) = \"00111111100111100000011001010000\"\n",
      "a - b = 1.1920929f-7\n",
      "bitstring(a - b) = \"00110100000000000000000000000000\"\n"
     ]
    }
   ],
   "source": [
    "a = 1.2345678f0 # rounding\n",
    "@show bitstring(a) # rounding\n",
    "b = 1.2345677f0\n",
    "@show bitstring(b)\n",
    "@show a - b # correct result should be 1e-7\n",
    "@show bitstring(a - b);"
   ]
  },
  {
   "cell_type": "markdown",
   "metadata": {},
   "source": [
    "* Implications for numerical computation\n",
    "    - Rule 1: add small numbers together before adding larger ones  \n",
    "    - Rule 2: add numbers of like magnitude together (paring). When all numbers are of same sign and similar magnitude, add in pairs so each stage the summands are of similar magnitude  \n",
    "    - Rule 3: avoid substraction of two numbers that are nearly equal"
   ]
  },
  {
   "cell_type": "markdown",
   "metadata": {},
   "source": [
    "### Algebraic laws\n",
    "\n",
    "Floating-point numbers may violate many algebraic laws we are familiar with, such associative and distributive laws. See Homework 1 problems."
   ]
  },
  {
   "cell_type": "markdown",
   "metadata": {},
   "source": [
    "## Further reading\n",
    "\n",
    "* Textbook treatment, e.g., Chapter II.2 of [Computational Statistics](http://ucla.worldcat.org/title/computational-statistics/oclc/437345409&referer=brief_results) by James Gentle (2010).\n",
    "\n",
    "* [What every computer scientist should know about floating-point arithmetic](http://hua-zhou.github.io/teaching/biostatm280-2017spring/readings/Goldberg91FloatingPoint.pdf) by David Goldberg (1991)."
   ]
  }
 ],
 "metadata": {
  "kernelspec": {
   "display_name": "Julia 1.1.0",
   "language": "julia",
   "name": "julia-1.1"
  },
  "language_info": {
   "file_extension": ".jl",
   "mimetype": "application/julia",
   "name": "julia",
   "version": "1.1.0"
  },
  "toc": {
   "colors": {
    "hover_highlight": "#DAA520",
    "running_highlight": "#FF0000",
    "selected_highlight": "#FFD700"
   },
   "moveMenuLeft": true,
   "nav_menu": {
    "height": "250px",
    "width": "252px"
   },
   "navigate_menu": true,
   "number_sections": true,
   "sideBar": true,
   "skip_h1_title": true,
   "threshold": 4,
   "toc_cell": false,
   "toc_section_display": "block",
   "toc_window_display": true,
   "widenNotebook": false
  }
 },
 "nbformat": 4,
 "nbformat_minor": 2
}
