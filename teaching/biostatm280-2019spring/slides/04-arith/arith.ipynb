{
 "cells": [
  {
   "cell_type": "markdown",
   "metadata": {},
   "source": [
    "# Computer arithmetics"
   ]
  },
  {
   "cell_type": "code",
   "execution_count": 1,
   "metadata": {},
   "outputs": [
    {
     "name": "stdout",
     "output_type": "stream",
     "text": [
      "Julia Version 1.1.0\n",
      "Commit 80516ca202 (2019-01-21 21:24 UTC)\n",
      "Platform Info:\n",
      "  OS: macOS (x86_64-apple-darwin14.5.0)\n",
      "  CPU: Intel(R) Core(TM) i7-6920HQ CPU @ 2.90GHz\n",
      "  WORD_SIZE: 64\n",
      "  LIBM: libopenlibm\n",
      "  LLVM: libLLVM-6.0.1 (ORCJIT, skylake)\n",
      "Environment:\n",
      "  JULIA_EDITOR = code\n"
     ]
    }
   ],
   "source": [
    "versioninfo()"
   ]
  },
  {
   "cell_type": "markdown",
   "metadata": {},
   "source": [
    "## Units of computer storage\n",
    "\n",
    "* `bit` = `binary` + `digit` (coined by statistician [John Tukey](https://en.wikipedia.org/wiki/Bit#History)).  \n",
    "* `byte` = 8 bits.  \n",
    "* KB = kilobyte = $10^3$ bytes.  \n",
    "* MB = megabytes = $10^6$ bytes.  \n",
    "* GB = gigabytes = $10^9$ bytes. Typical RAM size.  \n",
    "* TB = terabytes = $10^{12}$ bytes. Typical hard drive size. Size of NYSE each trading session.    \n",
    "* PB = petabytes = $10^{15}$ bytes.  \n",
    "* EB = exabytes = $10^{18}$ bytes. Size of all healthcare data in 2011 is ~150 EB.    \n",
    "* ZB = zetabytes = $10^{21}$ bytes. \n",
    "\n",
    "Julia function `Base.summarysize` shows the amount of memory (in bytes) used by an object."
   ]
  },
  {
   "cell_type": "code",
   "execution_count": 2,
   "metadata": {},
   "outputs": [
    {
     "data": {
      "text/plain": [
       "80040"
      ]
     },
     "execution_count": 2,
     "metadata": {},
     "output_type": "execute_result"
    }
   ],
   "source": [
    "x = rand(100, 100)\n",
    "Base.summarysize(x)"
   ]
  },
  {
   "cell_type": "markdown",
   "metadata": {},
   "source": [
    "`varinfo()` function prints all variables in workspace and their sizes."
   ]
  },
  {
   "cell_type": "code",
   "execution_count": 3,
   "metadata": {},
   "outputs": [
    {
     "data": {
      "text/latex": [
       "\\begin{tabular}\n",
       "{l | r | l}\n",
       "name & size & summary \\\\\n",
       "\\hline\n",
       "Base &  & Module \\\\\n",
       "Core &  & Module \\\\\n",
       "Main &  & Module \\\\\n",
       "x & 78.164 KiB & 100×100 Array\\{Float64,2\\} \\\\\n",
       "\\end{tabular}\n"
      ],
      "text/markdown": [
       "| name |       size | summary                  |\n",
       "|:---- | ----------:|:------------------------ |\n",
       "| Base |            | Module                   |\n",
       "| Core |            | Module                   |\n",
       "| Main |            | Module                   |\n",
       "| x    | 78.164 KiB | 100×100 Array{Float64,2} |\n"
      ],
      "text/plain": [
       "name       size summary                 \n",
       "–––– –––––––––– ––––––––––––––––––––––––\n",
       "Base            Module                  \n",
       "Core            Module                  \n",
       "Main            Module                  \n",
       "x    78.164 KiB 100×100 Array{Float64,2}"
      ]
     },
     "execution_count": 3,
     "metadata": {},
     "output_type": "execute_result"
    }
   ],
   "source": [
    "varinfo() # similar to Matlab whos()"
   ]
  },
  {
   "cell_type": "markdown",
   "metadata": {},
   "source": [
    "## Storage of Characters\n",
    "\n",
    "* Plain text files are stored in the form of characters: `.jl`, `.r`, `.c`, `.cpp`, `.ipynb`, `.html`, `.tex`, ...  \n",
    "* ASCII (American Code for Information Interchange): 7 bits, only $2^7=128$ characters.  "
   ]
  },
  {
   "cell_type": "code",
   "execution_count": 4,
   "metadata": {},
   "outputs": [
    {
     "data": {
      "text/plain": [
       "128×2 Array{Any,2}:\n",
       "   0  '\\0'  \n",
       "   1  '\\x01'\n",
       "   2  '\\x02'\n",
       "   3  '\\x03'\n",
       "   4  '\\x04'\n",
       "   5  '\\x05'\n",
       "   6  '\\x06'\n",
       "   7  '\\a'  \n",
       "   8  '\\b'  \n",
       "   9  '\\t'  \n",
       "  10  '\\n'  \n",
       "  11  '\\v'  \n",
       "  12  '\\f'  \n",
       "   ⋮        \n",
       " 116  't'   \n",
       " 117  'u'   \n",
       " 118  'v'   \n",
       " 119  'w'   \n",
       " 120  'x'   \n",
       " 121  'y'   \n",
       " 122  'z'   \n",
       " 123  '{'   \n",
       " 124  '|'   \n",
       " 125  '}'   \n",
       " 126  '~'   \n",
       " 127  '\\x7f'"
      ]
     },
     "execution_count": 4,
     "metadata": {},
     "output_type": "execute_result"
    }
   ],
   "source": [
    "# integers 0, 1, ..., 127 and corresponding ascii character\n",
    "# show(STDOUT, \"text/plain\", [0:127 Char.(0:127)]) \n",
    "[0:127 Char.(0:127)]"
   ]
  },
  {
   "cell_type": "markdown",
   "metadata": {},
   "source": [
    "* Extended ASCII: 8 bits, $2^8=256$ characters.  "
   ]
  },
  {
   "cell_type": "code",
   "execution_count": 5,
   "metadata": {},
   "outputs": [
    {
     "data": {
      "text/plain": [
       "128×2 Array{Any,2}:\n",
       " 128  '\\u80'\n",
       " 129  '\\u81'\n",
       " 130  '\\u82'\n",
       " 131  '\\u83'\n",
       " 132  '\\u84'\n",
       " 133  '\\u85'\n",
       " 134  '\\u86'\n",
       " 135  '\\u87'\n",
       " 136  '\\u88'\n",
       " 137  '\\u89'\n",
       " 138  '\\u8a'\n",
       " 139  '\\u8b'\n",
       " 140  '\\u8c'\n",
       "   ⋮        \n",
       " 244  'ô'   \n",
       " 245  'õ'   \n",
       " 246  'ö'   \n",
       " 247  '÷'   \n",
       " 248  'ø'   \n",
       " 249  'ù'   \n",
       " 250  'ú'   \n",
       " 251  'û'   \n",
       " 252  'ü'   \n",
       " 253  'ý'   \n",
       " 254  'þ'   \n",
       " 255  'ÿ'   "
      ]
     },
     "execution_count": 5,
     "metadata": {},
     "output_type": "execute_result"
    }
   ],
   "source": [
    "# integers 128, 129, ..., 255 and corresponding extended ascii character\n",
    "# show(STDOUT, \"text/plain\", [128:255 Char.(128:255)])\n",
    "[128:255 Char.(128:255)]"
   ]
  },
  {
   "cell_type": "markdown",
   "metadata": {},
   "source": [
    "* Unicode: UTF-8, UTF-16 and UTF-32 support many more characters including foreign characters; last 7 digits conform to ASCII. \n",
    "\n",
    "* [UTF-8](https://en.wikipedia.org/wiki/UTF-8) is the current dominant character encoding on internet.  \n",
    "\n",
    "<img src=\"https://upload.wikimedia.org/wikipedia/commons/c/c4/Utf8webgrowth.svg\" width=\"500\" align=\"center\"/>\n",
    "\n",
    "* Julia supports the full range of UTF-8 characters. You can type many Unicode math symbols by typing the backslashed LaTeX symbol name followed by tab. "
   ]
  },
  {
   "cell_type": "code",
   "execution_count": 6,
   "metadata": {},
   "outputs": [
    {
     "data": {
      "text/plain": [
       "0.0"
      ]
     },
     "execution_count": 6,
     "metadata": {},
     "output_type": "execute_result"
    }
   ],
   "source": [
    "# \\beta-<tab>\n",
    "β = 0.0\n",
    "# \\beta-<tab>-\\hat-<tab>\n",
    "β̂ = 0.0"
   ]
  },
  {
   "cell_type": "markdown",
   "metadata": {},
   "source": [
    "## Integers: fixed-point number system\n",
    "\n",
    "* Fixed-point number system is a computer model for integers $\\mathbb{Z}$. \n",
    "\n",
    "* The number of bits and method of representing negative numbers vary from system to system. \n",
    "    - The `integer` type in R has $M=32$ or 64 bits. \n",
    "    - Matlab has `(u)int8`, `(u)int16`, `(u)int32`, `(u)int64`.  \n",
    "    - Julia has even more integer types. Using Tom Breloff's `Plots.jl` and `PlotRecipes.jl` packages, we can [visualize the type tree](http://www.breloff.com/Graphs/) under `Integer`\n",
    "    - Storage for a `Signed` or `Unsigned` integer can be $M = 8, 16, 32, 64$ or 128 bits.  \n",
    "    - GraphRecipes.jl package has a convenience function for plotting the type hiearchy."
   ]
  },
  {
   "cell_type": "code",
   "execution_count": 7,
   "metadata": {},
   "outputs": [
    {
     "data": {
      "image/svg+xml": [
       "<?xml version=\"1.0\" encoding=\"utf-8\"?>\n",
       "<svg xmlns=\"http://www.w3.org/2000/svg\" xmlns:xlink=\"http://www.w3.org/1999/xlink\" width=\"600\" height=\"400\" viewBox=\"0 0 2400 1600\">\n",
       "<defs>\n",
       "  <clipPath id=\"clip5600\">\n",
       "    <rect x=\"0\" y=\"0\" width=\"2400\" height=\"1600\"/>\n",
       "  </clipPath>\n",
       "</defs>\n",
       "<polygon clip-path=\"url(#clip5600)\" points=\"\n",
       "0,1600 2400,1600 2400,0 0,0 \n",
       "  \" fill=\"#363c46\" fill-rule=\"evenodd\" fill-opacity=\"1\"/>\n",
       "<defs>\n",
       "  <clipPath id=\"clip5601\">\n",
       "    <rect x=\"480\" y=\"0\" width=\"1681\" height=\"1600\"/>\n",
       "  </clipPath>\n",
       "</defs>\n",
       "<polygon clip-path=\"url(#clip5600)\" points=\"\n",
       "94.4882,1537.01 2321.26,1537.01 2321.26,47.2441 94.4882,47.2441 \n",
       "  \" fill=\"#30343b\" fill-rule=\"evenodd\" fill-opacity=\"1\"/>\n",
       "<defs>\n",
       "  <clipPath id=\"clip5602\">\n",
       "    <rect x=\"94\" y=\"47\" width=\"2228\" height=\"1491\"/>\n",
       "  </clipPath>\n",
       "</defs>\n",
       "<polyline clip-path=\"url(#clip5602)\" style=\"stroke:#00ab83; stroke-width:4; stroke-opacity:1; fill:none\" points=\"\n",
       "  1215.8,89.4072 1215.68,97.3544 1215.33,105.463 1214.75,113.721 1213.98,122.116 1213.02,130.637 1211.91,139.272 1210.64,148.008 1209.24,156.834 1207.73,165.737 \n",
       "  1206.13,174.707 1204.45,183.73 1202.7,192.795 1200.92,201.889 1199.11,211.002 1197.28,220.121 1195.47,229.234 1193.69,238.328 1191.94,247.393 1190.26,256.416 \n",
       "  1188.66,265.386 1187.15,274.289 1185.75,283.115 1184.48,291.851 1183.36,300.486 1182.41,309.007 1181.64,317.402 1181.06,325.66 1180.71,333.769 1180.58,341.716 \n",
       "  \n",
       "  \"/>\n",
       "<polyline clip-path=\"url(#clip5602)\" style=\"stroke:#00ab83; stroke-width:4; stroke-opacity:1; fill:none\" points=\"\n",
       "  1180.58,341.716 1180.47,353.13 1180.14,364.783 1179.62,376.655 1178.91,388.73 1178.03,400.99 1177.01,413.417 1175.84,425.993 1174.56,438.701 1173.18,451.524 \n",
       "  1171.7,464.444 1170.16,477.443 1168.56,490.503 1166.92,503.607 1165.25,516.738 1163.58,529.878 1161.92,543.009 1160.28,556.113 1158.68,569.174 1157.13,582.172 \n",
       "  1155.66,595.092 1154.28,607.915 1152.99,620.623 1151.83,633.2 1150.8,645.627 1149.93,657.886 1149.22,669.961 1148.69,681.833 1148.37,693.486 1148.25,704.901 \n",
       "  \n",
       "  \"/>\n",
       "<polyline clip-path=\"url(#clip5602)\" style=\"stroke:#00ab83; stroke-width:4; stroke-opacity:1; fill:none\" points=\"\n",
       "  1148.25,704.901 1148.55,709.956 1149.41,715.054 1150.8,720.192 1152.67,725.367 1154.98,730.575 1157.69,735.813 1160.75,741.078 1164.13,746.367 1167.78,751.676 \n",
       "  1171.67,757.003 1175.74,762.344 1179.96,767.696 1184.28,773.057 1188.66,778.422 1193.07,783.788 1197.46,789.153 1201.78,794.513 1206,799.866 1210.07,805.207 \n",
       "  1213.95,810.534 1217.6,815.843 1220.98,821.132 1224.05,826.397 1226.76,831.635 1229.07,836.843 1230.94,842.017 1232.32,847.155 1233.19,852.253 1233.48,857.309 \n",
       "  \n",
       "  \"/>\n",
       "<polyline clip-path=\"url(#clip5602)\" style=\"stroke:#00ab83; stroke-width:4; stroke-opacity:1; fill:none\" points=\"\n",
       "  1233.48,857.309 1233.98,866.532 1235.43,875.852 1237.76,885.261 1240.9,894.752 1244.78,904.318 1249.33,913.952 1254.48,923.647 1260.15,933.395 1266.29,943.19 \n",
       "  1272.81,953.023 1279.65,962.889 1286.73,972.78 1293.99,982.689 1301.36,992.609 1308.76,1002.53 1316.13,1012.45 1323.39,1022.36 1330.47,1032.25 1337.31,1042.12 \n",
       "  1343.83,1051.95 1349.97,1061.75 1355.64,1071.49 1360.79,1081.19 1365.34,1090.82 1369.22,1100.39 1372.36,1109.88 1374.69,1119.29 1376.14,1128.61 1376.64,1137.83 \n",
       "  \n",
       "  \"/>\n",
       "<polyline clip-path=\"url(#clip5602)\" style=\"stroke:#00ab83; stroke-width:4; stroke-opacity:1; fill:none\" points=\"\n",
       "  1233.48,857.309 1233.38,869.325 1233.09,881.591 1232.63,894.091 1232,906.805 1231.22,919.714 1230.31,932.8 1229.28,946.044 1228.15,959.428 1226.92,972.933 \n",
       "  1225.62,986.541 1224.25,1000.23 1222.83,1013.99 1221.38,1027.79 1219.91,1041.62 1218.43,1055.46 1216.96,1069.29 1215.5,1083.1 1214.09,1096.85 1212.72,1110.54 \n",
       "  1211.41,1124.15 1210.19,1137.65 1209.05,1151.04 1208.02,1164.28 1207.11,1177.37 1206.34,1190.28 1205.71,1202.99 1205.24,1215.49 1204.95,1227.76 1204.85,1239.77 \n",
       "  \n",
       "  \"/>\n",
       "<polyline clip-path=\"url(#clip5602)\" style=\"stroke:#00ab83; stroke-width:4; stroke-opacity:1; fill:none\" points=\"\n",
       "  1233.48,857.309 1231.66,872.168 1226.38,886.442 1217.89,900.174 1206.44,913.407 1192.3,926.185 1175.72,938.551 1156.96,950.549 1136.27,962.221 1113.92,973.611 \n",
       "  1090.15,984.763 1065.23,995.72 1039.41,1006.52 1012.95,1017.22 986.099,1027.85 959.123,1038.46 932.275,1049.09 905.812,1059.79 879.992,1070.6 855.069,1081.55 \n",
       "  831.302,1092.7 808.947,1104.09 788.26,1115.77 769.499,1127.76 752.92,1140.13 738.779,1152.91 727.334,1166.14 718.841,1179.87 713.557,1194.15 711.739,1209.01 \n",
       "  \n",
       "  \"/>\n",
       "<polyline clip-path=\"url(#clip5602)\" style=\"stroke:#00ab83; stroke-width:4; stroke-opacity:1; fill:none\" points=\"\n",
       "  711.739,1209.01 712.536,1216.32 714.852,1223.44 718.575,1230.4 723.592,1237.19 729.791,1243.84 737.058,1250.36 745.282,1256.76 754.351,1263.05 764.15,1269.26 \n",
       "  774.569,1275.39 785.494,1281.45 796.812,1287.47 808.412,1293.46 820.181,1299.42 832.006,1305.38 843.775,1311.34 855.375,1317.33 866.694,1323.35 877.619,1329.41 \n",
       "  888.037,1335.54 897.837,1341.75 906.905,1348.04 915.129,1354.44 922.397,1360.96 928.595,1367.61 933.612,1374.4 937.335,1381.36 939.652,1388.48 940.449,1395.79 \n",
       "  \n",
       "  \"/>\n",
       "<polyline clip-path=\"url(#clip5602)\" style=\"stroke:#00ab83; stroke-width:4; stroke-opacity:1; fill:none\" points=\"\n",
       "  711.739,1209.01 710.174,1219.39 705.629,1229.08 698.322,1238.13 688.475,1246.6 676.31,1254.52 662.046,1261.97 645.906,1268.98 628.108,1275.6 608.876,1281.89 \n",
       "  588.428,1287.91 566.987,1293.69 544.772,1299.29 522.006,1304.77 498.908,1310.17 475.7,1315.54 452.602,1320.94 429.836,1326.41 407.621,1332.02 386.18,1337.8 \n",
       "  365.733,1343.81 346.5,1350.11 328.703,1356.73 312.562,1363.74 298.298,1371.18 286.133,1379.11 276.286,1387.58 268.98,1396.63 264.434,1406.32 262.869,1416.7 \n",
       "  \n",
       "  \"/>\n",
       "<polyline clip-path=\"url(#clip5602)\" style=\"stroke:#00ab83; stroke-width:4; stroke-opacity:1; fill:none\" points=\"\n",
       "  711.739,1209.01 711.87,1217.9 712.25,1226.98 712.862,1236.23 713.686,1245.63 714.704,1255.17 715.897,1264.84 717.248,1274.62 718.738,1284.5 720.347,1294.47 \n",
       "  722.058,1304.52 723.853,1314.62 725.712,1324.78 727.617,1334.96 729.55,1345.17 731.492,1355.38 733.425,1365.59 735.331,1375.77 737.19,1385.93 738.984,1396.03 \n",
       "  740.695,1406.08 742.305,1416.05 743.794,1425.93 745.145,1435.72 746.339,1445.38 747.357,1454.93 748.181,1464.33 748.792,1473.57 749.173,1482.65 749.304,1491.55 \n",
       "  \n",
       "  \"/>\n",
       "<polyline clip-path=\"url(#clip5602)\" style=\"stroke:#00ab83; stroke-width:4; stroke-opacity:1; fill:none\" points=\"\n",
       "  711.739,1209.01 711.181,1214.62 709.561,1220.14 706.956,1225.57 703.446,1230.92 699.11,1236.2 694.025,1241.41 688.272,1246.56 681.928,1251.66 675.072,1256.71 \n",
       "  667.783,1261.72 660.14,1266.7 652.222,1271.66 644.106,1276.6 635.873,1281.53 627.6,1286.45 619.367,1291.38 611.251,1296.32 603.333,1301.27 595.69,1306.25 \n",
       "  588.401,1311.27 581.545,1316.32 575.201,1321.42 569.448,1326.57 564.363,1331.78 560.027,1337.05 556.517,1342.4 553.912,1347.83 552.292,1353.35 551.734,1358.97 \n",
       "  \n",
       "  \"/>\n",
       "<polyline clip-path=\"url(#clip5602)\" style=\"stroke:#00ab83; stroke-width:4; stroke-opacity:1; fill:none\" points=\"\n",
       "  711.739,1209.01 709.807,1215.91 704.194,1222.36 695.173,1228.38 683.015,1234.01 667.994,1239.29 650.383,1244.24 630.453,1248.9 608.479,1253.31 584.731,1257.5 \n",
       "  559.484,1261.5 533.01,1265.34 505.582,1269.07 477.472,1272.71 448.952,1276.31 420.297,1279.88 391.777,1283.47 363.667,1287.12 336.239,1290.84 309.764,1294.69 \n",
       "  284.517,1298.69 260.77,1302.88 238.796,1307.28 218.866,1311.95 201.255,1316.9 186.234,1322.17 174.076,1327.8 165.055,1333.83 159.442,1340.27 157.51,1347.18 \n",
       "  \n",
       "  \"/>\n",
       "<polyline clip-path=\"url(#clip5602)\" style=\"stroke:#00ab83; stroke-width:4; stroke-opacity:1; fill:none\" points=\"\n",
       "  711.739,1209.01 710.652,1217.14 707.494,1224.85 702.419,1232.16 695.579,1239.09 687.128,1245.69 677.219,1251.99 666.007,1258.02 653.644,1263.8 640.284,1269.38 \n",
       "  626.08,1274.78 611.185,1280.04 595.754,1285.19 579.939,1290.25 563.893,1295.27 547.772,1300.27 531.726,1305.29 515.911,1310.36 500.48,1315.5 485.586,1320.76 \n",
       "  471.381,1326.16 458.021,1331.74 445.658,1337.52 434.446,1343.55 424.537,1349.85 416.086,1356.45 409.246,1363.39 404.171,1370.69 401.013,1378.4 399.926,1386.54 \n",
       "  \n",
       "  \"/>\n",
       "<polyline clip-path=\"url(#clip5602)\" style=\"stroke:#00ab83; stroke-width:4; stroke-opacity:1; fill:none\" points=\"\n",
       "  1233.48,857.309 1235.31,871.469 1240.61,884.963 1249.13,897.839 1260.62,910.147 1274.81,921.937 1291.44,933.257 1310.27,944.157 1331.03,954.688 1353.46,964.896 \n",
       "  1377.31,974.834 1402.32,984.549 1428.23,994.091 1454.79,1003.51 1481.73,1012.85 1508.8,1022.17 1535.74,1031.52 1562.3,1040.94 1588.21,1050.48 1613.22,1060.19 \n",
       "  1637.07,1070.13 1659.5,1080.34 1680.26,1090.87 1699.09,1101.77 1715.72,1113.09 1729.91,1124.88 1741.4,1137.19 1749.92,1150.07 1755.22,1163.56 1757.05,1177.72 \n",
       "  \n",
       "  \"/>\n",
       "<polyline clip-path=\"url(#clip5602)\" style=\"stroke:#00ab83; stroke-width:4; stroke-opacity:1; fill:none\" points=\"\n",
       "  1757.05,1177.72 1758.8,1187.8 1763.87,1197.22 1772.03,1206.01 1783.02,1214.23 1796.61,1221.93 1812.53,1229.16 1830.56,1235.97 1850.43,1242.4 1871.9,1248.51 \n",
       "  1894.73,1254.35 1918.67,1259.97 1943.48,1265.41 1968.9,1270.73 1994.69,1275.97 2020.6,1281.19 2046.39,1286.44 2071.81,1291.76 2096.61,1297.2 2120.55,1302.82 \n",
       "  2143.39,1308.65 2164.86,1314.77 2184.73,1321.2 2202.75,1328.01 2218.68,1335.24 2232.26,1342.94 2243.26,1351.16 2251.42,1359.95 2256.49,1369.37 2258.24,1379.45 \n",
       "  \n",
       "  \"/>\n",
       "<polyline clip-path=\"url(#clip5602)\" style=\"stroke:#00ab83; stroke-width:4; stroke-opacity:1; fill:none\" points=\"\n",
       "  1757.05,1177.72 1757.83,1188.57 1760.11,1199.43 1763.77,1210.32 1768.7,1221.22 1774.8,1232.13 1781.95,1243.06 1790.03,1254 1798.95,1264.95 1808.59,1275.91 \n",
       "  1818.83,1286.88 1829.58,1297.85 1840.71,1308.83 1852.12,1319.81 1863.69,1330.79 1875.32,1341.77 1886.89,1352.76 1898.3,1363.74 1909.43,1374.72 1920.17,1385.69 \n",
       "  1930.42,1396.66 1940.06,1407.61 1948.97,1418.56 1957.06,1429.5 1964.21,1440.43 1970.3,1451.35 1975.24,1462.25 1978.9,1473.13 1981.18,1484 1981.96,1494.84 \n",
       "  \n",
       "  \"/>\n",
       "<polyline clip-path=\"url(#clip5602)\" style=\"stroke:#00ab83; stroke-width:4; stroke-opacity:1; fill:none\" points=\"\n",
       "  1757.05,1177.72 1758.23,1187.13 1761.68,1196.13 1767.21,1204.76 1774.67,1213.03 1783.89,1220.99 1794.7,1228.65 1806.92,1236.06 1820.41,1243.24 1834.98,1250.23 \n",
       "  1850.47,1257.05 1866.71,1263.73 1883.54,1270.3 1900.79,1276.8 1918.29,1283.26 1935.87,1289.69 1953.37,1296.15 1970.62,1302.65 1987.45,1309.22 2003.69,1315.9 \n",
       "  2019.18,1322.72 2033.75,1329.71 2047.23,1336.89 2059.46,1344.3 2070.27,1351.96 2079.49,1359.92 2086.94,1368.19 2092.48,1376.82 2095.92,1385.82 2097.11,1395.23 \n",
       "  \n",
       "  \"/>\n",
       "<polyline clip-path=\"url(#clip5602)\" style=\"stroke:#00ab83; stroke-width:4; stroke-opacity:1; fill:none\" points=\"\n",
       "  1757.05,1177.72 1756.36,1188.38 1754.34,1199.09 1751.11,1209.86 1746.75,1220.68 1741.37,1231.55 1735.05,1242.46 1727.91,1253.4 1720.03,1264.38 1711.52,1275.39 \n",
       "  1702.47,1286.42 1692.98,1297.47 1683.15,1308.54 1673.07,1319.62 1662.85,1330.7 1652.57,1341.79 1642.35,1352.87 1632.27,1363.95 1622.44,1375.02 1612.95,1386.07 \n",
       "  1603.9,1397.1 1595.39,1408.11 1587.51,1419.08 1580.36,1430.03 1574.05,1440.94 1568.67,1451.81 1564.31,1462.63 1561.07,1473.4 1559.06,1484.11 1558.37,1494.77 \n",
       "  \n",
       "  \"/>\n",
       "<polyline clip-path=\"url(#clip5602)\" style=\"stroke:#00ab83; stroke-width:4; stroke-opacity:1; fill:none\" points=\"\n",
       "  1757.05,1177.72 1757.08,1187.36 1757.18,1197.21 1757.33,1207.24 1757.54,1217.45 1757.8,1227.82 1758.11,1238.32 1758.45,1248.96 1758.83,1259.71 1759.24,1270.56 \n",
       "  1759.67,1281.49 1760.13,1292.49 1760.6,1303.55 1761.09,1314.64 1761.58,1325.75 1762.07,1336.87 1762.57,1347.98 1763.05,1359.07 1763.52,1370.13 1763.98,1381.13 \n",
       "  1764.41,1392.06 1764.82,1402.91 1765.2,1413.66 1765.55,1424.29 1765.85,1434.8 1766.11,1445.17 1766.32,1455.38 1766.47,1465.41 1766.57,1475.26 1766.6,1484.9 \n",
       "  \n",
       "  \"/>\n",
       "<polygon clip-path=\"url(#clip5600)\" points=\"\n",
       "1215.8,113.741 1266.38,101.574 1266.38,77.2406 1215.8,65.0739 1165.23,77.2406 1165.23,101.574 1215.8,113.741 \n",
       "  \" fill=\"#adb2b7\" fill-rule=\"evenodd\" fill-opacity=\"1\"/>\n",
       "<polygon clip-path=\"url(#clip5600)\" points=\"\n",
       "1215.8,112.741 1264.3,101.074 1264.3,77.7406 1215.8,66.0739 1167.31,77.7406 1167.31,101.074 1215.8,112.741 \n",
       "  \" fill=\"#fe4365\" fill-rule=\"evenodd\" fill-opacity=\"1\"/>\n",
       "<polygon clip-path=\"url(#clip5600)\" points=\"\n",
       "1180.58,365.549 1279.66,353.632 1279.66,329.799 1180.58,317.882 1081.51,329.799 1081.51,353.632 1180.58,365.549 \n",
       "  \" fill=\"#adb2b7\" fill-rule=\"evenodd\" fill-opacity=\"1\"/>\n",
       "<polygon clip-path=\"url(#clip5600)\" points=\"\n",
       "1180.58,365.049 1277.58,353.382 1277.58,330.049 1180.58,318.382 1083.59,330.049 1083.59,353.382 1180.58,365.049 \n",
       "  \" fill=\"#fe4365\" fill-rule=\"evenodd\" fill-opacity=\"1\"/>\n",
       "<polygon clip-path=\"url(#clip5600)\" points=\"\n",
       "1148.25,728.984 1214.99,716.942 1214.99,692.859 1148.25,680.817 1081.51,692.859 1081.51,716.942 1148.25,728.984 \n",
       "  \" fill=\"#adb2b7\" fill-rule=\"evenodd\" fill-opacity=\"1\"/>\n",
       "<polygon clip-path=\"url(#clip5600)\" points=\"\n",
       "1148.25,728.234 1212.92,716.567 1212.92,693.234 1148.25,681.567 1083.59,693.234 1083.59,716.567 1148.25,728.234 \n",
       "  \" fill=\"#fe4365\" fill-rule=\"evenodd\" fill-opacity=\"1\"/>\n",
       "<polygon clip-path=\"url(#clip5600)\" points=\"\n",
       "1233.48,881.071 1348.72,869.19 1348.72,845.428 1233.48,833.547 1118.24,845.428 1118.24,869.19 1233.48,881.071 \n",
       "  \" fill=\"#adb2b7\" fill-rule=\"evenodd\" fill-opacity=\"1\"/>\n",
       "<polygon clip-path=\"url(#clip5600)\" points=\"\n",
       "1233.48,880.642 1346.64,868.976 1346.64,845.642 1233.48,833.976 1120.32,845.642 1120.32,868.976 1233.48,880.642 \n",
       "  \" fill=\"#fe4365\" fill-rule=\"evenodd\" fill-opacity=\"1\"/>\n",
       "<polygon clip-path=\"url(#clip5600)\" points=\"\n",
       "1376.64,1161.91 1443.38,1149.87 1443.38,1125.79 1376.64,1113.75 1309.9,1125.79 1309.9,1149.87 1376.64,1161.91 \n",
       "  \" fill=\"#adb2b7\" fill-rule=\"evenodd\" fill-opacity=\"1\"/>\n",
       "<polygon clip-path=\"url(#clip5600)\" points=\"\n",
       "1376.64,1161.16 1441.3,1149.5 1441.3,1126.16 1376.64,1114.5 1311.97,1126.16 1311.97,1149.5 1376.64,1161.16 \n",
       "  \" fill=\"#fe4365\" fill-rule=\"evenodd\" fill-opacity=\"1\"/>\n",
       "<polygon clip-path=\"url(#clip5600)\" points=\"\n",
       "1204.85,1263.34 1417.09,1251.56 1417.09,1227.99 1204.85,1216.21 992.62,1227.99 992.62,1251.56 1204.85,1263.34 \n",
       "  \" fill=\"#adb2b7\" fill-rule=\"evenodd\" fill-opacity=\"1\"/>\n",
       "<polygon clip-path=\"url(#clip5600)\" points=\"\n",
       "1204.85,1263.11 1415.01,1251.44 1415.01,1228.11 1204.85,1216.44 994.698,1228.11 994.698,1251.44 1204.85,1263.11 \n",
       "  \" fill=\"#fe4365\" fill-rule=\"evenodd\" fill-opacity=\"1\"/>\n",
       "<polygon clip-path=\"url(#clip5600)\" points=\"\n",
       "711.739,1232.84 810.812,1220.92 810.812,1197.09 711.739,1185.17 612.666,1197.09 612.666,1220.92 711.739,1232.84 \n",
       "  \" fill=\"#adb2b7\" fill-rule=\"evenodd\" fill-opacity=\"1\"/>\n",
       "<polygon clip-path=\"url(#clip5600)\" points=\"\n",
       "711.739,1232.34 808.734,1220.67 808.734,1197.34 711.739,1185.67 614.744,1197.34 614.744,1220.67 711.739,1232.34 \n",
       "  \" fill=\"#fe4365\" fill-rule=\"evenodd\" fill-opacity=\"1\"/>\n",
       "<polygon clip-path=\"url(#clip5600)\" points=\"\n",
       "940.449,1419.63 1039.52,1407.71 1039.52,1383.88 940.449,1371.96 841.375,1383.88 841.375,1407.71 940.449,1419.63 \n",
       "  \" fill=\"#adb2b7\" fill-rule=\"evenodd\" fill-opacity=\"1\"/>\n",
       "<polygon clip-path=\"url(#clip5600)\" points=\"\n",
       "940.449,1419.13 1037.44,1407.46 1037.44,1384.13 940.449,1372.46 843.454,1384.13 843.454,1407.46 940.449,1419.13 \n",
       "  \" fill=\"#fe4365\" fill-rule=\"evenodd\" fill-opacity=\"1\"/>\n",
       "<polygon clip-path=\"url(#clip5600)\" points=\"\n",
       "262.869,1440.53 361.943,1428.62 361.943,1404.78 262.869,1392.87 163.796,1404.78 163.796,1428.62 262.869,1440.53 \n",
       "  \" fill=\"#adb2b7\" fill-rule=\"evenodd\" fill-opacity=\"1\"/>\n",
       "<polygon clip-path=\"url(#clip5600)\" points=\"\n",
       "262.869,1440.03 359.864,1428.37 359.864,1405.03 262.869,1393.37 165.875,1405.03 165.875,1428.37 262.869,1440.03 \n",
       "  \" fill=\"#fe4365\" fill-rule=\"evenodd\" fill-opacity=\"1\"/>\n",
       "<polygon clip-path=\"url(#clip5600)\" points=\"\n",
       "749.304,1515.48 832.211,1503.51 832.211,1479.58 749.304,1467.61 666.396,1479.58 666.396,1503.51 749.304,1515.48 \n",
       "  \" fill=\"#adb2b7\" fill-rule=\"evenodd\" fill-opacity=\"1\"/>\n",
       "<polygon clip-path=\"url(#clip5600)\" points=\"\n",
       "749.304,1514.88 830.133,1503.21 830.133,1479.88 749.304,1468.21 668.475,1479.88 668.475,1503.21 749.304,1514.88 \n",
       "  \" fill=\"#fe4365\" fill-rule=\"evenodd\" fill-opacity=\"1\"/>\n",
       "<polygon clip-path=\"url(#clip5600)\" points=\"\n",
       "551.734,1382.9 634.642,1370.94 634.642,1347 551.734,1335.04 468.827,1347 468.827,1370.94 551.734,1382.9 \n",
       "  \" fill=\"#adb2b7\" fill-rule=\"evenodd\" fill-opacity=\"1\"/>\n",
       "<polygon clip-path=\"url(#clip5600)\" points=\"\n",
       "551.734,1382.3 632.563,1370.64 632.563,1347.3 551.734,1335.64 470.905,1347.3 470.905,1370.64 551.734,1382.3 \n",
       "  \" fill=\"#fe4365\" fill-rule=\"evenodd\" fill-opacity=\"1\"/>\n",
       "<polygon clip-path=\"url(#clip5600)\" points=\"\n",
       "157.51,1371.11 240.418,1359.15 240.418,1335.21 157.51,1323.25 74.6025,1335.21 74.6025,1359.15 157.51,1371.11 \n",
       "  \" fill=\"#adb2b7\" fill-rule=\"evenodd\" fill-opacity=\"1\"/>\n",
       "<polygon clip-path=\"url(#clip5600)\" points=\"\n",
       "157.51,1370.51 238.339,1358.85 238.339,1335.51 157.51,1323.85 76.681,1335.51 76.681,1358.85 157.51,1370.51 \n",
       "  \" fill=\"#fe4365\" fill-rule=\"evenodd\" fill-opacity=\"1\"/>\n",
       "<polygon clip-path=\"url(#clip5600)\" points=\"\n",
       "399.926,1410.62 466.668,1398.58 466.668,1374.5 399.926,1362.45 333.185,1374.5 333.185,1398.58 399.926,1410.62 \n",
       "  \" fill=\"#adb2b7\" fill-rule=\"evenodd\" fill-opacity=\"1\"/>\n",
       "<polygon clip-path=\"url(#clip5600)\" points=\"\n",
       "399.926,1409.87 464.589,1398.2 464.589,1374.87 399.926,1363.2 335.263,1374.87 335.263,1398.2 399.926,1409.87 \n",
       "  \" fill=\"#fe4365\" fill-rule=\"evenodd\" fill-opacity=\"1\"/>\n",
       "<polygon clip-path=\"url(#clip5600)\" points=\"\n",
       "1757.05,1201.43 1888.45,1189.57 1888.45,1165.87 1757.05,1154.01 1625.64,1165.87 1625.64,1189.57 1757.05,1201.43 \n",
       "  \" fill=\"#adb2b7\" fill-rule=\"evenodd\" fill-opacity=\"1\"/>\n",
       "<polygon clip-path=\"url(#clip5600)\" points=\"\n",
       "1757.05,1201.05 1886.37,1189.39 1886.37,1166.05 1757.05,1154.39 1627.72,1166.05 1627.72,1189.39 1757.05,1201.05 \n",
       "  \" fill=\"#fe4365\" fill-rule=\"evenodd\" fill-opacity=\"1\"/>\n",
       "<polygon clip-path=\"url(#clip5600)\" points=\"\n",
       "2258.24,1403.21 2373.48,1391.33 2373.48,1367.57 2258.24,1355.69 2143,1367.57 2143,1391.33 2258.24,1403.21 \n",
       "  \" fill=\"#adb2b7\" fill-rule=\"evenodd\" fill-opacity=\"1\"/>\n",
       "<polygon clip-path=\"url(#clip5600)\" points=\"\n",
       "2258.24,1402.78 2371.4,1391.12 2371.4,1367.78 2258.24,1356.12 2145.08,1367.78 2145.08,1391.12 2258.24,1402.78 \n",
       "  \" fill=\"#fe4365\" fill-rule=\"evenodd\" fill-opacity=\"1\"/>\n",
       "<polygon clip-path=\"url(#clip5600)\" points=\"\n",
       "1981.96,1518.68 2081.03,1506.76 2081.03,1482.93 1981.96,1471.01 1882.89,1482.93 1882.89,1506.76 1981.96,1518.68 \n",
       "  \" fill=\"#adb2b7\" fill-rule=\"evenodd\" fill-opacity=\"1\"/>\n",
       "<polygon clip-path=\"url(#clip5600)\" points=\"\n",
       "1981.96,1518.18 2078.95,1506.51 2078.95,1483.18 1981.96,1471.51 1884.97,1483.18 1884.97,1506.51 1981.96,1518.18 \n",
       "  \" fill=\"#fe4365\" fill-rule=\"evenodd\" fill-opacity=\"1\"/>\n",
       "<polygon clip-path=\"url(#clip5600)\" points=\"\n",
       "2097.11,1419.06 2196.18,1407.15 2196.18,1383.31 2097.11,1371.4 1998.04,1383.31 1998.04,1407.15 2097.11,1419.06 \n",
       "  \" fill=\"#adb2b7\" fill-rule=\"evenodd\" fill-opacity=\"1\"/>\n",
       "<polygon clip-path=\"url(#clip5600)\" points=\"\n",
       "2097.11,1418.56 2194.1,1406.9 2194.1,1383.56 2097.11,1371.9 2000.11,1383.56 2000.11,1406.9 2097.11,1418.56 \n",
       "  \" fill=\"#fe4365\" fill-rule=\"evenodd\" fill-opacity=\"1\"/>\n",
       "<polygon clip-path=\"url(#clip5600)\" points=\"\n",
       "1558.37,1518.6 1657.44,1506.69 1657.44,1482.85 1558.37,1470.94 1459.3,1482.85 1459.3,1506.69 1558.37,1518.6 \n",
       "  \" fill=\"#adb2b7\" fill-rule=\"evenodd\" fill-opacity=\"1\"/>\n",
       "<polygon clip-path=\"url(#clip5600)\" points=\"\n",
       "1558.37,1518.1 1655.36,1506.44 1655.36,1483.1 1558.37,1471.44 1461.38,1483.1 1461.38,1506.44 1558.37,1518.1 \n",
       "  \" fill=\"#fe4365\" fill-rule=\"evenodd\" fill-opacity=\"1\"/>\n",
       "<polygon clip-path=\"url(#clip5600)\" points=\"\n",
       "1766.6,1508.83 1849.51,1496.87 1849.51,1472.93 1766.6,1460.97 1683.7,1472.93 1683.7,1496.87 1766.6,1508.83 \n",
       "  \" fill=\"#adb2b7\" fill-rule=\"evenodd\" fill-opacity=\"1\"/>\n",
       "<polygon clip-path=\"url(#clip5600)\" points=\"\n",
       "1766.6,1508.23 1847.43,1496.57 1847.43,1473.23 1766.6,1461.57 1685.78,1473.23 1685.78,1496.57 1766.6,1508.23 \n",
       "  \" fill=\"#fe4365\" fill-rule=\"evenodd\" fill-opacity=\"1\"/>\n",
       "<g clip-path=\"url(#clip5600)\">\n",
       "<text style=\"fill:#000000; fill-opacity:1; font-family:Arial,Helvetica Neue,Helvetica,sans-serif; font-size:84px; text-anchor:middle;\" transform=\"rotate(0, 1215.8, 119.907)\" x=\"1215.8\" y=\"119.907\">Any</text>\n",
       "</g>\n",
       "<g clip-path=\"url(#clip5600)\">\n",
       "<text style=\"fill:#000000; fill-opacity:1; font-family:Arial,Helvetica Neue,Helvetica,sans-serif; font-size:84px; text-anchor:middle;\" transform=\"rotate(0, 1180.58, 372.216)\" x=\"1180.58\" y=\"372.216\">Number</text>\n",
       "</g>\n",
       "<g clip-path=\"url(#clip5600)\">\n",
       "<text style=\"fill:#000000; fill-opacity:1; font-family:Arial,Helvetica Neue,Helvetica,sans-serif; font-size:84px; text-anchor:middle;\" transform=\"rotate(0, 1148.25, 735.401)\" x=\"1148.25\" y=\"735.401\">Real</text>\n",
       "</g>\n",
       "<g clip-path=\"url(#clip5600)\">\n",
       "<text style=\"fill:#000000; fill-opacity:1; font-family:Arial,Helvetica Neue,Helvetica,sans-serif; font-size:84px; text-anchor:middle;\" transform=\"rotate(0, 1233.48, 887.809)\" x=\"1233.48\" y=\"887.809\">Integer</text>\n",
       "</g>\n",
       "<g clip-path=\"url(#clip5600)\">\n",
       "<text style=\"fill:#000000; fill-opacity:1; font-family:Arial,Helvetica Neue,Helvetica,sans-serif; font-size:84px; text-anchor:middle;\" transform=\"rotate(0, 1376.64, 1168.33)\" x=\"1376.64\" y=\"1168.33\">Bool</text>\n",
       "</g>\n",
       "<g clip-path=\"url(#clip5600)\">\n",
       "<text style=\"fill:#000000; fill-opacity:1; font-family:Arial,Helvetica Neue,Helvetica,sans-serif; font-size:84px; text-anchor:middle;\" transform=\"rotate(0, 1204.85, 1270.27)\" x=\"1204.85\" y=\"1270.27\">OffsetInteger</text>\n",
       "</g>\n",
       "<g clip-path=\"url(#clip5600)\">\n",
       "<text style=\"fill:#000000; fill-opacity:1; font-family:Arial,Helvetica Neue,Helvetica,sans-serif; font-size:84px; text-anchor:middle;\" transform=\"rotate(0, 711.739, 1239.51)\" x=\"711.739\" y=\"1239.51\">Signed</text>\n",
       "</g>\n",
       "<g clip-path=\"url(#clip5600)\">\n",
       "<text style=\"fill:#000000; fill-opacity:1; font-family:Arial,Helvetica Neue,Helvetica,sans-serif; font-size:84px; text-anchor:middle;\" transform=\"rotate(0, 940.449, 1426.29)\" x=\"940.449\" y=\"1426.29\">BigInt</text>\n",
       "</g>\n",
       "<g clip-path=\"url(#clip5600)\">\n",
       "<text style=\"fill:#000000; fill-opacity:1; font-family:Arial,Helvetica Neue,Helvetica,sans-serif; font-size:84px; text-anchor:middle;\" transform=\"rotate(0, 262.869, 1447.2)\" x=\"262.869\" y=\"1447.2\">Int128</text>\n",
       "</g>\n",
       "<g clip-path=\"url(#clip5600)\">\n",
       "<text style=\"fill:#000000; fill-opacity:1; font-family:Arial,Helvetica Neue,Helvetica,sans-serif; font-size:84px; text-anchor:middle;\" transform=\"rotate(0, 749.304, 1522.05)\" x=\"749.304\" y=\"1522.05\">Int16</text>\n",
       "</g>\n",
       "<g clip-path=\"url(#clip5600)\">\n",
       "<text style=\"fill:#000000; fill-opacity:1; font-family:Arial,Helvetica Neue,Helvetica,sans-serif; font-size:84px; text-anchor:middle;\" transform=\"rotate(0, 551.734, 1389.47)\" x=\"551.734\" y=\"1389.47\">Int32</text>\n",
       "</g>\n",
       "<g clip-path=\"url(#clip5600)\">\n",
       "<text style=\"fill:#000000; fill-opacity:1; font-family:Arial,Helvetica Neue,Helvetica,sans-serif; font-size:84px; text-anchor:middle;\" transform=\"rotate(0, 157.51, 1377.68)\" x=\"157.51\" y=\"1377.68\">Int64</text>\n",
       "</g>\n",
       "<g clip-path=\"url(#clip5600)\">\n",
       "<text style=\"fill:#000000; fill-opacity:1; font-family:Arial,Helvetica Neue,Helvetica,sans-serif; font-size:84px; text-anchor:middle;\" transform=\"rotate(0, 399.926, 1417.04)\" x=\"399.926\" y=\"1417.04\">Int8</text>\n",
       "</g>\n",
       "<g clip-path=\"url(#clip5600)\">\n",
       "<text style=\"fill:#000000; fill-opacity:1; font-family:Arial,Helvetica Neue,Helvetica,sans-serif; font-size:84px; text-anchor:middle;\" transform=\"rotate(0, 1757.05, 1208.22)\" x=\"1757.05\" y=\"1208.22\">Unsigned</text>\n",
       "</g>\n",
       "<g clip-path=\"url(#clip5600)\">\n",
       "<text style=\"fill:#000000; fill-opacity:1; font-family:Arial,Helvetica Neue,Helvetica,sans-serif; font-size:84px; text-anchor:middle;\" transform=\"rotate(0, 2258.24, 1409.95)\" x=\"2258.24\" y=\"1409.95\">UInt128</text>\n",
       "</g>\n",
       "<g clip-path=\"url(#clip5600)\">\n",
       "<text style=\"fill:#000000; fill-opacity:1; font-family:Arial,Helvetica Neue,Helvetica,sans-serif; font-size:84px; text-anchor:middle;\" transform=\"rotate(0, 1981.96, 1525.34)\" x=\"1981.96\" y=\"1525.34\">UInt16</text>\n",
       "</g>\n",
       "<g clip-path=\"url(#clip5600)\">\n",
       "<text style=\"fill:#000000; fill-opacity:1; font-family:Arial,Helvetica Neue,Helvetica,sans-serif; font-size:84px; text-anchor:middle;\" transform=\"rotate(0, 2097.11, 1425.73)\" x=\"2097.11\" y=\"1425.73\">UInt32</text>\n",
       "</g>\n",
       "<g clip-path=\"url(#clip5600)\">\n",
       "<text style=\"fill:#000000; fill-opacity:1; font-family:Arial,Helvetica Neue,Helvetica,sans-serif; font-size:84px; text-anchor:middle;\" transform=\"rotate(0, 1558.37, 1525.27)\" x=\"1558.37\" y=\"1525.27\">UInt64</text>\n",
       "</g>\n",
       "<g clip-path=\"url(#clip5600)\">\n",
       "<text style=\"fill:#000000; fill-opacity:1; font-family:Arial,Helvetica Neue,Helvetica,sans-serif; font-size:84px; text-anchor:middle;\" transform=\"rotate(0, 1766.6, 1515.4)\" x=\"1766.6\" y=\"1515.4\">UInt8</text>\n",
       "</g>\n",
       "</svg>\n"
      ]
     },
     "execution_count": 7,
     "metadata": {},
     "output_type": "execute_result"
    }
   ],
   "source": [
    "using GraphRecipes\n",
    "using Plots\n",
    "\n",
    "#pyplot(size=(800, 600))\n",
    "gr(size=(600, 400))\n",
    "theme(:dark)\n",
    "\n",
    "plot(Integer, method=:tree, fontsize=4)"
   ]
  },
  {
   "cell_type": "markdown",
   "metadata": {},
   "source": [
    "### Signed integers\n",
    "\n",
    "* First bit indicates sign.  \n",
    "    - `0` for nonnegative numbers\n",
    "    - `1` for negative numbers  \n",
    "    \n",
    "* **Two's complement representation** for negative numbers. \n",
    "    - Sign bit is set to 1  \n",
    "    - remaining bits are set to opposite values  \n",
    "    - 1 is added to the result  \n",
    "    - Two's complement representation of a negative integer `x` is same as the unsigned integer `2^m + x`."
   ]
  },
  {
   "cell_type": "code",
   "execution_count": 8,
   "metadata": {},
   "outputs": [
    {
     "name": "stdout",
     "output_type": "stream",
     "text": [
      "typeof(18) = Int64\n",
      "bitstring(18) = \"0000000000000000000000000000000000000000000000000000000000010010\"\n",
      "bitstring(-18) = \"1111111111111111111111111111111111111111111111111111111111101110\"\n",
      "bitstring(UInt64(Int128(2) ^ 64 - 18)) == bitstring(-18) = true\n",
      "bitstring(2 * 18) = \"0000000000000000000000000000000000000000000000000000000000100100\"\n",
      "bitstring(2 * -18) = \"1111111111111111111111111111111111111111111111111111111111011100\"\n"
     ]
    }
   ],
   "source": [
    "@show typeof(18)\n",
    "@show bitstring(18)\n",
    "@show bitstring(-18)\n",
    "@show bitstring(UInt64(Int128(2)^64 - 18)) == bitstring(-18)\n",
    "@show bitstring(2 * 18) # shift bits of 18\n",
    "@show bitstring(2 * -18); # shift bits of -18"
   ]
  },
  {
   "cell_type": "markdown",
   "metadata": {},
   "source": [
    "* Two's complement representation respects modular arithmetic nicely.  \n",
    "    Addition of any two signed integers are just bitwise addition, possibly modulo $2^M$\n",
    "    \n",
    "<img src=\"http://users.dickinson.edu/~braught/courses/cs251f02/classes/images/twosCompWheel.png\" width=\"400\" align=\"center\"/>    "
   ]
  },
  {
   "cell_type": "markdown",
   "metadata": {},
   "source": [
    "* **Range** of representable integers by $M$-bit **signed integer** is $[-2^{M-1},2^{M-1}-1]$.\n",
    "    - Julia functions `typemin(T)` and `typemax(T)` give the lowest and highest representable number of a type `T` respectively"
   ]
  },
  {
   "cell_type": "code",
   "execution_count": 9,
   "metadata": {},
   "outputs": [
    {
     "data": {
      "text/plain": [
       "(-9223372036854775808, 9223372036854775807)"
      ]
     },
     "execution_count": 9,
     "metadata": {},
     "output_type": "execute_result"
    }
   ],
   "source": [
    "typemin(Int64), typemax(Int64)"
   ]
  },
  {
   "cell_type": "code",
   "execution_count": 10,
   "metadata": {},
   "outputs": [
    {
     "name": "stdout",
     "output_type": "stream",
     "text": [
      "Int8\t-128\t127\n",
      "Int16\t-32768\t32767\n",
      "Int32\t-2147483648\t2147483647\n",
      "Int64\t-9223372036854775808\t9223372036854775807\n",
      "Int128\t-170141183460469231731687303715884105728\t170141183460469231731687303715884105727\n"
     ]
    }
   ],
   "source": [
    "for T in [Int8, Int16, Int32, Int64, Int128]\n",
    "    println(T, '\\t', typemin(T), '\\t', typemax(T))\n",
    "end"
   ]
  },
  {
   "cell_type": "markdown",
   "metadata": {},
   "source": [
    "### Unsigned integers\n",
    "\n",
    "* For unsigned integers, the range is $[0,2^M-1]$."
   ]
  },
  {
   "cell_type": "code",
   "execution_count": 11,
   "metadata": {},
   "outputs": [
    {
     "name": "stdout",
     "output_type": "stream",
     "text": [
      "UInt8\t0\t255\n",
      "UInt16\t0\t65535\n",
      "UInt32\t0\t4294967295\n",
      "UInt64\t0\t18446744073709551615\n",
      "UInt128\t0\t340282366920938463463374607431768211455\n"
     ]
    }
   ],
   "source": [
    "for t in [UInt8, UInt16, UInt32, UInt64, UInt128]\n",
    "    println(t, '\\t', typemin(t), '\\t', typemax(t))\n",
    "end"
   ]
  },
  {
   "cell_type": "markdown",
   "metadata": {},
   "source": [
    "## `BigInt`\n",
    "\n",
    "Julia `BigInt` type is arbitrary precision."
   ]
  },
  {
   "cell_type": "code",
   "execution_count": 12,
   "metadata": {},
   "outputs": [
    {
     "name": "stdout",
     "output_type": "stream",
     "text": [
      "typemax(Int128) = 170141183460469231731687303715884105727\n",
      "typemax(Int128) + 1 = -170141183460469231731687303715884105728\n",
      "BigInt(typemax(Int128)) + 1 = 170141183460469231731687303715884105728\n"
     ]
    }
   ],
   "source": [
    "@show typemax(Int128)\n",
    "@show typemax(Int128) + 1 # modular arithmetic!\n",
    "@show BigInt(typemax(Int128)) + 1;"
   ]
  },
  {
   "cell_type": "markdown",
   "metadata": {},
   "source": [
    "## Overflow and underflow for integer arithmetic\n",
    "\n",
    "R reports `NA` for integer overflow and underflow.  \n",
    "**Julia outputs the result according to modular arithmetic.**"
   ]
  },
  {
   "cell_type": "code",
   "execution_count": 13,
   "metadata": {},
   "outputs": [
    {
     "name": "stdout",
     "output_type": "stream",
     "text": [
      "typemax(Int32) = 2147483647\n",
      "typemax(Int32) + Int32(1) = -2147483648\n"
     ]
    }
   ],
   "source": [
    "@show typemax(Int32)\n",
    "@show typemax(Int32) + Int32(1); # modular arithmetics!"
   ]
  },
  {
   "cell_type": "code",
   "execution_count": 14,
   "metadata": {},
   "outputs": [
    {
     "data": {
      "text/plain": [
       "RObject{IntSxp}\n",
       "[1] 2147483647\n"
      ]
     },
     "execution_count": 14,
     "metadata": {},
     "output_type": "execute_result"
    }
   ],
   "source": [
    "using RCall\n",
    "\n",
    "R\"\"\"\n",
    ".Machine$integer.max\n",
    "\"\"\""
   ]
  },
  {
   "cell_type": "code",
   "execution_count": 15,
   "metadata": {},
   "outputs": [
    {
     "data": {
      "text/plain": [
       "RObject{IntSxp}\n",
       "[1] 2147483647\n"
      ]
     },
     "execution_count": 15,
     "metadata": {},
     "output_type": "execute_result"
    }
   ],
   "source": [
    "R\"\"\"\n",
    "M <- 32\n",
    "big <- 2^(M-1) - 1\n",
    "as.integer(big)\n",
    "\"\"\""
   ]
  },
  {
   "cell_type": "code",
   "execution_count": 16,
   "metadata": {},
   "outputs": [
    {
     "name": "stderr",
     "output_type": "stream",
     "text": [
      "┌ Warning: RCall.jl: Warning: NAs introduced by coercion to integer range\n",
      "└ @ RCall /Users/huazhou/.julia/packages/RCall/ffM0W/src/io.jl:113\n"
     ]
    },
    {
     "data": {
      "text/plain": [
       "RObject{IntSxp}\n",
       "[1] NA\n"
      ]
     },
     "execution_count": 16,
     "metadata": {},
     "output_type": "execute_result"
    }
   ],
   "source": [
    "R\"\"\"\n",
    "as.integer(big+1)\n",
    "\"\"\""
   ]
  },
  {
   "cell_type": "markdown",
   "metadata": {
    "collapsed": true
   },
   "source": [
    "## Real numbers: floating-number system\n",
    "\n",
    "Floating-point number system is a computer model for real numbers.\n",
    "\n",
    "* Most computer systems adopt the [IEEE 754 standard](https://en.wikipedia.org/wiki/IEEE_floating_point), established in 1985, for floating-point arithmetics.  \n",
    "For the history, see an [interview with William Kahan](http://www.cs.berkeley.edu/~wkahan/ieee754status/754story.html).\n",
    "\n",
    "* In the scientific notation, a real number is represented as\n",
    "$$\\pm d_0.d_1d_2 \\cdots d_p \\times b^e.$$\n",
    "In computer, the _base_ is $b=2$ and the digits $d_i$ are 0 or 1.\n",
    "\n",
    "* **Normalized** vs **denormalized** numbers. For example, decimal number 18 is\n",
    "$$ +1.0010 \\times 2^4 \\quad (\\text{normalized})$$\n",
    "or, equivalently,\n",
    "$$ +0.1001 \\times 2^5 \\quad (\\text{denormalized}).$$\n",
    "\n",
    "* In the floating-number system, computer stores \n",
    "    - sign bit  \n",
    "    - the _fraction_ (or _mantissa_, or _significand_) of the **normalized** representation\n",
    "    - the actual exponent _plus_ a bias"
   ]
  },
  {
   "cell_type": "markdown",
   "metadata": {},
   "source": [
    "* **Double precision** (64 bit = 8 bytes) \n",
    "    <img src=\"./double-precision-numbers.png\" width=\"500\" align=\"center\"/>  \n",
    "    - In Julia, `Float64` is the type for double precision numbers    \n",
    "    - First bit is sign bit  \n",
    "    - $p=52$ significant bits  \n",
    "    - 11 exponent bits: $e_{\\max}=1023$, $e_{\\min}=-1022$, bias=1023  \n",
    "    - $e_{\\text{min}}-1$ and $e_{\\text{max}}+1$ are reserved for special numbers  \n",
    "    - range of **magnitude**: $10^{\\pm 308}$ in decimal because $\\log_{10} (2^{1023}) \\approx 308$  \n",
    "    - **precision** to the $\\log_{10}(2^{-52}) \\approx 16$ decimal point  \n",
    "    \n",
    "* **Single precision** (32 bit = 4 bytes) \n",
    "    <img src=\"./single-precision-numbers.png\" width=\"500\" align=\"center\"/>\n",
    "    \n",
    "    - In Julia, `Float32` is the type for single precision numbers  \n",
    "    - First bit is sign bit  \n",
    "    - $p=23$ significant bits  \n",
    "    - 8 exponent bits: $e_{\\max}=127$, $e_{\\min}=-126$, bias=127  \n",
    "    - $e_{\\text{min}}-1$ and $e_{\\text{max}}+1$ are reserved for special numbers  \n",
    "    - range of **magnitude**: $10^{\\pm 38}$ in decimal because $\\log_{10} (2^{127}) \\approx 38$  \n",
    "    - **precision**: $\\log_{10}(2^{23}) \\approx 7$ decimal point  \n",
    "    \n",
    "* **Half precision** (16 bit = 2 bytes)\n",
    "    <img src=\"./half-precision-numbers.png\" width=\"200\" align=\"center\"/>\n",
    "    \n",
    "    - In Julia, `Float16` is the type for half precision numbers\n",
    "    - First bit is sign bit  \n",
    "    - $p=10$ significant bits  \n",
    "    - 5 exponent bits: $e_{\\max}=15$, $e_{\\min}=-14$, bias=15  \n",
    "    - $e_{\\text{min}}-1$ and $e_{\\text{max}}+1$ are reserved for special numbers  \n",
    "    - range of **magnitude**: $10^{\\pm 4}$ in decimal because $\\log_{10} (2^{15}) \\approx 4$  \n",
    "    - **precision**: $\\log_{10}(2^{10}) \\approx 3$ decimal point      "
   ]
  },
  {
   "cell_type": "code",
   "execution_count": 17,
   "metadata": {},
   "outputs": [
    {
     "name": "stdout",
     "output_type": "stream",
     "text": [
      "Half precision:\n",
      "bitstring(Float16(18)) = \"0100110010000000\"\n",
      "bitstring(Float16(-18)) = \"1100110010000000\"\n",
      "Single precision:\n",
      "bitstring(Float32(18.0)) = \"01000001100100000000000000000000\"\n",
      "bitstring(Float32(-18.0)) = \"11000001100100000000000000000000\"\n",
      "Double precision:\n",
      "bitstring(Float64(18)) = \"0100000000110010000000000000000000000000000000000000000000000000\"\n",
      "bitstring(Float64(-18)) = \"1100000000110010000000000000000000000000000000000000000000000000\"\n",
      "Float32(π) = 3.1415927f0\n",
      "Float64(π) = 3.141592653589793\n"
     ]
    },
    {
     "data": {
      "text/plain": [
       "3.141592653589793"
      ]
     },
     "execution_count": 17,
     "metadata": {},
     "output_type": "execute_result"
    }
   ],
   "source": [
    "println(\"Half precision:\")\n",
    "@show bitstring(Float16(18)) # 18 in half precision\n",
    "@show bitstring(Float16(-18)) # -18 in half precision\n",
    "println(\"Single precision:\")\n",
    "@show bitstring(Float32(18.0)) # 18 in single precision\n",
    "@show bitstring(Float32(-18.0)) # -18 in single precision\n",
    "println(\"Double precision:\")\n",
    "@show bitstring(Float64(18)) # 18 in double precision\n",
    "@show bitstring(Float64(-18)) # -18 in double precision\n",
    "@show Float32(π) # SP number displays 7 decimal digits\n",
    "@show Float64(π) # DP number displays 15 decimal digits"
   ]
  },
  {
   "cell_type": "markdown",
   "metadata": {},
   "source": [
    "* Special floating-point numbers. \n",
    "    - Exponent $e_{\\max}+1$ plus a zero mantissa means $\\pm \\infty$  \n",
    "    - Exponent $e_{\\max}+1$ plus a nonzero mantissa means `NaN`. `NaN` could be produced from `0 / 0`, `0 * Inf`, ...  \n",
    "    In general `NaN ≠ NaN` bitwise  \n",
    "    - Exponent $e_{\\min}-1$ with a zero mantissa represents the real number 0  \n",
    "    - Exponent $e_{\\min}-1$ with a nonzero mantissa are for numbers less than $b^{e_{\\min}}$  \n",
    "    Numbers are _denormalized_ in the range $(0,b^{e_{\\min}})$ -- **graceful underflow** "
   ]
  },
  {
   "cell_type": "code",
   "execution_count": 18,
   "metadata": {},
   "outputs": [
    {
     "name": "stdout",
     "output_type": "stream",
     "text": [
      "bitstring(Inf) = \"0111111111110000000000000000000000000000000000000000000000000000\"\n",
      "bitstring(-Inf) = \"1111111111110000000000000000000000000000000000000000000000000000\"\n",
      "bitstring(0 / 0) = \"1111111111111000000000000000000000000000000000000000000000000000\"\n",
      "bitstring(0Inf) = \"1111111111111000000000000000000000000000000000000000000000000000\"\n",
      "bitstring(0.0) = \"0000000000000000000000000000000000000000000000000000000000000000\"\n",
      "nextfloat(0.0) = 5.0e-324\n",
      "bitstring(nextfloat(0.0)) = \"0000000000000000000000000000000000000000000000000000000000000001\"\n"
     ]
    }
   ],
   "source": [
    "@show bitstring(Inf) # Inf in double precision\n",
    "@show bitstring(-Inf) # -Inf in double precision\n",
    "@show bitstring(0 / 0) # NaN\n",
    "@show bitstring(0 * Inf) # NaN\n",
    "@show bitstring(0.0) # 0 in double precision \n",
    "@show nextfloat(0.0) # next representable number \n",
    "@show bitstring(nextfloat(0.0)); # denormalized"
   ]
  },
  {
   "cell_type": "markdown",
   "metadata": {},
   "source": [
    "* **Rounding** is necessary whenever a number has more than $p$ significand bits. Most computer systems use the default IEEE 754 _round to nearest_ mode (also called _ties to even_ mode). Julia offers several [rounding modes](https://docs.julialang.org/en/stable/stdlib/math/#Base.Rounding.RoundingMode), the default being [`RoundNearest`](https://docs.julialang.org/en/stable/stdlib/math/#Base.Rounding.RoundNearest). For example, the number 0.1 in decimal system cannot be represented accurately as a floating point number:\n",
    "$$ 0.1 = 1.10011001... \\times 2^{-4} $$"
   ]
  },
  {
   "cell_type": "code",
   "execution_count": 19,
   "metadata": {},
   "outputs": [
    {
     "name": "stdout",
     "output_type": "stream",
     "text": [
      "bitstring(0.1f0) = \"00111101110011001100110011001101\"\n",
      "bitstring(0.1) = \"0011111110111001100110011001100110011001100110011001100110011010\"\n"
     ]
    }
   ],
   "source": [
    "@show bitstring(0.1f0) # single precision Float32\n",
    "@show bitstring(0.1);  # double precision Float64"
   ]
  },
  {
   "cell_type": "markdown",
   "metadata": {},
   "source": [
    "* In summary\n",
    "    - Single precision: range $\\pm 10^{\\pm 38}$ with precision up to 7 decimal digits\n",
    "    - Double precision: range $\\pm 10^{\\pm 308}$ with precision up to 16 decimal digits  \n",
    "    - The floating-point numbers do not occur uniformly over the real number line\n",
    "    <img src=\"http://www.volkerschatz.com/science/pics/fltscale-wh.png\" width=\"700\" align=\"center\"/>\n",
    "    Each magnitude has same number of representible numbers\n",
    "    - **Machine epsilons** are the spacings of numbers around 1: \n",
    "    $$\\epsilon_{\\min}=b^{-p}, \\quad  \\epsilon_{\\max} = b^{1-p}.$$\n",
    "    <img src=\"./machine_epsilons.png\" width=\"500\" align=\"center\"/>"
   ]
  },
  {
   "cell_type": "code",
   "execution_count": 20,
   "metadata": {},
   "outputs": [
    {
     "name": "stdout",
     "output_type": "stream",
     "text": [
      "eps(Float32) = 1.1920929f-7\n",
      "eps(Float64) = 2.220446049250313e-16\n",
      "eps(100.0) = 1.4210854715202004e-14\n",
      "eps(0.0) = 5.0e-324\n",
      "x = 1.25f0 = 1.25f0\n",
      "(prevfloat(x), x, nextfloat(x)) = (1.2499999f0, 1.25f0, 1.2500001f0)\n",
      "(bitstring(prevfloat(x)), bitstring(x), bitstring(nextfloat(x))) = (\"00111111100111111111111111111111\", \"00111111101000000000000000000000\", \"00111111101000000000000000000001\")\n"
     ]
    }
   ],
   "source": [
    "@show eps(Float32)  # machine epsilon for a floating point type\n",
    "@show eps(Float64)  # same as eps()\n",
    "# eps(x) is the spacing after x\n",
    "@show eps(100.0)\n",
    "@show eps(0.0)\n",
    "# nextfloat(x) and prevfloat(x) give the neighbors of x\n",
    "@show x = 1.25f0\n",
    "@show prevfloat(x), x, nextfloat(x)\n",
    "@show bitstring(prevfloat(x)), bitstring(x), bitstring(nextfloat(x));"
   ]
  },
  {
   "cell_type": "markdown",
   "metadata": {},
   "source": [
    "* In R, the variable `.Machine` contains numerical characteristics of the machine."
   ]
  },
  {
   "cell_type": "code",
   "execution_count": 21,
   "metadata": {},
   "outputs": [
    {
     "data": {
      "text/plain": [
       "RObject{VecSxp}\n",
       "$double.eps\n",
       "[1] 2.220446e-16\n",
       "\n",
       "$double.neg.eps\n",
       "[1] 1.110223e-16\n",
       "\n",
       "$double.xmin\n",
       "[1] 2.225074e-308\n",
       "\n",
       "$double.xmax\n",
       "[1] 1.797693e+308\n",
       "\n",
       "$double.base\n",
       "[1] 2\n",
       "\n",
       "$double.digits\n",
       "[1] 53\n",
       "\n",
       "$double.rounding\n",
       "[1] 5\n",
       "\n",
       "$double.guard\n",
       "[1] 0\n",
       "\n",
       "$double.ulp.digits\n",
       "[1] -52\n",
       "\n",
       "$double.neg.ulp.digits\n",
       "[1] -53\n",
       "\n",
       "$double.exponent\n",
       "[1] 11\n",
       "\n",
       "$double.min.exp\n",
       "[1] -1022\n",
       "\n",
       "$double.max.exp\n",
       "[1] 1024\n",
       "\n",
       "$integer.max\n",
       "[1] 2147483647\n",
       "\n",
       "$sizeof.long\n",
       "[1] 8\n",
       "\n",
       "$sizeof.longlong\n",
       "[1] 8\n",
       "\n",
       "$sizeof.longdouble\n",
       "[1] 16\n",
       "\n",
       "$sizeof.pointer\n",
       "[1] 8\n",
       "\n"
      ]
     },
     "execution_count": 21,
     "metadata": {},
     "output_type": "execute_result"
    }
   ],
   "source": [
    "R\"\"\"\n",
    ".Machine\n",
    "\"\"\""
   ]
  },
  {
   "cell_type": "markdown",
   "metadata": {},
   "source": [
    "* Julia provides `Float16` (half precision), `Float32` (single precision), `Float64` (double precision), and `BigFloat` (arbitrary precision)."
   ]
  },
  {
   "cell_type": "code",
   "execution_count": 22,
   "metadata": {},
   "outputs": [
    {
     "data": {
      "image/svg+xml": [
       "<?xml version=\"1.0\" encoding=\"utf-8\"?>\n",
       "<svg xmlns=\"http://www.w3.org/2000/svg\" xmlns:xlink=\"http://www.w3.org/1999/xlink\" width=\"600\" height=\"400\" viewBox=\"0 0 2400 1600\">\n",
       "<defs>\n",
       "  <clipPath id=\"clip6000\">\n",
       "    <rect x=\"0\" y=\"0\" width=\"2400\" height=\"1600\"/>\n",
       "  </clipPath>\n",
       "</defs>\n",
       "<polygon clip-path=\"url(#clip6000)\" points=\"\n",
       "0,1600 2400,1600 2400,0 0,0 \n",
       "  \" fill=\"#363c46\" fill-rule=\"evenodd\" fill-opacity=\"1\"/>\n",
       "<defs>\n",
       "  <clipPath id=\"clip6001\">\n",
       "    <rect x=\"480\" y=\"0\" width=\"1681\" height=\"1600\"/>\n",
       "  </clipPath>\n",
       "</defs>\n",
       "<polygon clip-path=\"url(#clip6000)\" points=\"\n",
       "94.4882,1537.01 2321.26,1537.01 2321.26,47.2441 94.4882,47.2441 \n",
       "  \" fill=\"#30343b\" fill-rule=\"evenodd\" fill-opacity=\"1\"/>\n",
       "<defs>\n",
       "  <clipPath id=\"clip6002\">\n",
       "    <rect x=\"94\" y=\"47\" width=\"2228\" height=\"1491\"/>\n",
       "  </clipPath>\n",
       "</defs>\n",
       "<polyline clip-path=\"url(#clip6002)\" style=\"stroke:#00ab83; stroke-width:4; stroke-opacity:1; fill:none\" points=\"\n",
       "  1683.03,89.4072 1683.3,103.271 1684.08,117.422 1685.34,131.841 1687.03,146.505 1689.12,161.393 1691.57,176.485 1694.34,191.757 1697.4,207.19 1700.71,222.762 \n",
       "  1704.22,238.451 1707.91,254.237 1711.72,270.097 1715.64,286.01 1719.6,301.955 1723.59,317.911 1727.56,333.857 1731.47,349.77 1735.29,365.63 1738.98,381.416 \n",
       "  1742.49,397.105 1745.79,412.676 1748.85,428.109 1751.63,443.382 1754.08,458.473 1756.17,473.362 1757.86,488.026 1759.12,502.445 1759.9,516.596 1760.17,530.46 \n",
       "  \n",
       "  \"/>\n",
       "<polyline clip-path=\"url(#clip6002)\" style=\"stroke:#00ab83; stroke-width:4; stroke-opacity:1; fill:none\" points=\"\n",
       "  1760.17,530.46 1757.65,540.247 1750.35,549.502 1738.62,558.264 1722.81,566.573 1703.28,574.467 1680.38,581.986 1654.46,589.17 1625.88,596.058 1595,602.69 \n",
       "  1562.17,609.104 1527.74,615.341 1492.07,621.44 1455.52,627.441 1418.43,633.382 1381.16,639.303 1344.08,645.244 1307.52,651.245 1271.85,657.344 1237.42,663.581 \n",
       "  1204.59,669.996 1173.71,676.627 1145.13,683.515 1119.22,690.699 1096.31,698.218 1076.78,706.112 1060.97,714.421 1049.24,723.183 1041.94,732.438 1039.43,742.225 \n",
       "  \n",
       "  \"/>\n",
       "<polyline clip-path=\"url(#clip6002)\" style=\"stroke:#00ab83; stroke-width:4; stroke-opacity:1; fill:none\" points=\"\n",
       "  1039.43,742.225 1039.82,753.044 1040.98,764.076 1042.84,775.307 1045.35,786.721 1048.45,798.302 1052.08,810.034 1056.19,821.9 1060.73,833.886 1065.62,845.975 \n",
       "  1070.83,858.152 1076.29,870.4 1081.95,882.703 1087.75,895.046 1093.63,907.413 1099.54,919.788 1105.43,932.156 1111.23,944.499 1116.88,956.802 1122.34,969.05 \n",
       "  1127.55,981.227 1132.45,993.316 1136.98,1005.3 1141.1,1017.17 1144.73,1028.9 1147.83,1040.48 1150.33,1051.89 1152.2,1063.13 1153.35,1074.16 1153.75,1084.98 \n",
       "  \n",
       "  \"/>\n",
       "<polyline clip-path=\"url(#clip6002)\" style=\"stroke:#00ab83; stroke-width:4; stroke-opacity:1; fill:none\" points=\"\n",
       "  1153.75,1084.98 1152.52,1097.41 1148.93,1109.98 1143.17,1122.69 1135.41,1135.51 1125.82,1148.44 1114.58,1161.47 1101.85,1174.59 1087.82,1187.79 1072.66,1201.05 \n",
       "  1056.54,1214.37 1039.63,1227.74 1022.12,1241.15 1004.17,1254.58 985.963,1268.02 967.667,1281.47 949.457,1294.92 931.509,1308.35 913.996,1321.76 897.092,1335.12 \n",
       "  880.972,1348.45 865.81,1361.71 851.779,1374.91 839.054,1388.03 827.809,1401.06 818.218,1413.99 810.456,1426.81 804.695,1439.51 801.111,1452.09 799.878,1464.52 \n",
       "  \n",
       "  \"/>\n",
       "<polyline clip-path=\"url(#clip6002)\" style=\"stroke:#00ab83; stroke-width:4; stroke-opacity:1; fill:none\" points=\"\n",
       "  1153.75,1084.98 1150.28,1100.7 1140.19,1115.92 1123.97,1130.67 1102.12,1144.99 1075.12,1158.91 1043.46,1172.48 1007.64,1185.73 968.138,1198.7 925.452,1211.42 \n",
       "  880.07,1223.94 832.482,1236.29 783.179,1248.51 732.65,1260.63 681.386,1272.7 629.876,1284.75 578.612,1296.81 528.083,1308.94 478.78,1321.15 431.192,1333.5 \n",
       "  385.809,1346.02 343.123,1358.74 303.623,1371.71 267.8,1384.96 236.142,1398.53 209.142,1412.45 187.288,1426.77 171.072,1441.52 160.982,1456.74 157.51,1472.47 \n",
       "  \n",
       "  \"/>\n",
       "<polyline clip-path=\"url(#clip6002)\" style=\"stroke:#00ab83; stroke-width:4; stroke-opacity:1; fill:none\" points=\"\n",
       "  1153.75,1084.98 1157.6,1098.65 1168.79,1111.41 1186.77,1123.33 1210.99,1134.48 1240.93,1144.92 1276.02,1154.72 1315.74,1163.95 1359.53,1172.67 1406.86,1180.96 \n",
       "  1457.17,1188.88 1509.93,1196.49 1564.59,1203.87 1620.61,1211.08 1677.44,1218.19 1734.55,1225.27 1791.38,1232.38 1847.4,1239.59 1902.06,1246.97 1954.82,1254.58 \n",
       "  2005.13,1262.5 2052.46,1270.79 2096.25,1279.51 2135.97,1288.74 2171.06,1298.54 2201,1308.98 2225.22,1320.13 2243.2,1332.05 2254.39,1344.81 2258.24,1358.48 \n",
       "  \n",
       "  \"/>\n",
       "<polyline clip-path=\"url(#clip6002)\" style=\"stroke:#00ab83; stroke-width:4; stroke-opacity:1; fill:none\" points=\"\n",
       "  1153.75,1084.98 1155.44,1098.73 1160.35,1112.57 1168.25,1126.49 1178.89,1140.47 1192.03,1154.51 1207.44,1168.61 1224.88,1182.76 1244.11,1196.96 1264.89,1211.19 \n",
       "  1286.98,1225.46 1310.15,1239.76 1334.15,1254.07 1358.75,1268.4 1383.7,1282.74 1408.78,1297.08 1433.73,1311.42 1458.33,1325.75 1482.33,1340.07 1505.5,1354.36 \n",
       "  1527.59,1368.63 1548.37,1382.86 1567.6,1397.06 1585.04,1411.21 1600.45,1425.31 1613.59,1439.35 1624.23,1453.33 1632.13,1467.25 1637.04,1481.09 1638.73,1494.84 \n",
       "  \n",
       "  \"/>\n",
       "<polygon clip-path=\"url(#clip6000)\" points=\"\n",
       "1683.03,113.741 1733.61,101.574 1733.61,77.2406 1683.03,65.0739 1632.46,77.2406 1632.46,101.574 1683.03,113.741 \n",
       "  \" fill=\"#adb2b7\" fill-rule=\"evenodd\" fill-opacity=\"1\"/>\n",
       "<polygon clip-path=\"url(#clip6000)\" points=\"\n",
       "1683.03,112.741 1731.53,101.074 1731.53,77.7406 1683.03,66.0739 1634.53,77.7406 1634.53,101.074 1683.03,112.741 \n",
       "  \" fill=\"#fe4365\" fill-rule=\"evenodd\" fill-opacity=\"1\"/>\n",
       "<polygon clip-path=\"url(#clip6000)\" points=\"\n",
       "1760.17,554.293 1859.24,542.376 1859.24,518.543 1760.17,506.626 1661.09,518.543 1661.09,542.376 1760.17,554.293 \n",
       "  \" fill=\"#adb2b7\" fill-rule=\"evenodd\" fill-opacity=\"1\"/>\n",
       "<polygon clip-path=\"url(#clip6000)\" points=\"\n",
       "1760.17,553.793 1857.16,542.126 1857.16,518.793 1760.17,507.126 1663.17,518.793 1663.17,542.126 1760.17,553.793 \n",
       "  \" fill=\"#fe4365\" fill-rule=\"evenodd\" fill-opacity=\"1\"/>\n",
       "<polygon clip-path=\"url(#clip6000)\" points=\"\n",
       "1039.43,766.309 1106.17,754.267 1106.17,730.184 1039.43,718.142 972.684,730.184 972.684,754.267 1039.43,766.309 \n",
       "  \" fill=\"#adb2b7\" fill-rule=\"evenodd\" fill-opacity=\"1\"/>\n",
       "<polygon clip-path=\"url(#clip6000)\" points=\"\n",
       "1039.43,765.559 1104.09,753.892 1104.09,730.559 1039.43,718.892 974.762,730.559 974.762,753.892 1039.43,765.559 \n",
       "  \" fill=\"#fe4365\" fill-rule=\"evenodd\" fill-opacity=\"1\"/>\n",
       "<polygon clip-path=\"url(#clip6000)\" points=\"\n",
       "1153.75,1108.54 1365.99,1096.76 1365.99,1073.19 1153.75,1061.41 941.518,1073.19 941.518,1096.76 1153.75,1108.54 \n",
       "  \" fill=\"#adb2b7\" fill-rule=\"evenodd\" fill-opacity=\"1\"/>\n",
       "<polygon clip-path=\"url(#clip6000)\" points=\"\n",
       "1153.75,1108.31 1363.91,1096.64 1363.91,1073.31 1153.75,1061.64 943.596,1073.31 943.596,1096.64 1153.75,1108.31 \n",
       "  \" fill=\"#fe4365\" fill-rule=\"evenodd\" fill-opacity=\"1\"/>\n",
       "<polygon clip-path=\"url(#clip6000)\" points=\"\n",
       "799.878,1488.23 931.283,1476.38 931.283,1452.67 799.878,1440.81 668.473,1452.67 668.473,1476.38 799.878,1488.23 \n",
       "  \" fill=\"#adb2b7\" fill-rule=\"evenodd\" fill-opacity=\"1\"/>\n",
       "<polygon clip-path=\"url(#clip6000)\" points=\"\n",
       "799.878,1487.86 929.205,1476.19 929.205,1452.86 799.878,1441.19 670.552,1452.86 670.552,1476.19 799.878,1487.86 \n",
       "  \" fill=\"#fe4365\" fill-rule=\"evenodd\" fill-opacity=\"1\"/>\n",
       "<polygon clip-path=\"url(#clip6000)\" points=\"\n",
       "157.51,1496.23 272.749,1484.35 272.749,1460.59 157.51,1448.71 42.2709,1460.59 42.2709,1484.35 157.51,1496.23 \n",
       "  \" fill=\"#adb2b7\" fill-rule=\"evenodd\" fill-opacity=\"1\"/>\n",
       "<polygon clip-path=\"url(#clip6000)\" points=\"\n",
       "157.51,1495.8 270.671,1484.13 270.671,1460.8 157.51,1449.13 44.3494,1460.8 44.3494,1484.13 157.51,1495.8 \n",
       "  \" fill=\"#fe4365\" fill-rule=\"evenodd\" fill-opacity=\"1\"/>\n",
       "<polygon clip-path=\"url(#clip6000)\" points=\"\n",
       "2258.24,1382.25 2373.48,1370.37 2373.48,1346.6 2258.24,1334.72 2143,1346.6 2143,1370.37 2258.24,1382.25 \n",
       "  \" fill=\"#adb2b7\" fill-rule=\"evenodd\" fill-opacity=\"1\"/>\n",
       "<polygon clip-path=\"url(#clip6000)\" points=\"\n",
       "2258.24,1381.82 2371.4,1370.15 2371.4,1346.82 2258.24,1335.15 2145.08,1346.82 2145.08,1370.15 2258.24,1381.82 \n",
       "  \" fill=\"#fe4365\" fill-rule=\"evenodd\" fill-opacity=\"1\"/>\n",
       "<polygon clip-path=\"url(#clip6000)\" points=\"\n",
       "1638.73,1518.61 1753.97,1506.73 1753.97,1482.96 1638.73,1471.08 1523.49,1482.96 1523.49,1506.73 1638.73,1518.61 \n",
       "  \" fill=\"#adb2b7\" fill-rule=\"evenodd\" fill-opacity=\"1\"/>\n",
       "<polygon clip-path=\"url(#clip6000)\" points=\"\n",
       "1638.73,1518.18 1751.89,1506.51 1751.89,1483.18 1638.73,1471.51 1525.57,1483.18 1525.57,1506.51 1638.73,1518.18 \n",
       "  \" fill=\"#fe4365\" fill-rule=\"evenodd\" fill-opacity=\"1\"/>\n",
       "<g clip-path=\"url(#clip6000)\">\n",
       "<text style=\"fill:#000000; fill-opacity:1; font-family:Arial,Helvetica Neue,Helvetica,sans-serif; font-size:84px; text-anchor:middle;\" transform=\"rotate(0, 1683.03, 119.907)\" x=\"1683.03\" y=\"119.907\">Any</text>\n",
       "</g>\n",
       "<g clip-path=\"url(#clip6000)\">\n",
       "<text style=\"fill:#000000; fill-opacity:1; font-family:Arial,Helvetica Neue,Helvetica,sans-serif; font-size:84px; text-anchor:middle;\" transform=\"rotate(0, 1760.17, 560.96)\" x=\"1760.17\" y=\"560.96\">Number</text>\n",
       "</g>\n",
       "<g clip-path=\"url(#clip6000)\">\n",
       "<text style=\"fill:#000000; fill-opacity:1; font-family:Arial,Helvetica Neue,Helvetica,sans-serif; font-size:84px; text-anchor:middle;\" transform=\"rotate(0, 1039.43, 772.725)\" x=\"1039.43\" y=\"772.725\">Real</text>\n",
       "</g>\n",
       "<g clip-path=\"url(#clip6000)\">\n",
       "<text style=\"fill:#000000; fill-opacity:1; font-family:Arial,Helvetica Neue,Helvetica,sans-serif; font-size:84px; text-anchor:middle;\" transform=\"rotate(0, 1153.75, 1115.48)\" x=\"1153.75\" y=\"1115.48\">AbstractFloat</text>\n",
       "</g>\n",
       "<g clip-path=\"url(#clip6000)\">\n",
       "<text style=\"fill:#000000; fill-opacity:1; font-family:Arial,Helvetica Neue,Helvetica,sans-serif; font-size:84px; text-anchor:middle;\" transform=\"rotate(0, 799.878, 1495.02)\" x=\"799.878\" y=\"1495.02\">BigFloat</text>\n",
       "</g>\n",
       "<g clip-path=\"url(#clip6000)\">\n",
       "<text style=\"fill:#000000; fill-opacity:1; font-family:Arial,Helvetica Neue,Helvetica,sans-serif; font-size:84px; text-anchor:middle;\" transform=\"rotate(0, 157.51, 1502.97)\" x=\"157.51\" y=\"1502.97\">Float16</text>\n",
       "</g>\n",
       "<g clip-path=\"url(#clip6000)\">\n",
       "<text style=\"fill:#000000; fill-opacity:1; font-family:Arial,Helvetica Neue,Helvetica,sans-serif; font-size:84px; text-anchor:middle;\" transform=\"rotate(0, 2258.24, 1388.98)\" x=\"2258.24\" y=\"1388.98\">Float32</text>\n",
       "</g>\n",
       "<g clip-path=\"url(#clip6000)\">\n",
       "<text style=\"fill:#000000; fill-opacity:1; font-family:Arial,Helvetica Neue,Helvetica,sans-serif; font-size:84px; text-anchor:middle;\" transform=\"rotate(0, 1638.73, 1525.34)\" x=\"1638.73\" y=\"1525.34\">Float64</text>\n",
       "</g>\n",
       "</svg>\n"
      ]
     },
     "execution_count": 22,
     "metadata": {},
     "output_type": "execute_result"
    }
   ],
   "source": [
    "using GraphRecipes\n",
    "using Plots\n",
    "\n",
    "#pyplot(size=(800, 600))\n",
    "gr(size=(600, 400))\n",
    "theme(:dark)\n",
    "\n",
    "plot(AbstractFloat, method=:tree, fontsize=4)"
   ]
  },
  {
   "cell_type": "markdown",
   "metadata": {},
   "source": [
    "## Overflow and underflow of floating-point number\n",
    "\n",
    "* For double precision, the range is $\\pm 10^{\\pm 308}$. In most situations, underflow is preferred over overflow. Overflow causes crashes. Underflow yields zeros or denormalized numbers. \n",
    "\n",
    "* E.g., the logit link function is\n",
    "$$p = \\frac{\\exp (x^T \\beta)}{1 + \\exp (x^T \\beta)} = \\frac{1}{1+\\exp(- x^T \\beta)}.$$\n",
    "The former expression can easily lead to `Inf / Inf = NaN`, while the latter expression leads to graceful underflow."
   ]
  },
  {
   "cell_type": "code",
   "execution_count": 23,
   "metadata": {},
   "outputs": [
    {
     "name": "stdout",
     "output_type": "stream",
     "text": [
      "Float16\t6.104e-5\t6.55e4\t6.104e-5\t6.55e4\t0.000977\n",
      "Float32\t1.1754944e-38\t3.4028235e38\t1.1754944e-38\t3.4028235e38\t1.1920929e-7\n",
      "Float64\t2.2250738585072014e-308\t1.7976931348623157e308\t2.2250738585072014e-308\t1.7976931348623157e308\t2.220446049250313e-16\n"
     ]
    }
   ],
   "source": [
    "for T in [Float16, Float32, Float64]\n",
    "    println(T, '\\t', floatmin(T), '\\t', floatmax(T), '\\t', floatmin(T), \n",
    "        '\\t', floatmax(T), '\\t', eps(T))\n",
    "end"
   ]
  },
  {
   "cell_type": "markdown",
   "metadata": {},
   "source": [
    "* `BigFloat` in Julia offers arbitrary precision."
   ]
  },
  {
   "cell_type": "code",
   "execution_count": 24,
   "metadata": {},
   "outputs": [
    {
     "name": "stdout",
     "output_type": "stream",
     "text": [
      "precision(BigFloat) = 256\n",
      "floatmin(BigFloat) = 8.50969131174083613912978790962048280567755996982969624908264897850135431080301e-1388255822130839284\n",
      "floatmax(BigFloat) = 5.875653789111587590936911998878442589938516392745498308333779606469323584389875e+1388255822130839282\n"
     ]
    }
   ],
   "source": [
    "@show precision(BigFloat)\n",
    "@show floatmin(BigFloat)\n",
    "@show floatmax(BigFloat);"
   ]
  },
  {
   "cell_type": "code",
   "execution_count": 25,
   "metadata": {},
   "outputs": [
    {
     "name": "stdout",
     "output_type": "stream",
     "text": [
      "BigFloat(π) = 3.141592653589793238462643383279502884197169399375105820974944592307816406286198\n",
      "BigFloat(π) = 3.141592653589793238462643383279502884197169399375105820974944592307816406286208998628034825342117067982148086513282306647093844609550582231725359408128481117450284102701938521105559644622948954930381964428810975665933446128475648233786783165271201909145648566923460348610454326648213393607260249141273724586997\n"
     ]
    }
   ],
   "source": [
    "@show BigFloat(π); # default precision for BigFloat is 256 bits\n",
    "# set precision to 1024 bits\n",
    "setprecision(BigFloat, 1024) do \n",
    "    @show BigFloat(π)\n",
    "end;"
   ]
  },
  {
   "cell_type": "markdown",
   "metadata": {},
   "source": [
    "## Catastrophic cancellation\n",
    "\n",
    "* **Scenario 1**: Addition or subtraction of two numbers of widely different magnitudes: $a+b$ or $a-b$ where $a \\gg b$ or $a \\ll b$. We loose the precision in the number of smaller magnitude. Consider \n",
    "$$\\begin{eqnarray*}\n",
    "    a &=& x.xxx ... \\times 2^{30} \\\\  \n",
    "    b &=& y.yyy... \\times 2^{-30}\n",
    "\\end{eqnarray*}$$\n",
    "What happens when computer calculates $a+b$? We get $a+b=a$!"
   ]
  },
  {
   "cell_type": "code",
   "execution_count": 26,
   "metadata": {},
   "outputs": [
    {
     "data": {
      "text/plain": [
       "true"
      ]
     },
     "execution_count": 26,
     "metadata": {},
     "output_type": "execute_result"
    }
   ],
   "source": [
    "a = 1.0 * 2.0^30\n",
    "b = 1.0 * 2.0^-30\n",
    "a + b == a"
   ]
  },
  {
   "cell_type": "markdown",
   "metadata": {},
   "source": [
    "* **Scenario 2**: Subtraction of two nearly equal numbers eliminates significant digits.  $a-b$ where $a \\approx b$. Consider \n",
    "$$\\begin{eqnarray*}\n",
    "    a &=& x.xxxxxxxxxx1ssss  \\\\\n",
    "    b &=& x.xxxxxxxxxx0tttt\n",
    "\\end{eqnarray*}$$\n",
    "The result is $1.vvvvu...u$ where $u$ are unassigned digits."
   ]
  },
  {
   "cell_type": "code",
   "execution_count": 27,
   "metadata": {},
   "outputs": [
    {
     "name": "stdout",
     "output_type": "stream",
     "text": [
      "bitstring(a) = \"00111111100111100000011001010001\"\n",
      "bitstring(b) = \"00111111100111100000011001010000\"\n",
      "a - b = 1.1920929f-7\n",
      "bitstring(a - b) = \"00110100000000000000000000000000\"\n"
     ]
    }
   ],
   "source": [
    "a = 1.2345678f0 # rounding\n",
    "@show bitstring(a) # rounding\n",
    "b = 1.2345677f0\n",
    "@show bitstring(b)\n",
    "@show a - b # correct result should be 1e-7\n",
    "@show bitstring(a - b);"
   ]
  },
  {
   "cell_type": "markdown",
   "metadata": {},
   "source": [
    "* Implications for numerical computation\n",
    "    - Rule 1: add small numbers together before adding larger ones  \n",
    "    - Rule 2: add numbers of like magnitude together (paring). When all numbers are of same sign and similar magnitude, add in pairs so each stage the summands are of similar magnitude  \n",
    "    - Rule 3: avoid substraction of two numbers that are nearly equal"
   ]
  },
  {
   "cell_type": "markdown",
   "metadata": {},
   "source": [
    "### Algebraic laws\n",
    "\n",
    "Floating-point numbers may violate many algebraic laws we are familiar with, such associative and distributive laws. See Homework 1 problems."
   ]
  },
  {
   "cell_type": "markdown",
   "metadata": {},
   "source": [
    "## Further reading\n",
    "\n",
    "* Textbook treatment, e.g., Chapter II.2 of [Computational Statistics](http://ucla.worldcat.org/title/computational-statistics/oclc/437345409&referer=brief_results) by James Gentle (2010).\n",
    "\n",
    "* [What every computer scientist should know about floating-point arithmetic](http://hua-zhou.github.io/teaching/biostatm280-2017spring/readings/Goldberg91FloatingPoint.pdf) by David Goldberg (1991)."
   ]
  }
 ],
 "metadata": {
  "kernelspec": {
   "display_name": "Julia 1.1.0",
   "language": "julia",
   "name": "julia-1.1"
  },
  "language_info": {
   "file_extension": ".jl",
   "mimetype": "application/julia",
   "name": "julia",
   "version": "1.1.0"
  },
  "toc": {
   "colors": {
    "hover_highlight": "#DAA520",
    "running_highlight": "#FF0000",
    "selected_highlight": "#FFD700"
   },
   "moveMenuLeft": true,
   "nav_menu": {
    "height": "250px",
    "width": "252px"
   },
   "navigate_menu": true,
   "number_sections": true,
   "sideBar": true,
   "skip_h1_title": true,
   "threshold": 4,
   "toc_cell": false,
   "toc_section_display": "block",
   "toc_window_display": true,
   "widenNotebook": false
  }
 },
 "nbformat": 4,
 "nbformat_minor": 2
}
