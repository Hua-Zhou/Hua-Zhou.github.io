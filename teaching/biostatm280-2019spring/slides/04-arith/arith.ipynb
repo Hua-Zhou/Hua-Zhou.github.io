{
 "cells": [
  {
   "cell_type": "markdown",
   "metadata": {
    "toc": "true"
   },
   "source": [
    "# Table of Contents\n",
    " <p><div class=\"lev1 toc-item\"><a href=\"#Computer-arithmetics\" data-toc-modified-id=\"Computer-arithmetics-1\"><span class=\"toc-item-num\">1&nbsp;&nbsp;</span>Computer arithmetics</a></div><div class=\"lev2 toc-item\"><a href=\"#Units-of-computer-storage\" data-toc-modified-id=\"Units-of-computer-storage-11\"><span class=\"toc-item-num\">1.1&nbsp;&nbsp;</span>Units of computer storage</a></div><div class=\"lev2 toc-item\"><a href=\"#Storage-of-Characters\" data-toc-modified-id=\"Storage-of-Characters-12\"><span class=\"toc-item-num\">1.2&nbsp;&nbsp;</span>Storage of Characters</a></div><div class=\"lev2 toc-item\"><a href=\"#Integers:-fixed-point-number-system\" data-toc-modified-id=\"Integers:-fixed-point-number-system-13\"><span class=\"toc-item-num\">1.3&nbsp;&nbsp;</span>Integers: fixed-point number system</a></div><div class=\"lev3 toc-item\"><a href=\"#Signed-integers\" data-toc-modified-id=\"Signed-integers-131\"><span class=\"toc-item-num\">1.3.1&nbsp;&nbsp;</span>Signed integers</a></div><div class=\"lev3 toc-item\"><a href=\"#Unsigned-integers\" data-toc-modified-id=\"Unsigned-integers-132\"><span class=\"toc-item-num\">1.3.2&nbsp;&nbsp;</span>Unsigned integers</a></div><div class=\"lev3 toc-item\"><a href=\"#BigInt\" data-toc-modified-id=\"BigInt-133\"><span class=\"toc-item-num\">1.3.3&nbsp;&nbsp;</span><code>BigInt</code></a></div><div class=\"lev3 toc-item\"><a href=\"#Overflow-and-underflow-for-integer-arithmetic\" data-toc-modified-id=\"Overflow-and-underflow-for-integer-arithmetic-134\"><span class=\"toc-item-num\">1.3.4&nbsp;&nbsp;</span>Overflow and underflow for integer arithmetic</a></div><div class=\"lev2 toc-item\"><a href=\"#Real-numbers:-floating-number-system\" data-toc-modified-id=\"Real-numbers:-floating-number-system-14\"><span class=\"toc-item-num\">1.4&nbsp;&nbsp;</span>Real numbers: floating-number system</a></div><div class=\"lev3 toc-item\"><a href=\"#Overflow-and-underflow-of-floating-point-number\" data-toc-modified-id=\"Overflow-and-underflow-of-floating-point-number-141\"><span class=\"toc-item-num\">1.4.1&nbsp;&nbsp;</span>Overflow and underflow of floating-point number</a></div><div class=\"lev2 toc-item\"><a href=\"#Catastrophic-cancellation\" data-toc-modified-id=\"Catastrophic-cancellation-15\"><span class=\"toc-item-num\">1.5&nbsp;&nbsp;</span>Catastrophic cancellation</a></div><div class=\"lev3 toc-item\"><a href=\"#Algebraic-laws\" data-toc-modified-id=\"Algebraic-laws-151\"><span class=\"toc-item-num\">1.5.1&nbsp;&nbsp;</span>Algebraic laws</a></div><div class=\"lev2 toc-item\"><a href=\"#Further-reading\" data-toc-modified-id=\"Further-reading-16\"><span class=\"toc-item-num\">1.6&nbsp;&nbsp;</span>Further reading</a></div>"
   ]
  },
  {
   "cell_type": "code",
   "execution_count": 1,
   "metadata": {},
   "outputs": [
    {
     "name": "stdout",
     "output_type": "stream",
     "text": [
      "Julia Version 1.1.0\n",
      "Commit 80516ca202 (2019-01-21 21:24 UTC)\n",
      "Platform Info:\n",
      "  OS: macOS (x86_64-apple-darwin14.5.0)\n",
      "  CPU: Intel(R) Core(TM) i7-6920HQ CPU @ 2.90GHz\n",
      "  WORD_SIZE: 64\n",
      "  LIBM: libopenlibm\n",
      "  LLVM: libLLVM-6.0.1 (ORCJIT, skylake)\n",
      "Environment:\n",
      "  JULIA_EDITOR = code\n"
     ]
    }
   ],
   "source": [
    "versioninfo()"
   ]
  },
  {
   "cell_type": "markdown",
   "metadata": {},
   "source": [
    "# Computer arithmetics"
   ]
  },
  {
   "cell_type": "markdown",
   "metadata": {},
   "source": [
    "## Units of computer storage\n",
    "\n",
    "* `bit` = `binary` + `digit` (coined by statistician [John Tukey](https://en.wikipedia.org/wiki/Bit#History)).  \n",
    "* `byte` = 8 bits.  \n",
    "* KB = kilobyte = $10^3$ bytes.  \n",
    "* MB = megabytes = $10^6$ bytes.  \n",
    "* GB = gigabytes = $10^9$ bytes. Typical RAM size.  \n",
    "* TB = terabytes = $10^{12}$ bytes. Typical hard drive size. Size of NYSE each trading session.    \n",
    "* PB = petabytes = $10^{15}$ bytes.  \n",
    "* EB = exabytes = $10^{18}$ bytes. Size of all healthcare data in 2011 is ~150 EB.    \n",
    "* ZB = zetabytes = $10^{21}$ bytes. \n",
    "\n",
    "Julia function `Base.summarysize` shows the amount of memory (in bytes) used by an object."
   ]
  },
  {
   "cell_type": "code",
   "execution_count": 2,
   "metadata": {},
   "outputs": [
    {
     "data": {
      "text/plain": [
       "80040"
      ]
     },
     "execution_count": 2,
     "metadata": {},
     "output_type": "execute_result"
    }
   ],
   "source": [
    "x = rand(100, 100)\n",
    "Base.summarysize(x)"
   ]
  },
  {
   "cell_type": "markdown",
   "metadata": {},
   "source": [
    "`varinfo()` function prints all variables in workspace and their sizes."
   ]
  },
  {
   "cell_type": "code",
   "execution_count": 3,
   "metadata": {},
   "outputs": [
    {
     "data": {
      "text/latex": [
       "\\begin{tabular}\n",
       "{l | r | l}\n",
       "name & size & summary \\\\\n",
       "\\hline\n",
       "Base &  & Module \\\\\n",
       "Core &  & Module \\\\\n",
       "Main &  & Module \\\\\n",
       "x & 78.164 KiB & 100×100 Array\\{Float64,2\\} \\\\\n",
       "\\end{tabular}\n"
      ],
      "text/markdown": [
       "| name |       size | summary                  |\n",
       "|:---- | ----------:|:------------------------ |\n",
       "| Base |            | Module                   |\n",
       "| Core |            | Module                   |\n",
       "| Main |            | Module                   |\n",
       "| x    | 78.164 KiB | 100×100 Array{Float64,2} |\n"
      ],
      "text/plain": [
       "name       size summary                 \n",
       "–––– –––––––––– ––––––––––––––––––––––––\n",
       "Base            Module                  \n",
       "Core            Module                  \n",
       "Main            Module                  \n",
       "x    78.164 KiB 100×100 Array{Float64,2}"
      ]
     },
     "execution_count": 3,
     "metadata": {},
     "output_type": "execute_result"
    }
   ],
   "source": [
    "varinfo() # similar to Matlab whos()"
   ]
  },
  {
   "cell_type": "markdown",
   "metadata": {},
   "source": [
    "## Storage of Characters\n",
    "\n",
    "* Plain text files are stored in the form of characters: `.jl`, `.r`, `.c`, `.cpp`, `.ipynb`, `.html`, `.tex`, ...  \n",
    "* ASCII (American Code for Information Interchange): 7 bits, only $2^7=128$ characters.  "
   ]
  },
  {
   "cell_type": "code",
   "execution_count": 4,
   "metadata": {},
   "outputs": [
    {
     "data": {
      "text/plain": [
       "128×2 Array{Any,2}:\n",
       "   0  '\\0'  \n",
       "   1  '\\x01'\n",
       "   2  '\\x02'\n",
       "   3  '\\x03'\n",
       "   4  '\\x04'\n",
       "   5  '\\x05'\n",
       "   6  '\\x06'\n",
       "   7  '\\a'  \n",
       "   8  '\\b'  \n",
       "   9  '\\t'  \n",
       "  10  '\\n'  \n",
       "  11  '\\v'  \n",
       "  12  '\\f'  \n",
       "   ⋮        \n",
       " 116  't'   \n",
       " 117  'u'   \n",
       " 118  'v'   \n",
       " 119  'w'   \n",
       " 120  'x'   \n",
       " 121  'y'   \n",
       " 122  'z'   \n",
       " 123  '{'   \n",
       " 124  '|'   \n",
       " 125  '}'   \n",
       " 126  '~'   \n",
       " 127  '\\x7f'"
      ]
     },
     "execution_count": 4,
     "metadata": {},
     "output_type": "execute_result"
    }
   ],
   "source": [
    "# integers 0, 1, ..., 127 and corresponding ascii character\n",
    "[0:127 Char.(0:127)]"
   ]
  },
  {
   "cell_type": "markdown",
   "metadata": {},
   "source": [
    "* Extended ASCII: 8 bits, $2^8=256$ characters.  "
   ]
  },
  {
   "cell_type": "code",
   "execution_count": 5,
   "metadata": {},
   "outputs": [
    {
     "data": {
      "text/plain": [
       "128×2 Array{Any,2}:\n",
       " 128  '\\u80'\n",
       " 129  '\\u81'\n",
       " 130  '\\u82'\n",
       " 131  '\\u83'\n",
       " 132  '\\u84'\n",
       " 133  '\\u85'\n",
       " 134  '\\u86'\n",
       " 135  '\\u87'\n",
       " 136  '\\u88'\n",
       " 137  '\\u89'\n",
       " 138  '\\u8a'\n",
       " 139  '\\u8b'\n",
       " 140  '\\u8c'\n",
       "   ⋮        \n",
       " 244  'ô'   \n",
       " 245  'õ'   \n",
       " 246  'ö'   \n",
       " 247  '÷'   \n",
       " 248  'ø'   \n",
       " 249  'ù'   \n",
       " 250  'ú'   \n",
       " 251  'û'   \n",
       " 252  'ü'   \n",
       " 253  'ý'   \n",
       " 254  'þ'   \n",
       " 255  'ÿ'   "
      ]
     },
     "execution_count": 5,
     "metadata": {},
     "output_type": "execute_result"
    }
   ],
   "source": [
    "# integers 128, 129, ..., 255 and corresponding extended ascii character\n",
    "# show(STDOUT, \"text/plain\", [128:255 Char.(128:255)])\n",
    "[128:255 Char.(128:255)]"
   ]
  },
  {
   "cell_type": "markdown",
   "metadata": {},
   "source": [
    "* Unicode: UTF-8, UTF-16 and UTF-32 support many more characters including foreign characters; last 7 digits conform to ASCII. \n",
    "\n",
    "* [UTF-8](https://en.wikipedia.org/wiki/UTF-8) is the current dominant character encoding on internet.  \n",
    "\n",
    "<img src=\"https://upload.wikimedia.org/wikipedia/commons/c/c4/Utf8webgrowth.svg\" width=\"500\" align=\"center\"/>\n",
    "\n",
    "* Julia supports the full range of UTF-8 characters. You can type many Unicode math symbols by typing the backslashed LaTeX symbol name followed by tab. "
   ]
  },
  {
   "cell_type": "code",
   "execution_count": 6,
   "metadata": {},
   "outputs": [
    {
     "data": {
      "text/plain": [
       "0.0"
      ]
     },
     "execution_count": 6,
     "metadata": {},
     "output_type": "execute_result"
    }
   ],
   "source": [
    "# \\beta-<tab>\n",
    "β = 0.0\n",
    "# \\beta-<tab>-\\hat-<tab>\n",
    "β̂ = 0.0"
   ]
  },
  {
   "cell_type": "markdown",
   "metadata": {},
   "source": [
    "* For a table of unicode symbols that can be entered via tab completion of LaTeX-like abbreviations: <https://docs.julialang.org/en/v1.1/manual/unicode-input/#Unicode-Input-1>"
   ]
  },
  {
   "cell_type": "markdown",
   "metadata": {},
   "source": [
    "## Integers: fixed-point number system\n",
    "\n",
    "* Fixed-point number system is a computer model for integers $\\mathbb{Z}$. \n",
    "\n",
    "* The number of bits and method of representing negative numbers vary from system to system. \n",
    "    - The `integer` type in R has $M=32$ or 64 bits, determined by machine word size. \n",
    "    - Matlab has `(u)int8`, `(u)int16`, `(u)int32`, `(u)int64`.  \n",
    "\n",
    "* Julia has even more integer types. Using Tom Breloff's `Plots.jl` and `GraphRecipes.jl` packages, we can [visualize the type tree](http://www.breloff.com/Graphs/) under `Integer`\n",
    "    - Storage for a `Signed` or `Unsigned` integer can be $M = 8, 16, 32, 64$ or 128 bits.  \n",
    "    - GraphRecipes.jl package has a convenience function for plotting the type hiearchy."
   ]
  },
  {
   "cell_type": "code",
   "execution_count": 7,
   "metadata": {},
   "outputs": [
    {
     "data": {
      "image/svg+xml": [
       "<?xml version=\"1.0\" encoding=\"utf-8\"?>\n",
       "<svg xmlns=\"http://www.w3.org/2000/svg\" xmlns:xlink=\"http://www.w3.org/1999/xlink\" width=\"600\" height=\"400\" viewBox=\"0 0 2400 1600\">\n",
       "<defs>\n",
       "  <clipPath id=\"clip9900\">\n",
       "    <rect x=\"0\" y=\"0\" width=\"2400\" height=\"1600\"/>\n",
       "  </clipPath>\n",
       "</defs>\n",
       "<polygon clip-path=\"url(#clip9900)\" points=\"\n",
       "0,1600 2400,1600 2400,0 0,0 \n",
       "  \" fill=\"#ffffff\" fill-rule=\"evenodd\" fill-opacity=\"1\"/>\n",
       "<defs>\n",
       "  <clipPath id=\"clip9901\">\n",
       "    <rect x=\"480\" y=\"0\" width=\"1681\" height=\"1600\"/>\n",
       "  </clipPath>\n",
       "</defs>\n",
       "<polygon clip-path=\"url(#clip9900)\" points=\"\n",
       "94.4882,1537.01 2321.26,1537.01 2321.26,47.2441 94.4882,47.2441 \n",
       "  \" fill=\"#ffffff\" fill-rule=\"evenodd\" fill-opacity=\"1\"/>\n",
       "<defs>\n",
       "  <clipPath id=\"clip9902\">\n",
       "    <rect x=\"94\" y=\"47\" width=\"2228\" height=\"1491\"/>\n",
       "  </clipPath>\n",
       "</defs>\n",
       "<polyline clip-path=\"url(#clip9902)\" style=\"stroke:#d968a2; stroke-width:4; stroke-opacity:1; fill:none\" points=\"\n",
       "  1171.91,89.4072 1171.91,99.223 1171.9,109.247 1171.89,119.463 1171.88,129.856 1171.86,140.41 1171.84,151.111 1171.81,161.942 1171.79,172.889 1171.76,183.936 \n",
       "  1171.73,195.068 1171.7,206.269 1171.67,217.523 1171.64,228.817 1171.6,240.133 1171.57,251.457 1171.54,262.773 1171.5,274.066 1171.47,285.321 1171.44,296.522 \n",
       "  1171.41,307.653 1171.38,318.7 1171.36,329.647 1171.33,340.479 1171.31,351.18 1171.3,361.734 1171.28,372.127 1171.27,382.343 1171.26,392.367 1171.26,402.182 \n",
       "  \n",
       "  \"/>\n",
       "<polyline clip-path=\"url(#clip9902)\" style=\"stroke:#d968a2; stroke-width:4; stroke-opacity:1; fill:none\" points=\"\n",
       "  1171.26,402.182 1171.35,410.152 1171.59,418.287 1171.99,426.576 1172.52,435.006 1173.18,443.564 1173.96,452.24 1174.83,461.019 1175.8,469.891 1176.84,478.842 \n",
       "  1177.95,487.861 1179.11,496.935 1180.31,506.053 1181.55,515.2 1182.8,524.366 1184.06,533.539 1185.31,542.705 1186.54,551.853 1187.75,560.97 1188.91,570.044 \n",
       "  1190.02,579.063 1191.06,588.014 1192.03,596.886 1192.9,605.665 1193.67,614.341 1194.33,622.899 1194.87,631.329 1195.26,639.618 1195.51,647.753 1195.59,655.723 \n",
       "  \n",
       "  \"/>\n",
       "<polyline clip-path=\"url(#clip9902)\" style=\"stroke:#d968a2; stroke-width:4; stroke-opacity:1; fill:none\" points=\"\n",
       "  1195.59,655.723 1195.62,665.256 1195.7,674.991 1195.82,684.912 1195.99,695.005 1196.2,705.255 1196.44,715.646 1196.72,726.165 1197.02,736.795 1197.35,747.523 \n",
       "  1197.7,758.332 1198.07,769.209 1198.45,780.138 1198.84,791.104 1199.23,802.093 1199.63,813.089 1200.03,824.078 1200.42,835.044 1200.8,845.973 1201.16,856.85 \n",
       "  1201.51,867.659 1201.84,878.387 1202.15,889.017 1202.42,899.535 1202.67,909.927 1202.87,920.177 1203.04,930.27 1203.17,940.191 1203.24,949.926 1203.27,959.459 \n",
       "  \n",
       "  \"/>\n",
       "<polyline clip-path=\"url(#clip9902)\" style=\"stroke:#d968a2; stroke-width:4; stroke-opacity:1; fill:none\" points=\"\n",
       "  1203.27,959.459 1204.03,966.103 1206.22,972.576 1209.74,978.89 1214.49,985.058 1220.35,991.092 1227.23,997.006 1235.01,1002.81 1243.59,1008.52 1252.86,1014.15 \n",
       "  1262.72,1019.71 1273.06,1025.21 1283.77,1030.67 1294.74,1036.09 1305.88,1041.5 1317.07,1046.9 1328.2,1052.3 1339.18,1057.73 1349.89,1063.18 1360.23,1068.69 \n",
       "  1370.08,1074.24 1379.36,1079.87 1387.94,1085.58 1395.72,1091.39 1402.6,1097.3 1408.46,1103.34 1413.21,1109.5 1416.73,1115.82 1418.92,1122.29 1419.68,1128.94 \n",
       "  \n",
       "  \"/>\n",
       "<polyline clip-path=\"url(#clip9902)\" style=\"stroke:#d968a2; stroke-width:4; stroke-opacity:1; fill:none\" points=\"\n",
       "  1203.27,959.459 1202.88,966.125 1201.76,972.856 1199.96,979.648 1197.52,986.494 1194.52,993.391 1190.99,1000.33 1187.01,1007.32 1182.61,1014.34 1177.86,1021.39 \n",
       "  1172.8,1028.47 1167.51,1035.56 1162.02,1042.68 1156.39,1049.81 1150.68,1056.94 1144.95,1064.08 1139.24,1071.22 1133.62,1078.34 1128.13,1085.46 1122.83,1092.56 \n",
       "  1117.78,1099.63 1113.03,1106.69 1108.63,1113.71 1104.64,1120.69 1101.12,1127.63 1098.11,1134.53 1095.68,1141.38 1093.87,1148.17 1092.75,1154.9 1092.36,1161.56 \n",
       "  \n",
       "  \"/>\n",
       "<polyline clip-path=\"url(#clip9902)\" style=\"stroke:#d968a2; stroke-width:4; stroke-opacity:1; fill:none\" points=\"\n",
       "  1203.27,959.459 1201.29,968.258 1195.52,976.472 1186.24,984.144 1173.75,991.319 1158.31,998.039 1140.21,1004.35 1119.72,1010.29 1097.14,1015.9 1072.73,1021.24 \n",
       "  1046.78,1026.33 1019.57,1031.23 991.374,1035.98 962.481,1040.62 933.167,1045.2 903.714,1049.76 874.4,1054.33 845.507,1058.97 817.315,1063.72 790.103,1068.62 \n",
       "  764.153,1073.72 739.745,1079.05 717.158,1084.67 696.674,1090.61 678.572,1096.92 663.133,1103.64 650.637,1110.81 641.364,1118.48 635.595,1126.7 633.609,1135.5 \n",
       "  \n",
       "  \"/>\n",
       "<polyline clip-path=\"url(#clip9902)\" style=\"stroke:#d968a2; stroke-width:4; stroke-opacity:1; fill:none\" points=\"\n",
       "  633.609,1135.5 634.349,1146.17 636.498,1156.9 639.952,1167.67 644.607,1178.48 650.359,1189.34 657.102,1200.23 664.732,1211.15 673.146,1222.09 682.239,1233.07 \n",
       "  691.905,1244.06 702.042,1255.07 712.544,1266.09 723.307,1277.12 734.227,1288.16 745.199,1299.2 756.118,1310.24 766.881,1321.27 777.383,1332.29 787.52,1343.3 \n",
       "  797.187,1354.29 806.279,1365.26 814.693,1376.21 822.324,1387.13 829.067,1398.02 834.818,1408.87 839.473,1419.69 842.927,1430.46 845.076,1441.19 845.816,1451.86 \n",
       "  \n",
       "  \"/>\n",
       "<polyline clip-path=\"url(#clip9902)\" style=\"stroke:#d968a2; stroke-width:4; stroke-opacity:1; fill:none\" points=\"\n",
       "  633.609,1135.5 634.414,1143.58 636.753,1151.56 640.513,1159.43 645.579,1167.2 651.838,1174.88 659.177,1182.48 667.482,1190.01 676.639,1197.48 686.535,1204.89 \n",
       "  697.056,1212.26 708.088,1219.58 719.518,1226.88 731.232,1234.16 743.117,1241.42 755.058,1248.68 766.942,1255.95 778.656,1263.22 790.086,1270.52 801.118,1277.85 \n",
       "  811.639,1285.21 821.535,1292.63 830.692,1300.09 838.997,1307.62 846.336,1315.23 852.595,1322.91 857.662,1330.68 861.421,1338.55 863.76,1346.52 864.565,1354.61 \n",
       "  \n",
       "  \"/>\n",
       "<polyline clip-path=\"url(#clip9902)\" style=\"stroke:#d968a2; stroke-width:4; stroke-opacity:1; fill:none\" points=\"\n",
       "  633.609,1135.5 631.95,1147.74 627.128,1159.37 619.378,1170.46 608.935,1181.02 596.031,1191.12 580.902,1200.8 563.782,1210.1 544.906,1219.06 524.506,1227.73 \n",
       "  502.818,1236.16 480.076,1244.39 456.514,1252.46 432.367,1260.42 407.868,1268.32 383.252,1276.19 358.753,1284.08 334.605,1292.04 311.043,1300.11 288.301,1308.34 \n",
       "  266.613,1316.77 246.214,1325.44 227.337,1334.41 210.217,1343.7 195.088,1353.38 182.185,1363.48 171.741,1374.05 163.991,1385.13 159.169,1396.77 157.51,1409.01 \n",
       "  \n",
       "  \"/>\n",
       "<polyline clip-path=\"url(#clip9902)\" style=\"stroke:#d968a2; stroke-width:4; stroke-opacity:1; fill:none\" points=\"\n",
       "  633.609,1135.5 633.532,1145.62 633.309,1155.96 632.951,1166.49 632.468,1177.2 631.871,1188.08 631.171,1199.11 630.378,1210.27 629.505,1221.55 628.561,1232.94 \n",
       "  627.558,1244.41 626.505,1255.95 625.415,1267.54 624.298,1279.17 623.164,1290.83 622.025,1302.5 620.892,1314.16 619.774,1325.79 618.684,1337.38 617.632,1348.92 \n",
       "  616.629,1360.39 615.685,1371.78 614.811,1383.06 614.019,1394.22 613.319,1405.25 612.722,1416.13 612.239,1426.84 611.88,1437.37 611.657,1447.71 611.58,1457.83 \n",
       "  \n",
       "  \"/>\n",
       "<polyline clip-path=\"url(#clip9902)\" style=\"stroke:#d968a2; stroke-width:4; stroke-opacity:1; fill:none\" points=\"\n",
       "  633.609,1135.5 632.401,1148.46 628.889,1161.3 623.244,1174.03 615.638,1186.66 606.24,1199.18 595.221,1211.63 582.752,1223.99 569.003,1236.29 554.145,1248.52 \n",
       "  538.349,1260.71 521.785,1272.85 504.624,1284.97 487.036,1297.06 469.193,1309.13 451.264,1321.21 433.42,1333.28 415.832,1345.37 398.671,1357.49 382.107,1369.63 \n",
       "  366.311,1381.82 351.453,1394.06 337.705,1406.35 325.236,1418.72 314.217,1431.16 304.819,1443.68 297.212,1456.31 291.567,1469.04 288.056,1481.88 286.847,1494.84 \n",
       "  \n",
       "  \"/>\n",
       "<polyline clip-path=\"url(#clip9902)\" style=\"stroke:#d968a2; stroke-width:4; stroke-opacity:1; fill:none\" points=\"\n",
       "  633.609,1135.5 632.896,1146.25 630.824,1157.08 627.494,1167.96 623.006,1178.9 617.46,1189.89 610.959,1200.93 603.602,1212.01 595.49,1223.12 586.723,1234.27 \n",
       "  577.403,1245.44 567.63,1256.64 557.504,1267.85 547.127,1279.07 536.599,1290.31 526.02,1301.54 515.492,1312.77 505.115,1324 494.989,1335.21 485.216,1346.41 \n",
       "  475.896,1357.58 467.129,1368.73 459.017,1379.84 451.66,1390.92 445.158,1401.96 439.613,1412.95 435.125,1423.89 431.795,1434.77 429.723,1445.6 429.01,1456.35 \n",
       "  \n",
       "  \"/>\n",
       "<polyline clip-path=\"url(#clip9902)\" style=\"stroke:#d968a2; stroke-width:4; stroke-opacity:1; fill:none\" points=\"\n",
       "  1203.27,959.459 1205.36,967.548 1211.41,975.1 1221.14,982.155 1234.26,988.751 1250.46,994.929 1269.46,1000.73 1290.95,1006.19 1314.66,1011.35 1340.28,1016.26 \n",
       "  1367.51,1020.94 1396.07,1025.45 1425.65,1029.82 1455.98,1034.08 1486.74,1038.29 1517.65,1042.48 1548.42,1046.69 1578.74,1050.95 1608.33,1055.32 1636.88,1059.82 \n",
       "  1664.12,1064.51 1689.73,1069.41 1713.44,1074.58 1734.94,1080.04 1753.93,1085.84 1770.14,1092.02 1783.25,1098.61 1792.98,1105.67 1799.04,1113.22 1801.12,1121.31 \n",
       "  \n",
       "  \"/>\n",
       "<polyline clip-path=\"url(#clip9902)\" style=\"stroke:#d968a2; stroke-width:4; stroke-opacity:1; fill:none\" points=\"\n",
       "  1801.12,1121.31 1801.93,1130.53 1804.27,1139.69 1808.04,1148.81 1813.12,1157.88 1819.39,1166.92 1826.75,1175.91 1835.07,1184.87 1844.25,1193.81 1854.17,1202.72 \n",
       "  1864.72,1211.6 1875.78,1220.47 1887.23,1229.33 1898.97,1238.18 1910.89,1247.02 1922.86,1255.86 1934.77,1264.7 1946.51,1273.55 1957.97,1282.4 1969.02,1291.27 \n",
       "  1979.57,1300.16 1989.49,1309.07 1998.67,1318 2006.99,1326.97 2014.35,1335.96 2020.62,1344.99 2025.7,1354.07 2029.47,1363.19 2031.81,1372.35 2032.62,1381.57 \n",
       "  \n",
       "  \"/>\n",
       "<polyline clip-path=\"url(#clip9902)\" style=\"stroke:#d968a2; stroke-width:4; stroke-opacity:1; fill:none\" points=\"\n",
       "  1801.12,1121.31 1801.03,1131.82 1800.75,1142.55 1800.31,1153.48 1799.72,1164.6 1798.99,1175.89 1798.13,1187.34 1797.16,1198.92 1796.08,1210.63 1794.92,1222.44 \n",
       "  1793.69,1234.34 1792.4,1246.31 1791.06,1258.34 1789.69,1270.41 1788.3,1282.51 1786.9,1294.61 1785.51,1306.71 1784.14,1318.78 1782.8,1330.81 1781.51,1342.79 \n",
       "  1780.28,1354.69 1779.12,1366.5 1778.04,1378.2 1777.07,1389.79 1776.21,1401.23 1775.48,1412.52 1774.89,1423.64 1774.45,1434.58 1774.17,1445.3 1774.08,1455.81 \n",
       "  \n",
       "  \"/>\n",
       "<polyline clip-path=\"url(#clip9902)\" style=\"stroke:#d968a2; stroke-width:4; stroke-opacity:1; fill:none\" points=\"\n",
       "  1801.12,1121.31 1800.42,1130.62 1798.4,1139.94 1795.14,1149.28 1790.75,1158.64 1785.33,1168.01 1778.97,1177.39 1771.78,1186.78 1763.84,1196.18 1755.27,1205.59 \n",
       "  1746.15,1215 1736.6,1224.42 1726.69,1233.85 1716.55,1243.27 1706.25,1252.7 1695.9,1262.13 1685.61,1271.56 1675.46,1280.99 1665.56,1290.42 1656,1299.84 \n",
       "  1646.89,1309.25 1638.31,1318.66 1630.38,1328.06 1623.18,1337.45 1616.83,1346.83 1611.4,1356.2 1607.01,1365.55 1603.76,1374.89 1601.73,1384.22 1601.03,1393.53 \n",
       "  \n",
       "  \"/>\n",
       "<polyline clip-path=\"url(#clip9902)\" style=\"stroke:#d968a2; stroke-width:4; stroke-opacity:1; fill:none\" points=\"\n",
       "  1801.12,1121.31 1802.71,1135.02 1807.34,1148.33 1814.78,1161.29 1824.81,1173.92 1837.2,1186.24 1851.73,1198.29 1868.16,1210.1 1886.29,1221.69 1905.87,1233.1 \n",
       "  1926.7,1244.34 1948.53,1255.46 1971.16,1266.48 1994.34,1277.42 2017.86,1288.32 2041.5,1299.21 2065.02,1310.11 2088.2,1321.05 2110.83,1332.07 2132.66,1343.19 \n",
       "  2153.48,1354.43 2173.07,1365.84 2191.2,1377.43 2207.63,1389.23 2222.16,1401.29 2234.55,1413.61 2244.57,1426.24 2252.02,1439.2 2256.64,1452.51 2258.24,1466.22 \n",
       "  \n",
       "  \"/>\n",
       "<polyline clip-path=\"url(#clip9902)\" style=\"stroke:#d968a2; stroke-width:4; stroke-opacity:1; fill:none\" points=\"\n",
       "  1801.12,1121.31 1802.11,1132.93 1804.99,1144.49 1809.61,1156.02 1815.84,1167.5 1823.53,1178.94 1832.55,1190.35 1842.76,1201.73 1854.02,1213.09 1866.19,1224.42 \n",
       "  1879.12,1235.73 1892.68,1247.02 1906.74,1258.3 1921.14,1269.57 1935.75,1280.84 1950.43,1292.1 1965.04,1303.37 1979.44,1314.64 1993.49,1325.92 2007.05,1337.22 \n",
       "  2019.99,1348.53 2032.15,1359.86 2043.41,1371.21 2053.62,1382.59 2062.64,1394 2070.34,1405.45 2076.57,1416.93 2081.19,1428.45 2084.06,1440.02 2085.05,1451.64 \n",
       "  \n",
       "  \"/>\n",
       "<polygon clip-path=\"url(#clip9900)\" points=\"\n",
       "1171.91,113.741 1222.48,101.574 1222.48,77.2406 1171.91,65.0739 1121.33,77.2406 1121.33,101.574 1171.91,113.741 \n",
       "  \" fill=\"#000000\" fill-rule=\"evenodd\" fill-opacity=\"1\"/>\n",
       "<polygon clip-path=\"url(#clip9900)\" points=\"\n",
       "1171.91,112.741 1220.41,101.074 1220.41,77.7406 1171.91,66.0739 1123.41,77.7406 1123.41,101.074 1171.91,112.741 \n",
       "  \" fill=\"#009af9\" fill-rule=\"evenodd\" fill-opacity=\"1\"/>\n",
       "<polygon clip-path=\"url(#clip9900)\" points=\"\n",
       "1171.26,426.016 1270.34,414.099 1270.34,390.266 1171.26,378.349 1072.19,390.266 1072.19,414.099 1171.26,426.016 \n",
       "  \" fill=\"#000000\" fill-rule=\"evenodd\" fill-opacity=\"1\"/>\n",
       "<polygon clip-path=\"url(#clip9900)\" points=\"\n",
       "1171.26,425.516 1268.26,413.849 1268.26,390.516 1171.26,378.849 1074.27,390.516 1074.27,413.849 1171.26,425.516 \n",
       "  \" fill=\"#009af9\" fill-rule=\"evenodd\" fill-opacity=\"1\"/>\n",
       "<polygon clip-path=\"url(#clip9900)\" points=\"\n",
       "1195.59,679.806 1262.34,667.765 1262.34,643.681 1195.59,631.64 1128.85,643.681 1128.85,667.765 1195.59,679.806 \n",
       "  \" fill=\"#000000\" fill-rule=\"evenodd\" fill-opacity=\"1\"/>\n",
       "<polygon clip-path=\"url(#clip9900)\" points=\"\n",
       "1195.59,679.056 1260.26,667.39 1260.26,644.056 1195.59,632.39 1130.93,644.056 1130.93,667.39 1195.59,679.056 \n",
       "  \" fill=\"#009af9\" fill-rule=\"evenodd\" fill-opacity=\"1\"/>\n",
       "<polygon clip-path=\"url(#clip9900)\" points=\"\n",
       "1203.27,983.221 1318.51,971.34 1318.51,947.578 1203.27,935.697 1088.03,947.578 1088.03,971.34 1203.27,983.221 \n",
       "  \" fill=\"#000000\" fill-rule=\"evenodd\" fill-opacity=\"1\"/>\n",
       "<polygon clip-path=\"url(#clip9900)\" points=\"\n",
       "1203.27,982.792 1316.43,971.126 1316.43,947.792 1203.27,936.126 1090.11,947.792 1090.11,971.126 1203.27,982.792 \n",
       "  \" fill=\"#009af9\" fill-rule=\"evenodd\" fill-opacity=\"1\"/>\n",
       "<polygon clip-path=\"url(#clip9900)\" points=\"\n",
       "1419.68,1153.02 1486.42,1140.98 1486.42,1116.89 1419.68,1104.85 1352.93,1116.89 1352.93,1140.98 1419.68,1153.02 \n",
       "  \" fill=\"#000000\" fill-rule=\"evenodd\" fill-opacity=\"1\"/>\n",
       "<polygon clip-path=\"url(#clip9900)\" points=\"\n",
       "1419.68,1152.27 1484.34,1140.6 1484.34,1117.27 1419.68,1105.6 1355.01,1117.27 1355.01,1140.6 1419.68,1152.27 \n",
       "  \" fill=\"#009af9\" fill-rule=\"evenodd\" fill-opacity=\"1\"/>\n",
       "<polygon clip-path=\"url(#clip9900)\" points=\"\n",
       "1092.36,1185.13 1304.6,1173.35 1304.6,1149.78 1092.36,1138 880.128,1149.78 880.128,1173.35 1092.36,1185.13 \n",
       "  \" fill=\"#000000\" fill-rule=\"evenodd\" fill-opacity=\"1\"/>\n",
       "<polygon clip-path=\"url(#clip9900)\" points=\"\n",
       "1092.36,1184.9 1302.52,1173.23 1302.52,1149.9 1092.36,1138.23 882.207,1149.9 882.207,1173.23 1092.36,1184.9 \n",
       "  \" fill=\"#009af9\" fill-rule=\"evenodd\" fill-opacity=\"1\"/>\n",
       "<polygon clip-path=\"url(#clip9900)\" points=\"\n",
       "633.609,1159.33 732.683,1147.41 732.683,1123.58 633.609,1111.66 534.536,1123.58 534.536,1147.41 633.609,1159.33 \n",
       "  \" fill=\"#000000\" fill-rule=\"evenodd\" fill-opacity=\"1\"/>\n",
       "<polygon clip-path=\"url(#clip9900)\" points=\"\n",
       "633.609,1158.83 730.604,1147.16 730.604,1123.83 633.609,1112.16 536.614,1123.83 536.614,1147.16 633.609,1158.83 \n",
       "  \" fill=\"#009af9\" fill-rule=\"evenodd\" fill-opacity=\"1\"/>\n",
       "<polygon clip-path=\"url(#clip9900)\" points=\"\n",
       "845.816,1475.69 944.889,1463.78 944.889,1439.94 845.816,1428.03 746.743,1439.94 746.743,1463.78 845.816,1475.69 \n",
       "  \" fill=\"#000000\" fill-rule=\"evenodd\" fill-opacity=\"1\"/>\n",
       "<polygon clip-path=\"url(#clip9900)\" points=\"\n",
       "845.816,1475.19 942.811,1463.53 942.811,1440.19 845.816,1428.53 748.821,1440.19 748.821,1463.53 845.816,1475.19 \n",
       "  \" fill=\"#009af9\" fill-rule=\"evenodd\" fill-opacity=\"1\"/>\n",
       "<polygon clip-path=\"url(#clip9900)\" points=\"\n",
       "864.565,1378.44 963.638,1366.53 963.638,1342.69 864.565,1330.78 765.492,1342.69 765.492,1366.53 864.565,1378.44 \n",
       "  \" fill=\"#000000\" fill-rule=\"evenodd\" fill-opacity=\"1\"/>\n",
       "<polygon clip-path=\"url(#clip9900)\" points=\"\n",
       "864.565,1377.94 961.56,1366.28 961.56,1342.94 864.565,1331.28 767.57,1342.94 767.57,1366.28 864.565,1377.94 \n",
       "  \" fill=\"#009af9\" fill-rule=\"evenodd\" fill-opacity=\"1\"/>\n",
       "<polygon clip-path=\"url(#clip9900)\" points=\"\n",
       "157.51,1432.94 240.418,1420.97 240.418,1397.04 157.51,1385.07 74.6025,1397.04 74.6025,1420.97 157.51,1432.94 \n",
       "  \" fill=\"#000000\" fill-rule=\"evenodd\" fill-opacity=\"1\"/>\n",
       "<polygon clip-path=\"url(#clip9900)\" points=\"\n",
       "157.51,1432.34 238.339,1420.67 238.339,1397.34 157.51,1385.67 76.681,1397.34 76.681,1420.67 157.51,1432.34 \n",
       "  \" fill=\"#009af9\" fill-rule=\"evenodd\" fill-opacity=\"1\"/>\n",
       "<polygon clip-path=\"url(#clip9900)\" points=\"\n",
       "611.58,1481.77 694.488,1469.8 694.488,1445.87 611.58,1433.9 528.673,1445.87 528.673,1469.8 611.58,1481.77 \n",
       "  \" fill=\"#000000\" fill-rule=\"evenodd\" fill-opacity=\"1\"/>\n",
       "<polygon clip-path=\"url(#clip9900)\" points=\"\n",
       "611.58,1481.17 692.409,1469.5 692.409,1446.17 611.58,1434.5 530.751,1446.17 530.751,1469.5 611.58,1481.17 \n",
       "  \" fill=\"#009af9\" fill-rule=\"evenodd\" fill-opacity=\"1\"/>\n",
       "<polygon clip-path=\"url(#clip9900)\" points=\"\n",
       "286.847,1518.78 369.755,1506.81 369.755,1482.88 286.847,1470.91 203.94,1482.88 203.94,1506.81 286.847,1518.78 \n",
       "  \" fill=\"#000000\" fill-rule=\"evenodd\" fill-opacity=\"1\"/>\n",
       "<polygon clip-path=\"url(#clip9900)\" points=\"\n",
       "286.847,1518.18 367.676,1506.51 367.676,1483.18 286.847,1471.51 206.018,1483.18 206.018,1506.51 286.847,1518.18 \n",
       "  \" fill=\"#009af9\" fill-rule=\"evenodd\" fill-opacity=\"1\"/>\n",
       "<polygon clip-path=\"url(#clip9900)\" points=\"\n",
       "429.01,1480.44 495.751,1468.39 495.751,1444.31 429.01,1432.27 362.268,1444.31 362.268,1468.39 429.01,1480.44 \n",
       "  \" fill=\"#000000\" fill-rule=\"evenodd\" fill-opacity=\"1\"/>\n",
       "<polygon clip-path=\"url(#clip9900)\" points=\"\n",
       "429.01,1479.69 493.673,1468.02 493.673,1444.69 429.01,1433.02 364.346,1444.69 364.346,1468.02 429.01,1479.69 \n",
       "  \" fill=\"#009af9\" fill-rule=\"evenodd\" fill-opacity=\"1\"/>\n",
       "<polygon clip-path=\"url(#clip9900)\" points=\"\n",
       "1801.12,1145.02 1932.53,1133.16 1932.53,1109.45 1801.12,1097.6 1669.72,1109.45 1669.72,1133.16 1801.12,1145.02 \n",
       "  \" fill=\"#000000\" fill-rule=\"evenodd\" fill-opacity=\"1\"/>\n",
       "<polygon clip-path=\"url(#clip9900)\" points=\"\n",
       "1801.12,1144.64 1930.45,1132.98 1930.45,1109.64 1801.12,1097.98 1671.8,1109.64 1671.8,1132.98 1801.12,1144.64 \n",
       "  \" fill=\"#009af9\" fill-rule=\"evenodd\" fill-opacity=\"1\"/>\n",
       "<polygon clip-path=\"url(#clip9900)\" points=\"\n",
       "2032.62,1405.33 2147.86,1393.45 2147.86,1369.69 2032.62,1357.81 1917.38,1369.69 1917.38,1393.45 2032.62,1405.33 \n",
       "  \" fill=\"#000000\" fill-rule=\"evenodd\" fill-opacity=\"1\"/>\n",
       "<polygon clip-path=\"url(#clip9900)\" points=\"\n",
       "2032.62,1404.9 2145.78,1393.24 2145.78,1369.9 2032.62,1358.24 1919.46,1369.9 1919.46,1393.24 2032.62,1404.9 \n",
       "  \" fill=\"#009af9\" fill-rule=\"evenodd\" fill-opacity=\"1\"/>\n",
       "<polygon clip-path=\"url(#clip9900)\" points=\"\n",
       "1774.08,1479.65 1873.15,1467.73 1873.15,1443.9 1774.08,1431.98 1675,1443.9 1675,1467.73 1774.08,1479.65 \n",
       "  \" fill=\"#000000\" fill-rule=\"evenodd\" fill-opacity=\"1\"/>\n",
       "<polygon clip-path=\"url(#clip9900)\" points=\"\n",
       "1774.08,1479.15 1871.07,1467.48 1871.07,1444.15 1774.08,1432.48 1677.08,1444.15 1677.08,1467.48 1774.08,1479.15 \n",
       "  \" fill=\"#009af9\" fill-rule=\"evenodd\" fill-opacity=\"1\"/>\n",
       "<polygon clip-path=\"url(#clip9900)\" points=\"\n",
       "1601.03,1417.36 1700.11,1405.44 1700.11,1381.61 1601.03,1369.69 1501.96,1381.61 1501.96,1405.44 1601.03,1417.36 \n",
       "  \" fill=\"#000000\" fill-rule=\"evenodd\" fill-opacity=\"1\"/>\n",
       "<polygon clip-path=\"url(#clip9900)\" points=\"\n",
       "1601.03,1416.86 1698.03,1405.19 1698.03,1381.86 1601.03,1370.19 1504.04,1381.86 1504.04,1405.19 1601.03,1416.86 \n",
       "  \" fill=\"#009af9\" fill-rule=\"evenodd\" fill-opacity=\"1\"/>\n",
       "<polygon clip-path=\"url(#clip9900)\" points=\"\n",
       "2258.24,1490.05 2357.31,1478.14 2357.31,1454.3 2258.24,1442.39 2159.16,1454.3 2159.16,1478.14 2258.24,1490.05 \n",
       "  \" fill=\"#000000\" fill-rule=\"evenodd\" fill-opacity=\"1\"/>\n",
       "<polygon clip-path=\"url(#clip9900)\" points=\"\n",
       "2258.24,1489.55 2355.23,1477.89 2355.23,1454.55 2258.24,1442.89 2161.24,1454.55 2161.24,1477.89 2258.24,1489.55 \n",
       "  \" fill=\"#009af9\" fill-rule=\"evenodd\" fill-opacity=\"1\"/>\n",
       "<polygon clip-path=\"url(#clip9900)\" points=\"\n",
       "2085.05,1475.57 2167.96,1463.6 2167.96,1439.67 2085.05,1427.7 2002.15,1439.67 2002.15,1463.6 2085.05,1475.57 \n",
       "  \" fill=\"#000000\" fill-rule=\"evenodd\" fill-opacity=\"1\"/>\n",
       "<polygon clip-path=\"url(#clip9900)\" points=\"\n",
       "2085.05,1474.97 2165.88,1463.3 2165.88,1439.97 2085.05,1428.3 2004.22,1439.97 2004.22,1463.3 2085.05,1474.97 \n",
       "  \" fill=\"#009af9\" fill-rule=\"evenodd\" fill-opacity=\"1\"/>\n",
       "<g clip-path=\"url(#clip9900)\">\n",
       "<text style=\"fill:#000000; fill-opacity:1; font-family:Arial,Helvetica Neue,Helvetica,sans-serif; font-size:84px; text-anchor:middle;\" transform=\"rotate(0, 1171.91, 119.907)\" x=\"1171.91\" y=\"119.907\">Any</text>\n",
       "</g>\n",
       "<g clip-path=\"url(#clip9900)\">\n",
       "<text style=\"fill:#000000; fill-opacity:1; font-family:Arial,Helvetica Neue,Helvetica,sans-serif; font-size:84px; text-anchor:middle;\" transform=\"rotate(0, 1171.26, 432.682)\" x=\"1171.26\" y=\"432.682\">Number</text>\n",
       "</g>\n",
       "<g clip-path=\"url(#clip9900)\">\n",
       "<text style=\"fill:#000000; fill-opacity:1; font-family:Arial,Helvetica Neue,Helvetica,sans-serif; font-size:84px; text-anchor:middle;\" transform=\"rotate(0, 1195.59, 686.223)\" x=\"1195.59\" y=\"686.223\">Real</text>\n",
       "</g>\n",
       "<g clip-path=\"url(#clip9900)\">\n",
       "<text style=\"fill:#000000; fill-opacity:1; font-family:Arial,Helvetica Neue,Helvetica,sans-serif; font-size:84px; text-anchor:middle;\" transform=\"rotate(0, 1203.27, 989.959)\" x=\"1203.27\" y=\"989.959\">Integer</text>\n",
       "</g>\n",
       "<g clip-path=\"url(#clip9900)\">\n",
       "<text style=\"fill:#000000; fill-opacity:1; font-family:Arial,Helvetica Neue,Helvetica,sans-serif; font-size:84px; text-anchor:middle;\" transform=\"rotate(0, 1419.68, 1159.44)\" x=\"1419.68\" y=\"1159.44\">Bool</text>\n",
       "</g>\n",
       "<g clip-path=\"url(#clip9900)\">\n",
       "<text style=\"fill:#000000; fill-opacity:1; font-family:Arial,Helvetica Neue,Helvetica,sans-serif; font-size:84px; text-anchor:middle;\" transform=\"rotate(0, 1092.36, 1192.06)\" x=\"1092.36\" y=\"1192.06\">OffsetInteger</text>\n",
       "</g>\n",
       "<g clip-path=\"url(#clip9900)\">\n",
       "<text style=\"fill:#000000; fill-opacity:1; font-family:Arial,Helvetica Neue,Helvetica,sans-serif; font-size:84px; text-anchor:middle;\" transform=\"rotate(0, 633.609, 1166)\" x=\"633.609\" y=\"1166\">Signed</text>\n",
       "</g>\n",
       "<g clip-path=\"url(#clip9900)\">\n",
       "<text style=\"fill:#000000; fill-opacity:1; font-family:Arial,Helvetica Neue,Helvetica,sans-serif; font-size:84px; text-anchor:middle;\" transform=\"rotate(0, 845.816, 1482.36)\" x=\"845.816\" y=\"1482.36\">BigInt</text>\n",
       "</g>\n",
       "<g clip-path=\"url(#clip9900)\">\n",
       "<text style=\"fill:#000000; fill-opacity:1; font-family:Arial,Helvetica Neue,Helvetica,sans-serif; font-size:84px; text-anchor:middle;\" transform=\"rotate(0, 864.565, 1385.11)\" x=\"864.565\" y=\"1385.11\">Int128</text>\n",
       "</g>\n",
       "<g clip-path=\"url(#clip9900)\">\n",
       "<text style=\"fill:#000000; fill-opacity:1; font-family:Arial,Helvetica Neue,Helvetica,sans-serif; font-size:84px; text-anchor:middle;\" transform=\"rotate(0, 157.51, 1439.51)\" x=\"157.51\" y=\"1439.51\">Int16</text>\n",
       "</g>\n",
       "<g clip-path=\"url(#clip9900)\">\n",
       "<text style=\"fill:#000000; fill-opacity:1; font-family:Arial,Helvetica Neue,Helvetica,sans-serif; font-size:84px; text-anchor:middle;\" transform=\"rotate(0, 611.58, 1488.33)\" x=\"611.58\" y=\"1488.33\">Int32</text>\n",
       "</g>\n",
       "<g clip-path=\"url(#clip9900)\">\n",
       "<text style=\"fill:#000000; fill-opacity:1; font-family:Arial,Helvetica Neue,Helvetica,sans-serif; font-size:84px; text-anchor:middle;\" transform=\"rotate(0, 286.847, 1525.34)\" x=\"286.847\" y=\"1525.34\">Int64</text>\n",
       "</g>\n",
       "<g clip-path=\"url(#clip9900)\">\n",
       "<text style=\"fill:#000000; fill-opacity:1; font-family:Arial,Helvetica Neue,Helvetica,sans-serif; font-size:84px; text-anchor:middle;\" transform=\"rotate(0, 429.01, 1486.85)\" x=\"429.01\" y=\"1486.85\">Int8</text>\n",
       "</g>\n",
       "<g clip-path=\"url(#clip9900)\">\n",
       "<text style=\"fill:#000000; fill-opacity:1; font-family:Arial,Helvetica Neue,Helvetica,sans-serif; font-size:84px; text-anchor:middle;\" transform=\"rotate(0, 1801.12, 1151.81)\" x=\"1801.12\" y=\"1151.81\">Unsigned</text>\n",
       "</g>\n",
       "<g clip-path=\"url(#clip9900)\">\n",
       "<text style=\"fill:#000000; fill-opacity:1; font-family:Arial,Helvetica Neue,Helvetica,sans-serif; font-size:84px; text-anchor:middle;\" transform=\"rotate(0, 2032.62, 1412.07)\" x=\"2032.62\" y=\"1412.07\">UInt128</text>\n",
       "</g>\n",
       "<g clip-path=\"url(#clip9900)\">\n",
       "<text style=\"fill:#000000; fill-opacity:1; font-family:Arial,Helvetica Neue,Helvetica,sans-serif; font-size:84px; text-anchor:middle;\" transform=\"rotate(0, 1774.08, 1486.31)\" x=\"1774.08\" y=\"1486.31\">UInt16</text>\n",
       "</g>\n",
       "<g clip-path=\"url(#clip9900)\">\n",
       "<text style=\"fill:#000000; fill-opacity:1; font-family:Arial,Helvetica Neue,Helvetica,sans-serif; font-size:84px; text-anchor:middle;\" transform=\"rotate(0, 1601.03, 1424.03)\" x=\"1601.03\" y=\"1424.03\">UInt32</text>\n",
       "</g>\n",
       "<g clip-path=\"url(#clip9900)\">\n",
       "<text style=\"fill:#000000; fill-opacity:1; font-family:Arial,Helvetica Neue,Helvetica,sans-serif; font-size:84px; text-anchor:middle;\" transform=\"rotate(0, 2258.24, 1496.72)\" x=\"2258.24\" y=\"1496.72\">UInt64</text>\n",
       "</g>\n",
       "<g clip-path=\"url(#clip9900)\">\n",
       "<text style=\"fill:#000000; fill-opacity:1; font-family:Arial,Helvetica Neue,Helvetica,sans-serif; font-size:84px; text-anchor:middle;\" transform=\"rotate(0, 2085.05, 1482.14)\" x=\"2085.05\" y=\"1482.14\">UInt8</text>\n",
       "</g>\n",
       "</svg>\n"
      ]
     },
     "execution_count": 7,
     "metadata": {},
     "output_type": "execute_result"
    }
   ],
   "source": [
    "using GraphRecipes, Plots\n",
    "\n",
    "#pyplot(size=(800, 600))\n",
    "gr(size=(600, 400))\n",
    "theme(:default)\n",
    "\n",
    "plot(Integer, method=:tree, fontsize=4)"
   ]
  },
  {
   "cell_type": "markdown",
   "metadata": {},
   "source": [
    "### Signed integers\n",
    "\n",
    "* First bit indicates sign.  \n",
    "    - `0` for nonnegative numbers\n",
    "    - `1` for negative numbers  \n",
    "    \n",
    "* **Two's complement representation** for negative numbers. \n",
    "    - Sign bit is set to 1  \n",
    "    - remaining bits are set to opposite values  \n",
    "    - 1 is added to the result  \n",
    "    - Two's complement representation of a negative integer `x` is same as the unsigned integer `2^64 + x`."
   ]
  },
  {
   "cell_type": "code",
   "execution_count": 8,
   "metadata": {},
   "outputs": [
    {
     "name": "stdout",
     "output_type": "stream",
     "text": [
      "typeof(18) = Int64\n",
      "bitstring(18) = \"0000000000000000000000000000000000000000000000000000000000010010\"\n",
      "bitstring(-18) = \"1111111111111111111111111111111111111111111111111111111111101110\"\n",
      "bitstring(UInt64(Int128(2) ^ 64 - 18)) == bitstring(-18) = true\n",
      "bitstring(2 * 18) = \"0000000000000000000000000000000000000000000000000000000000100100\"\n",
      "bitstring(2 * -18) = \"1111111111111111111111111111111111111111111111111111111111011100\"\n"
     ]
    }
   ],
   "source": [
    "@show typeof(18)\n",
    "@show bitstring(18)\n",
    "@show bitstring(-18)\n",
    "@show bitstring(UInt64(Int128(2)^64 - 18)) == bitstring(-18)\n",
    "@show bitstring(2 * 18) # shift bits of 18\n",
    "@show bitstring(2 * -18); # shift bits of -18"
   ]
  },
  {
   "cell_type": "markdown",
   "metadata": {},
   "source": [
    "* Two's complement representation respects modular arithmetic nicely.  \n",
    "    Addition of any two signed integers are just bitwise addition, possibly modulo $2^M$\n",
    "    \n",
    "<img src=\"http://users.dickinson.edu/~braught/courses/cs251f02/classes/images/twosCompWheel.png\" width=\"400\" align=\"center\"/>    "
   ]
  },
  {
   "cell_type": "markdown",
   "metadata": {},
   "source": [
    "* **Range** of representable integers by $M$-bit **signed integer** is $[-2^{M-1},2^{M-1}-1]$.\n",
    "    - Julia functions `typemin(T)` and `typemax(T)` give the lowest and highest representable number of a type `T` respectively"
   ]
  },
  {
   "cell_type": "code",
   "execution_count": 9,
   "metadata": {},
   "outputs": [
    {
     "data": {
      "text/plain": [
       "(-9223372036854775808, 9223372036854775807)"
      ]
     },
     "execution_count": 9,
     "metadata": {},
     "output_type": "execute_result"
    }
   ],
   "source": [
    "typemin(Int64), typemax(Int64)"
   ]
  },
  {
   "cell_type": "code",
   "execution_count": 10,
   "metadata": {},
   "outputs": [
    {
     "name": "stdout",
     "output_type": "stream",
     "text": [
      "Int8\t-128\t127\n",
      "Int16\t-32768\t32767\n",
      "Int32\t-2147483648\t2147483647\n",
      "Int64\t-9223372036854775808\t9223372036854775807\n",
      "Int128\t-170141183460469231731687303715884105728\t170141183460469231731687303715884105727\n"
     ]
    }
   ],
   "source": [
    "for T in [Int8, Int16, Int32, Int64, Int128]\n",
    "    println(T, '\\t', typemin(T), '\\t', typemax(T))\n",
    "end"
   ]
  },
  {
   "cell_type": "markdown",
   "metadata": {},
   "source": [
    "### Unsigned integers\n",
    "\n",
    "* For unsigned integers, the range is $[0,2^M-1]$."
   ]
  },
  {
   "cell_type": "code",
   "execution_count": 11,
   "metadata": {},
   "outputs": [
    {
     "name": "stdout",
     "output_type": "stream",
     "text": [
      "UInt8\t0\t255\n",
      "UInt16\t0\t65535\n",
      "UInt32\t0\t4294967295\n",
      "UInt64\t0\t18446744073709551615\n",
      "UInt128\t0\t340282366920938463463374607431768211455\n"
     ]
    }
   ],
   "source": [
    "for t in [UInt8, UInt16, UInt32, UInt64, UInt128]\n",
    "    println(t, '\\t', typemin(t), '\\t', typemax(t))\n",
    "end"
   ]
  },
  {
   "cell_type": "markdown",
   "metadata": {},
   "source": [
    "### `BigInt`\n",
    "\n",
    "Julia `BigInt` type is arbitrary precision."
   ]
  },
  {
   "cell_type": "code",
   "execution_count": 12,
   "metadata": {},
   "outputs": [
    {
     "name": "stdout",
     "output_type": "stream",
     "text": [
      "typemax(Int128) = 170141183460469231731687303715884105727\n",
      "typemax(Int128) + 1 = -170141183460469231731687303715884105728\n",
      "BigInt(typemax(Int128)) + 1 = 170141183460469231731687303715884105728\n"
     ]
    }
   ],
   "source": [
    "@show typemax(Int128)\n",
    "@show typemax(Int128) + 1 # modular arithmetic!\n",
    "@show BigInt(typemax(Int128)) + 1;"
   ]
  },
  {
   "cell_type": "markdown",
   "metadata": {},
   "source": [
    "### Overflow and underflow for integer arithmetic\n",
    "\n",
    "R reports `NA` for integer overflow and underflow.  \n",
    "**Julia outputs the result according to modular arithmetic.**"
   ]
  },
  {
   "cell_type": "code",
   "execution_count": 13,
   "metadata": {},
   "outputs": [
    {
     "name": "stdout",
     "output_type": "stream",
     "text": [
      "typemax(Int32) = 2147483647\n",
      "typemax(Int32) + Int32(1) = -2147483648\n"
     ]
    }
   ],
   "source": [
    "@show typemax(Int32)\n",
    "@show typemax(Int32) + Int32(1); # modular arithmetics!"
   ]
  },
  {
   "cell_type": "code",
   "execution_count": 14,
   "metadata": {},
   "outputs": [
    {
     "data": {
      "text/plain": [
       "RObject{IntSxp}\n",
       "[1] 2147483647\n"
      ]
     },
     "execution_count": 14,
     "metadata": {},
     "output_type": "execute_result"
    }
   ],
   "source": [
    "using RCall\n",
    "\n",
    "R\"\"\"\n",
    ".Machine$integer.max\n",
    "\"\"\""
   ]
  },
  {
   "cell_type": "code",
   "execution_count": 15,
   "metadata": {},
   "outputs": [
    {
     "data": {
      "text/plain": [
       "RObject{IntSxp}\n",
       "[1] 2147483647\n"
      ]
     },
     "execution_count": 15,
     "metadata": {},
     "output_type": "execute_result"
    }
   ],
   "source": [
    "R\"\"\"\n",
    "M <- 32\n",
    "big <- 2^(M-1) - 1\n",
    "as.integer(big)\n",
    "\"\"\""
   ]
  },
  {
   "cell_type": "code",
   "execution_count": 16,
   "metadata": {},
   "outputs": [
    {
     "name": "stderr",
     "output_type": "stream",
     "text": [
      "┌ Warning: RCall.jl: Warning: NAs introduced by coercion to integer range\n",
      "└ @ RCall /Users/huazhou/.julia/packages/RCall/ffM0W/src/io.jl:113\n"
     ]
    },
    {
     "data": {
      "text/plain": [
       "RObject{IntSxp}\n",
       "[1] NA\n"
      ]
     },
     "execution_count": 16,
     "metadata": {},
     "output_type": "execute_result"
    }
   ],
   "source": [
    "R\"\"\"\n",
    "as.integer(big+1)\n",
    "\"\"\""
   ]
  },
  {
   "cell_type": "markdown",
   "metadata": {
    "collapsed": true
   },
   "source": [
    "## Real numbers: floating-number system\n",
    "\n",
    "Floating-point number system is a computer model for real numbers.\n",
    "\n",
    "* Most computer systems adopt the [IEEE 754 standard](https://en.wikipedia.org/wiki/IEEE_floating_point), established in 1985, for floating-point arithmetics.  \n",
    "For the history, see an [interview with William Kahan](http://www.cs.berkeley.edu/~wkahan/ieee754status/754story.html).\n",
    "\n",
    "* In the scientific notation, a real number is represented as\n",
    "$$\\pm d_0.d_1d_2 \\cdots d_p \\times b^e.$$\n",
    "In computer, the _base_ is $b=2$ and the digits $d_i$ are 0 or 1.\n",
    "\n",
    "* **Normalized** vs **denormalized** numbers. For example, decimal number 18 is\n",
    "$$ +1.0010 \\times 2^4 \\quad (\\text{normalized})$$\n",
    "or, equivalently,\n",
    "$$ +0.1001 \\times 2^5 \\quad (\\text{denormalized}).$$\n",
    "\n",
    "* In the floating-number system, computer stores \n",
    "    - sign bit  \n",
    "    - the _fraction_ (or _mantissa_, or _significand_) of the **normalized** representation\n",
    "    - the actual exponent _plus_ a bias"
   ]
  },
  {
   "cell_type": "code",
   "execution_count": 17,
   "metadata": {},
   "outputs": [
    {
     "data": {
      "image/svg+xml": [
       "<?xml version=\"1.0\" encoding=\"utf-8\"?>\n",
       "<svg xmlns=\"http://www.w3.org/2000/svg\" xmlns:xlink=\"http://www.w3.org/1999/xlink\" width=\"600\" height=\"400\" viewBox=\"0 0 2400 1600\">\n",
       "<defs>\n",
       "  <clipPath id=\"clip0300\">\n",
       "    <rect x=\"0\" y=\"0\" width=\"2400\" height=\"1600\"/>\n",
       "  </clipPath>\n",
       "</defs>\n",
       "<polygon clip-path=\"url(#clip0300)\" points=\"\n",
       "0,1600 2400,1600 2400,0 0,0 \n",
       "  \" fill=\"#ffffff\" fill-rule=\"evenodd\" fill-opacity=\"1\"/>\n",
       "<defs>\n",
       "  <clipPath id=\"clip0301\">\n",
       "    <rect x=\"480\" y=\"0\" width=\"1681\" height=\"1600\"/>\n",
       "  </clipPath>\n",
       "</defs>\n",
       "<polygon clip-path=\"url(#clip0300)\" points=\"\n",
       "94.4882,1537.01 2321.26,1537.01 2321.26,47.2441 94.4882,47.2441 \n",
       "  \" fill=\"#ffffff\" fill-rule=\"evenodd\" fill-opacity=\"1\"/>\n",
       "<defs>\n",
       "  <clipPath id=\"clip0302\">\n",
       "    <rect x=\"94\" y=\"47\" width=\"2228\" height=\"1491\"/>\n",
       "  </clipPath>\n",
       "</defs>\n",
       "<polyline clip-path=\"url(#clip0302)\" style=\"stroke:#d968a2; stroke-width:4; stroke-opacity:1; fill:none\" points=\"\n",
       "  1349.05,89.4072 1349.12,99.2519 1349.31,109.305 1349.61,119.55 1350.02,129.973 1350.52,140.557 1351.11,151.288 1351.78,162.15 1352.51,173.127 1353.31,184.205 \n",
       "  1354.15,195.367 1355.04,206.599 1355.96,217.884 1356.9,229.209 1357.85,240.556 1358.81,251.911 1359.77,263.258 1360.71,274.583 1361.63,285.868 1362.51,297.1 \n",
       "  1363.36,308.262 1364.15,319.34 1364.89,330.317 1365.56,341.179 1366.15,351.91 1366.65,362.495 1367.06,372.917 1367.36,383.162 1367.55,393.215 1367.61,403.06 \n",
       "  \n",
       "  \"/>\n",
       "<polyline clip-path=\"url(#clip0302)\" style=\"stroke:#d968a2; stroke-width:4; stroke-opacity:1; fill:none\" points=\"\n",
       "  1367.61,403.06 1367.75,414.29 1368.16,425.756 1368.81,437.442 1369.68,449.328 1370.76,461.399 1372.03,473.636 1373.47,486.022 1375.05,498.54 1376.76,511.171 \n",
       "  1378.58,523.899 1380.49,536.705 1382.47,549.573 1384.5,562.484 1386.55,575.422 1388.62,588.369 1390.67,601.306 1392.7,614.218 1394.67,627.086 1396.58,639.892 \n",
       "  1398.4,652.62 1400.11,665.251 1401.7,677.768 1403.13,690.154 1404.4,702.392 1405.48,714.462 1406.36,726.349 1407.01,738.035 1407.42,749.501 1407.55,760.731 \n",
       "  \n",
       "  \"/>\n",
       "<polyline clip-path=\"url(#clip0302)\" style=\"stroke:#d968a2; stroke-width:4; stroke-opacity:1; fill:none\" points=\"\n",
       "  1407.55,760.731 1406.96,769.142 1405.24,777.702 1402.47,786.398 1398.74,795.221 1394.13,804.159 1388.72,813.202 1382.6,822.337 1375.86,831.555 1368.57,840.845 \n",
       "  1360.82,850.195 1352.69,859.594 1344.27,869.032 1335.64,878.497 1326.89,887.979 1318.09,897.466 1309.33,906.947 1300.7,916.412 1292.28,925.85 1284.16,935.249 \n",
       "  1276.41,944.599 1269.12,953.889 1262.37,963.107 1256.25,972.243 1250.85,981.285 1246.24,990.223 1242.5,999.046 1239.74,1007.74 1238.01,1016.3 1237.42,1024.71 \n",
       "  \n",
       "  \"/>\n",
       "<polyline clip-path=\"url(#clip0302)\" style=\"stroke:#d968a2; stroke-width:4; stroke-opacity:1; fill:none\" points=\"\n",
       "  1237.42,1024.71 1233.66,1040.95 1222.72,1056.86 1205.14,1072.47 1181.45,1087.8 1152.18,1102.88 1117.87,1117.73 1079.03,1132.37 1036.22,1146.84 989.946,1161.14 \n",
       "  940.753,1175.32 889.168,1189.38 835.724,1203.36 780.952,1217.28 725.382,1231.17 669.547,1245.04 613.977,1258.92 559.205,1272.84 505.761,1286.82 454.176,1300.89 \n",
       "  404.983,1315.06 358.712,1329.37 315.894,1343.83 277.062,1358.48 242.746,1373.33 213.478,1388.4 189.789,1403.74 172.21,1419.35 161.274,1435.26 157.51,1451.49 \n",
       "  \n",
       "  \"/>\n",
       "<polyline clip-path=\"url(#clip0302)\" style=\"stroke:#d968a2; stroke-width:4; stroke-opacity:1; fill:none\" points=\"\n",
       "  1237.42,1024.71 1235.72,1036.36 1230.76,1048.07 1222.81,1059.84 1212.08,1071.66 1198.83,1083.53 1183.3,1095.45 1165.72,1107.41 1146.34,1119.41 1125.39,1131.44 \n",
       "  1103.12,1143.49 1079.77,1155.57 1055.58,1167.66 1030.78,1179.76 1005.63,1191.87 980.35,1203.99 955.195,1216.1 930.4,1228.2 906.206,1240.29 882.855,1252.37 \n",
       "  860.586,1264.42 839.639,1276.45 820.256,1288.45 802.677,1300.41 787.143,1312.33 773.894,1324.2 763.17,1336.03 755.212,1347.8 750.262,1359.5 748.558,1371.15 \n",
       "  \n",
       "  \"/>\n",
       "<polyline clip-path=\"url(#clip0302)\" style=\"stroke:#d968a2; stroke-width:4; stroke-opacity:1; fill:none\" points=\"\n",
       "  1237.42,1024.71 1238.56,1039.04 1241.89,1053.6 1247.24,1068.38 1254.44,1083.36 1263.34,1098.53 1273.78,1113.86 1285.59,1129.35 1298.61,1144.97 1312.69,1160.7 \n",
       "  1327.65,1176.53 1343.34,1192.44 1359.59,1208.41 1376.25,1224.42 1393.15,1240.46 1410.13,1256.51 1427.03,1272.55 1443.69,1288.56 1459.95,1304.53 1475.63,1320.44 \n",
       "  1490.6,1336.27 1504.67,1352 1517.69,1367.62 1529.5,1383.1 1539.94,1398.44 1548.84,1413.61 1556.04,1428.59 1561.39,1443.37 1564.72,1457.93 1565.86,1472.25 \n",
       "  \n",
       "  \"/>\n",
       "<polyline clip-path=\"url(#clip0302)\" style=\"stroke:#d968a2; stroke-width:4; stroke-opacity:1; fill:none\" points=\"\n",
       "  1237.42,1024.71 1240.98,1041.83 1251.32,1058.76 1267.93,1075.51 1290.32,1092.09 1317.99,1108.52 1350.43,1124.81 1387.14,1140.97 1427.61,1157.03 1471.35,1173 \n",
       "  1517.85,1188.89 1566.61,1204.71 1617.13,1220.48 1668.91,1236.21 1721.44,1251.93 1774.22,1267.63 1826.75,1283.34 1878.52,1299.08 1929.04,1314.85 1977.8,1330.67 \n",
       "  2024.31,1346.56 2068.05,1362.52 2108.52,1378.58 2145.23,1394.75 2177.67,1411.04 2205.33,1427.47 2227.73,1444.05 2244.34,1460.8 2254.68,1477.72 2258.24,1494.84 \n",
       "  \n",
       "  \"/>\n",
       "<polygon clip-path=\"url(#clip0300)\" points=\"\n",
       "1349.05,113.741 1399.63,101.574 1399.63,77.2406 1349.05,65.0739 1298.48,77.2406 1298.48,101.574 1349.05,113.741 \n",
       "  \" fill=\"#000000\" fill-rule=\"evenodd\" fill-opacity=\"1\"/>\n",
       "<polygon clip-path=\"url(#clip0300)\" points=\"\n",
       "1349.05,112.741 1397.55,101.074 1397.55,77.7406 1349.05,66.0739 1300.56,77.7406 1300.56,101.074 1349.05,112.741 \n",
       "  \" fill=\"#009af9\" fill-rule=\"evenodd\" fill-opacity=\"1\"/>\n",
       "<polygon clip-path=\"url(#clip0300)\" points=\"\n",
       "1367.61,426.893 1466.68,414.976 1466.68,391.143 1367.61,379.226 1268.54,391.143 1268.54,414.976 1367.61,426.893 \n",
       "  \" fill=\"#000000\" fill-rule=\"evenodd\" fill-opacity=\"1\"/>\n",
       "<polygon clip-path=\"url(#clip0300)\" points=\"\n",
       "1367.61,426.393 1464.61,414.726 1464.61,391.393 1367.61,379.726 1270.62,391.393 1270.62,414.726 1367.61,426.393 \n",
       "  \" fill=\"#009af9\" fill-rule=\"evenodd\" fill-opacity=\"1\"/>\n",
       "<polygon clip-path=\"url(#clip0300)\" points=\"\n",
       "1407.55,784.814 1474.3,772.773 1474.3,748.689 1407.55,736.648 1340.81,748.689 1340.81,772.773 1407.55,784.814 \n",
       "  \" fill=\"#000000\" fill-rule=\"evenodd\" fill-opacity=\"1\"/>\n",
       "<polygon clip-path=\"url(#clip0300)\" points=\"\n",
       "1407.55,784.064 1472.22,772.398 1472.22,749.064 1407.55,737.398 1342.89,749.064 1342.89,772.398 1407.55,784.064 \n",
       "  \" fill=\"#009af9\" fill-rule=\"evenodd\" fill-opacity=\"1\"/>\n",
       "<polygon clip-path=\"url(#clip0300)\" points=\"\n",
       "1237.42,1048.28 1449.65,1036.5 1449.65,1012.93 1237.42,1001.15 1025.19,1012.93 1025.19,1036.5 1237.42,1048.28 \n",
       "  \" fill=\"#000000\" fill-rule=\"evenodd\" fill-opacity=\"1\"/>\n",
       "<polygon clip-path=\"url(#clip0300)\" points=\"\n",
       "1237.42,1048.05 1447.57,1036.38 1447.57,1013.05 1237.42,1001.38 1027.26,1013.05 1027.26,1036.38 1237.42,1048.05 \n",
       "  \" fill=\"#009af9\" fill-rule=\"evenodd\" fill-opacity=\"1\"/>\n",
       "<polygon clip-path=\"url(#clip0300)\" points=\"\n",
       "157.51,1475.2 288.915,1463.35 288.915,1439.64 157.51,1427.78 26.1051,1439.64 26.1051,1463.35 157.51,1475.2 \n",
       "  \" fill=\"#000000\" fill-rule=\"evenodd\" fill-opacity=\"1\"/>\n",
       "<polygon clip-path=\"url(#clip0300)\" points=\"\n",
       "157.51,1474.83 286.836,1463.16 286.836,1439.83 157.51,1428.16 28.1836,1439.83 28.1836,1463.16 157.51,1474.83 \n",
       "  \" fill=\"#009af9\" fill-rule=\"evenodd\" fill-opacity=\"1\"/>\n",
       "<polygon clip-path=\"url(#clip0300)\" points=\"\n",
       "748.558,1394.91 863.797,1383.03 863.797,1359.27 748.558,1347.39 633.319,1359.27 633.319,1383.03 748.558,1394.91 \n",
       "  \" fill=\"#000000\" fill-rule=\"evenodd\" fill-opacity=\"1\"/>\n",
       "<polygon clip-path=\"url(#clip0300)\" points=\"\n",
       "748.558,1394.48 861.718,1382.82 861.718,1359.48 748.558,1347.82 635.397,1359.48 635.397,1382.82 748.558,1394.48 \n",
       "  \" fill=\"#009af9\" fill-rule=\"evenodd\" fill-opacity=\"1\"/>\n",
       "<polygon clip-path=\"url(#clip0300)\" points=\"\n",
       "1565.86,1496.02 1681.1,1484.13 1681.1,1460.37 1565.86,1448.49 1450.62,1460.37 1450.62,1484.13 1565.86,1496.02 \n",
       "  \" fill=\"#000000\" fill-rule=\"evenodd\" fill-opacity=\"1\"/>\n",
       "<polygon clip-path=\"url(#clip0300)\" points=\"\n",
       "1565.86,1495.59 1679.02,1483.92 1679.02,1460.59 1565.86,1448.92 1452.7,1460.59 1452.7,1483.92 1565.86,1495.59 \n",
       "  \" fill=\"#009af9\" fill-rule=\"evenodd\" fill-opacity=\"1\"/>\n",
       "<polygon clip-path=\"url(#clip0300)\" points=\"\n",
       "2258.24,1518.61 2373.48,1506.73 2373.48,1482.96 2258.24,1471.08 2143,1482.96 2143,1506.73 2258.24,1518.61 \n",
       "  \" fill=\"#000000\" fill-rule=\"evenodd\" fill-opacity=\"1\"/>\n",
       "<polygon clip-path=\"url(#clip0300)\" points=\"\n",
       "2258.24,1518.18 2371.4,1506.51 2371.4,1483.18 2258.24,1471.51 2145.08,1483.18 2145.08,1506.51 2258.24,1518.18 \n",
       "  \" fill=\"#009af9\" fill-rule=\"evenodd\" fill-opacity=\"1\"/>\n",
       "<g clip-path=\"url(#clip0300)\">\n",
       "<text style=\"fill:#000000; fill-opacity:1; font-family:Arial,Helvetica Neue,Helvetica,sans-serif; font-size:84px; text-anchor:middle;\" transform=\"rotate(0, 1349.05, 119.907)\" x=\"1349.05\" y=\"119.907\">Any</text>\n",
       "</g>\n",
       "<g clip-path=\"url(#clip0300)\">\n",
       "<text style=\"fill:#000000; fill-opacity:1; font-family:Arial,Helvetica Neue,Helvetica,sans-serif; font-size:84px; text-anchor:middle;\" transform=\"rotate(0, 1367.61, 433.56)\" x=\"1367.61\" y=\"433.56\">Number</text>\n",
       "</g>\n",
       "<g clip-path=\"url(#clip0300)\">\n",
       "<text style=\"fill:#000000; fill-opacity:1; font-family:Arial,Helvetica Neue,Helvetica,sans-serif; font-size:84px; text-anchor:middle;\" transform=\"rotate(0, 1407.55, 791.231)\" x=\"1407.55\" y=\"791.231\">Real</text>\n",
       "</g>\n",
       "<g clip-path=\"url(#clip0300)\">\n",
       "<text style=\"fill:#000000; fill-opacity:1; font-family:Arial,Helvetica Neue,Helvetica,sans-serif; font-size:84px; text-anchor:middle;\" transform=\"rotate(0, 1237.42, 1055.21)\" x=\"1237.42\" y=\"1055.21\">AbstractFloat</text>\n",
       "</g>\n",
       "<g clip-path=\"url(#clip0300)\">\n",
       "<text style=\"fill:#000000; fill-opacity:1; font-family:Arial,Helvetica Neue,Helvetica,sans-serif; font-size:84px; text-anchor:middle;\" transform=\"rotate(0, 157.51, 1481.99)\" x=\"157.51\" y=\"1481.99\">BigFloat</text>\n",
       "</g>\n",
       "<g clip-path=\"url(#clip0300)\">\n",
       "<text style=\"fill:#000000; fill-opacity:1; font-family:Arial,Helvetica Neue,Helvetica,sans-serif; font-size:84px; text-anchor:middle;\" transform=\"rotate(0, 748.558, 1401.65)\" x=\"748.558\" y=\"1401.65\">Float16</text>\n",
       "</g>\n",
       "<g clip-path=\"url(#clip0300)\">\n",
       "<text style=\"fill:#000000; fill-opacity:1; font-family:Arial,Helvetica Neue,Helvetica,sans-serif; font-size:84px; text-anchor:middle;\" transform=\"rotate(0, 1565.86, 1502.75)\" x=\"1565.86\" y=\"1502.75\">Float32</text>\n",
       "</g>\n",
       "<g clip-path=\"url(#clip0300)\">\n",
       "<text style=\"fill:#000000; fill-opacity:1; font-family:Arial,Helvetica Neue,Helvetica,sans-serif; font-size:84px; text-anchor:middle;\" transform=\"rotate(0, 2258.24, 1525.34)\" x=\"2258.24\" y=\"1525.34\">Float64</text>\n",
       "</g>\n",
       "</svg>\n"
      ]
     },
     "execution_count": 17,
     "metadata": {},
     "output_type": "execute_result"
    }
   ],
   "source": [
    "using GraphRecipes, Plots\n",
    "\n",
    "#pyplot(size=(800, 600))\n",
    "gr(size=(600, 400))\n",
    "theme(:default)\n",
    "\n",
    "plot(AbstractFloat, method=:tree, fontsize=4)"
   ]
  },
  {
   "cell_type": "markdown",
   "metadata": {},
   "source": [
    "* **Double precision** (64 bit = 8 bytes) \n",
    "    <img src=\"./double-precision-numbers.png\" width=\"500\" align=\"center\"/>  \n",
    "    - In Julia, `Float64` is the type for double precision numbers    \n",
    "    - First bit is sign bit  \n",
    "    - $p=52$ significant bits  \n",
    "    - 11 exponent bits: $e_{\\max}=1023$, $e_{\\min}=-1022$, bias=1023  \n",
    "    - $e_{\\text{min}}-1$ and $e_{\\text{max}}+1$ are reserved for special numbers  \n",
    "    - range of **magnitude**: $10^{\\pm 308}$ in decimal because $\\log_{10} (2^{1023}) \\approx 308$  \n",
    "    - **precision** to the $\\log_{10}(2^{-52}) \\approx 15$ decimal point  \n",
    "    \n",
    "* **Single precision** (32 bit = 4 bytes) \n",
    "    <img src=\"./single-precision-numbers.png\" width=\"500\" align=\"center\"/>\n",
    "    \n",
    "    - In Julia, `Float32` is the type for single precision numbers  \n",
    "    - First bit is sign bit  \n",
    "    - $p=23$ significant bits  \n",
    "    - 8 exponent bits: $e_{\\max}=127$, $e_{\\min}=-126$, bias=127  \n",
    "    - $e_{\\text{min}}-1$ and $e_{\\text{max}}+1$ are reserved for special numbers  \n",
    "    - range of **magnitude**: $10^{\\pm 38}$ in decimal because $\\log_{10} (2^{127}) \\approx 38$  \n",
    "    - **precision**: $\\log_{10}(2^{23}) \\approx 7$ decimal point  \n",
    "    \n",
    "* **Half precision** (16 bit = 2 bytes)\n",
    "    <img src=\"./half-precision-numbers.png\" width=\"200\" align=\"center\"/>\n",
    "    \n",
    "    - In Julia, `Float16` is the type for half precision numbers\n",
    "    - First bit is sign bit  \n",
    "    - $p=10$ significant bits  \n",
    "    - 5 exponent bits: $e_{\\max}=15$, $e_{\\min}=-14$, bias=15  \n",
    "    - $e_{\\text{min}}-1$ and $e_{\\text{max}}+1$ are reserved for special numbers  \n",
    "    - range of **magnitude**: $10^{\\pm 4}$ in decimal because $\\log_{10} (2^{15}) \\approx 4$  \n",
    "    - **precision**: $\\log_{10}(2^{10}) \\approx 3$ decimal point      "
   ]
  },
  {
   "cell_type": "code",
   "execution_count": 18,
   "metadata": {},
   "outputs": [
    {
     "name": "stdout",
     "output_type": "stream",
     "text": [
      "Double precision:\n",
      "bitstring(Float64(18)) = \"0100000000110010000000000000000000000000000000000000000000000000\"\n",
      "bitstring(Float64(-18)) = \"1100000000110010000000000000000000000000000000000000000000000000\"\n",
      "Single precision:\n",
      "bitstring(Float32(18.0)) = \"01000001100100000000000000000000\"\n",
      "bitstring(Float32(-18.0)) = \"11000001100100000000000000000000\"\n",
      "Half precision:\n",
      "bitstring(Float16(18)) = \"0100110010000000\"\n",
      "bitstring(Float16(-18)) = \"1100110010000000\"\n",
      "Float32(π) = 3.1415927f0\n",
      "Float64(π) = 3.141592653589793\n"
     ]
    },
    {
     "data": {
      "text/plain": [
       "3.141592653589793"
      ]
     },
     "execution_count": 18,
     "metadata": {},
     "output_type": "execute_result"
    }
   ],
   "source": [
    "println(\"Double precision:\")\n",
    "@show bitstring(Float64(18)) # 18 in double precision\n",
    "@show bitstring(Float64(-18)) # -18 in double precision\n",
    "println(\"Single precision:\")\n",
    "@show bitstring(Float32(18.0)) # 18 in single precision\n",
    "@show bitstring(Float32(-18.0)) # -18 in single precision\n",
    "println(\"Half precision:\")\n",
    "@show bitstring(Float16(18)) # 18 in half precision\n",
    "@show bitstring(Float16(-18)) # -18 in half precision\n",
    "\n",
    "@show Float32(π) # SP number displays 7 decimal digits\n",
    "@show Float64(π) # DP number displays 15 decimal digits"
   ]
  },
  {
   "cell_type": "markdown",
   "metadata": {},
   "source": [
    "* Special floating-point numbers. \n",
    "    - Exponent $e_{\\max}+1$ plus a zero mantissa means $\\pm \\infty$  \n",
    "    - Exponent $e_{\\max}+1$ plus a nonzero mantissa means `NaN`. `NaN` could be produced from `0 / 0`, `0 * Inf`, ...  \n",
    "    In general `NaN ≠ NaN` bitwise. Test whether a number is `NaN` by `isnan` function.  \n",
    "    - Exponent $e_{\\min}-1$ with a zero mantissa represents the real number 0  \n",
    "    - Exponent $e_{\\min}-1$ with a nonzero mantissa are for numbers less than $b^{e_{\\min}}$  \n",
    "    Numbers are _denormalized_ in the range $(0,b^{e_{\\min}})$ -- **graceful underflow** "
   ]
  },
  {
   "cell_type": "code",
   "execution_count": 19,
   "metadata": {},
   "outputs": [
    {
     "name": "stdout",
     "output_type": "stream",
     "text": [
      "bitstring(Inf) = \"0111111111110000000000000000000000000000000000000000000000000000\"\n",
      "bitstring(-Inf) = \"1111111111110000000000000000000000000000000000000000000000000000\"\n",
      "bitstring(0 / 0) = \"1111111111111000000000000000000000000000000000000000000000000000\"\n",
      "bitstring(0Inf) = \"1111111111111000000000000000000000000000000000000000000000000000\"\n",
      "bitstring(0.0) = \"0000000000000000000000000000000000000000000000000000000000000000\"\n",
      "nextfloat(0.0) = 5.0e-324\n",
      "bitstring(nextfloat(0.0)) = \"0000000000000000000000000000000000000000000000000000000000000001\"\n"
     ]
    }
   ],
   "source": [
    "@show bitstring(Inf) # Inf in double precision\n",
    "@show bitstring(-Inf) # -Inf in double precision\n",
    "@show bitstring(0 / 0) # NaN\n",
    "@show bitstring(0 * Inf) # NaN\n",
    "@show bitstring(0.0) # 0 in double precision \n",
    "@show nextfloat(0.0) # next representable number \n",
    "@show bitstring(nextfloat(0.0)); # denormalized"
   ]
  },
  {
   "cell_type": "markdown",
   "metadata": {},
   "source": [
    "* **Rounding** is necessary whenever a number has more than $p$ significand bits. Most computer systems use the default IEEE 754 _round to nearest_ mode (also called _ties to even_ mode). Julia offers several [rounding modes](https://docs.julialang.org/en/v1/base/math/#Base.Rounding.RoundingMode), the default being [`RoundNearest`](https://docs.julialang.org/en/v1/base/math/#Base.Rounding.RoundNearest). For example, the number 0.1 in decimal system cannot be represented accurately as a floating point number:\n",
    "$$ 0.1 = 1.10011001... \\times 2^{-4} $$"
   ]
  },
  {
   "cell_type": "code",
   "execution_count": 20,
   "metadata": {},
   "outputs": [
    {
     "name": "stdout",
     "output_type": "stream",
     "text": [
      "bitstring(0.1f0) = \"00111101110011001100110011001101\"\n",
      "bitstring(0.1) = \"0011111110111001100110011001100110011001100110011001100110011010\"\n"
     ]
    }
   ],
   "source": [
    "@show bitstring(0.1f0) # single precision Float32, 1001 gets rounded to 101(0)\n",
    "@show bitstring(0.1);  # double precision Float64"
   ]
  },
  {
   "cell_type": "markdown",
   "metadata": {},
   "source": [
    "* In summary\n",
    "    - Single precision: range $\\pm 10^{\\pm 38}$ with precision up to 7 decimal digits\n",
    "    - Double precision: range $\\pm 10^{\\pm 308}$ with precision up to 16 decimal digits  \n",
    "    - The floating-point numbers do not occur uniformly over the real number line\n",
    "    <img src=\"http://www.volkerschatz.com/science/pics/fltscale-wh.png\" width=\"700\" align=\"center\"/>\n",
    "    Each magnitude has same number of representible numbers\n",
    "    - **Machine epsilons** are the spacings of numbers around 1: \n",
    "    $$\\epsilon_{\\min}=b^{-p}, \\quad  \\epsilon_{\\max} = b^{1-p}.$$\n",
    "    <img src=\"./machine_epsilons.png\" width=\"500\" align=\"center\"/>"
   ]
  },
  {
   "cell_type": "code",
   "execution_count": 21,
   "metadata": {},
   "outputs": [
    {
     "name": "stdout",
     "output_type": "stream",
     "text": [
      "eps(Float32) = 1.1920929f-7\n",
      "eps(Float64) = 2.220446049250313e-16\n",
      "eps(100.0) = 1.4210854715202004e-14\n",
      "eps(0.0) = 5.0e-324\n",
      "x = 1.25f0 = 1.25f0\n",
      "(prevfloat(x), x, nextfloat(x)) = (1.2499999f0, 1.25f0, 1.2500001f0)\n",
      "(bitstring(prevfloat(x)), bitstring(x), bitstring(nextfloat(x))) = (\"00111111100111111111111111111111\", \"00111111101000000000000000000000\", \"00111111101000000000000000000001\")\n"
     ]
    }
   ],
   "source": [
    "@show eps(Float32)  # machine epsilon for a floating point type\n",
    "@show eps(Float64)  # same as eps()\n",
    "# eps(x) is the spacing after x\n",
    "@show eps(100.0)\n",
    "@show eps(0.0)\n",
    "# nextfloat(x) and prevfloat(x) give the neighbors of x\n",
    "@show x = 1.25f0\n",
    "@show prevfloat(x), x, nextfloat(x)\n",
    "@show bitstring(prevfloat(x)), bitstring(x), bitstring(nextfloat(x));"
   ]
  },
  {
   "cell_type": "markdown",
   "metadata": {},
   "source": [
    "* In R, the variable `.Machine` contains numerical characteristics of the machine."
   ]
  },
  {
   "cell_type": "code",
   "execution_count": 22,
   "metadata": {},
   "outputs": [
    {
     "data": {
      "text/plain": [
       "RObject{VecSxp}\n",
       "$double.eps\n",
       "[1] 2.220446e-16\n",
       "\n",
       "$double.neg.eps\n",
       "[1] 1.110223e-16\n",
       "\n",
       "$double.xmin\n",
       "[1] 2.225074e-308\n",
       "\n",
       "$double.xmax\n",
       "[1] 1.797693e+308\n",
       "\n",
       "$double.base\n",
       "[1] 2\n",
       "\n",
       "$double.digits\n",
       "[1] 53\n",
       "\n",
       "$double.rounding\n",
       "[1] 5\n",
       "\n",
       "$double.guard\n",
       "[1] 0\n",
       "\n",
       "$double.ulp.digits\n",
       "[1] -52\n",
       "\n",
       "$double.neg.ulp.digits\n",
       "[1] -53\n",
       "\n",
       "$double.exponent\n",
       "[1] 11\n",
       "\n",
       "$double.min.exp\n",
       "[1] -1022\n",
       "\n",
       "$double.max.exp\n",
       "[1] 1024\n",
       "\n",
       "$integer.max\n",
       "[1] 2147483647\n",
       "\n",
       "$sizeof.long\n",
       "[1] 8\n",
       "\n",
       "$sizeof.longlong\n",
       "[1] 8\n",
       "\n",
       "$sizeof.longdouble\n",
       "[1] 16\n",
       "\n",
       "$sizeof.pointer\n",
       "[1] 8\n",
       "\n"
      ]
     },
     "execution_count": 22,
     "metadata": {},
     "output_type": "execute_result"
    }
   ],
   "source": [
    "R\"\"\"\n",
    ".Machine\n",
    "\"\"\""
   ]
  },
  {
   "cell_type": "markdown",
   "metadata": {},
   "source": [
    "* Julia provides `Float16` (half precision), `Float32` (single precision), `Float64` (double precision), and `BigFloat` (arbitrary precision)."
   ]
  },
  {
   "cell_type": "markdown",
   "metadata": {},
   "source": [
    "### Overflow and underflow of floating-point number\n",
    "\n",
    "* For double precision, the range is $\\pm 10^{\\pm 308}$. In most situations, underflow (magnitude of result is less than $10^{-308}$) is preferred over overflow (magnitude of result is larger than $10^{-308}$). Overflow produces $\\pm \\inf$. Underflow yields zeros or denormalized numbers. \n",
    "\n",
    "* E.g., the logit link function is\n",
    "$$p = \\frac{\\exp (x^T \\beta)}{1 + \\exp (x^T \\beta)} = \\frac{1}{1+\\exp(- x^T \\beta)}.$$\n",
    "The former expression can easily lead to `Inf / Inf = NaN`, while the latter expression leads to graceful underflow.\n",
    "\n",
    "* `floatmin` and `floatmax` functions gives largest and smallest _finite_ number represented by a type."
   ]
  },
  {
   "cell_type": "code",
   "execution_count": 23,
   "metadata": {},
   "outputs": [
    {
     "name": "stdout",
     "output_type": "stream",
     "text": [
      "Float16\t6.104e-5\t6.55e4\t-Inf\tInf\t0.000977\n",
      "Float32\t1.1754944e-38\t3.4028235e38\t-Inf\tInf\t1.1920929e-7\n",
      "Float64\t2.2250738585072014e-308\t1.7976931348623157e308\t-Inf\tInf\t2.220446049250313e-16\n"
     ]
    }
   ],
   "source": [
    "for T in [Float16, Float32, Float64]\n",
    "    println(T, '\\t', floatmin(T), '\\t', floatmax(T), '\\t', typemin(T), \n",
    "        '\\t', typemax(T), '\\t', eps(T))\n",
    "end"
   ]
  },
  {
   "cell_type": "markdown",
   "metadata": {},
   "source": [
    "* `BigFloat` in Julia offers arbitrary precision."
   ]
  },
  {
   "cell_type": "code",
   "execution_count": 24,
   "metadata": {},
   "outputs": [
    {
     "name": "stdout",
     "output_type": "stream",
     "text": [
      "precision(BigFloat) = 256\n",
      "floatmin(BigFloat) = 8.50969131174083613912978790962048280567755996982969624908264897850135431080301e-1388255822130839284\n",
      "floatmax(BigFloat) = 5.875653789111587590936911998878442589938516392745498308333779606469323584389875e+1388255822130839282\n"
     ]
    }
   ],
   "source": [
    "@show precision(BigFloat)\n",
    "@show floatmin(BigFloat)\n",
    "@show floatmax(BigFloat);"
   ]
  },
  {
   "cell_type": "code",
   "execution_count": 25,
   "metadata": {},
   "outputs": [
    {
     "name": "stdout",
     "output_type": "stream",
     "text": [
      "BigFloat(π) = 3.141592653589793238462643383279502884197169399375105820974944592307816406286198\n",
      "BigFloat(π) = 3.141592653589793238462643383279502884197169399375105820974944592307816406286208998628034825342117067982148086513282306647093844609550582231725359408128481117450284102701938521105559644622948954930381964428810975665933446128475648233786783165271201909145648566923460348610454326648213393607260249141273724586997\n"
     ]
    }
   ],
   "source": [
    "@show BigFloat(π); # default precision for BigFloat is 256 bits\n",
    "# set precision to 1024 bits\n",
    "setprecision(BigFloat, 1024) do \n",
    "    @show BigFloat(π)\n",
    "end;"
   ]
  },
  {
   "cell_type": "markdown",
   "metadata": {},
   "source": [
    "## Catastrophic cancellation\n",
    "\n",
    "* **Scenario 1**: Addition or subtraction of two numbers of widely different magnitudes: $a+b$ or $a-b$ where $a \\gg b$ or $a \\ll b$. We loose the precision in the number of smaller magnitude. Consider \n",
    "$$\\begin{eqnarray*}\n",
    "    a &=& x.xxx ... \\times 2^{30} \\\\  \n",
    "    b &=& y.yyy... \\times 2^{-30}\n",
    "\\end{eqnarray*}$$\n",
    "What happens when computer calculates $a+b$? We get $a+b=a$!"
   ]
  },
  {
   "cell_type": "code",
   "execution_count": 26,
   "metadata": {},
   "outputs": [
    {
     "data": {
      "text/plain": [
       "true"
      ]
     },
     "execution_count": 26,
     "metadata": {},
     "output_type": "execute_result"
    }
   ],
   "source": [
    "a = 1.0 * 2.0^30\n",
    "b = 1.0 * 2.0^-30\n",
    "a + b == a"
   ]
  },
  {
   "cell_type": "markdown",
   "metadata": {},
   "source": [
    "* **Scenario 2**: Subtraction of two nearly equal numbers eliminates significant digits.  $a-b$ where $a \\approx b$. Consider \n",
    "$$\\begin{eqnarray*}\n",
    "    a &=& x.xxxxxxxxxx1ssss  \\\\\n",
    "    b &=& x.xxxxxxxxxx0tttt\n",
    "\\end{eqnarray*}$$\n",
    "The result is $1.vvvvu...u$ where $u$ are unassigned digits."
   ]
  },
  {
   "cell_type": "code",
   "execution_count": 27,
   "metadata": {},
   "outputs": [
    {
     "name": "stdout",
     "output_type": "stream",
     "text": [
      "bitstring(a) = \"00111111100111100000011001010001\"\n",
      "bitstring(b) = \"00111111100111100000011001010000\"\n",
      "a - b = 1.1920929f-7\n",
      "bitstring(a - b) = \"00110100000000000000000000000000\"\n"
     ]
    }
   ],
   "source": [
    "a = 1.2345678f0 # rounding\n",
    "@show bitstring(a) # rounding\n",
    "b = 1.2345677f0\n",
    "@show bitstring(b)\n",
    "@show a - b # correct result should be 1e-7\n",
    "@show bitstring(a - b);"
   ]
  },
  {
   "cell_type": "markdown",
   "metadata": {},
   "source": [
    "* Implications for numerical computation\n",
    "    - Rule 1: add small numbers together before adding larger ones  \n",
    "    - Rule 2: add numbers of like magnitude together (paring). When all numbers are of same sign and similar magnitude, add in pairs so each stage the summands are of similar magnitude  \n",
    "    - Rule 3: avoid substraction of two numbers that are nearly equal"
   ]
  },
  {
   "cell_type": "markdown",
   "metadata": {},
   "source": [
    "### Algebraic laws\n",
    "\n",
    "Floating-point numbers may violate many algebraic laws we are familiar with, such associative and distributive laws. See Homework 1 problems."
   ]
  },
  {
   "cell_type": "markdown",
   "metadata": {},
   "source": [
    "## Further reading\n",
    "\n",
    "* Textbook treatment, e.g., Chapter II.2 of [Computational Statistics](http://ucla.worldcat.org/title/computational-statistics/oclc/437345409&referer=brief_results) by James Gentle (2010).\n",
    "\n",
    "* [What every computer scientist should know about floating-point arithmetic](http://hua-zhou.github.io/teaching/biostatm280-2017spring/readings/Goldberg91FloatingPoint.pdf) by David Goldberg (1991)."
   ]
  }
 ],
 "metadata": {
  "kernelspec": {
   "display_name": "Julia 1.1.0",
   "language": "julia",
   "name": "julia-1.1"
  },
  "language_info": {
   "file_extension": ".jl",
   "mimetype": "application/julia",
   "name": "julia",
   "version": "1.1.0"
  },
  "toc": {
   "colors": {
    "hover_highlight": "#DAA520",
    "running_highlight": "#FF0000",
    "selected_highlight": "#FFD700"
   },
   "moveMenuLeft": true,
   "nav_menu": {
    "height": "250px",
    "width": "252px"
   },
   "navigate_menu": true,
   "number_sections": true,
   "sideBar": true,
   "skip_h1_title": true,
   "threshold": 4,
   "toc_cell": true,
   "toc_section_display": "block",
   "toc_window_display": true,
   "widenNotebook": false
  }
 },
 "nbformat": 4,
 "nbformat_minor": 2
}
