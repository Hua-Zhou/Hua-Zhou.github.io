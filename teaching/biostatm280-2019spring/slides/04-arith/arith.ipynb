{
 "cells": [
  {
   "cell_type": "markdown",
   "metadata": {
    "toc": "true"
   },
   "source": [
    "# Table of Contents\n",
    " <p><div class=\"lev1 toc-item\"><a href=\"#Computer-arithmetics\" data-toc-modified-id=\"Computer-arithmetics-1\"><span class=\"toc-item-num\">1&nbsp;&nbsp;</span>Computer arithmetics</a></div><div class=\"lev2 toc-item\"><a href=\"#Units-of-computer-storage\" data-toc-modified-id=\"Units-of-computer-storage-11\"><span class=\"toc-item-num\">1.1&nbsp;&nbsp;</span>Units of computer storage</a></div><div class=\"lev2 toc-item\"><a href=\"#Storage-of-Characters\" data-toc-modified-id=\"Storage-of-Characters-12\"><span class=\"toc-item-num\">1.2&nbsp;&nbsp;</span>Storage of Characters</a></div><div class=\"lev2 toc-item\"><a href=\"#Integers:-fixed-point-number-system\" data-toc-modified-id=\"Integers:-fixed-point-number-system-13\"><span class=\"toc-item-num\">1.3&nbsp;&nbsp;</span>Integers: fixed-point number system</a></div><div class=\"lev3 toc-item\"><a href=\"#Signed-integers\" data-toc-modified-id=\"Signed-integers-131\"><span class=\"toc-item-num\">1.3.1&nbsp;&nbsp;</span>Signed integers</a></div><div class=\"lev3 toc-item\"><a href=\"#Unsigned-integers\" data-toc-modified-id=\"Unsigned-integers-132\"><span class=\"toc-item-num\">1.3.2&nbsp;&nbsp;</span>Unsigned integers</a></div><div class=\"lev3 toc-item\"><a href=\"#BigInt\" data-toc-modified-id=\"BigInt-133\"><span class=\"toc-item-num\">1.3.3&nbsp;&nbsp;</span><code>BigInt</code></a></div><div class=\"lev3 toc-item\"><a href=\"#Overflow-and-underflow-for-integer-arithmetic\" data-toc-modified-id=\"Overflow-and-underflow-for-integer-arithmetic-134\"><span class=\"toc-item-num\">1.3.4&nbsp;&nbsp;</span>Overflow and underflow for integer arithmetic</a></div><div class=\"lev2 toc-item\"><a href=\"#Real-numbers:-floating-number-system\" data-toc-modified-id=\"Real-numbers:-floating-number-system-14\"><span class=\"toc-item-num\">1.4&nbsp;&nbsp;</span>Real numbers: floating-number system</a></div><div class=\"lev3 toc-item\"><a href=\"#Double-precision-(Float64)\" data-toc-modified-id=\"Double-precision-(Float64)-141\"><span class=\"toc-item-num\">1.4.1&nbsp;&nbsp;</span>Double precision (Float64)</a></div><div class=\"lev3 toc-item\"><a href=\"#Single-precision-(Float32)\" data-toc-modified-id=\"Single-precision-(Float32)-142\"><span class=\"toc-item-num\">1.4.2&nbsp;&nbsp;</span>Single precision (Float32)</a></div><div class=\"lev3 toc-item\"><a href=\"#Half-precision-(Float16)\" data-toc-modified-id=\"Half-precision-(Float16)-143\"><span class=\"toc-item-num\">1.4.3&nbsp;&nbsp;</span>Half precision (Float16)</a></div><div class=\"lev3 toc-item\"><a href=\"#Special-floating-point-numbers.\" data-toc-modified-id=\"Special-floating-point-numbers.-144\"><span class=\"toc-item-num\">1.4.4&nbsp;&nbsp;</span>Special floating-point numbers.</a></div><div class=\"lev3 toc-item\"><a href=\"#Rounding\" data-toc-modified-id=\"Rounding-145\"><span class=\"toc-item-num\">1.4.5&nbsp;&nbsp;</span>Rounding</a></div><div class=\"lev3 toc-item\"><a href=\"#Summary\" data-toc-modified-id=\"Summary-146\"><span class=\"toc-item-num\">1.4.6&nbsp;&nbsp;</span>Summary</a></div><div class=\"lev3 toc-item\"><a href=\"#Overflow-and-underflow-of-floating-point-number\" data-toc-modified-id=\"Overflow-and-underflow-of-floating-point-number-147\"><span class=\"toc-item-num\">1.4.7&nbsp;&nbsp;</span>Overflow and underflow of floating-point number</a></div><div class=\"lev2 toc-item\"><a href=\"#Catastrophic-cancellation\" data-toc-modified-id=\"Catastrophic-cancellation-15\"><span class=\"toc-item-num\">1.5&nbsp;&nbsp;</span>Catastrophic cancellation</a></div><div class=\"lev3 toc-item\"><a href=\"#Algebraic-laws\" data-toc-modified-id=\"Algebraic-laws-151\"><span class=\"toc-item-num\">1.5.1&nbsp;&nbsp;</span>Algebraic laws</a></div><div class=\"lev2 toc-item\"><a href=\"#Further-reading\" data-toc-modified-id=\"Further-reading-16\"><span class=\"toc-item-num\">1.6&nbsp;&nbsp;</span>Further reading</a></div>"
   ]
  },
  {
   "cell_type": "code",
   "execution_count": 1,
   "metadata": {},
   "outputs": [
    {
     "name": "stdout",
     "output_type": "stream",
     "text": [
      "Julia Version 1.1.0\n",
      "Commit 80516ca202 (2019-01-21 21:24 UTC)\n",
      "Platform Info:\n",
      "  OS: macOS (x86_64-apple-darwin14.5.0)\n",
      "  CPU: Intel(R) Core(TM) i7-6920HQ CPU @ 2.90GHz\n",
      "  WORD_SIZE: 64\n",
      "  LIBM: libopenlibm\n",
      "  LLVM: libLLVM-6.0.1 (ORCJIT, skylake)\n",
      "Environment:\n",
      "  JULIA_EDITOR = code\n"
     ]
    }
   ],
   "source": [
    "versioninfo()"
   ]
  },
  {
   "cell_type": "markdown",
   "metadata": {},
   "source": [
    "# Computer arithmetics"
   ]
  },
  {
   "cell_type": "markdown",
   "metadata": {},
   "source": [
    "## Units of computer storage\n",
    "\n",
    "* `bit` = `binary` + `digit` (coined by statistician [John Tukey](https://en.wikipedia.org/wiki/Bit#History)).  \n",
    "* `byte` = 8 bits.  \n",
    "* KB = kilobyte = $10^3$ bytes.  \n",
    "* MB = megabytes = $10^6$ bytes.  \n",
    "* GB = gigabytes = $10^9$ bytes. Typical RAM size.  \n",
    "* TB = terabytes = $10^{12}$ bytes. Typical hard drive size. Size of NYSE each trading session.    \n",
    "* PB = petabytes = $10^{15}$ bytes.  \n",
    "* EB = exabytes = $10^{18}$ bytes. Size of all healthcare data in 2011 is ~150 EB.    \n",
    "* ZB = zetabytes = $10^{21}$ bytes. \n",
    "\n",
    "Julia function `Base.summarysize` shows the amount of memory (in bytes) used by an object."
   ]
  },
  {
   "cell_type": "code",
   "execution_count": 2,
   "metadata": {},
   "outputs": [
    {
     "data": {
      "text/plain": [
       "80040"
      ]
     },
     "execution_count": 2,
     "metadata": {},
     "output_type": "execute_result"
    }
   ],
   "source": [
    "x = rand(100, 100)\n",
    "Base.summarysize(x)"
   ]
  },
  {
   "cell_type": "markdown",
   "metadata": {},
   "source": [
    "`varinfo()` function prints all variables in workspace and their sizes."
   ]
  },
  {
   "cell_type": "code",
   "execution_count": 3,
   "metadata": {},
   "outputs": [
    {
     "data": {
      "text/latex": [
       "\\begin{tabular}\n",
       "{l | r | l}\n",
       "name & size & summary \\\\\n",
       "\\hline\n",
       "Base &  & Module \\\\\n",
       "Core &  & Module \\\\\n",
       "Main &  & Module \\\\\n",
       "x & 78.164 KiB & 100×100 Array\\{Float64,2\\} \\\\\n",
       "\\end{tabular}\n"
      ],
      "text/markdown": [
       "| name |       size | summary                  |\n",
       "|:---- | ----------:|:------------------------ |\n",
       "| Base |            | Module                   |\n",
       "| Core |            | Module                   |\n",
       "| Main |            | Module                   |\n",
       "| x    | 78.164 KiB | 100×100 Array{Float64,2} |\n"
      ],
      "text/plain": [
       "name       size summary                 \n",
       "–––– –––––––––– ––––––––––––––––––––––––\n",
       "Base            Module                  \n",
       "Core            Module                  \n",
       "Main            Module                  \n",
       "x    78.164 KiB 100×100 Array{Float64,2}"
      ]
     },
     "execution_count": 3,
     "metadata": {},
     "output_type": "execute_result"
    }
   ],
   "source": [
    "varinfo() # similar to Matlab whos()"
   ]
  },
  {
   "cell_type": "markdown",
   "metadata": {},
   "source": [
    "## Storage of Characters\n",
    "\n",
    "* Plain text files are stored in the form of characters: `.jl`, `.r`, `.c`, `.cpp`, `.ipynb`, `.html`, `.tex`, ...  \n",
    "* ASCII (American Code for Information Interchange): 7 bits, only $2^7=128$ characters.  "
   ]
  },
  {
   "cell_type": "code",
   "execution_count": 4,
   "metadata": {},
   "outputs": [
    {
     "data": {
      "text/plain": [
       "128×2 Array{Any,2}:\n",
       "   0  '\\0'  \n",
       "   1  '\\x01'\n",
       "   2  '\\x02'\n",
       "   3  '\\x03'\n",
       "   4  '\\x04'\n",
       "   5  '\\x05'\n",
       "   6  '\\x06'\n",
       "   7  '\\a'  \n",
       "   8  '\\b'  \n",
       "   9  '\\t'  \n",
       "  10  '\\n'  \n",
       "  11  '\\v'  \n",
       "  12  '\\f'  \n",
       "   ⋮        \n",
       " 116  't'   \n",
       " 117  'u'   \n",
       " 118  'v'   \n",
       " 119  'w'   \n",
       " 120  'x'   \n",
       " 121  'y'   \n",
       " 122  'z'   \n",
       " 123  '{'   \n",
       " 124  '|'   \n",
       " 125  '}'   \n",
       " 126  '~'   \n",
       " 127  '\\x7f'"
      ]
     },
     "execution_count": 4,
     "metadata": {},
     "output_type": "execute_result"
    }
   ],
   "source": [
    "# integers 0, 1, ..., 127 and corresponding ascii character\n",
    "[0:127 Char.(0:127)]"
   ]
  },
  {
   "cell_type": "markdown",
   "metadata": {},
   "source": [
    "* Extended ASCII: 8 bits, $2^8=256$ characters.  "
   ]
  },
  {
   "cell_type": "code",
   "execution_count": 5,
   "metadata": {},
   "outputs": [
    {
     "data": {
      "text/plain": [
       "128×2 Array{Any,2}:\n",
       " 128  '\\u80'\n",
       " 129  '\\u81'\n",
       " 130  '\\u82'\n",
       " 131  '\\u83'\n",
       " 132  '\\u84'\n",
       " 133  '\\u85'\n",
       " 134  '\\u86'\n",
       " 135  '\\u87'\n",
       " 136  '\\u88'\n",
       " 137  '\\u89'\n",
       " 138  '\\u8a'\n",
       " 139  '\\u8b'\n",
       " 140  '\\u8c'\n",
       "   ⋮        \n",
       " 244  'ô'   \n",
       " 245  'õ'   \n",
       " 246  'ö'   \n",
       " 247  '÷'   \n",
       " 248  'ø'   \n",
       " 249  'ù'   \n",
       " 250  'ú'   \n",
       " 251  'û'   \n",
       " 252  'ü'   \n",
       " 253  'ý'   \n",
       " 254  'þ'   \n",
       " 255  'ÿ'   "
      ]
     },
     "execution_count": 5,
     "metadata": {},
     "output_type": "execute_result"
    }
   ],
   "source": [
    "# integers 128, 129, ..., 255 and corresponding extended ascii character\n",
    "# show(STDOUT, \"text/plain\", [128:255 Char.(128:255)])\n",
    "[128:255 Char.(128:255)]"
   ]
  },
  {
   "cell_type": "markdown",
   "metadata": {},
   "source": [
    "* Unicode: UTF-8, UTF-16 and UTF-32 support many more characters including foreign characters; last 7 digits conform to ASCII. \n",
    "\n",
    "* [UTF-8](https://en.wikipedia.org/wiki/UTF-8) is the current dominant character encoding on internet.  \n",
    "\n",
    "<img src=\"https://upload.wikimedia.org/wikipedia/commons/c/c4/Utf8webgrowth.svg\" width=\"500\" align=\"center\"/>\n",
    "\n",
    "* Julia supports the full range of UTF-8 characters. You can type many Unicode math symbols by typing the backslashed LaTeX symbol name followed by tab. "
   ]
  },
  {
   "cell_type": "code",
   "execution_count": 6,
   "metadata": {},
   "outputs": [
    {
     "data": {
      "text/plain": [
       "0.0"
      ]
     },
     "execution_count": 6,
     "metadata": {},
     "output_type": "execute_result"
    }
   ],
   "source": [
    "# \\beta-<tab>\n",
    "β = 0.0\n",
    "# \\beta-<tab>-\\hat-<tab>\n",
    "β̂ = 0.0"
   ]
  },
  {
   "cell_type": "markdown",
   "metadata": {},
   "source": [
    "* For a table of unicode symbols that can be entered via tab completion of LaTeX-like abbreviations: <https://docs.julialang.org/en/v1.1/manual/unicode-input/#Unicode-Input-1>"
   ]
  },
  {
   "cell_type": "markdown",
   "metadata": {},
   "source": [
    "## Integers: fixed-point number system\n",
    "\n",
    "* Fixed-point number system is a computer model for integers $\\mathbb{Z}$. \n",
    "\n",
    "* The number of bits and method of representing negative numbers vary from system to system. \n",
    "    - The `integer` type in R has $M=32$ or 64 bits, determined by machine word size. \n",
    "    - Matlab has `(u)int8`, `(u)int16`, `(u)int32`, `(u)int64`.  \n",
    "\n",
    "* Julia has even more integer types. Using Tom Breloff's `Plots.jl` and `GraphRecipes.jl` packages, we can [visualize the type tree](http://www.breloff.com/Graphs/) under `Integer`\n",
    "    - Storage for a `Signed` or `Unsigned` integer can be $M = 8, 16, 32, 64$ or 128 bits.  \n",
    "    - GraphRecipes.jl package has a convenience function for plotting the type hiearchy."
   ]
  },
  {
   "cell_type": "code",
   "execution_count": 7,
   "metadata": {},
   "outputs": [
    {
     "data": {
      "image/svg+xml": [
       "<?xml version=\"1.0\" encoding=\"utf-8\"?>\n",
       "<svg xmlns=\"http://www.w3.org/2000/svg\" xmlns:xlink=\"http://www.w3.org/1999/xlink\" width=\"600\" height=\"400\" viewBox=\"0 0 2400 1600\">\n",
       "<defs>\n",
       "  <clipPath id=\"clip9900\">\n",
       "    <rect x=\"0\" y=\"0\" width=\"2400\" height=\"1600\"/>\n",
       "  </clipPath>\n",
       "</defs>\n",
       "<polygon clip-path=\"url(#clip9900)\" points=\"\n",
       "0,1600 2400,1600 2400,0 0,0 \n",
       "  \" fill=\"#ffffff\" fill-rule=\"evenodd\" fill-opacity=\"1\"/>\n",
       "<defs>\n",
       "  <clipPath id=\"clip9901\">\n",
       "    <rect x=\"480\" y=\"0\" width=\"1681\" height=\"1600\"/>\n",
       "  </clipPath>\n",
       "</defs>\n",
       "<polygon clip-path=\"url(#clip9900)\" points=\"\n",
       "94.4882,1537.01 2321.26,1537.01 2321.26,47.2441 94.4882,47.2441 \n",
       "  \" fill=\"#ffffff\" fill-rule=\"evenodd\" fill-opacity=\"1\"/>\n",
       "<defs>\n",
       "  <clipPath id=\"clip9902\">\n",
       "    <rect x=\"94\" y=\"47\" width=\"2228\" height=\"1491\"/>\n",
       "  </clipPath>\n",
       "</defs>\n",
       "<polyline clip-path=\"url(#clip9902)\" style=\"stroke:#d968a2; stroke-width:4; stroke-opacity:1; fill:none\" points=\"\n",
       "  924.944,89.4072 926.08,96.6927 929.382,103.494 934.69,109.847 941.843,115.788 950.681,121.352 961.042,126.576 972.768,131.495 985.696,136.145 999.668,140.561 \n",
       "  1014.52,144.781 1030.1,148.839 1046.24,152.772 1062.77,156.615 1079.55,160.404 1096.41,164.175 1113.19,167.964 1129.73,171.807 1145.87,175.74 1161.44,179.798 \n",
       "  1176.3,184.018 1190.27,188.434 1203.2,193.084 1214.92,198.003 1225.28,203.226 1234.12,208.791 1241.27,214.731 1246.58,221.085 1249.88,227.886 1251.02,235.172 \n",
       "  \n",
       "  \"/>\n",
       "<polyline clip-path=\"url(#clip9902)\" style=\"stroke:#d968a2; stroke-width:4; stroke-opacity:1; fill:none\" points=\"\n",
       "  1251.02,235.172 1250.94,243.681 1250.71,252.367 1250.33,261.216 1249.82,270.217 1249.2,279.355 1248.46,288.617 1247.63,297.991 1246.72,307.463 1245.73,317.02 \n",
       "  1244.67,326.649 1243.57,336.337 1242.42,346.071 1241.25,355.837 1240.06,365.624 1238.87,375.417 1237.68,385.203 1236.51,394.97 1235.36,404.703 1234.26,414.392 \n",
       "  1233.21,424.021 1232.22,433.578 1231.3,443.05 1230.47,452.423 1229.73,461.686 1229.11,470.824 1228.6,479.824 1228.23,488.674 1227.99,497.36 1227.91,505.869 \n",
       "  \n",
       "  \"/>\n",
       "<polyline clip-path=\"url(#clip9902)\" style=\"stroke:#d968a2; stroke-width:4; stroke-opacity:1; fill:none\" points=\"\n",
       "  1227.91,505.869 1227.85,517.453 1227.67,529.281 1227.38,541.334 1226.99,553.596 1226.51,566.047 1225.95,578.669 1225.31,591.445 1224.61,604.357 1223.85,617.385 \n",
       "  1223.04,630.514 1222.19,643.723 1221.32,656.995 1220.42,670.313 1219.51,683.658 1218.59,697.012 1217.68,710.357 1216.78,723.674 1215.9,736.947 1215.05,750.156 \n",
       "  1214.25,763.284 1213.49,776.313 1212.78,789.224 1212.15,802 1211.58,814.623 1211.1,827.074 1210.71,839.335 1210.43,851.389 1210.25,863.217 1210.18,874.801 \n",
       "  \n",
       "  \"/>\n",
       "<polyline clip-path=\"url(#clip9902)\" style=\"stroke:#d968a2; stroke-width:4; stroke-opacity:1; fill:none\" points=\"\n",
       "  1210.18,874.801 1210.41,885.765 1211.05,896.941 1212.09,908.314 1213.5,919.869 1215.23,931.588 1217.26,943.458 1219.55,955.461 1222.09,967.583 1224.83,979.807 \n",
       "  1227.74,992.118 1230.79,1004.5 1233.95,1016.94 1237.19,1029.41 1240.48,1041.91 1243.78,1054.42 1247.07,1066.92 1250.31,1079.4 1253.47,1091.83 1256.52,1104.21 \n",
       "  1259.43,1116.52 1262.17,1128.75 1264.7,1140.87 1267,1152.87 1269.03,1164.74 1270.76,1176.46 1272.16,1188.02 1273.2,1199.39 1273.85,1210.57 1274.07,1221.53 \n",
       "  \n",
       "  \"/>\n",
       "<polyline clip-path=\"url(#clip9902)\" style=\"stroke:#d968a2; stroke-width:4; stroke-opacity:1; fill:none\" points=\"\n",
       "  1210.18,874.801 1209.72,885.775 1208.38,896.897 1206.22,908.155 1203.31,919.541 1199.72,931.041 1195.51,942.645 1190.74,954.343 1185.48,966.123 1179.8,977.974 \n",
       "  1173.76,989.885 1167.42,1001.85 1160.86,1013.85 1154.14,1025.87 1147.31,1037.91 1140.46,1049.96 1133.63,1062.01 1126.91,1074.03 1120.35,1086.03 1114.01,1097.99 \n",
       "  1107.97,1109.9 1102.29,1121.76 1097.03,1133.54 1092.26,1145.23 1088.05,1156.84 1084.46,1168.34 1081.55,1179.72 1079.39,1190.98 1078.05,1202.1 1077.58,1213.08 \n",
       "  \n",
       "  \"/>\n",
       "<polyline clip-path=\"url(#clip9902)\" style=\"stroke:#d968a2; stroke-width:4; stroke-opacity:1; fill:none\" points=\"\n",
       "  1210.18,874.801 1212,889.354 1217.26,903.094 1225.72,916.079 1237.12,928.371 1251.2,940.029 1267.72,951.115 1286.41,961.688 1307.01,971.808 1329.28,981.537 \n",
       "  1352.95,990.934 1377.78,1000.06 1403.5,1008.97 1429.86,1017.74 1456.6,1026.41 1483.47,1035.05 1510.21,1043.73 1536.57,1052.49 1562.29,1061.41 1587.11,1070.53 \n",
       "  1610.79,1079.93 1633.06,1089.66 1653.66,1099.78 1672.35,1110.35 1688.86,1121.44 1702.95,1133.09 1714.35,1145.39 1722.81,1158.37 1728.07,1172.11 1729.88,1186.66 \n",
       "  \n",
       "  \"/>\n",
       "<polyline clip-path=\"url(#clip9902)\" style=\"stroke:#d968a2; stroke-width:4; stroke-opacity:1; fill:none\" points=\"\n",
       "  1729.88,1186.66 1730.88,1195.03 1733.79,1202.98 1738.46,1210.55 1744.76,1217.77 1752.54,1224.68 1761.66,1231.29 1771.98,1237.65 1783.36,1243.78 1795.66,1249.71 \n",
       "  1808.74,1255.48 1822.45,1261.11 1836.65,1266.63 1851.21,1272.07 1865.98,1277.48 1880.82,1282.86 1895.59,1288.26 1910.15,1293.71 1924.36,1299.23 1938.07,1304.86 \n",
       "  1951.14,1310.62 1963.44,1316.56 1974.82,1322.69 1985.15,1329.04 1994.27,1335.66 2002.05,1342.56 2008.34,1349.79 2013.02,1357.36 2015.92,1365.31 2016.92,1373.67 \n",
       "  \n",
       "  \"/>\n",
       "<polyline clip-path=\"url(#clip9902)\" style=\"stroke:#d968a2; stroke-width:4; stroke-opacity:1; fill:none\" points=\"\n",
       "  1729.88,1186.66 1729.58,1194.69 1728.72,1202.84 1727.32,1211.1 1725.44,1219.46 1723.11,1227.92 1720.39,1236.46 1717.3,1245.08 1713.9,1253.77 1710.23,1262.52 \n",
       "  1706.32,1271.31 1702.23,1280.15 1697.98,1289.02 1693.63,1297.91 1689.22,1306.82 1684.78,1315.73 1680.37,1324.63 1676.02,1333.52 1671.78,1342.39 1667.68,1351.23 \n",
       "  1663.77,1360.03 1660.1,1368.77 1656.7,1377.46 1653.61,1386.08 1650.89,1394.63 1648.56,1403.08 1646.68,1411.45 1645.29,1419.71 1644.42,1427.85 1644.12,1435.88 \n",
       "  \n",
       "  \"/>\n",
       "<polyline clip-path=\"url(#clip9902)\" style=\"stroke:#d968a2; stroke-width:4; stroke-opacity:1; fill:none\" points=\"\n",
       "  1729.88,1186.66 1731.72,1197.4 1737.08,1207.43 1745.68,1216.79 1757.27,1225.54 1771.59,1233.75 1788.38,1241.44 1807.37,1248.69 1828.32,1255.55 1850.96,1262.06 \n",
       "  1875.03,1268.27 1900.27,1274.26 1926.42,1280.05 1953.21,1285.71 1980.4,1291.3 2007.72,1296.86 2034.91,1302.44 2061.71,1308.11 2087.85,1313.9 2113.09,1319.88 \n",
       "  2137.16,1326.1 2159.8,1332.61 2180.75,1339.46 2199.75,1346.71 2216.54,1354.41 2230.86,1362.61 2242.45,1371.37 2251.05,1380.73 2256.4,1390.76 2258.24,1401.49 \n",
       "  \n",
       "  \"/>\n",
       "<polyline clip-path=\"url(#clip9902)\" style=\"stroke:#d968a2; stroke-width:4; stroke-opacity:1; fill:none\" points=\"\n",
       "  1729.88,1186.66 1731.25,1197.69 1735.21,1208.11 1741.58,1217.97 1750.16,1227.32 1760.76,1236.2 1773.2,1244.65 1787.26,1252.72 1802.78,1260.46 1819.54,1267.9 \n",
       "  1837.36,1275.1 1856.05,1282.1 1875.41,1288.94 1895.26,1295.67 1915.39,1302.33 1935.62,1308.97 1955.75,1315.63 1975.59,1322.36 1994.96,1329.2 2013.64,1336.2 \n",
       "  2031.47,1343.4 2048.23,1350.85 2063.74,1358.58 2077.81,1366.65 2090.24,1375.11 2100.85,1383.98 2109.43,1393.33 2115.8,1403.19 2119.76,1413.61 2121.12,1424.64 \n",
       "  \n",
       "  \"/>\n",
       "<polyline clip-path=\"url(#clip9902)\" style=\"stroke:#d968a2; stroke-width:4; stroke-opacity:1; fill:none\" points=\"\n",
       "  1729.88,1186.66 1730.27,1195.24 1731.4,1203.91 1733.22,1212.68 1735.67,1221.55 1738.7,1230.49 1742.25,1239.51 1746.27,1248.59 1750.7,1257.73 1755.48,1266.92 \n",
       "  1760.57,1276.16 1765.91,1285.43 1771.44,1294.72 1777.11,1304.04 1782.85,1313.37 1788.63,1322.7 1794.38,1332.02 1800.04,1341.34 1805.57,1350.64 1810.91,1359.91 \n",
       "  1816,1369.14 1820.79,1378.33 1825.22,1387.47 1829.23,1396.56 1832.78,1405.57 1835.81,1414.52 1838.26,1423.38 1840.08,1432.15 1841.21,1440.83 1841.6,1449.4 \n",
       "  \n",
       "  \"/>\n",
       "<polyline clip-path=\"url(#clip9902)\" style=\"stroke:#d968a2; stroke-width:4; stroke-opacity:1; fill:none\" points=\"\n",
       "  1729.88,1186.66 1728.97,1195.23 1726.32,1203.52 1722.05,1211.55 1716.3,1219.33 1709.19,1226.9 1700.87,1234.28 1691.44,1241.47 1681.05,1248.52 1669.82,1255.42 \n",
       "  1657.88,1262.21 1645.35,1268.91 1632.38,1275.54 1619.09,1282.11 1605.6,1288.65 1592.05,1295.18 1578.56,1301.73 1565.26,1308.3 1552.29,1314.93 1539.77,1321.62 \n",
       "  1527.83,1328.42 1516.6,1335.32 1506.21,1342.36 1496.78,1349.56 1488.45,1356.93 1481.35,1364.5 1475.6,1372.29 1471.33,1380.32 1468.68,1388.6 1467.76,1397.17 \n",
       "  \n",
       "  \"/>\n",
       "<polyline clip-path=\"url(#clip9902)\" style=\"stroke:#d968a2; stroke-width:4; stroke-opacity:1; fill:none\" points=\"\n",
       "  1210.18,874.801 1208.33,889.722 1202.92,903.804 1194.24,917.109 1182.53,929.7 1168.07,941.639 1151.12,952.987 1131.93,963.808 1110.77,974.163 1087.91,984.114 \n",
       "  1063.61,993.723 1038.12,1003.05 1011.71,1012.17 984.651,1021.12 957.195,1029.99 929.608,1038.82 902.152,1047.68 875.09,1056.64 848.684,1065.75 823.197,1075.08 \n",
       "  798.891,1084.69 776.029,1094.64 754.874,1105 735.688,1115.82 718.733,1127.17 704.272,1139.1 692.567,1151.7 683.882,1165 678.478,1179.08 676.619,1194 \n",
       "  \n",
       "  \"/>\n",
       "<polyline clip-path=\"url(#clip9902)\" style=\"stroke:#d968a2; stroke-width:4; stroke-opacity:1; fill:none\" points=\"\n",
       "  676.619,1194 676.512,1203.47 676.202,1213.13 675.703,1222.96 675.031,1232.97 674.2,1243.13 673.227,1253.42 672.125,1263.84 670.91,1274.36 669.597,1284.98 \n",
       "  668.202,1295.68 666.738,1306.45 665.222,1317.26 663.668,1328.11 662.091,1338.98 660.507,1349.86 658.93,1360.74 657.376,1371.59 655.86,1382.4 654.397,1393.17 \n",
       "  653.001,1403.87 651.688,1414.48 650.473,1425.01 649.371,1435.43 648.398,1445.72 647.567,1455.88 646.895,1465.88 646.397,1475.72 646.086,1485.38 645.98,1494.84 \n",
       "  \n",
       "  \"/>\n",
       "<polyline clip-path=\"url(#clip9902)\" style=\"stroke:#d968a2; stroke-width:4; stroke-opacity:1; fill:none\" points=\"\n",
       "  676.619,1194 675.63,1201.62 672.755,1208.74 668.135,1215.4 661.91,1221.65 654.218,1227.52 645.199,1233.04 634.993,1238.25 623.741,1243.19 611.58,1247.89 \n",
       "  598.651,1252.39 585.094,1256.73 571.049,1260.94 556.654,1265.06 542.049,1269.13 527.375,1273.17 512.771,1277.24 498.376,1281.36 484.33,1285.57 470.773,1289.91 \n",
       "  457.844,1294.41 445.684,1299.11 434.431,1304.05 424.225,1309.26 415.207,1314.78 407.515,1320.65 401.289,1326.9 396.669,1333.56 393.795,1340.68 392.806,1348.3 \n",
       "  \n",
       "  \"/>\n",
       "<polyline clip-path=\"url(#clip9902)\" style=\"stroke:#d968a2; stroke-width:4; stroke-opacity:1; fill:none\" points=\"\n",
       "  676.619,1194 677.088,1200.26 678.452,1206.48 680.644,1212.69 683.598,1218.87 687.247,1225.03 691.526,1231.17 696.369,1237.3 701.708,1243.41 707.477,1249.52 \n",
       "  713.612,1255.61 720.044,1261.69 726.708,1267.77 733.538,1273.84 740.467,1279.91 747.43,1285.98 754.359,1292.05 761.189,1298.12 767.853,1304.19 774.285,1310.28 \n",
       "  780.419,1316.37 786.189,1322.47 791.528,1328.58 796.37,1334.71 800.649,1340.86 804.299,1347.02 807.253,1353.2 809.445,1359.4 810.809,1365.63 811.278,1371.88 \n",
       "  \n",
       "  \"/>\n",
       "<polyline clip-path=\"url(#clip9902)\" style=\"stroke:#d968a2; stroke-width:4; stroke-opacity:1; fill:none\" points=\"\n",
       "  676.619,1194 675.35,1204.49 671.661,1214.44 665.733,1223.9 657.744,1232.9 647.874,1241.48 636.301,1249.69 623.205,1257.56 608.765,1265.14 593.161,1272.45 \n",
       "  576.571,1279.55 559.174,1286.47 541.151,1293.26 522.679,1299.94 503.939,1306.56 485.109,1313.17 466.368,1319.79 447.897,1326.48 429.873,1333.26 412.477,1340.18 \n",
       "  395.887,1347.28 380.282,1354.6 365.842,1362.17 352.747,1370.04 341.174,1378.25 331.303,1386.83 323.315,1395.84 317.386,1405.29 313.698,1415.24 312.429,1425.73 \n",
       "  \n",
       "  \"/>\n",
       "<polyline clip-path=\"url(#clip9902)\" style=\"stroke:#d968a2; stroke-width:4; stroke-opacity:1; fill:none\" points=\"\n",
       "  676.619,1194 674.81,1201.93 669.552,1209.33 661.102,1216.25 649.715,1222.71 635.646,1228.76 619.151,1234.45 600.484,1239.8 579.902,1244.86 557.659,1249.67 \n",
       "  534.012,1254.26 509.216,1258.67 483.525,1262.95 457.196,1267.13 430.484,1271.26 403.644,1275.36 376.932,1279.48 350.603,1283.67 324.913,1287.95 300.116,1292.36 \n",
       "  276.469,1296.95 254.227,1301.76 233.645,1306.82 214.978,1312.17 198.483,1317.85 184.414,1323.91 173.026,1330.37 164.576,1337.29 159.319,1344.69 157.51,1352.62 \n",
       "  \n",
       "  \"/>\n",
       "<polygon clip-path=\"url(#clip9900)\" points=\"\n",
       "924.944,113.741 975.52,101.574 975.52,77.2406 924.944,65.0739 874.368,77.2406 874.368,101.574 924.944,113.741 \n",
       "  \" fill=\"#000000\" fill-rule=\"evenodd\" fill-opacity=\"1\"/>\n",
       "<polygon clip-path=\"url(#clip9900)\" points=\"\n",
       "924.944,112.741 973.441,101.074 973.441,77.7406 924.944,66.0739 876.446,77.7406 876.446,101.074 924.944,112.741 \n",
       "  \" fill=\"#009af9\" fill-rule=\"evenodd\" fill-opacity=\"1\"/>\n",
       "<polygon clip-path=\"url(#clip9900)\" points=\"\n",
       "1251.02,259.005 1350.09,247.088 1350.09,223.255 1251.02,211.338 1151.95,223.255 1151.95,247.088 1251.02,259.005 \n",
       "  \" fill=\"#000000\" fill-rule=\"evenodd\" fill-opacity=\"1\"/>\n",
       "<polygon clip-path=\"url(#clip9900)\" points=\"\n",
       "1251.02,258.505 1348.02,246.838 1348.02,223.505 1251.02,211.838 1154.03,223.505 1154.03,246.838 1251.02,258.505 \n",
       "  \" fill=\"#009af9\" fill-rule=\"evenodd\" fill-opacity=\"1\"/>\n",
       "<polygon clip-path=\"url(#clip9900)\" points=\"\n",
       "1227.91,529.952 1294.65,517.91 1294.65,493.827 1227.91,481.785 1161.17,493.827 1161.17,517.91 1227.91,529.952 \n",
       "  \" fill=\"#000000\" fill-rule=\"evenodd\" fill-opacity=\"1\"/>\n",
       "<polygon clip-path=\"url(#clip9900)\" points=\"\n",
       "1227.91,529.202 1292.57,517.535 1292.57,494.202 1227.91,482.535 1163.25,494.202 1163.25,517.535 1227.91,529.202 \n",
       "  \" fill=\"#009af9\" fill-rule=\"evenodd\" fill-opacity=\"1\"/>\n",
       "<polygon clip-path=\"url(#clip9900)\" points=\"\n",
       "1210.18,898.563 1325.42,886.682 1325.42,862.92 1210.18,851.039 1094.95,862.92 1094.95,886.682 1210.18,898.563 \n",
       "  \" fill=\"#000000\" fill-rule=\"evenodd\" fill-opacity=\"1\"/>\n",
       "<polygon clip-path=\"url(#clip9900)\" points=\"\n",
       "1210.18,898.134 1323.35,886.468 1323.35,863.134 1210.18,851.468 1097.02,863.134 1097.02,886.468 1210.18,898.134 \n",
       "  \" fill=\"#009af9\" fill-rule=\"evenodd\" fill-opacity=\"1\"/>\n",
       "<polygon clip-path=\"url(#clip9900)\" points=\"\n",
       "1274.07,1245.61 1340.81,1233.57 1340.81,1209.49 1274.07,1197.45 1207.33,1209.49 1207.33,1233.57 1274.07,1245.61 \n",
       "  \" fill=\"#000000\" fill-rule=\"evenodd\" fill-opacity=\"1\"/>\n",
       "<polygon clip-path=\"url(#clip9900)\" points=\"\n",
       "1274.07,1244.86 1338.74,1233.2 1338.74,1209.86 1274.07,1198.2 1209.41,1209.86 1209.41,1233.2 1274.07,1244.86 \n",
       "  \" fill=\"#009af9\" fill-rule=\"evenodd\" fill-opacity=\"1\"/>\n",
       "<polygon clip-path=\"url(#clip9900)\" points=\"\n",
       "1077.58,1236.64 1289.82,1224.86 1289.82,1201.3 1077.58,1189.51 865.35,1201.3 865.35,1224.86 1077.58,1236.64 \n",
       "  \" fill=\"#000000\" fill-rule=\"evenodd\" fill-opacity=\"1\"/>\n",
       "<polygon clip-path=\"url(#clip9900)\" points=\"\n",
       "1077.58,1236.41 1287.74,1224.74 1287.74,1201.41 1077.58,1189.74 867.428,1201.41 867.428,1224.74 1077.58,1236.41 \n",
       "  \" fill=\"#009af9\" fill-rule=\"evenodd\" fill-opacity=\"1\"/>\n",
       "<polygon clip-path=\"url(#clip9900)\" points=\"\n",
       "1729.88,1210.5 1828.96,1198.58 1828.96,1174.75 1729.88,1162.83 1630.81,1174.75 1630.81,1198.58 1729.88,1210.5 \n",
       "  \" fill=\"#000000\" fill-rule=\"evenodd\" fill-opacity=\"1\"/>\n",
       "<polygon clip-path=\"url(#clip9900)\" points=\"\n",
       "1729.88,1210 1826.88,1198.33 1826.88,1175 1729.88,1163.33 1632.89,1175 1632.89,1198.33 1729.88,1210 \n",
       "  \" fill=\"#009af9\" fill-rule=\"evenodd\" fill-opacity=\"1\"/>\n",
       "<polygon clip-path=\"url(#clip9900)\" points=\"\n",
       "2016.92,1397.51 2116,1385.59 2116,1361.76 2016.92,1349.84 1917.85,1361.76 1917.85,1385.59 2016.92,1397.51 \n",
       "  \" fill=\"#000000\" fill-rule=\"evenodd\" fill-opacity=\"1\"/>\n",
       "<polygon clip-path=\"url(#clip9900)\" points=\"\n",
       "2016.92,1397.01 2113.92,1385.34 2113.92,1362.01 2016.92,1350.34 1919.93,1362.01 1919.93,1385.34 2016.92,1397.01 \n",
       "  \" fill=\"#009af9\" fill-rule=\"evenodd\" fill-opacity=\"1\"/>\n",
       "<polygon clip-path=\"url(#clip9900)\" points=\"\n",
       "1644.12,1459.71 1743.19,1447.8 1743.19,1423.96 1644.12,1412.05 1545.05,1423.96 1545.05,1447.8 1644.12,1459.71 \n",
       "  \" fill=\"#000000\" fill-rule=\"evenodd\" fill-opacity=\"1\"/>\n",
       "<polygon clip-path=\"url(#clip9900)\" points=\"\n",
       "1644.12,1459.21 1741.11,1447.55 1741.11,1424.21 1644.12,1412.55 1547.12,1424.21 1547.12,1447.55 1644.12,1459.21 \n",
       "  \" fill=\"#009af9\" fill-rule=\"evenodd\" fill-opacity=\"1\"/>\n",
       "<polygon clip-path=\"url(#clip9900)\" points=\"\n",
       "2258.24,1425.43 2341.15,1413.46 2341.15,1389.53 2258.24,1377.56 2175.33,1389.53 2175.33,1413.46 2258.24,1425.43 \n",
       "  \" fill=\"#000000\" fill-rule=\"evenodd\" fill-opacity=\"1\"/>\n",
       "<polygon clip-path=\"url(#clip9900)\" points=\"\n",
       "2258.24,1424.83 2339.07,1413.16 2339.07,1389.83 2258.24,1378.16 2177.41,1389.83 2177.41,1413.16 2258.24,1424.83 \n",
       "  \" fill=\"#009af9\" fill-rule=\"evenodd\" fill-opacity=\"1\"/>\n",
       "<polygon clip-path=\"url(#clip9900)\" points=\"\n",
       "2121.12,1448.57 2204.03,1436.6 2204.03,1412.67 2121.12,1400.7 2038.22,1412.67 2038.22,1436.6 2121.12,1448.57 \n",
       "  \" fill=\"#000000\" fill-rule=\"evenodd\" fill-opacity=\"1\"/>\n",
       "<polygon clip-path=\"url(#clip9900)\" points=\"\n",
       "2121.12,1447.97 2201.95,1436.3 2201.95,1412.97 2121.12,1401.3 2040.29,1412.97 2040.29,1436.3 2121.12,1447.97 \n",
       "  \" fill=\"#009af9\" fill-rule=\"evenodd\" fill-opacity=\"1\"/>\n",
       "<polygon clip-path=\"url(#clip9900)\" points=\"\n",
       "1841.6,1473.33 1924.51,1461.37 1924.51,1437.43 1841.6,1425.47 1758.69,1437.43 1758.69,1461.37 1841.6,1473.33 \n",
       "  \" fill=\"#000000\" fill-rule=\"evenodd\" fill-opacity=\"1\"/>\n",
       "<polygon clip-path=\"url(#clip9900)\" points=\"\n",
       "1841.6,1472.73 1922.43,1461.07 1922.43,1437.73 1841.6,1426.07 1760.77,1437.73 1760.77,1461.07 1841.6,1472.73 \n",
       "  \" fill=\"#009af9\" fill-rule=\"evenodd\" fill-opacity=\"1\"/>\n",
       "<polygon clip-path=\"url(#clip9900)\" points=\"\n",
       "1467.76,1421.26 1534.5,1409.21 1534.5,1385.13 1467.76,1373.09 1401.02,1385.13 1401.02,1409.21 1467.76,1421.26 \n",
       "  \" fill=\"#000000\" fill-rule=\"evenodd\" fill-opacity=\"1\"/>\n",
       "<polygon clip-path=\"url(#clip9900)\" points=\"\n",
       "1467.76,1420.51 1532.43,1408.84 1532.43,1385.51 1467.76,1373.84 1403.1,1385.51 1403.1,1408.84 1467.76,1420.51 \n",
       "  \" fill=\"#009af9\" fill-rule=\"evenodd\" fill-opacity=\"1\"/>\n",
       "<polygon clip-path=\"url(#clip9900)\" points=\"\n",
       "676.619,1217.71 808.024,1205.86 808.024,1182.15 676.619,1170.3 545.214,1182.15 545.214,1205.86 676.619,1217.71 \n",
       "  \" fill=\"#000000\" fill-rule=\"evenodd\" fill-opacity=\"1\"/>\n",
       "<polygon clip-path=\"url(#clip9900)\" points=\"\n",
       "676.619,1217.34 805.945,1205.67 805.945,1182.34 676.619,1170.67 547.292,1182.34 547.292,1205.67 676.619,1217.34 \n",
       "  \" fill=\"#009af9\" fill-rule=\"evenodd\" fill-opacity=\"1\"/>\n",
       "<polygon clip-path=\"url(#clip9900)\" points=\"\n",
       "645.98,1518.61 761.219,1506.73 761.219,1482.96 645.98,1471.08 530.74,1482.96 530.74,1506.73 645.98,1518.61 \n",
       "  \" fill=\"#000000\" fill-rule=\"evenodd\" fill-opacity=\"1\"/>\n",
       "<polygon clip-path=\"url(#clip9900)\" points=\"\n",
       "645.98,1518.18 759.14,1506.51 759.14,1483.18 645.98,1471.51 532.819,1483.18 532.819,1506.51 645.98,1518.18 \n",
       "  \" fill=\"#009af9\" fill-rule=\"evenodd\" fill-opacity=\"1\"/>\n",
       "<polygon clip-path=\"url(#clip9900)\" points=\"\n",
       "392.806,1372.13 491.879,1360.21 491.879,1336.38 392.806,1324.46 293.732,1336.38 293.732,1360.21 392.806,1372.13 \n",
       "  \" fill=\"#000000\" fill-rule=\"evenodd\" fill-opacity=\"1\"/>\n",
       "<polygon clip-path=\"url(#clip9900)\" points=\"\n",
       "392.806,1371.63 489.801,1359.96 489.801,1336.63 392.806,1324.96 295.811,1336.63 295.811,1359.96 392.806,1371.63 \n",
       "  \" fill=\"#009af9\" fill-rule=\"evenodd\" fill-opacity=\"1\"/>\n",
       "<polygon clip-path=\"url(#clip9900)\" points=\"\n",
       "811.278,1395.71 910.351,1383.8 910.351,1359.96 811.278,1348.05 712.205,1359.96 712.205,1383.8 811.278,1395.71 \n",
       "  \" fill=\"#000000\" fill-rule=\"evenodd\" fill-opacity=\"1\"/>\n",
       "<polygon clip-path=\"url(#clip9900)\" points=\"\n",
       "811.278,1395.21 908.273,1383.55 908.273,1360.21 811.278,1348.55 714.283,1360.21 714.283,1383.55 811.278,1395.21 \n",
       "  \" fill=\"#009af9\" fill-rule=\"evenodd\" fill-opacity=\"1\"/>\n",
       "<polygon clip-path=\"url(#clip9900)\" points=\"\n",
       "312.429,1449.56 411.502,1437.65 411.502,1413.81 312.429,1401.9 213.355,1413.81 213.355,1437.65 312.429,1449.56 \n",
       "  \" fill=\"#000000\" fill-rule=\"evenodd\" fill-opacity=\"1\"/>\n",
       "<polygon clip-path=\"url(#clip9900)\" points=\"\n",
       "312.429,1449.06 409.424,1437.4 409.424,1414.06 312.429,1402.4 215.434,1414.06 215.434,1437.4 312.429,1449.06 \n",
       "  \" fill=\"#009af9\" fill-rule=\"evenodd\" fill-opacity=\"1\"/>\n",
       "<polygon clip-path=\"url(#clip9900)\" points=\"\n",
       "157.51,1376.55 240.418,1364.58 240.418,1340.65 157.51,1328.68 74.6025,1340.65 74.6025,1364.58 157.51,1376.55 \n",
       "  \" fill=\"#000000\" fill-rule=\"evenodd\" fill-opacity=\"1\"/>\n",
       "<polygon clip-path=\"url(#clip9900)\" points=\"\n",
       "157.51,1375.95 238.339,1364.28 238.339,1340.95 157.51,1329.28 76.681,1340.95 76.681,1364.28 157.51,1375.95 \n",
       "  \" fill=\"#009af9\" fill-rule=\"evenodd\" fill-opacity=\"1\"/>\n",
       "<g clip-path=\"url(#clip9900)\">\n",
       "<text style=\"fill:#000000; fill-opacity:1; font-family:Arial,Helvetica Neue,Helvetica,sans-serif; font-size:84px; text-anchor:middle;\" transform=\"rotate(0, 924.944, 119.907)\" x=\"924.944\" y=\"119.907\">Any</text>\n",
       "</g>\n",
       "<g clip-path=\"url(#clip9900)\">\n",
       "<text style=\"fill:#000000; fill-opacity:1; font-family:Arial,Helvetica Neue,Helvetica,sans-serif; font-size:84px; text-anchor:middle;\" transform=\"rotate(0, 1251.02, 265.672)\" x=\"1251.02\" y=\"265.672\">Number</text>\n",
       "</g>\n",
       "<g clip-path=\"url(#clip9900)\">\n",
       "<text style=\"fill:#000000; fill-opacity:1; font-family:Arial,Helvetica Neue,Helvetica,sans-serif; font-size:84px; text-anchor:middle;\" transform=\"rotate(0, 1227.91, 536.369)\" x=\"1227.91\" y=\"536.369\">Real</text>\n",
       "</g>\n",
       "<g clip-path=\"url(#clip9900)\">\n",
       "<text style=\"fill:#000000; fill-opacity:1; font-family:Arial,Helvetica Neue,Helvetica,sans-serif; font-size:84px; text-anchor:middle;\" transform=\"rotate(0, 1210.18, 905.301)\" x=\"1210.18\" y=\"905.301\">Integer</text>\n",
       "</g>\n",
       "<g clip-path=\"url(#clip9900)\">\n",
       "<text style=\"fill:#000000; fill-opacity:1; font-family:Arial,Helvetica Neue,Helvetica,sans-serif; font-size:84px; text-anchor:middle;\" transform=\"rotate(0, 1274.07, 1252.03)\" x=\"1274.07\" y=\"1252.03\">Bool</text>\n",
       "</g>\n",
       "<g clip-path=\"url(#clip9900)\">\n",
       "<text style=\"fill:#000000; fill-opacity:1; font-family:Arial,Helvetica Neue,Helvetica,sans-serif; font-size:84px; text-anchor:middle;\" transform=\"rotate(0, 1077.58, 1243.58)\" x=\"1077.58\" y=\"1243.58\">OffsetInteger</text>\n",
       "</g>\n",
       "<g clip-path=\"url(#clip9900)\">\n",
       "<text style=\"fill:#000000; fill-opacity:1; font-family:Arial,Helvetica Neue,Helvetica,sans-serif; font-size:84px; text-anchor:middle;\" transform=\"rotate(0, 1729.88, 1217.16)\" x=\"1729.88\" y=\"1217.16\">Signed</text>\n",
       "</g>\n",
       "<g clip-path=\"url(#clip9900)\">\n",
       "<text style=\"fill:#000000; fill-opacity:1; font-family:Arial,Helvetica Neue,Helvetica,sans-serif; font-size:84px; text-anchor:middle;\" transform=\"rotate(0, 2016.92, 1404.17)\" x=\"2016.92\" y=\"1404.17\">BigInt</text>\n",
       "</g>\n",
       "<g clip-path=\"url(#clip9900)\">\n",
       "<text style=\"fill:#000000; fill-opacity:1; font-family:Arial,Helvetica Neue,Helvetica,sans-serif; font-size:84px; text-anchor:middle;\" transform=\"rotate(0, 1644.12, 1466.38)\" x=\"1644.12\" y=\"1466.38\">Int128</text>\n",
       "</g>\n",
       "<g clip-path=\"url(#clip9900)\">\n",
       "<text style=\"fill:#000000; fill-opacity:1; font-family:Arial,Helvetica Neue,Helvetica,sans-serif; font-size:84px; text-anchor:middle;\" transform=\"rotate(0, 2258.24, 1431.99)\" x=\"2258.24\" y=\"1431.99\">Int16</text>\n",
       "</g>\n",
       "<g clip-path=\"url(#clip9900)\">\n",
       "<text style=\"fill:#000000; fill-opacity:1; font-family:Arial,Helvetica Neue,Helvetica,sans-serif; font-size:84px; text-anchor:middle;\" transform=\"rotate(0, 2121.12, 1455.14)\" x=\"2121.12\" y=\"1455.14\">Int32</text>\n",
       "</g>\n",
       "<g clip-path=\"url(#clip9900)\">\n",
       "<text style=\"fill:#000000; fill-opacity:1; font-family:Arial,Helvetica Neue,Helvetica,sans-serif; font-size:84px; text-anchor:middle;\" transform=\"rotate(0, 1841.6, 1479.9)\" x=\"1841.6\" y=\"1479.9\">Int64</text>\n",
       "</g>\n",
       "<g clip-path=\"url(#clip9900)\">\n",
       "<text style=\"fill:#000000; fill-opacity:1; font-family:Arial,Helvetica Neue,Helvetica,sans-serif; font-size:84px; text-anchor:middle;\" transform=\"rotate(0, 1467.76, 1427.67)\" x=\"1467.76\" y=\"1427.67\">Int8</text>\n",
       "</g>\n",
       "<g clip-path=\"url(#clip9900)\">\n",
       "<text style=\"fill:#000000; fill-opacity:1; font-family:Arial,Helvetica Neue,Helvetica,sans-serif; font-size:84px; text-anchor:middle;\" transform=\"rotate(0, 676.619, 1224.5)\" x=\"676.619\" y=\"1224.5\">Unsigned</text>\n",
       "</g>\n",
       "<g clip-path=\"url(#clip9900)\">\n",
       "<text style=\"fill:#000000; fill-opacity:1; font-family:Arial,Helvetica Neue,Helvetica,sans-serif; font-size:84px; text-anchor:middle;\" transform=\"rotate(0, 645.98, 1525.34)\" x=\"645.98\" y=\"1525.34\">UInt128</text>\n",
       "</g>\n",
       "<g clip-path=\"url(#clip9900)\">\n",
       "<text style=\"fill:#000000; fill-opacity:1; font-family:Arial,Helvetica Neue,Helvetica,sans-serif; font-size:84px; text-anchor:middle;\" transform=\"rotate(0, 392.806, 1378.8)\" x=\"392.806\" y=\"1378.8\">UInt16</text>\n",
       "</g>\n",
       "<g clip-path=\"url(#clip9900)\">\n",
       "<text style=\"fill:#000000; fill-opacity:1; font-family:Arial,Helvetica Neue,Helvetica,sans-serif; font-size:84px; text-anchor:middle;\" transform=\"rotate(0, 811.278, 1402.38)\" x=\"811.278\" y=\"1402.38\">UInt32</text>\n",
       "</g>\n",
       "<g clip-path=\"url(#clip9900)\">\n",
       "<text style=\"fill:#000000; fill-opacity:1; font-family:Arial,Helvetica Neue,Helvetica,sans-serif; font-size:84px; text-anchor:middle;\" transform=\"rotate(0, 312.429, 1456.23)\" x=\"312.429\" y=\"1456.23\">UInt64</text>\n",
       "</g>\n",
       "<g clip-path=\"url(#clip9900)\">\n",
       "<text style=\"fill:#000000; fill-opacity:1; font-family:Arial,Helvetica Neue,Helvetica,sans-serif; font-size:84px; text-anchor:middle;\" transform=\"rotate(0, 157.51, 1383.12)\" x=\"157.51\" y=\"1383.12\">UInt8</text>\n",
       "</g>\n",
       "</svg>\n"
      ]
     },
     "execution_count": 7,
     "metadata": {},
     "output_type": "execute_result"
    }
   ],
   "source": [
    "using GraphRecipes, Plots\n",
    "\n",
    "#pyplot(size=(800, 600))\n",
    "gr(size=(600, 400))\n",
    "theme(:default)\n",
    "\n",
    "plot(Integer, method=:tree, fontsize=4)"
   ]
  },
  {
   "cell_type": "markdown",
   "metadata": {},
   "source": [
    "### Signed integers\n",
    "\n",
    "* First bit indicates sign.  \n",
    "    - `0` for nonnegative numbers\n",
    "    - `1` for negative numbers  \n",
    "    \n",
    "* **Two's complement representation** for negative numbers. \n",
    "    - Sign bit is set to 1  \n",
    "    - remaining bits are set to opposite values  \n",
    "    - 1 is added to the result  \n",
    "    - Two's complement representation of a negative integer `x` is same as the unsigned integer `2^64 + x`."
   ]
  },
  {
   "cell_type": "code",
   "execution_count": 8,
   "metadata": {},
   "outputs": [
    {
     "name": "stdout",
     "output_type": "stream",
     "text": [
      "typeof(18) = Int64\n",
      "bitstring(18) = \"0000000000000000000000000000000000000000000000000000000000010010\"\n",
      "bitstring(-18) = \"1111111111111111111111111111111111111111111111111111111111101110\"\n",
      "bitstring(UInt64(Int128(2) ^ 64 - 18)) == bitstring(-18) = true\n",
      "bitstring(2 * 18) = \"0000000000000000000000000000000000000000000000000000000000100100\"\n",
      "bitstring(2 * -18) = \"1111111111111111111111111111111111111111111111111111111111011100\"\n"
     ]
    }
   ],
   "source": [
    "@show typeof(18)\n",
    "@show bitstring(18)\n",
    "@show bitstring(-18)\n",
    "@show bitstring(UInt64(Int128(2)^64 - 18)) == bitstring(-18)\n",
    "@show bitstring(2 * 18) # shift bits of 18\n",
    "@show bitstring(2 * -18); # shift bits of -18"
   ]
  },
  {
   "cell_type": "markdown",
   "metadata": {},
   "source": [
    "* Two's complement representation respects modular arithmetic nicely.  \n",
    "    Addition of any two signed integers are just bitwise addition, possibly modulo $2^M$\n",
    "    \n",
    "<img src=\"http://users.dickinson.edu/~braught/courses/cs251f02/classes/images/twosCompWheel.png\" width=\"400\" align=\"center\"/>    "
   ]
  },
  {
   "cell_type": "markdown",
   "metadata": {},
   "source": [
    "* **Range** of representable integers by $M$-bit **signed integer** is $[-2^{M-1},2^{M-1}-1]$.\n",
    "    - Julia functions `typemin(T)` and `typemax(T)` give the lowest and highest representable number of a type `T` respectively"
   ]
  },
  {
   "cell_type": "code",
   "execution_count": 9,
   "metadata": {},
   "outputs": [
    {
     "data": {
      "text/plain": [
       "(-9223372036854775808, 9223372036854775807)"
      ]
     },
     "execution_count": 9,
     "metadata": {},
     "output_type": "execute_result"
    }
   ],
   "source": [
    "typemin(Int64), typemax(Int64)"
   ]
  },
  {
   "cell_type": "code",
   "execution_count": 10,
   "metadata": {},
   "outputs": [
    {
     "name": "stdout",
     "output_type": "stream",
     "text": [
      "Int8\t-128\t127\n",
      "Int16\t-32768\t32767\n",
      "Int32\t-2147483648\t2147483647\n",
      "Int64\t-9223372036854775808\t9223372036854775807\n",
      "Int128\t-170141183460469231731687303715884105728\t170141183460469231731687303715884105727\n"
     ]
    }
   ],
   "source": [
    "for T in [Int8, Int16, Int32, Int64, Int128]\n",
    "    println(T, '\\t', typemin(T), '\\t', typemax(T))\n",
    "end"
   ]
  },
  {
   "cell_type": "markdown",
   "metadata": {},
   "source": [
    "### Unsigned integers\n",
    "\n",
    "* For unsigned integers, the range is $[0,2^M-1]$."
   ]
  },
  {
   "cell_type": "code",
   "execution_count": 11,
   "metadata": {},
   "outputs": [
    {
     "name": "stdout",
     "output_type": "stream",
     "text": [
      "UInt8\t0\t255\n",
      "UInt16\t0\t65535\n",
      "UInt32\t0\t4294967295\n",
      "UInt64\t0\t18446744073709551615\n",
      "UInt128\t0\t340282366920938463463374607431768211455\n"
     ]
    }
   ],
   "source": [
    "for t in [UInt8, UInt16, UInt32, UInt64, UInt128]\n",
    "    println(t, '\\t', typemin(t), '\\t', typemax(t))\n",
    "end"
   ]
  },
  {
   "cell_type": "markdown",
   "metadata": {},
   "source": [
    "### `BigInt`\n",
    "\n",
    "Julia `BigInt` type is arbitrary precision."
   ]
  },
  {
   "cell_type": "code",
   "execution_count": 12,
   "metadata": {},
   "outputs": [
    {
     "name": "stdout",
     "output_type": "stream",
     "text": [
      "typemax(Int128) = 170141183460469231731687303715884105727\n",
      "typemax(Int128) + 1 = -170141183460469231731687303715884105728\n",
      "BigInt(typemax(Int128)) + 1 = 170141183460469231731687303715884105728\n"
     ]
    }
   ],
   "source": [
    "@show typemax(Int128)\n",
    "@show typemax(Int128) + 1 # modular arithmetic!\n",
    "@show BigInt(typemax(Int128)) + 1;"
   ]
  },
  {
   "cell_type": "markdown",
   "metadata": {},
   "source": [
    "### Overflow and underflow for integer arithmetic\n",
    "\n",
    "R reports `NA` for integer overflow and underflow.  \n",
    "**Julia outputs the result according to modular arithmetic.**"
   ]
  },
  {
   "cell_type": "code",
   "execution_count": 13,
   "metadata": {},
   "outputs": [
    {
     "name": "stdout",
     "output_type": "stream",
     "text": [
      "typemax(Int32) = 2147483647\n",
      "typemax(Int32) + Int32(1) = -2147483648\n"
     ]
    }
   ],
   "source": [
    "@show typemax(Int32)\n",
    "@show typemax(Int32) + Int32(1); # modular arithmetics!"
   ]
  },
  {
   "cell_type": "code",
   "execution_count": 14,
   "metadata": {},
   "outputs": [
    {
     "data": {
      "text/plain": [
       "RObject{IntSxp}\n",
       "[1] 2147483647\n"
      ]
     },
     "execution_count": 14,
     "metadata": {},
     "output_type": "execute_result"
    }
   ],
   "source": [
    "using RCall\n",
    "\n",
    "R\"\"\"\n",
    ".Machine$integer.max\n",
    "\"\"\""
   ]
  },
  {
   "cell_type": "code",
   "execution_count": 15,
   "metadata": {},
   "outputs": [
    {
     "data": {
      "text/plain": [
       "RObject{IntSxp}\n",
       "[1] 2147483647\n"
      ]
     },
     "execution_count": 15,
     "metadata": {},
     "output_type": "execute_result"
    }
   ],
   "source": [
    "R\"\"\"\n",
    "M <- 32\n",
    "big <- 2^(M-1) - 1\n",
    "as.integer(big)\n",
    "\"\"\""
   ]
  },
  {
   "cell_type": "code",
   "execution_count": 16,
   "metadata": {},
   "outputs": [
    {
     "name": "stderr",
     "output_type": "stream",
     "text": [
      "┌ Warning: RCall.jl: Warning: NAs introduced by coercion to integer range\n",
      "└ @ RCall /Users/huazhou/.julia/packages/RCall/ffM0W/src/io.jl:113\n"
     ]
    },
    {
     "data": {
      "text/plain": [
       "RObject{IntSxp}\n",
       "[1] NA\n"
      ]
     },
     "execution_count": 16,
     "metadata": {},
     "output_type": "execute_result"
    }
   ],
   "source": [
    "R\"\"\"\n",
    "as.integer(big+1)\n",
    "\"\"\""
   ]
  },
  {
   "cell_type": "markdown",
   "metadata": {
    "collapsed": true
   },
   "source": [
    "## Real numbers: floating-number system\n",
    "\n",
    "Floating-point number system is a computer model for real numbers.\n",
    "\n",
    "* Most computer systems adopt the [IEEE 754 standard](https://en.wikipedia.org/wiki/IEEE_floating_point), established in 1985, for floating-point arithmetics.  \n",
    "For the history, see an [interview with William Kahan](http://www.cs.berkeley.edu/~wkahan/ieee754status/754story.html).\n",
    "\n",
    "* In the scientific notation, a real number is represented as\n",
    "$$\\pm d_0.d_1d_2 \\cdots d_p \\times b^e.$$\n",
    "In computer, the _base_ is $b=2$ and the digits $d_i$ are 0 or 1.\n",
    "\n",
    "* **Normalized** vs **denormalized** numbers. For example, decimal number 18 is\n",
    "$$ +1.0010 \\times 2^4 \\quad (\\text{normalized})$$\n",
    "or, equivalently,\n",
    "$$ +0.1001 \\times 2^5 \\quad (\\text{denormalized}).$$\n",
    "\n",
    "* In the floating-number system, computer stores \n",
    "    - sign bit  \n",
    "    - the _fraction_ (or _mantissa_, or _significand_) of the **normalized** representation\n",
    "    - the actual exponent _plus_ a bias"
   ]
  },
  {
   "cell_type": "code",
   "execution_count": 17,
   "metadata": {},
   "outputs": [
    {
     "data": {
      "image/svg+xml": [
       "<?xml version=\"1.0\" encoding=\"utf-8\"?>\n",
       "<svg xmlns=\"http://www.w3.org/2000/svg\" xmlns:xlink=\"http://www.w3.org/1999/xlink\" width=\"600\" height=\"400\" viewBox=\"0 0 2400 1600\">\n",
       "<defs>\n",
       "  <clipPath id=\"clip0300\">\n",
       "    <rect x=\"0\" y=\"0\" width=\"2400\" height=\"1600\"/>\n",
       "  </clipPath>\n",
       "</defs>\n",
       "<polygon clip-path=\"url(#clip0300)\" points=\"\n",
       "0,1600 2400,1600 2400,0 0,0 \n",
       "  \" fill=\"#ffffff\" fill-rule=\"evenodd\" fill-opacity=\"1\"/>\n",
       "<defs>\n",
       "  <clipPath id=\"clip0301\">\n",
       "    <rect x=\"480\" y=\"0\" width=\"1681\" height=\"1600\"/>\n",
       "  </clipPath>\n",
       "</defs>\n",
       "<polygon clip-path=\"url(#clip0300)\" points=\"\n",
       "94.4882,1537.01 2321.26,1537.01 2321.26,47.2441 94.4882,47.2441 \n",
       "  \" fill=\"#ffffff\" fill-rule=\"evenodd\" fill-opacity=\"1\"/>\n",
       "<defs>\n",
       "  <clipPath id=\"clip0302\">\n",
       "    <rect x=\"94\" y=\"47\" width=\"2228\" height=\"1491\"/>\n",
       "  </clipPath>\n",
       "</defs>\n",
       "<polyline clip-path=\"url(#clip0302)\" style=\"stroke:#d968a2; stroke-width:4; stroke-opacity:1; fill:none\" points=\"\n",
       "  157.51,89.4072 160.34,100.239 168.565,110.35 181.785,119.796 199.6,128.628 221.611,136.9 247.418,144.666 276.621,151.979 308.821,158.892 343.619,165.458 \n",
       "  380.614,171.731 419.407,177.764 459.599,183.611 500.79,189.324 542.58,194.958 584.571,200.564 626.361,206.198 667.552,211.911 707.744,217.758 746.537,223.791 \n",
       "  783.533,230.064 818.33,236.631 850.53,243.543 879.734,250.856 905.54,258.622 927.551,266.894 945.366,275.727 958.586,285.172 966.811,295.284 969.641,306.115 \n",
       "  \n",
       "  \"/>\n",
       "<polyline clip-path=\"url(#clip0302)\" style=\"stroke:#d968a2; stroke-width:4; stroke-opacity:1; fill:none\" points=\"\n",
       "  969.641,306.115 969.397,320.089 968.688,334.353 967.549,348.887 966.014,363.669 964.118,378.678 961.894,393.891 959.378,409.287 956.603,424.845 953.604,440.543 \n",
       "  950.417,456.36 947.074,472.273 943.611,488.263 940.061,504.306 936.46,520.381 932.842,536.467 929.241,552.542 925.692,568.585 922.229,584.574 918.886,600.488 \n",
       "  915.698,616.305 912.7,632.003 909.925,647.561 907.409,662.957 905.185,678.17 903.288,693.179 901.753,707.961 900.614,722.495 899.906,736.759 899.662,750.733 \n",
       "  \n",
       "  \"/>\n",
       "<polyline clip-path=\"url(#clip0302)\" style=\"stroke:#d968a2; stroke-width:4; stroke-opacity:1; fill:none\" points=\"\n",
       "  899.662,750.733 901.047,760.225 905.074,769.681 911.545,779.104 920.267,788.497 931.042,797.862 943.675,807.202 957.972,816.52 973.735,825.818 990.77,835.098 \n",
       "  1008.88,844.365 1027.87,853.619 1047.55,862.864 1067.71,872.103 1088.17,881.337 1108.73,890.57 1129.19,899.805 1149.35,909.044 1169.03,918.289 1188.02,927.543 \n",
       "  1206.13,936.809 1223.16,946.09 1238.93,955.388 1253.22,964.706 1265.86,974.046 1276.63,983.411 1285.35,992.804 1291.82,1002.23 1295.85,1011.68 1297.24,1021.17 \n",
       "  \n",
       "  \"/>\n",
       "<polyline clip-path=\"url(#clip0302)\" style=\"stroke:#d968a2; stroke-width:4; stroke-opacity:1; fill:none\" points=\"\n",
       "  1297.24,1021.17 1293.39,1039.16 1282.23,1056.5 1264.29,1073.24 1240.1,1089.44 1210.23,1105.14 1175.2,1120.38 1135.55,1135.22 1091.85,1149.7 1044.61,1163.88 \n",
       "  994.393,1177.79 941.734,1191.48 887.177,1205.01 831.264,1218.42 774.537,1231.76 717.54,1245.08 660.813,1258.42 604.9,1271.83 550.343,1285.36 497.684,1299.06 \n",
       "  447.466,1312.97 400.232,1327.14 356.523,1341.62 316.882,1356.46 281.851,1371.71 251.974,1387.4 227.791,1403.6 209.847,1420.35 198.682,1437.69 194.84,1455.67 \n",
       "  \n",
       "  \"/>\n",
       "<polyline clip-path=\"url(#clip0302)\" style=\"stroke:#d968a2; stroke-width:4; stroke-opacity:1; fill:none\" points=\"\n",
       "  1297.24,1021.17 1300.59,1039.23 1310.32,1056.91 1325.96,1074.26 1347.04,1091.29 1373.09,1108.03 1403.63,1124.52 1438.18,1140.77 1476.28,1156.81 1517.46,1172.68 \n",
       "  1561.24,1188.4 1607.14,1204 1654.7,1219.5 1703.44,1234.93 1752.89,1250.32 1802.58,1265.7 1852.03,1281.09 1900.77,1296.52 1948.33,1312.02 1994.24,1327.62 \n",
       "  2038.01,1343.34 2079.19,1359.21 2117.29,1375.25 2151.85,1391.5 2182.39,1407.99 2208.43,1424.73 2229.51,1441.76 2245.16,1459.11 2254.89,1476.79 2258.24,1494.84 \n",
       "  \n",
       "  \"/>\n",
       "<polyline clip-path=\"url(#clip0302)\" style=\"stroke:#d968a2; stroke-width:4; stroke-opacity:1; fill:none\" points=\"\n",
       "  1297.24,1021.17 1295.69,1035.3 1291.21,1049.53 1284.01,1063.85 1274.3,1078.27 1262.3,1092.77 1248.24,1107.35 1232.32,1121.99 1214.77,1136.69 1195.81,1151.44 \n",
       "  1175.64,1166.24 1154.5,1181.07 1132.6,1195.93 1110.15,1210.81 1087.37,1225.69 1064.48,1240.59 1041.71,1255.48 1019.26,1270.36 997.354,1285.21 976.211,1300.04 \n",
       "  956.049,1314.84 937.084,1329.59 919.534,1344.29 903.618,1358.94 889.553,1373.51 877.557,1388.01 867.848,1402.43 860.643,1416.76 856.16,1430.99 854.618,1445.11 \n",
       "  \n",
       "  \"/>\n",
       "<polyline clip-path=\"url(#clip0302)\" style=\"stroke:#d968a2; stroke-width:4; stroke-opacity:1; fill:none\" points=\"\n",
       "  1297.24,1021.17 1298.78,1034.29 1303.25,1047.48 1310.44,1060.74 1320.14,1074.05 1332.11,1087.42 1346.15,1100.83 1362.04,1114.3 1379.56,1127.8 1398.49,1141.33 \n",
       "  1418.62,1154.89 1439.73,1168.48 1461.59,1182.08 1484,1195.7 1506.74,1209.32 1529.59,1222.95 1552.32,1236.57 1574.73,1250.19 1596.6,1263.79 1617.71,1277.38 \n",
       "  1637.84,1290.94 1656.77,1304.47 1674.29,1317.97 1690.18,1331.43 1704.22,1344.85 1716.19,1358.22 1725.88,1371.53 1733.08,1384.79 1737.55,1397.98 1739.09,1411.09 \n",
       "  \n",
       "  \"/>\n",
       "<polygon clip-path=\"url(#clip0300)\" points=\"\n",
       "157.51,113.741 208.086,101.574 208.086,77.2406 157.51,65.0739 106.934,77.2406 106.934,101.574 157.51,113.741 \n",
       "  \" fill=\"#000000\" fill-rule=\"evenodd\" fill-opacity=\"1\"/>\n",
       "<polygon clip-path=\"url(#clip0300)\" points=\"\n",
       "157.51,112.741 206.007,101.074 206.007,77.7406 157.51,66.0739 109.013,77.7406 109.013,101.074 157.51,112.741 \n",
       "  \" fill=\"#009af9\" fill-rule=\"evenodd\" fill-opacity=\"1\"/>\n",
       "<polygon clip-path=\"url(#clip0300)\" points=\"\n",
       "969.641,329.948 1068.71,318.032 1068.71,294.198 969.641,282.282 870.568,294.198 870.568,318.032 969.641,329.948 \n",
       "  \" fill=\"#000000\" fill-rule=\"evenodd\" fill-opacity=\"1\"/>\n",
       "<polygon clip-path=\"url(#clip0300)\" points=\"\n",
       "969.641,329.448 1066.64,317.782 1066.64,294.448 969.641,282.782 872.646,294.448 872.646,317.782 969.641,329.448 \n",
       "  \" fill=\"#009af9\" fill-rule=\"evenodd\" fill-opacity=\"1\"/>\n",
       "<polygon clip-path=\"url(#clip0300)\" points=\"\n",
       "899.662,774.816 966.403,762.775 966.403,738.691 899.662,726.65 832.92,738.691 832.92,762.775 899.662,774.816 \n",
       "  \" fill=\"#000000\" fill-rule=\"evenodd\" fill-opacity=\"1\"/>\n",
       "<polygon clip-path=\"url(#clip0300)\" points=\"\n",
       "899.662,774.066 964.325,762.4 964.325,739.066 899.662,727.4 834.998,739.066 834.998,762.4 899.662,774.066 \n",
       "  \" fill=\"#009af9\" fill-rule=\"evenodd\" fill-opacity=\"1\"/>\n",
       "<polygon clip-path=\"url(#clip0300)\" points=\"\n",
       "1297.24,1044.74 1509.47,1032.96 1509.47,1009.39 1297.24,997.611 1085,1009.39 1085,1032.96 1297.24,1044.74 \n",
       "  \" fill=\"#000000\" fill-rule=\"evenodd\" fill-opacity=\"1\"/>\n",
       "<polygon clip-path=\"url(#clip0300)\" points=\"\n",
       "1297.24,1044.51 1507.39,1032.84 1507.39,1009.51 1297.24,997.841 1087.08,1009.51 1087.08,1032.84 1297.24,1044.51 \n",
       "  \" fill=\"#009af9\" fill-rule=\"evenodd\" fill-opacity=\"1\"/>\n",
       "<polygon clip-path=\"url(#clip0300)\" points=\"\n",
       "194.84,1479.38 326.245,1467.52 326.245,1443.81 194.84,1431.96 63.4352,1443.81 63.4352,1467.52 194.84,1479.38 \n",
       "  \" fill=\"#000000\" fill-rule=\"evenodd\" fill-opacity=\"1\"/>\n",
       "<polygon clip-path=\"url(#clip0300)\" points=\"\n",
       "194.84,1479 324.167,1467.34 324.167,1444 194.84,1432.34 65.5137,1444 65.5137,1467.34 194.84,1479 \n",
       "  \" fill=\"#009af9\" fill-rule=\"evenodd\" fill-opacity=\"1\"/>\n",
       "<polygon clip-path=\"url(#clip0300)\" points=\"\n",
       "2258.24,1518.61 2373.48,1506.73 2373.48,1482.96 2258.24,1471.08 2143,1482.96 2143,1506.73 2258.24,1518.61 \n",
       "  \" fill=\"#000000\" fill-rule=\"evenodd\" fill-opacity=\"1\"/>\n",
       "<polygon clip-path=\"url(#clip0300)\" points=\"\n",
       "2258.24,1518.18 2371.4,1506.51 2371.4,1483.18 2258.24,1471.51 2145.08,1483.18 2145.08,1506.51 2258.24,1518.18 \n",
       "  \" fill=\"#009af9\" fill-rule=\"evenodd\" fill-opacity=\"1\"/>\n",
       "<polygon clip-path=\"url(#clip0300)\" points=\"\n",
       "854.618,1468.87 969.857,1456.99 969.857,1433.23 854.618,1421.35 739.379,1433.23 739.379,1456.99 854.618,1468.87 \n",
       "  \" fill=\"#000000\" fill-rule=\"evenodd\" fill-opacity=\"1\"/>\n",
       "<polygon clip-path=\"url(#clip0300)\" points=\"\n",
       "854.618,1468.44 967.778,1456.78 967.778,1433.44 854.618,1421.78 741.457,1433.44 741.457,1456.78 854.618,1468.44 \n",
       "  \" fill=\"#009af9\" fill-rule=\"evenodd\" fill-opacity=\"1\"/>\n",
       "<polygon clip-path=\"url(#clip0300)\" points=\"\n",
       "1739.09,1434.86 1854.33,1422.98 1854.33,1399.21 1739.09,1387.33 1623.85,1399.21 1623.85,1422.98 1739.09,1434.86 \n",
       "  \" fill=\"#000000\" fill-rule=\"evenodd\" fill-opacity=\"1\"/>\n",
       "<polygon clip-path=\"url(#clip0300)\" points=\"\n",
       "1739.09,1434.43 1852.25,1422.76 1852.25,1399.43 1739.09,1387.76 1625.93,1399.43 1625.93,1422.76 1739.09,1434.43 \n",
       "  \" fill=\"#009af9\" fill-rule=\"evenodd\" fill-opacity=\"1\"/>\n",
       "<g clip-path=\"url(#clip0300)\">\n",
       "<text style=\"fill:#000000; fill-opacity:1; font-family:Arial,Helvetica Neue,Helvetica,sans-serif; font-size:84px; text-anchor:middle;\" transform=\"rotate(0, 157.51, 119.907)\" x=\"157.51\" y=\"119.907\">Any</text>\n",
       "</g>\n",
       "<g clip-path=\"url(#clip0300)\">\n",
       "<text style=\"fill:#000000; fill-opacity:1; font-family:Arial,Helvetica Neue,Helvetica,sans-serif; font-size:84px; text-anchor:middle;\" transform=\"rotate(0, 969.641, 336.615)\" x=\"969.641\" y=\"336.615\">Number</text>\n",
       "</g>\n",
       "<g clip-path=\"url(#clip0300)\">\n",
       "<text style=\"fill:#000000; fill-opacity:1; font-family:Arial,Helvetica Neue,Helvetica,sans-serif; font-size:84px; text-anchor:middle;\" transform=\"rotate(0, 899.662, 781.233)\" x=\"899.662\" y=\"781.233\">Real</text>\n",
       "</g>\n",
       "<g clip-path=\"url(#clip0300)\">\n",
       "<text style=\"fill:#000000; fill-opacity:1; font-family:Arial,Helvetica Neue,Helvetica,sans-serif; font-size:84px; text-anchor:middle;\" transform=\"rotate(0, 1297.24, 1051.67)\" x=\"1297.24\" y=\"1051.67\">AbstractFloat</text>\n",
       "</g>\n",
       "<g clip-path=\"url(#clip0300)\">\n",
       "<text style=\"fill:#000000; fill-opacity:1; font-family:Arial,Helvetica Neue,Helvetica,sans-serif; font-size:84px; text-anchor:middle;\" transform=\"rotate(0, 194.84, 1486.17)\" x=\"194.84\" y=\"1486.17\">BigFloat</text>\n",
       "</g>\n",
       "<g clip-path=\"url(#clip0300)\">\n",
       "<text style=\"fill:#000000; fill-opacity:1; font-family:Arial,Helvetica Neue,Helvetica,sans-serif; font-size:84px; text-anchor:middle;\" transform=\"rotate(0, 2258.24, 1525.34)\" x=\"2258.24\" y=\"1525.34\">Float16</text>\n",
       "</g>\n",
       "<g clip-path=\"url(#clip0300)\">\n",
       "<text style=\"fill:#000000; fill-opacity:1; font-family:Arial,Helvetica Neue,Helvetica,sans-serif; font-size:84px; text-anchor:middle;\" transform=\"rotate(0, 854.618, 1475.61)\" x=\"854.618\" y=\"1475.61\">Float32</text>\n",
       "</g>\n",
       "<g clip-path=\"url(#clip0300)\">\n",
       "<text style=\"fill:#000000; fill-opacity:1; font-family:Arial,Helvetica Neue,Helvetica,sans-serif; font-size:84px; text-anchor:middle;\" transform=\"rotate(0, 1739.09, 1441.59)\" x=\"1739.09\" y=\"1441.59\">Float64</text>\n",
       "</g>\n",
       "</svg>\n"
      ]
     },
     "execution_count": 17,
     "metadata": {},
     "output_type": "execute_result"
    }
   ],
   "source": [
    "using GraphRecipes, Plots\n",
    "\n",
    "#pyplot(size=(800, 600))\n",
    "gr(size=(600, 400))\n",
    "theme(:default)\n",
    "\n",
    "plot(AbstractFloat, method=:tree, fontsize=4)"
   ]
  },
  {
   "cell_type": "markdown",
   "metadata": {},
   "source": [
    "### Double precision (Float64)\n",
    "\n",
    "<img src=\"./double-precision-numbers.png\" width=\"500\" align=\"center\"/>\n",
    "\n",
    "- Double precision (64 bits = 8 bytes) numbers are the dominant data type in scientific computing.\n",
    "      \n",
    "- In Julia, `Float64` is the type for double precision numbers.    \n",
    "\n",
    "- First bit is sign bit.  \n",
    "\n",
    "- $p=52$ significant bits.\n",
    "\n",
    "- 11 exponent bits: $e_{\\max}=1023$, $e_{\\min}=-1022$, **bias**=1023.  \n",
    "\n",
    "- $e_{\\text{min}}-1$ and $e_{\\text{max}}+1$ are reserved for special numbers.  \n",
    "\n",
    "- range of **magnitude**: $10^{\\pm 308}$ in decimal because $\\log_{10} (2^{1023}) \\approx 308$.  \n",
    "\n",
    "- **precision** to the $\\log_{10}(2^{-52}) \\approx 15$ decimal point."
   ]
  },
  {
   "cell_type": "code",
   "execution_count": 18,
   "metadata": {},
   "outputs": [
    {
     "name": "stdout",
     "output_type": "stream",
     "text": [
      "Double precision:\n",
      "bitstring(Float64(18)) = \"0100000000110010000000000000000000000000000000000000000000000000\"\n",
      "bitstring(Float64(-18)) = \"1100000000110010000000000000000000000000000000000000000000000000\"\n"
     ]
    }
   ],
   "source": [
    "println(\"Double precision:\")\n",
    "@show bitstring(Float64(18)) # 18 in double precision\n",
    "@show bitstring(Float64(-18)); # -18 in double precision"
   ]
  },
  {
   "cell_type": "markdown",
   "metadata": {},
   "source": [
    "### Single precision (Float32)\n",
    "\n",
    "<img src=\"./single-precision-numbers.png\" width=\"500\" align=\"center\"/>\n",
    "\n",
    "- In Julia, `Float32` is the type for single precision numbers.  \n",
    "\n",
    "- First bit is sign bit.  \n",
    "\n",
    "- $p=23$ significant bits.  \n",
    "\n",
    "- 8 exponent bits: $e_{\\max}=127$, $e_{\\min}=-126$, **bias**=127.  \n",
    "\n",
    "- $e_{\\text{min}}-1$ and $e_{\\text{max}}+1$ are reserved for special numbers.  \n",
    "\n",
    "- range of **magnitude**: $10^{\\pm 38}$ in decimal because $\\log_{10} (2^{127}) \\approx 38$.\n",
    "\n",
    "- **precision**: $\\log_{10}(2^{23}) \\approx 7$ decimal point.  "
   ]
  },
  {
   "cell_type": "code",
   "execution_count": 19,
   "metadata": {},
   "outputs": [
    {
     "name": "stdout",
     "output_type": "stream",
     "text": [
      "Single precision:\n",
      "bitstring(Float32(18.0)) = \"01000001100100000000000000000000\"\n",
      "bitstring(Float32(-18.0)) = \"11000001100100000000000000000000\"\n"
     ]
    }
   ],
   "source": [
    "println(\"Single precision:\")\n",
    "@show bitstring(Float32(18.0)) # 18 in single precision\n",
    "@show bitstring(Float32(-18.0)); # -18 in single precision"
   ]
  },
  {
   "cell_type": "markdown",
   "metadata": {},
   "source": [
    "### Half precision (Float16)\n",
    "\n",
    "<img src=\"./half-precision-numbers.png\" width=\"200\" align=\"center\"/>\n",
    "    \n",
    "- In Julia, `Float16` is the type for half precision numbers.\n",
    "\n",
    "- First bit is sign bit.  \n",
    "\n",
    "- $p=10$ significant bits.  \n",
    "\n",
    "- 5 exponent bits: $e_{\\max}=15$, $e_{\\min}=-14$, bias=15.  \n",
    "\n",
    "- $e_{\\text{min}}-1$ and $e_{\\text{max}}+1$ are reserved for special numbers.  \n",
    "\n",
    "- range of **magnitude**: $10^{\\pm 4}$ in decimal because $\\log_{10} (2^{15}) \\approx 4$.  \n",
    "\n",
    "- **precision**: $\\log_{10}(2^{10}) \\approx 3$ decimal point.      "
   ]
  },
  {
   "cell_type": "code",
   "execution_count": 20,
   "metadata": {},
   "outputs": [
    {
     "name": "stdout",
     "output_type": "stream",
     "text": [
      "Half precision:\n",
      "bitstring(Float16(18)) = \"0100110010000000\"\n",
      "bitstring(Float16(-18)) = \"1100110010000000\"\n"
     ]
    }
   ],
   "source": [
    "println(\"Half precision:\")\n",
    "@show bitstring(Float16(18)) # 18 in half precision\n",
    "@show bitstring(Float16(-18)); # -18 in half precision"
   ]
  },
  {
   "cell_type": "markdown",
   "metadata": {},
   "source": [
    "### Special floating-point numbers. \n",
    "\n",
    "- Exponent $e_{\\max}+1$ plus a zero mantissa means $\\pm \\infty$."
   ]
  },
  {
   "cell_type": "code",
   "execution_count": 21,
   "metadata": {},
   "outputs": [
    {
     "name": "stdout",
     "output_type": "stream",
     "text": [
      "bitstring(Inf) = \"0111111111110000000000000000000000000000000000000000000000000000\"\n",
      "bitstring(-Inf) = \"1111111111110000000000000000000000000000000000000000000000000000\"\n"
     ]
    }
   ],
   "source": [
    "@show bitstring(Inf) # Inf in double precision\n",
    "@show bitstring(-Inf); # -Inf in double precision"
   ]
  },
  {
   "cell_type": "markdown",
   "metadata": {},
   "source": [
    "- Exponent $e_{\\max}+1$ plus a nonzero mantissa means `NaN`. `NaN` could be produced from `0 / 0`, `0 * Inf`, ...  \n",
    "\n",
    "- In general `NaN ≠ NaN` bitwise. Test whether a number is `NaN` by `isnan` function.  "
   ]
  },
  {
   "cell_type": "code",
   "execution_count": 22,
   "metadata": {},
   "outputs": [
    {
     "name": "stdout",
     "output_type": "stream",
     "text": [
      "bitstring(0 / 0) = \"1111111111111000000000000000000000000000000000000000000000000000\"\n",
      "bitstring(0Inf) = \"1111111111111000000000000000000000000000000000000000000000000000\"\n"
     ]
    }
   ],
   "source": [
    "@show bitstring(0 / 0) # NaN\n",
    "@show bitstring(0 * Inf); # NaN"
   ]
  },
  {
   "cell_type": "markdown",
   "metadata": {},
   "source": [
    "- Exponent $e_{\\min}-1$ with a zero mantissa represents the real number 0.  "
   ]
  },
  {
   "cell_type": "code",
   "execution_count": 23,
   "metadata": {},
   "outputs": [
    {
     "name": "stdout",
     "output_type": "stream",
     "text": [
      "bitstring(0.0) = \"0000000000000000000000000000000000000000000000000000000000000000\"\n"
     ]
    }
   ],
   "source": [
    "@show bitstring(0.0); # 0 in double precision "
   ]
  },
  {
   "cell_type": "markdown",
   "metadata": {},
   "source": [
    "- Exponent $e_{\\min}-1$ with a nonzero mantissa are for numbers less than $b^{e_{\\min}}$.  \n",
    "    Numbers are _denormalized_ in the range $(0,b^{e_{\\min}})$ -- **graceful underflow**. "
   ]
  },
  {
   "cell_type": "code",
   "execution_count": 24,
   "metadata": {},
   "outputs": [
    {
     "name": "stdout",
     "output_type": "stream",
     "text": [
      "nextfloat(0.0) = 5.0e-324\n",
      "bitstring(nextfloat(0.0)) = \"0000000000000000000000000000000000000000000000000000000000000001\"\n"
     ]
    }
   ],
   "source": [
    "@show nextfloat(0.0) # next representable number\n",
    "@show bitstring(nextfloat(0.0)); # denormalized"
   ]
  },
  {
   "cell_type": "markdown",
   "metadata": {},
   "source": [
    "### Rounding\n",
    "\n",
    "* Rounding is necessary whenever a number has more than $p$ significand bits. Most computer systems use the default IEEE 754 _round to nearest_ mode (also called _ties to even_ mode). Julia offers several [rounding modes](https://docs.julialang.org/en/v1/base/math/#Base.Rounding.RoundingMode), the default being [`RoundNearest`](https://docs.julialang.org/en/v1/base/math/#Base.Rounding.RoundNearest). For example, the number 0.1 in decimal system cannot be represented accurately as a floating point number:\n",
    "$$ 0.1 = 1.10011001... \\times 2^{-4} $$"
   ]
  },
  {
   "cell_type": "code",
   "execution_count": 25,
   "metadata": {},
   "outputs": [
    {
     "name": "stdout",
     "output_type": "stream",
     "text": [
      "bitstring(0.1f0) = \"00111101110011001100110011001101\"\n",
      "bitstring(0.1) = \"0011111110111001100110011001100110011001100110011001100110011010\"\n"
     ]
    }
   ],
   "source": [
    "@show bitstring(0.1f0) # single precision Float32, 1001 gets rounded to 101(0)\n",
    "@show bitstring(0.1);  # double precision Float64"
   ]
  },
  {
   "cell_type": "markdown",
   "metadata": {},
   "source": [
    "### Summary\n",
    "\n",
    "- Single precision: range $\\pm 10^{\\pm 38}$ with precision up to 7 decimal digits.\n",
    "\n",
    "- Double precision: range $\\pm 10^{\\pm 308}$ with precision up to 16 decimal digits.  \n",
    "\n",
    "- The floating-point numbers do not occur uniformly over the real number line\n",
    "    <img src=\"http://www.volkerschatz.com/science/pics/fltscale-wh.png\" width=\"700\" align=\"center\"/>\n",
    "    Each magnitude has same number of representible numbers\n",
    "    \n",
    "- **Machine epsilons** are the spacings of numbers around 1: \n",
    "    $$\\epsilon_{\\min}=b^{-p}, \\quad  \\epsilon_{\\max} = b^{1-p}.$$\n",
    "    <img src=\"./machine_epsilons.png\" width=\"500\" align=\"center\"/>"
   ]
  },
  {
   "cell_type": "code",
   "execution_count": 26,
   "metadata": {},
   "outputs": [
    {
     "name": "stdout",
     "output_type": "stream",
     "text": [
      "eps(Float32) = 1.1920929f-7\n",
      "eps(Float64) = 2.220446049250313e-16\n",
      "eps(100.0) = 1.4210854715202004e-14\n",
      "eps(0.0) = 5.0e-324\n",
      "x = 1.25f0 = 1.25f0\n",
      "(prevfloat(x), x, nextfloat(x)) = (1.2499999f0, 1.25f0, 1.2500001f0)\n",
      "(bitstring(prevfloat(x)), bitstring(x), bitstring(nextfloat(x))) = (\"00111111100111111111111111111111\", \"00111111101000000000000000000000\", \"00111111101000000000000000000001\")\n"
     ]
    }
   ],
   "source": [
    "@show eps(Float32)  # machine epsilon for a floating point type\n",
    "@show eps(Float64)  # same as eps()\n",
    "# eps(x) is the spacing after x\n",
    "@show eps(100.0)\n",
    "@show eps(0.0)\n",
    "# nextfloat(x) and prevfloat(x) give the neighbors of x\n",
    "@show x = 1.25f0\n",
    "@show prevfloat(x), x, nextfloat(x)\n",
    "@show bitstring(prevfloat(x)), bitstring(x), bitstring(nextfloat(x));"
   ]
  },
  {
   "cell_type": "markdown",
   "metadata": {},
   "source": [
    "* In R, the variable `.Machine` contains numerical characteristics of the machine."
   ]
  },
  {
   "cell_type": "code",
   "execution_count": 27,
   "metadata": {},
   "outputs": [
    {
     "data": {
      "text/plain": [
       "RObject{VecSxp}\n",
       "$double.eps\n",
       "[1] 2.220446e-16\n",
       "\n",
       "$double.neg.eps\n",
       "[1] 1.110223e-16\n",
       "\n",
       "$double.xmin\n",
       "[1] 2.225074e-308\n",
       "\n",
       "$double.xmax\n",
       "[1] 1.797693e+308\n",
       "\n",
       "$double.base\n",
       "[1] 2\n",
       "\n",
       "$double.digits\n",
       "[1] 53\n",
       "\n",
       "$double.rounding\n",
       "[1] 5\n",
       "\n",
       "$double.guard\n",
       "[1] 0\n",
       "\n",
       "$double.ulp.digits\n",
       "[1] -52\n",
       "\n",
       "$double.neg.ulp.digits\n",
       "[1] -53\n",
       "\n",
       "$double.exponent\n",
       "[1] 11\n",
       "\n",
       "$double.min.exp\n",
       "[1] -1022\n",
       "\n",
       "$double.max.exp\n",
       "[1] 1024\n",
       "\n",
       "$integer.max\n",
       "[1] 2147483647\n",
       "\n",
       "$sizeof.long\n",
       "[1] 8\n",
       "\n",
       "$sizeof.longlong\n",
       "[1] 8\n",
       "\n",
       "$sizeof.longdouble\n",
       "[1] 16\n",
       "\n",
       "$sizeof.pointer\n",
       "[1] 8\n",
       "\n"
      ]
     },
     "execution_count": 27,
     "metadata": {},
     "output_type": "execute_result"
    }
   ],
   "source": [
    "R\"\"\"\n",
    ".Machine\n",
    "\"\"\""
   ]
  },
  {
   "cell_type": "markdown",
   "metadata": {},
   "source": [
    "* Julia provides `Float16` (half precision), `Float32` (single precision), `Float64` (double precision), and `BigFloat` (arbitrary precision)."
   ]
  },
  {
   "cell_type": "markdown",
   "metadata": {},
   "source": [
    "### Overflow and underflow of floating-point number\n",
    "\n",
    "* For double precision, the range is $\\pm 10^{\\pm 308}$. In most situations, underflow (magnitude of result is less than $10^{-308}$) is preferred over overflow (magnitude of result is larger than $10^{-308}$). Overflow produces $\\pm \\inf$. Underflow yields zeros or denormalized numbers. \n",
    "\n",
    "* E.g., the logit link function is\n",
    "$$p = \\frac{\\exp (x^T \\beta)}{1 + \\exp (x^T \\beta)} = \\frac{1}{1+\\exp(- x^T \\beta)}.$$\n",
    "The former expression can easily lead to `Inf / Inf = NaN`, while the latter expression leads to graceful underflow.\n",
    "\n",
    "* `floatmin` and `floatmax` functions gives largest and smallest _finite_ number represented by a type."
   ]
  },
  {
   "cell_type": "code",
   "execution_count": 28,
   "metadata": {},
   "outputs": [
    {
     "name": "stdout",
     "output_type": "stream",
     "text": [
      "Float16\t6.104e-5\t6.55e4\t-Inf\tInf\t0.000977\n",
      "Float32\t1.1754944e-38\t3.4028235e38\t-Inf\tInf\t1.1920929e-7\n",
      "Float64\t2.2250738585072014e-308\t1.7976931348623157e308\t-Inf\tInf\t2.220446049250313e-16\n"
     ]
    }
   ],
   "source": [
    "for T in [Float16, Float32, Float64]\n",
    "    println(T, '\\t', floatmin(T), '\\t', floatmax(T), '\\t', typemin(T), \n",
    "        '\\t', typemax(T), '\\t', eps(T))\n",
    "end"
   ]
  },
  {
   "cell_type": "markdown",
   "metadata": {},
   "source": [
    "* `BigFloat` in Julia offers arbitrary precision."
   ]
  },
  {
   "cell_type": "code",
   "execution_count": 29,
   "metadata": {},
   "outputs": [
    {
     "name": "stdout",
     "output_type": "stream",
     "text": [
      "precision(BigFloat) = 256\n",
      "floatmin(BigFloat) = 8.50969131174083613912978790962048280567755996982969624908264897850135431080301e-1388255822130839284\n",
      "floatmax(BigFloat) = 5.875653789111587590936911998878442589938516392745498308333779606469323584389875e+1388255822130839282\n"
     ]
    }
   ],
   "source": [
    "@show precision(BigFloat)\n",
    "@show floatmin(BigFloat)\n",
    "@show floatmax(BigFloat);"
   ]
  },
  {
   "cell_type": "code",
   "execution_count": 30,
   "metadata": {},
   "outputs": [
    {
     "name": "stdout",
     "output_type": "stream",
     "text": [
      "BigFloat(π) = 3.141592653589793238462643383279502884197169399375105820974944592307816406286198\n",
      "BigFloat(π) = 3.141592653589793238462643383279502884197169399375105820974944592307816406286208998628034825342117067982148086513282306647093844609550582231725359408128481117450284102701938521105559644622948954930381964428810975665933446128475648233786783165271201909145648566923460348610454326648213393607260249141273724586997\n"
     ]
    }
   ],
   "source": [
    "@show BigFloat(π); # default precision for BigFloat is 256 bits\n",
    "# set precision to 1024 bits\n",
    "setprecision(BigFloat, 1024) do \n",
    "    @show BigFloat(π)\n",
    "end;"
   ]
  },
  {
   "cell_type": "markdown",
   "metadata": {},
   "source": [
    "## Catastrophic cancellation\n",
    "\n",
    "* **Scenario 1**: Addition or subtraction of two numbers of widely different magnitudes: $a+b$ or $a-b$ where $a \\gg b$ or $a \\ll b$. We loose the precision in the number of smaller magnitude. Consider \n",
    "$$\\begin{eqnarray*}\n",
    "    a &=& x.xxx ... \\times 2^{30} \\\\  \n",
    "    b &=& y.yyy... \\times 2^{-30}\n",
    "\\end{eqnarray*}$$\n",
    "What happens when computer calculates $a+b$? We get $a+b=a$!"
   ]
  },
  {
   "cell_type": "code",
   "execution_count": 31,
   "metadata": {},
   "outputs": [
    {
     "data": {
      "text/plain": [
       "true"
      ]
     },
     "execution_count": 31,
     "metadata": {},
     "output_type": "execute_result"
    }
   ],
   "source": [
    "a = 1.0 * 2.0^30\n",
    "b = 1.0 * 2.0^-30\n",
    "a + b == a"
   ]
  },
  {
   "cell_type": "markdown",
   "metadata": {},
   "source": [
    "* **Scenario 2**: Subtraction of two nearly equal numbers eliminates significant digits.  $a-b$ where $a \\approx b$. Consider \n",
    "$$\\begin{eqnarray*}\n",
    "    a &=& x.xxxxxxxxxx1ssss  \\\\\n",
    "    b &=& x.xxxxxxxxxx0tttt\n",
    "\\end{eqnarray*}$$\n",
    "The result is $1.vvvvu...u$ where $u$ are unassigned digits."
   ]
  },
  {
   "cell_type": "code",
   "execution_count": 32,
   "metadata": {},
   "outputs": [
    {
     "name": "stdout",
     "output_type": "stream",
     "text": [
      "bitstring(a) = \"00111111100111100000011001010001\"\n",
      "bitstring(b) = \"00111111100111100000011001010000\"\n",
      "a - b = 1.1920929f-7\n",
      "bitstring(a - b) = \"00110100000000000000000000000000\"\n"
     ]
    }
   ],
   "source": [
    "a = 1.2345678f0 # rounding\n",
    "@show bitstring(a) # rounding\n",
    "b = 1.2345677f0\n",
    "@show bitstring(b)\n",
    "@show a - b # correct result should be 1e-7\n",
    "@show bitstring(a - b);"
   ]
  },
  {
   "cell_type": "markdown",
   "metadata": {},
   "source": [
    "* Implications for numerical computation\n",
    "    - Rule 1: add small numbers together before adding larger ones  \n",
    "    - Rule 2: add numbers of like magnitude together (paring). When all numbers are of same sign and similar magnitude, add in pairs so each stage the summands are of similar magnitude  \n",
    "    - Rule 3: avoid substraction of two numbers that are nearly equal"
   ]
  },
  {
   "cell_type": "markdown",
   "metadata": {},
   "source": [
    "### Algebraic laws\n",
    "\n",
    "Floating-point numbers may violate many algebraic laws we are familiar with, such associative and distributive laws. See Homework 1 problems."
   ]
  },
  {
   "cell_type": "markdown",
   "metadata": {},
   "source": [
    "## Further reading\n",
    "\n",
    "* Textbook treatment, e.g., Chapter II.2 of [Computational Statistics](http://ucla.worldcat.org/title/computational-statistics/oclc/437345409&referer=brief_results) by James Gentle (2010).\n",
    "\n",
    "* [What every computer scientist should know about floating-point arithmetic](http://hua-zhou.github.io/teaching/biostatm280-2017spring/readings/Goldberg91FloatingPoint.pdf) by David Goldberg (1991)."
   ]
  }
 ],
 "metadata": {
  "kernelspec": {
   "display_name": "Julia 1.1.0",
   "language": "julia",
   "name": "julia-1.1"
  },
  "language_info": {
   "file_extension": ".jl",
   "mimetype": "application/julia",
   "name": "julia",
   "version": "1.1.0"
  },
  "toc": {
   "colors": {
    "hover_highlight": "#DAA520",
    "running_highlight": "#FF0000",
    "selected_highlight": "#FFD700"
   },
   "moveMenuLeft": true,
   "nav_menu": {
    "height": "250px",
    "width": "252px"
   },
   "navigate_menu": true,
   "number_sections": true,
   "sideBar": true,
   "skip_h1_title": true,
   "threshold": 4,
   "toc_cell": true,
   "toc_section_display": "block",
   "toc_window_display": true,
   "widenNotebook": false
  }
 },
 "nbformat": 4,
 "nbformat_minor": 2
}
